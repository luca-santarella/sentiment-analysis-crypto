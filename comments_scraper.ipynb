{
 "cells": [
  {
   "cell_type": "code",
   "execution_count": 9,
   "id": "DOGYP9Mx5Rh8",
   "metadata": {
    "id": "DOGYP9Mx5Rh8"
   },
   "outputs": [
    {
     "name": "stdout",
     "output_type": "stream",
     "text": [
      "Requirement already satisfied: pmaw in c:\\users\\lucas\\appdata\\local\\programs\\python\\python310\\lib\\site-packages (2.1.3)\n",
      "Requirement already satisfied: praw in c:\\users\\lucas\\appdata\\local\\programs\\python\\python310\\lib\\site-packages (from pmaw) (7.6.0)\n",
      "Requirement already satisfied: requests in c:\\users\\lucas\\appdata\\local\\programs\\python\\python310\\lib\\site-packages (from pmaw) (2.28.1)\n",
      "Requirement already satisfied: prawcore<3,>=2.1 in c:\\users\\lucas\\appdata\\local\\programs\\python\\python310\\lib\\site-packages (from praw->pmaw) (2.3.0)\n",
      "Requirement already satisfied: update-checker>=0.18 in c:\\users\\lucas\\appdata\\local\\programs\\python\\python310\\lib\\site-packages (from praw->pmaw) (0.18.0)\n",
      "Requirement already satisfied: websocket-client>=0.54.0 in c:\\users\\lucas\\appdata\\local\\programs\\python\\python310\\lib\\site-packages (from praw->pmaw) (1.4.1)\n",
      "Requirement already satisfied: idna<4,>=2.5 in c:\\users\\lucas\\appdata\\local\\programs\\python\\python310\\lib\\site-packages (from requests->pmaw) (3.3)\n",
      "Requirement already satisfied: urllib3<1.27,>=1.21.1 in c:\\users\\lucas\\appdata\\local\\programs\\python\\python310\\lib\\site-packages (from requests->pmaw) (1.26.12)\n",
      "Requirement already satisfied: certifi>=2017.4.17 in c:\\users\\lucas\\appdata\\local\\programs\\python\\python310\\lib\\site-packages (from requests->pmaw) (2022.6.15.1)\n",
      "Requirement already satisfied: charset-normalizer<3,>=2 in c:\\users\\lucas\\appdata\\local\\programs\\python\\python310\\lib\\site-packages (from requests->pmaw) (2.1.1)\n"
     ]
    }
   ],
   "source": [
    "!pip install pmaw"
   ]
  },
  {
   "cell_type": "code",
   "execution_count": 10,
   "id": "vietnamese-positive",
   "metadata": {
    "id": "vietnamese-positive"
   },
   "outputs": [],
   "source": [
    "import pandas as pd\n",
    "from pmaw import PushshiftAPI\n",
    "import datetime as dt"
   ]
  },
  {
   "cell_type": "code",
   "execution_count": 11,
   "id": "removed-forth",
   "metadata": {
    "id": "removed-forth"
   },
   "outputs": [],
   "source": [
    "api = PushshiftAPI() "
   ]
  },
  {
   "cell_type": "code",
   "execution_count": 12,
   "id": "thrown-mystery",
   "metadata": {
    "id": "thrown-mystery"
   },
   "outputs": [],
   "source": [
    "before = int(dt.datetime(2022,8,1,0,0).timestamp())\n",
    "after = int(dt.datetime(2022,7,1,1,0).timestamp())"
   ]
  },
  {
   "cell_type": "code",
   "execution_count": 13,
   "id": "stuffed-diversity",
   "metadata": {
    "colab": {
     "base_uri": "https://localhost:8080/"
    },
    "id": "stuffed-diversity",
    "outputId": "569a215a-c0c1-4878-b77a-7401384a0b86"
   },
   "outputs": [
    {
     "name": "stdout",
     "output_type": "stream",
     "text": [
      "Retrieved 356157 comments from Pushshift\n"
     ]
    }
   ],
   "source": [
    "subreddit=\"cryptocurrency\"\n",
    "limit=500000\n",
    "fields = [\"created_utc\",\"body\"]\n",
    "comments = api.search_comments(fields=fields, subreddit=subreddit, limit=limit, before=before,\n",
    "                               after=after)\n",
    "print(f'Retrieved {len(comments)} comments from Pushshift')"
   ]
  },
  {
   "cell_type": "code",
   "execution_count": 14,
   "id": "funded-capture",
   "metadata": {
    "id": "funded-capture"
   },
   "outputs": [],
   "source": [
    "comments_df = pd.DataFrame(comments)"
   ]
  },
  {
   "cell_type": "code",
   "execution_count": 15,
   "id": "patient-preserve",
   "metadata": {
    "id": "patient-preserve"
   },
   "outputs": [],
   "source": [
    "comments_df.to_csv('./july_cc.csv', header=True, index=False, columns=list(comments_df.axes[1]))"
   ]
  },
  {
   "cell_type": "code",
   "execution_count": 16,
   "id": "QNQKuGvEN0XO",
   "metadata": {
    "colab": {
     "background_save": true
    },
    "id": "QNQKuGvEN0XO"
   },
   "outputs": [
    {
     "data": {
      "text/html": [
       "<div>\n",
       "<style scoped>\n",
       "    .dataframe tbody tr th:only-of-type {\n",
       "        vertical-align: middle;\n",
       "    }\n",
       "\n",
       "    .dataframe tbody tr th {\n",
       "        vertical-align: top;\n",
       "    }\n",
       "\n",
       "    .dataframe thead th {\n",
       "        text-align: right;\n",
       "    }\n",
       "</style>\n",
       "<table border=\"1\" class=\"dataframe\">\n",
       "  <thead>\n",
       "    <tr style=\"text-align: right;\">\n",
       "      <th></th>\n",
       "      <th>body</th>\n",
       "      <th>created_utc</th>\n",
       "    </tr>\n",
       "  </thead>\n",
       "  <tbody>\n",
       "    <tr>\n",
       "      <th>0</th>\n",
       "      <td>5 million people on this sub think the same as...</td>\n",
       "      <td>1657432437</td>\n",
       "    </tr>\n",
       "    <tr>\n",
       "      <th>1</th>\n",
       "      <td>Next stop 200k</td>\n",
       "      <td>1657432426</td>\n",
       "    </tr>\n",
       "    <tr>\n",
       "      <th>2</th>\n",
       "      <td>The customers now blame him \\^\\^</td>\n",
       "      <td>1657432422</td>\n",
       "    </tr>\n",
       "    <tr>\n",
       "      <th>3</th>\n",
       "      <td>Instructions unclear, used emergency funds to ...</td>\n",
       "      <td>1657432416</td>\n",
       "    </tr>\n",
       "    <tr>\n",
       "      <th>4</th>\n",
       "      <td>Look at him, he was forced to retire at such a...</td>\n",
       "      <td>1657432400</td>\n",
       "    </tr>\n",
       "    <tr>\n",
       "      <th>...</th>\n",
       "      <td>...</td>\n",
       "      <td>...</td>\n",
       "    </tr>\n",
       "    <tr>\n",
       "      <th>356152</th>\n",
       "      <td>ETC will be a fine POW EVM blockchain accordin...</td>\n",
       "      <td>1659024445</td>\n",
       "    </tr>\n",
       "    <tr>\n",
       "      <th>356153</th>\n",
       "      <td>Holy shit... good thing I dropped this token R...</td>\n",
       "      <td>1659024445</td>\n",
       "    </tr>\n",
       "    <tr>\n",
       "      <th>356154</th>\n",
       "      <td>We're still very early. Lightning is only a co...</td>\n",
       "      <td>1659024442</td>\n",
       "    </tr>\n",
       "    <tr>\n",
       "      <th>356155</th>\n",
       "      <td>What a bullshit post indeed! Nirvana price was...</td>\n",
       "      <td>1659024441</td>\n",
       "    </tr>\n",
       "    <tr>\n",
       "      <th>356156</th>\n",
       "      <td>I’m not disagreeing with the utility of tokens...</td>\n",
       "      <td>1659024435</td>\n",
       "    </tr>\n",
       "  </tbody>\n",
       "</table>\n",
       "<p>356157 rows × 2 columns</p>\n",
       "</div>"
      ],
      "text/plain": [
       "                                                     body  created_utc\n",
       "0       5 million people on this sub think the same as...   1657432437\n",
       "1                                          Next stop 200k   1657432426\n",
       "2                        The customers now blame him \\^\\^   1657432422\n",
       "3       Instructions unclear, used emergency funds to ...   1657432416\n",
       "4       Look at him, he was forced to retire at such a...   1657432400\n",
       "...                                                   ...          ...\n",
       "356152  ETC will be a fine POW EVM blockchain accordin...   1659024445\n",
       "356153  Holy shit... good thing I dropped this token R...   1659024445\n",
       "356154  We're still very early. Lightning is only a co...   1659024442\n",
       "356155  What a bullshit post indeed! Nirvana price was...   1659024441\n",
       "356156  I’m not disagreeing with the utility of tokens...   1659024435\n",
       "\n",
       "[356157 rows x 2 columns]"
      ]
     },
     "execution_count": 16,
     "metadata": {},
     "output_type": "execute_result"
    }
   ],
   "source": [
    "comments_df"
   ]
  },
  {
   "cell_type": "code",
   "execution_count": null,
   "id": "d47a7d04",
   "metadata": {},
   "outputs": [],
   "source": []
  }
 ],
 "metadata": {
  "colab": {
   "collapsed_sections": [],
   "name": "comments-scraper.ipynb",
   "provenance": []
  },
  "kernelspec": {
   "display_name": "Python 3 (ipykernel)",
   "language": "python",
   "name": "python3"
  },
  "language_info": {
   "codemirror_mode": {
    "name": "ipython",
    "version": 3
   },
   "file_extension": ".py",
   "mimetype": "text/x-python",
   "name": "python",
   "nbconvert_exporter": "python",
   "pygments_lexer": "ipython3",
   "version": "3.10.7"
  }
 },
 "nbformat": 4,
 "nbformat_minor": 5
}
