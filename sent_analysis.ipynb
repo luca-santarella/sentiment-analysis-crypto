{
 "cells": [
  {
   "cell_type": "markdown",
   "metadata": {
    "id": "9eH3lSQzqWlQ"
   },
   "source": [
    "# Sentiment Analysis on crypto related comments using transformers\n",
    "\n",
    "**Luca Santarella (A.Y. 2021/2022)**\n",
    "\n",
    "\n",
    "The datasets and the fine-tuned models can be downloaded from here: https://drive.google.com/drive/folders/1QDCGFKcqSQpaK9UGHUsJpi4RWYYv8LCK?usp=sharing\n"
   ]
  },
  {
   "cell_type": "code",
   "execution_count": 1,
   "metadata": {
    "colab": {
     "base_uri": "https://localhost:8080/"
    },
    "id": "eoqrHN8p5WRv",
    "outputId": "7a5444a5-316e-4d02-8cd8-187daff2cd28"
   },
   "outputs": [
    {
     "name": "stdout",
     "output_type": "stream",
     "text": [
      "Requirement already satisfied: datasets in c:\\users\\lucas\\appdata\\local\\programs\\python\\python310\\lib\\site-packages (2.4.0)\n",
      "Requirement already satisfied: huggingface-hub<1.0.0,>=0.1.0 in c:\\users\\lucas\\appdata\\local\\programs\\python\\python310\\lib\\site-packages (from datasets) (0.9.1)\n",
      "Requirement already satisfied: dill<0.3.6 in c:\\users\\lucas\\appdata\\local\\programs\\python\\python310\\lib\\site-packages (from datasets) (0.3.5.1)\n",
      "Requirement already satisfied: pandas in c:\\users\\lucas\\appdata\\local\\programs\\python\\python310\\lib\\site-packages (from datasets) (1.4.4)\n",
      "Requirement already satisfied: tqdm>=4.62.1 in c:\\users\\lucas\\appdata\\local\\programs\\python\\python310\\lib\\site-packages (from datasets) (4.64.1)\n",
      "Requirement already satisfied: multiprocess in c:\\users\\lucas\\appdata\\local\\programs\\python\\python310\\lib\\site-packages (from datasets) (0.70.13)\n",
      "Requirement already satisfied: responses<0.19 in c:\\users\\lucas\\appdata\\local\\programs\\python\\python310\\lib\\site-packages (from datasets) (0.18.0)\n",
      "Requirement already satisfied: requests>=2.19.0 in c:\\users\\lucas\\appdata\\local\\programs\\python\\python310\\lib\\site-packages (from datasets) (2.28.1)\n",
      "Requirement already satisfied: xxhash in c:\\users\\lucas\\appdata\\local\\programs\\python\\python310\\lib\\site-packages (from datasets) (3.0.0)\n",
      "Requirement already satisfied: fsspec[http]>=2021.11.1 in c:\\users\\lucas\\appdata\\local\\programs\\python\\python310\\lib\\site-packages (from datasets) (2022.8.2)\n",
      "Requirement already satisfied: pyarrow>=6.0.0 in c:\\users\\lucas\\appdata\\local\\programs\\python\\python310\\lib\\site-packages (from datasets) (9.0.0)\n",
      "Requirement already satisfied: packaging in c:\\users\\lucas\\appdata\\local\\programs\\python\\python310\\lib\\site-packages (from datasets) (21.3)\n",
      "Requirement already satisfied: numpy>=1.17 in c:\\users\\lucas\\appdata\\local\\programs\\python\\python310\\lib\\site-packages (from datasets) (1.23.3)\n",
      "Requirement already satisfied: aiohttp in c:\\users\\lucas\\appdata\\local\\programs\\python\\python310\\lib\\site-packages (from datasets) (3.8.1)\n",
      "Requirement already satisfied: attrs>=17.3.0 in c:\\users\\lucas\\appdata\\local\\programs\\python\\python310\\lib\\site-packages (from aiohttp->datasets) (22.1.0)\n",
      "Requirement already satisfied: aiosignal>=1.1.2 in c:\\users\\lucas\\appdata\\local\\programs\\python\\python310\\lib\\site-packages (from aiohttp->datasets) (1.2.0)\n",
      "Requirement already satisfied: frozenlist>=1.1.1 in c:\\users\\lucas\\appdata\\local\\programs\\python\\python310\\lib\\site-packages (from aiohttp->datasets) (1.3.1)\n",
      "Requirement already satisfied: yarl<2.0,>=1.0 in c:\\users\\lucas\\appdata\\local\\programs\\python\\python310\\lib\\site-packages (from aiohttp->datasets) (1.8.1)\n",
      "Requirement already satisfied: async-timeout<5.0,>=4.0.0a3 in c:\\users\\lucas\\appdata\\local\\programs\\python\\python310\\lib\\site-packages (from aiohttp->datasets) (4.0.2)\n",
      "Requirement already satisfied: multidict<7.0,>=4.5 in c:\\users\\lucas\\appdata\\local\\programs\\python\\python310\\lib\\site-packages (from aiohttp->datasets) (6.0.2)\n",
      "Requirement already satisfied: charset-normalizer<3.0,>=2.0 in c:\\users\\lucas\\appdata\\local\\programs\\python\\python310\\lib\\site-packages (from aiohttp->datasets) (2.1.1)\n",
      "Requirement already satisfied: typing-extensions>=3.7.4.3 in c:\\users\\lucas\\appdata\\local\\programs\\python\\python310\\lib\\site-packages (from huggingface-hub<1.0.0,>=0.1.0->datasets) (4.3.0)\n",
      "Requirement already satisfied: filelock in c:\\users\\lucas\\appdata\\local\\programs\\python\\python310\\lib\\site-packages (from huggingface-hub<1.0.0,>=0.1.0->datasets) (3.8.0)\n",
      "Requirement already satisfied: pyyaml>=5.1 in c:\\users\\lucas\\appdata\\local\\programs\\python\\python310\\lib\\site-packages (from huggingface-hub<1.0.0,>=0.1.0->datasets) (6.0)\n",
      "Requirement already satisfied: pyparsing!=3.0.5,>=2.0.2 in c:\\users\\lucas\\appdata\\local\\programs\\python\\python310\\lib\\site-packages (from packaging->datasets) (3.0.9)\n",
      "Requirement already satisfied: certifi>=2017.4.17 in c:\\users\\lucas\\appdata\\local\\programs\\python\\python310\\lib\\site-packages (from requests>=2.19.0->datasets) (2022.6.15.1)\n",
      "Requirement already satisfied: idna<4,>=2.5 in c:\\users\\lucas\\appdata\\local\\programs\\python\\python310\\lib\\site-packages (from requests>=2.19.0->datasets) (3.3)\n",
      "Requirement already satisfied: urllib3<1.27,>=1.21.1 in c:\\users\\lucas\\appdata\\local\\programs\\python\\python310\\lib\\site-packages (from requests>=2.19.0->datasets) (1.26.12)\n",
      "Requirement already satisfied: colorama in c:\\users\\lucas\\appdata\\local\\programs\\python\\python310\\lib\\site-packages (from tqdm>=4.62.1->datasets) (0.4.5)\n",
      "Requirement already satisfied: pytz>=2020.1 in c:\\users\\lucas\\appdata\\local\\programs\\python\\python310\\lib\\site-packages (from pandas->datasets) (2022.2.1)\n",
      "Requirement already satisfied: python-dateutil>=2.8.1 in c:\\users\\lucas\\appdata\\local\\programs\\python\\python310\\lib\\site-packages (from pandas->datasets) (2.8.2)\n",
      "Requirement already satisfied: six>=1.5 in c:\\users\\lucas\\appdata\\local\\programs\\python\\python310\\lib\\site-packages (from python-dateutil>=2.8.1->pandas->datasets) (1.16.0)\n",
      "Requirement already satisfied: transformers in c:\\users\\lucas\\appdata\\local\\programs\\python\\python310\\lib\\site-packages (4.21.3)\n",
      "Requirement already satisfied: requests in c:\\users\\lucas\\appdata\\local\\programs\\python\\python310\\lib\\site-packages (from transformers) (2.28.1)\n",
      "Requirement already satisfied: numpy>=1.17 in c:\\users\\lucas\\appdata\\local\\programs\\python\\python310\\lib\\site-packages (from transformers) (1.23.3)\n",
      "Requirement already satisfied: regex!=2019.12.17 in c:\\users\\lucas\\appdata\\local\\programs\\python\\python310\\lib\\site-packages (from transformers) (2022.9.11)\n",
      "Requirement already satisfied: huggingface-hub<1.0,>=0.1.0 in c:\\users\\lucas\\appdata\\local\\programs\\python\\python310\\lib\\site-packages (from transformers) (0.9.1)\n",
      "Requirement already satisfied: tokenizers!=0.11.3,<0.13,>=0.11.1 in c:\\users\\lucas\\appdata\\local\\programs\\python\\python310\\lib\\site-packages (from transformers) (0.12.1)\n",
      "Requirement already satisfied: packaging>=20.0 in c:\\users\\lucas\\appdata\\local\\programs\\python\\python310\\lib\\site-packages (from transformers) (21.3)\n",
      "Requirement already satisfied: pyyaml>=5.1 in c:\\users\\lucas\\appdata\\local\\programs\\python\\python310\\lib\\site-packages (from transformers) (6.0)\n",
      "Requirement already satisfied: filelock in c:\\users\\lucas\\appdata\\local\\programs\\python\\python310\\lib\\site-packages (from transformers) (3.8.0)\n",
      "Requirement already satisfied: tqdm>=4.27 in c:\\users\\lucas\\appdata\\local\\programs\\python\\python310\\lib\\site-packages (from transformers) (4.64.1)\n",
      "Requirement already satisfied: typing-extensions>=3.7.4.3 in c:\\users\\lucas\\appdata\\local\\programs\\python\\python310\\lib\\site-packages (from huggingface-hub<1.0,>=0.1.0->transformers) (4.3.0)\n",
      "Requirement already satisfied: pyparsing!=3.0.5,>=2.0.2 in c:\\users\\lucas\\appdata\\local\\programs\\python\\python310\\lib\\site-packages (from packaging>=20.0->transformers) (3.0.9)\n",
      "Requirement already satisfied: colorama in c:\\users\\lucas\\appdata\\local\\programs\\python\\python310\\lib\\site-packages (from tqdm>=4.27->transformers) (0.4.5)\n",
      "Requirement already satisfied: urllib3<1.27,>=1.21.1 in c:\\users\\lucas\\appdata\\local\\programs\\python\\python310\\lib\\site-packages (from requests->transformers) (1.26.12)\n",
      "Requirement already satisfied: certifi>=2017.4.17 in c:\\users\\lucas\\appdata\\local\\programs\\python\\python310\\lib\\site-packages (from requests->transformers) (2022.6.15.1)\n",
      "Requirement already satisfied: idna<4,>=2.5 in c:\\users\\lucas\\appdata\\local\\programs\\python\\python310\\lib\\site-packages (from requests->transformers) (3.3)\n",
      "Requirement already satisfied: charset-normalizer<3,>=2 in c:\\users\\lucas\\appdata\\local\\programs\\python\\python310\\lib\\site-packages (from requests->transformers) (2.1.1)\n"
     ]
    }
   ],
   "source": [
    "!pip install datasets\n",
    "!pip install transformers"
   ]
  },
  {
   "cell_type": "markdown",
   "metadata": {
    "id": "H5HL8Aswrbjo"
   },
   "source": [
    "## Importing libraries"
   ]
  },
  {
   "cell_type": "code",
   "execution_count": 2,
   "metadata": {
    "id": "lWTe6uMIA8Gu",
    "scrolled": true
   },
   "outputs": [
    {
     "name": "stderr",
     "output_type": "stream",
     "text": [
      "C:\\Users\\lucas\\AppData\\Local\\Programs\\Python\\Python310\\lib\\site-packages\\tqdm\\auto.py:22: TqdmWarning: IProgress not found. Please update jupyter and ipywidgets. See https://ipywidgets.readthedocs.io/en/stable/user_install.html\n",
      "  from .autonotebook import tqdm as notebook_tqdm\n"
     ]
    }
   ],
   "source": [
    "import pandas as pd\n",
    "import torch\n",
    "import torch.nn as nn\n",
    "import numpy as np\n",
    "import tensorflow as tf\n",
    "import requests\n",
    "from tqdm.auto import tqdm\n",
    "import os\n",
    "from sklearn.model_selection import train_test_split\n",
    "from sklearn.metrics import classification_report\n",
    "import datetime\n",
    "import json\n",
    "import pandas_datareader\n",
    "from torch.utils.data import DataLoader\n",
    "from datasets import Dataset, load_dataset, Value, ClassLabel, Features"
   ]
  },
  {
   "cell_type": "code",
   "execution_count": 3,
   "metadata": {},
   "outputs": [],
   "source": [
    "PATH = 'C:\\\\Users\\\\lucas\\\\Desktop\\\\Unipi\\\\HLT\\\\sentiment-analysis-crypto' "
   ]
  },
  {
   "cell_type": "markdown",
   "metadata": {
    "id": "QNc7p0Cg2Ucf"
   },
   "source": [
    "## Preprocessing labeled dataset used for fine tuning\n",
    "The dataset contains comments taken from various crypto subreddits crypto such as \"r/cryptocurrency\" (https://www.reddit.com/r/CryptoCurrency/) for the period of August 2021. The dataset was taken from SocialGrep which was responsible for the aggreagation and labeling of the comments (https://socialgrep.com/datasets/reddit-cryptocurrency-data-for-august-2021)."
   ]
  },
  {
   "cell_type": "code",
   "execution_count": 4,
   "metadata": {
    "id": "DoZPrCOeBUIp",
    "scrolled": true
   },
   "outputs": [],
   "source": [
    "# df = pd.read_csv(os.path.join(PATH,'crypto-aug-2021-comments.csv'))"
   ]
  },
  {
   "cell_type": "markdown",
   "metadata": {
    "id": "ugerq1R1pS2W"
   },
   "source": [
    "### Removing irrelevant columns\n",
    "\n",
    "We only keep the columns useful for the task which are: `body` and `sentiment`. "
   ]
  },
  {
   "cell_type": "code",
   "execution_count": 5,
   "metadata": {
    "id": "bhevfZNkpoob",
    "scrolled": true
   },
   "outputs": [],
   "source": [
    "# df.drop(labels=['type','id','subreddit.id','subreddit.name', 'subreddit.nsfw','created_utc', 'permalink', 'score'], axis=1, inplace=True)"
   ]
  },
  {
   "cell_type": "code",
   "execution_count": 6,
   "metadata": {
    "id": "8XiKSdeWJn9f",
    "scrolled": true
   },
   "outputs": [],
   "source": [
    "# df.info()"
   ]
  },
  {
   "cell_type": "markdown",
   "metadata": {
    "id": "HGbRWbDZHyu1"
   },
   "source": [
    "### Removing irrelevant comments\n",
    "Comments which have a body such as: \"[deleted\\]\" or \"[removed\\]\" mean that the content of the body is not available anymore, so every instance of such comments are removed from the dataset.\n",
    "Automatic comments made by bots on the subreddits are also removed from the dataset, in this way we keep only comments made by humans."
   ]
  },
  {
   "cell_type": "code",
   "execution_count": 7,
   "metadata": {
    "id": "o_KvajCTJSGt",
    "scrolled": true
   },
   "outputs": [],
   "source": [
    "# df['body']= df['body'].replace(r'\\n',' ', regex=True) "
   ]
  },
  {
   "cell_type": "code",
   "execution_count": 8,
   "metadata": {
    "id": "9F90KVWxLCkr",
    "scrolled": true
   },
   "outputs": [],
   "source": [
    "# df.body.value_counts()[:10]"
   ]
  },
  {
   "cell_type": "code",
   "execution_count": 9,
   "metadata": {
    "id": "tqvu_yyZJES8",
    "scrolled": true
   },
   "outputs": [],
   "source": [
    "def remove_comments(dataframe):\n",
    "  print(f\"Number of deleted rows: {(dataframe.body == '[removed]').sum()+(dataframe.body == '[deleted]').sum()}\")\n",
    "\n",
    "  dataframe.drop(dataframe[(dataframe.body == \"[removed]\") | (dataframe.body == \"[deleted]\")].index, inplace=True)\n",
    "  sum_auto_comments = 0\n",
    "  auto_comments = []\n",
    "\n",
    "  with open(os.path.join(PATH, \"auto_comments.txt\"), encoding=\"utf8\") as fp:\n",
    "    lines = fp.read().splitlines()\n",
    "    for line in lines:\n",
    "        auto_comments.append(line)\n",
    "  for comment in auto_comments:\n",
    "    sum_auto_comments += (dataframe.body == comment).sum()\n",
    "    dataframe.drop(dataframe[dataframe.body == comment].index, inplace=True)\n",
    "\n",
    "  print(f\"Number of deleted rows with automatic comments: {sum_auto_comments}\")\n",
    "\n",
    "#remove_comments(df)\n"
   ]
  },
  {
   "cell_type": "code",
   "execution_count": 10,
   "metadata": {
    "id": "-fvnR2y7DCS3",
    "scrolled": true
   },
   "outputs": [],
   "source": [
    "# df.body.value_counts()[:10]"
   ]
  },
  {
   "cell_type": "markdown",
   "metadata": {
    "id": "crt5bldbpwPJ"
   },
   "source": [
    "We also keep only unique comments which are 512 characters or shorter."
   ]
  },
  {
   "cell_type": "code",
   "execution_count": 11,
   "metadata": {
    "id": "RE14q-vf8saq",
    "scrolled": true
   },
   "outputs": [],
   "source": [
    "# df = df.dropna()\n",
    "# df = df[df['body'].apply(lambda x: len(x) <= 512) ]"
   ]
  },
  {
   "cell_type": "markdown",
   "metadata": {
    "id": "pd6Ft4ikqTIf"
   },
   "source": [
    "### Renaming the columns\n",
    "We rename the columns to keep them consistent with the `datasets.Dataset`\n",
    "implementation"
   ]
  },
  {
   "cell_type": "code",
   "execution_count": 12,
   "metadata": {
    "id": "PPeXapxsqSTG",
    "scrolled": true
   },
   "outputs": [],
   "source": [
    "# df.rename(columns={\"sentiment\":\"labels\",\"body\":\"text\"}, inplace=True)\n",
    "# df.reset_index(drop=True, inplace=True)"
   ]
  },
  {
   "cell_type": "code",
   "execution_count": 13,
   "metadata": {
    "id": "hH8g-YkoB21K",
    "scrolled": true
   },
   "outputs": [],
   "source": [
    "# n_rows_before = df.shape[0]\n",
    "# df.drop_duplicates(subset=\"text\", inplace=True)\n",
    "# print(f\"Unique {df.shape[0]} rows out of {n_rows_before} rows\")"
   ]
  },
  {
   "cell_type": "markdown",
   "metadata": {
    "id": "agmfTMX0B21K"
   },
   "source": [
    "### Save dataframe"
   ]
  },
  {
   "cell_type": "code",
   "execution_count": 14,
   "metadata": {
    "id": "CmDNt28UB21L",
    "scrolled": true
   },
   "outputs": [],
   "source": [
    "# df.to_csv(os.path.join(PATH, \"preprocessed_df.csv\"))"
   ]
  },
  {
   "cell_type": "code",
   "execution_count": 15,
   "metadata": {
    "id": "yP1vLUcOB21L",
    "scrolled": true
   },
   "outputs": [],
   "source": [
    "# df = pd.read_csv(os.path.join(PATH, \"preprocessed_df.csv\"), index_col=0)"
   ]
  },
  {
   "cell_type": "markdown",
   "metadata": {
    "id": "n0GAFTn3B21M"
   },
   "source": [
    "### Sampling the dataframe"
   ]
  },
  {
   "cell_type": "markdown",
   "metadata": {
    "id": "11iwpwZk9EcW"
   },
   "source": [
    "Finally we take a sample of the original dataset which we will then divided into training set, test set and evaluation set."
   ]
  },
  {
   "cell_type": "code",
   "execution_count": 16,
   "metadata": {
    "colab": {
     "base_uri": "https://localhost:8080/"
    },
    "id": "NyjucgKesZVW",
    "outputId": "6eab52dc-a676-47d8-ba42-91a14b722943",
    "scrolled": true
   },
   "outputs": [],
   "source": [
    "# n_sample = 300000\n",
    "\n",
    "# df_sample = df.sample(n=n_sample, random_state=42)\n",
    "# print(f\"Sample of {df_sample.shape[0]} rows out of {df.shape[0]} rows\")"
   ]
  },
  {
   "cell_type": "code",
   "execution_count": 17,
   "metadata": {
    "id": "nlaQYz_zB21M",
    "scrolled": true
   },
   "outputs": [],
   "source": [
    "# df = df_sample.copy()"
   ]
  },
  {
   "cell_type": "markdown",
   "metadata": {
    "id": "ZfuqN09SB21M"
   },
   "source": [
    "The labels are converted from float to integers where 0 is a **negative** comment, 1 is a **positive** comment and 2 is a **neutral** one."
   ]
  },
  {
   "cell_type": "code",
   "execution_count": 18,
   "metadata": {
    "id": "LU4FutCzB21N",
    "scrolled": true
   },
   "outputs": [],
   "source": [
    "# df.loc[df_sample['labels'] > 0, 'labels'] = 1 #POSITIVE\n",
    "# df.loc[df_sample['labels'] == 0, 'labels'] = 2 #NEUTRAL\n",
    "# df.loc[df_sample['labels'] < 0, 'labels'] = 0 #NEGATIVE"
   ]
  },
  {
   "cell_type": "markdown",
   "metadata": {
    "id": "EoGq5F4HB21N"
   },
   "source": [
    "We keep the dataset balanced, in this way we will have the same amount of negative, positive and neutral comments."
   ]
  },
  {
   "cell_type": "code",
   "execution_count": 19,
   "metadata": {
    "id": "b4r4n3pzB21N",
    "scrolled": true
   },
   "outputs": [],
   "source": [
    "# df = (df.groupby('labels', as_index=False)\n",
    "#         .apply(lambda x: x.sample(n=30000, random_state=69))\n",
    "#         .reset_index(drop=True))"
   ]
  },
  {
   "cell_type": "code",
   "execution_count": 20,
   "metadata": {
    "id": "XH9RxMJ9B21O",
    "scrolled": true
   },
   "outputs": [],
   "source": [
    "# df.reset_index(drop=True, inplace=True)"
   ]
  },
  {
   "cell_type": "code",
   "execution_count": 21,
   "metadata": {
    "colab": {
     "base_uri": "https://localhost:8080/"
    },
    "id": "8ZXCZR4VB21O",
    "outputId": "2f27e02e-46f8-4314-ceb4-c90509c1a062",
    "scrolled": true
   },
   "outputs": [],
   "source": [
    "# df['labels'].value_counts()"
   ]
  },
  {
   "cell_type": "code",
   "execution_count": 22,
   "metadata": {
    "id": "sF9_aIhKL-qL"
   },
   "outputs": [],
   "source": [
    "# df_dev, df_test = train_test_split(df, test_size=0.3, random_state=69)\n",
    "# df_train, df_val = train_test_split(df_dev, test_size=0.2, random_state=69)"
   ]
  },
  {
   "cell_type": "code",
   "execution_count": 23,
   "metadata": {
    "id": "Nb-K622-Ja7U"
   },
   "outputs": [],
   "source": [
    "# df_train.to_csv(os.path.join(PATH, \"df_train.csv\"), index=False)\n",
    "# df_val.to_csv(os.path.join(PATH, \"df_val.csv\"), index=False)\n",
    "# df_test.to_csv(os.path.join(PATH, \"df_test.csv\"), index=False)"
   ]
  },
  {
   "cell_type": "markdown",
   "metadata": {
    "id": "PUmf_mrBOSeP"
   },
   "source": [
    "### Prepare dataset"
   ]
  },
  {
   "cell_type": "markdown",
   "metadata": {
    "id": "t3ZtrmEFB21O"
   },
   "source": [
    "The dataframe is converted to the Dataset format accepted by the Huggingface model."
   ]
  },
  {
   "cell_type": "code",
   "execution_count": 24,
   "metadata": {
    "id": "21pqu67nUdgH",
    "scrolled": true
   },
   "outputs": [],
   "source": [
    "# schema = Features({'text': Value(dtype='string', id=None),\n",
    "#  'labels': ClassLabel(num_classes=3, id=None),\n",
    "# }) #defining the schema we make sure that the Dataset is well built \n",
    "\n",
    "# dataset_all = Dataset.from_pandas(df, schema)"
   ]
  },
  {
   "cell_type": "markdown",
   "metadata": {
    "id": "IuDW9B1KB21P"
   },
   "source": [
    "The dataset is partitioned into training set (70%) and evaluation set (30%)."
   ]
  },
  {
   "cell_type": "code",
   "execution_count": 25,
   "metadata": {
    "id": "ukXGJfxgB21P",
    "scrolled": true
   },
   "outputs": [],
   "source": [
    "# dataset = dataset_all.train_test_split(test_size=0.3,seed=69)"
   ]
  },
  {
   "cell_type": "code",
   "execution_count": 26,
   "metadata": {
    "id": "CSI--_MEsbQ6"
   },
   "outputs": [],
   "source": [
    "# dataset_train = dataset_all.train_test_split(test_size=0.2,seed=69)"
   ]
  },
  {
   "cell_type": "code",
   "execution_count": 27,
   "metadata": {
    "colab": {
     "base_uri": "https://localhost:8080/"
    },
    "id": "WNd2P2aaB21P",
    "outputId": "a36bc4a6-dbfd-4271-c9eb-2a14ad949712",
    "scrolled": true
   },
   "outputs": [],
   "source": [
    "# dataset_train[\"train\"]"
   ]
  },
  {
   "cell_type": "markdown",
   "metadata": {
    "id": "uadm6Q7K7kbV"
   },
   "source": [
    "### Tokenize the dataset"
   ]
  },
  {
   "cell_type": "markdown",
   "metadata": {
    "id": "uxJI481gB21Q"
   },
   "source": [
    "We tokenize the dataset using the appropriate tokenizer provided by the *transformers* module."
   ]
  },
  {
   "cell_type": "code",
   "execution_count": 28,
   "metadata": {
    "colab": {
     "base_uri": "https://localhost:8080/",
     "height": 407,
     "referenced_widgets": [
      "84ab62c21647474fb5cc3d6c2372f7d9",
      "f30100470b18440bbca94852b5823295",
      "d3a6e709ef89454baeac90961e1f6d0f",
      "a8e68dd52f354b5daf95c3314fb92682",
      "3cc3407305ca48b9a41a7c4b345a40bb",
      "9ec5034e4cad4b8483be9984473b5729",
      "a74b6551817f45bbbdb50ee9b554242f",
      "41663766b96f43c282afecaab1004eb7",
      "134960e09272435789e15d8446a1ac89",
      "53746223590447cb9e60eb049d038abb",
      "20b7564678d247e49bef493ca78de5cb",
      "b6cea28f892e42248f66240a923e2fd9",
      "8ad6b5a11ea543339bef802a5698606c",
      "40eed408025a42c897e7bf4815997a8e",
      "5e66258543b44fb58eef2611cc6cdc98",
      "2cc907e64f0f45f2b0b95a158b61109e",
      "fa6c9c457eed44a2b7e40d5eb88c908f",
      "5a98e96e7a6d4df4a9354e7d4a1645eb",
      "d9c9178852c14f258afa41be2229e0ce",
      "1ff19e2d87844790a83fdef70033b00a",
      "f0053ff30ab9492c93eced0e3d2cbcf5",
      "341eb1bf11d54348949b7f456644009c",
      "37ef23e66238488a95232b56c27e7c78",
      "ac7ebaed96474810a50b836746a54f67",
      "e61f353a47e249f19fa1b54f4c848dd6",
      "97a369a7b9fa4cafb1f4b83f96b2a609",
      "1b879c3f5895471fb1bf677a8d30fca3",
      "bbfecb6e4d9f4e76a45d2d326374b336",
      "e31979a55d1841039285937de6624ac2",
      "f3071910b488485abcef61ddd22a05c5",
      "d9b7ac8126eb455faa66a5a8873b72f5",
      "2cda41ce0e8e41caafcc980e472642eb",
      "f24bd2d2bbf74f4a972b5e82fd074716",
      "69c645ebbeb04a0489354c6be9a26ba1",
      "fad96a3d7c7642fbb30ccc4a6d83f398",
      "19ffed1c3b734c5bac15c6fd27c5fd04",
      "975950f5c80344c9a6f05738e9527bde",
      "b14c0603c58a4e828e782757f0bda2dc",
      "5cc71f962fb64ef7bd6000aa18c48ed2",
      "a0a6138b9b9e4f6583e83fb8de8678ed",
      "15efdb83a5054e7f864c30ceeeb18e76",
      "a220c312efe640e6826254a402deb31c",
      "7eb7e291fcae41dc9b6198c18d04410d",
      "5d62ac1102604fe08107ef28e0958735",
      "45ee039a48f640cd8f09342756f2b76e",
      "7bba9350d5924f74acca66a03e24068f",
      "401f9d39f0ff47d0a72decc3abe0a3a6",
      "3e847e07eaaa4ff0b536a6cf0c9c176b",
      "372906eae2c84c168f9db4a0c50b7f68",
      "07cb42ad929f46198267480eb9e4837e",
      "c9d8523a488e4d0c888742c6d9b57ff5",
      "e59a7e2367134342a7b74038137940c8",
      "3c4c058f850e4f5da4c6b9fffe1c96b0",
      "11f574784caa4b4aa204fe20132c790b",
      "71cccef224d548a6994d666e43df85ea",
      "4594aeaf02c84de79094c94e3858bde4",
      "1998e47552714d5ab131b7788ac579e9",
      "04ffb2def7b942e282d4f6b1977acfd4",
      "a073d1b3d5de44f89bac89f1bd4ddafb",
      "8003ceec35a14d0b8fcfd8fe6d94098f",
      "ab6d3955ae4f4d469f2c3880d56888df",
      "4bff46612cbd44749043fa76922f1415",
      "1c3cbc53065b44ae8f07b9f956313dcf",
      "e3372bf1c8644e2cb1830a9a6c3729c1",
      "3a3a298c65fc4524b3fde3ff4c05f06e",
      "63dbc997ba9d4e3092484d5798cc13e0",
      "69b4a5c846b048e7aa134a6d716c08ca",
      "61177a57e55741f49d2c1bdb3b318e7c",
      "eef39141670948caa72973b08a000b84",
      "cabff1292ba6461f9557f1075b1b3853",
      "0703a0d945fb4162a419823ad12a70e3",
      "6dff47cc71d741a99ebb3c985d256093",
      "8c278d427a4a48ddaf0f6f595976fb1e",
      "91245321f04e4a1db990b7146c58b06d",
      "bcb4b15ab9ff4485a829c9be0fa836c2",
      "2d6d1a0b217d49f8b3024aec90224d46",
      "a86019d2250b4dc482de0ccf7c19dad3",
      "20a0c594f94d43aa91f6ecf60bae1c14",
      "747b2ec2cf19406280ebb562acb3170b",
      "f33b6aba4ee44c388e0e0448d1102287",
      "3798ff03b2e6471b9bb6bea1d010ea8f",
      "03f3634718884deea7bd5cdf53eb0ec0",
      "b96601d38af24183a9e0d8b1856afad6",
      "2b7668b6ecc54d12be5c05eca4955604",
      "3e01406b94574a9cbd8cee9635435a3a",
      "6ae494790bcf4194aa266dadfe96d5c8",
      "16a6e1b8ff7a46a5bce54079e3d7fb77",
      "ed9fd1495cfa4b9eb87a0ef01099f87a",
      "41d58f4202f148ec83f2721bc3cbb03c",
      "03db802f49ef4363accbe1c2e734e2f1",
      "b57307190c31436aa24020d49ead64e2",
      "f44ac8133fcc463d93d76b7c2e1cc4c4",
      "1f572fa07acb4c4dbff0e748d0efac66",
      "39569c0c8fd94e63bd234bb158cbb4c3",
      "4f2a756b9eea464292d29b1e5d140a7c",
      "90337933bb7749ecaa3a94967f20e0ab",
      "922e4e77be234cbdb12f0b47ad7551f0",
      "b8eecfaa3bc34fdb9110fde5864b89da",
      "38f9128f6bc341cea95eb6fdcf657cdc",
      "17969bde0fab4e44a76e4a396e059a69",
      "c30b8fe9cb4f459685ec434baf0796cf",
      "d862feaa70694ad1b10760f79b5c3892",
      "d17b936d29724137a18969b6ee79bc24",
      "ea02378d8184489882e59a880f0a56fe",
      "8d0c2f939f0f4fe08854923067e4432d",
      "5f1fa1d023ad4fb7a6c14c9e8e9bc2a9",
      "bb2b4127332a465684175f32efcd176e",
      "5aaa6bb220194387942505d7d7f4b186",
      "ffe192b8b3314efe9b171217a885b8ad",
      "3b6c5363b81b49b5950eefe50b59dcbc",
      "82e401fb98d54866aa294f65914a7d71",
      "04ba955913534ad5a1e4e847480e0d4d",
      "8621990c73fe49998072586290d5e66a",
      "37b391285b3442859a8ac1cb7757fbf9",
      "6be30a7eb06b498bbd3d44f5dfaf5e4a",
      "2eaa5934225e49d495f46e35843362d3",
      "a983874877984f96b0439358be2bf3e8",
      "dec96f849a624bc2b13f9c20966421b3",
      "5072e1ee1be14beea4f766db38a6e715",
      "d186e2356e054a3083e0734db63ab327",
      "c1b5fe38f6bf4270baffb2c30cce2898"
     ]
    },
    "id": "Bky-uTRRSCRZ",
    "outputId": "2d29261c-b928-4236-c334-65cbb55aac69",
    "scrolled": true
   },
   "outputs": [],
   "source": [
    "from transformers import DistilBertTokenizer\n",
    "\n",
    "tokenizer = DistilBertTokenizer.from_pretrained(\"distilbert-base-uncased\")\n",
    "\n",
    "def tokenize_function(examples):\n",
    "    return tokenizer(examples[\"text\"], padding=\"max_length\", truncation=True)\n",
    "\n",
    "\n",
    "# tok_ds_train = dataset_train[\"train\"].map(tokenize_function, batched=True)\n",
    "# tok_ds_val = dataset_train[\"test\"].map(tokenize_function, batched=True)\n",
    "# tok_ds_test = dataset[\"test\"].map(tokenize_function, batched=True)\n",
    "\n",
    "# tok_ds_train = tok_ds_train.remove_columns([\"text\"])\n",
    "# tok_ds_test = tok_ds_test.remove_columns([\"text\"])\n",
    "# tok_ds_val = tok_ds_val.remove_columns([\"text\"])"
   ]
  },
  {
   "cell_type": "markdown",
   "metadata": {
    "id": "_6E53Ng67z4s"
   },
   "source": [
    "## Fine-tune DistilBERT model"
   ]
  },
  {
   "cell_type": "code",
   "execution_count": 29,
   "metadata": {
    "id": "pVGJ-C_II9uU"
   },
   "outputs": [],
   "source": [
    "# tok_ds_train.set_format(\"pt\")\n",
    "# tok_ds_test.set_format(\"pt\")\n",
    "# tok_ds_val.set_format(\"pt\")\n",
    "\n",
    "# train_dataloader = DataLoader(tok_ds_train, shuffle=True, batch_size=10)\n",
    "# test_dataloader = DataLoader(tok_ds_test, batch_size=10)\n",
    "# val_dataloader = DataLoader(tok_ds_val, batch_size=10)\n"
   ]
  },
  {
   "cell_type": "code",
   "execution_count": 30,
   "metadata": {
    "id": "xHNDgErnRdSg"
   },
   "outputs": [],
   "source": [
    "# class Classifier(nn.Module):\n",
    "#     def __init__(self, num_units, activation_fun, hidden_layers):\n",
    "#         super(Classifier, self).__init__()\n",
    "        \n",
    "#         if(activation_fun == \"sigmoid\"):\n",
    "#             activation_fun = nn.Sigmoid()\n",
    "#         elif activation_fun == \"relu\":\n",
    "#             activation_fun = nn.ReLU()\n",
    "#         elif activation_fun == \"tanh\":\n",
    "#             activation_fun = nn.Tanh()\n",
    "            \n",
    "#         if hidden_layers == 2:\n",
    "#             self.linear_stack = nn.Sequential(\n",
    "#                 nn.Linear(768, num_units),\n",
    "#                 activation_fun,\n",
    "#                 nn.Linear(num_units, num_units),\n",
    "#             )\n",
    "#         elif hidden_layers == 1:\n",
    "#             self.linear_stack = nn.Sequential(\n",
    "#                 nn.Linear(768, num_units),\n",
    "#             )     \n",
    "\n",
    "#     def forward(self, x):\n",
    "#         X = self.linear_stack(x)\n",
    "#         return X\n",
    "    \n",
    "#     def predict(self, x):\n",
    "#         X = self.linear_stack(x)\n",
    "#         return X"
   ]
  },
  {
   "cell_type": "code",
   "execution_count": 31,
   "metadata": {
    "id": "qFt7-1GIRxpy"
   },
   "outputs": [],
   "source": [
    "# myclassifier = Classifier(500, 'relu', 2)"
   ]
  },
  {
   "cell_type": "code",
   "execution_count": 32,
   "metadata": {
    "colab": {
     "base_uri": "https://localhost:8080/",
     "height": 121,
     "referenced_widgets": [
      "f9e52a74fa764f9f9f3513c890cf87ee",
      "945f2d7383f24592aa346cb9de625567",
      "d9a2b1d92e534de381f9222bdc5a5100",
      "347f86e41cf1445d92afeb3699f984e8",
      "ca65cb9c7b4b4612965aea1b0fe25433",
      "65a7820841fd4e6e93270ec9548f9511",
      "7f66dea3d99f41e786ccd01fa4abf25a",
      "5d29c5e8cbe44a44927e90afa4cffadd",
      "80134e1d133347e4aafe3c24462efd26",
      "f960adfc410f49f7989d308750a8c8fe",
      "fcca736a70db41c4868e763e1dcd70eb"
     ]
    },
    "id": "rFVa7RT4QWDl",
    "outputId": "9490b6c0-96cd-4026-cf9f-8e7b6fd7d066"
   },
   "outputs": [
    {
     "name": "stderr",
     "output_type": "stream",
     "text": [
      "Some weights of the model checkpoint at distilbert-base-uncased were not used when initializing DistilBertForSequenceClassification: ['vocab_transform.bias', 'vocab_layer_norm.bias', 'vocab_layer_norm.weight', 'vocab_projector.bias', 'vocab_projector.weight', 'vocab_transform.weight']\n",
      "- This IS expected if you are initializing DistilBertForSequenceClassification from the checkpoint of a model trained on another task or with another architecture (e.g. initializing a BertForSequenceClassification model from a BertForPreTraining model).\n",
      "- This IS NOT expected if you are initializing DistilBertForSequenceClassification from the checkpoint of a model that you expect to be exactly identical (initializing a BertForSequenceClassification model from a BertForSequenceClassification model).\n",
      "Some weights of DistilBertForSequenceClassification were not initialized from the model checkpoint at distilbert-base-uncased and are newly initialized: ['classifier.weight', 'pre_classifier.weight', 'classifier.bias', 'pre_classifier.bias']\n",
      "You should probably TRAIN this model on a down-stream task to be able to use it for predictions and inference.\n"
     ]
    }
   ],
   "source": [
    "from transformers import DistilBertForSequenceClassification\n",
    "\n",
    "distilbert_model = DistilBertForSequenceClassification.from_pretrained(\n",
    "    \"distilbert-base-uncased\", num_labels=3)\n",
    "# distilbert_model.pre_classifier = myclassifier\n",
    "# distilbert_model.classifier = nn.Linear(500, 3)"
   ]
  },
  {
   "cell_type": "code",
   "execution_count": 33,
   "metadata": {
    "colab": {
     "base_uri": "https://localhost:8080/"
    },
    "id": "Q8UCJifMJrib",
    "outputId": "4aea9967-99cf-402f-85a9-633114e6fb02"
   },
   "outputs": [],
   "source": [
    "# for idx, m in enumerate(distilbert_model.modules()):\n",
    "#   print(idx, '->', m)"
   ]
  },
  {
   "cell_type": "code",
   "execution_count": 34,
   "metadata": {
    "id": "CqiJNDu9B21S",
    "scrolled": true
   },
   "outputs": [],
   "source": [
    "# from torch.optim import AdamW\n",
    "\n",
    "# optimizer = AdamW(distilbert_model.parameters(), lr=3e-5)"
   ]
  },
  {
   "cell_type": "code",
   "execution_count": 35,
   "metadata": {
    "id": "1_mff3yiCay6"
   },
   "outputs": [],
   "source": [
    "# device = torch.device(\"cuda:0\" if torch.cuda.is_available() else \"cpu\")\n",
    "\n",
    "# classifier = Classifier(num_units=768, activation_fun = \"sigmoid\", hidden_layers = 1)\n",
    "# print(classifier)"
   ]
  },
  {
   "cell_type": "code",
   "execution_count": 36,
   "metadata": {
    "id": "L6XeSl1DB21T",
    "scrolled": true
   },
   "outputs": [],
   "source": [
    "# from transformers import get_scheduler\n",
    "\n",
    "# num_epochs = 3\n",
    "# num_training_steps = num_epochs * len(train_dataloader)\n",
    "# lr_scheduler = get_scheduler(\n",
    "#     name=\"linear\", optimizer=optimizer, num_warmup_steps=0, num_training_steps=num_training_steps\n",
    "# )"
   ]
  },
  {
   "cell_type": "code",
   "execution_count": 37,
   "metadata": {
    "colab": {
     "base_uri": "https://localhost:8080/"
    },
    "id": "RmCo6gMmB21T",
    "outputId": "3dfd5b6d-5e8d-4cd7-f22f-1df23f3e0574",
    "scrolled": true
   },
   "outputs": [
    {
     "data": {
      "text/plain": [
       "DistilBertForSequenceClassification(\n",
       "  (distilbert): DistilBertModel(\n",
       "    (embeddings): Embeddings(\n",
       "      (word_embeddings): Embedding(30522, 768, padding_idx=0)\n",
       "      (position_embeddings): Embedding(512, 768)\n",
       "      (LayerNorm): LayerNorm((768,), eps=1e-12, elementwise_affine=True)\n",
       "      (dropout): Dropout(p=0.1, inplace=False)\n",
       "    )\n",
       "    (transformer): Transformer(\n",
       "      (layer): ModuleList(\n",
       "        (0): TransformerBlock(\n",
       "          (attention): MultiHeadSelfAttention(\n",
       "            (dropout): Dropout(p=0.1, inplace=False)\n",
       "            (q_lin): Linear(in_features=768, out_features=768, bias=True)\n",
       "            (k_lin): Linear(in_features=768, out_features=768, bias=True)\n",
       "            (v_lin): Linear(in_features=768, out_features=768, bias=True)\n",
       "            (out_lin): Linear(in_features=768, out_features=768, bias=True)\n",
       "          )\n",
       "          (sa_layer_norm): LayerNorm((768,), eps=1e-12, elementwise_affine=True)\n",
       "          (ffn): FFN(\n",
       "            (dropout): Dropout(p=0.1, inplace=False)\n",
       "            (lin1): Linear(in_features=768, out_features=3072, bias=True)\n",
       "            (lin2): Linear(in_features=3072, out_features=768, bias=True)\n",
       "            (activation): GELUActivation()\n",
       "          )\n",
       "          (output_layer_norm): LayerNorm((768,), eps=1e-12, elementwise_affine=True)\n",
       "        )\n",
       "        (1): TransformerBlock(\n",
       "          (attention): MultiHeadSelfAttention(\n",
       "            (dropout): Dropout(p=0.1, inplace=False)\n",
       "            (q_lin): Linear(in_features=768, out_features=768, bias=True)\n",
       "            (k_lin): Linear(in_features=768, out_features=768, bias=True)\n",
       "            (v_lin): Linear(in_features=768, out_features=768, bias=True)\n",
       "            (out_lin): Linear(in_features=768, out_features=768, bias=True)\n",
       "          )\n",
       "          (sa_layer_norm): LayerNorm((768,), eps=1e-12, elementwise_affine=True)\n",
       "          (ffn): FFN(\n",
       "            (dropout): Dropout(p=0.1, inplace=False)\n",
       "            (lin1): Linear(in_features=768, out_features=3072, bias=True)\n",
       "            (lin2): Linear(in_features=3072, out_features=768, bias=True)\n",
       "            (activation): GELUActivation()\n",
       "          )\n",
       "          (output_layer_norm): LayerNorm((768,), eps=1e-12, elementwise_affine=True)\n",
       "        )\n",
       "        (2): TransformerBlock(\n",
       "          (attention): MultiHeadSelfAttention(\n",
       "            (dropout): Dropout(p=0.1, inplace=False)\n",
       "            (q_lin): Linear(in_features=768, out_features=768, bias=True)\n",
       "            (k_lin): Linear(in_features=768, out_features=768, bias=True)\n",
       "            (v_lin): Linear(in_features=768, out_features=768, bias=True)\n",
       "            (out_lin): Linear(in_features=768, out_features=768, bias=True)\n",
       "          )\n",
       "          (sa_layer_norm): LayerNorm((768,), eps=1e-12, elementwise_affine=True)\n",
       "          (ffn): FFN(\n",
       "            (dropout): Dropout(p=0.1, inplace=False)\n",
       "            (lin1): Linear(in_features=768, out_features=3072, bias=True)\n",
       "            (lin2): Linear(in_features=3072, out_features=768, bias=True)\n",
       "            (activation): GELUActivation()\n",
       "          )\n",
       "          (output_layer_norm): LayerNorm((768,), eps=1e-12, elementwise_affine=True)\n",
       "        )\n",
       "        (3): TransformerBlock(\n",
       "          (attention): MultiHeadSelfAttention(\n",
       "            (dropout): Dropout(p=0.1, inplace=False)\n",
       "            (q_lin): Linear(in_features=768, out_features=768, bias=True)\n",
       "            (k_lin): Linear(in_features=768, out_features=768, bias=True)\n",
       "            (v_lin): Linear(in_features=768, out_features=768, bias=True)\n",
       "            (out_lin): Linear(in_features=768, out_features=768, bias=True)\n",
       "          )\n",
       "          (sa_layer_norm): LayerNorm((768,), eps=1e-12, elementwise_affine=True)\n",
       "          (ffn): FFN(\n",
       "            (dropout): Dropout(p=0.1, inplace=False)\n",
       "            (lin1): Linear(in_features=768, out_features=3072, bias=True)\n",
       "            (lin2): Linear(in_features=3072, out_features=768, bias=True)\n",
       "            (activation): GELUActivation()\n",
       "          )\n",
       "          (output_layer_norm): LayerNorm((768,), eps=1e-12, elementwise_affine=True)\n",
       "        )\n",
       "        (4): TransformerBlock(\n",
       "          (attention): MultiHeadSelfAttention(\n",
       "            (dropout): Dropout(p=0.1, inplace=False)\n",
       "            (q_lin): Linear(in_features=768, out_features=768, bias=True)\n",
       "            (k_lin): Linear(in_features=768, out_features=768, bias=True)\n",
       "            (v_lin): Linear(in_features=768, out_features=768, bias=True)\n",
       "            (out_lin): Linear(in_features=768, out_features=768, bias=True)\n",
       "          )\n",
       "          (sa_layer_norm): LayerNorm((768,), eps=1e-12, elementwise_affine=True)\n",
       "          (ffn): FFN(\n",
       "            (dropout): Dropout(p=0.1, inplace=False)\n",
       "            (lin1): Linear(in_features=768, out_features=3072, bias=True)\n",
       "            (lin2): Linear(in_features=3072, out_features=768, bias=True)\n",
       "            (activation): GELUActivation()\n",
       "          )\n",
       "          (output_layer_norm): LayerNorm((768,), eps=1e-12, elementwise_affine=True)\n",
       "        )\n",
       "        (5): TransformerBlock(\n",
       "          (attention): MultiHeadSelfAttention(\n",
       "            (dropout): Dropout(p=0.1, inplace=False)\n",
       "            (q_lin): Linear(in_features=768, out_features=768, bias=True)\n",
       "            (k_lin): Linear(in_features=768, out_features=768, bias=True)\n",
       "            (v_lin): Linear(in_features=768, out_features=768, bias=True)\n",
       "            (out_lin): Linear(in_features=768, out_features=768, bias=True)\n",
       "          )\n",
       "          (sa_layer_norm): LayerNorm((768,), eps=1e-12, elementwise_affine=True)\n",
       "          (ffn): FFN(\n",
       "            (dropout): Dropout(p=0.1, inplace=False)\n",
       "            (lin1): Linear(in_features=768, out_features=3072, bias=True)\n",
       "            (lin2): Linear(in_features=3072, out_features=768, bias=True)\n",
       "            (activation): GELUActivation()\n",
       "          )\n",
       "          (output_layer_norm): LayerNorm((768,), eps=1e-12, elementwise_affine=True)\n",
       "        )\n",
       "      )\n",
       "    )\n",
       "  )\n",
       "  (pre_classifier): Linear(in_features=768, out_features=768, bias=True)\n",
       "  (classifier): Linear(in_features=768, out_features=3, bias=True)\n",
       "  (dropout): Dropout(p=0.2, inplace=False)\n",
       ")"
      ]
     },
     "execution_count": 37,
     "metadata": {},
     "output_type": "execute_result"
    }
   ],
   "source": [
    "device = torch.device(\"cuda\") if torch.cuda.is_available() else torch.device(\"cpu\")\n",
    "distilbert_model.to(device)"
   ]
  },
  {
   "cell_type": "code",
   "execution_count": 38,
   "metadata": {},
   "outputs": [],
   "source": [
    "# print(device)"
   ]
  },
  {
   "cell_type": "code",
   "execution_count": 39,
   "metadata": {},
   "outputs": [],
   "source": [
    "# tok_ds_train"
   ]
  },
  {
   "cell_type": "code",
   "execution_count": 40,
   "metadata": {
    "id": "j7c_Cf04B21T",
    "outputId": "4484840b-faf5-4074-aa25-87e6f303bc3c",
    "scrolled": true
   },
   "outputs": [],
   "source": [
    "# progress_bar = tqdm(range(num_training_steps))\n",
    "\n",
    "# distilbert_model.train()\n",
    "# for epoch in range(num_epochs):\n",
    "#     for batch in train_dataloader:\n",
    "#         batch = {k: v.to(device) for k, v in batch.items()}\n",
    "#         outputs = distilbert_model(**batch)\n",
    "#         loss = outputs.loss\n",
    "#         loss.backward()\n",
    "\n",
    "#         optimizer.step()\n",
    "#         lr_scheduler.step()\n",
    "#         optimizer.zero_grad()\n",
    "#         progress_bar.update(1)"
   ]
  },
  {
   "cell_type": "code",
   "execution_count": 41,
   "metadata": {
    "id": "p_dwMuk6B21T",
    "scrolled": true
   },
   "outputs": [],
   "source": [
    "# torch.save(distilbert_model.state_dict(), PATH+\"/distilbert_model.pth\")"
   ]
  },
  {
   "cell_type": "code",
   "execution_count": 42,
   "metadata": {
    "id": "QKbyppPQB21T",
    "outputId": "f85a4a79-2510-47a8-9c5d-b14575e4568e",
    "scrolled": true
   },
   "outputs": [
    {
     "data": {
      "text/plain": [
       "DistilBertForSequenceClassification(\n",
       "  (distilbert): DistilBertModel(\n",
       "    (embeddings): Embeddings(\n",
       "      (word_embeddings): Embedding(30522, 768, padding_idx=0)\n",
       "      (position_embeddings): Embedding(512, 768)\n",
       "      (LayerNorm): LayerNorm((768,), eps=1e-12, elementwise_affine=True)\n",
       "      (dropout): Dropout(p=0.1, inplace=False)\n",
       "    )\n",
       "    (transformer): Transformer(\n",
       "      (layer): ModuleList(\n",
       "        (0): TransformerBlock(\n",
       "          (attention): MultiHeadSelfAttention(\n",
       "            (dropout): Dropout(p=0.1, inplace=False)\n",
       "            (q_lin): Linear(in_features=768, out_features=768, bias=True)\n",
       "            (k_lin): Linear(in_features=768, out_features=768, bias=True)\n",
       "            (v_lin): Linear(in_features=768, out_features=768, bias=True)\n",
       "            (out_lin): Linear(in_features=768, out_features=768, bias=True)\n",
       "          )\n",
       "          (sa_layer_norm): LayerNorm((768,), eps=1e-12, elementwise_affine=True)\n",
       "          (ffn): FFN(\n",
       "            (dropout): Dropout(p=0.1, inplace=False)\n",
       "            (lin1): Linear(in_features=768, out_features=3072, bias=True)\n",
       "            (lin2): Linear(in_features=3072, out_features=768, bias=True)\n",
       "            (activation): GELUActivation()\n",
       "          )\n",
       "          (output_layer_norm): LayerNorm((768,), eps=1e-12, elementwise_affine=True)\n",
       "        )\n",
       "        (1): TransformerBlock(\n",
       "          (attention): MultiHeadSelfAttention(\n",
       "            (dropout): Dropout(p=0.1, inplace=False)\n",
       "            (q_lin): Linear(in_features=768, out_features=768, bias=True)\n",
       "            (k_lin): Linear(in_features=768, out_features=768, bias=True)\n",
       "            (v_lin): Linear(in_features=768, out_features=768, bias=True)\n",
       "            (out_lin): Linear(in_features=768, out_features=768, bias=True)\n",
       "          )\n",
       "          (sa_layer_norm): LayerNorm((768,), eps=1e-12, elementwise_affine=True)\n",
       "          (ffn): FFN(\n",
       "            (dropout): Dropout(p=0.1, inplace=False)\n",
       "            (lin1): Linear(in_features=768, out_features=3072, bias=True)\n",
       "            (lin2): Linear(in_features=3072, out_features=768, bias=True)\n",
       "            (activation): GELUActivation()\n",
       "          )\n",
       "          (output_layer_norm): LayerNorm((768,), eps=1e-12, elementwise_affine=True)\n",
       "        )\n",
       "        (2): TransformerBlock(\n",
       "          (attention): MultiHeadSelfAttention(\n",
       "            (dropout): Dropout(p=0.1, inplace=False)\n",
       "            (q_lin): Linear(in_features=768, out_features=768, bias=True)\n",
       "            (k_lin): Linear(in_features=768, out_features=768, bias=True)\n",
       "            (v_lin): Linear(in_features=768, out_features=768, bias=True)\n",
       "            (out_lin): Linear(in_features=768, out_features=768, bias=True)\n",
       "          )\n",
       "          (sa_layer_norm): LayerNorm((768,), eps=1e-12, elementwise_affine=True)\n",
       "          (ffn): FFN(\n",
       "            (dropout): Dropout(p=0.1, inplace=False)\n",
       "            (lin1): Linear(in_features=768, out_features=3072, bias=True)\n",
       "            (lin2): Linear(in_features=3072, out_features=768, bias=True)\n",
       "            (activation): GELUActivation()\n",
       "          )\n",
       "          (output_layer_norm): LayerNorm((768,), eps=1e-12, elementwise_affine=True)\n",
       "        )\n",
       "        (3): TransformerBlock(\n",
       "          (attention): MultiHeadSelfAttention(\n",
       "            (dropout): Dropout(p=0.1, inplace=False)\n",
       "            (q_lin): Linear(in_features=768, out_features=768, bias=True)\n",
       "            (k_lin): Linear(in_features=768, out_features=768, bias=True)\n",
       "            (v_lin): Linear(in_features=768, out_features=768, bias=True)\n",
       "            (out_lin): Linear(in_features=768, out_features=768, bias=True)\n",
       "          )\n",
       "          (sa_layer_norm): LayerNorm((768,), eps=1e-12, elementwise_affine=True)\n",
       "          (ffn): FFN(\n",
       "            (dropout): Dropout(p=0.1, inplace=False)\n",
       "            (lin1): Linear(in_features=768, out_features=3072, bias=True)\n",
       "            (lin2): Linear(in_features=3072, out_features=768, bias=True)\n",
       "            (activation): GELUActivation()\n",
       "          )\n",
       "          (output_layer_norm): LayerNorm((768,), eps=1e-12, elementwise_affine=True)\n",
       "        )\n",
       "        (4): TransformerBlock(\n",
       "          (attention): MultiHeadSelfAttention(\n",
       "            (dropout): Dropout(p=0.1, inplace=False)\n",
       "            (q_lin): Linear(in_features=768, out_features=768, bias=True)\n",
       "            (k_lin): Linear(in_features=768, out_features=768, bias=True)\n",
       "            (v_lin): Linear(in_features=768, out_features=768, bias=True)\n",
       "            (out_lin): Linear(in_features=768, out_features=768, bias=True)\n",
       "          )\n",
       "          (sa_layer_norm): LayerNorm((768,), eps=1e-12, elementwise_affine=True)\n",
       "          (ffn): FFN(\n",
       "            (dropout): Dropout(p=0.1, inplace=False)\n",
       "            (lin1): Linear(in_features=768, out_features=3072, bias=True)\n",
       "            (lin2): Linear(in_features=3072, out_features=768, bias=True)\n",
       "            (activation): GELUActivation()\n",
       "          )\n",
       "          (output_layer_norm): LayerNorm((768,), eps=1e-12, elementwise_affine=True)\n",
       "        )\n",
       "        (5): TransformerBlock(\n",
       "          (attention): MultiHeadSelfAttention(\n",
       "            (dropout): Dropout(p=0.1, inplace=False)\n",
       "            (q_lin): Linear(in_features=768, out_features=768, bias=True)\n",
       "            (k_lin): Linear(in_features=768, out_features=768, bias=True)\n",
       "            (v_lin): Linear(in_features=768, out_features=768, bias=True)\n",
       "            (out_lin): Linear(in_features=768, out_features=768, bias=True)\n",
       "          )\n",
       "          (sa_layer_norm): LayerNorm((768,), eps=1e-12, elementwise_affine=True)\n",
       "          (ffn): FFN(\n",
       "            (dropout): Dropout(p=0.1, inplace=False)\n",
       "            (lin1): Linear(in_features=768, out_features=3072, bias=True)\n",
       "            (lin2): Linear(in_features=3072, out_features=768, bias=True)\n",
       "            (activation): GELUActivation()\n",
       "          )\n",
       "          (output_layer_norm): LayerNorm((768,), eps=1e-12, elementwise_affine=True)\n",
       "        )\n",
       "      )\n",
       "    )\n",
       "  )\n",
       "  (pre_classifier): Linear(in_features=768, out_features=768, bias=True)\n",
       "  (classifier): Linear(in_features=768, out_features=3, bias=True)\n",
       "  (dropout): Dropout(p=0.2, inplace=False)\n",
       ")"
      ]
     },
     "execution_count": 42,
     "metadata": {},
     "output_type": "execute_result"
    }
   ],
   "source": [
    "distilbert_model.load_state_dict(torch.load(PATH+\"/distilbert_model.pth\"))\n",
    "distilbert_model.eval()"
   ]
  },
  {
   "cell_type": "code",
   "execution_count": 43,
   "metadata": {
    "id": "eptOBY6YB21U",
    "outputId": "b32907f6-cf21-4d22-cb2e-e0dfb17e8e03",
    "scrolled": true
   },
   "outputs": [
    {
     "data": {
      "text/plain": [
       "DistilBertForSequenceClassification(\n",
       "  (distilbert): DistilBertModel(\n",
       "    (embeddings): Embeddings(\n",
       "      (word_embeddings): Embedding(30522, 768, padding_idx=0)\n",
       "      (position_embeddings): Embedding(512, 768)\n",
       "      (LayerNorm): LayerNorm((768,), eps=1e-12, elementwise_affine=True)\n",
       "      (dropout): Dropout(p=0.1, inplace=False)\n",
       "    )\n",
       "    (transformer): Transformer(\n",
       "      (layer): ModuleList(\n",
       "        (0): TransformerBlock(\n",
       "          (attention): MultiHeadSelfAttention(\n",
       "            (dropout): Dropout(p=0.1, inplace=False)\n",
       "            (q_lin): Linear(in_features=768, out_features=768, bias=True)\n",
       "            (k_lin): Linear(in_features=768, out_features=768, bias=True)\n",
       "            (v_lin): Linear(in_features=768, out_features=768, bias=True)\n",
       "            (out_lin): Linear(in_features=768, out_features=768, bias=True)\n",
       "          )\n",
       "          (sa_layer_norm): LayerNorm((768,), eps=1e-12, elementwise_affine=True)\n",
       "          (ffn): FFN(\n",
       "            (dropout): Dropout(p=0.1, inplace=False)\n",
       "            (lin1): Linear(in_features=768, out_features=3072, bias=True)\n",
       "            (lin2): Linear(in_features=3072, out_features=768, bias=True)\n",
       "            (activation): GELUActivation()\n",
       "          )\n",
       "          (output_layer_norm): LayerNorm((768,), eps=1e-12, elementwise_affine=True)\n",
       "        )\n",
       "        (1): TransformerBlock(\n",
       "          (attention): MultiHeadSelfAttention(\n",
       "            (dropout): Dropout(p=0.1, inplace=False)\n",
       "            (q_lin): Linear(in_features=768, out_features=768, bias=True)\n",
       "            (k_lin): Linear(in_features=768, out_features=768, bias=True)\n",
       "            (v_lin): Linear(in_features=768, out_features=768, bias=True)\n",
       "            (out_lin): Linear(in_features=768, out_features=768, bias=True)\n",
       "          )\n",
       "          (sa_layer_norm): LayerNorm((768,), eps=1e-12, elementwise_affine=True)\n",
       "          (ffn): FFN(\n",
       "            (dropout): Dropout(p=0.1, inplace=False)\n",
       "            (lin1): Linear(in_features=768, out_features=3072, bias=True)\n",
       "            (lin2): Linear(in_features=3072, out_features=768, bias=True)\n",
       "            (activation): GELUActivation()\n",
       "          )\n",
       "          (output_layer_norm): LayerNorm((768,), eps=1e-12, elementwise_affine=True)\n",
       "        )\n",
       "        (2): TransformerBlock(\n",
       "          (attention): MultiHeadSelfAttention(\n",
       "            (dropout): Dropout(p=0.1, inplace=False)\n",
       "            (q_lin): Linear(in_features=768, out_features=768, bias=True)\n",
       "            (k_lin): Linear(in_features=768, out_features=768, bias=True)\n",
       "            (v_lin): Linear(in_features=768, out_features=768, bias=True)\n",
       "            (out_lin): Linear(in_features=768, out_features=768, bias=True)\n",
       "          )\n",
       "          (sa_layer_norm): LayerNorm((768,), eps=1e-12, elementwise_affine=True)\n",
       "          (ffn): FFN(\n",
       "            (dropout): Dropout(p=0.1, inplace=False)\n",
       "            (lin1): Linear(in_features=768, out_features=3072, bias=True)\n",
       "            (lin2): Linear(in_features=3072, out_features=768, bias=True)\n",
       "            (activation): GELUActivation()\n",
       "          )\n",
       "          (output_layer_norm): LayerNorm((768,), eps=1e-12, elementwise_affine=True)\n",
       "        )\n",
       "        (3): TransformerBlock(\n",
       "          (attention): MultiHeadSelfAttention(\n",
       "            (dropout): Dropout(p=0.1, inplace=False)\n",
       "            (q_lin): Linear(in_features=768, out_features=768, bias=True)\n",
       "            (k_lin): Linear(in_features=768, out_features=768, bias=True)\n",
       "            (v_lin): Linear(in_features=768, out_features=768, bias=True)\n",
       "            (out_lin): Linear(in_features=768, out_features=768, bias=True)\n",
       "          )\n",
       "          (sa_layer_norm): LayerNorm((768,), eps=1e-12, elementwise_affine=True)\n",
       "          (ffn): FFN(\n",
       "            (dropout): Dropout(p=0.1, inplace=False)\n",
       "            (lin1): Linear(in_features=768, out_features=3072, bias=True)\n",
       "            (lin2): Linear(in_features=3072, out_features=768, bias=True)\n",
       "            (activation): GELUActivation()\n",
       "          )\n",
       "          (output_layer_norm): LayerNorm((768,), eps=1e-12, elementwise_affine=True)\n",
       "        )\n",
       "        (4): TransformerBlock(\n",
       "          (attention): MultiHeadSelfAttention(\n",
       "            (dropout): Dropout(p=0.1, inplace=False)\n",
       "            (q_lin): Linear(in_features=768, out_features=768, bias=True)\n",
       "            (k_lin): Linear(in_features=768, out_features=768, bias=True)\n",
       "            (v_lin): Linear(in_features=768, out_features=768, bias=True)\n",
       "            (out_lin): Linear(in_features=768, out_features=768, bias=True)\n",
       "          )\n",
       "          (sa_layer_norm): LayerNorm((768,), eps=1e-12, elementwise_affine=True)\n",
       "          (ffn): FFN(\n",
       "            (dropout): Dropout(p=0.1, inplace=False)\n",
       "            (lin1): Linear(in_features=768, out_features=3072, bias=True)\n",
       "            (lin2): Linear(in_features=3072, out_features=768, bias=True)\n",
       "            (activation): GELUActivation()\n",
       "          )\n",
       "          (output_layer_norm): LayerNorm((768,), eps=1e-12, elementwise_affine=True)\n",
       "        )\n",
       "        (5): TransformerBlock(\n",
       "          (attention): MultiHeadSelfAttention(\n",
       "            (dropout): Dropout(p=0.1, inplace=False)\n",
       "            (q_lin): Linear(in_features=768, out_features=768, bias=True)\n",
       "            (k_lin): Linear(in_features=768, out_features=768, bias=True)\n",
       "            (v_lin): Linear(in_features=768, out_features=768, bias=True)\n",
       "            (out_lin): Linear(in_features=768, out_features=768, bias=True)\n",
       "          )\n",
       "          (sa_layer_norm): LayerNorm((768,), eps=1e-12, elementwise_affine=True)\n",
       "          (ffn): FFN(\n",
       "            (dropout): Dropout(p=0.1, inplace=False)\n",
       "            (lin1): Linear(in_features=768, out_features=3072, bias=True)\n",
       "            (lin2): Linear(in_features=3072, out_features=768, bias=True)\n",
       "            (activation): GELUActivation()\n",
       "          )\n",
       "          (output_layer_norm): LayerNorm((768,), eps=1e-12, elementwise_affine=True)\n",
       "        )\n",
       "      )\n",
       "    )\n",
       "  )\n",
       "  (pre_classifier): Linear(in_features=768, out_features=768, bias=True)\n",
       "  (classifier): Linear(in_features=768, out_features=3, bias=True)\n",
       "  (dropout): Dropout(p=0.2, inplace=False)\n",
       ")"
      ]
     },
     "execution_count": 43,
     "metadata": {},
     "output_type": "execute_result"
    }
   ],
   "source": [
    "device = torch.device(\"cuda\") if torch.cuda.is_available() else torch.device(\"cpu\")\n",
    "distilbert_model.to(device)"
   ]
  },
  {
   "cell_type": "markdown",
   "metadata": {
    "id": "8FIOouQvB21U"
   },
   "source": [
    "### Testing DistilBERT model"
   ]
  },
  {
   "cell_type": "code",
   "execution_count": 44,
   "metadata": {
    "id": "q0uNDRjOB21U",
    "outputId": "c7e16b38-4579-4257-8e5e-fb5ca40d1d26",
    "scrolled": true
   },
   "outputs": [],
   "source": [
    "# from datasets import load_metric\n",
    "# distilbert_model.eval()\n",
    "# preds = []\n",
    "\n",
    "# metric1 = load_metric('accuracy')\n",
    "# metric2 = load_metric(\"precision\")\n",
    "# metric3 = load_metric(\"recall\")\n",
    "\n",
    "# progress_bar = tqdm(val_dataloader)\n",
    "# distilbert_model.eval()\n",
    "# for batch in val_dataloader:\n",
    "#     batch = {k: v.to(device) for k, v in batch.items()}\n",
    "#     with torch.no_grad():\n",
    "#         outputs = distilbert_model(**batch)\n",
    "\n",
    "#     logits = outputs.logits\n",
    "#     predictions = torch.argmax(logits, dim=-1)\n",
    "#     preds.append(predictions.cpu().detach().tolist())\n",
    "#     metric1.add_batch(predictions=predictions, references=batch[\"labels\"])\n",
    "#     metric2.add_batch(predictions=predictions, references=batch[\"labels\"])\n",
    "#     metric3.add_batch(predictions=predictions, references=batch[\"labels\"])\n",
    "#     progress_bar.update(1)\n",
    "    \n",
    "# accuracy = metric1.compute()\n",
    "# precision = metric2.compute(average='macro')\n",
    "# recall = metric3.compute(average='macro')"
   ]
  },
  {
   "cell_type": "code",
   "execution_count": 45,
   "metadata": {
    "id": "jrUg6YR-B21V",
    "outputId": "b14f3c64-863a-4dd6-f33e-fb6412b946b7",
    "scrolled": true
   },
   "outputs": [],
   "source": [
    "# print(accuracy)\n",
    "# print(precision)\n",
    "# print(recall)"
   ]
  },
  {
   "cell_type": "code",
   "execution_count": 46,
   "metadata": {
    "id": "SrzBCh8cB21V",
    "scrolled": true
   },
   "outputs": [],
   "source": [
    "# distilbert_model.to('cpu')"
   ]
  },
  {
   "cell_type": "code",
   "execution_count": 47,
   "metadata": {
    "id": "A_5R_xcwB21V",
    "scrolled": true
   },
   "outputs": [],
   "source": [
    "# tokenizer.decode(db_tokenized_ds_test[2]['input_ids'], skip_special_tokens=True)"
   ]
  },
  {
   "cell_type": "code",
   "execution_count": 48,
   "metadata": {
    "id": "yfR4ZRJcXZar",
    "scrolled": true
   },
   "outputs": [],
   "source": [
    "# for i in range(100):\n",
    "#     text = tokenizer.decode(tokenized_ds_test[i]['input_ids'], skip_special_tokens=True)\n",
    "#     true_label = tokenized_ds_test[i]['labels']\n",
    "#     inputs = tokenizer(text, return_tensors=\"pt\")\n",
    "\n",
    "#     with torch.no_grad():\n",
    "#       outputs = distilbert_model(**inputs)\n",
    "#       prediction = torch.argmax(outputs.logits, dim=-1).item()\n",
    "#     if(prediction != true_label):\n",
    "#         print(f\"TEXT: {text} \\nTRUE LABEL:{true_label} - PREDICTION: {prediction}\\n\\n\")"
   ]
  },
  {
   "cell_type": "markdown",
   "metadata": {
    "id": "IHW4UgZKyG49"
   },
   "source": [
    "## Experiments\n"
   ]
  },
  {
   "cell_type": "markdown",
   "metadata": {
    "id": "FfDIhVaC9YaU"
   },
   "source": [
    "### Preprocessing dataset of November\n",
    "A second unlabeled dataset with comments from the \"r/cryptocurrency\" subreddit will be used to conduct experiments on the model.\n",
    "\n",
    "This dataset was built using the PushShift API (https://github.com/pushshift/api) for Reddit which is used to collect data of posts and comments from Reddit and `pmaw` (https://pypi.org/project/pmaw/0.0.2/) which is a wrapper for the PushShift API to make multiple requests.\n",
    "\n",
    "The timeframe selected for the comments in the dataset is the month of November 2021, we believe this timeframe to be significant because of multiple sudden crashes of the crypto market which happened throughout the month."
   ]
  },
  {
   "cell_type": "code",
   "execution_count": 70,
   "metadata": {
    "id": "9gx1oJt-1G-B",
    "scrolled": true
   },
   "outputs": [],
   "source": [
    "df_month = pd.read_csv(PATH+'./june_cc.csv')"
   ]
  },
  {
   "cell_type": "code",
   "execution_count": 71,
   "metadata": {
    "colab": {
     "base_uri": "https://localhost:8080/"
    },
    "id": "csfy0eFGAYYX",
    "outputId": "3d34baa0-8b6a-4f6d-972f-a07a01b1afe0",
    "scrolled": true
   },
   "outputs": [
    {
     "name": "stdout",
     "output_type": "stream",
     "text": [
      "Number of deleted rows: 31050\n",
      "Number of deleted rows with automatic comments: 2533\n"
     ]
    }
   ],
   "source": [
    "remove_comments(df_month)"
   ]
  },
  {
   "cell_type": "code",
   "execution_count": 72,
   "metadata": {
    "id": "kjE94AvU0_S9",
    "scrolled": true
   },
   "outputs": [],
   "source": [
    "df_month['created_utc'] = pd.to_datetime(df_month['created_utc'],unit='s')"
   ]
  },
  {
   "cell_type": "code",
   "execution_count": 73,
   "metadata": {
    "id": "UCUgOOOjAf1S",
    "scrolled": true
   },
   "outputs": [],
   "source": [
    "df_month = df_month.dropna()\n",
    "df_month = df_month[df_month['body'].apply(lambda x: len(x) <= 512) ]\n",
    "df_month.rename(columns={\"body\":\"text\"}, inplace=True)\n",
    "df_month.reset_index(drop=True, inplace=True)"
   ]
  },
  {
   "cell_type": "code",
   "execution_count": 76,
   "metadata": {},
   "outputs": [],
   "source": [
    "df_month.drop(labels = df_month[df_month['created_utc'].dt.month == 5].index, inplace=True)\n"
   ]
  },
  {
   "cell_type": "code",
   "execution_count": 80,
   "metadata": {},
   "outputs": [
    {
     "data": {
      "text/html": [
       "<div>\n",
       "<style scoped>\n",
       "    .dataframe tbody tr th:only-of-type {\n",
       "        vertical-align: middle;\n",
       "    }\n",
       "\n",
       "    .dataframe tbody tr th {\n",
       "        vertical-align: top;\n",
       "    }\n",
       "\n",
       "    .dataframe thead th {\n",
       "        text-align: right;\n",
       "    }\n",
       "</style>\n",
       "<table border=\"1\" class=\"dataframe\">\n",
       "  <thead>\n",
       "    <tr style=\"text-align: right;\">\n",
       "      <th></th>\n",
       "      <th>text</th>\n",
       "      <th>created_utc</th>\n",
       "    </tr>\n",
       "  </thead>\n",
       "  <tbody>\n",
       "    <tr>\n",
       "      <th>0</th>\n",
       "      <td>Get your red dildos ready folk</td>\n",
       "      <td>2022-06-03 22:53:55</td>\n",
       "    </tr>\n",
       "    <tr>\n",
       "      <th>1</th>\n",
       "      <td>Imagine if Con edison tips off the police acco...</td>\n",
       "      <td>2022-06-03 22:53:50</td>\n",
       "    </tr>\n",
       "    <tr>\n",
       "      <th>2</th>\n",
       "      <td>Yeah just comparing 2018 to this cycle has mad...</td>\n",
       "      <td>2022-06-03 22:53:48</td>\n",
       "    </tr>\n",
       "    <tr>\n",
       "      <th>3</th>\n",
       "      <td>Probably because this post has nothing to do w...</td>\n",
       "      <td>2022-06-03 22:53:43</td>\n",
       "    </tr>\n",
       "    <tr>\n",
       "      <th>4</th>\n",
       "      <td>Exposing your components to a high temperature...</td>\n",
       "      <td>2022-06-03 22:53:39</td>\n",
       "    </tr>\n",
       "    <tr>\n",
       "      <th>...</th>\n",
       "      <td>...</td>\n",
       "      <td>...</td>\n",
       "    </tr>\n",
       "    <tr>\n",
       "      <th>442237</th>\n",
       "      <td>Thank you for submitting to /r/CryptoCurrency,...</td>\n",
       "      <td>2022-06-19 12:41:09</td>\n",
       "    </tr>\n",
       "    <tr>\n",
       "      <th>442238</th>\n",
       "      <td>Thank you for submitting to /r/CryptoCurrency,...</td>\n",
       "      <td>2022-06-19 12:41:08</td>\n",
       "    </tr>\n",
       "    <tr>\n",
       "      <th>442239</th>\n",
       "      <td>Newbies in crypto bull market \"Let's exit the ...</td>\n",
       "      <td>2022-06-19 12:40:57</td>\n",
       "    </tr>\n",
       "    <tr>\n",
       "      <th>442240</th>\n",
       "      <td>Solana is just a piggy bank for FTX Almeida an...</td>\n",
       "      <td>2022-06-19 12:40:51</td>\n",
       "    </tr>\n",
       "    <tr>\n",
       "      <th>442241</th>\n",
       "      <td>I can add to that also that I have about 10 is...</td>\n",
       "      <td>2022-06-19 12:40:47</td>\n",
       "    </tr>\n",
       "  </tbody>\n",
       "</table>\n",
       "<p>441891 rows × 2 columns</p>\n",
       "</div>"
      ],
      "text/plain": [
       "                                                     text         created_utc\n",
       "0                          Get your red dildos ready folk 2022-06-03 22:53:55\n",
       "1       Imagine if Con edison tips off the police acco... 2022-06-03 22:53:50\n",
       "2       Yeah just comparing 2018 to this cycle has mad... 2022-06-03 22:53:48\n",
       "3       Probably because this post has nothing to do w... 2022-06-03 22:53:43\n",
       "4       Exposing your components to a high temperature... 2022-06-03 22:53:39\n",
       "...                                                   ...                 ...\n",
       "442237  Thank you for submitting to /r/CryptoCurrency,... 2022-06-19 12:41:09\n",
       "442238  Thank you for submitting to /r/CryptoCurrency,... 2022-06-19 12:41:08\n",
       "442239  Newbies in crypto bull market \"Let's exit the ... 2022-06-19 12:40:57\n",
       "442240  Solana is just a piggy bank for FTX Almeida an... 2022-06-19 12:40:51\n",
       "442241  I can add to that also that I have about 10 is... 2022-06-19 12:40:47\n",
       "\n",
       "[441891 rows x 2 columns]"
      ]
     },
     "execution_count": 80,
     "metadata": {},
     "output_type": "execute_result"
    }
   ],
   "source": [
    "df_month[df_month['created_utc'].dt.month == 6]"
   ]
  },
  {
   "cell_type": "markdown",
   "metadata": {
    "id": "qp3N56Li7k2Y"
   },
   "source": [
    "### Predict sentiment of each day\n",
    "The comments are split according to the day of the month, in this way we obtain the number of positive and negative comments for each day.\n"
   ]
  },
  {
   "cell_type": "code",
   "execution_count": 81,
   "metadata": {
    "id": "n6U5Z3Ji30B5",
    "scrolled": true
   },
   "outputs": [
    {
     "name": "stderr",
     "output_type": "stream",
     "text": [
      "\n",
      "  0%|                                                                                           | 0/14 [00:00<?, ?ba/s]\u001b[A\n",
      "  7%|█████▉                                                                             | 1/14 [00:00<00:04,  3.08ba/s]\u001b[A\n",
      " 14%|███████████▊                                                                       | 2/14 [00:00<00:03,  3.01ba/s]\u001b[A\n",
      " 21%|█████████████████▊                                                                 | 3/14 [00:01<00:03,  2.92ba/s]\u001b[A\n",
      " 29%|███████████████████████▋                                                           | 4/14 [00:01<00:03,  2.77ba/s]\u001b[A\n",
      " 36%|█████████████████████████████▋                                                     | 5/14 [00:01<00:03,  2.64ba/s]\u001b[A\n",
      " 43%|███████████████████████████████████▌                                               | 6/14 [00:02<00:03,  2.36ba/s]\u001b[A\n",
      " 50%|█████████████████████████████████████████▌                                         | 7/14 [00:02<00:02,  2.52ba/s]\u001b[A\n",
      " 57%|███████████████████████████████████████████████▍                                   | 8/14 [00:03<00:02,  2.60ba/s]\u001b[A\n",
      " 64%|█████████████████████████████████████████████████████▎                             | 9/14 [00:03<00:01,  2.61ba/s]\u001b[A\n",
      " 71%|██████████████████████████████████████████████████████████▌                       | 10/14 [00:03<00:01,  2.70ba/s]\u001b[A\n",
      " 79%|████████████████████████████████████████████████████████████████▍                 | 11/14 [00:04<00:01,  2.76ba/s]\u001b[A\n",
      " 86%|██████████████████████████████████████████████████████████████████████▎           | 12/14 [00:04<00:00,  2.84ba/s]\u001b[A\n",
      " 93%|████████████████████████████████████████████████████████████████████████████▏     | 13/14 [00:04<00:00,  2.51ba/s]\u001b[A\n",
      "100%|██████████████████████████████████████████████████████████████████████████████████| 14/14 [00:05<00:00,  2.78ba/s]\u001b[A\n",
      "\n",
      "  0%|                                                                                           | 0/12 [00:00<?, ?ba/s]\u001b[A\n",
      "  8%|██████▉                                                                            | 1/12 [00:00<00:03,  2.75ba/s]\u001b[A\n",
      " 17%|█████████████▊                                                                     | 2/12 [00:00<00:03,  2.87ba/s]\u001b[A\n",
      " 25%|████████████████████▊                                                              | 3/12 [00:01<00:03,  2.86ba/s]\u001b[A\n",
      " 33%|███████████████████████████▋                                                       | 4/12 [00:01<00:02,  2.87ba/s]\u001b[A\n",
      " 42%|██████████████████████████████████▌                                                | 5/12 [00:01<00:02,  2.86ba/s]\u001b[A\n",
      " 50%|█████████████████████████████████████████▌                                         | 6/12 [00:02<00:02,  2.80ba/s]\u001b[A\n",
      " 58%|████████████████████████████████████████████████▍                                  | 7/12 [00:02<00:01,  2.60ba/s]\u001b[A\n",
      " 67%|███████████████████████████████████████████████████████▎                           | 8/12 [00:02<00:01,  2.69ba/s]\u001b[A\n",
      " 75%|██████████████████████████████████████████████████████████████▎                    | 9/12 [00:03<00:01,  2.71ba/s]\u001b[A\n",
      " 83%|████████████████████████████████████████████████████████████████████▎             | 10/12 [00:03<00:00,  2.75ba/s]\u001b[A\n",
      "100%|██████████████████████████████████████████████████████████████████████████████████| 12/12 [00:04<00:00,  2.96ba/s]\u001b[A\n",
      "\n",
      "  0%|                                                                                           | 0/12 [00:00<?, ?ba/s]\u001b[A\n",
      "  8%|██████▉                                                                            | 1/12 [00:00<00:04,  2.69ba/s]\u001b[A\n",
      " 17%|█████████████▊                                                                     | 2/12 [00:00<00:03,  2.70ba/s]\u001b[A\n",
      " 25%|████████████████████▊                                                              | 3/12 [00:01<00:03,  2.56ba/s]\u001b[A\n",
      " 33%|███████████████████████████▋                                                       | 4/12 [00:01<00:03,  2.30ba/s]\u001b[A\n",
      " 42%|██████████████████████████████████▌                                                | 5/12 [00:02<00:02,  2.44ba/s]\u001b[A\n",
      " 50%|█████████████████████████████████████████▌                                         | 6/12 [00:02<00:02,  2.52ba/s]\u001b[A\n",
      " 58%|████████████████████████████████████████████████▍                                  | 7/12 [00:02<00:01,  2.63ba/s]\u001b[A\n",
      " 67%|███████████████████████████████████████████████████████▎                           | 8/12 [00:03<00:01,  2.67ba/s]\u001b[A\n",
      " 75%|██████████████████████████████████████████████████████████████▎                    | 9/12 [00:03<00:01,  2.67ba/s]\u001b[A\n",
      " 83%|████████████████████████████████████████████████████████████████████▎             | 10/12 [00:03<00:00,  2.60ba/s]\u001b[A\n",
      "100%|██████████████████████████████████████████████████████████████████████████████████| 12/12 [00:04<00:00,  2.74ba/s]\u001b[A\n",
      "\n",
      "  0%|                                                                                           | 0/10 [00:00<?, ?ba/s]\u001b[A\n",
      " 10%|████████▎                                                                          | 1/10 [00:00<00:03,  2.98ba/s]\u001b[A\n",
      " 20%|████████████████▌                                                                  | 2/10 [00:00<00:02,  2.89ba/s]\u001b[A\n",
      " 30%|████████████████████████▉                                                          | 3/10 [00:01<00:02,  2.89ba/s]\u001b[A\n",
      " 40%|█████████████████████████████████▏                                                 | 4/10 [00:01<00:02,  2.82ba/s]\u001b[A\n",
      " 50%|█████████████████████████████████████████▌                                         | 5/10 [00:01<00:01,  2.88ba/s]\u001b[A\n",
      " 60%|█████████████████████████████████████████████████▊                                 | 6/10 [00:02<00:01,  2.78ba/s]\u001b[A\n",
      " 70%|██████████████████████████████████████████████████████████                         | 7/10 [00:02<00:01,  2.71ba/s]\u001b[A\n",
      " 80%|██████████████████████████████████████████████████████████████████▍                | 8/10 [00:02<00:00,  2.49ba/s]\u001b[A\n",
      "100%|██████████████████████████████████████████████████████████████████████████████████| 10/10 [00:03<00:00,  2.94ba/s]\u001b[A\n",
      "\n",
      "  0%|                                                                                           | 0/11 [00:00<?, ?ba/s]\u001b[A\n",
      "  9%|███████▌                                                                           | 1/11 [00:00<00:03,  2.97ba/s]\u001b[A\n",
      " 18%|███████████████                                                                    | 2/11 [00:00<00:03,  2.93ba/s]\u001b[A\n",
      " 27%|██████████████████████▋                                                            | 3/11 [00:01<00:02,  2.89ba/s]\u001b[A\n",
      " 36%|██████████████████████████████▏                                                    | 4/11 [00:01<00:02,  2.86ba/s]\u001b[A\n",
      " 45%|█████████████████████████████████████▋                                             | 5/11 [00:01<00:02,  2.50ba/s]\u001b[A\n",
      " 55%|█████████████████████████████████████████████▎                                     | 6/11 [00:02<00:01,  2.64ba/s]\u001b[A\n",
      " 64%|████████████████████████████████████████████████████▊                              | 7/11 [00:02<00:01,  2.71ba/s]\u001b[A\n",
      " 73%|████████████████████████████████████████████████████████████▎                      | 8/11 [00:02<00:01,  2.77ba/s]\u001b[A\n",
      " 82%|███████████████████████████████████████████████████████████████████▉               | 9/11 [00:03<00:00,  2.83ba/s]\u001b[A\n",
      " 91%|██████████████████████████████████████████████████████████████████████████▌       | 10/11 [00:03<00:00,  2.85ba/s]\u001b[A\n",
      "100%|██████████████████████████████████████████████████████████████████████████████████| 11/11 [00:03<00:00,  2.83ba/s]\u001b[A\n",
      "\n",
      "  0%|                                                                                           | 0/11 [00:00<?, ?ba/s]\u001b[A\n",
      "  9%|███████▌                                                                           | 1/11 [00:00<00:04,  2.41ba/s]\u001b[A\n",
      " 18%|███████████████                                                                    | 2/11 [00:00<00:04,  2.19ba/s]\u001b[A\n",
      " 27%|██████████████████████▋                                                            | 3/11 [00:01<00:03,  2.41ba/s]\u001b[A\n",
      " 36%|██████████████████████████████▏                                                    | 4/11 [00:01<00:02,  2.54ba/s]\u001b[A\n"
     ]
    },
    {
     "name": "stderr",
     "output_type": "stream",
     "text": [
      " 45%|█████████████████████████████████████▋                                             | 5/11 [00:02<00:02,  2.59ba/s]\u001b[A\n",
      " 55%|█████████████████████████████████████████████▎                                     | 6/11 [00:02<00:01,  2.68ba/s]\u001b[A\n",
      " 64%|████████████████████████████████████████████████████▊                              | 7/11 [00:02<00:01,  2.63ba/s]\u001b[A\n",
      " 73%|████████████████████████████████████████████████████████████▎                      | 8/11 [00:03<00:01,  2.63ba/s]\u001b[A\n",
      " 82%|███████████████████████████████████████████████████████████████████▉               | 9/11 [00:03<00:00,  2.37ba/s]\u001b[A\n",
      "100%|██████████████████████████████████████████████████████████████████████████████████| 11/11 [00:04<00:00,  2.70ba/s]\u001b[A\n",
      "\n",
      "  0%|                                                                                           | 0/12 [00:00<?, ?ba/s]\u001b[A\n",
      "  8%|██████▉                                                                            | 1/12 [00:00<00:04,  2.32ba/s]\u001b[A\n",
      " 17%|█████████████▊                                                                     | 2/12 [00:00<00:03,  2.61ba/s]\u001b[A\n",
      " 25%|████████████████████▊                                                              | 3/12 [00:01<00:03,  2.79ba/s]\u001b[A\n",
      " 33%|███████████████████████████▋                                                       | 4/12 [00:01<00:02,  2.84ba/s]\u001b[A\n",
      " 42%|██████████████████████████████████▌                                                | 5/12 [00:01<00:02,  2.91ba/s]\u001b[A\n",
      " 50%|█████████████████████████████████████████▌                                         | 6/12 [00:02<00:02,  2.90ba/s]\u001b[A\n",
      " 58%|████████████████████████████████████████████████▍                                  | 7/12 [00:02<00:01,  2.95ba/s]\u001b[A\n",
      " 67%|███████████████████████████████████████████████████████▎                           | 8/12 [00:02<00:01,  2.95ba/s]\u001b[A\n",
      " 75%|██████████████████████████████████████████████████████████████▎                    | 9/12 [00:03<00:01,  2.91ba/s]\u001b[A\n",
      " 83%|████████████████████████████████████████████████████████████████████▎             | 10/12 [00:03<00:00,  2.62ba/s]\u001b[A\n",
      "100%|██████████████████████████████████████████████████████████████████████████████████| 12/12 [00:04<00:00,  2.96ba/s]\u001b[A\n",
      "\n",
      "  0%|                                                                                           | 0/11 [00:00<?, ?ba/s]\u001b[A\n",
      "  9%|███████▌                                                                           | 1/11 [00:00<00:03,  3.02ba/s]\u001b[A\n",
      " 18%|███████████████                                                                    | 2/11 [00:00<00:03,  2.98ba/s]\u001b[A\n",
      " 27%|██████████████████████▋                                                            | 3/11 [00:00<00:02,  3.01ba/s]\u001b[A\n",
      " 36%|██████████████████████████████▏                                                    | 4/11 [00:01<00:02,  3.00ba/s]\u001b[A\n",
      " 45%|█████████████████████████████████████▋                                             | 5/11 [00:01<00:01,  3.06ba/s]\u001b[A\n",
      " 55%|█████████████████████████████████████████████▎                                     | 6/11 [00:01<00:01,  3.06ba/s]\u001b[A\n",
      " 64%|████████████████████████████████████████████████████▊                              | 7/11 [00:02<00:01,  2.97ba/s]\u001b[A\n",
      " 73%|████████████████████████████████████████████████████████████▎                      | 8/11 [00:02<00:01,  2.90ba/s]\u001b[A\n",
      " 82%|███████████████████████████████████████████████████████████████████▉               | 9/11 [00:03<00:00,  2.88ba/s]\u001b[A\n",
      " 91%|██████████████████████████████████████████████████████████████████████████▌       | 10/11 [00:03<00:00,  2.89ba/s]\u001b[A\n",
      "100%|██████████████████████████████████████████████████████████████████████████████████| 11/11 [00:03<00:00,  3.04ba/s]\u001b[A\n",
      "\n",
      "  0%|                                                                                           | 0/12 [00:00<?, ?ba/s]\u001b[A\n",
      "  8%|██████▉                                                                            | 1/12 [00:00<00:04,  2.43ba/s]\u001b[A\n",
      " 17%|█████████████▊                                                                     | 2/12 [00:00<00:04,  2.20ba/s]\u001b[A\n",
      " 25%|████████████████████▊                                                              | 3/12 [00:01<00:03,  2.46ba/s]\u001b[A\n",
      " 33%|███████████████████████████▋                                                       | 4/12 [00:01<00:03,  2.55ba/s]\u001b[A\n",
      " 42%|██████████████████████████████████▌                                                | 5/12 [00:01<00:02,  2.65ba/s]\u001b[A\n",
      " 50%|█████████████████████████████████████████▌                                         | 6/12 [00:02<00:02,  2.76ba/s]\u001b[A\n",
      " 58%|████████████████████████████████████████████████▍                                  | 7/12 [00:02<00:01,  2.74ba/s]\u001b[A\n",
      " 67%|███████████████████████████████████████████████████████▎                           | 8/12 [00:03<00:01,  2.74ba/s]\u001b[A\n",
      " 75%|██████████████████████████████████████████████████████████████▎                    | 9/12 [00:03<00:01,  2.74ba/s]\u001b[A\n",
      " 83%|████████████████████████████████████████████████████████████████████▎             | 10/12 [00:03<00:00,  2.80ba/s]\u001b[A\n",
      "100%|██████████████████████████████████████████████████████████████████████████████████| 12/12 [00:04<00:00,  2.86ba/s]\u001b[A\n",
      "\n",
      "  0%|                                                                                           | 0/13 [00:00<?, ?ba/s]\u001b[A\n",
      "  8%|██████▍                                                                            | 1/13 [00:00<00:04,  2.93ba/s]\u001b[A\n",
      " 15%|████████████▊                                                                      | 2/13 [00:00<00:03,  2.86ba/s]\u001b[A\n",
      " 23%|███████████████████▏                                                               | 3/13 [00:01<00:03,  2.82ba/s]\u001b[A\n",
      " 31%|█████████████████████████▌                                                         | 4/13 [00:01<00:03,  2.93ba/s]\u001b[A\n",
      " 38%|███████████████████████████████▉                                                   | 5/13 [00:01<00:02,  2.89ba/s]\u001b[A\n",
      " 46%|██████████████████████████████████████▎                                            | 6/13 [00:02<00:02,  2.77ba/s]\u001b[A\n",
      " 54%|████████████████████████████████████████████▋                                      | 7/13 [00:02<00:02,  2.52ba/s]\u001b[A\n",
      " 62%|███████████████████████████████████████████████████                                | 8/13 [00:02<00:01,  2.63ba/s]\u001b[A\n",
      " 69%|█████████████████████████████████████████████████████████▍                         | 9/13 [00:03<00:01,  2.67ba/s]\u001b[A\n",
      " 77%|███████████████████████████████████████████████████████████████                   | 10/13 [00:03<00:01,  2.82ba/s]\u001b[A\n",
      " 85%|█████████████████████████████████████████████████████████████████████▍            | 11/13 [00:03<00:00,  2.86ba/s]\u001b[A\n",
      "100%|██████████████████████████████████████████████████████████████████████████████████| 13/13 [00:04<00:00,  3.04ba/s]\u001b[A\n",
      "\n",
      "  0%|                                                                                           | 0/14 [00:00<?, ?ba/s]\u001b[A\n",
      "  7%|█████▉                                                                             | 1/14 [00:00<00:04,  3.16ba/s]\u001b[A\n",
      " 14%|███████████▊                                                                       | 2/14 [00:00<00:03,  3.01ba/s]\u001b[A\n",
      " 21%|█████████████████▊                                                                 | 3/14 [00:00<00:03,  3.02ba/s]\u001b[A\n",
      " 29%|███████████████████████▋                                                           | 4/14 [00:01<00:03,  3.08ba/s]\u001b[A\n",
      " 36%|█████████████████████████████▋                                                     | 5/14 [00:01<00:02,  3.04ba/s]\u001b[A\n",
      " 43%|███████████████████████████████████▌                                               | 6/14 [00:01<00:02,  3.01ba/s]\u001b[A\n",
      " 50%|█████████████████████████████████████████▌                                         | 7/14 [00:02<00:02,  2.94ba/s]\u001b[A\n",
      " 57%|███████████████████████████████████████████████▍                                   | 8/14 [00:02<00:02,  2.56ba/s]\u001b[A\n",
      " 64%|█████████████████████████████████████████████████████▎                             | 9/14 [00:03<00:01,  2.63ba/s]\u001b[A\n",
      " 71%|██████████████████████████████████████████████████████████▌                       | 10/14 [00:03<00:01,  2.67ba/s]\u001b[A\n"
     ]
    },
    {
     "name": "stderr",
     "output_type": "stream",
     "text": [
      " 79%|████████████████████████████████████████████████████████████████▍                 | 11/14 [00:03<00:01,  2.74ba/s]\u001b[A\n",
      " 86%|██████████████████████████████████████████████████████████████████████▎           | 12/14 [00:04<00:00,  2.71ba/s]\u001b[A\n",
      " 93%|████████████████████████████████████████████████████████████████████████████▏     | 13/14 [00:04<00:00,  2.74ba/s]\u001b[A\n",
      "100%|██████████████████████████████████████████████████████████████████████████████████| 14/14 [00:04<00:00,  2.95ba/s]\u001b[A\n",
      "\n",
      "  0%|                                                                                           | 0/20 [00:00<?, ?ba/s]\u001b[A\n",
      "  5%|████▏                                                                              | 1/20 [00:00<00:06,  2.90ba/s]\u001b[A\n",
      " 10%|████████▎                                                                          | 2/20 [00:00<00:06,  2.98ba/s]\u001b[A\n",
      " 15%|████████████▍                                                                      | 3/20 [00:00<00:05,  3.03ba/s]\u001b[A\n",
      " 20%|████████████████▌                                                                  | 4/20 [00:01<00:05,  2.77ba/s]\u001b[A\n",
      " 25%|████████████████████▊                                                              | 5/20 [00:01<00:05,  2.85ba/s]\u001b[A\n",
      " 30%|████████████████████████▉                                                          | 6/20 [00:02<00:04,  2.92ba/s]\u001b[A\n",
      " 35%|█████████████████████████████                                                      | 7/20 [00:02<00:04,  2.90ba/s]\u001b[A\n",
      " 40%|█████████████████████████████████▏                                                 | 8/20 [00:02<00:04,  2.58ba/s]\u001b[A\n",
      " 45%|█████████████████████████████████████▎                                             | 9/20 [00:03<00:04,  2.66ba/s]\u001b[A\n",
      " 50%|█████████████████████████████████████████                                         | 10/20 [00:03<00:03,  2.78ba/s]\u001b[A\n",
      " 55%|█████████████████████████████████████████████                                     | 11/20 [00:03<00:03,  2.89ba/s]\u001b[A\n",
      " 60%|█████████████████████████████████████████████████▏                                | 12/20 [00:04<00:02,  2.98ba/s]\u001b[A\n",
      " 65%|█████████████████████████████████████████████████████▎                            | 13/20 [00:04<00:02,  2.93ba/s]\u001b[A\n",
      " 70%|█████████████████████████████████████████████████████████▍                        | 14/20 [00:04<00:02,  2.97ba/s]\u001b[A\n",
      " 75%|█████████████████████████████████████████████████████████████▌                    | 15/20 [00:05<00:01,  2.95ba/s]\u001b[A\n",
      " 80%|█████████████████████████████████████████████████████████████████▌                | 16/20 [00:05<00:01,  2.76ba/s]\u001b[A\n",
      " 85%|█████████████████████████████████████████████████████████████████████▋            | 17/20 [00:06<00:01,  2.74ba/s]\u001b[A\n",
      " 90%|█████████████████████████████████████████████████████████████████████████▊        | 18/20 [00:06<00:00,  2.86ba/s]\u001b[A\n",
      " 95%|█████████████████████████████████████████████████████████████████████████████▉    | 19/20 [00:06<00:00,  2.89ba/s]\u001b[A\n",
      "100%|██████████████████████████████████████████████████████████████████████████████████| 20/20 [00:06<00:00,  2.92ba/s]\u001b[A\n",
      "\n",
      "  0%|                                                                                           | 0/34 [00:00<?, ?ba/s]\u001b[A\n",
      "  3%|██▍                                                                                | 1/34 [00:00<00:10,  3.24ba/s]\u001b[A\n",
      "  6%|████▉                                                                              | 2/34 [00:00<00:10,  3.06ba/s]\u001b[A\n",
      "  9%|███████▎                                                                           | 3/34 [00:00<00:10,  3.01ba/s]\u001b[A\n",
      " 12%|█████████▊                                                                         | 4/34 [00:01<00:09,  3.05ba/s]\u001b[A\n",
      " 15%|████████████▏                                                                      | 5/34 [00:01<00:09,  3.00ba/s]\u001b[A\n",
      " 18%|██████████████▋                                                                    | 6/34 [00:02<00:09,  2.92ba/s]\u001b[A\n",
      " 21%|█████████████████                                                                  | 7/34 [00:02<00:10,  2.69ba/s]\u001b[A\n",
      " 24%|███████████████████▌                                                               | 8/34 [00:02<00:09,  2.82ba/s]\u001b[A\n",
      " 26%|█████████████████████▉                                                             | 9/34 [00:03<00:08,  2.86ba/s]\u001b[A\n",
      " 29%|████████████████████████                                                          | 10/34 [00:03<00:08,  2.95ba/s]\u001b[A\n",
      " 32%|██████████████████████████▌                                                       | 11/34 [00:03<00:07,  3.02ba/s]\u001b[A\n",
      " 35%|████████████████████████████▉                                                     | 12/34 [00:04<00:07,  3.07ba/s]\u001b[A\n",
      " 38%|███████████████████████████████▎                                                  | 13/34 [00:04<00:07,  3.00ba/s]\u001b[A\n",
      " 41%|█████████████████████████████████▊                                                | 14/34 [00:04<00:06,  2.99ba/s]\u001b[A\n",
      " 44%|████████████████████████████████████▏                                             | 15/34 [00:05<00:07,  2.71ba/s]\u001b[A\n",
      " 47%|██████████████████████████████████████▌                                           | 16/34 [00:05<00:06,  2.79ba/s]\u001b[A\n",
      " 50%|█████████████████████████████████████████                                         | 17/34 [00:05<00:06,  2.80ba/s]\u001b[A\n",
      " 53%|███████████████████████████████████████████▍                                      | 18/34 [00:06<00:05,  2.78ba/s]\u001b[A\n",
      " 56%|█████████████████████████████████████████████▊                                    | 19/34 [00:06<00:05,  2.85ba/s]\u001b[A\n",
      " 59%|████████████████████████████████████████████████▏                                 | 20/34 [00:06<00:04,  2.91ba/s]\u001b[A\n",
      " 62%|██████████████████████████████████████████████████▋                               | 21/34 [00:07<00:04,  3.00ba/s]\u001b[A\n",
      " 65%|█████████████████████████████████████████████████████                             | 22/34 [00:07<00:03,  3.00ba/s]\u001b[A\n",
      " 68%|███████████████████████████████████████████████████████▍                          | 23/34 [00:07<00:03,  2.96ba/s]\u001b[A\n",
      " 71%|█████████████████████████████████████████████████████████▉                        | 24/34 [00:08<00:03,  2.81ba/s]\u001b[A\n",
      " 74%|████████████████████████████████████████████████████████████▎                     | 25/34 [00:08<00:03,  2.77ba/s]\u001b[A\n",
      " 76%|██████████████████████████████████████████████████████████████▋                   | 26/34 [00:09<00:03,  2.55ba/s]\u001b[A\n",
      " 79%|█████████████████████████████████████████████████████████████████                 | 27/34 [00:09<00:02,  2.69ba/s]\u001b[A\n",
      " 82%|███████████████████████████████████████████████████████████████████▌              | 28/34 [00:09<00:02,  2.76ba/s]\u001b[A\n",
      " 85%|█████████████████████████████████████████████████████████████████████▉            | 29/34 [00:10<00:01,  2.82ba/s]\u001b[A\n",
      " 88%|████████████████████████████████████████████████████████████████████████▎         | 30/34 [00:10<00:01,  2.91ba/s]\u001b[A\n",
      " 91%|██████████████████████████████████████████████████████████████████████████▊       | 31/34 [00:10<00:01,  2.84ba/s]\u001b[A\n",
      " 94%|█████████████████████████████████████████████████████████████████████████████▏    | 32/34 [00:11<00:00,  2.89ba/s]\u001b[A\n",
      " 97%|███████████████████████████████████████████████████████████████████████████████▌  | 33/34 [00:11<00:00,  2.80ba/s]\u001b[A\n",
      "100%|██████████████████████████████████████████████████████████████████████████████████| 34/34 [00:11<00:00,  2.85ba/s]\u001b[A\n",
      "\n",
      "  0%|                                                                                           | 0/25 [00:00<?, ?ba/s]\u001b[A\n",
      "  4%|███▎                                                                               | 1/25 [00:00<00:08,  2.88ba/s]\u001b[A\n",
      "  8%|██████▋                                                                            | 2/25 [00:00<00:08,  2.87ba/s]\u001b[A\n",
      " 12%|█████████▉                                                                         | 3/25 [00:01<00:07,  2.82ba/s]\u001b[A\n",
      " 16%|█████████████▎                                                                     | 4/25 [00:01<00:07,  2.82ba/s]\u001b[A\n",
      " 20%|████████████████▌                                                                  | 5/25 [00:01<00:07,  2.55ba/s]\u001b[A\n"
     ]
    },
    {
     "name": "stderr",
     "output_type": "stream",
     "text": [
      " 24%|███████████████████▉                                                               | 6/25 [00:02<00:07,  2.61ba/s]\u001b[A\n",
      " 28%|███████████████████████▏                                                           | 7/25 [00:02<00:06,  2.68ba/s]\u001b[A\n",
      " 32%|██████████████████████████▌                                                        | 8/25 [00:02<00:06,  2.63ba/s]\u001b[A\n",
      " 36%|█████████████████████████████▉                                                     | 9/25 [00:03<00:06,  2.30ba/s]\u001b[A\n",
      " 40%|████████████████████████████████▊                                                 | 10/25 [00:03<00:06,  2.48ba/s]\u001b[A\n",
      " 44%|████████████████████████████████████                                              | 11/25 [00:04<00:05,  2.56ba/s]\u001b[A\n",
      " 48%|███████████████████████████████████████▎                                          | 12/25 [00:04<00:04,  2.71ba/s]\u001b[A\n",
      " 52%|██████████████████████████████████████████▋                                       | 13/25 [00:04<00:04,  2.72ba/s]\u001b[A\n",
      " 56%|█████████████████████████████████████████████▉                                    | 14/25 [00:05<00:04,  2.72ba/s]\u001b[A\n",
      " 60%|█████████████████████████████████████████████████▏                                | 15/25 [00:05<00:03,  2.66ba/s]\u001b[A\n",
      " 64%|████████████████████████████████████████████████████▍                             | 16/25 [00:06<00:03,  2.39ba/s]\u001b[A\n",
      " 68%|███████████████████████████████████████████████████████▊                          | 17/25 [00:06<00:03,  2.49ba/s]\u001b[A\n",
      " 72%|███████████████████████████████████████████████████████████                       | 18/25 [00:06<00:02,  2.50ba/s]\u001b[A\n",
      " 76%|██████████████████████████████████████████████████████████████▎                   | 19/25 [00:07<00:02,  2.58ba/s]\u001b[A\n",
      " 80%|█████████████████████████████████████████████████████████████████▌                | 20/25 [00:07<00:01,  2.63ba/s]\u001b[A\n",
      " 84%|████████████████████████████████████████████████████████████████████▉             | 21/25 [00:07<00:01,  2.77ba/s]\u001b[A\n",
      " 88%|████████████████████████████████████████████████████████████████████████▏         | 22/25 [00:08<00:01,  2.74ba/s]\u001b[A\n",
      " 92%|███████████████████████████████████████████████████████████████████████████▍      | 23/25 [00:08<00:00,  2.71ba/s]\u001b[A\n",
      " 96%|██████████████████████████████████████████████████████████████████████████████▋   | 24/25 [00:09<00:00,  2.63ba/s]\u001b[A\n",
      "100%|██████████████████████████████████████████████████████████████████████████████████| 25/25 [00:09<00:00,  2.65ba/s]\u001b[A\n",
      "\n",
      "  0%|                                                                                           | 0/26 [00:00<?, ?ba/s]\u001b[A\n",
      "  4%|███▏                                                                               | 1/26 [00:00<00:07,  3.13ba/s]\u001b[A\n",
      "  8%|██████▍                                                                            | 2/26 [00:00<00:07,  3.06ba/s]\u001b[A\n",
      " 12%|█████████▌                                                                         | 3/26 [00:01<00:07,  2.89ba/s]\u001b[A\n",
      " 15%|████████████▊                                                                      | 4/26 [00:01<00:07,  2.91ba/s]\u001b[A\n",
      " 19%|███████████████▉                                                                   | 5/26 [00:01<00:07,  2.90ba/s]\u001b[A\n",
      " 23%|███████████████████▏                                                               | 6/26 [00:02<00:07,  2.80ba/s]\u001b[A\n",
      " 27%|██████████████████████▎                                                            | 7/26 [00:02<00:06,  2.78ba/s]\u001b[A\n",
      " 31%|█████████████████████████▌                                                         | 8/26 [00:02<00:07,  2.52ba/s]\u001b[A\n",
      " 35%|████████████████████████████▋                                                      | 9/26 [00:03<00:06,  2.60ba/s]\u001b[A\n",
      " 38%|███████████████████████████████▌                                                  | 10/26 [00:03<00:05,  2.69ba/s]\u001b[A\n",
      " 42%|██████████████████████████████████▋                                               | 11/26 [00:04<00:05,  2.67ba/s]\u001b[A\n",
      " 46%|█████████████████████████████████████▊                                            | 12/26 [00:04<00:05,  2.71ba/s]\u001b[A\n",
      " 50%|█████████████████████████████████████████                                         | 13/26 [00:04<00:04,  2.80ba/s]\u001b[A\n",
      " 54%|████████████████████████████████████████████▏                                     | 14/26 [00:05<00:04,  2.84ba/s]\u001b[A\n",
      " 58%|███████████████████████████████████████████████▎                                  | 15/26 [00:05<00:03,  2.85ba/s]\u001b[A\n",
      " 62%|██████████████████████████████████████████████████▍                               | 16/26 [00:05<00:03,  2.79ba/s]\u001b[A\n",
      " 65%|█████████████████████████████████████████████████████▌                            | 17/26 [00:06<00:03,  2.74ba/s]\u001b[A\n",
      " 69%|████████████████████████████████████████████████████████▊                         | 18/26 [00:06<00:03,  2.56ba/s]\u001b[A\n",
      " 73%|███████████████████████████████████████████████████████████▉                      | 19/26 [00:06<00:02,  2.66ba/s]\u001b[A\n",
      " 77%|███████████████████████████████████████████████████████████████                   | 20/26 [00:07<00:02,  2.74ba/s]\u001b[A\n",
      " 81%|██████████████████████████████████████████████████████████████████▏               | 21/26 [00:07<00:01,  2.79ba/s]\u001b[A\n",
      " 85%|█████████████████████████████████████████████████████████████████████▍            | 22/26 [00:08<00:01,  2.53ba/s]\u001b[A\n",
      " 88%|████████████████████████████████████████████████████████████████████████▌         | 23/26 [00:08<00:01,  2.62ba/s]\u001b[A\n",
      " 92%|███████████████████████████████████████████████████████████████████████████▋      | 24/26 [00:08<00:00,  2.56ba/s]\u001b[A\n",
      " 96%|██████████████████████████████████████████████████████████████████████████████▊   | 25/26 [00:09<00:00,  2.39ba/s]\u001b[A\n",
      "100%|██████████████████████████████████████████████████████████████████████████████████| 26/26 [00:09<00:00,  2.75ba/s]\u001b[A\n",
      "\n",
      "  0%|                                                                                           | 0/19 [00:00<?, ?ba/s]\u001b[A\n",
      "  5%|████▎                                                                              | 1/19 [00:00<00:06,  2.82ba/s]\u001b[A\n",
      " 11%|████████▋                                                                          | 2/19 [00:00<00:06,  2.80ba/s]\u001b[A\n",
      " 16%|█████████████                                                                      | 3/19 [00:01<00:05,  2.75ba/s]\u001b[A\n",
      " 21%|█████████████████▍                                                                 | 4/19 [00:01<00:05,  2.76ba/s]\u001b[A\n",
      " 26%|█████████████████████▊                                                             | 5/19 [00:01<00:05,  2.74ba/s]\u001b[A\n",
      " 32%|██████████████████████████▏                                                        | 6/19 [00:02<00:04,  2.72ba/s]\u001b[A\n",
      " 37%|██████████████████████████████▌                                                    | 7/19 [00:02<00:04,  2.64ba/s]\u001b[A\n",
      " 42%|██████████████████████████████████▉                                                | 8/19 [00:03<00:04,  2.40ba/s]\u001b[A\n",
      " 47%|███████████████████████████████████████▎                                           | 9/19 [00:03<00:03,  2.51ba/s]\u001b[A\n",
      " 53%|███████████████████████████████████████████▏                                      | 10/19 [00:03<00:03,  2.59ba/s]\u001b[A\n",
      " 58%|███████████████████████████████████████████████▍                                  | 11/19 [00:04<00:03,  2.60ba/s]\u001b[A\n",
      " 63%|███████████████████████████████████████████████████▊                              | 12/19 [00:04<00:02,  2.61ba/s]\u001b[A\n",
      " 68%|████████████████████████████████████████████████████████                          | 13/19 [00:04<00:02,  2.59ba/s]\u001b[A\n",
      " 74%|████████████████████████████████████████████████████████████▍                     | 14/19 [00:05<00:01,  2.58ba/s]\u001b[A\n",
      " 79%|████████████████████████████████████████████████████████████████▋                 | 15/19 [00:05<00:01,  2.63ba/s]\u001b[A\n",
      " 84%|█████████████████████████████████████████████████████████████████████             | 16/19 [00:06<00:01,  2.32ba/s]\u001b[A\n",
      " 89%|█████████████████████████████████████████████████████████████████████████▎        | 17/19 [00:06<00:00,  2.48ba/s]\u001b[A\n",
      " 95%|█████████████████████████████████████████████████████████████████████████████▋    | 18/19 [00:06<00:00,  2.58ba/s]\u001b[A\n"
     ]
    },
    {
     "name": "stderr",
     "output_type": "stream",
     "text": [
      "100%|██████████████████████████████████████████████████████████████████████████████████| 19/19 [00:07<00:00,  2.69ba/s]\u001b[A\n",
      "\n",
      "  0%|                                                                                           | 0/16 [00:00<?, ?ba/s]\u001b[A\n",
      "  6%|█████▏                                                                             | 1/16 [00:00<00:05,  2.93ba/s]\u001b[A\n",
      " 12%|██████████▍                                                                        | 2/16 [00:00<00:04,  2.91ba/s]\u001b[A\n",
      " 19%|███████████████▌                                                                   | 3/16 [00:01<00:04,  2.95ba/s]\u001b[A\n",
      " 25%|████████████████████▊                                                              | 4/16 [00:01<00:04,  2.89ba/s]\u001b[A\n",
      " 31%|█████████████████████████▉                                                         | 5/16 [00:01<00:04,  2.69ba/s]\u001b[A\n",
      " 38%|███████████████████████████████▏                                                   | 6/16 [00:02<00:04,  2.46ba/s]\u001b[A\n",
      " 44%|████████████████████████████████████▎                                              | 7/16 [00:02<00:03,  2.56ba/s]\u001b[A\n",
      " 50%|█████████████████████████████████████████▌                                         | 8/16 [00:02<00:03,  2.61ba/s]\u001b[A\n",
      " 56%|██████████████████████████████████████████████▋                                    | 9/16 [00:03<00:02,  2.64ba/s]\u001b[A\n",
      " 62%|███████████████████████████████████████████████████▎                              | 10/16 [00:03<00:02,  2.68ba/s]\u001b[A\n",
      " 69%|████████████████████████████████████████████████████████▍                         | 11/16 [00:04<00:01,  2.68ba/s]\u001b[A\n",
      " 75%|█████████████████████████████████████████████████████████████▌                    | 12/16 [00:04<00:01,  2.65ba/s]\u001b[A\n",
      " 81%|██████████████████████████████████████████████████████████████████▋               | 13/16 [00:04<00:01,  2.46ba/s]\u001b[A\n",
      " 88%|███████████████████████████████████████████████████████████████████████▊          | 14/16 [00:05<00:00,  2.43ba/s]\u001b[A\n",
      " 94%|████████████████████████████████████████████████████████████████████████████▉     | 15/16 [00:05<00:00,  2.51ba/s]\u001b[A\n",
      "100%|██████████████████████████████████████████████████████████████████████████████████| 16/16 [00:05<00:00,  2.69ba/s]\u001b[A\n",
      "\n",
      "  0%|                                                                                           | 0/28 [00:00<?, ?ba/s]\u001b[A\n",
      "  4%|██▉                                                                                | 1/28 [00:00<00:08,  3.13ba/s]\u001b[A\n",
      "  7%|█████▉                                                                             | 2/28 [00:00<00:08,  2.97ba/s]\u001b[A\n",
      " 11%|████████▉                                                                          | 3/28 [00:01<00:08,  2.78ba/s]\u001b[A\n",
      " 14%|███████████▊                                                                       | 4/28 [00:01<00:08,  2.79ba/s]\u001b[A\n",
      " 18%|██████████████▊                                                                    | 5/28 [00:01<00:08,  2.80ba/s]\u001b[A\n",
      " 21%|█████████████████▊                                                                 | 6/28 [00:02<00:08,  2.54ba/s]\u001b[A\n",
      " 25%|████████████████████▊                                                              | 7/28 [00:02<00:08,  2.61ba/s]\u001b[A\n",
      " 29%|███████████████████████▋                                                           | 8/28 [00:02<00:07,  2.72ba/s]\u001b[A\n",
      " 32%|██████████████████████████▋                                                        | 9/28 [00:03<00:06,  2.72ba/s]\u001b[A\n",
      " 36%|█████████████████████████████▎                                                    | 10/28 [00:03<00:06,  2.75ba/s]\u001b[A\n",
      " 39%|████████████████████████████████▏                                                 | 11/28 [00:03<00:06,  2.79ba/s]\u001b[A\n",
      " 43%|███████████████████████████████████▏                                              | 12/28 [00:04<00:05,  2.83ba/s]\u001b[A\n",
      " 46%|██████████████████████████████████████                                            | 13/28 [00:04<00:05,  2.69ba/s]\u001b[A\n",
      " 50%|█████████████████████████████████████████                                         | 14/28 [00:05<00:05,  2.41ba/s]\u001b[A\n",
      " 54%|███████████████████████████████████████████▉                                      | 15/28 [00:05<00:05,  2.55ba/s]\u001b[A\n",
      " 57%|██████████████████████████████████████████████▊                                   | 16/28 [00:05<00:04,  2.61ba/s]\u001b[A\n",
      " 61%|█████████████████████████████████████████████████▊                                | 17/28 [00:06<00:04,  2.69ba/s]\u001b[A\n",
      " 64%|████████████████████████████████████████████████████▋                             | 18/28 [00:06<00:03,  2.53ba/s]\u001b[A\n",
      " 68%|███████████████████████████████████████████████████████▋                          | 19/28 [00:07<00:03,  2.65ba/s]\u001b[A\n",
      " 71%|██████████████████████████████████████████████████████████▌                       | 20/28 [00:07<00:02,  2.72ba/s]\u001b[A\n",
      " 75%|█████████████████████████████████████████████████████████████▌                    | 21/28 [00:07<00:02,  2.76ba/s]\u001b[A\n",
      " 79%|████████████████████████████████████████████████████████████████▍                 | 22/28 [00:08<00:02,  2.74ba/s]\u001b[A\n",
      " 82%|███████████████████████████████████████████████████████████████████▎              | 23/28 [00:08<00:01,  2.55ba/s]\u001b[A\n",
      " 86%|██████████████████████████████████████████████████████████████████████▎           | 24/28 [00:08<00:01,  2.74ba/s]\u001b[A\n",
      " 89%|█████████████████████████████████████████████████████████████████████████▏        | 25/28 [00:09<00:01,  2.82ba/s]\u001b[A\n",
      " 93%|████████████████████████████████████████████████████████████████████████████▏     | 26/28 [00:09<00:00,  2.89ba/s]\u001b[A\n",
      " 96%|███████████████████████████████████████████████████████████████████████████████   | 27/28 [00:09<00:00,  2.92ba/s]\u001b[A\n",
      "100%|██████████████████████████████████████████████████████████████████████████████████| 28/28 [00:10<00:00,  2.74ba/s]\u001b[A\n",
      "\n",
      "  0%|                                                                                           | 0/20 [00:00<?, ?ba/s]\u001b[A\n",
      "  5%|████▏                                                                              | 1/20 [00:00<00:07,  2.61ba/s]\u001b[A\n",
      " 10%|████████▎                                                                          | 2/20 [00:00<00:08,  2.16ba/s]\u001b[A\n",
      " 15%|████████████▍                                                                      | 3/20 [00:01<00:06,  2.47ba/s]\u001b[A\n",
      " 20%|████████████████▌                                                                  | 4/20 [00:01<00:06,  2.54ba/s]\u001b[A\n",
      " 25%|████████████████████▊                                                              | 5/20 [00:01<00:05,  2.71ba/s]\u001b[A\n",
      " 30%|████████████████████████▉                                                          | 6/20 [00:02<00:05,  2.76ba/s]\u001b[A\n",
      " 35%|█████████████████████████████                                                      | 7/20 [00:02<00:04,  2.74ba/s]\u001b[A\n",
      " 40%|█████████████████████████████████▏                                                 | 8/20 [00:03<00:04,  2.73ba/s]\u001b[A\n",
      " 45%|█████████████████████████████████████▎                                             | 9/20 [00:03<00:04,  2.74ba/s]\u001b[A\n",
      " 50%|█████████████████████████████████████████                                         | 10/20 [00:03<00:03,  2.69ba/s]\u001b[A\n",
      " 55%|█████████████████████████████████████████████                                     | 11/20 [00:04<00:03,  2.51ba/s]\u001b[A\n",
      " 60%|█████████████████████████████████████████████████▏                                | 12/20 [00:04<00:03,  2.61ba/s]\u001b[A\n",
      " 65%|█████████████████████████████████████████████████████▎                            | 13/20 [00:04<00:02,  2.68ba/s]\u001b[A\n",
      " 70%|█████████████████████████████████████████████████████████▍                        | 14/20 [00:05<00:02,  2.67ba/s]\u001b[A\n",
      " 75%|█████████████████████████████████████████████████████████████▌                    | 15/20 [00:05<00:01,  2.71ba/s]\u001b[A\n",
      " 80%|█████████████████████████████████████████████████████████████████▌                | 16/20 [00:06<00:01,  2.64ba/s]\u001b[A\n",
      " 85%|█████████████████████████████████████████████████████████████████████▋            | 17/20 [00:06<00:01,  2.50ba/s]\u001b[A\n",
      " 90%|█████████████████████████████████████████████████████████████████████████▊        | 18/20 [00:06<00:00,  2.42ba/s]\u001b[A\n"
     ]
    },
    {
     "name": "stderr",
     "output_type": "stream",
     "text": [
      " 95%|█████████████████████████████████████████████████████████████████████████████▉    | 19/20 [00:07<00:00,  2.57ba/s]\u001b[A\n",
      "100%|██████████████████████████████████████████████████████████████████████████████████| 20/20 [00:07<00:00,  2.62ba/s]\u001b[A\n",
      "\n",
      "  0%|                                                                                           | 0/16 [00:00<?, ?ba/s]\u001b[A\n",
      "  6%|█████▏                                                                             | 1/16 [00:00<00:05,  2.67ba/s]\u001b[A\n",
      " 12%|██████████▍                                                                        | 2/16 [00:00<00:05,  2.70ba/s]\u001b[A\n",
      " 19%|███████████████▌                                                                   | 3/16 [00:01<00:04,  2.83ba/s]\u001b[A\n",
      " 25%|████████████████████▊                                                              | 4/16 [00:01<00:04,  2.77ba/s]\u001b[A\n",
      " 31%|█████████████████████████▉                                                         | 5/16 [00:01<00:04,  2.69ba/s]\u001b[A\n",
      " 38%|███████████████████████████████▏                                                   | 6/16 [00:02<00:03,  2.51ba/s]\u001b[A\n",
      " 44%|████████████████████████████████████▎                                              | 7/16 [00:02<00:03,  2.61ba/s]\u001b[A\n",
      " 50%|█████████████████████████████████████████▌                                         | 8/16 [00:02<00:02,  2.67ba/s]\u001b[A\n",
      " 56%|██████████████████████████████████████████████▋                                    | 9/16 [00:03<00:02,  2.75ba/s]\u001b[A\n",
      " 62%|███████████████████████████████████████████████████▎                              | 10/16 [00:03<00:02,  2.80ba/s]\u001b[A\n",
      " 69%|████████████████████████████████████████████████████████▍                         | 11/16 [00:04<00:01,  2.76ba/s]\u001b[A\n",
      " 75%|█████████████████████████████████████████████████████████████▌                    | 12/16 [00:04<00:01,  2.73ba/s]\u001b[A\n",
      " 81%|██████████████████████████████████████████████████████████████████▋               | 13/16 [00:04<00:01,  2.37ba/s]\u001b[A\n",
      " 88%|███████████████████████████████████████████████████████████████████████▊          | 14/16 [00:05<00:00,  2.51ba/s]\u001b[A\n",
      "100%|██████████████████████████████████████████████████████████████████████████████████| 16/16 [00:05<00:00,  2.79ba/s]\u001b[A\n",
      "\n",
      "  0%|                                                                                           | 0/14 [00:00<?, ?ba/s]\u001b[A\n",
      "  7%|█████▉                                                                             | 1/14 [00:00<00:04,  2.88ba/s]\u001b[A\n",
      " 14%|███████████▊                                                                       | 2/14 [00:00<00:04,  2.91ba/s]\u001b[A\n",
      " 21%|█████████████████▊                                                                 | 3/14 [00:01<00:03,  2.84ba/s]\u001b[A\n",
      " 29%|███████████████████████▋                                                           | 4/14 [00:01<00:03,  2.77ba/s]\u001b[A\n",
      " 36%|█████████████████████████████▋                                                     | 5/14 [00:01<00:03,  2.76ba/s]\u001b[A\n",
      " 43%|███████████████████████████████████▌                                               | 6/14 [00:02<00:02,  2.73ba/s]\u001b[A\n",
      " 50%|█████████████████████████████████████████▌                                         | 7/14 [00:02<00:02,  2.44ba/s]\u001b[A\n",
      " 57%|███████████████████████████████████████████████▍                                   | 8/14 [00:03<00:02,  2.49ba/s]\u001b[A\n",
      " 64%|█████████████████████████████████████████████████████▎                             | 9/14 [00:03<00:01,  2.58ba/s]\u001b[A\n",
      " 71%|██████████████████████████████████████████████████████████▌                       | 10/14 [00:03<00:01,  2.64ba/s]\u001b[A\n",
      " 79%|████████████████████████████████████████████████████████████████▍                 | 11/14 [00:04<00:01,  2.64ba/s]\u001b[A\n",
      " 86%|██████████████████████████████████████████████████████████████████████▎           | 12/14 [00:04<00:00,  2.65ba/s]\u001b[A\n",
      "100%|██████████████████████████████████████████████████████████████████████████████████| 14/14 [00:05<00:00,  2.78ba/s]\u001b[A\n",
      "\n",
      "  0%|                                                                                           | 0/14 [00:00<?, ?ba/s]\u001b[A\n",
      "  7%|█████▉                                                                             | 1/14 [00:00<00:04,  2.83ba/s]\u001b[A\n",
      " 14%|███████████▊                                                                       | 2/14 [00:00<00:04,  2.67ba/s]\u001b[A\n",
      " 21%|█████████████████▊                                                                 | 3/14 [00:01<00:04,  2.63ba/s]\u001b[A\n",
      " 29%|███████████████████████▋                                                           | 4/14 [00:01<00:03,  2.69ba/s]\u001b[A\n",
      " 36%|█████████████████████████████▋                                                     | 5/14 [00:01<00:03,  2.74ba/s]\u001b[A\n",
      " 43%|███████████████████████████████████▌                                               | 6/14 [00:02<00:03,  2.56ba/s]\u001b[A\n",
      " 50%|█████████████████████████████████████████▌                                         | 7/14 [00:02<00:02,  2.61ba/s]\u001b[A\n",
      " 57%|███████████████████████████████████████████████▍                                   | 8/14 [00:03<00:02,  2.58ba/s]\u001b[A\n",
      " 64%|█████████████████████████████████████████████████████▎                             | 9/14 [00:03<00:02,  2.35ba/s]\u001b[A\n",
      " 71%|██████████████████████████████████████████████████████████▌                       | 10/14 [00:03<00:01,  2.45ba/s]\u001b[A\n",
      " 79%|████████████████████████████████████████████████████████████████▍                 | 11/14 [00:04<00:01,  2.56ba/s]\u001b[A\n",
      " 86%|██████████████████████████████████████████████████████████████████████▎           | 12/14 [00:04<00:00,  2.66ba/s]\u001b[A\n",
      "100%|██████████████████████████████████████████████████████████████████████████████████| 14/14 [00:05<00:00,  2.76ba/s]\u001b[A\n",
      "\n",
      "  0%|                                                                                           | 0/14 [00:00<?, ?ba/s]\u001b[A\n",
      "  7%|█████▉                                                                             | 1/14 [00:00<00:05,  2.50ba/s]\u001b[A\n",
      " 14%|███████████▊                                                                       | 2/14 [00:00<00:05,  2.31ba/s]\u001b[A\n",
      " 21%|█████████████████▊                                                                 | 3/14 [00:01<00:04,  2.39ba/s]\u001b[A\n",
      " 29%|███████████████████████▋                                                           | 4/14 [00:01<00:04,  2.50ba/s]\u001b[A\n",
      " 36%|█████████████████████████████▋                                                     | 5/14 [00:01<00:03,  2.59ba/s]\u001b[A\n",
      " 43%|███████████████████████████████████▌                                               | 6/14 [00:02<00:02,  2.68ba/s]\u001b[A\n",
      " 50%|█████████████████████████████████████████▌                                         | 7/14 [00:02<00:02,  2.71ba/s]\u001b[A\n",
      " 57%|███████████████████████████████████████████████▍                                   | 8/14 [00:03<00:02,  2.71ba/s]\u001b[A\n",
      " 64%|█████████████████████████████████████████████████████▎                             | 9/14 [00:03<00:01,  2.73ba/s]\u001b[A\n",
      " 71%|██████████████████████████████████████████████████████████▌                       | 10/14 [00:03<00:01,  2.69ba/s]\u001b[A\n",
      " 79%|████████████████████████████████████████████████████████████████▍                 | 11/14 [00:04<00:01,  2.44ba/s]\u001b[A\n",
      " 86%|██████████████████████████████████████████████████████████████████████▎           | 12/14 [00:04<00:00,  2.49ba/s]\u001b[A\n",
      " 93%|████████████████████████████████████████████████████████████████████████████▏     | 13/14 [00:05<00:00,  2.52ba/s]\u001b[A\n",
      "100%|██████████████████████████████████████████████████████████████████████████████████| 14/14 [00:05<00:00,  2.63ba/s]\u001b[A\n",
      "\n",
      "  0%|                                                                                           | 0/12 [00:00<?, ?ba/s]\u001b[A\n",
      "  8%|██████▉                                                                            | 1/12 [00:00<00:03,  3.06ba/s]\u001b[A\n",
      " 17%|█████████████▊                                                                     | 2/12 [00:00<00:03,  2.87ba/s]\u001b[A\n",
      " 25%|████████████████████▊                                                              | 3/12 [00:01<00:03,  2.69ba/s]\u001b[A\n",
      " 33%|███████████████████████████▋                                                       | 4/12 [00:01<00:03,  2.52ba/s]\u001b[A\n"
     ]
    },
    {
     "name": "stderr",
     "output_type": "stream",
     "text": [
      " 42%|██████████████████████████████████▌                                                | 5/12 [00:01<00:02,  2.38ba/s]\u001b[A\n",
      " 50%|█████████████████████████████████████████▌                                         | 6/12 [00:02<00:02,  2.55ba/s]\u001b[A\n",
      " 58%|████████████████████████████████████████████████▍                                  | 7/12 [00:02<00:01,  2.61ba/s]\u001b[A\n",
      " 67%|███████████████████████████████████████████████████████▎                           | 8/12 [00:03<00:01,  2.60ba/s]\u001b[A\n",
      " 75%|██████████████████████████████████████████████████████████████▎                    | 9/12 [00:03<00:01,  2.69ba/s]\u001b[A\n",
      " 83%|████████████████████████████████████████████████████████████████████▎             | 10/12 [00:03<00:00,  2.70ba/s]\u001b[A\n",
      " 92%|███████████████████████████████████████████████████████████████████████████▏      | 11/12 [00:04<00:00,  2.71ba/s]\u001b[A\n",
      "100%|██████████████████████████████████████████████████████████████████████████████████| 12/12 [00:04<00:00,  2.81ba/s]\u001b[A\n",
      "\n",
      "  0%|                                                                                           | 0/11 [00:00<?, ?ba/s]\u001b[A\n",
      "  9%|███████▌                                                                           | 1/11 [00:00<00:04,  2.11ba/s]\u001b[A\n",
      " 18%|███████████████                                                                    | 2/11 [00:00<00:03,  2.45ba/s]\u001b[A\n",
      " 27%|██████████████████████▋                                                            | 3/11 [00:01<00:02,  2.67ba/s]\u001b[A\n",
      " 36%|██████████████████████████████▏                                                    | 4/11 [00:01<00:02,  2.74ba/s]\u001b[A\n",
      " 45%|█████████████████████████████████████▋                                             | 5/11 [00:01<00:02,  2.74ba/s]\u001b[A\n",
      " 55%|█████████████████████████████████████████████▎                                     | 6/11 [00:02<00:01,  2.77ba/s]\u001b[A\n",
      " 64%|████████████████████████████████████████████████████▊                              | 7/11 [00:02<00:01,  2.86ba/s]\u001b[A\n",
      " 73%|████████████████████████████████████████████████████████████▎                      | 8/11 [00:02<00:01,  2.76ba/s]\u001b[A\n",
      " 82%|███████████████████████████████████████████████████████████████████▉               | 9/11 [00:03<00:00,  2.42ba/s]\u001b[A\n",
      "100%|██████████████████████████████████████████████████████████████████████████████████| 11/11 [00:03<00:00,  2.80ba/s]\u001b[A\n",
      "\n",
      "  0%|                                                                                           | 0/10 [00:00<?, ?ba/s]\u001b[A\n",
      " 10%|████████▎                                                                          | 1/10 [00:00<00:02,  3.08ba/s]\u001b[A\n",
      " 20%|████████████████▌                                                                  | 2/10 [00:00<00:02,  2.96ba/s]\u001b[A\n",
      " 30%|████████████████████████▉                                                          | 3/10 [00:01<00:02,  2.84ba/s]\u001b[A\n",
      " 40%|█████████████████████████████████▏                                                 | 4/10 [00:01<00:02,  2.81ba/s]\u001b[A\n",
      " 50%|█████████████████████████████████████████▌                                         | 5/10 [00:01<00:01,  2.80ba/s]\u001b[A\n",
      " 60%|█████████████████████████████████████████████████▊                                 | 6/10 [00:02<00:01,  2.79ba/s]\u001b[A\n",
      " 70%|██████████████████████████████████████████████████████████                         | 7/10 [00:02<00:01,  2.69ba/s]\u001b[A\n",
      " 80%|██████████████████████████████████████████████████████████████████▍                | 8/10 [00:03<00:00,  2.33ba/s]\u001b[A\n",
      " 90%|██████████████████████████████████████████████████████████████████████████▋        | 9/10 [00:03<00:00,  2.41ba/s]\u001b[A\n",
      "100%|██████████████████████████████████████████████████████████████████████████████████| 10/10 [00:03<00:00,  2.77ba/s]\u001b[A\n",
      "\n",
      "  0%|                                                                                           | 0/12 [00:00<?, ?ba/s]\u001b[A\n",
      "  8%|██████▉                                                                            | 1/12 [00:00<00:04,  2.39ba/s]\u001b[A\n",
      " 17%|█████████████▊                                                                     | 2/12 [00:00<00:04,  2.22ba/s]\u001b[A\n",
      " 25%|████████████████████▊                                                              | 3/12 [00:01<00:03,  2.36ba/s]\u001b[A\n",
      " 33%|███████████████████████████▋                                                       | 4/12 [00:01<00:03,  2.46ba/s]\u001b[A\n",
      " 42%|██████████████████████████████████▌                                                | 5/12 [00:02<00:02,  2.54ba/s]\u001b[A\n",
      " 50%|█████████████████████████████████████████▌                                         | 6/12 [00:02<00:02,  2.46ba/s]\u001b[A\n",
      " 58%|████████████████████████████████████████████████▍                                  | 7/12 [00:03<00:02,  2.21ba/s]\u001b[A\n",
      " 67%|███████████████████████████████████████████████████████▎                           | 8/12 [00:03<00:01,  2.34ba/s]\u001b[A\n",
      " 75%|██████████████████████████████████████████████████████████████▎                    | 9/12 [00:03<00:01,  2.40ba/s]\u001b[A\n",
      " 83%|████████████████████████████████████████████████████████████████████▎             | 10/12 [00:04<00:00,  2.45ba/s]\u001b[A\n",
      " 92%|███████████████████████████████████████████████████████████████████████████▏      | 11/12 [00:04<00:00,  2.52ba/s]\u001b[A\n",
      "100%|██████████████████████████████████████████████████████████████████████████████████| 12/12 [00:04<00:00,  2.45ba/s]\u001b[A\n",
      "\n",
      "  0%|                                                                                           | 0/12 [00:00<?, ?ba/s]\u001b[A\n",
      "  8%|██████▉                                                                            | 1/12 [00:00<00:04,  2.72ba/s]\u001b[A\n",
      " 17%|█████████████▊                                                                     | 2/12 [00:00<00:03,  2.66ba/s]\u001b[A\n",
      " 25%|████████████████████▊                                                              | 3/12 [00:01<00:03,  2.61ba/s]\u001b[A\n",
      " 33%|███████████████████████████▋                                                       | 4/12 [00:01<00:03,  2.24ba/s]\u001b[A\n",
      " 42%|██████████████████████████████████▌                                                | 5/12 [00:02<00:02,  2.39ba/s]\u001b[A\n",
      " 50%|█████████████████████████████████████████▌                                         | 6/12 [00:02<00:02,  2.52ba/s]\u001b[A\n",
      " 58%|████████████████████████████████████████████████▍                                  | 7/12 [00:02<00:01,  2.61ba/s]\u001b[A\n",
      " 67%|███████████████████████████████████████████████████████▎                           | 8/12 [00:03<00:01,  2.64ba/s]\u001b[A\n",
      " 75%|██████████████████████████████████████████████████████████████▎                    | 9/12 [00:03<00:01,  2.65ba/s]\u001b[A\n",
      " 83%|████████████████████████████████████████████████████████████████████▎             | 10/12 [00:03<00:00,  2.65ba/s]\u001b[A\n",
      "100%|██████████████████████████████████████████████████████████████████████████████████| 12/12 [00:04<00:00,  2.72ba/s]\u001b[A\n",
      "\n",
      "  0%|                                                                                           | 0/12 [00:00<?, ?ba/s]\u001b[A\n",
      "  8%|██████▉                                                                            | 1/12 [00:00<00:03,  2.93ba/s]\u001b[A\n",
      " 17%|█████████████▊                                                                     | 2/12 [00:00<00:03,  2.83ba/s]\u001b[A\n",
      " 25%|████████████████████▊                                                              | 3/12 [00:01<00:03,  2.85ba/s]\u001b[A\n",
      " 33%|███████████████████████████▋                                                       | 4/12 [00:01<00:02,  2.89ba/s]\u001b[A\n",
      " 42%|██████████████████████████████████▌                                                | 5/12 [00:01<00:02,  2.94ba/s]\u001b[A\n",
      " 50%|█████████████████████████████████████████▌                                         | 6/12 [00:02<00:02,  2.87ba/s]\u001b[A\n",
      " 58%|████████████████████████████████████████████████▍                                  | 7/12 [00:02<00:01,  2.82ba/s]\u001b[A\n",
      " 67%|███████████████████████████████████████████████████████▎                           | 8/12 [00:02<00:01,  2.78ba/s]\u001b[A\n",
      " 75%|██████████████████████████████████████████████████████████████▎                    | 9/12 [00:03<00:01,  2.42ba/s]\u001b[A\n",
      " 83%|████████████████████████████████████████████████████████████████████▎             | 10/12 [00:03<00:00,  2.52ba/s]\u001b[A\n"
     ]
    },
    {
     "name": "stderr",
     "output_type": "stream",
     "text": [
      " 92%|███████████████████████████████████████████████████████████████████████████▏      | 11/12 [00:04<00:00,  2.59ba/s]\u001b[A\n",
      "100%|██████████████████████████████████████████████████████████████████████████████████| 12/12 [00:04<00:00,  2.86ba/s]\u001b[A\n",
      "\n",
      "  0%|                                                                                           | 0/13 [00:00<?, ?ba/s]\u001b[A\n",
      "  8%|██████▍                                                                            | 1/13 [00:00<00:04,  2.92ba/s]\u001b[A\n",
      " 15%|████████████▊                                                                      | 2/13 [00:00<00:03,  2.94ba/s]\u001b[A\n",
      " 23%|███████████████████▏                                                               | 3/13 [00:01<00:03,  2.88ba/s]\u001b[A\n",
      " 31%|█████████████████████████▌                                                         | 4/13 [00:01<00:03,  2.54ba/s]\u001b[A\n",
      " 38%|███████████████████████████████▉                                                   | 5/13 [00:01<00:03,  2.44ba/s]\u001b[A\n",
      " 46%|██████████████████████████████████████▎                                            | 6/13 [00:02<00:02,  2.56ba/s]\u001b[A\n",
      " 54%|████████████████████████████████████████████▋                                      | 7/13 [00:02<00:02,  2.65ba/s]\u001b[A\n",
      " 62%|███████████████████████████████████████████████████                                | 8/13 [00:02<00:01,  2.76ba/s]\u001b[A\n",
      " 69%|█████████████████████████████████████████████████████████▍                         | 9/13 [00:03<00:01,  2.82ba/s]\u001b[A\n",
      " 77%|███████████████████████████████████████████████████████████████                   | 10/13 [00:03<00:01,  2.84ba/s]\u001b[A\n",
      " 85%|█████████████████████████████████████████████████████████████████████▍            | 11/13 [00:04<00:00,  2.86ba/s]\u001b[A\n",
      " 92%|███████████████████████████████████████████████████████████████████████████▋      | 12/13 [00:04<00:00,  2.91ba/s]\u001b[A\n",
      "100%|██████████████████████████████████████████████████████████████████████████████████| 13/13 [00:04<00:00,  2.87ba/s]\u001b[A\n"
     ]
    }
   ],
   "source": [
    "import calendar\n",
    "from datasets import Dataset\n",
    "\n",
    "df_days = []\n",
    "tok_ds_days = []\n",
    "\n",
    "year = \"2022\"\n",
    "month_selected = df_month['created_utc'].dt.month.unique()\n",
    "year_selected = df_month['created_utc'].dt.year.unique()\n",
    "\n",
    "num_days = calendar.monthrange(int(year_selected), int(month_selected))[1]\n",
    "\n",
    "for day_number in range(1, num_days+1):\n",
    "  df_tmp = df_month[df_month['created_utc'].dt.day == day_number]\n",
    "  df_days.append(df_tmp) \n",
    "\n",
    "  ds_day = Dataset.from_pandas(df_tmp)\n",
    "  tok_ds_days.append(ds_day.map(tokenize_function, batched=True))"
   ]
  },
  {
   "cell_type": "code",
   "execution_count": 82,
   "metadata": {},
   "outputs": [
    {
     "data": {
      "text/plain": [
       "30"
      ]
     },
     "execution_count": 82,
     "metadata": {},
     "output_type": "execute_result"
    }
   ],
   "source": [
    "len(tok_ds_days)"
   ]
  },
  {
   "cell_type": "code",
   "execution_count": 83,
   "metadata": {
    "id": "yxYu_FHnB21c",
    "scrolled": true
   },
   "outputs": [],
   "source": [
    "for i in range(num_days):\n",
    "    tok_ds_days[i] = tok_ds_days[i].remove_columns([\"__index_level_0__\"])\n",
    "    tok_ds_days[i] = tok_ds_days[i].remove_columns([\"text\"])\n",
    "    tok_ds_days[i] = tok_ds_days[i].remove_columns([\"created_utc\"])"
   ]
  },
  {
   "cell_type": "code",
   "execution_count": 84,
   "metadata": {
    "id": "5x77pSCICidl",
    "scrolled": false
   },
   "outputs": [
    {
     "name": "stderr",
     "output_type": "stream",
     "text": [
      "\n",
      "100%|███████████████████████████████████████████████████████████████████████████████| 31/31 [3:57:19<00:00, 459.32s/it]\u001b[A\n",
      "C:\\Users\\lucas\\AppData\\Local\\Temp\\ipykernel_4664\\518105551.py:20: SettingWithCopyWarning: \n",
      "A value is trying to be set on a copy of a slice from a DataFrame.\n",
      "Try using .loc[row_indexer,col_indexer] = value instead\n",
      "\n",
      "See the caveats in the documentation: https://pandas.pydata.org/pandas-docs/stable/user_guide/indexing.html#returning-a-view-versus-a-copy\n",
      "  df_days[i]['prediction'] = preds\n",
      "\n",
      "  3%|██▊                                                                                | 1/30 [01:31<44:20, 91.75s/it]\u001b[AC:\\Users\\lucas\\AppData\\Local\\Temp\\ipykernel_4664\\518105551.py:20: SettingWithCopyWarning: \n",
      "A value is trying to be set on a copy of a slice from a DataFrame.\n",
      "Try using .loc[row_indexer,col_indexer] = value instead\n",
      "\n",
      "See the caveats in the documentation: https://pandas.pydata.org/pandas-docs/stable/user_guide/indexing.html#returning-a-view-versus-a-copy\n",
      "  df_days[i]['prediction'] = preds\n",
      "\n",
      "  7%|█████▌                                                                             | 2/30 [02:49<39:01, 83.62s/it]\u001b[AC:\\Users\\lucas\\AppData\\Local\\Temp\\ipykernel_4664\\518105551.py:20: SettingWithCopyWarning: \n",
      "A value is trying to be set on a copy of a slice from a DataFrame.\n",
      "Try using .loc[row_indexer,col_indexer] = value instead\n",
      "\n",
      "See the caveats in the documentation: https://pandas.pydata.org/pandas-docs/stable/user_guide/indexing.html#returning-a-view-versus-a-copy\n",
      "  df_days[i]['prediction'] = preds\n",
      "\n",
      " 10%|████████▎                                                                          | 3/30 [04:07<36:25, 80.93s/it]\u001b[AC:\\Users\\lucas\\AppData\\Local\\Temp\\ipykernel_4664\\518105551.py:20: SettingWithCopyWarning: \n",
      "A value is trying to be set on a copy of a slice from a DataFrame.\n",
      "Try using .loc[row_indexer,col_indexer] = value instead\n",
      "\n",
      "See the caveats in the documentation: https://pandas.pydata.org/pandas-docs/stable/user_guide/indexing.html#returning-a-view-versus-a-copy\n",
      "  df_days[i]['prediction'] = preds\n",
      "\n",
      " 13%|███████████                                                                        | 4/30 [05:11<32:13, 74.35s/it]\u001b[AC:\\Users\\lucas\\AppData\\Local\\Temp\\ipykernel_4664\\518105551.py:20: SettingWithCopyWarning: \n",
      "A value is trying to be set on a copy of a slice from a DataFrame.\n",
      "Try using .loc[row_indexer,col_indexer] = value instead\n",
      "\n",
      "See the caveats in the documentation: https://pandas.pydata.org/pandas-docs/stable/user_guide/indexing.html#returning-a-view-versus-a-copy\n",
      "  df_days[i]['prediction'] = preds\n",
      "\n",
      " 17%|█████████████▊                                                                     | 5/30 [06:27<31:09, 74.77s/it]\u001b[AC:\\Users\\lucas\\AppData\\Local\\Temp\\ipykernel_4664\\518105551.py:20: SettingWithCopyWarning: \n",
      "A value is trying to be set on a copy of a slice from a DataFrame.\n",
      "Try using .loc[row_indexer,col_indexer] = value instead\n",
      "\n",
      "See the caveats in the documentation: https://pandas.pydata.org/pandas-docs/stable/user_guide/indexing.html#returning-a-view-versus-a-copy\n",
      "  df_days[i]['prediction'] = preds\n",
      "\n",
      " 20%|████████████████▌                                                                  | 6/30 [07:39<29:35, 73.99s/it]\u001b[AC:\\Users\\lucas\\AppData\\Local\\Temp\\ipykernel_4664\\518105551.py:20: SettingWithCopyWarning: \n",
      "A value is trying to be set on a copy of a slice from a DataFrame.\n",
      "Try using .loc[row_indexer,col_indexer] = value instead\n",
      "\n",
      "See the caveats in the documentation: https://pandas.pydata.org/pandas-docs/stable/user_guide/indexing.html#returning-a-view-versus-a-copy\n",
      "  df_days[i]['prediction'] = preds\n",
      "\n",
      " 23%|███████████████████▎                                                               | 7/30 [08:58<28:54, 75.42s/it]\u001b[AC:\\Users\\lucas\\AppData\\Local\\Temp\\ipykernel_4664\\518105551.py:20: SettingWithCopyWarning: \n",
      "A value is trying to be set on a copy of a slice from a DataFrame.\n",
      "Try using .loc[row_indexer,col_indexer] = value instead\n",
      "\n",
      "See the caveats in the documentation: https://pandas.pydata.org/pandas-docs/stable/user_guide/indexing.html#returning-a-view-versus-a-copy\n",
      "  df_days[i]['prediction'] = preds\n",
      "\n",
      " 27%|██████████████████████▏                                                            | 8/30 [10:12<27:32, 75.12s/it]\u001b[AC:\\Users\\lucas\\AppData\\Local\\Temp\\ipykernel_4664\\518105551.py:20: SettingWithCopyWarning: \n",
      "A value is trying to be set on a copy of a slice from a DataFrame.\n",
      "Try using .loc[row_indexer,col_indexer] = value instead\n",
      "\n",
      "See the caveats in the documentation: https://pandas.pydata.org/pandas-docs/stable/user_guide/indexing.html#returning-a-view-versus-a-copy\n",
      "  df_days[i]['prediction'] = preds\n",
      "\n",
      " 30%|████████████████████████▉                                                          | 9/30 [11:31<26:42, 76.32s/it]\u001b[AC:\\Users\\lucas\\AppData\\Local\\Temp\\ipykernel_4664\\518105551.py:20: SettingWithCopyWarning: \n",
      "A value is trying to be set on a copy of a slice from a DataFrame.\n",
      "Try using .loc[row_indexer,col_indexer] = value instead\n",
      "\n",
      "See the caveats in the documentation: https://pandas.pydata.org/pandas-docs/stable/user_guide/indexing.html#returning-a-view-versus-a-copy\n",
      "  df_days[i]['prediction'] = preds\n",
      "\n",
      " 33%|███████████████████████████▎                                                      | 10/30 [12:56<26:18, 78.92s/it]\u001b[AC:\\Users\\lucas\\AppData\\Local\\Temp\\ipykernel_4664\\518105551.py:20: SettingWithCopyWarning: \n",
      "A value is trying to be set on a copy of a slice from a DataFrame.\n",
      "Try using .loc[row_indexer,col_indexer] = value instead\n",
      "\n",
      "See the caveats in the documentation: https://pandas.pydata.org/pandas-docs/stable/user_guide/indexing.html#returning-a-view-versus-a-copy\n",
      "  df_days[i]['prediction'] = preds\n",
      "\n",
      " 37%|██████████████████████████████                                                    | 11/30 [14:30<26:26, 83.51s/it]\u001b[AC:\\Users\\lucas\\AppData\\Local\\Temp\\ipykernel_4664\\518105551.py:20: SettingWithCopyWarning: \n",
      "A value is trying to be set on a copy of a slice from a DataFrame.\n",
      "Try using .loc[row_indexer,col_indexer] = value instead\n",
      "\n",
      "See the caveats in the documentation: https://pandas.pydata.org/pandas-docs/stable/user_guide/indexing.html#returning-a-view-versus-a-copy\n",
      "  df_days[i]['prediction'] = preds\n",
      "\n",
      " 40%|████████████████████████████████▊                                                 | 12/30 [16:46<29:55, 99.74s/it]\u001b[AC:\\Users\\lucas\\AppData\\Local\\Temp\\ipykernel_4664\\518105551.py:20: SettingWithCopyWarning: \n",
      "A value is trying to be set on a copy of a slice from a DataFrame.\n",
      "Try using .loc[row_indexer,col_indexer] = value instead\n",
      "\n",
      "See the caveats in the documentation: https://pandas.pydata.org/pandas-docs/stable/user_guide/indexing.html#returning-a-view-versus-a-copy\n",
      "  df_days[i]['prediction'] = preds\n",
      "\n",
      " 43%|███████████████████████████████████                                              | 13/30 [20:44<40:04, 141.42s/it]\u001b[AC:\\Users\\lucas\\AppData\\Local\\Temp\\ipykernel_4664\\518105551.py:20: SettingWithCopyWarning: \n",
      "A value is trying to be set on a copy of a slice from a DataFrame.\n",
      "Try using .loc[row_indexer,col_indexer] = value instead\n",
      "\n",
      "See the caveats in the documentation: https://pandas.pydata.org/pandas-docs/stable/user_guide/indexing.html#returning-a-view-versus-a-copy\n",
      "  df_days[i]['prediction'] = preds\n",
      "\n",
      " 47%|█████████████████████████████████████▊                                           | 14/30 [23:36<40:12, 150.81s/it]\u001b[AC:\\Users\\lucas\\AppData\\Local\\Temp\\ipykernel_4664\\518105551.py:20: SettingWithCopyWarning: \n",
      "A value is trying to be set on a copy of a slice from a DataFrame.\n",
      "Try using .loc[row_indexer,col_indexer] = value instead\n",
      "\n",
      "See the caveats in the documentation: https://pandas.pydata.org/pandas-docs/stable/user_guide/indexing.html#returning-a-view-versus-a-copy\n",
      "  df_days[i]['prediction'] = preds\n",
      "\n",
      " 50%|████████████████████████████████████████▌                                        | 15/30 [26:35<39:46, 159.13s/it]\u001b[AC:\\Users\\lucas\\AppData\\Local\\Temp\\ipykernel_4664\\518105551.py:20: SettingWithCopyWarning: \n",
      "A value is trying to be set on a copy of a slice from a DataFrame.\n",
      "Try using .loc[row_indexer,col_indexer] = value instead\n",
      "\n",
      "See the caveats in the documentation: https://pandas.pydata.org/pandas-docs/stable/user_guide/indexing.html#returning-a-view-versus-a-copy\n",
      "  df_days[i]['prediction'] = preds\n",
      "\n"
     ]
    },
    {
     "name": "stderr",
     "output_type": "stream",
     "text": [
      " 53%|███████████████████████████████████████████▏                                     | 16/30 [28:43<34:58, 149.90s/it]\u001b[AC:\\Users\\lucas\\AppData\\Local\\Temp\\ipykernel_4664\\518105551.py:20: SettingWithCopyWarning: \n",
      "A value is trying to be set on a copy of a slice from a DataFrame.\n",
      "Try using .loc[row_indexer,col_indexer] = value instead\n",
      "\n",
      "See the caveats in the documentation: https://pandas.pydata.org/pandas-docs/stable/user_guide/indexing.html#returning-a-view-versus-a-copy\n",
      "  df_days[i]['prediction'] = preds\n",
      "\n",
      " 57%|█████████████████████████████████████████████▉                                   | 17/30 [30:32<29:46, 137.46s/it]\u001b[AC:\\Users\\lucas\\AppData\\Local\\Temp\\ipykernel_4664\\518105551.py:20: SettingWithCopyWarning: \n",
      "A value is trying to be set on a copy of a slice from a DataFrame.\n",
      "Try using .loc[row_indexer,col_indexer] = value instead\n",
      "\n",
      "See the caveats in the documentation: https://pandas.pydata.org/pandas-docs/stable/user_guide/indexing.html#returning-a-view-versus-a-copy\n",
      "  df_days[i]['prediction'] = preds\n",
      "\n",
      " 60%|████████████████████████████████████████████████▌                                | 18/30 [33:47<30:57, 154.81s/it]\u001b[AC:\\Users\\lucas\\AppData\\Local\\Temp\\ipykernel_4664\\518105551.py:20: SettingWithCopyWarning: \n",
      "A value is trying to be set on a copy of a slice from a DataFrame.\n",
      "Try using .loc[row_indexer,col_indexer] = value instead\n",
      "\n",
      "See the caveats in the documentation: https://pandas.pydata.org/pandas-docs/stable/user_guide/indexing.html#returning-a-view-versus-a-copy\n",
      "  df_days[i]['prediction'] = preds\n",
      "\n",
      " 63%|███████████████████████████████████████████████████▎                             | 19/30 [36:05<27:27, 149.79s/it]\u001b[AC:\\Users\\lucas\\AppData\\Local\\Temp\\ipykernel_4664\\518105551.py:20: SettingWithCopyWarning: \n",
      "A value is trying to be set on a copy of a slice from a DataFrame.\n",
      "Try using .loc[row_indexer,col_indexer] = value instead\n",
      "\n",
      "See the caveats in the documentation: https://pandas.pydata.org/pandas-docs/stable/user_guide/indexing.html#returning-a-view-versus-a-copy\n",
      "  df_days[i]['prediction'] = preds\n",
      "\n",
      " 67%|██████████████████████████████████████████████████████                           | 20/30 [37:50<22:44, 136.43s/it]\u001b[AC:\\Users\\lucas\\AppData\\Local\\Temp\\ipykernel_4664\\518105551.py:20: SettingWithCopyWarning: \n",
      "A value is trying to be set on a copy of a slice from a DataFrame.\n",
      "Try using .loc[row_indexer,col_indexer] = value instead\n",
      "\n",
      "See the caveats in the documentation: https://pandas.pydata.org/pandas-docs/stable/user_guide/indexing.html#returning-a-view-versus-a-copy\n",
      "  df_days[i]['prediction'] = preds\n",
      "\n",
      " 70%|████████████████████████████████████████████████████████▋                        | 21/30 [39:21<18:25, 122.80s/it]\u001b[AC:\\Users\\lucas\\AppData\\Local\\Temp\\ipykernel_4664\\518105551.py:20: SettingWithCopyWarning: \n",
      "A value is trying to be set on a copy of a slice from a DataFrame.\n",
      "Try using .loc[row_indexer,col_indexer] = value instead\n",
      "\n",
      "See the caveats in the documentation: https://pandas.pydata.org/pandas-docs/stable/user_guide/indexing.html#returning-a-view-versus-a-copy\n",
      "  df_days[i]['prediction'] = preds\n",
      "\n",
      " 73%|███████████████████████████████████████████████████████████▍                     | 22/30 [40:54<15:08, 113.61s/it]\u001b[AC:\\Users\\lucas\\AppData\\Local\\Temp\\ipykernel_4664\\518105551.py:20: SettingWithCopyWarning: \n",
      "A value is trying to be set on a copy of a slice from a DataFrame.\n",
      "Try using .loc[row_indexer,col_indexer] = value instead\n",
      "\n",
      "See the caveats in the documentation: https://pandas.pydata.org/pandas-docs/stable/user_guide/indexing.html#returning-a-view-versus-a-copy\n",
      "  df_days[i]['prediction'] = preds\n",
      "\n",
      " 77%|██████████████████████████████████████████████████████████████                   | 23/30 [42:28<12:35, 107.97s/it]\u001b[AC:\\Users\\lucas\\AppData\\Local\\Temp\\ipykernel_4664\\518105551.py:20: SettingWithCopyWarning: \n",
      "A value is trying to be set on a copy of a slice from a DataFrame.\n",
      "Try using .loc[row_indexer,col_indexer] = value instead\n",
      "\n",
      "See the caveats in the documentation: https://pandas.pydata.org/pandas-docs/stable/user_guide/indexing.html#returning-a-view-versus-a-copy\n",
      "  df_days[i]['prediction'] = preds\n",
      "\n",
      " 80%|█████████████████████████████████████████████████████████████████▌                | 24/30 [43:47<09:55, 99.17s/it]\u001b[AC:\\Users\\lucas\\AppData\\Local\\Temp\\ipykernel_4664\\518105551.py:20: SettingWithCopyWarning: \n",
      "A value is trying to be set on a copy of a slice from a DataFrame.\n",
      "Try using .loc[row_indexer,col_indexer] = value instead\n",
      "\n",
      "See the caveats in the documentation: https://pandas.pydata.org/pandas-docs/stable/user_guide/indexing.html#returning-a-view-versus-a-copy\n",
      "  df_days[i]['prediction'] = preds\n",
      "\n",
      " 83%|████████████████████████████████████████████████████████████████████▎             | 25/30 [44:58<07:33, 90.73s/it]\u001b[AC:\\Users\\lucas\\AppData\\Local\\Temp\\ipykernel_4664\\518105551.py:20: SettingWithCopyWarning: \n",
      "A value is trying to be set on a copy of a slice from a DataFrame.\n",
      "Try using .loc[row_indexer,col_indexer] = value instead\n",
      "\n",
      "See the caveats in the documentation: https://pandas.pydata.org/pandas-docs/stable/user_guide/indexing.html#returning-a-view-versus-a-copy\n",
      "  df_days[i]['prediction'] = preds\n",
      "\n",
      " 87%|███████████████████████████████████████████████████████████████████████           | 26/30 [46:03<05:31, 82.94s/it]\u001b[AC:\\Users\\lucas\\AppData\\Local\\Temp\\ipykernel_4664\\518105551.py:20: SettingWithCopyWarning: \n",
      "A value is trying to be set on a copy of a slice from a DataFrame.\n",
      "Try using .loc[row_indexer,col_indexer] = value instead\n",
      "\n",
      "See the caveats in the documentation: https://pandas.pydata.org/pandas-docs/stable/user_guide/indexing.html#returning-a-view-versus-a-copy\n",
      "  df_days[i]['prediction'] = preds\n",
      "\n",
      " 90%|█████████████████████████████████████████████████████████████████████████▊        | 27/30 [47:26<04:08, 82.95s/it]\u001b[AC:\\Users\\lucas\\AppData\\Local\\Temp\\ipykernel_4664\\518105551.py:20: SettingWithCopyWarning: \n",
      "A value is trying to be set on a copy of a slice from a DataFrame.\n",
      "Try using .loc[row_indexer,col_indexer] = value instead\n",
      "\n",
      "See the caveats in the documentation: https://pandas.pydata.org/pandas-docs/stable/user_guide/indexing.html#returning-a-view-versus-a-copy\n",
      "  df_days[i]['prediction'] = preds\n",
      "\n",
      " 93%|████████████████████████████████████████████████████████████████████████████▌     | 28/30 [48:42<02:41, 80.96s/it]\u001b[AC:\\Users\\lucas\\AppData\\Local\\Temp\\ipykernel_4664\\518105551.py:20: SettingWithCopyWarning: \n",
      "A value is trying to be set on a copy of a slice from a DataFrame.\n",
      "Try using .loc[row_indexer,col_indexer] = value instead\n",
      "\n",
      "See the caveats in the documentation: https://pandas.pydata.org/pandas-docs/stable/user_guide/indexing.html#returning-a-view-versus-a-copy\n",
      "  df_days[i]['prediction'] = preds\n",
      "\n",
      " 97%|███████████████████████████████████████████████████████████████████████████████▎  | 29/30 [50:01<01:20, 80.32s/it]\u001b[AC:\\Users\\lucas\\AppData\\Local\\Temp\\ipykernel_4664\\518105551.py:20: SettingWithCopyWarning: \n",
      "A value is trying to be set on a copy of a slice from a DataFrame.\n",
      "Try using .loc[row_indexer,col_indexer] = value instead\n",
      "\n",
      "See the caveats in the documentation: https://pandas.pydata.org/pandas-docs/stable/user_guide/indexing.html#returning-a-view-versus-a-copy\n",
      "  df_days[i]['prediction'] = preds\n",
      "\n",
      "100%|██████████████████████████████████████████████████████████████████████████████████| 30/30 [51:28<00:00, 82.21s/it]\u001b[A"
     ]
    }
   ],
   "source": [
    "preds_counts = []\n",
    "\n",
    "progress_bar = tqdm(range(num_days))\n",
    "for i in range(num_days):\n",
    "  preds = []\n",
    "  tok_ds_days[i].set_format(\"torch\")\n",
    "  exp_dataloader = DataLoader(tok_ds_days[i], batch_size=12)\n",
    "  for batch in exp_dataloader:\n",
    "    batch = {k: v.to(device) for k, v in batch.items()}\n",
    "    with torch.no_grad():\n",
    "        outputs = distilbert_model(**batch)\n",
    "\n",
    "    logits = outputs.logits\n",
    "    predictions = torch.argmax(logits, dim=-1)\n",
    "    preds.append(predictions.cpu().detach().tolist())\n",
    "  preds = [item for sublist in preds for item in sublist]  \n",
    "    \n",
    "  predictions_count = np.bincount(preds)\n",
    "  preds_counts.append(predictions_count)\n",
    "  df_days[i]['prediction'] = preds\n",
    "  progress_bar.update(1)"
   ]
  },
  {
   "cell_type": "markdown",
   "metadata": {
    "id": "1sqKn-Xa7k3U"
   },
   "source": [
    "A ratio of the number of positive over negative comments is computed, we will use this ratio to analyze the sentiment for the days when sudden crashes happened."
   ]
  },
  {
   "cell_type": "code",
   "execution_count": 85,
   "metadata": {
    "id": "d3je7jvp7k3U",
    "scrolled": true
   },
   "outputs": [],
   "source": [
    "scores = []\n",
    "\n",
    "for i in range(num_days):\n",
    "  scores.append(preds_counts[i][1]/preds_counts[i][0])"
   ]
  },
  {
   "cell_type": "code",
   "execution_count": 86,
   "metadata": {},
   "outputs": [
    {
     "name": "stdout",
     "output_type": "stream",
     "text": [
      "[6]\n"
     ]
    }
   ],
   "source": [
    "print(month_selected)"
   ]
  },
  {
   "cell_type": "code",
   "execution_count": 87,
   "metadata": {},
   "outputs": [
    {
     "name": "stdout",
     "output_type": "stream",
     "text": [
      "DatetimeIndex(['2022-06-01', '2022-06-02', '2022-06-03', '2022-06-04',\n",
      "               '2022-06-05', '2022-06-06', '2022-06-07', '2022-06-08',\n",
      "               '2022-06-09', '2022-06-10', '2022-06-11', '2022-06-12',\n",
      "               '2022-06-13', '2022-06-14', '2022-06-15', '2022-06-16',\n",
      "               '2022-06-17', '2022-06-18', '2022-06-19', '2022-06-20',\n",
      "               '2022-06-21', '2022-06-22', '2022-06-23', '2022-06-24',\n",
      "               '2022-06-25', '2022-06-26', '2022-06-27', '2022-06-28',\n",
      "               '2022-06-29', '2022-06-30'],\n",
      "              dtype='datetime64[ns]', freq='D')\n"
     ]
    }
   ],
   "source": [
    "year = \"2022\"\n",
    "\n",
    "start_str = str(int(month_selected))+'/1/'+year\n",
    "end_str = str(num_days)+'/'+str(int(month_selected))+'/'+str(year)\n",
    "\n",
    "\n",
    "date_days = pd.date_range(start=start_str, end=end_str)\n",
    "print(date_days)\n",
    "\n",
    "data = {'score': scores,\n",
    "        'date': date_days,}\n",
    "df_final = pd.DataFrame(data=data)"
   ]
  },
  {
   "cell_type": "code",
   "execution_count": 88,
   "metadata": {},
   "outputs": [
    {
     "data": {
      "text/html": [
       "<div>\n",
       "<style scoped>\n",
       "    .dataframe tbody tr th:only-of-type {\n",
       "        vertical-align: middle;\n",
       "    }\n",
       "\n",
       "    .dataframe tbody tr th {\n",
       "        vertical-align: top;\n",
       "    }\n",
       "\n",
       "    .dataframe thead th {\n",
       "        text-align: right;\n",
       "    }\n",
       "</style>\n",
       "<table border=\"1\" class=\"dataframe\">\n",
       "  <thead>\n",
       "    <tr style=\"text-align: right;\">\n",
       "      <th></th>\n",
       "      <th>score</th>\n",
       "      <th>date</th>\n",
       "    </tr>\n",
       "  </thead>\n",
       "  <tbody>\n",
       "    <tr>\n",
       "      <th>0</th>\n",
       "      <td>1.473476</td>\n",
       "      <td>2022-06-01</td>\n",
       "    </tr>\n",
       "    <tr>\n",
       "      <th>1</th>\n",
       "      <td>1.620942</td>\n",
       "      <td>2022-06-02</td>\n",
       "    </tr>\n",
       "    <tr>\n",
       "      <th>2</th>\n",
       "      <td>1.520142</td>\n",
       "      <td>2022-06-03</td>\n",
       "    </tr>\n",
       "    <tr>\n",
       "      <th>3</th>\n",
       "      <td>1.560479</td>\n",
       "      <td>2022-06-04</td>\n",
       "    </tr>\n",
       "    <tr>\n",
       "      <th>4</th>\n",
       "      <td>1.557252</td>\n",
       "      <td>2022-06-05</td>\n",
       "    </tr>\n",
       "    <tr>\n",
       "      <th>5</th>\n",
       "      <td>1.534075</td>\n",
       "      <td>2022-06-06</td>\n",
       "    </tr>\n",
       "    <tr>\n",
       "      <th>6</th>\n",
       "      <td>1.502872</td>\n",
       "      <td>2022-06-07</td>\n",
       "    </tr>\n",
       "    <tr>\n",
       "      <th>7</th>\n",
       "      <td>1.696730</td>\n",
       "      <td>2022-06-08</td>\n",
       "    </tr>\n",
       "    <tr>\n",
       "      <th>8</th>\n",
       "      <td>1.626885</td>\n",
       "      <td>2022-06-09</td>\n",
       "    </tr>\n",
       "    <tr>\n",
       "      <th>9</th>\n",
       "      <td>1.461650</td>\n",
       "      <td>2022-06-10</td>\n",
       "    </tr>\n",
       "    <tr>\n",
       "      <th>10</th>\n",
       "      <td>1.372903</td>\n",
       "      <td>2022-06-11</td>\n",
       "    </tr>\n",
       "    <tr>\n",
       "      <th>11</th>\n",
       "      <td>1.353369</td>\n",
       "      <td>2022-06-12</td>\n",
       "    </tr>\n",
       "    <tr>\n",
       "      <th>12</th>\n",
       "      <td>1.278451</td>\n",
       "      <td>2022-06-13</td>\n",
       "    </tr>\n",
       "    <tr>\n",
       "      <th>13</th>\n",
       "      <td>1.319079</td>\n",
       "      <td>2022-06-14</td>\n",
       "    </tr>\n",
       "    <tr>\n",
       "      <th>14</th>\n",
       "      <td>1.418627</td>\n",
       "      <td>2022-06-15</td>\n",
       "    </tr>\n",
       "    <tr>\n",
       "      <th>15</th>\n",
       "      <td>1.351654</td>\n",
       "      <td>2022-06-16</td>\n",
       "    </tr>\n",
       "    <tr>\n",
       "      <th>16</th>\n",
       "      <td>1.325225</td>\n",
       "      <td>2022-06-17</td>\n",
       "    </tr>\n",
       "    <tr>\n",
       "      <th>17</th>\n",
       "      <td>1.350231</td>\n",
       "      <td>2022-06-18</td>\n",
       "    </tr>\n",
       "    <tr>\n",
       "      <th>18</th>\n",
       "      <td>1.358550</td>\n",
       "      <td>2022-06-19</td>\n",
       "    </tr>\n",
       "    <tr>\n",
       "      <th>19</th>\n",
       "      <td>1.423405</td>\n",
       "      <td>2022-06-20</td>\n",
       "    </tr>\n",
       "    <tr>\n",
       "      <th>20</th>\n",
       "      <td>1.444237</td>\n",
       "      <td>2022-06-21</td>\n",
       "    </tr>\n",
       "    <tr>\n",
       "      <th>21</th>\n",
       "      <td>1.572355</td>\n",
       "      <td>2022-06-22</td>\n",
       "    </tr>\n",
       "    <tr>\n",
       "      <th>22</th>\n",
       "      <td>1.536975</td>\n",
       "      <td>2022-06-23</td>\n",
       "    </tr>\n",
       "    <tr>\n",
       "      <th>23</th>\n",
       "      <td>1.502313</td>\n",
       "      <td>2022-06-24</td>\n",
       "    </tr>\n",
       "    <tr>\n",
       "      <th>24</th>\n",
       "      <td>1.536689</td>\n",
       "      <td>2022-06-25</td>\n",
       "    </tr>\n",
       "    <tr>\n",
       "      <th>25</th>\n",
       "      <td>1.454139</td>\n",
       "      <td>2022-06-26</td>\n",
       "    </tr>\n",
       "    <tr>\n",
       "      <th>26</th>\n",
       "      <td>1.414724</td>\n",
       "      <td>2022-06-27</td>\n",
       "    </tr>\n",
       "    <tr>\n",
       "      <th>27</th>\n",
       "      <td>1.444341</td>\n",
       "      <td>2022-06-28</td>\n",
       "    </tr>\n",
       "    <tr>\n",
       "      <th>28</th>\n",
       "      <td>1.495356</td>\n",
       "      <td>2022-06-29</td>\n",
       "    </tr>\n",
       "    <tr>\n",
       "      <th>29</th>\n",
       "      <td>1.382723</td>\n",
       "      <td>2022-06-30</td>\n",
       "    </tr>\n",
       "  </tbody>\n",
       "</table>\n",
       "</div>"
      ],
      "text/plain": [
       "       score       date\n",
       "0   1.473476 2022-06-01\n",
       "1   1.620942 2022-06-02\n",
       "2   1.520142 2022-06-03\n",
       "3   1.560479 2022-06-04\n",
       "4   1.557252 2022-06-05\n",
       "5   1.534075 2022-06-06\n",
       "6   1.502872 2022-06-07\n",
       "7   1.696730 2022-06-08\n",
       "8   1.626885 2022-06-09\n",
       "9   1.461650 2022-06-10\n",
       "10  1.372903 2022-06-11\n",
       "11  1.353369 2022-06-12\n",
       "12  1.278451 2022-06-13\n",
       "13  1.319079 2022-06-14\n",
       "14  1.418627 2022-06-15\n",
       "15  1.351654 2022-06-16\n",
       "16  1.325225 2022-06-17\n",
       "17  1.350231 2022-06-18\n",
       "18  1.358550 2022-06-19\n",
       "19  1.423405 2022-06-20\n",
       "20  1.444237 2022-06-21\n",
       "21  1.572355 2022-06-22\n",
       "22  1.536975 2022-06-23\n",
       "23  1.502313 2022-06-24\n",
       "24  1.536689 2022-06-25\n",
       "25  1.454139 2022-06-26\n",
       "26  1.414724 2022-06-27\n",
       "27  1.444341 2022-06-28\n",
       "28  1.495356 2022-06-29\n",
       "29  1.382723 2022-06-30"
      ]
     },
     "execution_count": 88,
     "metadata": {},
     "output_type": "execute_result"
    }
   ],
   "source": [
    "df_final"
   ]
  },
  {
   "cell_type": "code",
   "execution_count": 89,
   "metadata": {},
   "outputs": [],
   "source": [
    "df_final.to_csv('june_22.csv')"
   ]
  },
  {
   "cell_type": "markdown",
   "metadata": {
    "id": "DUgHqNeH7k3W"
   },
   "source": [
    "### Correlation between sentiment and price\n",
    "The price of Bitcoin shows an high correlation with the sentiment on the crypto community, this is commonly believed to be a direct causation of price towards sentiment. "
   ]
  },
  {
   "cell_type": "code",
   "execution_count": 163,
   "metadata": {
    "id": "tX7C5aXlB21d"
   },
   "outputs": [],
   "source": [
    "import pandas as pd\n",
    "import pandas_datareader.data as pdr\n",
    "import datetime\n",
    "\n",
    "start = datetime.datetime(2022,1,1)\n",
    "end = datetime.datetime(2022,1,30)\n",
    "df = pdr.DataReader('BTC-USD','yahoo',start,end)"
   ]
  },
  {
   "cell_type": "markdown",
   "metadata": {
    "id": "RxUpSoMoB21e"
   },
   "source": [
    "We multiply the sentiment score for a constant factor to obtain a qualitative plot showing the correlation between price and sentiment."
   ]
  },
  {
   "cell_type": "code",
   "execution_count": 164,
   "metadata": {
    "id": "5-OVqhK-B21e"
   },
   "outputs": [],
   "source": [
    "new_scores = [elem*23000 for elem in scores]"
   ]
  },
  {
   "cell_type": "code",
   "execution_count": 165,
   "metadata": {
    "id": "1X91qrDPB21e",
    "outputId": "12493e6a-b4d8-4011-a52c-04cfe5ceb2d6",
    "scrolled": false
   },
   "outputs": [
    {
     "data": {
      "text/html": [
       "        <script type=\"text/javascript\">\n",
       "        window.PlotlyConfig = {MathJaxConfig: 'local'};\n",
       "        if (window.MathJax && window.MathJax.Hub && window.MathJax.Hub.Config) {window.MathJax.Hub.Config({SVG: {font: \"STIX-Web\"}});}\n",
       "        if (typeof require !== 'undefined') {\n",
       "        require.undef(\"plotly\");\n",
       "        requirejs.config({\n",
       "            paths: {\n",
       "                'plotly': ['https://cdn.plot.ly/plotly-2.14.0.min']\n",
       "            }\n",
       "        });\n",
       "        require(['plotly'], function(Plotly) {\n",
       "            window._Plotly = Plotly;\n",
       "        });\n",
       "        }\n",
       "        </script>\n",
       "        "
      ]
     },
     "metadata": {},
     "output_type": "display_data"
    },
    {
     "data": {
      "application/vnd.plotly.v1+json": {
       "config": {
        "linkText": "Export to plot.ly",
        "plotlyServerURL": "https://plot.ly",
        "showLink": false
       },
       "data": [
        {
         "close": [
          47686.8125,
          47345.21875,
          46458.1171875,
          45897.57421875,
          43569.00390625,
          43160.9296875,
          41557.90234375,
          41733.94140625,
          41911.6015625,
          41821.26171875,
          42735.85546875,
          43949.1015625,
          42591.5703125,
          43099.69921875,
          43177.3984375,
          43113.87890625,
          42250.55078125,
          42375.6328125,
          41744.328125,
          40680.41796875,
          36457.31640625,
          35030.25,
          36276.8046875,
          36654.328125,
          36954.00390625,
          36852.12109375,
          37138.234375,
          37784.33203125,
          38138.1796875,
          37917.6015625,
          38483.125
         ],
         "high": [
          47827.3125,
          47881.40625,
          47510.7265625,
          47406.546875,
          46929.046875,
          43748.71875,
          43153.5703125,
          42228.94140625,
          42663.94921875,
          42199.484375,
          43001.15625,
          44135.3671875,
          44278.421875,
          43346.6875,
          43724.671875,
          43436.80859375,
          43179.390625,
          42534.40234375,
          42478.3046875,
          43413.0234375,
          41060.52734375,
          36688.8125,
          36433.3125,
          37247.51953125,
          37444.5703125,
          38825.41015625,
          37148.32421875,
          37952.87890625,
          38576.26171875,
          38266.33984375,
          38647.26171875
         ],
         "low": [
          46288.484375,
          46856.9375,
          45835.96484375,
          45752.46484375,
          42798.22265625,
          42645.5390625,
          41077.4453125,
          40672.27734375,
          41338.16015625,
          39796.5703125,
          41407.75390625,
          42528.98828125,
          42447.04296875,
          41982.6171875,
          42669.03515625,
          42691.0234375,
          41680.3203125,
          41392.21484375,
          41242.9140625,
          40672.82421875,
          35791.42578125,
          34349.25,
          34784.96875,
          33184.05859375,
          35779.4296875,
          36374.90625,
          35629.28125,
          36211.109375,
          37406.47265625,
          37437.7109375,
          36733.57421875
         ],
         "name": "candlesticks",
         "open": [
          46311.74609375,
          47680.92578125,
          47343.54296875,
          46458.8515625,
          45899.359375,
          43565.51171875,
          43153.5703125,
          41561.46484375,
          41734.7265625,
          41910.23046875,
          41819.5078125,
          42742.1796875,
          43946.7421875,
          42598.87109375,
          43101.8984375,
          43172.0390625,
          43118.12109375,
          42250.07421875,
          42374.0390625,
          41744.02734375,
          40699.60546875,
          36471.58984375,
          35047.359375,
          36275.734375,
          36654.8046875,
          36950.515625,
          36841.87890625,
          37128.4453125,
          37780.71484375,
          38151.91796875,
          37920.28125
         ],
         "type": "candlestick",
         "x": [
          "2022-01-01T00:00:00",
          "2022-01-02T00:00:00",
          "2022-01-03T00:00:00",
          "2022-01-04T00:00:00",
          "2022-01-05T00:00:00",
          "2022-01-06T00:00:00",
          "2022-01-07T00:00:00",
          "2022-01-08T00:00:00",
          "2022-01-09T00:00:00",
          "2022-01-10T00:00:00",
          "2022-01-11T00:00:00",
          "2022-01-12T00:00:00",
          "2022-01-13T00:00:00",
          "2022-01-14T00:00:00",
          "2022-01-15T00:00:00",
          "2022-01-16T00:00:00",
          "2022-01-17T00:00:00",
          "2022-01-18T00:00:00",
          "2022-01-19T00:00:00",
          "2022-01-20T00:00:00",
          "2022-01-21T00:00:00",
          "2022-01-22T00:00:00",
          "2022-01-23T00:00:00",
          "2022-01-24T00:00:00",
          "2022-01-25T00:00:00",
          "2022-01-26T00:00:00",
          "2022-01-27T00:00:00",
          "2022-01-28T00:00:00",
          "2022-01-29T00:00:00",
          "2022-01-30T00:00:00",
          "2022-01-31T00:00:00"
         ]
        },
        {
         "line": {
          "color": "rgb(0, 0, 0)",
          "width": 2
         },
         "name": "sentiment score",
         "type": "scatter",
         "x": [
          "2022-01-01T00:00:00",
          "2022-01-02T00:00:00",
          "2022-01-03T00:00:00",
          "2022-01-04T00:00:00",
          "2022-01-05T00:00:00",
          "2022-01-06T00:00:00",
          "2022-01-07T00:00:00",
          "2022-01-08T00:00:00",
          "2022-01-09T00:00:00",
          "2022-01-10T00:00:00",
          "2022-01-11T00:00:00",
          "2022-01-12T00:00:00",
          "2022-01-13T00:00:00",
          "2022-01-14T00:00:00",
          "2022-01-15T00:00:00",
          "2022-01-16T00:00:00",
          "2022-01-17T00:00:00",
          "2022-01-18T00:00:00",
          "2022-01-19T00:00:00",
          "2022-01-20T00:00:00",
          "2022-01-21T00:00:00",
          "2022-01-22T00:00:00",
          "2022-01-23T00:00:00",
          "2022-01-24T00:00:00",
          "2022-01-25T00:00:00",
          "2022-01-26T00:00:00",
          "2022-01-27T00:00:00",
          "2022-01-28T00:00:00",
          "2022-01-29T00:00:00",
          "2022-01-30T00:00:00",
          "2022-01-31T00:00:00"
         ],
         "y": [
          47714.608433734946,
          46838.396111786155,
          49048.366834170854,
          44709.21779587089,
          44769.84352773827,
          38730.346122887044,
          41994.693680656055,
          36897.60147601476,
          41831.87772925764,
          38541.49953717989,
          41713.91076115485,
          46163.625115991345,
          46747.56986634265,
          46061.14988368229,
          48270.53504144687,
          44468.019408910455,
          43451.295799821266,
          42507.16332378224,
          43729.729729729734,
          43172.265904217296,
          33371.337890625,
          35745.7627118644,
          36465.618860510804,
          35860.9819121447,
          35287.67123287671,
          39481.419855795895,
          38434.557979334095,
          38869.08447589562,
          39967.73303916161,
          38420.23776610451,
          39255.932203389835
         ]
        }
       ],
       "layout": {
        "template": {
         "data": {
          "bar": [
           {
            "error_x": {
             "color": "#2a3f5f"
            },
            "error_y": {
             "color": "#2a3f5f"
            },
            "marker": {
             "line": {
              "color": "#E5ECF6",
              "width": 0.5
             },
             "pattern": {
              "fillmode": "overlay",
              "size": 10,
              "solidity": 0.2
             }
            },
            "type": "bar"
           }
          ],
          "barpolar": [
           {
            "marker": {
             "line": {
              "color": "#E5ECF6",
              "width": 0.5
             },
             "pattern": {
              "fillmode": "overlay",
              "size": 10,
              "solidity": 0.2
             }
            },
            "type": "barpolar"
           }
          ],
          "carpet": [
           {
            "aaxis": {
             "endlinecolor": "#2a3f5f",
             "gridcolor": "white",
             "linecolor": "white",
             "minorgridcolor": "white",
             "startlinecolor": "#2a3f5f"
            },
            "baxis": {
             "endlinecolor": "#2a3f5f",
             "gridcolor": "white",
             "linecolor": "white",
             "minorgridcolor": "white",
             "startlinecolor": "#2a3f5f"
            },
            "type": "carpet"
           }
          ],
          "choropleth": [
           {
            "colorbar": {
             "outlinewidth": 0,
             "ticks": ""
            },
            "type": "choropleth"
           }
          ],
          "contour": [
           {
            "colorbar": {
             "outlinewidth": 0,
             "ticks": ""
            },
            "colorscale": [
             [
              0,
              "#0d0887"
             ],
             [
              0.1111111111111111,
              "#46039f"
             ],
             [
              0.2222222222222222,
              "#7201a8"
             ],
             [
              0.3333333333333333,
              "#9c179e"
             ],
             [
              0.4444444444444444,
              "#bd3786"
             ],
             [
              0.5555555555555556,
              "#d8576b"
             ],
             [
              0.6666666666666666,
              "#ed7953"
             ],
             [
              0.7777777777777778,
              "#fb9f3a"
             ],
             [
              0.8888888888888888,
              "#fdca26"
             ],
             [
              1,
              "#f0f921"
             ]
            ],
            "type": "contour"
           }
          ],
          "contourcarpet": [
           {
            "colorbar": {
             "outlinewidth": 0,
             "ticks": ""
            },
            "type": "contourcarpet"
           }
          ],
          "heatmap": [
           {
            "colorbar": {
             "outlinewidth": 0,
             "ticks": ""
            },
            "colorscale": [
             [
              0,
              "#0d0887"
             ],
             [
              0.1111111111111111,
              "#46039f"
             ],
             [
              0.2222222222222222,
              "#7201a8"
             ],
             [
              0.3333333333333333,
              "#9c179e"
             ],
             [
              0.4444444444444444,
              "#bd3786"
             ],
             [
              0.5555555555555556,
              "#d8576b"
             ],
             [
              0.6666666666666666,
              "#ed7953"
             ],
             [
              0.7777777777777778,
              "#fb9f3a"
             ],
             [
              0.8888888888888888,
              "#fdca26"
             ],
             [
              1,
              "#f0f921"
             ]
            ],
            "type": "heatmap"
           }
          ],
          "heatmapgl": [
           {
            "colorbar": {
             "outlinewidth": 0,
             "ticks": ""
            },
            "colorscale": [
             [
              0,
              "#0d0887"
             ],
             [
              0.1111111111111111,
              "#46039f"
             ],
             [
              0.2222222222222222,
              "#7201a8"
             ],
             [
              0.3333333333333333,
              "#9c179e"
             ],
             [
              0.4444444444444444,
              "#bd3786"
             ],
             [
              0.5555555555555556,
              "#d8576b"
             ],
             [
              0.6666666666666666,
              "#ed7953"
             ],
             [
              0.7777777777777778,
              "#fb9f3a"
             ],
             [
              0.8888888888888888,
              "#fdca26"
             ],
             [
              1,
              "#f0f921"
             ]
            ],
            "type": "heatmapgl"
           }
          ],
          "histogram": [
           {
            "marker": {
             "pattern": {
              "fillmode": "overlay",
              "size": 10,
              "solidity": 0.2
             }
            },
            "type": "histogram"
           }
          ],
          "histogram2d": [
           {
            "colorbar": {
             "outlinewidth": 0,
             "ticks": ""
            },
            "colorscale": [
             [
              0,
              "#0d0887"
             ],
             [
              0.1111111111111111,
              "#46039f"
             ],
             [
              0.2222222222222222,
              "#7201a8"
             ],
             [
              0.3333333333333333,
              "#9c179e"
             ],
             [
              0.4444444444444444,
              "#bd3786"
             ],
             [
              0.5555555555555556,
              "#d8576b"
             ],
             [
              0.6666666666666666,
              "#ed7953"
             ],
             [
              0.7777777777777778,
              "#fb9f3a"
             ],
             [
              0.8888888888888888,
              "#fdca26"
             ],
             [
              1,
              "#f0f921"
             ]
            ],
            "type": "histogram2d"
           }
          ],
          "histogram2dcontour": [
           {
            "colorbar": {
             "outlinewidth": 0,
             "ticks": ""
            },
            "colorscale": [
             [
              0,
              "#0d0887"
             ],
             [
              0.1111111111111111,
              "#46039f"
             ],
             [
              0.2222222222222222,
              "#7201a8"
             ],
             [
              0.3333333333333333,
              "#9c179e"
             ],
             [
              0.4444444444444444,
              "#bd3786"
             ],
             [
              0.5555555555555556,
              "#d8576b"
             ],
             [
              0.6666666666666666,
              "#ed7953"
             ],
             [
              0.7777777777777778,
              "#fb9f3a"
             ],
             [
              0.8888888888888888,
              "#fdca26"
             ],
             [
              1,
              "#f0f921"
             ]
            ],
            "type": "histogram2dcontour"
           }
          ],
          "mesh3d": [
           {
            "colorbar": {
             "outlinewidth": 0,
             "ticks": ""
            },
            "type": "mesh3d"
           }
          ],
          "parcoords": [
           {
            "line": {
             "colorbar": {
              "outlinewidth": 0,
              "ticks": ""
             }
            },
            "type": "parcoords"
           }
          ],
          "pie": [
           {
            "automargin": true,
            "type": "pie"
           }
          ],
          "scatter": [
           {
            "fillpattern": {
             "fillmode": "overlay",
             "size": 10,
             "solidity": 0.2
            },
            "type": "scatter"
           }
          ],
          "scatter3d": [
           {
            "line": {
             "colorbar": {
              "outlinewidth": 0,
              "ticks": ""
             }
            },
            "marker": {
             "colorbar": {
              "outlinewidth": 0,
              "ticks": ""
             }
            },
            "type": "scatter3d"
           }
          ],
          "scattercarpet": [
           {
            "marker": {
             "colorbar": {
              "outlinewidth": 0,
              "ticks": ""
             }
            },
            "type": "scattercarpet"
           }
          ],
          "scattergeo": [
           {
            "marker": {
             "colorbar": {
              "outlinewidth": 0,
              "ticks": ""
             }
            },
            "type": "scattergeo"
           }
          ],
          "scattergl": [
           {
            "marker": {
             "colorbar": {
              "outlinewidth": 0,
              "ticks": ""
             }
            },
            "type": "scattergl"
           }
          ],
          "scattermapbox": [
           {
            "marker": {
             "colorbar": {
              "outlinewidth": 0,
              "ticks": ""
             }
            },
            "type": "scattermapbox"
           }
          ],
          "scatterpolar": [
           {
            "marker": {
             "colorbar": {
              "outlinewidth": 0,
              "ticks": ""
             }
            },
            "type": "scatterpolar"
           }
          ],
          "scatterpolargl": [
           {
            "marker": {
             "colorbar": {
              "outlinewidth": 0,
              "ticks": ""
             }
            },
            "type": "scatterpolargl"
           }
          ],
          "scatterternary": [
           {
            "marker": {
             "colorbar": {
              "outlinewidth": 0,
              "ticks": ""
             }
            },
            "type": "scatterternary"
           }
          ],
          "surface": [
           {
            "colorbar": {
             "outlinewidth": 0,
             "ticks": ""
            },
            "colorscale": [
             [
              0,
              "#0d0887"
             ],
             [
              0.1111111111111111,
              "#46039f"
             ],
             [
              0.2222222222222222,
              "#7201a8"
             ],
             [
              0.3333333333333333,
              "#9c179e"
             ],
             [
              0.4444444444444444,
              "#bd3786"
             ],
             [
              0.5555555555555556,
              "#d8576b"
             ],
             [
              0.6666666666666666,
              "#ed7953"
             ],
             [
              0.7777777777777778,
              "#fb9f3a"
             ],
             [
              0.8888888888888888,
              "#fdca26"
             ],
             [
              1,
              "#f0f921"
             ]
            ],
            "type": "surface"
           }
          ],
          "table": [
           {
            "cells": {
             "fill": {
              "color": "#EBF0F8"
             },
             "line": {
              "color": "white"
             }
            },
            "header": {
             "fill": {
              "color": "#C8D4E3"
             },
             "line": {
              "color": "white"
             }
            },
            "type": "table"
           }
          ]
         },
         "layout": {
          "annotationdefaults": {
           "arrowcolor": "#2a3f5f",
           "arrowhead": 0,
           "arrowwidth": 1
          },
          "autotypenumbers": "strict",
          "coloraxis": {
           "colorbar": {
            "outlinewidth": 0,
            "ticks": ""
           }
          },
          "colorscale": {
           "diverging": [
            [
             0,
             "#8e0152"
            ],
            [
             0.1,
             "#c51b7d"
            ],
            [
             0.2,
             "#de77ae"
            ],
            [
             0.3,
             "#f1b6da"
            ],
            [
             0.4,
             "#fde0ef"
            ],
            [
             0.5,
             "#f7f7f7"
            ],
            [
             0.6,
             "#e6f5d0"
            ],
            [
             0.7,
             "#b8e186"
            ],
            [
             0.8,
             "#7fbc41"
            ],
            [
             0.9,
             "#4d9221"
            ],
            [
             1,
             "#276419"
            ]
           ],
           "sequential": [
            [
             0,
             "#0d0887"
            ],
            [
             0.1111111111111111,
             "#46039f"
            ],
            [
             0.2222222222222222,
             "#7201a8"
            ],
            [
             0.3333333333333333,
             "#9c179e"
            ],
            [
             0.4444444444444444,
             "#bd3786"
            ],
            [
             0.5555555555555556,
             "#d8576b"
            ],
            [
             0.6666666666666666,
             "#ed7953"
            ],
            [
             0.7777777777777778,
             "#fb9f3a"
            ],
            [
             0.8888888888888888,
             "#fdca26"
            ],
            [
             1,
             "#f0f921"
            ]
           ],
           "sequentialminus": [
            [
             0,
             "#0d0887"
            ],
            [
             0.1111111111111111,
             "#46039f"
            ],
            [
             0.2222222222222222,
             "#7201a8"
            ],
            [
             0.3333333333333333,
             "#9c179e"
            ],
            [
             0.4444444444444444,
             "#bd3786"
            ],
            [
             0.5555555555555556,
             "#d8576b"
            ],
            [
             0.6666666666666666,
             "#ed7953"
            ],
            [
             0.7777777777777778,
             "#fb9f3a"
            ],
            [
             0.8888888888888888,
             "#fdca26"
            ],
            [
             1,
             "#f0f921"
            ]
           ]
          },
          "colorway": [
           "#636efa",
           "#EF553B",
           "#00cc96",
           "#ab63fa",
           "#FFA15A",
           "#19d3f3",
           "#FF6692",
           "#B6E880",
           "#FF97FF",
           "#FECB52"
          ],
          "font": {
           "color": "#2a3f5f"
          },
          "geo": {
           "bgcolor": "white",
           "lakecolor": "white",
           "landcolor": "#E5ECF6",
           "showlakes": true,
           "showland": true,
           "subunitcolor": "white"
          },
          "hoverlabel": {
           "align": "left"
          },
          "hovermode": "closest",
          "mapbox": {
           "style": "light"
          },
          "paper_bgcolor": "white",
          "plot_bgcolor": "#E5ECF6",
          "polar": {
           "angularaxis": {
            "gridcolor": "white",
            "linecolor": "white",
            "ticks": ""
           },
           "bgcolor": "#E5ECF6",
           "radialaxis": {
            "gridcolor": "white",
            "linecolor": "white",
            "ticks": ""
           }
          },
          "scene": {
           "xaxis": {
            "backgroundcolor": "#E5ECF6",
            "gridcolor": "white",
            "gridwidth": 2,
            "linecolor": "white",
            "showbackground": true,
            "ticks": "",
            "zerolinecolor": "white"
           },
           "yaxis": {
            "backgroundcolor": "#E5ECF6",
            "gridcolor": "white",
            "gridwidth": 2,
            "linecolor": "white",
            "showbackground": true,
            "ticks": "",
            "zerolinecolor": "white"
           },
           "zaxis": {
            "backgroundcolor": "#E5ECF6",
            "gridcolor": "white",
            "gridwidth": 2,
            "linecolor": "white",
            "showbackground": true,
            "ticks": "",
            "zerolinecolor": "white"
           }
          },
          "shapedefaults": {
           "line": {
            "color": "#2a3f5f"
           }
          },
          "ternary": {
           "aaxis": {
            "gridcolor": "white",
            "linecolor": "white",
            "ticks": ""
           },
           "baxis": {
            "gridcolor": "white",
            "linecolor": "white",
            "ticks": ""
           },
           "bgcolor": "#E5ECF6",
           "caxis": {
            "gridcolor": "white",
            "linecolor": "white",
            "ticks": ""
           }
          },
          "title": {
           "x": 0.05
          },
          "xaxis": {
           "automargin": true,
           "gridcolor": "white",
           "linecolor": "white",
           "ticks": "",
           "title": {
            "standoff": 15
           },
           "zerolinecolor": "white",
           "zerolinewidth": 2
          },
          "yaxis": {
           "automargin": true,
           "gridcolor": "white",
           "linecolor": "white",
           "ticks": "",
           "title": {
            "standoff": 15
           },
           "zerolinecolor": "white",
           "zerolinewidth": 2
          }
         }
        },
        "title": {
         "text": "Bitcoin price (January 2022)"
        },
        "width": 1024,
        "xaxis": {
         "dtick": "day",
         "rangeslider": {
          "visible": false
         },
         "title": {
          "text": "Date"
         }
        },
        "yaxis": {
         "title": {
          "text": "Price (USD)"
         }
        }
       }
      },
      "text/html": [
       "<div>                            <div id=\"7a31720f-3f54-47fc-adb5-c66249809794\" class=\"plotly-graph-div\" style=\"height:525px; width:1024px;\"></div>            <script type=\"text/javascript\">                require([\"plotly\"], function(Plotly) {                    window.PLOTLYENV=window.PLOTLYENV || {};                                    if (document.getElementById(\"7a31720f-3f54-47fc-adb5-c66249809794\")) {                    Plotly.newPlot(                        \"7a31720f-3f54-47fc-adb5-c66249809794\",                        [{\"close\":[47686.8125,47345.21875,46458.1171875,45897.57421875,43569.00390625,43160.9296875,41557.90234375,41733.94140625,41911.6015625,41821.26171875,42735.85546875,43949.1015625,42591.5703125,43099.69921875,43177.3984375,43113.87890625,42250.55078125,42375.6328125,41744.328125,40680.41796875,36457.31640625,35030.25,36276.8046875,36654.328125,36954.00390625,36852.12109375,37138.234375,37784.33203125,38138.1796875,37917.6015625,38483.125],\"high\":[47827.3125,47881.40625,47510.7265625,47406.546875,46929.046875,43748.71875,43153.5703125,42228.94140625,42663.94921875,42199.484375,43001.15625,44135.3671875,44278.421875,43346.6875,43724.671875,43436.80859375,43179.390625,42534.40234375,42478.3046875,43413.0234375,41060.52734375,36688.8125,36433.3125,37247.51953125,37444.5703125,38825.41015625,37148.32421875,37952.87890625,38576.26171875,38266.33984375,38647.26171875],\"low\":[46288.484375,46856.9375,45835.96484375,45752.46484375,42798.22265625,42645.5390625,41077.4453125,40672.27734375,41338.16015625,39796.5703125,41407.75390625,42528.98828125,42447.04296875,41982.6171875,42669.03515625,42691.0234375,41680.3203125,41392.21484375,41242.9140625,40672.82421875,35791.42578125,34349.25,34784.96875,33184.05859375,35779.4296875,36374.90625,35629.28125,36211.109375,37406.47265625,37437.7109375,36733.57421875],\"name\":\"candlesticks\",\"open\":[46311.74609375,47680.92578125,47343.54296875,46458.8515625,45899.359375,43565.51171875,43153.5703125,41561.46484375,41734.7265625,41910.23046875,41819.5078125,42742.1796875,43946.7421875,42598.87109375,43101.8984375,43172.0390625,43118.12109375,42250.07421875,42374.0390625,41744.02734375,40699.60546875,36471.58984375,35047.359375,36275.734375,36654.8046875,36950.515625,36841.87890625,37128.4453125,37780.71484375,38151.91796875,37920.28125],\"x\":[\"2022-01-01T00:00:00\",\"2022-01-02T00:00:00\",\"2022-01-03T00:00:00\",\"2022-01-04T00:00:00\",\"2022-01-05T00:00:00\",\"2022-01-06T00:00:00\",\"2022-01-07T00:00:00\",\"2022-01-08T00:00:00\",\"2022-01-09T00:00:00\",\"2022-01-10T00:00:00\",\"2022-01-11T00:00:00\",\"2022-01-12T00:00:00\",\"2022-01-13T00:00:00\",\"2022-01-14T00:00:00\",\"2022-01-15T00:00:00\",\"2022-01-16T00:00:00\",\"2022-01-17T00:00:00\",\"2022-01-18T00:00:00\",\"2022-01-19T00:00:00\",\"2022-01-20T00:00:00\",\"2022-01-21T00:00:00\",\"2022-01-22T00:00:00\",\"2022-01-23T00:00:00\",\"2022-01-24T00:00:00\",\"2022-01-25T00:00:00\",\"2022-01-26T00:00:00\",\"2022-01-27T00:00:00\",\"2022-01-28T00:00:00\",\"2022-01-29T00:00:00\",\"2022-01-30T00:00:00\",\"2022-01-31T00:00:00\"],\"type\":\"candlestick\"},{\"line\":{\"color\":\"rgb(0, 0, 0)\",\"width\":2},\"name\":\"sentiment score\",\"x\":[\"2022-01-01T00:00:00\",\"2022-01-02T00:00:00\",\"2022-01-03T00:00:00\",\"2022-01-04T00:00:00\",\"2022-01-05T00:00:00\",\"2022-01-06T00:00:00\",\"2022-01-07T00:00:00\",\"2022-01-08T00:00:00\",\"2022-01-09T00:00:00\",\"2022-01-10T00:00:00\",\"2022-01-11T00:00:00\",\"2022-01-12T00:00:00\",\"2022-01-13T00:00:00\",\"2022-01-14T00:00:00\",\"2022-01-15T00:00:00\",\"2022-01-16T00:00:00\",\"2022-01-17T00:00:00\",\"2022-01-18T00:00:00\",\"2022-01-19T00:00:00\",\"2022-01-20T00:00:00\",\"2022-01-21T00:00:00\",\"2022-01-22T00:00:00\",\"2022-01-23T00:00:00\",\"2022-01-24T00:00:00\",\"2022-01-25T00:00:00\",\"2022-01-26T00:00:00\",\"2022-01-27T00:00:00\",\"2022-01-28T00:00:00\",\"2022-01-29T00:00:00\",\"2022-01-30T00:00:00\",\"2022-01-31T00:00:00\"],\"y\":[47714.608433734946,46838.396111786155,49048.366834170854,44709.21779587089,44769.84352773827,38730.346122887044,41994.693680656055,36897.60147601476,41831.87772925764,38541.49953717989,41713.91076115485,46163.625115991345,46747.56986634265,46061.14988368229,48270.53504144687,44468.019408910455,43451.295799821266,42507.16332378224,43729.729729729734,43172.265904217296,33371.337890625,35745.7627118644,36465.618860510804,35860.9819121447,35287.67123287671,39481.419855795895,38434.557979334095,38869.08447589562,39967.73303916161,38420.23776610451,39255.932203389835],\"type\":\"scatter\"}],                        {\"template\":{\"data\":{\"barpolar\":[{\"marker\":{\"line\":{\"color\":\"#E5ECF6\",\"width\":0.5},\"pattern\":{\"fillmode\":\"overlay\",\"size\":10,\"solidity\":0.2}},\"type\":\"barpolar\"}],\"bar\":[{\"error_x\":{\"color\":\"#2a3f5f\"},\"error_y\":{\"color\":\"#2a3f5f\"},\"marker\":{\"line\":{\"color\":\"#E5ECF6\",\"width\":0.5},\"pattern\":{\"fillmode\":\"overlay\",\"size\":10,\"solidity\":0.2}},\"type\":\"bar\"}],\"carpet\":[{\"aaxis\":{\"endlinecolor\":\"#2a3f5f\",\"gridcolor\":\"white\",\"linecolor\":\"white\",\"minorgridcolor\":\"white\",\"startlinecolor\":\"#2a3f5f\"},\"baxis\":{\"endlinecolor\":\"#2a3f5f\",\"gridcolor\":\"white\",\"linecolor\":\"white\",\"minorgridcolor\":\"white\",\"startlinecolor\":\"#2a3f5f\"},\"type\":\"carpet\"}],\"choropleth\":[{\"colorbar\":{\"outlinewidth\":0,\"ticks\":\"\"},\"type\":\"choropleth\"}],\"contourcarpet\":[{\"colorbar\":{\"outlinewidth\":0,\"ticks\":\"\"},\"type\":\"contourcarpet\"}],\"contour\":[{\"colorbar\":{\"outlinewidth\":0,\"ticks\":\"\"},\"colorscale\":[[0.0,\"#0d0887\"],[0.1111111111111111,\"#46039f\"],[0.2222222222222222,\"#7201a8\"],[0.3333333333333333,\"#9c179e\"],[0.4444444444444444,\"#bd3786\"],[0.5555555555555556,\"#d8576b\"],[0.6666666666666666,\"#ed7953\"],[0.7777777777777778,\"#fb9f3a\"],[0.8888888888888888,\"#fdca26\"],[1.0,\"#f0f921\"]],\"type\":\"contour\"}],\"heatmapgl\":[{\"colorbar\":{\"outlinewidth\":0,\"ticks\":\"\"},\"colorscale\":[[0.0,\"#0d0887\"],[0.1111111111111111,\"#46039f\"],[0.2222222222222222,\"#7201a8\"],[0.3333333333333333,\"#9c179e\"],[0.4444444444444444,\"#bd3786\"],[0.5555555555555556,\"#d8576b\"],[0.6666666666666666,\"#ed7953\"],[0.7777777777777778,\"#fb9f3a\"],[0.8888888888888888,\"#fdca26\"],[1.0,\"#f0f921\"]],\"type\":\"heatmapgl\"}],\"heatmap\":[{\"colorbar\":{\"outlinewidth\":0,\"ticks\":\"\"},\"colorscale\":[[0.0,\"#0d0887\"],[0.1111111111111111,\"#46039f\"],[0.2222222222222222,\"#7201a8\"],[0.3333333333333333,\"#9c179e\"],[0.4444444444444444,\"#bd3786\"],[0.5555555555555556,\"#d8576b\"],[0.6666666666666666,\"#ed7953\"],[0.7777777777777778,\"#fb9f3a\"],[0.8888888888888888,\"#fdca26\"],[1.0,\"#f0f921\"]],\"type\":\"heatmap\"}],\"histogram2dcontour\":[{\"colorbar\":{\"outlinewidth\":0,\"ticks\":\"\"},\"colorscale\":[[0.0,\"#0d0887\"],[0.1111111111111111,\"#46039f\"],[0.2222222222222222,\"#7201a8\"],[0.3333333333333333,\"#9c179e\"],[0.4444444444444444,\"#bd3786\"],[0.5555555555555556,\"#d8576b\"],[0.6666666666666666,\"#ed7953\"],[0.7777777777777778,\"#fb9f3a\"],[0.8888888888888888,\"#fdca26\"],[1.0,\"#f0f921\"]],\"type\":\"histogram2dcontour\"}],\"histogram2d\":[{\"colorbar\":{\"outlinewidth\":0,\"ticks\":\"\"},\"colorscale\":[[0.0,\"#0d0887\"],[0.1111111111111111,\"#46039f\"],[0.2222222222222222,\"#7201a8\"],[0.3333333333333333,\"#9c179e\"],[0.4444444444444444,\"#bd3786\"],[0.5555555555555556,\"#d8576b\"],[0.6666666666666666,\"#ed7953\"],[0.7777777777777778,\"#fb9f3a\"],[0.8888888888888888,\"#fdca26\"],[1.0,\"#f0f921\"]],\"type\":\"histogram2d\"}],\"histogram\":[{\"marker\":{\"pattern\":{\"fillmode\":\"overlay\",\"size\":10,\"solidity\":0.2}},\"type\":\"histogram\"}],\"mesh3d\":[{\"colorbar\":{\"outlinewidth\":0,\"ticks\":\"\"},\"type\":\"mesh3d\"}],\"parcoords\":[{\"line\":{\"colorbar\":{\"outlinewidth\":0,\"ticks\":\"\"}},\"type\":\"parcoords\"}],\"pie\":[{\"automargin\":true,\"type\":\"pie\"}],\"scatter3d\":[{\"line\":{\"colorbar\":{\"outlinewidth\":0,\"ticks\":\"\"}},\"marker\":{\"colorbar\":{\"outlinewidth\":0,\"ticks\":\"\"}},\"type\":\"scatter3d\"}],\"scattercarpet\":[{\"marker\":{\"colorbar\":{\"outlinewidth\":0,\"ticks\":\"\"}},\"type\":\"scattercarpet\"}],\"scattergeo\":[{\"marker\":{\"colorbar\":{\"outlinewidth\":0,\"ticks\":\"\"}},\"type\":\"scattergeo\"}],\"scattergl\":[{\"marker\":{\"colorbar\":{\"outlinewidth\":0,\"ticks\":\"\"}},\"type\":\"scattergl\"}],\"scattermapbox\":[{\"marker\":{\"colorbar\":{\"outlinewidth\":0,\"ticks\":\"\"}},\"type\":\"scattermapbox\"}],\"scatterpolargl\":[{\"marker\":{\"colorbar\":{\"outlinewidth\":0,\"ticks\":\"\"}},\"type\":\"scatterpolargl\"}],\"scatterpolar\":[{\"marker\":{\"colorbar\":{\"outlinewidth\":0,\"ticks\":\"\"}},\"type\":\"scatterpolar\"}],\"scatter\":[{\"fillpattern\":{\"fillmode\":\"overlay\",\"size\":10,\"solidity\":0.2},\"type\":\"scatter\"}],\"scatterternary\":[{\"marker\":{\"colorbar\":{\"outlinewidth\":0,\"ticks\":\"\"}},\"type\":\"scatterternary\"}],\"surface\":[{\"colorbar\":{\"outlinewidth\":0,\"ticks\":\"\"},\"colorscale\":[[0.0,\"#0d0887\"],[0.1111111111111111,\"#46039f\"],[0.2222222222222222,\"#7201a8\"],[0.3333333333333333,\"#9c179e\"],[0.4444444444444444,\"#bd3786\"],[0.5555555555555556,\"#d8576b\"],[0.6666666666666666,\"#ed7953\"],[0.7777777777777778,\"#fb9f3a\"],[0.8888888888888888,\"#fdca26\"],[1.0,\"#f0f921\"]],\"type\":\"surface\"}],\"table\":[{\"cells\":{\"fill\":{\"color\":\"#EBF0F8\"},\"line\":{\"color\":\"white\"}},\"header\":{\"fill\":{\"color\":\"#C8D4E3\"},\"line\":{\"color\":\"white\"}},\"type\":\"table\"}]},\"layout\":{\"annotationdefaults\":{\"arrowcolor\":\"#2a3f5f\",\"arrowhead\":0,\"arrowwidth\":1},\"autotypenumbers\":\"strict\",\"coloraxis\":{\"colorbar\":{\"outlinewidth\":0,\"ticks\":\"\"}},\"colorscale\":{\"diverging\":[[0,\"#8e0152\"],[0.1,\"#c51b7d\"],[0.2,\"#de77ae\"],[0.3,\"#f1b6da\"],[0.4,\"#fde0ef\"],[0.5,\"#f7f7f7\"],[0.6,\"#e6f5d0\"],[0.7,\"#b8e186\"],[0.8,\"#7fbc41\"],[0.9,\"#4d9221\"],[1,\"#276419\"]],\"sequential\":[[0.0,\"#0d0887\"],[0.1111111111111111,\"#46039f\"],[0.2222222222222222,\"#7201a8\"],[0.3333333333333333,\"#9c179e\"],[0.4444444444444444,\"#bd3786\"],[0.5555555555555556,\"#d8576b\"],[0.6666666666666666,\"#ed7953\"],[0.7777777777777778,\"#fb9f3a\"],[0.8888888888888888,\"#fdca26\"],[1.0,\"#f0f921\"]],\"sequentialminus\":[[0.0,\"#0d0887\"],[0.1111111111111111,\"#46039f\"],[0.2222222222222222,\"#7201a8\"],[0.3333333333333333,\"#9c179e\"],[0.4444444444444444,\"#bd3786\"],[0.5555555555555556,\"#d8576b\"],[0.6666666666666666,\"#ed7953\"],[0.7777777777777778,\"#fb9f3a\"],[0.8888888888888888,\"#fdca26\"],[1.0,\"#f0f921\"]]},\"colorway\":[\"#636efa\",\"#EF553B\",\"#00cc96\",\"#ab63fa\",\"#FFA15A\",\"#19d3f3\",\"#FF6692\",\"#B6E880\",\"#FF97FF\",\"#FECB52\"],\"font\":{\"color\":\"#2a3f5f\"},\"geo\":{\"bgcolor\":\"white\",\"lakecolor\":\"white\",\"landcolor\":\"#E5ECF6\",\"showlakes\":true,\"showland\":true,\"subunitcolor\":\"white\"},\"hoverlabel\":{\"align\":\"left\"},\"hovermode\":\"closest\",\"mapbox\":{\"style\":\"light\"},\"paper_bgcolor\":\"white\",\"plot_bgcolor\":\"#E5ECF6\",\"polar\":{\"angularaxis\":{\"gridcolor\":\"white\",\"linecolor\":\"white\",\"ticks\":\"\"},\"bgcolor\":\"#E5ECF6\",\"radialaxis\":{\"gridcolor\":\"white\",\"linecolor\":\"white\",\"ticks\":\"\"}},\"scene\":{\"xaxis\":{\"backgroundcolor\":\"#E5ECF6\",\"gridcolor\":\"white\",\"gridwidth\":2,\"linecolor\":\"white\",\"showbackground\":true,\"ticks\":\"\",\"zerolinecolor\":\"white\"},\"yaxis\":{\"backgroundcolor\":\"#E5ECF6\",\"gridcolor\":\"white\",\"gridwidth\":2,\"linecolor\":\"white\",\"showbackground\":true,\"ticks\":\"\",\"zerolinecolor\":\"white\"},\"zaxis\":{\"backgroundcolor\":\"#E5ECF6\",\"gridcolor\":\"white\",\"gridwidth\":2,\"linecolor\":\"white\",\"showbackground\":true,\"ticks\":\"\",\"zerolinecolor\":\"white\"}},\"shapedefaults\":{\"line\":{\"color\":\"#2a3f5f\"}},\"ternary\":{\"aaxis\":{\"gridcolor\":\"white\",\"linecolor\":\"white\",\"ticks\":\"\"},\"baxis\":{\"gridcolor\":\"white\",\"linecolor\":\"white\",\"ticks\":\"\"},\"bgcolor\":\"#E5ECF6\",\"caxis\":{\"gridcolor\":\"white\",\"linecolor\":\"white\",\"ticks\":\"\"}},\"title\":{\"x\":0.05},\"xaxis\":{\"automargin\":true,\"gridcolor\":\"white\",\"linecolor\":\"white\",\"ticks\":\"\",\"title\":{\"standoff\":15},\"zerolinecolor\":\"white\",\"zerolinewidth\":2},\"yaxis\":{\"automargin\":true,\"gridcolor\":\"white\",\"linecolor\":\"white\",\"ticks\":\"\",\"title\":{\"standoff\":15},\"zerolinecolor\":\"white\",\"zerolinewidth\":2}}},\"title\":{\"text\":\"Bitcoin price (January 2022)\"},\"width\":1024,\"xaxis\":{\"dtick\":\"day\",\"rangeslider\":{\"visible\":false},\"title\":{\"text\":\"Date\"}},\"yaxis\":{\"title\":{\"text\":\"Price (USD)\"}}},                        {\"responsive\": true}                    ).then(function(){\n",
       "                            \n",
       "var gd = document.getElementById('7a31720f-3f54-47fc-adb5-c66249809794');\n",
       "var x = new MutationObserver(function (mutations, observer) {{\n",
       "        var display = window.getComputedStyle(gd).display;\n",
       "        if (!display || display === 'none') {{\n",
       "            console.log([gd, 'removed!']);\n",
       "            Plotly.purge(gd);\n",
       "            observer.disconnect();\n",
       "        }}\n",
       "}});\n",
       "\n",
       "// Listen for the removal of the full notebook cells\n",
       "var notebookContainer = gd.closest('#notebook-container');\n",
       "if (notebookContainer) {{\n",
       "    x.observe(notebookContainer, {childList: true});\n",
       "}}\n",
       "\n",
       "// Listen for the clearing of the current output cell\n",
       "var outputEl = gd.closest('.output');\n",
       "if (outputEl) {{\n",
       "    x.observe(outputEl, {childList: true});\n",
       "}}\n",
       "\n",
       "                        })                };                });            </script>        </div>"
      ]
     },
     "metadata": {},
     "output_type": "display_data"
    }
   ],
   "source": [
    "from matplotlib import pyplot as plt\n",
    "from matplotlib.pyplot import figure\n",
    "import plotly.offline as py\n",
    "import plotly.graph_objs as go\n",
    "\n",
    "py.init_notebook_mode(connected=True)\n",
    "\n",
    "data = [go.Candlestick(x=df.index,\n",
    "                       open=df.Open,\n",
    "                       high=df.High,\n",
    "                       low=df.Low,\n",
    "                       close=df.Close,\n",
    "                       name=\"candlesticks\"),\n",
    "       go.Scatter(x=df.index, y=new_scores,\n",
    "                  line=dict(\n",
    "                        color='rgb(0, 0, 0)',\n",
    "                        width=2\n",
    "                    ),\n",
    "                  name=\"sentiment score\"\n",
    "                  )]\n",
    "\n",
    "layout = go.Layout(title='Bitcoin price (January 2022)',\n",
    "                   xaxis={'title': \"Date\", 'rangeslider':{'visible':False},\n",
    "                          'dtick': \"day\"},\n",
    "                   yaxis={'title': \"Price (USD)\"},\n",
    "                   width=1024)\n",
    "\n",
    "fig = go.Figure(data=data,layout=layout)\n",
    "py.iplot(fig,filename='bitcoin_candlestick')"
   ]
  },
  {
   "cell_type": "markdown",
   "metadata": {
    "id": "zYZfinDpB21f"
   },
   "source": [
    "## Conclusions\n",
    "\n",
    "We used a labeled dataset of comments made by the crypto community to perform fine tuning on the DistilBERT and BERT pre-trained models provided by HuggingFace.\n",
    "We experimented with different configurations of the models and amount of data, in this way we obtained a final DistilBERT model which achieves an accuracy of 0.9511 on the test set.\n",
    "We observed that in the experiments the DistilBERT version took half of the time and it also had a similar performance with respect to the corresponding BERT model.\n",
    "Further, as expected with a greater amount of data the models performed better on the evaluation set.\n",
    "Finally we showed a practical example of how to analyze the movements of the crypto market in comparison to the sentiment showing that the approach is well-founded.\n",
    "\n",
    "A further work that could be done is an analysis on a much longer span and possibly on multiple sources of data, this could possibly show if a so called ``wisdom of the crowd\" could predict rises or falls of the market. \n",
    "More in general the model could help in finding some kind of insight that could be extrapolated from the sentiment of the community."
   ]
  }
 ],
 "metadata": {
  "accelerator": "GPU",
  "colab": {
   "collapsed_sections": [
    "PUmf_mrBOSeP",
    "uadm6Q7K7kbV",
    "X9PchnSjy3pR",
    "Wn9LorIJRQx6",
    "AdV6ejuSxA71",
    "MdrAPwAJ47Tf",
    "UkTpjVL7xfyc",
    "8lpHAbn7B21W",
    "IHW4UgZKyG49",
    "qp3N56Li7k2Y",
    "DUgHqNeH7k3W"
   ],
   "provenance": []
  },
  "gpuClass": "standard",
  "kernelspec": {
   "display_name": "Python 3 (ipykernel)",
   "language": "python",
   "name": "python3"
  },
  "language_info": {
   "codemirror_mode": {
    "name": "ipython",
    "version": 3
   },
   "file_extension": ".py",
   "mimetype": "text/x-python",
   "name": "python",
   "nbconvert_exporter": "python",
   "pygments_lexer": "ipython3",
   "version": "3.10.7"
  },
  "widgets": {
   "application/vnd.jupyter.widget-state+json": {
    "03db802f49ef4363accbe1c2e734e2f1": {
     "model_module": "@jupyter-widgets/controls",
     "model_module_version": "1.5.0",
     "model_name": "HTMLModel",
     "state": {
      "_dom_classes": [],
      "_model_module": "@jupyter-widgets/controls",
      "_model_module_version": "1.5.0",
      "_model_name": "HTMLModel",
      "_view_count": null,
      "_view_module": "@jupyter-widgets/controls",
      "_view_module_version": "1.5.0",
      "_view_name": "HTMLView",
      "description": "",
      "description_tooltip": null,
      "layout": "IPY_MODEL_39569c0c8fd94e63bd234bb158cbb4c3",
      "placeholder": "​",
      "style": "IPY_MODEL_4f2a756b9eea464292d29b1e5d140a7c",
      "value": "100%"
     }
    },
    "03f3634718884deea7bd5cdf53eb0ec0": {
     "model_module": "@jupyter-widgets/base",
     "model_module_version": "1.2.0",
     "model_name": "LayoutModel",
     "state": {
      "_model_module": "@jupyter-widgets/base",
      "_model_module_version": "1.2.0",
      "_model_name": "LayoutModel",
      "_view_count": null,
      "_view_module": "@jupyter-widgets/base",
      "_view_module_version": "1.2.0",
      "_view_name": "LayoutView",
      "align_content": null,
      "align_items": null,
      "align_self": null,
      "border": null,
      "bottom": null,
      "display": null,
      "flex": null,
      "flex_flow": null,
      "grid_area": null,
      "grid_auto_columns": null,
      "grid_auto_flow": null,
      "grid_auto_rows": null,
      "grid_column": null,
      "grid_gap": null,
      "grid_row": null,
      "grid_template_areas": null,
      "grid_template_columns": null,
      "grid_template_rows": null,
      "height": null,
      "justify_content": null,
      "justify_items": null,
      "left": null,
      "margin": null,
      "max_height": null,
      "max_width": null,
      "min_height": null,
      "min_width": null,
      "object_fit": null,
      "object_position": null,
      "order": null,
      "overflow": null,
      "overflow_x": null,
      "overflow_y": null,
      "padding": null,
      "right": null,
      "top": null,
      "visibility": null,
      "width": null
     }
    },
    "04ba955913534ad5a1e4e847480e0d4d": {
     "model_module": "@jupyter-widgets/controls",
     "model_module_version": "1.5.0",
     "model_name": "HTMLModel",
     "state": {
      "_dom_classes": [],
      "_model_module": "@jupyter-widgets/controls",
      "_model_module_version": "1.5.0",
      "_model_name": "HTMLModel",
      "_view_count": null,
      "_view_module": "@jupyter-widgets/controls",
      "_view_module_version": "1.5.0",
      "_view_name": "HTMLView",
      "description": "",
      "description_tooltip": null,
      "layout": "IPY_MODEL_2eaa5934225e49d495f46e35843362d3",
      "placeholder": "​",
      "style": "IPY_MODEL_a983874877984f96b0439358be2bf3e8",
      "value": "100%"
     }
    },
    "04ffb2def7b942e282d4f6b1977acfd4": {
     "model_module": "@jupyter-widgets/controls",
     "model_module_version": "1.5.0",
     "model_name": "FloatProgressModel",
     "state": {
      "_dom_classes": [],
      "_model_module": "@jupyter-widgets/controls",
      "_model_module_version": "1.5.0",
      "_model_name": "FloatProgressModel",
      "_view_count": null,
      "_view_module": "@jupyter-widgets/controls",
      "_view_module_version": "1.5.0",
      "_view_name": "ProgressView",
      "bar_style": "success",
      "description": "",
      "description_tooltip": null,
      "layout": "IPY_MODEL_1c3cbc53065b44ae8f07b9f956313dcf",
      "max": 483,
      "min": 0,
      "orientation": "horizontal",
      "style": "IPY_MODEL_e3372bf1c8644e2cb1830a9a6c3729c1",
      "value": 483
     }
    },
    "0703a0d945fb4162a419823ad12a70e3": {
     "model_module": "@jupyter-widgets/base",
     "model_module_version": "1.2.0",
     "model_name": "LayoutModel",
     "state": {
      "_model_module": "@jupyter-widgets/base",
      "_model_module_version": "1.2.0",
      "_model_name": "LayoutModel",
      "_view_count": null,
      "_view_module": "@jupyter-widgets/base",
      "_view_module_version": "1.2.0",
      "_view_name": "LayoutView",
      "align_content": null,
      "align_items": null,
      "align_self": null,
      "border": null,
      "bottom": null,
      "display": null,
      "flex": null,
      "flex_flow": null,
      "grid_area": null,
      "grid_auto_columns": null,
      "grid_auto_flow": null,
      "grid_auto_rows": null,
      "grid_column": null,
      "grid_gap": null,
      "grid_row": null,
      "grid_template_areas": null,
      "grid_template_columns": null,
      "grid_template_rows": null,
      "height": null,
      "justify_content": null,
      "justify_items": null,
      "left": null,
      "margin": null,
      "max_height": null,
      "max_width": null,
      "min_height": null,
      "min_width": null,
      "object_fit": null,
      "object_position": null,
      "order": null,
      "overflow": null,
      "overflow_x": null,
      "overflow_y": null,
      "padding": null,
      "right": null,
      "top": null,
      "visibility": null,
      "width": null
     }
    },
    "07cb42ad929f46198267480eb9e4837e": {
     "model_module": "@jupyter-widgets/base",
     "model_module_version": "1.2.0",
     "model_name": "LayoutModel",
     "state": {
      "_model_module": "@jupyter-widgets/base",
      "_model_module_version": "1.2.0",
      "_model_name": "LayoutModel",
      "_view_count": null,
      "_view_module": "@jupyter-widgets/base",
      "_view_module_version": "1.2.0",
      "_view_name": "LayoutView",
      "align_content": null,
      "align_items": null,
      "align_self": null,
      "border": null,
      "bottom": null,
      "display": null,
      "flex": null,
      "flex_flow": null,
      "grid_area": null,
      "grid_auto_columns": null,
      "grid_auto_flow": null,
      "grid_auto_rows": null,
      "grid_column": null,
      "grid_gap": null,
      "grid_row": null,
      "grid_template_areas": null,
      "grid_template_columns": null,
      "grid_template_rows": null,
      "height": null,
      "justify_content": null,
      "justify_items": null,
      "left": null,
      "margin": null,
      "max_height": null,
      "max_width": null,
      "min_height": null,
      "min_width": null,
      "object_fit": null,
      "object_position": null,
      "order": null,
      "overflow": null,
      "overflow_x": null,
      "overflow_y": null,
      "padding": null,
      "right": null,
      "top": null,
      "visibility": null,
      "width": null
     }
    },
    "11c7dd25e3154660bfa24dea13065524": {
     "model_module": "@jupyter-widgets/controls",
     "model_module_version": "1.5.0",
     "model_name": "HBoxModel",
     "state": {
      "_dom_classes": [],
      "_model_module": "@jupyter-widgets/controls",
      "_model_module_version": "1.5.0",
      "_model_name": "HBoxModel",
      "_view_count": null,
      "_view_module": "@jupyter-widgets/controls",
      "_view_module_version": "1.5.0",
      "_view_name": "HBoxView",
      "box_style": "",
      "children": [
       "IPY_MODEL_45fee3204ccf492e9fb52894b18bce3a",
       "IPY_MODEL_c5135f1eaddb492bad4134672e97d2dd",
       "IPY_MODEL_79a9da97de344358952e2a8bdf8d95ff"
      ],
      "layout": "IPY_MODEL_568902ef4e5f445e9994412fe053ebdc"
     }
    },
    "11f574784caa4b4aa204fe20132c790b": {
     "model_module": "@jupyter-widgets/base",
     "model_module_version": "1.2.0",
     "model_name": "LayoutModel",
     "state": {
      "_model_module": "@jupyter-widgets/base",
      "_model_module_version": "1.2.0",
      "_model_name": "LayoutModel",
      "_view_count": null,
      "_view_module": "@jupyter-widgets/base",
      "_view_module_version": "1.2.0",
      "_view_name": "LayoutView",
      "align_content": null,
      "align_items": null,
      "align_self": null,
      "border": null,
      "bottom": null,
      "display": null,
      "flex": null,
      "flex_flow": null,
      "grid_area": null,
      "grid_auto_columns": null,
      "grid_auto_flow": null,
      "grid_auto_rows": null,
      "grid_column": null,
      "grid_gap": null,
      "grid_row": null,
      "grid_template_areas": null,
      "grid_template_columns": null,
      "grid_template_rows": null,
      "height": null,
      "justify_content": null,
      "justify_items": null,
      "left": null,
      "margin": null,
      "max_height": null,
      "max_width": null,
      "min_height": null,
      "min_width": null,
      "object_fit": null,
      "object_position": null,
      "order": null,
      "overflow": null,
      "overflow_x": null,
      "overflow_y": null,
      "padding": null,
      "right": null,
      "top": null,
      "visibility": null,
      "width": null
     }
    },
    "134960e09272435789e15d8446a1ac89": {
     "model_module": "@jupyter-widgets/controls",
     "model_module_version": "1.5.0",
     "model_name": "ProgressStyleModel",
     "state": {
      "_model_module": "@jupyter-widgets/controls",
      "_model_module_version": "1.5.0",
      "_model_name": "ProgressStyleModel",
      "_view_count": null,
      "_view_module": "@jupyter-widgets/base",
      "_view_module_version": "1.2.0",
      "_view_name": "StyleView",
      "bar_color": null,
      "description_width": ""
     }
    },
    "1410243977bc452399f654bdd056d841": {
     "model_module": "@jupyter-widgets/controls",
     "model_module_version": "1.5.0",
     "model_name": "DescriptionStyleModel",
     "state": {
      "_model_module": "@jupyter-widgets/controls",
      "_model_module_version": "1.5.0",
      "_model_name": "DescriptionStyleModel",
      "_view_count": null,
      "_view_module": "@jupyter-widgets/base",
      "_view_module_version": "1.2.0",
      "_view_name": "StyleView",
      "description_width": ""
     }
    },
    "15efdb83a5054e7f864c30ceeeb18e76": {
     "model_module": "@jupyter-widgets/base",
     "model_module_version": "1.2.0",
     "model_name": "LayoutModel",
     "state": {
      "_model_module": "@jupyter-widgets/base",
      "_model_module_version": "1.2.0",
      "_model_name": "LayoutModel",
      "_view_count": null,
      "_view_module": "@jupyter-widgets/base",
      "_view_module_version": "1.2.0",
      "_view_name": "LayoutView",
      "align_content": null,
      "align_items": null,
      "align_self": null,
      "border": null,
      "bottom": null,
      "display": null,
      "flex": null,
      "flex_flow": null,
      "grid_area": null,
      "grid_auto_columns": null,
      "grid_auto_flow": null,
      "grid_auto_rows": null,
      "grid_column": null,
      "grid_gap": null,
      "grid_row": null,
      "grid_template_areas": null,
      "grid_template_columns": null,
      "grid_template_rows": null,
      "height": null,
      "justify_content": null,
      "justify_items": null,
      "left": null,
      "margin": null,
      "max_height": null,
      "max_width": null,
      "min_height": null,
      "min_width": null,
      "object_fit": null,
      "object_position": null,
      "order": null,
      "overflow": null,
      "overflow_x": null,
      "overflow_y": null,
      "padding": null,
      "right": null,
      "top": null,
      "visibility": null,
      "width": null
     }
    },
    "16a6e1b8ff7a46a5bce54079e3d7fb77": {
     "model_module": "@jupyter-widgets/base",
     "model_module_version": "1.2.0",
     "model_name": "LayoutModel",
     "state": {
      "_model_module": "@jupyter-widgets/base",
      "_model_module_version": "1.2.0",
      "_model_name": "LayoutModel",
      "_view_count": null,
      "_view_module": "@jupyter-widgets/base",
      "_view_module_version": "1.2.0",
      "_view_name": "LayoutView",
      "align_content": null,
      "align_items": null,
      "align_self": null,
      "border": null,
      "bottom": null,
      "display": null,
      "flex": null,
      "flex_flow": null,
      "grid_area": null,
      "grid_auto_columns": null,
      "grid_auto_flow": null,
      "grid_auto_rows": null,
      "grid_column": null,
      "grid_gap": null,
      "grid_row": null,
      "grid_template_areas": null,
      "grid_template_columns": null,
      "grid_template_rows": null,
      "height": null,
      "justify_content": null,
      "justify_items": null,
      "left": null,
      "margin": null,
      "max_height": null,
      "max_width": null,
      "min_height": null,
      "min_width": null,
      "object_fit": null,
      "object_position": null,
      "order": null,
      "overflow": null,
      "overflow_x": null,
      "overflow_y": null,
      "padding": null,
      "right": null,
      "top": null,
      "visibility": null,
      "width": null
     }
    },
    "17969bde0fab4e44a76e4a396e059a69": {
     "model_module": "@jupyter-widgets/controls",
     "model_module_version": "1.5.0",
     "model_name": "HBoxModel",
     "state": {
      "_dom_classes": [],
      "_model_module": "@jupyter-widgets/controls",
      "_model_module_version": "1.5.0",
      "_model_name": "HBoxModel",
      "_view_count": null,
      "_view_module": "@jupyter-widgets/controls",
      "_view_module_version": "1.5.0",
      "_view_name": "HBoxView",
      "box_style": "",
      "children": [
       "IPY_MODEL_c30b8fe9cb4f459685ec434baf0796cf",
       "IPY_MODEL_d862feaa70694ad1b10760f79b5c3892",
       "IPY_MODEL_d17b936d29724137a18969b6ee79bc24"
      ],
      "layout": "IPY_MODEL_ea02378d8184489882e59a880f0a56fe"
     }
    },
    "1998e47552714d5ab131b7788ac579e9": {
     "model_module": "@jupyter-widgets/controls",
     "model_module_version": "1.5.0",
     "model_name": "HTMLModel",
     "state": {
      "_dom_classes": [],
      "_model_module": "@jupyter-widgets/controls",
      "_model_module_version": "1.5.0",
      "_model_name": "HTMLModel",
      "_view_count": null,
      "_view_module": "@jupyter-widgets/controls",
      "_view_module_version": "1.5.0",
      "_view_name": "HTMLView",
      "description": "",
      "description_tooltip": null,
      "layout": "IPY_MODEL_ab6d3955ae4f4d469f2c3880d56888df",
      "placeholder": "​",
      "style": "IPY_MODEL_4bff46612cbd44749043fa76922f1415",
      "value": "Downloading: 100%"
     }
    },
    "19ffed1c3b734c5bac15c6fd27c5fd04": {
     "model_module": "@jupyter-widgets/controls",
     "model_module_version": "1.5.0",
     "model_name": "FloatProgressModel",
     "state": {
      "_dom_classes": [],
      "_model_module": "@jupyter-widgets/controls",
      "_model_module_version": "1.5.0",
      "_model_name": "FloatProgressModel",
      "_view_count": null,
      "_view_module": "@jupyter-widgets/controls",
      "_view_module_version": "1.5.0",
      "_view_name": "ProgressView",
      "bar_style": "success",
      "description": "",
      "description_tooltip": null,
      "layout": "IPY_MODEL_15efdb83a5054e7f864c30ceeeb18e76",
      "max": 466062,
      "min": 0,
      "orientation": "horizontal",
      "style": "IPY_MODEL_a220c312efe640e6826254a402deb31c",
      "value": 466062
     }
    },
    "1b879c3f5895471fb1bf677a8d30fca3": {
     "model_module": "@jupyter-widgets/base",
     "model_module_version": "1.2.0",
     "model_name": "LayoutModel",
     "state": {
      "_model_module": "@jupyter-widgets/base",
      "_model_module_version": "1.2.0",
      "_model_name": "LayoutModel",
      "_view_count": null,
      "_view_module": "@jupyter-widgets/base",
      "_view_module_version": "1.2.0",
      "_view_name": "LayoutView",
      "align_content": null,
      "align_items": null,
      "align_self": null,
      "border": null,
      "bottom": null,
      "display": null,
      "flex": null,
      "flex_flow": null,
      "grid_area": null,
      "grid_auto_columns": null,
      "grid_auto_flow": null,
      "grid_auto_rows": null,
      "grid_column": null,
      "grid_gap": null,
      "grid_row": null,
      "grid_template_areas": null,
      "grid_template_columns": null,
      "grid_template_rows": null,
      "height": null,
      "justify_content": null,
      "justify_items": null,
      "left": null,
      "margin": null,
      "max_height": null,
      "max_width": null,
      "min_height": null,
      "min_width": null,
      "object_fit": null,
      "object_position": null,
      "order": null,
      "overflow": null,
      "overflow_x": null,
      "overflow_y": null,
      "padding": null,
      "right": null,
      "top": null,
      "visibility": null,
      "width": null
     }
    },
    "1c3cbc53065b44ae8f07b9f956313dcf": {
     "model_module": "@jupyter-widgets/base",
     "model_module_version": "1.2.0",
     "model_name": "LayoutModel",
     "state": {
      "_model_module": "@jupyter-widgets/base",
      "_model_module_version": "1.2.0",
      "_model_name": "LayoutModel",
      "_view_count": null,
      "_view_module": "@jupyter-widgets/base",
      "_view_module_version": "1.2.0",
      "_view_name": "LayoutView",
      "align_content": null,
      "align_items": null,
      "align_self": null,
      "border": null,
      "bottom": null,
      "display": null,
      "flex": null,
      "flex_flow": null,
      "grid_area": null,
      "grid_auto_columns": null,
      "grid_auto_flow": null,
      "grid_auto_rows": null,
      "grid_column": null,
      "grid_gap": null,
      "grid_row": null,
      "grid_template_areas": null,
      "grid_template_columns": null,
      "grid_template_rows": null,
      "height": null,
      "justify_content": null,
      "justify_items": null,
      "left": null,
      "margin": null,
      "max_height": null,
      "max_width": null,
      "min_height": null,
      "min_width": null,
      "object_fit": null,
      "object_position": null,
      "order": null,
      "overflow": null,
      "overflow_x": null,
      "overflow_y": null,
      "padding": null,
      "right": null,
      "top": null,
      "visibility": null,
      "width": null
     }
    },
    "1f572fa07acb4c4dbff0e748d0efac66": {
     "model_module": "@jupyter-widgets/base",
     "model_module_version": "1.2.0",
     "model_name": "LayoutModel",
     "state": {
      "_model_module": "@jupyter-widgets/base",
      "_model_module_version": "1.2.0",
      "_model_name": "LayoutModel",
      "_view_count": null,
      "_view_module": "@jupyter-widgets/base",
      "_view_module_version": "1.2.0",
      "_view_name": "LayoutView",
      "align_content": null,
      "align_items": null,
      "align_self": null,
      "border": null,
      "bottom": null,
      "display": null,
      "flex": null,
      "flex_flow": null,
      "grid_area": null,
      "grid_auto_columns": null,
      "grid_auto_flow": null,
      "grid_auto_rows": null,
      "grid_column": null,
      "grid_gap": null,
      "grid_row": null,
      "grid_template_areas": null,
      "grid_template_columns": null,
      "grid_template_rows": null,
      "height": null,
      "justify_content": null,
      "justify_items": null,
      "left": null,
      "margin": null,
      "max_height": null,
      "max_width": null,
      "min_height": null,
      "min_width": null,
      "object_fit": null,
      "object_position": null,
      "order": null,
      "overflow": null,
      "overflow_x": null,
      "overflow_y": null,
      "padding": null,
      "right": null,
      "top": null,
      "visibility": null,
      "width": null
     }
    },
    "1ff19e2d87844790a83fdef70033b00a": {
     "model_module": "@jupyter-widgets/controls",
     "model_module_version": "1.5.0",
     "model_name": "ProgressStyleModel",
     "state": {
      "_model_module": "@jupyter-widgets/controls",
      "_model_module_version": "1.5.0",
      "_model_name": "ProgressStyleModel",
      "_view_count": null,
      "_view_module": "@jupyter-widgets/base",
      "_view_module_version": "1.2.0",
      "_view_name": "StyleView",
      "bar_color": null,
      "description_width": ""
     }
    },
    "20a0c594f94d43aa91f6ecf60bae1c14": {
     "model_module": "@jupyter-widgets/controls",
     "model_module_version": "1.5.0",
     "model_name": "HBoxModel",
     "state": {
      "_dom_classes": [],
      "_model_module": "@jupyter-widgets/controls",
      "_model_module_version": "1.5.0",
      "_model_name": "HBoxModel",
      "_view_count": null,
      "_view_module": "@jupyter-widgets/controls",
      "_view_module_version": "1.5.0",
      "_view_name": "HBoxView",
      "box_style": "",
      "children": [
       "IPY_MODEL_747b2ec2cf19406280ebb562acb3170b",
       "IPY_MODEL_f33b6aba4ee44c388e0e0448d1102287",
       "IPY_MODEL_3798ff03b2e6471b9bb6bea1d010ea8f"
      ],
      "layout": "IPY_MODEL_03f3634718884deea7bd5cdf53eb0ec0"
     }
    },
    "20b7564678d247e49bef493ca78de5cb": {
     "model_module": "@jupyter-widgets/controls",
     "model_module_version": "1.5.0",
     "model_name": "DescriptionStyleModel",
     "state": {
      "_model_module": "@jupyter-widgets/controls",
      "_model_module_version": "1.5.0",
      "_model_name": "DescriptionStyleModel",
      "_view_count": null,
      "_view_module": "@jupyter-widgets/base",
      "_view_module_version": "1.2.0",
      "_view_name": "StyleView",
      "description_width": ""
     }
    },
    "229ed0a8495742b398d4d6a6a1377f84": {
     "model_module": "@jupyter-widgets/controls",
     "model_module_version": "1.5.0",
     "model_name": "ProgressStyleModel",
     "state": {
      "_model_module": "@jupyter-widgets/controls",
      "_model_module_version": "1.5.0",
      "_model_name": "ProgressStyleModel",
      "_view_count": null,
      "_view_module": "@jupyter-widgets/base",
      "_view_module_version": "1.2.0",
      "_view_name": "StyleView",
      "bar_color": null,
      "description_width": ""
     }
    },
    "2b7668b6ecc54d12be5c05eca4955604": {
     "model_module": "@jupyter-widgets/controls",
     "model_module_version": "1.5.0",
     "model_name": "DescriptionStyleModel",
     "state": {
      "_model_module": "@jupyter-widgets/controls",
      "_model_module_version": "1.5.0",
      "_model_name": "DescriptionStyleModel",
      "_view_count": null,
      "_view_module": "@jupyter-widgets/base",
      "_view_module_version": "1.2.0",
      "_view_name": "StyleView",
      "description_width": ""
     }
    },
    "2cc907e64f0f45f2b0b95a158b61109e": {
     "model_module": "@jupyter-widgets/base",
     "model_module_version": "1.2.0",
     "model_name": "LayoutModel",
     "state": {
      "_model_module": "@jupyter-widgets/base",
      "_model_module_version": "1.2.0",
      "_model_name": "LayoutModel",
      "_view_count": null,
      "_view_module": "@jupyter-widgets/base",
      "_view_module_version": "1.2.0",
      "_view_name": "LayoutView",
      "align_content": null,
      "align_items": null,
      "align_self": null,
      "border": null,
      "bottom": null,
      "display": null,
      "flex": null,
      "flex_flow": null,
      "grid_area": null,
      "grid_auto_columns": null,
      "grid_auto_flow": null,
      "grid_auto_rows": null,
      "grid_column": null,
      "grid_gap": null,
      "grid_row": null,
      "grid_template_areas": null,
      "grid_template_columns": null,
      "grid_template_rows": null,
      "height": null,
      "justify_content": null,
      "justify_items": null,
      "left": null,
      "margin": null,
      "max_height": null,
      "max_width": null,
      "min_height": null,
      "min_width": null,
      "object_fit": null,
      "object_position": null,
      "order": null,
      "overflow": null,
      "overflow_x": null,
      "overflow_y": null,
      "padding": null,
      "right": null,
      "top": null,
      "visibility": null,
      "width": null
     }
    },
    "2cda41ce0e8e41caafcc980e472642eb": {
     "model_module": "@jupyter-widgets/base",
     "model_module_version": "1.2.0",
     "model_name": "LayoutModel",
     "state": {
      "_model_module": "@jupyter-widgets/base",
      "_model_module_version": "1.2.0",
      "_model_name": "LayoutModel",
      "_view_count": null,
      "_view_module": "@jupyter-widgets/base",
      "_view_module_version": "1.2.0",
      "_view_name": "LayoutView",
      "align_content": null,
      "align_items": null,
      "align_self": null,
      "border": null,
      "bottom": null,
      "display": null,
      "flex": null,
      "flex_flow": null,
      "grid_area": null,
      "grid_auto_columns": null,
      "grid_auto_flow": null,
      "grid_auto_rows": null,
      "grid_column": null,
      "grid_gap": null,
      "grid_row": null,
      "grid_template_areas": null,
      "grid_template_columns": null,
      "grid_template_rows": null,
      "height": null,
      "justify_content": null,
      "justify_items": null,
      "left": null,
      "margin": null,
      "max_height": null,
      "max_width": null,
      "min_height": null,
      "min_width": null,
      "object_fit": null,
      "object_position": null,
      "order": null,
      "overflow": null,
      "overflow_x": null,
      "overflow_y": null,
      "padding": null,
      "right": null,
      "top": null,
      "visibility": null,
      "width": null
     }
    },
    "2d6d1a0b217d49f8b3024aec90224d46": {
     "model_module": "@jupyter-widgets/base",
     "model_module_version": "1.2.0",
     "model_name": "LayoutModel",
     "state": {
      "_model_module": "@jupyter-widgets/base",
      "_model_module_version": "1.2.0",
      "_model_name": "LayoutModel",
      "_view_count": null,
      "_view_module": "@jupyter-widgets/base",
      "_view_module_version": "1.2.0",
      "_view_name": "LayoutView",
      "align_content": null,
      "align_items": null,
      "align_self": null,
      "border": null,
      "bottom": null,
      "display": null,
      "flex": null,
      "flex_flow": null,
      "grid_area": null,
      "grid_auto_columns": null,
      "grid_auto_flow": null,
      "grid_auto_rows": null,
      "grid_column": null,
      "grid_gap": null,
      "grid_row": null,
      "grid_template_areas": null,
      "grid_template_columns": null,
      "grid_template_rows": null,
      "height": null,
      "justify_content": null,
      "justify_items": null,
      "left": null,
      "margin": null,
      "max_height": null,
      "max_width": null,
      "min_height": null,
      "min_width": null,
      "object_fit": null,
      "object_position": null,
      "order": null,
      "overflow": null,
      "overflow_x": null,
      "overflow_y": null,
      "padding": null,
      "right": null,
      "top": null,
      "visibility": null,
      "width": null
     }
    },
    "2eaa5934225e49d495f46e35843362d3": {
     "model_module": "@jupyter-widgets/base",
     "model_module_version": "1.2.0",
     "model_name": "LayoutModel",
     "state": {
      "_model_module": "@jupyter-widgets/base",
      "_model_module_version": "1.2.0",
      "_model_name": "LayoutModel",
      "_view_count": null,
      "_view_module": "@jupyter-widgets/base",
      "_view_module_version": "1.2.0",
      "_view_name": "LayoutView",
      "align_content": null,
      "align_items": null,
      "align_self": null,
      "border": null,
      "bottom": null,
      "display": null,
      "flex": null,
      "flex_flow": null,
      "grid_area": null,
      "grid_auto_columns": null,
      "grid_auto_flow": null,
      "grid_auto_rows": null,
      "grid_column": null,
      "grid_gap": null,
      "grid_row": null,
      "grid_template_areas": null,
      "grid_template_columns": null,
      "grid_template_rows": null,
      "height": null,
      "justify_content": null,
      "justify_items": null,
      "left": null,
      "margin": null,
      "max_height": null,
      "max_width": null,
      "min_height": null,
      "min_width": null,
      "object_fit": null,
      "object_position": null,
      "order": null,
      "overflow": null,
      "overflow_x": null,
      "overflow_y": null,
      "padding": null,
      "right": null,
      "top": null,
      "visibility": null,
      "width": null
     }
    },
    "341eb1bf11d54348949b7f456644009c": {
     "model_module": "@jupyter-widgets/controls",
     "model_module_version": "1.5.0",
     "model_name": "DescriptionStyleModel",
     "state": {
      "_model_module": "@jupyter-widgets/controls",
      "_model_module_version": "1.5.0",
      "_model_name": "DescriptionStyleModel",
      "_view_count": null,
      "_view_module": "@jupyter-widgets/base",
      "_view_module_version": "1.2.0",
      "_view_name": "StyleView",
      "description_width": ""
     }
    },
    "347f86e41cf1445d92afeb3699f984e8": {
     "model_module": "@jupyter-widgets/controls",
     "model_module_version": "1.5.0",
     "model_name": "HTMLModel",
     "state": {
      "_dom_classes": [],
      "_model_module": "@jupyter-widgets/controls",
      "_model_module_version": "1.5.0",
      "_model_name": "HTMLModel",
      "_view_count": null,
      "_view_module": "@jupyter-widgets/controls",
      "_view_module_version": "1.5.0",
      "_view_name": "HTMLView",
      "description": "",
      "description_tooltip": null,
      "layout": "IPY_MODEL_f960adfc410f49f7989d308750a8c8fe",
      "placeholder": "​",
      "style": "IPY_MODEL_fcca736a70db41c4868e763e1dcd70eb",
      "value": " 256M/256M [00:07&lt;00:00, 35.2MB/s]"
     }
    },
    "372906eae2c84c168f9db4a0c50b7f68": {
     "model_module": "@jupyter-widgets/base",
     "model_module_version": "1.2.0",
     "model_name": "LayoutModel",
     "state": {
      "_model_module": "@jupyter-widgets/base",
      "_model_module_version": "1.2.0",
      "_model_name": "LayoutModel",
      "_view_count": null,
      "_view_module": "@jupyter-widgets/base",
      "_view_module_version": "1.2.0",
      "_view_name": "LayoutView",
      "align_content": null,
      "align_items": null,
      "align_self": null,
      "border": null,
      "bottom": null,
      "display": null,
      "flex": null,
      "flex_flow": null,
      "grid_area": null,
      "grid_auto_columns": null,
      "grid_auto_flow": null,
      "grid_auto_rows": null,
      "grid_column": null,
      "grid_gap": null,
      "grid_row": null,
      "grid_template_areas": null,
      "grid_template_columns": null,
      "grid_template_rows": null,
      "height": null,
      "justify_content": null,
      "justify_items": null,
      "left": null,
      "margin": null,
      "max_height": null,
      "max_width": null,
      "min_height": null,
      "min_width": null,
      "object_fit": null,
      "object_position": null,
      "order": null,
      "overflow": null,
      "overflow_x": null,
      "overflow_y": null,
      "padding": null,
      "right": null,
      "top": null,
      "visibility": null,
      "width": null
     }
    },
    "3798ff03b2e6471b9bb6bea1d010ea8f": {
     "model_module": "@jupyter-widgets/controls",
     "model_module_version": "1.5.0",
     "model_name": "HTMLModel",
     "state": {
      "_dom_classes": [],
      "_model_module": "@jupyter-widgets/controls",
      "_model_module_version": "1.5.0",
      "_model_name": "HTMLModel",
      "_view_count": null,
      "_view_module": "@jupyter-widgets/controls",
      "_view_module_version": "1.5.0",
      "_view_name": "HTMLView",
      "description": "",
      "description_tooltip": null,
      "layout": "IPY_MODEL_16a6e1b8ff7a46a5bce54079e3d7fb77",
      "placeholder": "​",
      "style": "IPY_MODEL_ed9fd1495cfa4b9eb87a0ef01099f87a",
      "value": " 455k/455k [00:00&lt;00:00, 7.40MB/s]"
     }
    },
    "37b391285b3442859a8ac1cb7757fbf9": {
     "model_module": "@jupyter-widgets/controls",
     "model_module_version": "1.5.0",
     "model_name": "HTMLModel",
     "state": {
      "_dom_classes": [],
      "_model_module": "@jupyter-widgets/controls",
      "_model_module_version": "1.5.0",
      "_model_name": "HTMLModel",
      "_view_count": null,
      "_view_module": "@jupyter-widgets/controls",
      "_view_module_version": "1.5.0",
      "_view_name": "HTMLView",
      "description": "",
      "description_tooltip": null,
      "layout": "IPY_MODEL_d186e2356e054a3083e0734db63ab327",
      "placeholder": "​",
      "style": "IPY_MODEL_c1b5fe38f6bf4270baffb2c30cce2898",
      "value": " 27/27 [00:07&lt;00:00,  3.84ba/s]"
     }
    },
    "37ef23e66238488a95232b56c27e7c78": {
     "model_module": "@jupyter-widgets/controls",
     "model_module_version": "1.5.0",
     "model_name": "HBoxModel",
     "state": {
      "_dom_classes": [],
      "_model_module": "@jupyter-widgets/controls",
      "_model_module_version": "1.5.0",
      "_model_name": "HBoxModel",
      "_view_count": null,
      "_view_module": "@jupyter-widgets/controls",
      "_view_module_version": "1.5.0",
      "_view_name": "HBoxView",
      "box_style": "",
      "children": [
       "IPY_MODEL_ac7ebaed96474810a50b836746a54f67",
       "IPY_MODEL_e61f353a47e249f19fa1b54f4c848dd6",
       "IPY_MODEL_97a369a7b9fa4cafb1f4b83f96b2a609"
      ],
      "layout": "IPY_MODEL_1b879c3f5895471fb1bf677a8d30fca3"
     }
    },
    "38f9128f6bc341cea95eb6fdcf657cdc": {
     "model_module": "@jupyter-widgets/controls",
     "model_module_version": "1.5.0",
     "model_name": "DescriptionStyleModel",
     "state": {
      "_model_module": "@jupyter-widgets/controls",
      "_model_module_version": "1.5.0",
      "_model_name": "DescriptionStyleModel",
      "_view_count": null,
      "_view_module": "@jupyter-widgets/base",
      "_view_module_version": "1.2.0",
      "_view_name": "StyleView",
      "description_width": ""
     }
    },
    "39569c0c8fd94e63bd234bb158cbb4c3": {
     "model_module": "@jupyter-widgets/base",
     "model_module_version": "1.2.0",
     "model_name": "LayoutModel",
     "state": {
      "_model_module": "@jupyter-widgets/base",
      "_model_module_version": "1.2.0",
      "_model_name": "LayoutModel",
      "_view_count": null,
      "_view_module": "@jupyter-widgets/base",
      "_view_module_version": "1.2.0",
      "_view_name": "LayoutView",
      "align_content": null,
      "align_items": null,
      "align_self": null,
      "border": null,
      "bottom": null,
      "display": null,
      "flex": null,
      "flex_flow": null,
      "grid_area": null,
      "grid_auto_columns": null,
      "grid_auto_flow": null,
      "grid_auto_rows": null,
      "grid_column": null,
      "grid_gap": null,
      "grid_row": null,
      "grid_template_areas": null,
      "grid_template_columns": null,
      "grid_template_rows": null,
      "height": null,
      "justify_content": null,
      "justify_items": null,
      "left": null,
      "margin": null,
      "max_height": null,
      "max_width": null,
      "min_height": null,
      "min_width": null,
      "object_fit": null,
      "object_position": null,
      "order": null,
      "overflow": null,
      "overflow_x": null,
      "overflow_y": null,
      "padding": null,
      "right": null,
      "top": null,
      "visibility": null,
      "width": null
     }
    },
    "3a3a298c65fc4524b3fde3ff4c05f06e": {
     "model_module": "@jupyter-widgets/base",
     "model_module_version": "1.2.0",
     "model_name": "LayoutModel",
     "state": {
      "_model_module": "@jupyter-widgets/base",
      "_model_module_version": "1.2.0",
      "_model_name": "LayoutModel",
      "_view_count": null,
      "_view_module": "@jupyter-widgets/base",
      "_view_module_version": "1.2.0",
      "_view_name": "LayoutView",
      "align_content": null,
      "align_items": null,
      "align_self": null,
      "border": null,
      "bottom": null,
      "display": null,
      "flex": null,
      "flex_flow": null,
      "grid_area": null,
      "grid_auto_columns": null,
      "grid_auto_flow": null,
      "grid_auto_rows": null,
      "grid_column": null,
      "grid_gap": null,
      "grid_row": null,
      "grid_template_areas": null,
      "grid_template_columns": null,
      "grid_template_rows": null,
      "height": null,
      "justify_content": null,
      "justify_items": null,
      "left": null,
      "margin": null,
      "max_height": null,
      "max_width": null,
      "min_height": null,
      "min_width": null,
      "object_fit": null,
      "object_position": null,
      "order": null,
      "overflow": null,
      "overflow_x": null,
      "overflow_y": null,
      "padding": null,
      "right": null,
      "top": null,
      "visibility": null,
      "width": null
     }
    },
    "3b6c5363b81b49b5950eefe50b59dcbc": {
     "model_module": "@jupyter-widgets/controls",
     "model_module_version": "1.5.0",
     "model_name": "DescriptionStyleModel",
     "state": {
      "_model_module": "@jupyter-widgets/controls",
      "_model_module_version": "1.5.0",
      "_model_name": "DescriptionStyleModel",
      "_view_count": null,
      "_view_module": "@jupyter-widgets/base",
      "_view_module_version": "1.2.0",
      "_view_name": "StyleView",
      "description_width": ""
     }
    },
    "3c4c058f850e4f5da4c6b9fffe1c96b0": {
     "model_module": "@jupyter-widgets/controls",
     "model_module_version": "1.5.0",
     "model_name": "ProgressStyleModel",
     "state": {
      "_model_module": "@jupyter-widgets/controls",
      "_model_module_version": "1.5.0",
      "_model_name": "ProgressStyleModel",
      "_view_count": null,
      "_view_module": "@jupyter-widgets/base",
      "_view_module_version": "1.2.0",
      "_view_name": "StyleView",
      "bar_color": null,
      "description_width": ""
     }
    },
    "3cc3407305ca48b9a41a7c4b345a40bb": {
     "model_module": "@jupyter-widgets/base",
     "model_module_version": "1.2.0",
     "model_name": "LayoutModel",
     "state": {
      "_model_module": "@jupyter-widgets/base",
      "_model_module_version": "1.2.0",
      "_model_name": "LayoutModel",
      "_view_count": null,
      "_view_module": "@jupyter-widgets/base",
      "_view_module_version": "1.2.0",
      "_view_name": "LayoutView",
      "align_content": null,
      "align_items": null,
      "align_self": null,
      "border": null,
      "bottom": null,
      "display": null,
      "flex": null,
      "flex_flow": null,
      "grid_area": null,
      "grid_auto_columns": null,
      "grid_auto_flow": null,
      "grid_auto_rows": null,
      "grid_column": null,
      "grid_gap": null,
      "grid_row": null,
      "grid_template_areas": null,
      "grid_template_columns": null,
      "grid_template_rows": null,
      "height": null,
      "justify_content": null,
      "justify_items": null,
      "left": null,
      "margin": null,
      "max_height": null,
      "max_width": null,
      "min_height": null,
      "min_width": null,
      "object_fit": null,
      "object_position": null,
      "order": null,
      "overflow": null,
      "overflow_x": null,
      "overflow_y": null,
      "padding": null,
      "right": null,
      "top": null,
      "visibility": null,
      "width": null
     }
    },
    "3e01406b94574a9cbd8cee9635435a3a": {
     "model_module": "@jupyter-widgets/base",
     "model_module_version": "1.2.0",
     "model_name": "LayoutModel",
     "state": {
      "_model_module": "@jupyter-widgets/base",
      "_model_module_version": "1.2.0",
      "_model_name": "LayoutModel",
      "_view_count": null,
      "_view_module": "@jupyter-widgets/base",
      "_view_module_version": "1.2.0",
      "_view_name": "LayoutView",
      "align_content": null,
      "align_items": null,
      "align_self": null,
      "border": null,
      "bottom": null,
      "display": null,
      "flex": null,
      "flex_flow": null,
      "grid_area": null,
      "grid_auto_columns": null,
      "grid_auto_flow": null,
      "grid_auto_rows": null,
      "grid_column": null,
      "grid_gap": null,
      "grid_row": null,
      "grid_template_areas": null,
      "grid_template_columns": null,
      "grid_template_rows": null,
      "height": null,
      "justify_content": null,
      "justify_items": null,
      "left": null,
      "margin": null,
      "max_height": null,
      "max_width": null,
      "min_height": null,
      "min_width": null,
      "object_fit": null,
      "object_position": null,
      "order": null,
      "overflow": null,
      "overflow_x": null,
      "overflow_y": null,
      "padding": null,
      "right": null,
      "top": null,
      "visibility": null,
      "width": null
     }
    },
    "3e847e07eaaa4ff0b536a6cf0c9c176b": {
     "model_module": "@jupyter-widgets/controls",
     "model_module_version": "1.5.0",
     "model_name": "HTMLModel",
     "state": {
      "_dom_classes": [],
      "_model_module": "@jupyter-widgets/controls",
      "_model_module_version": "1.5.0",
      "_model_name": "HTMLModel",
      "_view_count": null,
      "_view_module": "@jupyter-widgets/controls",
      "_view_module_version": "1.5.0",
      "_view_name": "HTMLView",
      "description": "",
      "description_tooltip": null,
      "layout": "IPY_MODEL_11f574784caa4b4aa204fe20132c790b",
      "placeholder": "​",
      "style": "IPY_MODEL_71cccef224d548a6994d666e43df85ea",
      "value": " 28.0/28.0 [00:00&lt;00:00, 631B/s]"
     }
    },
    "3ed632fa145a4fe28d279964ebfe9f89": {
     "model_module": "@jupyter-widgets/controls",
     "model_module_version": "1.5.0",
     "model_name": "HTMLModel",
     "state": {
      "_dom_classes": [],
      "_model_module": "@jupyter-widgets/controls",
      "_model_module_version": "1.5.0",
      "_model_name": "HTMLModel",
      "_view_count": null,
      "_view_module": "@jupyter-widgets/controls",
      "_view_module_version": "1.5.0",
      "_view_name": "HTMLView",
      "description": "",
      "description_tooltip": null,
      "layout": "IPY_MODEL_e0fc8f5fe01d42fc80a809e4e50d727f",
      "placeholder": "​",
      "style": "IPY_MODEL_d5c167e1a6de416c9daee98d54ab2045",
      "value": "Downloading: 100%"
     }
    },
    "401f9d39f0ff47d0a72decc3abe0a3a6": {
     "model_module": "@jupyter-widgets/controls",
     "model_module_version": "1.5.0",
     "model_name": "FloatProgressModel",
     "state": {
      "_dom_classes": [],
      "_model_module": "@jupyter-widgets/controls",
      "_model_module_version": "1.5.0",
      "_model_name": "FloatProgressModel",
      "_view_count": null,
      "_view_module": "@jupyter-widgets/controls",
      "_view_module_version": "1.5.0",
      "_view_name": "ProgressView",
      "bar_style": "success",
      "description": "",
      "description_tooltip": null,
      "layout": "IPY_MODEL_e59a7e2367134342a7b74038137940c8",
      "max": 28,
      "min": 0,
      "orientation": "horizontal",
      "style": "IPY_MODEL_3c4c058f850e4f5da4c6b9fffe1c96b0",
      "value": 28
     }
    },
    "40eed408025a42c897e7bf4815997a8e": {
     "model_module": "@jupyter-widgets/controls",
     "model_module_version": "1.5.0",
     "model_name": "FloatProgressModel",
     "state": {
      "_dom_classes": [],
      "_model_module": "@jupyter-widgets/controls",
      "_model_module_version": "1.5.0",
      "_model_name": "FloatProgressModel",
      "_view_count": null,
      "_view_module": "@jupyter-widgets/controls",
      "_view_module_version": "1.5.0",
      "_view_name": "ProgressView",
      "bar_style": "success",
      "description": "",
      "description_tooltip": null,
      "layout": "IPY_MODEL_d9c9178852c14f258afa41be2229e0ce",
      "max": 570,
      "min": 0,
      "orientation": "horizontal",
      "style": "IPY_MODEL_1ff19e2d87844790a83fdef70033b00a",
      "value": 570
     }
    },
    "41663766b96f43c282afecaab1004eb7": {
     "model_module": "@jupyter-widgets/base",
     "model_module_version": "1.2.0",
     "model_name": "LayoutModel",
     "state": {
      "_model_module": "@jupyter-widgets/base",
      "_model_module_version": "1.2.0",
      "_model_name": "LayoutModel",
      "_view_count": null,
      "_view_module": "@jupyter-widgets/base",
      "_view_module_version": "1.2.0",
      "_view_name": "LayoutView",
      "align_content": null,
      "align_items": null,
      "align_self": null,
      "border": null,
      "bottom": null,
      "display": null,
      "flex": null,
      "flex_flow": null,
      "grid_area": null,
      "grid_auto_columns": null,
      "grid_auto_flow": null,
      "grid_auto_rows": null,
      "grid_column": null,
      "grid_gap": null,
      "grid_row": null,
      "grid_template_areas": null,
      "grid_template_columns": null,
      "grid_template_rows": null,
      "height": null,
      "justify_content": null,
      "justify_items": null,
      "left": null,
      "margin": null,
      "max_height": null,
      "max_width": null,
      "min_height": null,
      "min_width": null,
      "object_fit": null,
      "object_position": null,
      "order": null,
      "overflow": null,
      "overflow_x": null,
      "overflow_y": null,
      "padding": null,
      "right": null,
      "top": null,
      "visibility": null,
      "width": null
     }
    },
    "41d58f4202f148ec83f2721bc3cbb03c": {
     "model_module": "@jupyter-widgets/controls",
     "model_module_version": "1.5.0",
     "model_name": "HBoxModel",
     "state": {
      "_dom_classes": [],
      "_model_module": "@jupyter-widgets/controls",
      "_model_module_version": "1.5.0",
      "_model_name": "HBoxModel",
      "_view_count": null,
      "_view_module": "@jupyter-widgets/controls",
      "_view_module_version": "1.5.0",
      "_view_name": "HBoxView",
      "box_style": "",
      "children": [
       "IPY_MODEL_03db802f49ef4363accbe1c2e734e2f1",
       "IPY_MODEL_b57307190c31436aa24020d49ead64e2",
       "IPY_MODEL_f44ac8133fcc463d93d76b7c2e1cc4c4"
      ],
      "layout": "IPY_MODEL_1f572fa07acb4c4dbff0e748d0efac66"
     }
    },
    "4594aeaf02c84de79094c94e3858bde4": {
     "model_module": "@jupyter-widgets/controls",
     "model_module_version": "1.5.0",
     "model_name": "HBoxModel",
     "state": {
      "_dom_classes": [],
      "_model_module": "@jupyter-widgets/controls",
      "_model_module_version": "1.5.0",
      "_model_name": "HBoxModel",
      "_view_count": null,
      "_view_module": "@jupyter-widgets/controls",
      "_view_module_version": "1.5.0",
      "_view_name": "HBoxView",
      "box_style": "",
      "children": [
       "IPY_MODEL_1998e47552714d5ab131b7788ac579e9",
       "IPY_MODEL_04ffb2def7b942e282d4f6b1977acfd4",
       "IPY_MODEL_a073d1b3d5de44f89bac89f1bd4ddafb"
      ],
      "layout": "IPY_MODEL_8003ceec35a14d0b8fcfd8fe6d94098f"
     }
    },
    "45ee039a48f640cd8f09342756f2b76e": {
     "model_module": "@jupyter-widgets/controls",
     "model_module_version": "1.5.0",
     "model_name": "HBoxModel",
     "state": {
      "_dom_classes": [],
      "_model_module": "@jupyter-widgets/controls",
      "_model_module_version": "1.5.0",
      "_model_name": "HBoxModel",
      "_view_count": null,
      "_view_module": "@jupyter-widgets/controls",
      "_view_module_version": "1.5.0",
      "_view_name": "HBoxView",
      "box_style": "",
      "children": [
       "IPY_MODEL_7bba9350d5924f74acca66a03e24068f",
       "IPY_MODEL_401f9d39f0ff47d0a72decc3abe0a3a6",
       "IPY_MODEL_3e847e07eaaa4ff0b536a6cf0c9c176b"
      ],
      "layout": "IPY_MODEL_372906eae2c84c168f9db4a0c50b7f68"
     }
    },
    "45fee3204ccf492e9fb52894b18bce3a": {
     "model_module": "@jupyter-widgets/controls",
     "model_module_version": "1.5.0",
     "model_name": "HTMLModel",
     "state": {
      "_dom_classes": [],
      "_model_module": "@jupyter-widgets/controls",
      "_model_module_version": "1.5.0",
      "_model_name": "HTMLModel",
      "_view_count": null,
      "_view_module": "@jupyter-widgets/controls",
      "_view_module_version": "1.5.0",
      "_view_name": "HTMLView",
      "description": "",
      "description_tooltip": null,
      "layout": "IPY_MODEL_7b9d964387a5421b8106e2e500b58728",
      "placeholder": "​",
      "style": "IPY_MODEL_1410243977bc452399f654bdd056d841",
      "value": "Downloading: 100%"
     }
    },
    "49b5030490f640098284397332486e45": {
     "model_module": "@jupyter-widgets/base",
     "model_module_version": "1.2.0",
     "model_name": "LayoutModel",
     "state": {
      "_model_module": "@jupyter-widgets/base",
      "_model_module_version": "1.2.0",
      "_model_name": "LayoutModel",
      "_view_count": null,
      "_view_module": "@jupyter-widgets/base",
      "_view_module_version": "1.2.0",
      "_view_name": "LayoutView",
      "align_content": null,
      "align_items": null,
      "align_self": null,
      "border": null,
      "bottom": null,
      "display": null,
      "flex": null,
      "flex_flow": null,
      "grid_area": null,
      "grid_auto_columns": null,
      "grid_auto_flow": null,
      "grid_auto_rows": null,
      "grid_column": null,
      "grid_gap": null,
      "grid_row": null,
      "grid_template_areas": null,
      "grid_template_columns": null,
      "grid_template_rows": null,
      "height": null,
      "justify_content": null,
      "justify_items": null,
      "left": null,
      "margin": null,
      "max_height": null,
      "max_width": null,
      "min_height": null,
      "min_width": null,
      "object_fit": null,
      "object_position": null,
      "order": null,
      "overflow": null,
      "overflow_x": null,
      "overflow_y": null,
      "padding": null,
      "right": null,
      "top": null,
      "visibility": null,
      "width": null
     }
    },
    "4bff46612cbd44749043fa76922f1415": {
     "model_module": "@jupyter-widgets/controls",
     "model_module_version": "1.5.0",
     "model_name": "DescriptionStyleModel",
     "state": {
      "_model_module": "@jupyter-widgets/controls",
      "_model_module_version": "1.5.0",
      "_model_name": "DescriptionStyleModel",
      "_view_count": null,
      "_view_module": "@jupyter-widgets/base",
      "_view_module_version": "1.2.0",
      "_view_name": "StyleView",
      "description_width": ""
     }
    },
    "4f2a756b9eea464292d29b1e5d140a7c": {
     "model_module": "@jupyter-widgets/controls",
     "model_module_version": "1.5.0",
     "model_name": "DescriptionStyleModel",
     "state": {
      "_model_module": "@jupyter-widgets/controls",
      "_model_module_version": "1.5.0",
      "_model_name": "DescriptionStyleModel",
      "_view_count": null,
      "_view_module": "@jupyter-widgets/base",
      "_view_module_version": "1.2.0",
      "_view_name": "StyleView",
      "description_width": ""
     }
    },
    "5072e1ee1be14beea4f766db38a6e715": {
     "model_module": "@jupyter-widgets/controls",
     "model_module_version": "1.5.0",
     "model_name": "ProgressStyleModel",
     "state": {
      "_model_module": "@jupyter-widgets/controls",
      "_model_module_version": "1.5.0",
      "_model_name": "ProgressStyleModel",
      "_view_count": null,
      "_view_module": "@jupyter-widgets/base",
      "_view_module_version": "1.2.0",
      "_view_name": "StyleView",
      "bar_color": null,
      "description_width": ""
     }
    },
    "53746223590447cb9e60eb049d038abb": {
     "model_module": "@jupyter-widgets/base",
     "model_module_version": "1.2.0",
     "model_name": "LayoutModel",
     "state": {
      "_model_module": "@jupyter-widgets/base",
      "_model_module_version": "1.2.0",
      "_model_name": "LayoutModel",
      "_view_count": null,
      "_view_module": "@jupyter-widgets/base",
      "_view_module_version": "1.2.0",
      "_view_name": "LayoutView",
      "align_content": null,
      "align_items": null,
      "align_self": null,
      "border": null,
      "bottom": null,
      "display": null,
      "flex": null,
      "flex_flow": null,
      "grid_area": null,
      "grid_auto_columns": null,
      "grid_auto_flow": null,
      "grid_auto_rows": null,
      "grid_column": null,
      "grid_gap": null,
      "grid_row": null,
      "grid_template_areas": null,
      "grid_template_columns": null,
      "grid_template_rows": null,
      "height": null,
      "justify_content": null,
      "justify_items": null,
      "left": null,
      "margin": null,
      "max_height": null,
      "max_width": null,
      "min_height": null,
      "min_width": null,
      "object_fit": null,
      "object_position": null,
      "order": null,
      "overflow": null,
      "overflow_x": null,
      "overflow_y": null,
      "padding": null,
      "right": null,
      "top": null,
      "visibility": null,
      "width": null
     }
    },
    "568902ef4e5f445e9994412fe053ebdc": {
     "model_module": "@jupyter-widgets/base",
     "model_module_version": "1.2.0",
     "model_name": "LayoutModel",
     "state": {
      "_model_module": "@jupyter-widgets/base",
      "_model_module_version": "1.2.0",
      "_model_name": "LayoutModel",
      "_view_count": null,
      "_view_module": "@jupyter-widgets/base",
      "_view_module_version": "1.2.0",
      "_view_name": "LayoutView",
      "align_content": null,
      "align_items": null,
      "align_self": null,
      "border": null,
      "bottom": null,
      "display": null,
      "flex": null,
      "flex_flow": null,
      "grid_area": null,
      "grid_auto_columns": null,
      "grid_auto_flow": null,
      "grid_auto_rows": null,
      "grid_column": null,
      "grid_gap": null,
      "grid_row": null,
      "grid_template_areas": null,
      "grid_template_columns": null,
      "grid_template_rows": null,
      "height": null,
      "justify_content": null,
      "justify_items": null,
      "left": null,
      "margin": null,
      "max_height": null,
      "max_width": null,
      "min_height": null,
      "min_width": null,
      "object_fit": null,
      "object_position": null,
      "order": null,
      "overflow": null,
      "overflow_x": null,
      "overflow_y": null,
      "padding": null,
      "right": null,
      "top": null,
      "visibility": null,
      "width": null
     }
    },
    "56fa976ee0fe4e76bd50a4c68e249038": {
     "model_module": "@jupyter-widgets/controls",
     "model_module_version": "1.5.0",
     "model_name": "HTMLModel",
     "state": {
      "_dom_classes": [],
      "_model_module": "@jupyter-widgets/controls",
      "_model_module_version": "1.5.0",
      "_model_name": "HTMLModel",
      "_view_count": null,
      "_view_module": "@jupyter-widgets/controls",
      "_view_module_version": "1.5.0",
      "_view_name": "HTMLView",
      "description": "",
      "description_tooltip": null,
      "layout": "IPY_MODEL_ec986bcd534c46ba8957f2ba8b33e052",
      "placeholder": "​",
      "style": "IPY_MODEL_67bcc59e5c5c40cc9d71ad284f1d030c",
      "value": " 420M/420M [00:20&lt;00:00, 17.6MB/s]"
     }
    },
    "5a98e96e7a6d4df4a9354e7d4a1645eb": {
     "model_module": "@jupyter-widgets/controls",
     "model_module_version": "1.5.0",
     "model_name": "DescriptionStyleModel",
     "state": {
      "_model_module": "@jupyter-widgets/controls",
      "_model_module_version": "1.5.0",
      "_model_name": "DescriptionStyleModel",
      "_view_count": null,
      "_view_module": "@jupyter-widgets/base",
      "_view_module_version": "1.2.0",
      "_view_name": "StyleView",
      "description_width": ""
     }
    },
    "5aaa6bb220194387942505d7d7f4b186": {
     "model_module": "@jupyter-widgets/controls",
     "model_module_version": "1.5.0",
     "model_name": "ProgressStyleModel",
     "state": {
      "_model_module": "@jupyter-widgets/controls",
      "_model_module_version": "1.5.0",
      "_model_name": "ProgressStyleModel",
      "_view_count": null,
      "_view_module": "@jupyter-widgets/base",
      "_view_module_version": "1.2.0",
      "_view_name": "StyleView",
      "bar_color": null,
      "description_width": ""
     }
    },
    "5cc71f962fb64ef7bd6000aa18c48ed2": {
     "model_module": "@jupyter-widgets/base",
     "model_module_version": "1.2.0",
     "model_name": "LayoutModel",
     "state": {
      "_model_module": "@jupyter-widgets/base",
      "_model_module_version": "1.2.0",
      "_model_name": "LayoutModel",
      "_view_count": null,
      "_view_module": "@jupyter-widgets/base",
      "_view_module_version": "1.2.0",
      "_view_name": "LayoutView",
      "align_content": null,
      "align_items": null,
      "align_self": null,
      "border": null,
      "bottom": null,
      "display": null,
      "flex": null,
      "flex_flow": null,
      "grid_area": null,
      "grid_auto_columns": null,
      "grid_auto_flow": null,
      "grid_auto_rows": null,
      "grid_column": null,
      "grid_gap": null,
      "grid_row": null,
      "grid_template_areas": null,
      "grid_template_columns": null,
      "grid_template_rows": null,
      "height": null,
      "justify_content": null,
      "justify_items": null,
      "left": null,
      "margin": null,
      "max_height": null,
      "max_width": null,
      "min_height": null,
      "min_width": null,
      "object_fit": null,
      "object_position": null,
      "order": null,
      "overflow": null,
      "overflow_x": null,
      "overflow_y": null,
      "padding": null,
      "right": null,
      "top": null,
      "visibility": null,
      "width": null
     }
    },
    "5d29c5e8cbe44a44927e90afa4cffadd": {
     "model_module": "@jupyter-widgets/base",
     "model_module_version": "1.2.0",
     "model_name": "LayoutModel",
     "state": {
      "_model_module": "@jupyter-widgets/base",
      "_model_module_version": "1.2.0",
      "_model_name": "LayoutModel",
      "_view_count": null,
      "_view_module": "@jupyter-widgets/base",
      "_view_module_version": "1.2.0",
      "_view_name": "LayoutView",
      "align_content": null,
      "align_items": null,
      "align_self": null,
      "border": null,
      "bottom": null,
      "display": null,
      "flex": null,
      "flex_flow": null,
      "grid_area": null,
      "grid_auto_columns": null,
      "grid_auto_flow": null,
      "grid_auto_rows": null,
      "grid_column": null,
      "grid_gap": null,
      "grid_row": null,
      "grid_template_areas": null,
      "grid_template_columns": null,
      "grid_template_rows": null,
      "height": null,
      "justify_content": null,
      "justify_items": null,
      "left": null,
      "margin": null,
      "max_height": null,
      "max_width": null,
      "min_height": null,
      "min_width": null,
      "object_fit": null,
      "object_position": null,
      "order": null,
      "overflow": null,
      "overflow_x": null,
      "overflow_y": null,
      "padding": null,
      "right": null,
      "top": null,
      "visibility": null,
      "width": null
     }
    },
    "5d62ac1102604fe08107ef28e0958735": {
     "model_module": "@jupyter-widgets/controls",
     "model_module_version": "1.5.0",
     "model_name": "DescriptionStyleModel",
     "state": {
      "_model_module": "@jupyter-widgets/controls",
      "_model_module_version": "1.5.0",
      "_model_name": "DescriptionStyleModel",
      "_view_count": null,
      "_view_module": "@jupyter-widgets/base",
      "_view_module_version": "1.2.0",
      "_view_name": "StyleView",
      "description_width": ""
     }
    },
    "5e66258543b44fb58eef2611cc6cdc98": {
     "model_module": "@jupyter-widgets/controls",
     "model_module_version": "1.5.0",
     "model_name": "HTMLModel",
     "state": {
      "_dom_classes": [],
      "_model_module": "@jupyter-widgets/controls",
      "_model_module_version": "1.5.0",
      "_model_name": "HTMLModel",
      "_view_count": null,
      "_view_module": "@jupyter-widgets/controls",
      "_view_module_version": "1.5.0",
      "_view_name": "HTMLView",
      "description": "",
      "description_tooltip": null,
      "layout": "IPY_MODEL_f0053ff30ab9492c93eced0e3d2cbcf5",
      "placeholder": "​",
      "style": "IPY_MODEL_341eb1bf11d54348949b7f456644009c",
      "value": " 570/570 [00:00&lt;00:00, 16.6kB/s]"
     }
    },
    "5f1fa1d023ad4fb7a6c14c9e8e9bc2a9": {
     "model_module": "@jupyter-widgets/controls",
     "model_module_version": "1.5.0",
     "model_name": "DescriptionStyleModel",
     "state": {
      "_model_module": "@jupyter-widgets/controls",
      "_model_module_version": "1.5.0",
      "_model_name": "DescriptionStyleModel",
      "_view_count": null,
      "_view_module": "@jupyter-widgets/base",
      "_view_module_version": "1.2.0",
      "_view_name": "StyleView",
      "description_width": ""
     }
    },
    "61177a57e55741f49d2c1bdb3b318e7c": {
     "model_module": "@jupyter-widgets/controls",
     "model_module_version": "1.5.0",
     "model_name": "HTMLModel",
     "state": {
      "_dom_classes": [],
      "_model_module": "@jupyter-widgets/controls",
      "_model_module_version": "1.5.0",
      "_model_name": "HTMLModel",
      "_view_count": null,
      "_view_module": "@jupyter-widgets/controls",
      "_view_module_version": "1.5.0",
      "_view_name": "HTMLView",
      "description": "",
      "description_tooltip": null,
      "layout": "IPY_MODEL_6dff47cc71d741a99ebb3c985d256093",
      "placeholder": "​",
      "style": "IPY_MODEL_8c278d427a4a48ddaf0f6f595976fb1e",
      "value": "Downloading: 100%"
     }
    },
    "63dbc997ba9d4e3092484d5798cc13e0": {
     "model_module": "@jupyter-widgets/controls",
     "model_module_version": "1.5.0",
     "model_name": "DescriptionStyleModel",
     "state": {
      "_model_module": "@jupyter-widgets/controls",
      "_model_module_version": "1.5.0",
      "_model_name": "DescriptionStyleModel",
      "_view_count": null,
      "_view_module": "@jupyter-widgets/base",
      "_view_module_version": "1.2.0",
      "_view_name": "StyleView",
      "description_width": ""
     }
    },
    "65a7820841fd4e6e93270ec9548f9511": {
     "model_module": "@jupyter-widgets/base",
     "model_module_version": "1.2.0",
     "model_name": "LayoutModel",
     "state": {
      "_model_module": "@jupyter-widgets/base",
      "_model_module_version": "1.2.0",
      "_model_name": "LayoutModel",
      "_view_count": null,
      "_view_module": "@jupyter-widgets/base",
      "_view_module_version": "1.2.0",
      "_view_name": "LayoutView",
      "align_content": null,
      "align_items": null,
      "align_self": null,
      "border": null,
      "bottom": null,
      "display": null,
      "flex": null,
      "flex_flow": null,
      "grid_area": null,
      "grid_auto_columns": null,
      "grid_auto_flow": null,
      "grid_auto_rows": null,
      "grid_column": null,
      "grid_gap": null,
      "grid_row": null,
      "grid_template_areas": null,
      "grid_template_columns": null,
      "grid_template_rows": null,
      "height": null,
      "justify_content": null,
      "justify_items": null,
      "left": null,
      "margin": null,
      "max_height": null,
      "max_width": null,
      "min_height": null,
      "min_width": null,
      "object_fit": null,
      "object_position": null,
      "order": null,
      "overflow": null,
      "overflow_x": null,
      "overflow_y": null,
      "padding": null,
      "right": null,
      "top": null,
      "visibility": null,
      "width": null
     }
    },
    "67bcc59e5c5c40cc9d71ad284f1d030c": {
     "model_module": "@jupyter-widgets/controls",
     "model_module_version": "1.5.0",
     "model_name": "DescriptionStyleModel",
     "state": {
      "_model_module": "@jupyter-widgets/controls",
      "_model_module_version": "1.5.0",
      "_model_name": "DescriptionStyleModel",
      "_view_count": null,
      "_view_module": "@jupyter-widgets/base",
      "_view_module_version": "1.2.0",
      "_view_name": "StyleView",
      "description_width": ""
     }
    },
    "69b4a5c846b048e7aa134a6d716c08ca": {
     "model_module": "@jupyter-widgets/controls",
     "model_module_version": "1.5.0",
     "model_name": "HBoxModel",
     "state": {
      "_dom_classes": [],
      "_model_module": "@jupyter-widgets/controls",
      "_model_module_version": "1.5.0",
      "_model_name": "HBoxModel",
      "_view_count": null,
      "_view_module": "@jupyter-widgets/controls",
      "_view_module_version": "1.5.0",
      "_view_name": "HBoxView",
      "box_style": "",
      "children": [
       "IPY_MODEL_61177a57e55741f49d2c1bdb3b318e7c",
       "IPY_MODEL_eef39141670948caa72973b08a000b84",
       "IPY_MODEL_cabff1292ba6461f9557f1075b1b3853"
      ],
      "layout": "IPY_MODEL_0703a0d945fb4162a419823ad12a70e3"
     }
    },
    "69c645ebbeb04a0489354c6be9a26ba1": {
     "model_module": "@jupyter-widgets/controls",
     "model_module_version": "1.5.0",
     "model_name": "HBoxModel",
     "state": {
      "_dom_classes": [],
      "_model_module": "@jupyter-widgets/controls",
      "_model_module_version": "1.5.0",
      "_model_name": "HBoxModel",
      "_view_count": null,
      "_view_module": "@jupyter-widgets/controls",
      "_view_module_version": "1.5.0",
      "_view_name": "HBoxView",
      "box_style": "",
      "children": [
       "IPY_MODEL_fad96a3d7c7642fbb30ccc4a6d83f398",
       "IPY_MODEL_19ffed1c3b734c5bac15c6fd27c5fd04",
       "IPY_MODEL_975950f5c80344c9a6f05738e9527bde"
      ],
      "layout": "IPY_MODEL_b14c0603c58a4e828e782757f0bda2dc"
     }
    },
    "6ae494790bcf4194aa266dadfe96d5c8": {
     "model_module": "@jupyter-widgets/controls",
     "model_module_version": "1.5.0",
     "model_name": "ProgressStyleModel",
     "state": {
      "_model_module": "@jupyter-widgets/controls",
      "_model_module_version": "1.5.0",
      "_model_name": "ProgressStyleModel",
      "_view_count": null,
      "_view_module": "@jupyter-widgets/base",
      "_view_module_version": "1.2.0",
      "_view_name": "StyleView",
      "bar_color": null,
      "description_width": ""
     }
    },
    "6be30a7eb06b498bbd3d44f5dfaf5e4a": {
     "model_module": "@jupyter-widgets/base",
     "model_module_version": "1.2.0",
     "model_name": "LayoutModel",
     "state": {
      "_model_module": "@jupyter-widgets/base",
      "_model_module_version": "1.2.0",
      "_model_name": "LayoutModel",
      "_view_count": null,
      "_view_module": "@jupyter-widgets/base",
      "_view_module_version": "1.2.0",
      "_view_name": "LayoutView",
      "align_content": null,
      "align_items": null,
      "align_self": null,
      "border": null,
      "bottom": null,
      "display": null,
      "flex": null,
      "flex_flow": null,
      "grid_area": null,
      "grid_auto_columns": null,
      "grid_auto_flow": null,
      "grid_auto_rows": null,
      "grid_column": null,
      "grid_gap": null,
      "grid_row": null,
      "grid_template_areas": null,
      "grid_template_columns": null,
      "grid_template_rows": null,
      "height": null,
      "justify_content": null,
      "justify_items": null,
      "left": null,
      "margin": null,
      "max_height": null,
      "max_width": null,
      "min_height": null,
      "min_width": null,
      "object_fit": null,
      "object_position": null,
      "order": null,
      "overflow": null,
      "overflow_x": null,
      "overflow_y": null,
      "padding": null,
      "right": null,
      "top": null,
      "visibility": null,
      "width": null
     }
    },
    "6dff47cc71d741a99ebb3c985d256093": {
     "model_module": "@jupyter-widgets/base",
     "model_module_version": "1.2.0",
     "model_name": "LayoutModel",
     "state": {
      "_model_module": "@jupyter-widgets/base",
      "_model_module_version": "1.2.0",
      "_model_name": "LayoutModel",
      "_view_count": null,
      "_view_module": "@jupyter-widgets/base",
      "_view_module_version": "1.2.0",
      "_view_name": "LayoutView",
      "align_content": null,
      "align_items": null,
      "align_self": null,
      "border": null,
      "bottom": null,
      "display": null,
      "flex": null,
      "flex_flow": null,
      "grid_area": null,
      "grid_auto_columns": null,
      "grid_auto_flow": null,
      "grid_auto_rows": null,
      "grid_column": null,
      "grid_gap": null,
      "grid_row": null,
      "grid_template_areas": null,
      "grid_template_columns": null,
      "grid_template_rows": null,
      "height": null,
      "justify_content": null,
      "justify_items": null,
      "left": null,
      "margin": null,
      "max_height": null,
      "max_width": null,
      "min_height": null,
      "min_width": null,
      "object_fit": null,
      "object_position": null,
      "order": null,
      "overflow": null,
      "overflow_x": null,
      "overflow_y": null,
      "padding": null,
      "right": null,
      "top": null,
      "visibility": null,
      "width": null
     }
    },
    "71cccef224d548a6994d666e43df85ea": {
     "model_module": "@jupyter-widgets/controls",
     "model_module_version": "1.5.0",
     "model_name": "DescriptionStyleModel",
     "state": {
      "_model_module": "@jupyter-widgets/controls",
      "_model_module_version": "1.5.0",
      "_model_name": "DescriptionStyleModel",
      "_view_count": null,
      "_view_module": "@jupyter-widgets/base",
      "_view_module_version": "1.2.0",
      "_view_name": "StyleView",
      "description_width": ""
     }
    },
    "747b2ec2cf19406280ebb562acb3170b": {
     "model_module": "@jupyter-widgets/controls",
     "model_module_version": "1.5.0",
     "model_name": "HTMLModel",
     "state": {
      "_dom_classes": [],
      "_model_module": "@jupyter-widgets/controls",
      "_model_module_version": "1.5.0",
      "_model_name": "HTMLModel",
      "_view_count": null,
      "_view_module": "@jupyter-widgets/controls",
      "_view_module_version": "1.5.0",
      "_view_name": "HTMLView",
      "description": "",
      "description_tooltip": null,
      "layout": "IPY_MODEL_b96601d38af24183a9e0d8b1856afad6",
      "placeholder": "​",
      "style": "IPY_MODEL_2b7668b6ecc54d12be5c05eca4955604",
      "value": "Downloading: 100%"
     }
    },
    "79a9da97de344358952e2a8bdf8d95ff": {
     "model_module": "@jupyter-widgets/controls",
     "model_module_version": "1.5.0",
     "model_name": "HTMLModel",
     "state": {
      "_dom_classes": [],
      "_model_module": "@jupyter-widgets/controls",
      "_model_module_version": "1.5.0",
      "_model_name": "HTMLModel",
      "_view_count": null,
      "_view_module": "@jupyter-widgets/controls",
      "_view_module_version": "1.5.0",
      "_view_name": "HTMLView",
      "description": "",
      "description_tooltip": null,
      "layout": "IPY_MODEL_a72bbd215c034f89bec2019e379faa42",
      "placeholder": "​",
      "style": "IPY_MODEL_7b266f6699c84405b64a5410e585f26f",
      "value": " 420M/420M [00:28&lt;00:00, 29.5MB/s]"
     }
    },
    "7b266f6699c84405b64a5410e585f26f": {
     "model_module": "@jupyter-widgets/controls",
     "model_module_version": "1.5.0",
     "model_name": "DescriptionStyleModel",
     "state": {
      "_model_module": "@jupyter-widgets/controls",
      "_model_module_version": "1.5.0",
      "_model_name": "DescriptionStyleModel",
      "_view_count": null,
      "_view_module": "@jupyter-widgets/base",
      "_view_module_version": "1.2.0",
      "_view_name": "StyleView",
      "description_width": ""
     }
    },
    "7b9d964387a5421b8106e2e500b58728": {
     "model_module": "@jupyter-widgets/base",
     "model_module_version": "1.2.0",
     "model_name": "LayoutModel",
     "state": {
      "_model_module": "@jupyter-widgets/base",
      "_model_module_version": "1.2.0",
      "_model_name": "LayoutModel",
      "_view_count": null,
      "_view_module": "@jupyter-widgets/base",
      "_view_module_version": "1.2.0",
      "_view_name": "LayoutView",
      "align_content": null,
      "align_items": null,
      "align_self": null,
      "border": null,
      "bottom": null,
      "display": null,
      "flex": null,
      "flex_flow": null,
      "grid_area": null,
      "grid_auto_columns": null,
      "grid_auto_flow": null,
      "grid_auto_rows": null,
      "grid_column": null,
      "grid_gap": null,
      "grid_row": null,
      "grid_template_areas": null,
      "grid_template_columns": null,
      "grid_template_rows": null,
      "height": null,
      "justify_content": null,
      "justify_items": null,
      "left": null,
      "margin": null,
      "max_height": null,
      "max_width": null,
      "min_height": null,
      "min_width": null,
      "object_fit": null,
      "object_position": null,
      "order": null,
      "overflow": null,
      "overflow_x": null,
      "overflow_y": null,
      "padding": null,
      "right": null,
      "top": null,
      "visibility": null,
      "width": null
     }
    },
    "7bba9350d5924f74acca66a03e24068f": {
     "model_module": "@jupyter-widgets/controls",
     "model_module_version": "1.5.0",
     "model_name": "HTMLModel",
     "state": {
      "_dom_classes": [],
      "_model_module": "@jupyter-widgets/controls",
      "_model_module_version": "1.5.0",
      "_model_name": "HTMLModel",
      "_view_count": null,
      "_view_module": "@jupyter-widgets/controls",
      "_view_module_version": "1.5.0",
      "_view_name": "HTMLView",
      "description": "",
      "description_tooltip": null,
      "layout": "IPY_MODEL_07cb42ad929f46198267480eb9e4837e",
      "placeholder": "​",
      "style": "IPY_MODEL_c9d8523a488e4d0c888742c6d9b57ff5",
      "value": "Downloading: 100%"
     }
    },
    "7eb7e291fcae41dc9b6198c18d04410d": {
     "model_module": "@jupyter-widgets/base",
     "model_module_version": "1.2.0",
     "model_name": "LayoutModel",
     "state": {
      "_model_module": "@jupyter-widgets/base",
      "_model_module_version": "1.2.0",
      "_model_name": "LayoutModel",
      "_view_count": null,
      "_view_module": "@jupyter-widgets/base",
      "_view_module_version": "1.2.0",
      "_view_name": "LayoutView",
      "align_content": null,
      "align_items": null,
      "align_self": null,
      "border": null,
      "bottom": null,
      "display": null,
      "flex": null,
      "flex_flow": null,
      "grid_area": null,
      "grid_auto_columns": null,
      "grid_auto_flow": null,
      "grid_auto_rows": null,
      "grid_column": null,
      "grid_gap": null,
      "grid_row": null,
      "grid_template_areas": null,
      "grid_template_columns": null,
      "grid_template_rows": null,
      "height": null,
      "justify_content": null,
      "justify_items": null,
      "left": null,
      "margin": null,
      "max_height": null,
      "max_width": null,
      "min_height": null,
      "min_width": null,
      "object_fit": null,
      "object_position": null,
      "order": null,
      "overflow": null,
      "overflow_x": null,
      "overflow_y": null,
      "padding": null,
      "right": null,
      "top": null,
      "visibility": null,
      "width": null
     }
    },
    "7f66dea3d99f41e786ccd01fa4abf25a": {
     "model_module": "@jupyter-widgets/controls",
     "model_module_version": "1.5.0",
     "model_name": "DescriptionStyleModel",
     "state": {
      "_model_module": "@jupyter-widgets/controls",
      "_model_module_version": "1.5.0",
      "_model_name": "DescriptionStyleModel",
      "_view_count": null,
      "_view_module": "@jupyter-widgets/base",
      "_view_module_version": "1.2.0",
      "_view_name": "StyleView",
      "description_width": ""
     }
    },
    "8003ceec35a14d0b8fcfd8fe6d94098f": {
     "model_module": "@jupyter-widgets/base",
     "model_module_version": "1.2.0",
     "model_name": "LayoutModel",
     "state": {
      "_model_module": "@jupyter-widgets/base",
      "_model_module_version": "1.2.0",
      "_model_name": "LayoutModel",
      "_view_count": null,
      "_view_module": "@jupyter-widgets/base",
      "_view_module_version": "1.2.0",
      "_view_name": "LayoutView",
      "align_content": null,
      "align_items": null,
      "align_self": null,
      "border": null,
      "bottom": null,
      "display": null,
      "flex": null,
      "flex_flow": null,
      "grid_area": null,
      "grid_auto_columns": null,
      "grid_auto_flow": null,
      "grid_auto_rows": null,
      "grid_column": null,
      "grid_gap": null,
      "grid_row": null,
      "grid_template_areas": null,
      "grid_template_columns": null,
      "grid_template_rows": null,
      "height": null,
      "justify_content": null,
      "justify_items": null,
      "left": null,
      "margin": null,
      "max_height": null,
      "max_width": null,
      "min_height": null,
      "min_width": null,
      "object_fit": null,
      "object_position": null,
      "order": null,
      "overflow": null,
      "overflow_x": null,
      "overflow_y": null,
      "padding": null,
      "right": null,
      "top": null,
      "visibility": null,
      "width": null
     }
    },
    "80134e1d133347e4aafe3c24462efd26": {
     "model_module": "@jupyter-widgets/controls",
     "model_module_version": "1.5.0",
     "model_name": "ProgressStyleModel",
     "state": {
      "_model_module": "@jupyter-widgets/controls",
      "_model_module_version": "1.5.0",
      "_model_name": "ProgressStyleModel",
      "_view_count": null,
      "_view_module": "@jupyter-widgets/base",
      "_view_module_version": "1.2.0",
      "_view_name": "StyleView",
      "bar_color": null,
      "description_width": ""
     }
    },
    "82e401fb98d54866aa294f65914a7d71": {
     "model_module": "@jupyter-widgets/controls",
     "model_module_version": "1.5.0",
     "model_name": "HBoxModel",
     "state": {
      "_dom_classes": [],
      "_model_module": "@jupyter-widgets/controls",
      "_model_module_version": "1.5.0",
      "_model_name": "HBoxModel",
      "_view_count": null,
      "_view_module": "@jupyter-widgets/controls",
      "_view_module_version": "1.5.0",
      "_view_name": "HBoxView",
      "box_style": "",
      "children": [
       "IPY_MODEL_04ba955913534ad5a1e4e847480e0d4d",
       "IPY_MODEL_8621990c73fe49998072586290d5e66a",
       "IPY_MODEL_37b391285b3442859a8ac1cb7757fbf9"
      ],
      "layout": "IPY_MODEL_6be30a7eb06b498bbd3d44f5dfaf5e4a"
     }
    },
    "84ab62c21647474fb5cc3d6c2372f7d9": {
     "model_module": "@jupyter-widgets/controls",
     "model_module_version": "1.5.0",
     "model_name": "HBoxModel",
     "state": {
      "_dom_classes": [],
      "_model_module": "@jupyter-widgets/controls",
      "_model_module_version": "1.5.0",
      "_model_name": "HBoxModel",
      "_view_count": null,
      "_view_module": "@jupyter-widgets/controls",
      "_view_module_version": "1.5.0",
      "_view_name": "HBoxView",
      "box_style": "",
      "children": [
       "IPY_MODEL_f30100470b18440bbca94852b5823295",
       "IPY_MODEL_d3a6e709ef89454baeac90961e1f6d0f",
       "IPY_MODEL_a8e68dd52f354b5daf95c3314fb92682"
      ],
      "layout": "IPY_MODEL_3cc3407305ca48b9a41a7c4b345a40bb"
     }
    },
    "8621990c73fe49998072586290d5e66a": {
     "model_module": "@jupyter-widgets/controls",
     "model_module_version": "1.5.0",
     "model_name": "FloatProgressModel",
     "state": {
      "_dom_classes": [],
      "_model_module": "@jupyter-widgets/controls",
      "_model_module_version": "1.5.0",
      "_model_name": "FloatProgressModel",
      "_view_count": null,
      "_view_module": "@jupyter-widgets/controls",
      "_view_module_version": "1.5.0",
      "_view_name": "ProgressView",
      "bar_style": "success",
      "description": "",
      "description_tooltip": null,
      "layout": "IPY_MODEL_dec96f849a624bc2b13f9c20966421b3",
      "max": 27,
      "min": 0,
      "orientation": "horizontal",
      "style": "IPY_MODEL_5072e1ee1be14beea4f766db38a6e715",
      "value": 27
     }
    },
    "8ad6b5a11ea543339bef802a5698606c": {
     "model_module": "@jupyter-widgets/controls",
     "model_module_version": "1.5.0",
     "model_name": "HTMLModel",
     "state": {
      "_dom_classes": [],
      "_model_module": "@jupyter-widgets/controls",
      "_model_module_version": "1.5.0",
      "_model_name": "HTMLModel",
      "_view_count": null,
      "_view_module": "@jupyter-widgets/controls",
      "_view_module_version": "1.5.0",
      "_view_name": "HTMLView",
      "description": "",
      "description_tooltip": null,
      "layout": "IPY_MODEL_fa6c9c457eed44a2b7e40d5eb88c908f",
      "placeholder": "​",
      "style": "IPY_MODEL_5a98e96e7a6d4df4a9354e7d4a1645eb",
      "value": "Downloading: 100%"
     }
    },
    "8c278d427a4a48ddaf0f6f595976fb1e": {
     "model_module": "@jupyter-widgets/controls",
     "model_module_version": "1.5.0",
     "model_name": "DescriptionStyleModel",
     "state": {
      "_model_module": "@jupyter-widgets/controls",
      "_model_module_version": "1.5.0",
      "_model_name": "DescriptionStyleModel",
      "_view_count": null,
      "_view_module": "@jupyter-widgets/base",
      "_view_module_version": "1.2.0",
      "_view_name": "StyleView",
      "description_width": ""
     }
    },
    "8d0c2f939f0f4fe08854923067e4432d": {
     "model_module": "@jupyter-widgets/base",
     "model_module_version": "1.2.0",
     "model_name": "LayoutModel",
     "state": {
      "_model_module": "@jupyter-widgets/base",
      "_model_module_version": "1.2.0",
      "_model_name": "LayoutModel",
      "_view_count": null,
      "_view_module": "@jupyter-widgets/base",
      "_view_module_version": "1.2.0",
      "_view_name": "LayoutView",
      "align_content": null,
      "align_items": null,
      "align_self": null,
      "border": null,
      "bottom": null,
      "display": null,
      "flex": null,
      "flex_flow": null,
      "grid_area": null,
      "grid_auto_columns": null,
      "grid_auto_flow": null,
      "grid_auto_rows": null,
      "grid_column": null,
      "grid_gap": null,
      "grid_row": null,
      "grid_template_areas": null,
      "grid_template_columns": null,
      "grid_template_rows": null,
      "height": null,
      "justify_content": null,
      "justify_items": null,
      "left": null,
      "margin": null,
      "max_height": null,
      "max_width": null,
      "min_height": null,
      "min_width": null,
      "object_fit": null,
      "object_position": null,
      "order": null,
      "overflow": null,
      "overflow_x": null,
      "overflow_y": null,
      "padding": null,
      "right": null,
      "top": null,
      "visibility": null,
      "width": null
     }
    },
    "90337933bb7749ecaa3a94967f20e0ab": {
     "model_module": "@jupyter-widgets/base",
     "model_module_version": "1.2.0",
     "model_name": "LayoutModel",
     "state": {
      "_model_module": "@jupyter-widgets/base",
      "_model_module_version": "1.2.0",
      "_model_name": "LayoutModel",
      "_view_count": null,
      "_view_module": "@jupyter-widgets/base",
      "_view_module_version": "1.2.0",
      "_view_name": "LayoutView",
      "align_content": null,
      "align_items": null,
      "align_self": null,
      "border": null,
      "bottom": null,
      "display": null,
      "flex": null,
      "flex_flow": null,
      "grid_area": null,
      "grid_auto_columns": null,
      "grid_auto_flow": null,
      "grid_auto_rows": null,
      "grid_column": null,
      "grid_gap": null,
      "grid_row": null,
      "grid_template_areas": null,
      "grid_template_columns": null,
      "grid_template_rows": null,
      "height": null,
      "justify_content": null,
      "justify_items": null,
      "left": null,
      "margin": null,
      "max_height": null,
      "max_width": null,
      "min_height": null,
      "min_width": null,
      "object_fit": null,
      "object_position": null,
      "order": null,
      "overflow": null,
      "overflow_x": null,
      "overflow_y": null,
      "padding": null,
      "right": null,
      "top": null,
      "visibility": null,
      "width": null
     }
    },
    "90facdbea4ad47b59b140db6e5f1d693": {
     "model_module": "@jupyter-widgets/controls",
     "model_module_version": "1.5.0",
     "model_name": "FloatProgressModel",
     "state": {
      "_dom_classes": [],
      "_model_module": "@jupyter-widgets/controls",
      "_model_module_version": "1.5.0",
      "_model_name": "FloatProgressModel",
      "_view_count": null,
      "_view_module": "@jupyter-widgets/controls",
      "_view_module_version": "1.5.0",
      "_view_name": "ProgressView",
      "bar_style": "success",
      "description": "",
      "description_tooltip": null,
      "layout": "IPY_MODEL_9153239128b24d0f9870a995874ff337",
      "max": 440473133,
      "min": 0,
      "orientation": "horizontal",
      "style": "IPY_MODEL_229ed0a8495742b398d4d6a6a1377f84",
      "value": 440473133
     }
    },
    "91245321f04e4a1db990b7146c58b06d": {
     "model_module": "@jupyter-widgets/base",
     "model_module_version": "1.2.0",
     "model_name": "LayoutModel",
     "state": {
      "_model_module": "@jupyter-widgets/base",
      "_model_module_version": "1.2.0",
      "_model_name": "LayoutModel",
      "_view_count": null,
      "_view_module": "@jupyter-widgets/base",
      "_view_module_version": "1.2.0",
      "_view_name": "LayoutView",
      "align_content": null,
      "align_items": null,
      "align_self": null,
      "border": null,
      "bottom": null,
      "display": null,
      "flex": null,
      "flex_flow": null,
      "grid_area": null,
      "grid_auto_columns": null,
      "grid_auto_flow": null,
      "grid_auto_rows": null,
      "grid_column": null,
      "grid_gap": null,
      "grid_row": null,
      "grid_template_areas": null,
      "grid_template_columns": null,
      "grid_template_rows": null,
      "height": null,
      "justify_content": null,
      "justify_items": null,
      "left": null,
      "margin": null,
      "max_height": null,
      "max_width": null,
      "min_height": null,
      "min_width": null,
      "object_fit": null,
      "object_position": null,
      "order": null,
      "overflow": null,
      "overflow_x": null,
      "overflow_y": null,
      "padding": null,
      "right": null,
      "top": null,
      "visibility": null,
      "width": null
     }
    },
    "9153239128b24d0f9870a995874ff337": {
     "model_module": "@jupyter-widgets/base",
     "model_module_version": "1.2.0",
     "model_name": "LayoutModel",
     "state": {
      "_model_module": "@jupyter-widgets/base",
      "_model_module_version": "1.2.0",
      "_model_name": "LayoutModel",
      "_view_count": null,
      "_view_module": "@jupyter-widgets/base",
      "_view_module_version": "1.2.0",
      "_view_name": "LayoutView",
      "align_content": null,
      "align_items": null,
      "align_self": null,
      "border": null,
      "bottom": null,
      "display": null,
      "flex": null,
      "flex_flow": null,
      "grid_area": null,
      "grid_auto_columns": null,
      "grid_auto_flow": null,
      "grid_auto_rows": null,
      "grid_column": null,
      "grid_gap": null,
      "grid_row": null,
      "grid_template_areas": null,
      "grid_template_columns": null,
      "grid_template_rows": null,
      "height": null,
      "justify_content": null,
      "justify_items": null,
      "left": null,
      "margin": null,
      "max_height": null,
      "max_width": null,
      "min_height": null,
      "min_width": null,
      "object_fit": null,
      "object_position": null,
      "order": null,
      "overflow": null,
      "overflow_x": null,
      "overflow_y": null,
      "padding": null,
      "right": null,
      "top": null,
      "visibility": null,
      "width": null
     }
    },
    "922e4e77be234cbdb12f0b47ad7551f0": {
     "model_module": "@jupyter-widgets/controls",
     "model_module_version": "1.5.0",
     "model_name": "ProgressStyleModel",
     "state": {
      "_model_module": "@jupyter-widgets/controls",
      "_model_module_version": "1.5.0",
      "_model_name": "ProgressStyleModel",
      "_view_count": null,
      "_view_module": "@jupyter-widgets/base",
      "_view_module_version": "1.2.0",
      "_view_name": "StyleView",
      "bar_color": null,
      "description_width": ""
     }
    },
    "945f2d7383f24592aa346cb9de625567": {
     "model_module": "@jupyter-widgets/controls",
     "model_module_version": "1.5.0",
     "model_name": "HTMLModel",
     "state": {
      "_dom_classes": [],
      "_model_module": "@jupyter-widgets/controls",
      "_model_module_version": "1.5.0",
      "_model_name": "HTMLModel",
      "_view_count": null,
      "_view_module": "@jupyter-widgets/controls",
      "_view_module_version": "1.5.0",
      "_view_name": "HTMLView",
      "description": "",
      "description_tooltip": null,
      "layout": "IPY_MODEL_65a7820841fd4e6e93270ec9548f9511",
      "placeholder": "​",
      "style": "IPY_MODEL_7f66dea3d99f41e786ccd01fa4abf25a",
      "value": "Downloading: 100%"
     }
    },
    "975950f5c80344c9a6f05738e9527bde": {
     "model_module": "@jupyter-widgets/controls",
     "model_module_version": "1.5.0",
     "model_name": "HTMLModel",
     "state": {
      "_dom_classes": [],
      "_model_module": "@jupyter-widgets/controls",
      "_model_module_version": "1.5.0",
      "_model_name": "HTMLModel",
      "_view_count": null,
      "_view_module": "@jupyter-widgets/controls",
      "_view_module_version": "1.5.0",
      "_view_name": "HTMLView",
      "description": "",
      "description_tooltip": null,
      "layout": "IPY_MODEL_7eb7e291fcae41dc9b6198c18d04410d",
      "placeholder": "​",
      "style": "IPY_MODEL_5d62ac1102604fe08107ef28e0958735",
      "value": " 455k/455k [00:00&lt;00:00, 7.63MB/s]"
     }
    },
    "97a369a7b9fa4cafb1f4b83f96b2a609": {
     "model_module": "@jupyter-widgets/controls",
     "model_module_version": "1.5.0",
     "model_name": "HTMLModel",
     "state": {
      "_dom_classes": [],
      "_model_module": "@jupyter-widgets/controls",
      "_model_module_version": "1.5.0",
      "_model_name": "HTMLModel",
      "_view_count": null,
      "_view_module": "@jupyter-widgets/controls",
      "_view_module_version": "1.5.0",
      "_view_name": "HTMLView",
      "description": "",
      "description_tooltip": null,
      "layout": "IPY_MODEL_2cda41ce0e8e41caafcc980e472642eb",
      "placeholder": "​",
      "style": "IPY_MODEL_f24bd2d2bbf74f4a972b5e82fd074716",
      "value": " 226k/226k [00:00&lt;00:00, 3.73MB/s]"
     }
    },
    "9ec5034e4cad4b8483be9984473b5729": {
     "model_module": "@jupyter-widgets/base",
     "model_module_version": "1.2.0",
     "model_name": "LayoutModel",
     "state": {
      "_model_module": "@jupyter-widgets/base",
      "_model_module_version": "1.2.0",
      "_model_name": "LayoutModel",
      "_view_count": null,
      "_view_module": "@jupyter-widgets/base",
      "_view_module_version": "1.2.0",
      "_view_name": "LayoutView",
      "align_content": null,
      "align_items": null,
      "align_self": null,
      "border": null,
      "bottom": null,
      "display": null,
      "flex": null,
      "flex_flow": null,
      "grid_area": null,
      "grid_auto_columns": null,
      "grid_auto_flow": null,
      "grid_auto_rows": null,
      "grid_column": null,
      "grid_gap": null,
      "grid_row": null,
      "grid_template_areas": null,
      "grid_template_columns": null,
      "grid_template_rows": null,
      "height": null,
      "justify_content": null,
      "justify_items": null,
      "left": null,
      "margin": null,
      "max_height": null,
      "max_width": null,
      "min_height": null,
      "min_width": null,
      "object_fit": null,
      "object_position": null,
      "order": null,
      "overflow": null,
      "overflow_x": null,
      "overflow_y": null,
      "padding": null,
      "right": null,
      "top": null,
      "visibility": null,
      "width": null
     }
    },
    "a073d1b3d5de44f89bac89f1bd4ddafb": {
     "model_module": "@jupyter-widgets/controls",
     "model_module_version": "1.5.0",
     "model_name": "HTMLModel",
     "state": {
      "_dom_classes": [],
      "_model_module": "@jupyter-widgets/controls",
      "_model_module_version": "1.5.0",
      "_model_name": "HTMLModel",
      "_view_count": null,
      "_view_module": "@jupyter-widgets/controls",
      "_view_module_version": "1.5.0",
      "_view_name": "HTMLView",
      "description": "",
      "description_tooltip": null,
      "layout": "IPY_MODEL_3a3a298c65fc4524b3fde3ff4c05f06e",
      "placeholder": "​",
      "style": "IPY_MODEL_63dbc997ba9d4e3092484d5798cc13e0",
      "value": " 483/483 [00:00&lt;00:00, 15.2kB/s]"
     }
    },
    "a0a6138b9b9e4f6583e83fb8de8678ed": {
     "model_module": "@jupyter-widgets/controls",
     "model_module_version": "1.5.0",
     "model_name": "DescriptionStyleModel",
     "state": {
      "_model_module": "@jupyter-widgets/controls",
      "_model_module_version": "1.5.0",
      "_model_name": "DescriptionStyleModel",
      "_view_count": null,
      "_view_module": "@jupyter-widgets/base",
      "_view_module_version": "1.2.0",
      "_view_name": "StyleView",
      "description_width": ""
     }
    },
    "a220c312efe640e6826254a402deb31c": {
     "model_module": "@jupyter-widgets/controls",
     "model_module_version": "1.5.0",
     "model_name": "ProgressStyleModel",
     "state": {
      "_model_module": "@jupyter-widgets/controls",
      "_model_module_version": "1.5.0",
      "_model_name": "ProgressStyleModel",
      "_view_count": null,
      "_view_module": "@jupyter-widgets/base",
      "_view_module_version": "1.2.0",
      "_view_name": "StyleView",
      "bar_color": null,
      "description_width": ""
     }
    },
    "a72bbd215c034f89bec2019e379faa42": {
     "model_module": "@jupyter-widgets/base",
     "model_module_version": "1.2.0",
     "model_name": "LayoutModel",
     "state": {
      "_model_module": "@jupyter-widgets/base",
      "_model_module_version": "1.2.0",
      "_model_name": "LayoutModel",
      "_view_count": null,
      "_view_module": "@jupyter-widgets/base",
      "_view_module_version": "1.2.0",
      "_view_name": "LayoutView",
      "align_content": null,
      "align_items": null,
      "align_self": null,
      "border": null,
      "bottom": null,
      "display": null,
      "flex": null,
      "flex_flow": null,
      "grid_area": null,
      "grid_auto_columns": null,
      "grid_auto_flow": null,
      "grid_auto_rows": null,
      "grid_column": null,
      "grid_gap": null,
      "grid_row": null,
      "grid_template_areas": null,
      "grid_template_columns": null,
      "grid_template_rows": null,
      "height": null,
      "justify_content": null,
      "justify_items": null,
      "left": null,
      "margin": null,
      "max_height": null,
      "max_width": null,
      "min_height": null,
      "min_width": null,
      "object_fit": null,
      "object_position": null,
      "order": null,
      "overflow": null,
      "overflow_x": null,
      "overflow_y": null,
      "padding": null,
      "right": null,
      "top": null,
      "visibility": null,
      "width": null
     }
    },
    "a74b6551817f45bbbdb50ee9b554242f": {
     "model_module": "@jupyter-widgets/controls",
     "model_module_version": "1.5.0",
     "model_name": "DescriptionStyleModel",
     "state": {
      "_model_module": "@jupyter-widgets/controls",
      "_model_module_version": "1.5.0",
      "_model_name": "DescriptionStyleModel",
      "_view_count": null,
      "_view_module": "@jupyter-widgets/base",
      "_view_module_version": "1.2.0",
      "_view_name": "StyleView",
      "description_width": ""
     }
    },
    "a86019d2250b4dc482de0ccf7c19dad3": {
     "model_module": "@jupyter-widgets/controls",
     "model_module_version": "1.5.0",
     "model_name": "DescriptionStyleModel",
     "state": {
      "_model_module": "@jupyter-widgets/controls",
      "_model_module_version": "1.5.0",
      "_model_name": "DescriptionStyleModel",
      "_view_count": null,
      "_view_module": "@jupyter-widgets/base",
      "_view_module_version": "1.2.0",
      "_view_name": "StyleView",
      "description_width": ""
     }
    },
    "a8e68dd52f354b5daf95c3314fb92682": {
     "model_module": "@jupyter-widgets/controls",
     "model_module_version": "1.5.0",
     "model_name": "HTMLModel",
     "state": {
      "_dom_classes": [],
      "_model_module": "@jupyter-widgets/controls",
      "_model_module_version": "1.5.0",
      "_model_name": "HTMLModel",
      "_view_count": null,
      "_view_module": "@jupyter-widgets/controls",
      "_view_module_version": "1.5.0",
      "_view_name": "HTMLView",
      "description": "",
      "description_tooltip": null,
      "layout": "IPY_MODEL_53746223590447cb9e60eb049d038abb",
      "placeholder": "​",
      "style": "IPY_MODEL_20b7564678d247e49bef493ca78de5cb",
      "value": " 28.0/28.0 [00:00&lt;00:00, 819B/s]"
     }
    },
    "a983874877984f96b0439358be2bf3e8": {
     "model_module": "@jupyter-widgets/controls",
     "model_module_version": "1.5.0",
     "model_name": "DescriptionStyleModel",
     "state": {
      "_model_module": "@jupyter-widgets/controls",
      "_model_module_version": "1.5.0",
      "_model_name": "DescriptionStyleModel",
      "_view_count": null,
      "_view_module": "@jupyter-widgets/base",
      "_view_module_version": "1.2.0",
      "_view_name": "StyleView",
      "description_width": ""
     }
    },
    "ab6d3955ae4f4d469f2c3880d56888df": {
     "model_module": "@jupyter-widgets/base",
     "model_module_version": "1.2.0",
     "model_name": "LayoutModel",
     "state": {
      "_model_module": "@jupyter-widgets/base",
      "_model_module_version": "1.2.0",
      "_model_name": "LayoutModel",
      "_view_count": null,
      "_view_module": "@jupyter-widgets/base",
      "_view_module_version": "1.2.0",
      "_view_name": "LayoutView",
      "align_content": null,
      "align_items": null,
      "align_self": null,
      "border": null,
      "bottom": null,
      "display": null,
      "flex": null,
      "flex_flow": null,
      "grid_area": null,
      "grid_auto_columns": null,
      "grid_auto_flow": null,
      "grid_auto_rows": null,
      "grid_column": null,
      "grid_gap": null,
      "grid_row": null,
      "grid_template_areas": null,
      "grid_template_columns": null,
      "grid_template_rows": null,
      "height": null,
      "justify_content": null,
      "justify_items": null,
      "left": null,
      "margin": null,
      "max_height": null,
      "max_width": null,
      "min_height": null,
      "min_width": null,
      "object_fit": null,
      "object_position": null,
      "order": null,
      "overflow": null,
      "overflow_x": null,
      "overflow_y": null,
      "padding": null,
      "right": null,
      "top": null,
      "visibility": null,
      "width": null
     }
    },
    "ac7ebaed96474810a50b836746a54f67": {
     "model_module": "@jupyter-widgets/controls",
     "model_module_version": "1.5.0",
     "model_name": "HTMLModel",
     "state": {
      "_dom_classes": [],
      "_model_module": "@jupyter-widgets/controls",
      "_model_module_version": "1.5.0",
      "_model_name": "HTMLModel",
      "_view_count": null,
      "_view_module": "@jupyter-widgets/controls",
      "_view_module_version": "1.5.0",
      "_view_name": "HTMLView",
      "description": "",
      "description_tooltip": null,
      "layout": "IPY_MODEL_bbfecb6e4d9f4e76a45d2d326374b336",
      "placeholder": "​",
      "style": "IPY_MODEL_e31979a55d1841039285937de6624ac2",
      "value": "Downloading: 100%"
     }
    },
    "b14c0603c58a4e828e782757f0bda2dc": {
     "model_module": "@jupyter-widgets/base",
     "model_module_version": "1.2.0",
     "model_name": "LayoutModel",
     "state": {
      "_model_module": "@jupyter-widgets/base",
      "_model_module_version": "1.2.0",
      "_model_name": "LayoutModel",
      "_view_count": null,
      "_view_module": "@jupyter-widgets/base",
      "_view_module_version": "1.2.0",
      "_view_name": "LayoutView",
      "align_content": null,
      "align_items": null,
      "align_self": null,
      "border": null,
      "bottom": null,
      "display": null,
      "flex": null,
      "flex_flow": null,
      "grid_area": null,
      "grid_auto_columns": null,
      "grid_auto_flow": null,
      "grid_auto_rows": null,
      "grid_column": null,
      "grid_gap": null,
      "grid_row": null,
      "grid_template_areas": null,
      "grid_template_columns": null,
      "grid_template_rows": null,
      "height": null,
      "justify_content": null,
      "justify_items": null,
      "left": null,
      "margin": null,
      "max_height": null,
      "max_width": null,
      "min_height": null,
      "min_width": null,
      "object_fit": null,
      "object_position": null,
      "order": null,
      "overflow": null,
      "overflow_x": null,
      "overflow_y": null,
      "padding": null,
      "right": null,
      "top": null,
      "visibility": null,
      "width": null
     }
    },
    "b57307190c31436aa24020d49ead64e2": {
     "model_module": "@jupyter-widgets/controls",
     "model_module_version": "1.5.0",
     "model_name": "FloatProgressModel",
     "state": {
      "_dom_classes": [],
      "_model_module": "@jupyter-widgets/controls",
      "_model_module_version": "1.5.0",
      "_model_name": "FloatProgressModel",
      "_view_count": null,
      "_view_module": "@jupyter-widgets/controls",
      "_view_module_version": "1.5.0",
      "_view_name": "ProgressView",
      "bar_style": "success",
      "description": "",
      "description_tooltip": null,
      "layout": "IPY_MODEL_90337933bb7749ecaa3a94967f20e0ab",
      "max": 72,
      "min": 0,
      "orientation": "horizontal",
      "style": "IPY_MODEL_922e4e77be234cbdb12f0b47ad7551f0",
      "value": 72
     }
    },
    "b6cea28f892e42248f66240a923e2fd9": {
     "model_module": "@jupyter-widgets/controls",
     "model_module_version": "1.5.0",
     "model_name": "HBoxModel",
     "state": {
      "_dom_classes": [],
      "_model_module": "@jupyter-widgets/controls",
      "_model_module_version": "1.5.0",
      "_model_name": "HBoxModel",
      "_view_count": null,
      "_view_module": "@jupyter-widgets/controls",
      "_view_module_version": "1.5.0",
      "_view_name": "HBoxView",
      "box_style": "",
      "children": [
       "IPY_MODEL_8ad6b5a11ea543339bef802a5698606c",
       "IPY_MODEL_40eed408025a42c897e7bf4815997a8e",
       "IPY_MODEL_5e66258543b44fb58eef2611cc6cdc98"
      ],
      "layout": "IPY_MODEL_2cc907e64f0f45f2b0b95a158b61109e"
     }
    },
    "b8eecfaa3bc34fdb9110fde5864b89da": {
     "model_module": "@jupyter-widgets/base",
     "model_module_version": "1.2.0",
     "model_name": "LayoutModel",
     "state": {
      "_model_module": "@jupyter-widgets/base",
      "_model_module_version": "1.2.0",
      "_model_name": "LayoutModel",
      "_view_count": null,
      "_view_module": "@jupyter-widgets/base",
      "_view_module_version": "1.2.0",
      "_view_name": "LayoutView",
      "align_content": null,
      "align_items": null,
      "align_self": null,
      "border": null,
      "bottom": null,
      "display": null,
      "flex": null,
      "flex_flow": null,
      "grid_area": null,
      "grid_auto_columns": null,
      "grid_auto_flow": null,
      "grid_auto_rows": null,
      "grid_column": null,
      "grid_gap": null,
      "grid_row": null,
      "grid_template_areas": null,
      "grid_template_columns": null,
      "grid_template_rows": null,
      "height": null,
      "justify_content": null,
      "justify_items": null,
      "left": null,
      "margin": null,
      "max_height": null,
      "max_width": null,
      "min_height": null,
      "min_width": null,
      "object_fit": null,
      "object_position": null,
      "order": null,
      "overflow": null,
      "overflow_x": null,
      "overflow_y": null,
      "padding": null,
      "right": null,
      "top": null,
      "visibility": null,
      "width": null
     }
    },
    "b96601d38af24183a9e0d8b1856afad6": {
     "model_module": "@jupyter-widgets/base",
     "model_module_version": "1.2.0",
     "model_name": "LayoutModel",
     "state": {
      "_model_module": "@jupyter-widgets/base",
      "_model_module_version": "1.2.0",
      "_model_name": "LayoutModel",
      "_view_count": null,
      "_view_module": "@jupyter-widgets/base",
      "_view_module_version": "1.2.0",
      "_view_name": "LayoutView",
      "align_content": null,
      "align_items": null,
      "align_self": null,
      "border": null,
      "bottom": null,
      "display": null,
      "flex": null,
      "flex_flow": null,
      "grid_area": null,
      "grid_auto_columns": null,
      "grid_auto_flow": null,
      "grid_auto_rows": null,
      "grid_column": null,
      "grid_gap": null,
      "grid_row": null,
      "grid_template_areas": null,
      "grid_template_columns": null,
      "grid_template_rows": null,
      "height": null,
      "justify_content": null,
      "justify_items": null,
      "left": null,
      "margin": null,
      "max_height": null,
      "max_width": null,
      "min_height": null,
      "min_width": null,
      "object_fit": null,
      "object_position": null,
      "order": null,
      "overflow": null,
      "overflow_x": null,
      "overflow_y": null,
      "padding": null,
      "right": null,
      "top": null,
      "visibility": null,
      "width": null
     }
    },
    "bb2b4127332a465684175f32efcd176e": {
     "model_module": "@jupyter-widgets/base",
     "model_module_version": "1.2.0",
     "model_name": "LayoutModel",
     "state": {
      "_model_module": "@jupyter-widgets/base",
      "_model_module_version": "1.2.0",
      "_model_name": "LayoutModel",
      "_view_count": null,
      "_view_module": "@jupyter-widgets/base",
      "_view_module_version": "1.2.0",
      "_view_name": "LayoutView",
      "align_content": null,
      "align_items": null,
      "align_self": null,
      "border": null,
      "bottom": null,
      "display": null,
      "flex": null,
      "flex_flow": null,
      "grid_area": null,
      "grid_auto_columns": null,
      "grid_auto_flow": null,
      "grid_auto_rows": null,
      "grid_column": null,
      "grid_gap": null,
      "grid_row": null,
      "grid_template_areas": null,
      "grid_template_columns": null,
      "grid_template_rows": null,
      "height": null,
      "justify_content": null,
      "justify_items": null,
      "left": null,
      "margin": null,
      "max_height": null,
      "max_width": null,
      "min_height": null,
      "min_width": null,
      "object_fit": null,
      "object_position": null,
      "order": null,
      "overflow": null,
      "overflow_x": null,
      "overflow_y": null,
      "padding": null,
      "right": null,
      "top": null,
      "visibility": null,
      "width": null
     }
    },
    "bbfecb6e4d9f4e76a45d2d326374b336": {
     "model_module": "@jupyter-widgets/base",
     "model_module_version": "1.2.0",
     "model_name": "LayoutModel",
     "state": {
      "_model_module": "@jupyter-widgets/base",
      "_model_module_version": "1.2.0",
      "_model_name": "LayoutModel",
      "_view_count": null,
      "_view_module": "@jupyter-widgets/base",
      "_view_module_version": "1.2.0",
      "_view_name": "LayoutView",
      "align_content": null,
      "align_items": null,
      "align_self": null,
      "border": null,
      "bottom": null,
      "display": null,
      "flex": null,
      "flex_flow": null,
      "grid_area": null,
      "grid_auto_columns": null,
      "grid_auto_flow": null,
      "grid_auto_rows": null,
      "grid_column": null,
      "grid_gap": null,
      "grid_row": null,
      "grid_template_areas": null,
      "grid_template_columns": null,
      "grid_template_rows": null,
      "height": null,
      "justify_content": null,
      "justify_items": null,
      "left": null,
      "margin": null,
      "max_height": null,
      "max_width": null,
      "min_height": null,
      "min_width": null,
      "object_fit": null,
      "object_position": null,
      "order": null,
      "overflow": null,
      "overflow_x": null,
      "overflow_y": null,
      "padding": null,
      "right": null,
      "top": null,
      "visibility": null,
      "width": null
     }
    },
    "bcb4b15ab9ff4485a829c9be0fa836c2": {
     "model_module": "@jupyter-widgets/controls",
     "model_module_version": "1.5.0",
     "model_name": "ProgressStyleModel",
     "state": {
      "_model_module": "@jupyter-widgets/controls",
      "_model_module_version": "1.5.0",
      "_model_name": "ProgressStyleModel",
      "_view_count": null,
      "_view_module": "@jupyter-widgets/base",
      "_view_module_version": "1.2.0",
      "_view_name": "StyleView",
      "bar_color": null,
      "description_width": ""
     }
    },
    "c1b5fe38f6bf4270baffb2c30cce2898": {
     "model_module": "@jupyter-widgets/controls",
     "model_module_version": "1.5.0",
     "model_name": "DescriptionStyleModel",
     "state": {
      "_model_module": "@jupyter-widgets/controls",
      "_model_module_version": "1.5.0",
      "_model_name": "DescriptionStyleModel",
      "_view_count": null,
      "_view_module": "@jupyter-widgets/base",
      "_view_module_version": "1.2.0",
      "_view_name": "StyleView",
      "description_width": ""
     }
    },
    "c30b8fe9cb4f459685ec434baf0796cf": {
     "model_module": "@jupyter-widgets/controls",
     "model_module_version": "1.5.0",
     "model_name": "HTMLModel",
     "state": {
      "_dom_classes": [],
      "_model_module": "@jupyter-widgets/controls",
      "_model_module_version": "1.5.0",
      "_model_name": "HTMLModel",
      "_view_count": null,
      "_view_module": "@jupyter-widgets/controls",
      "_view_module_version": "1.5.0",
      "_view_name": "HTMLView",
      "description": "",
      "description_tooltip": null,
      "layout": "IPY_MODEL_8d0c2f939f0f4fe08854923067e4432d",
      "placeholder": "​",
      "style": "IPY_MODEL_5f1fa1d023ad4fb7a6c14c9e8e9bc2a9",
      "value": "100%"
     }
    },
    "c5135f1eaddb492bad4134672e97d2dd": {
     "model_module": "@jupyter-widgets/controls",
     "model_module_version": "1.5.0",
     "model_name": "FloatProgressModel",
     "state": {
      "_dom_classes": [],
      "_model_module": "@jupyter-widgets/controls",
      "_model_module_version": "1.5.0",
      "_model_name": "FloatProgressModel",
      "_view_count": null,
      "_view_module": "@jupyter-widgets/controls",
      "_view_module_version": "1.5.0",
      "_view_name": "ProgressView",
      "bar_style": "success",
      "description": "",
      "description_tooltip": null,
      "layout": "IPY_MODEL_49b5030490f640098284397332486e45",
      "max": 440473133,
      "min": 0,
      "orientation": "horizontal",
      "style": "IPY_MODEL_c62260bf1fa04813874d393c92b67398",
      "value": 440473133
     }
    },
    "c62260bf1fa04813874d393c92b67398": {
     "model_module": "@jupyter-widgets/controls",
     "model_module_version": "1.5.0",
     "model_name": "ProgressStyleModel",
     "state": {
      "_model_module": "@jupyter-widgets/controls",
      "_model_module_version": "1.5.0",
      "_model_name": "ProgressStyleModel",
      "_view_count": null,
      "_view_module": "@jupyter-widgets/base",
      "_view_module_version": "1.2.0",
      "_view_name": "StyleView",
      "bar_color": null,
      "description_width": ""
     }
    },
    "c9d8523a488e4d0c888742c6d9b57ff5": {
     "model_module": "@jupyter-widgets/controls",
     "model_module_version": "1.5.0",
     "model_name": "DescriptionStyleModel",
     "state": {
      "_model_module": "@jupyter-widgets/controls",
      "_model_module_version": "1.5.0",
      "_model_name": "DescriptionStyleModel",
      "_view_count": null,
      "_view_module": "@jupyter-widgets/base",
      "_view_module_version": "1.2.0",
      "_view_name": "StyleView",
      "description_width": ""
     }
    },
    "ca65cb9c7b4b4612965aea1b0fe25433": {
     "model_module": "@jupyter-widgets/base",
     "model_module_version": "1.2.0",
     "model_name": "LayoutModel",
     "state": {
      "_model_module": "@jupyter-widgets/base",
      "_model_module_version": "1.2.0",
      "_model_name": "LayoutModel",
      "_view_count": null,
      "_view_module": "@jupyter-widgets/base",
      "_view_module_version": "1.2.0",
      "_view_name": "LayoutView",
      "align_content": null,
      "align_items": null,
      "align_self": null,
      "border": null,
      "bottom": null,
      "display": null,
      "flex": null,
      "flex_flow": null,
      "grid_area": null,
      "grid_auto_columns": null,
      "grid_auto_flow": null,
      "grid_auto_rows": null,
      "grid_column": null,
      "grid_gap": null,
      "grid_row": null,
      "grid_template_areas": null,
      "grid_template_columns": null,
      "grid_template_rows": null,
      "height": null,
      "justify_content": null,
      "justify_items": null,
      "left": null,
      "margin": null,
      "max_height": null,
      "max_width": null,
      "min_height": null,
      "min_width": null,
      "object_fit": null,
      "object_position": null,
      "order": null,
      "overflow": null,
      "overflow_x": null,
      "overflow_y": null,
      "padding": null,
      "right": null,
      "top": null,
      "visibility": null,
      "width": null
     }
    },
    "cabff1292ba6461f9557f1075b1b3853": {
     "model_module": "@jupyter-widgets/controls",
     "model_module_version": "1.5.0",
     "model_name": "HTMLModel",
     "state": {
      "_dom_classes": [],
      "_model_module": "@jupyter-widgets/controls",
      "_model_module_version": "1.5.0",
      "_model_name": "HTMLModel",
      "_view_count": null,
      "_view_module": "@jupyter-widgets/controls",
      "_view_module_version": "1.5.0",
      "_view_name": "HTMLView",
      "description": "",
      "description_tooltip": null,
      "layout": "IPY_MODEL_2d6d1a0b217d49f8b3024aec90224d46",
      "placeholder": "​",
      "style": "IPY_MODEL_a86019d2250b4dc482de0ccf7c19dad3",
      "value": " 226k/226k [00:00&lt;00:00, 4.84MB/s]"
     }
    },
    "cd4037b38e414255b15cf5bddc2dacd3": {
     "model_module": "@jupyter-widgets/base",
     "model_module_version": "1.2.0",
     "model_name": "LayoutModel",
     "state": {
      "_model_module": "@jupyter-widgets/base",
      "_model_module_version": "1.2.0",
      "_model_name": "LayoutModel",
      "_view_count": null,
      "_view_module": "@jupyter-widgets/base",
      "_view_module_version": "1.2.0",
      "_view_name": "LayoutView",
      "align_content": null,
      "align_items": null,
      "align_self": null,
      "border": null,
      "bottom": null,
      "display": null,
      "flex": null,
      "flex_flow": null,
      "grid_area": null,
      "grid_auto_columns": null,
      "grid_auto_flow": null,
      "grid_auto_rows": null,
      "grid_column": null,
      "grid_gap": null,
      "grid_row": null,
      "grid_template_areas": null,
      "grid_template_columns": null,
      "grid_template_rows": null,
      "height": null,
      "justify_content": null,
      "justify_items": null,
      "left": null,
      "margin": null,
      "max_height": null,
      "max_width": null,
      "min_height": null,
      "min_width": null,
      "object_fit": null,
      "object_position": null,
      "order": null,
      "overflow": null,
      "overflow_x": null,
      "overflow_y": null,
      "padding": null,
      "right": null,
      "top": null,
      "visibility": null,
      "width": null
     }
    },
    "d17b936d29724137a18969b6ee79bc24": {
     "model_module": "@jupyter-widgets/controls",
     "model_module_version": "1.5.0",
     "model_name": "HTMLModel",
     "state": {
      "_dom_classes": [],
      "_model_module": "@jupyter-widgets/controls",
      "_model_module_version": "1.5.0",
      "_model_name": "HTMLModel",
      "_view_count": null,
      "_view_module": "@jupyter-widgets/controls",
      "_view_module_version": "1.5.0",
      "_view_name": "HTMLView",
      "description": "",
      "description_tooltip": null,
      "layout": "IPY_MODEL_ffe192b8b3314efe9b171217a885b8ad",
      "placeholder": "​",
      "style": "IPY_MODEL_3b6c5363b81b49b5950eefe50b59dcbc",
      "value": " 18/18 [00:06&lt;00:00,  3.64ba/s]"
     }
    },
    "d186e2356e054a3083e0734db63ab327": {
     "model_module": "@jupyter-widgets/base",
     "model_module_version": "1.2.0",
     "model_name": "LayoutModel",
     "state": {
      "_model_module": "@jupyter-widgets/base",
      "_model_module_version": "1.2.0",
      "_model_name": "LayoutModel",
      "_view_count": null,
      "_view_module": "@jupyter-widgets/base",
      "_view_module_version": "1.2.0",
      "_view_name": "LayoutView",
      "align_content": null,
      "align_items": null,
      "align_self": null,
      "border": null,
      "bottom": null,
      "display": null,
      "flex": null,
      "flex_flow": null,
      "grid_area": null,
      "grid_auto_columns": null,
      "grid_auto_flow": null,
      "grid_auto_rows": null,
      "grid_column": null,
      "grid_gap": null,
      "grid_row": null,
      "grid_template_areas": null,
      "grid_template_columns": null,
      "grid_template_rows": null,
      "height": null,
      "justify_content": null,
      "justify_items": null,
      "left": null,
      "margin": null,
      "max_height": null,
      "max_width": null,
      "min_height": null,
      "min_width": null,
      "object_fit": null,
      "object_position": null,
      "order": null,
      "overflow": null,
      "overflow_x": null,
      "overflow_y": null,
      "padding": null,
      "right": null,
      "top": null,
      "visibility": null,
      "width": null
     }
    },
    "d3a6e709ef89454baeac90961e1f6d0f": {
     "model_module": "@jupyter-widgets/controls",
     "model_module_version": "1.5.0",
     "model_name": "FloatProgressModel",
     "state": {
      "_dom_classes": [],
      "_model_module": "@jupyter-widgets/controls",
      "_model_module_version": "1.5.0",
      "_model_name": "FloatProgressModel",
      "_view_count": null,
      "_view_module": "@jupyter-widgets/controls",
      "_view_module_version": "1.5.0",
      "_view_name": "ProgressView",
      "bar_style": "success",
      "description": "",
      "description_tooltip": null,
      "layout": "IPY_MODEL_41663766b96f43c282afecaab1004eb7",
      "max": 28,
      "min": 0,
      "orientation": "horizontal",
      "style": "IPY_MODEL_134960e09272435789e15d8446a1ac89",
      "value": 28
     }
    },
    "d5c167e1a6de416c9daee98d54ab2045": {
     "model_module": "@jupyter-widgets/controls",
     "model_module_version": "1.5.0",
     "model_name": "DescriptionStyleModel",
     "state": {
      "_model_module": "@jupyter-widgets/controls",
      "_model_module_version": "1.5.0",
      "_model_name": "DescriptionStyleModel",
      "_view_count": null,
      "_view_module": "@jupyter-widgets/base",
      "_view_module_version": "1.2.0",
      "_view_name": "StyleView",
      "description_width": ""
     }
    },
    "d862feaa70694ad1b10760f79b5c3892": {
     "model_module": "@jupyter-widgets/controls",
     "model_module_version": "1.5.0",
     "model_name": "FloatProgressModel",
     "state": {
      "_dom_classes": [],
      "_model_module": "@jupyter-widgets/controls",
      "_model_module_version": "1.5.0",
      "_model_name": "FloatProgressModel",
      "_view_count": null,
      "_view_module": "@jupyter-widgets/controls",
      "_view_module_version": "1.5.0",
      "_view_name": "ProgressView",
      "bar_style": "success",
      "description": "",
      "description_tooltip": null,
      "layout": "IPY_MODEL_bb2b4127332a465684175f32efcd176e",
      "max": 18,
      "min": 0,
      "orientation": "horizontal",
      "style": "IPY_MODEL_5aaa6bb220194387942505d7d7f4b186",
      "value": 18
     }
    },
    "d9a2b1d92e534de381f9222bdc5a5100": {
     "model_module": "@jupyter-widgets/controls",
     "model_module_version": "1.5.0",
     "model_name": "FloatProgressModel",
     "state": {
      "_dom_classes": [],
      "_model_module": "@jupyter-widgets/controls",
      "_model_module_version": "1.5.0",
      "_model_name": "FloatProgressModel",
      "_view_count": null,
      "_view_module": "@jupyter-widgets/controls",
      "_view_module_version": "1.5.0",
      "_view_name": "ProgressView",
      "bar_style": "success",
      "description": "",
      "description_tooltip": null,
      "layout": "IPY_MODEL_5d29c5e8cbe44a44927e90afa4cffadd",
      "max": 267967963,
      "min": 0,
      "orientation": "horizontal",
      "style": "IPY_MODEL_80134e1d133347e4aafe3c24462efd26",
      "value": 267967963
     }
    },
    "d9b7ac8126eb455faa66a5a8873b72f5": {
     "model_module": "@jupyter-widgets/controls",
     "model_module_version": "1.5.0",
     "model_name": "ProgressStyleModel",
     "state": {
      "_model_module": "@jupyter-widgets/controls",
      "_model_module_version": "1.5.0",
      "_model_name": "ProgressStyleModel",
      "_view_count": null,
      "_view_module": "@jupyter-widgets/base",
      "_view_module_version": "1.2.0",
      "_view_name": "StyleView",
      "bar_color": null,
      "description_width": ""
     }
    },
    "d9c9178852c14f258afa41be2229e0ce": {
     "model_module": "@jupyter-widgets/base",
     "model_module_version": "1.2.0",
     "model_name": "LayoutModel",
     "state": {
      "_model_module": "@jupyter-widgets/base",
      "_model_module_version": "1.2.0",
      "_model_name": "LayoutModel",
      "_view_count": null,
      "_view_module": "@jupyter-widgets/base",
      "_view_module_version": "1.2.0",
      "_view_name": "LayoutView",
      "align_content": null,
      "align_items": null,
      "align_self": null,
      "border": null,
      "bottom": null,
      "display": null,
      "flex": null,
      "flex_flow": null,
      "grid_area": null,
      "grid_auto_columns": null,
      "grid_auto_flow": null,
      "grid_auto_rows": null,
      "grid_column": null,
      "grid_gap": null,
      "grid_row": null,
      "grid_template_areas": null,
      "grid_template_columns": null,
      "grid_template_rows": null,
      "height": null,
      "justify_content": null,
      "justify_items": null,
      "left": null,
      "margin": null,
      "max_height": null,
      "max_width": null,
      "min_height": null,
      "min_width": null,
      "object_fit": null,
      "object_position": null,
      "order": null,
      "overflow": null,
      "overflow_x": null,
      "overflow_y": null,
      "padding": null,
      "right": null,
      "top": null,
      "visibility": null,
      "width": null
     }
    },
    "dec96f849a624bc2b13f9c20966421b3": {
     "model_module": "@jupyter-widgets/base",
     "model_module_version": "1.2.0",
     "model_name": "LayoutModel",
     "state": {
      "_model_module": "@jupyter-widgets/base",
      "_model_module_version": "1.2.0",
      "_model_name": "LayoutModel",
      "_view_count": null,
      "_view_module": "@jupyter-widgets/base",
      "_view_module_version": "1.2.0",
      "_view_name": "LayoutView",
      "align_content": null,
      "align_items": null,
      "align_self": null,
      "border": null,
      "bottom": null,
      "display": null,
      "flex": null,
      "flex_flow": null,
      "grid_area": null,
      "grid_auto_columns": null,
      "grid_auto_flow": null,
      "grid_auto_rows": null,
      "grid_column": null,
      "grid_gap": null,
      "grid_row": null,
      "grid_template_areas": null,
      "grid_template_columns": null,
      "grid_template_rows": null,
      "height": null,
      "justify_content": null,
      "justify_items": null,
      "left": null,
      "margin": null,
      "max_height": null,
      "max_width": null,
      "min_height": null,
      "min_width": null,
      "object_fit": null,
      "object_position": null,
      "order": null,
      "overflow": null,
      "overflow_x": null,
      "overflow_y": null,
      "padding": null,
      "right": null,
      "top": null,
      "visibility": null,
      "width": null
     }
    },
    "e0fc8f5fe01d42fc80a809e4e50d727f": {
     "model_module": "@jupyter-widgets/base",
     "model_module_version": "1.2.0",
     "model_name": "LayoutModel",
     "state": {
      "_model_module": "@jupyter-widgets/base",
      "_model_module_version": "1.2.0",
      "_model_name": "LayoutModel",
      "_view_count": null,
      "_view_module": "@jupyter-widgets/base",
      "_view_module_version": "1.2.0",
      "_view_name": "LayoutView",
      "align_content": null,
      "align_items": null,
      "align_self": null,
      "border": null,
      "bottom": null,
      "display": null,
      "flex": null,
      "flex_flow": null,
      "grid_area": null,
      "grid_auto_columns": null,
      "grid_auto_flow": null,
      "grid_auto_rows": null,
      "grid_column": null,
      "grid_gap": null,
      "grid_row": null,
      "grid_template_areas": null,
      "grid_template_columns": null,
      "grid_template_rows": null,
      "height": null,
      "justify_content": null,
      "justify_items": null,
      "left": null,
      "margin": null,
      "max_height": null,
      "max_width": null,
      "min_height": null,
      "min_width": null,
      "object_fit": null,
      "object_position": null,
      "order": null,
      "overflow": null,
      "overflow_x": null,
      "overflow_y": null,
      "padding": null,
      "right": null,
      "top": null,
      "visibility": null,
      "width": null
     }
    },
    "e31979a55d1841039285937de6624ac2": {
     "model_module": "@jupyter-widgets/controls",
     "model_module_version": "1.5.0",
     "model_name": "DescriptionStyleModel",
     "state": {
      "_model_module": "@jupyter-widgets/controls",
      "_model_module_version": "1.5.0",
      "_model_name": "DescriptionStyleModel",
      "_view_count": null,
      "_view_module": "@jupyter-widgets/base",
      "_view_module_version": "1.2.0",
      "_view_name": "StyleView",
      "description_width": ""
     }
    },
    "e3372bf1c8644e2cb1830a9a6c3729c1": {
     "model_module": "@jupyter-widgets/controls",
     "model_module_version": "1.5.0",
     "model_name": "ProgressStyleModel",
     "state": {
      "_model_module": "@jupyter-widgets/controls",
      "_model_module_version": "1.5.0",
      "_model_name": "ProgressStyleModel",
      "_view_count": null,
      "_view_module": "@jupyter-widgets/base",
      "_view_module_version": "1.2.0",
      "_view_name": "StyleView",
      "bar_color": null,
      "description_width": ""
     }
    },
    "e59a7e2367134342a7b74038137940c8": {
     "model_module": "@jupyter-widgets/base",
     "model_module_version": "1.2.0",
     "model_name": "LayoutModel",
     "state": {
      "_model_module": "@jupyter-widgets/base",
      "_model_module_version": "1.2.0",
      "_model_name": "LayoutModel",
      "_view_count": null,
      "_view_module": "@jupyter-widgets/base",
      "_view_module_version": "1.2.0",
      "_view_name": "LayoutView",
      "align_content": null,
      "align_items": null,
      "align_self": null,
      "border": null,
      "bottom": null,
      "display": null,
      "flex": null,
      "flex_flow": null,
      "grid_area": null,
      "grid_auto_columns": null,
      "grid_auto_flow": null,
      "grid_auto_rows": null,
      "grid_column": null,
      "grid_gap": null,
      "grid_row": null,
      "grid_template_areas": null,
      "grid_template_columns": null,
      "grid_template_rows": null,
      "height": null,
      "justify_content": null,
      "justify_items": null,
      "left": null,
      "margin": null,
      "max_height": null,
      "max_width": null,
      "min_height": null,
      "min_width": null,
      "object_fit": null,
      "object_position": null,
      "order": null,
      "overflow": null,
      "overflow_x": null,
      "overflow_y": null,
      "padding": null,
      "right": null,
      "top": null,
      "visibility": null,
      "width": null
     }
    },
    "e61f353a47e249f19fa1b54f4c848dd6": {
     "model_module": "@jupyter-widgets/controls",
     "model_module_version": "1.5.0",
     "model_name": "FloatProgressModel",
     "state": {
      "_dom_classes": [],
      "_model_module": "@jupyter-widgets/controls",
      "_model_module_version": "1.5.0",
      "_model_name": "FloatProgressModel",
      "_view_count": null,
      "_view_module": "@jupyter-widgets/controls",
      "_view_module_version": "1.5.0",
      "_view_name": "ProgressView",
      "bar_style": "success",
      "description": "",
      "description_tooltip": null,
      "layout": "IPY_MODEL_f3071910b488485abcef61ddd22a05c5",
      "max": 231508,
      "min": 0,
      "orientation": "horizontal",
      "style": "IPY_MODEL_d9b7ac8126eb455faa66a5a8873b72f5",
      "value": 231508
     }
    },
    "e6cc611dc013409f816af8f1bbd4d82d": {
     "model_module": "@jupyter-widgets/controls",
     "model_module_version": "1.5.0",
     "model_name": "HBoxModel",
     "state": {
      "_dom_classes": [],
      "_model_module": "@jupyter-widgets/controls",
      "_model_module_version": "1.5.0",
      "_model_name": "HBoxModel",
      "_view_count": null,
      "_view_module": "@jupyter-widgets/controls",
      "_view_module_version": "1.5.0",
      "_view_name": "HBoxView",
      "box_style": "",
      "children": [
       "IPY_MODEL_3ed632fa145a4fe28d279964ebfe9f89",
       "IPY_MODEL_90facdbea4ad47b59b140db6e5f1d693",
       "IPY_MODEL_56fa976ee0fe4e76bd50a4c68e249038"
      ],
      "layout": "IPY_MODEL_cd4037b38e414255b15cf5bddc2dacd3"
     }
    },
    "ea02378d8184489882e59a880f0a56fe": {
     "model_module": "@jupyter-widgets/base",
     "model_module_version": "1.2.0",
     "model_name": "LayoutModel",
     "state": {
      "_model_module": "@jupyter-widgets/base",
      "_model_module_version": "1.2.0",
      "_model_name": "LayoutModel",
      "_view_count": null,
      "_view_module": "@jupyter-widgets/base",
      "_view_module_version": "1.2.0",
      "_view_name": "LayoutView",
      "align_content": null,
      "align_items": null,
      "align_self": null,
      "border": null,
      "bottom": null,
      "display": null,
      "flex": null,
      "flex_flow": null,
      "grid_area": null,
      "grid_auto_columns": null,
      "grid_auto_flow": null,
      "grid_auto_rows": null,
      "grid_column": null,
      "grid_gap": null,
      "grid_row": null,
      "grid_template_areas": null,
      "grid_template_columns": null,
      "grid_template_rows": null,
      "height": null,
      "justify_content": null,
      "justify_items": null,
      "left": null,
      "margin": null,
      "max_height": null,
      "max_width": null,
      "min_height": null,
      "min_width": null,
      "object_fit": null,
      "object_position": null,
      "order": null,
      "overflow": null,
      "overflow_x": null,
      "overflow_y": null,
      "padding": null,
      "right": null,
      "top": null,
      "visibility": null,
      "width": null
     }
    },
    "ec986bcd534c46ba8957f2ba8b33e052": {
     "model_module": "@jupyter-widgets/base",
     "model_module_version": "1.2.0",
     "model_name": "LayoutModel",
     "state": {
      "_model_module": "@jupyter-widgets/base",
      "_model_module_version": "1.2.0",
      "_model_name": "LayoutModel",
      "_view_count": null,
      "_view_module": "@jupyter-widgets/base",
      "_view_module_version": "1.2.0",
      "_view_name": "LayoutView",
      "align_content": null,
      "align_items": null,
      "align_self": null,
      "border": null,
      "bottom": null,
      "display": null,
      "flex": null,
      "flex_flow": null,
      "grid_area": null,
      "grid_auto_columns": null,
      "grid_auto_flow": null,
      "grid_auto_rows": null,
      "grid_column": null,
      "grid_gap": null,
      "grid_row": null,
      "grid_template_areas": null,
      "grid_template_columns": null,
      "grid_template_rows": null,
      "height": null,
      "justify_content": null,
      "justify_items": null,
      "left": null,
      "margin": null,
      "max_height": null,
      "max_width": null,
      "min_height": null,
      "min_width": null,
      "object_fit": null,
      "object_position": null,
      "order": null,
      "overflow": null,
      "overflow_x": null,
      "overflow_y": null,
      "padding": null,
      "right": null,
      "top": null,
      "visibility": null,
      "width": null
     }
    },
    "ed9fd1495cfa4b9eb87a0ef01099f87a": {
     "model_module": "@jupyter-widgets/controls",
     "model_module_version": "1.5.0",
     "model_name": "DescriptionStyleModel",
     "state": {
      "_model_module": "@jupyter-widgets/controls",
      "_model_module_version": "1.5.0",
      "_model_name": "DescriptionStyleModel",
      "_view_count": null,
      "_view_module": "@jupyter-widgets/base",
      "_view_module_version": "1.2.0",
      "_view_name": "StyleView",
      "description_width": ""
     }
    },
    "eef39141670948caa72973b08a000b84": {
     "model_module": "@jupyter-widgets/controls",
     "model_module_version": "1.5.0",
     "model_name": "FloatProgressModel",
     "state": {
      "_dom_classes": [],
      "_model_module": "@jupyter-widgets/controls",
      "_model_module_version": "1.5.0",
      "_model_name": "FloatProgressModel",
      "_view_count": null,
      "_view_module": "@jupyter-widgets/controls",
      "_view_module_version": "1.5.0",
      "_view_name": "ProgressView",
      "bar_style": "success",
      "description": "",
      "description_tooltip": null,
      "layout": "IPY_MODEL_91245321f04e4a1db990b7146c58b06d",
      "max": 231508,
      "min": 0,
      "orientation": "horizontal",
      "style": "IPY_MODEL_bcb4b15ab9ff4485a829c9be0fa836c2",
      "value": 231508
     }
    },
    "f0053ff30ab9492c93eced0e3d2cbcf5": {
     "model_module": "@jupyter-widgets/base",
     "model_module_version": "1.2.0",
     "model_name": "LayoutModel",
     "state": {
      "_model_module": "@jupyter-widgets/base",
      "_model_module_version": "1.2.0",
      "_model_name": "LayoutModel",
      "_view_count": null,
      "_view_module": "@jupyter-widgets/base",
      "_view_module_version": "1.2.0",
      "_view_name": "LayoutView",
      "align_content": null,
      "align_items": null,
      "align_self": null,
      "border": null,
      "bottom": null,
      "display": null,
      "flex": null,
      "flex_flow": null,
      "grid_area": null,
      "grid_auto_columns": null,
      "grid_auto_flow": null,
      "grid_auto_rows": null,
      "grid_column": null,
      "grid_gap": null,
      "grid_row": null,
      "grid_template_areas": null,
      "grid_template_columns": null,
      "grid_template_rows": null,
      "height": null,
      "justify_content": null,
      "justify_items": null,
      "left": null,
      "margin": null,
      "max_height": null,
      "max_width": null,
      "min_height": null,
      "min_width": null,
      "object_fit": null,
      "object_position": null,
      "order": null,
      "overflow": null,
      "overflow_x": null,
      "overflow_y": null,
      "padding": null,
      "right": null,
      "top": null,
      "visibility": null,
      "width": null
     }
    },
    "f24bd2d2bbf74f4a972b5e82fd074716": {
     "model_module": "@jupyter-widgets/controls",
     "model_module_version": "1.5.0",
     "model_name": "DescriptionStyleModel",
     "state": {
      "_model_module": "@jupyter-widgets/controls",
      "_model_module_version": "1.5.0",
      "_model_name": "DescriptionStyleModel",
      "_view_count": null,
      "_view_module": "@jupyter-widgets/base",
      "_view_module_version": "1.2.0",
      "_view_name": "StyleView",
      "description_width": ""
     }
    },
    "f30100470b18440bbca94852b5823295": {
     "model_module": "@jupyter-widgets/controls",
     "model_module_version": "1.5.0",
     "model_name": "HTMLModel",
     "state": {
      "_dom_classes": [],
      "_model_module": "@jupyter-widgets/controls",
      "_model_module_version": "1.5.0",
      "_model_name": "HTMLModel",
      "_view_count": null,
      "_view_module": "@jupyter-widgets/controls",
      "_view_module_version": "1.5.0",
      "_view_name": "HTMLView",
      "description": "",
      "description_tooltip": null,
      "layout": "IPY_MODEL_9ec5034e4cad4b8483be9984473b5729",
      "placeholder": "​",
      "style": "IPY_MODEL_a74b6551817f45bbbdb50ee9b554242f",
      "value": "Downloading: 100%"
     }
    },
    "f3071910b488485abcef61ddd22a05c5": {
     "model_module": "@jupyter-widgets/base",
     "model_module_version": "1.2.0",
     "model_name": "LayoutModel",
     "state": {
      "_model_module": "@jupyter-widgets/base",
      "_model_module_version": "1.2.0",
      "_model_name": "LayoutModel",
      "_view_count": null,
      "_view_module": "@jupyter-widgets/base",
      "_view_module_version": "1.2.0",
      "_view_name": "LayoutView",
      "align_content": null,
      "align_items": null,
      "align_self": null,
      "border": null,
      "bottom": null,
      "display": null,
      "flex": null,
      "flex_flow": null,
      "grid_area": null,
      "grid_auto_columns": null,
      "grid_auto_flow": null,
      "grid_auto_rows": null,
      "grid_column": null,
      "grid_gap": null,
      "grid_row": null,
      "grid_template_areas": null,
      "grid_template_columns": null,
      "grid_template_rows": null,
      "height": null,
      "justify_content": null,
      "justify_items": null,
      "left": null,
      "margin": null,
      "max_height": null,
      "max_width": null,
      "min_height": null,
      "min_width": null,
      "object_fit": null,
      "object_position": null,
      "order": null,
      "overflow": null,
      "overflow_x": null,
      "overflow_y": null,
      "padding": null,
      "right": null,
      "top": null,
      "visibility": null,
      "width": null
     }
    },
    "f33b6aba4ee44c388e0e0448d1102287": {
     "model_module": "@jupyter-widgets/controls",
     "model_module_version": "1.5.0",
     "model_name": "FloatProgressModel",
     "state": {
      "_dom_classes": [],
      "_model_module": "@jupyter-widgets/controls",
      "_model_module_version": "1.5.0",
      "_model_name": "FloatProgressModel",
      "_view_count": null,
      "_view_module": "@jupyter-widgets/controls",
      "_view_module_version": "1.5.0",
      "_view_name": "ProgressView",
      "bar_style": "success",
      "description": "",
      "description_tooltip": null,
      "layout": "IPY_MODEL_3e01406b94574a9cbd8cee9635435a3a",
      "max": 466062,
      "min": 0,
      "orientation": "horizontal",
      "style": "IPY_MODEL_6ae494790bcf4194aa266dadfe96d5c8",
      "value": 466062
     }
    },
    "f44ac8133fcc463d93d76b7c2e1cc4c4": {
     "model_module": "@jupyter-widgets/controls",
     "model_module_version": "1.5.0",
     "model_name": "HTMLModel",
     "state": {
      "_dom_classes": [],
      "_model_module": "@jupyter-widgets/controls",
      "_model_module_version": "1.5.0",
      "_model_name": "HTMLModel",
      "_view_count": null,
      "_view_module": "@jupyter-widgets/controls",
      "_view_module_version": "1.5.0",
      "_view_name": "HTMLView",
      "description": "",
      "description_tooltip": null,
      "layout": "IPY_MODEL_b8eecfaa3bc34fdb9110fde5864b89da",
      "placeholder": "​",
      "style": "IPY_MODEL_38f9128f6bc341cea95eb6fdcf657cdc",
      "value": " 72/72 [00:34&lt;00:00,  2.13ba/s]"
     }
    },
    "f960adfc410f49f7989d308750a8c8fe": {
     "model_module": "@jupyter-widgets/base",
     "model_module_version": "1.2.0",
     "model_name": "LayoutModel",
     "state": {
      "_model_module": "@jupyter-widgets/base",
      "_model_module_version": "1.2.0",
      "_model_name": "LayoutModel",
      "_view_count": null,
      "_view_module": "@jupyter-widgets/base",
      "_view_module_version": "1.2.0",
      "_view_name": "LayoutView",
      "align_content": null,
      "align_items": null,
      "align_self": null,
      "border": null,
      "bottom": null,
      "display": null,
      "flex": null,
      "flex_flow": null,
      "grid_area": null,
      "grid_auto_columns": null,
      "grid_auto_flow": null,
      "grid_auto_rows": null,
      "grid_column": null,
      "grid_gap": null,
      "grid_row": null,
      "grid_template_areas": null,
      "grid_template_columns": null,
      "grid_template_rows": null,
      "height": null,
      "justify_content": null,
      "justify_items": null,
      "left": null,
      "margin": null,
      "max_height": null,
      "max_width": null,
      "min_height": null,
      "min_width": null,
      "object_fit": null,
      "object_position": null,
      "order": null,
      "overflow": null,
      "overflow_x": null,
      "overflow_y": null,
      "padding": null,
      "right": null,
      "top": null,
      "visibility": null,
      "width": null
     }
    },
    "f9e52a74fa764f9f9f3513c890cf87ee": {
     "model_module": "@jupyter-widgets/controls",
     "model_module_version": "1.5.0",
     "model_name": "HBoxModel",
     "state": {
      "_dom_classes": [],
      "_model_module": "@jupyter-widgets/controls",
      "_model_module_version": "1.5.0",
      "_model_name": "HBoxModel",
      "_view_count": null,
      "_view_module": "@jupyter-widgets/controls",
      "_view_module_version": "1.5.0",
      "_view_name": "HBoxView",
      "box_style": "",
      "children": [
       "IPY_MODEL_945f2d7383f24592aa346cb9de625567",
       "IPY_MODEL_d9a2b1d92e534de381f9222bdc5a5100",
       "IPY_MODEL_347f86e41cf1445d92afeb3699f984e8"
      ],
      "layout": "IPY_MODEL_ca65cb9c7b4b4612965aea1b0fe25433"
     }
    },
    "fa6c9c457eed44a2b7e40d5eb88c908f": {
     "model_module": "@jupyter-widgets/base",
     "model_module_version": "1.2.0",
     "model_name": "LayoutModel",
     "state": {
      "_model_module": "@jupyter-widgets/base",
      "_model_module_version": "1.2.0",
      "_model_name": "LayoutModel",
      "_view_count": null,
      "_view_module": "@jupyter-widgets/base",
      "_view_module_version": "1.2.0",
      "_view_name": "LayoutView",
      "align_content": null,
      "align_items": null,
      "align_self": null,
      "border": null,
      "bottom": null,
      "display": null,
      "flex": null,
      "flex_flow": null,
      "grid_area": null,
      "grid_auto_columns": null,
      "grid_auto_flow": null,
      "grid_auto_rows": null,
      "grid_column": null,
      "grid_gap": null,
      "grid_row": null,
      "grid_template_areas": null,
      "grid_template_columns": null,
      "grid_template_rows": null,
      "height": null,
      "justify_content": null,
      "justify_items": null,
      "left": null,
      "margin": null,
      "max_height": null,
      "max_width": null,
      "min_height": null,
      "min_width": null,
      "object_fit": null,
      "object_position": null,
      "order": null,
      "overflow": null,
      "overflow_x": null,
      "overflow_y": null,
      "padding": null,
      "right": null,
      "top": null,
      "visibility": null,
      "width": null
     }
    },
    "fad96a3d7c7642fbb30ccc4a6d83f398": {
     "model_module": "@jupyter-widgets/controls",
     "model_module_version": "1.5.0",
     "model_name": "HTMLModel",
     "state": {
      "_dom_classes": [],
      "_model_module": "@jupyter-widgets/controls",
      "_model_module_version": "1.5.0",
      "_model_name": "HTMLModel",
      "_view_count": null,
      "_view_module": "@jupyter-widgets/controls",
      "_view_module_version": "1.5.0",
      "_view_name": "HTMLView",
      "description": "",
      "description_tooltip": null,
      "layout": "IPY_MODEL_5cc71f962fb64ef7bd6000aa18c48ed2",
      "placeholder": "​",
      "style": "IPY_MODEL_a0a6138b9b9e4f6583e83fb8de8678ed",
      "value": "Downloading: 100%"
     }
    },
    "fcca736a70db41c4868e763e1dcd70eb": {
     "model_module": "@jupyter-widgets/controls",
     "model_module_version": "1.5.0",
     "model_name": "DescriptionStyleModel",
     "state": {
      "_model_module": "@jupyter-widgets/controls",
      "_model_module_version": "1.5.0",
      "_model_name": "DescriptionStyleModel",
      "_view_count": null,
      "_view_module": "@jupyter-widgets/base",
      "_view_module_version": "1.2.0",
      "_view_name": "StyleView",
      "description_width": ""
     }
    },
    "ffe192b8b3314efe9b171217a885b8ad": {
     "model_module": "@jupyter-widgets/base",
     "model_module_version": "1.2.0",
     "model_name": "LayoutModel",
     "state": {
      "_model_module": "@jupyter-widgets/base",
      "_model_module_version": "1.2.0",
      "_model_name": "LayoutModel",
      "_view_count": null,
      "_view_module": "@jupyter-widgets/base",
      "_view_module_version": "1.2.0",
      "_view_name": "LayoutView",
      "align_content": null,
      "align_items": null,
      "align_self": null,
      "border": null,
      "bottom": null,
      "display": null,
      "flex": null,
      "flex_flow": null,
      "grid_area": null,
      "grid_auto_columns": null,
      "grid_auto_flow": null,
      "grid_auto_rows": null,
      "grid_column": null,
      "grid_gap": null,
      "grid_row": null,
      "grid_template_areas": null,
      "grid_template_columns": null,
      "grid_template_rows": null,
      "height": null,
      "justify_content": null,
      "justify_items": null,
      "left": null,
      "margin": null,
      "max_height": null,
      "max_width": null,
      "min_height": null,
      "min_width": null,
      "object_fit": null,
      "object_position": null,
      "order": null,
      "overflow": null,
      "overflow_x": null,
      "overflow_y": null,
      "padding": null,
      "right": null,
      "top": null,
      "visibility": null,
      "width": null
     }
    }
   }
  }
 },
 "nbformat": 4,
 "nbformat_minor": 1
}
