{
 "cells": [
  {
   "cell_type": "code",
   "execution_count": 1,
   "id": "DOGYP9Mx5Rh8",
   "metadata": {
    "id": "DOGYP9Mx5Rh8"
   },
   "outputs": [
    {
     "name": "stdout",
     "output_type": "stream",
     "text": [
      "Collecting pmaw\n",
      "  Downloading pmaw-2.1.3-py3-none-any.whl (25 kB)\n",
      "Collecting praw\n",
      "  Downloading praw-7.6.0-py3-none-any.whl (188 kB)\n",
      "     -------------------------------------- 188.2/188.2 kB 2.3 MB/s eta 0:00:00\n",
      "Requirement already satisfied: requests in c:\\users\\lucas\\appdata\\local\\programs\\python\\python310\\lib\\site-packages (from pmaw) (2.28.1)\n",
      "Collecting websocket-client>=0.54.0\n",
      "  Downloading websocket_client-1.4.1-py3-none-any.whl (55 kB)\n",
      "     ---------------------------------------- 55.0/55.0 kB 1.4 MB/s eta 0:00:00\n",
      "Collecting prawcore<3,>=2.1\n",
      "  Downloading prawcore-2.3.0-py3-none-any.whl (16 kB)\n",
      "Collecting update-checker>=0.18\n",
      "  Downloading update_checker-0.18.0-py3-none-any.whl (7.0 kB)\n",
      "Requirement already satisfied: idna<4,>=2.5 in c:\\users\\lucas\\appdata\\local\\programs\\python\\python310\\lib\\site-packages (from requests->pmaw) (3.3)\n",
      "Requirement already satisfied: charset-normalizer<3,>=2 in c:\\users\\lucas\\appdata\\local\\programs\\python\\python310\\lib\\site-packages (from requests->pmaw) (2.1.1)\n",
      "Requirement already satisfied: urllib3<1.27,>=1.21.1 in c:\\users\\lucas\\appdata\\local\\programs\\python\\python310\\lib\\site-packages (from requests->pmaw) (1.26.12)\n",
      "Requirement already satisfied: certifi>=2017.4.17 in c:\\users\\lucas\\appdata\\local\\programs\\python\\python310\\lib\\site-packages (from requests->pmaw) (2022.6.15.1)\n",
      "Installing collected packages: websocket-client, update-checker, prawcore, praw, pmaw\n",
      "Successfully installed pmaw-2.1.3 praw-7.6.0 prawcore-2.3.0 update-checker-0.18.0 websocket-client-1.4.1\n"
     ]
    }
   ],
   "source": [
    "!pip install pmaw"
   ]
  },
  {
   "cell_type": "code",
   "execution_count": 2,
   "id": "vietnamese-positive",
   "metadata": {
    "id": "vietnamese-positive"
   },
   "outputs": [],
   "source": [
    "import pandas as pd\n",
    "from pmaw import PushshiftAPI\n",
    "import datetime as dt"
   ]
  },
  {
   "cell_type": "code",
   "execution_count": 3,
   "id": "removed-forth",
   "metadata": {
    "id": "removed-forth"
   },
   "outputs": [],
   "source": [
    "api = PushshiftAPI() "
   ]
  },
  {
   "cell_type": "code",
   "execution_count": 4,
   "id": "thrown-mystery",
   "metadata": {
    "id": "thrown-mystery"
   },
   "outputs": [],
   "source": [
    "before = int(dt.datetime(2022,2,1,0,0).timestamp())\n",
    "after = int(dt.datetime(2021,1,1,0,0).timestamp())"
   ]
  },
  {
   "cell_type": "code",
   "execution_count": null,
   "id": "stuffed-diversity",
   "metadata": {
    "colab": {
     "base_uri": "https://localhost:8080/"
    },
    "id": "stuffed-diversity",
    "outputId": "569a215a-c0c1-4878-b77a-7401384a0b86"
   },
   "outputs": [],
   "source": [
    "subreddit=\"cryptocurrency\"\n",
    "limit=500000\n",
    "fields = [\"created_utc\",\"body\"]\n",
    "comments = api.search_comments(fields=fields, subreddit=subreddit, limit=limit, before=before,\n",
    "                               after=after)\n",
    "print(f'Retrieved {len(comments)} comments from Pushshift')"
   ]
  },
  {
   "cell_type": "code",
   "execution_count": null,
   "id": "funded-capture",
   "metadata": {
    "id": "funded-capture"
   },
   "outputs": [],
   "source": [
    "comments_df = pd.DataFrame(comments)"
   ]
  },
  {
   "cell_type": "code",
   "execution_count": null,
   "id": "patient-preserve",
   "metadata": {
    "id": "patient-preserve"
   },
   "outputs": [],
   "source": [
    "comments_df.to_csv('./jan_cc.csv', header=True, index=False, columns=list(comments_df.axes[1]))"
   ]
  },
  {
   "cell_type": "code",
   "execution_count": null,
   "id": "QNQKuGvEN0XO",
   "metadata": {
    "colab": {
     "background_save": true
    },
    "id": "QNQKuGvEN0XO"
   },
   "outputs": [],
   "source": [
    "comments_df"
   ]
  }
 ],
 "metadata": {
  "colab": {
   "collapsed_sections": [],
   "name": "comments-scraper.ipynb",
   "provenance": []
  },
  "kernelspec": {
   "display_name": "Python 3 (ipykernel)",
   "language": "python",
   "name": "python3"
  },
  "language_info": {
   "codemirror_mode": {
    "name": "ipython",
    "version": 3
   },
   "file_extension": ".py",
   "mimetype": "text/x-python",
   "name": "python",
   "nbconvert_exporter": "python",
   "pygments_lexer": "ipython3",
   "version": "3.10.7"
  }
 },
 "nbformat": 4,
 "nbformat_minor": 5
}
