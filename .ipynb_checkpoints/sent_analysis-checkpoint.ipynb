{
 "cells": [
  {
   "cell_type": "markdown",
   "metadata": {
    "id": "9eH3lSQzqWlQ"
   },
   "source": [
    "# Sentiment Analysis on crypto related comments using transformers\n",
    "\n",
    "**Luca Santarella (A.Y. 2021/2022)**\n",
    "\n",
    "\n",
    "The datasets and the fine-tuned models can be downloaded from here: https://drive.google.com/drive/folders/1QDCGFKcqSQpaK9UGHUsJpi4RWYYv8LCK?usp=sharing\n"
   ]
  },
  {
   "cell_type": "code",
   "execution_count": 1,
   "metadata": {
    "colab": {
     "base_uri": "https://localhost:8080/"
    },
    "id": "eoqrHN8p5WRv",
    "outputId": "7a5444a5-316e-4d02-8cd8-187daff2cd28"
   },
   "outputs": [
    {
     "name": "stdout",
     "output_type": "stream",
     "text": [
      "Requirement already satisfied: datasets in c:\\users\\lucas\\appdata\\local\\programs\\python\\python310\\lib\\site-packages (2.4.0)\n",
      "Requirement already satisfied: multiprocess in c:\\users\\lucas\\appdata\\local\\programs\\python\\python310\\lib\\site-packages (from datasets) (0.70.13)\n",
      "Requirement already satisfied: fsspec[http]>=2021.11.1 in c:\\users\\lucas\\appdata\\local\\programs\\python\\python310\\lib\\site-packages (from datasets) (2022.8.2)\n",
      "Requirement already satisfied: huggingface-hub<1.0.0,>=0.1.0 in c:\\users\\lucas\\appdata\\local\\programs\\python\\python310\\lib\\site-packages (from datasets) (0.9.1)\n",
      "Requirement already satisfied: packaging in c:\\users\\lucas\\appdata\\local\\programs\\python\\python310\\lib\\site-packages (from datasets) (21.3)\n",
      "Requirement already satisfied: requests>=2.19.0 in c:\\users\\lucas\\appdata\\local\\programs\\python\\python310\\lib\\site-packages (from datasets) (2.28.1)\n",
      "Requirement already satisfied: dill<0.3.6 in c:\\users\\lucas\\appdata\\local\\programs\\python\\python310\\lib\\site-packages (from datasets) (0.3.5.1)\n",
      "Requirement already satisfied: aiohttp in c:\\users\\lucas\\appdata\\local\\programs\\python\\python310\\lib\\site-packages (from datasets) (3.8.1)\n",
      "Requirement already satisfied: tqdm>=4.62.1 in c:\\users\\lucas\\appdata\\local\\programs\\python\\python310\\lib\\site-packages (from datasets) (4.64.1)\n",
      "Requirement already satisfied: xxhash in c:\\users\\lucas\\appdata\\local\\programs\\python\\python310\\lib\\site-packages (from datasets) (3.0.0)\n",
      "Requirement already satisfied: responses<0.19 in c:\\users\\lucas\\appdata\\local\\programs\\python\\python310\\lib\\site-packages (from datasets) (0.18.0)\n",
      "Requirement already satisfied: numpy>=1.17 in c:\\users\\lucas\\appdata\\local\\programs\\python\\python310\\lib\\site-packages (from datasets) (1.23.3)\n",
      "Requirement already satisfied: pyarrow>=6.0.0 in c:\\users\\lucas\\appdata\\local\\programs\\python\\python310\\lib\\site-packages (from datasets) (9.0.0)\n",
      "Requirement already satisfied: pandas in c:\\users\\lucas\\appdata\\local\\programs\\python\\python310\\lib\\site-packages (from datasets) (1.4.4)\n",
      "Requirement already satisfied: multidict<7.0,>=4.5 in c:\\users\\lucas\\appdata\\local\\programs\\python\\python310\\lib\\site-packages (from aiohttp->datasets) (6.0.2)\n",
      "Requirement already satisfied: attrs>=17.3.0 in c:\\users\\lucas\\appdata\\local\\programs\\python\\python310\\lib\\site-packages (from aiohttp->datasets) (22.1.0)\n",
      "Requirement already satisfied: yarl<2.0,>=1.0 in c:\\users\\lucas\\appdata\\local\\programs\\python\\python310\\lib\\site-packages (from aiohttp->datasets) (1.8.1)\n",
      "Requirement already satisfied: async-timeout<5.0,>=4.0.0a3 in c:\\users\\lucas\\appdata\\local\\programs\\python\\python310\\lib\\site-packages (from aiohttp->datasets) (4.0.2)\n",
      "Requirement already satisfied: charset-normalizer<3.0,>=2.0 in c:\\users\\lucas\\appdata\\local\\programs\\python\\python310\\lib\\site-packages (from aiohttp->datasets) (2.1.1)\n",
      "Requirement already satisfied: frozenlist>=1.1.1 in c:\\users\\lucas\\appdata\\local\\programs\\python\\python310\\lib\\site-packages (from aiohttp->datasets) (1.3.1)\n",
      "Requirement already satisfied: aiosignal>=1.1.2 in c:\\users\\lucas\\appdata\\local\\programs\\python\\python310\\lib\\site-packages (from aiohttp->datasets) (1.2.0)\n",
      "Requirement already satisfied: typing-extensions>=3.7.4.3 in c:\\users\\lucas\\appdata\\local\\programs\\python\\python310\\lib\\site-packages (from huggingface-hub<1.0.0,>=0.1.0->datasets) (4.3.0)\n",
      "Requirement already satisfied: filelock in c:\\users\\lucas\\appdata\\local\\programs\\python\\python310\\lib\\site-packages (from huggingface-hub<1.0.0,>=0.1.0->datasets) (3.8.0)\n",
      "Requirement already satisfied: pyyaml>=5.1 in c:\\users\\lucas\\appdata\\local\\programs\\python\\python310\\lib\\site-packages (from huggingface-hub<1.0.0,>=0.1.0->datasets) (6.0)\n",
      "Requirement already satisfied: pyparsing!=3.0.5,>=2.0.2 in c:\\users\\lucas\\appdata\\local\\programs\\python\\python310\\lib\\site-packages (from packaging->datasets) (3.0.9)\n",
      "Requirement already satisfied: idna<4,>=2.5 in c:\\users\\lucas\\appdata\\local\\programs\\python\\python310\\lib\\site-packages (from requests>=2.19.0->datasets) (3.3)\n",
      "Requirement already satisfied: certifi>=2017.4.17 in c:\\users\\lucas\\appdata\\local\\programs\\python\\python310\\lib\\site-packages (from requests>=2.19.0->datasets) (2022.6.15.1)\n",
      "Requirement already satisfied: urllib3<1.27,>=1.21.1 in c:\\users\\lucas\\appdata\\local\\programs\\python\\python310\\lib\\site-packages (from requests>=2.19.0->datasets) (1.26.12)\n",
      "Requirement already satisfied: colorama in c:\\users\\lucas\\appdata\\local\\programs\\python\\python310\\lib\\site-packages (from tqdm>=4.62.1->datasets) (0.4.5)\n",
      "Requirement already satisfied: python-dateutil>=2.8.1 in c:\\users\\lucas\\appdata\\local\\programs\\python\\python310\\lib\\site-packages (from pandas->datasets) (2.8.2)\n",
      "Requirement already satisfied: pytz>=2020.1 in c:\\users\\lucas\\appdata\\local\\programs\\python\\python310\\lib\\site-packages (from pandas->datasets) (2022.2.1)\n",
      "Requirement already satisfied: six>=1.5 in c:\\users\\lucas\\appdata\\local\\programs\\python\\python310\\lib\\site-packages (from python-dateutil>=2.8.1->pandas->datasets) (1.16.0)\n",
      "Requirement already satisfied: transformers in c:\\users\\lucas\\appdata\\local\\programs\\python\\python310\\lib\\site-packages (4.21.3)\n",
      "Requirement already satisfied: huggingface-hub<1.0,>=0.1.0 in c:\\users\\lucas\\appdata\\local\\programs\\python\\python310\\lib\\site-packages (from transformers) (0.9.1)\n",
      "Requirement already satisfied: tokenizers!=0.11.3,<0.13,>=0.11.1 in c:\\users\\lucas\\appdata\\local\\programs\\python\\python310\\lib\\site-packages (from transformers) (0.12.1)\n",
      "Requirement already satisfied: packaging>=20.0 in c:\\users\\lucas\\appdata\\local\\programs\\python\\python310\\lib\\site-packages (from transformers) (21.3)\n",
      "Requirement already satisfied: regex!=2019.12.17 in c:\\users\\lucas\\appdata\\local\\programs\\python\\python310\\lib\\site-packages (from transformers) (2022.9.11)\n",
      "Requirement already satisfied: pyyaml>=5.1 in c:\\users\\lucas\\appdata\\local\\programs\\python\\python310\\lib\\site-packages (from transformers) (6.0)\n",
      "Requirement already satisfied: filelock in c:\\users\\lucas\\appdata\\local\\programs\\python\\python310\\lib\\site-packages (from transformers) (3.8.0)\n",
      "Requirement already satisfied: requests in c:\\users\\lucas\\appdata\\local\\programs\\python\\python310\\lib\\site-packages (from transformers) (2.28.1)\n",
      "Requirement already satisfied: numpy>=1.17 in c:\\users\\lucas\\appdata\\local\\programs\\python\\python310\\lib\\site-packages (from transformers) (1.23.3)\n",
      "Requirement already satisfied: tqdm>=4.27 in c:\\users\\lucas\\appdata\\local\\programs\\python\\python310\\lib\\site-packages (from transformers) (4.64.1)\n",
      "Requirement already satisfied: typing-extensions>=3.7.4.3 in c:\\users\\lucas\\appdata\\local\\programs\\python\\python310\\lib\\site-packages (from huggingface-hub<1.0,>=0.1.0->transformers) (4.3.0)\n",
      "Requirement already satisfied: pyparsing!=3.0.5,>=2.0.2 in c:\\users\\lucas\\appdata\\local\\programs\\python\\python310\\lib\\site-packages (from packaging>=20.0->transformers) (3.0.9)\n",
      "Requirement already satisfied: colorama in c:\\users\\lucas\\appdata\\local\\programs\\python\\python310\\lib\\site-packages (from tqdm>=4.27->transformers) (0.4.5)\n",
      "Requirement already satisfied: certifi>=2017.4.17 in c:\\users\\lucas\\appdata\\local\\programs\\python\\python310\\lib\\site-packages (from requests->transformers) (2022.6.15.1)\n",
      "Requirement already satisfied: urllib3<1.27,>=1.21.1 in c:\\users\\lucas\\appdata\\local\\programs\\python\\python310\\lib\\site-packages (from requests->transformers) (1.26.12)\n",
      "Requirement already satisfied: charset-normalizer<3,>=2 in c:\\users\\lucas\\appdata\\local\\programs\\python\\python310\\lib\\site-packages (from requests->transformers) (2.1.1)\n",
      "Requirement already satisfied: idna<4,>=2.5 in c:\\users\\lucas\\appdata\\local\\programs\\python\\python310\\lib\\site-packages (from requests->transformers) (3.3)\n"
     ]
    }
   ],
   "source": [
    "!pip install datasets\n",
    "!pip install transformers"
   ]
  },
  {
   "cell_type": "markdown",
   "metadata": {
    "id": "H5HL8Aswrbjo"
   },
   "source": [
    "## Importing libraries"
   ]
  },
  {
   "cell_type": "code",
   "execution_count": 94,
   "metadata": {
    "id": "lWTe6uMIA8Gu",
    "scrolled": true
   },
   "outputs": [],
   "source": [
    "import pandas as pd\n",
    "import torch\n",
    "import torch.nn as nn\n",
    "import numpy as np\n",
    "import tensorflow as tf\n",
    "import requests\n",
    "from tqdm.notebook import tqdm\n",
    "import os\n",
    "from sklearn.model_selection import train_test_split\n",
    "from sklearn.metrics import classification_report\n",
    "import datetime\n",
    "import json\n",
    "import pandas_datareader"
   ]
  },
  {
   "cell_type": "code",
   "execution_count": 3,
   "metadata": {},
   "outputs": [],
   "source": [
    "PATH = 'C:\\\\Users\\\\lucas\\\\Desktop\\\\Unipi\\\\HLT\\\\sentiment-analysis-crypto' "
   ]
  },
  {
   "cell_type": "markdown",
   "metadata": {
    "id": "QNc7p0Cg2Ucf"
   },
   "source": [
    "## Preprocessing labeled dataset used for fine tuning\n",
    "The dataset contains comments taken from various crypto subreddits crypto such as \"r/cryptocurrency\" (https://www.reddit.com/r/CryptoCurrency/) for the period of August 2021. The dataset was taken from SocialGrep which was responsible for the aggreagation and labeling of the comments (https://socialgrep.com/datasets/reddit-cryptocurrency-data-for-august-2021)."
   ]
  },
  {
   "cell_type": "code",
   "execution_count": 4,
   "metadata": {
    "id": "DoZPrCOeBUIp",
    "scrolled": true
   },
   "outputs": [],
   "source": [
    "# df = pd.read_csv(os.path.join(PATH,'crypto-aug-2021-comments.csv'))"
   ]
  },
  {
   "cell_type": "markdown",
   "metadata": {
    "id": "ugerq1R1pS2W"
   },
   "source": [
    "### Removing irrelevant columns\n",
    "\n",
    "We only keep the columns useful for the task which are: `body` and `sentiment`. "
   ]
  },
  {
   "cell_type": "code",
   "execution_count": 5,
   "metadata": {
    "id": "bhevfZNkpoob",
    "scrolled": true
   },
   "outputs": [],
   "source": [
    "# df.drop(labels=['type','id','subreddit.id','subreddit.name', 'subreddit.nsfw','created_utc', 'permalink', 'score'], axis=1, inplace=True)"
   ]
  },
  {
   "cell_type": "code",
   "execution_count": 6,
   "metadata": {
    "id": "8XiKSdeWJn9f",
    "scrolled": true
   },
   "outputs": [],
   "source": [
    "# df.info()"
   ]
  },
  {
   "cell_type": "markdown",
   "metadata": {
    "id": "HGbRWbDZHyu1"
   },
   "source": [
    "### Removing irrelevant comments\n",
    "Comments which have a body such as: \"[deleted\\]\" or \"[removed\\]\" mean that the content of the body is not available anymore, so every instance of such comments are removed from the dataset.\n",
    "Automatic comments made by bots on the subreddits are also removed from the dataset, in this way we keep only comments made by humans."
   ]
  },
  {
   "cell_type": "code",
   "execution_count": 7,
   "metadata": {
    "id": "o_KvajCTJSGt",
    "scrolled": true
   },
   "outputs": [],
   "source": [
    "# df['body']= df['body'].replace(r'\\n',' ', regex=True) "
   ]
  },
  {
   "cell_type": "code",
   "execution_count": 8,
   "metadata": {
    "id": "9F90KVWxLCkr",
    "scrolled": true
   },
   "outputs": [],
   "source": [
    "# df.body.value_counts()[:10]"
   ]
  },
  {
   "cell_type": "code",
   "execution_count": 52,
   "metadata": {
    "id": "tqvu_yyZJES8",
    "scrolled": true
   },
   "outputs": [
    {
     "ename": "AttributeError",
     "evalue": "'DataFrame' object has no attribute 'body'",
     "output_type": "error",
     "traceback": [
      "\u001b[1;31m---------------------------------------------------------------------------\u001b[0m",
      "\u001b[1;31mAttributeError\u001b[0m                            Traceback (most recent call last)",
      "Cell \u001b[1;32mIn [52], line 18\u001b[0m\n\u001b[0;32m     14\u001b[0m     dataframe\u001b[38;5;241m.\u001b[39mdrop(dataframe[dataframe\u001b[38;5;241m.\u001b[39mbody \u001b[38;5;241m==\u001b[39m comment]\u001b[38;5;241m.\u001b[39mindex, inplace\u001b[38;5;241m=\u001b[39m\u001b[38;5;28;01mTrue\u001b[39;00m)\n\u001b[0;32m     16\u001b[0m   \u001b[38;5;28mprint\u001b[39m(\u001b[38;5;124mf\u001b[39m\u001b[38;5;124m\"\u001b[39m\u001b[38;5;124mNumber of deleted rows with automatic comments: \u001b[39m\u001b[38;5;132;01m{\u001b[39;00msum_auto_comments\u001b[38;5;132;01m}\u001b[39;00m\u001b[38;5;124m\"\u001b[39m)\n\u001b[1;32m---> 18\u001b[0m \u001b[43mremove_comments\u001b[49m\u001b[43m(\u001b[49m\u001b[43mdf\u001b[49m\u001b[43m)\u001b[49m\n",
      "Cell \u001b[1;32mIn [52], line 2\u001b[0m, in \u001b[0;36mremove_comments\u001b[1;34m(dataframe)\u001b[0m\n\u001b[0;32m      1\u001b[0m \u001b[38;5;28;01mdef\u001b[39;00m \u001b[38;5;21mremove_comments\u001b[39m(dataframe):\n\u001b[1;32m----> 2\u001b[0m   \u001b[38;5;28mprint\u001b[39m(\u001b[38;5;124mf\u001b[39m\u001b[38;5;124m\"\u001b[39m\u001b[38;5;124mNumber of deleted rows: \u001b[39m\u001b[38;5;132;01m{\u001b[39;00m(dataframe\u001b[38;5;241m.\u001b[39mbody \u001b[38;5;241m==\u001b[39m \u001b[38;5;124m'\u001b[39m\u001b[38;5;124m[removed]\u001b[39m\u001b[38;5;124m'\u001b[39m)\u001b[38;5;241m.\u001b[39msum()\u001b[38;5;241m+\u001b[39m(dataframe\u001b[38;5;241m.\u001b[39mbody \u001b[38;5;241m==\u001b[39m \u001b[38;5;124m'\u001b[39m\u001b[38;5;124m[deleted]\u001b[39m\u001b[38;5;124m'\u001b[39m)\u001b[38;5;241m.\u001b[39msum()\u001b[38;5;132;01m}\u001b[39;00m\u001b[38;5;124m\"\u001b[39m)\n\u001b[0;32m      4\u001b[0m   dataframe\u001b[38;5;241m.\u001b[39mdrop(dataframe[(dataframe\u001b[38;5;241m.\u001b[39mbody \u001b[38;5;241m==\u001b[39m \u001b[38;5;124m\"\u001b[39m\u001b[38;5;124m[removed]\u001b[39m\u001b[38;5;124m\"\u001b[39m) \u001b[38;5;241m|\u001b[39m (dataframe\u001b[38;5;241m.\u001b[39mbody \u001b[38;5;241m==\u001b[39m \u001b[38;5;124m\"\u001b[39m\u001b[38;5;124m[deleted]\u001b[39m\u001b[38;5;124m\"\u001b[39m)]\u001b[38;5;241m.\u001b[39mindex, inplace\u001b[38;5;241m=\u001b[39m\u001b[38;5;28;01mTrue\u001b[39;00m)\n\u001b[0;32m      5\u001b[0m   sum_auto_comments \u001b[38;5;241m=\u001b[39m \u001b[38;5;241m0\u001b[39m\n",
      "File \u001b[1;32m~\\AppData\\Local\\Programs\\Python\\Python310\\lib\\site-packages\\pandas\\core\\generic.py:5575\u001b[0m, in \u001b[0;36mNDFrame.__getattr__\u001b[1;34m(self, name)\u001b[0m\n\u001b[0;32m   5568\u001b[0m \u001b[38;5;28;01mif\u001b[39;00m (\n\u001b[0;32m   5569\u001b[0m     name \u001b[38;5;129;01mnot\u001b[39;00m \u001b[38;5;129;01min\u001b[39;00m \u001b[38;5;28mself\u001b[39m\u001b[38;5;241m.\u001b[39m_internal_names_set\n\u001b[0;32m   5570\u001b[0m     \u001b[38;5;129;01mand\u001b[39;00m name \u001b[38;5;129;01mnot\u001b[39;00m \u001b[38;5;129;01min\u001b[39;00m \u001b[38;5;28mself\u001b[39m\u001b[38;5;241m.\u001b[39m_metadata\n\u001b[0;32m   5571\u001b[0m     \u001b[38;5;129;01mand\u001b[39;00m name \u001b[38;5;129;01mnot\u001b[39;00m \u001b[38;5;129;01min\u001b[39;00m \u001b[38;5;28mself\u001b[39m\u001b[38;5;241m.\u001b[39m_accessors\n\u001b[0;32m   5572\u001b[0m     \u001b[38;5;129;01mand\u001b[39;00m \u001b[38;5;28mself\u001b[39m\u001b[38;5;241m.\u001b[39m_info_axis\u001b[38;5;241m.\u001b[39m_can_hold_identifiers_and_holds_name(name)\n\u001b[0;32m   5573\u001b[0m ):\n\u001b[0;32m   5574\u001b[0m     \u001b[38;5;28;01mreturn\u001b[39;00m \u001b[38;5;28mself\u001b[39m[name]\n\u001b[1;32m-> 5575\u001b[0m \u001b[38;5;28;01mreturn\u001b[39;00m \u001b[38;5;28;43mobject\u001b[39;49m\u001b[38;5;241;43m.\u001b[39;49m\u001b[38;5;21;43m__getattribute__\u001b[39;49m\u001b[43m(\u001b[49m\u001b[38;5;28;43mself\u001b[39;49m\u001b[43m,\u001b[49m\u001b[43m \u001b[49m\u001b[43mname\u001b[49m\u001b[43m)\u001b[49m\n",
      "\u001b[1;31mAttributeError\u001b[0m: 'DataFrame' object has no attribute 'body'"
     ]
    }
   ],
   "source": [
    "def remove_comments(dataframe):\n",
    "  print(f\"Number of deleted rows: {(dataframe.body == '[removed]').sum()+(dataframe.body == '[deleted]').sum()}\")\n",
    "\n",
    "  dataframe.drop(dataframe[(dataframe.body == \"[removed]\") | (dataframe.body == \"[deleted]\")].index, inplace=True)\n",
    "  sum_auto_comments = 0\n",
    "  auto_comments = []\n",
    "\n",
    "  with open(os.path.join(PATH, \"auto_comments.txt\"), encoding=\"utf8\") as fp:\n",
    "    lines = fp.read().splitlines()\n",
    "    for line in lines:\n",
    "        auto_comments.append(line)\n",
    "  for comment in auto_comments:\n",
    "    sum_auto_comments += (dataframe.body == comment).sum()\n",
    "    dataframe.drop(dataframe[dataframe.body == comment].index, inplace=True)\n",
    "\n",
    "  print(f\"Number of deleted rows with automatic comments: {sum_auto_comments}\")\n",
    "\n",
    "remove_comments(df)\n"
   ]
  },
  {
   "cell_type": "code",
   "execution_count": 10,
   "metadata": {
    "id": "-fvnR2y7DCS3",
    "scrolled": true
   },
   "outputs": [],
   "source": [
    "# df.body.value_counts()[:10]"
   ]
  },
  {
   "cell_type": "markdown",
   "metadata": {
    "id": "crt5bldbpwPJ"
   },
   "source": [
    "We also keep only unique comments which are 512 characters or shorter."
   ]
  },
  {
   "cell_type": "code",
   "execution_count": 11,
   "metadata": {
    "id": "RE14q-vf8saq",
    "scrolled": true
   },
   "outputs": [],
   "source": [
    "# df = df.dropna()\n",
    "# df = df[df['body'].apply(lambda x: len(x) <= 512) ]"
   ]
  },
  {
   "cell_type": "markdown",
   "metadata": {
    "id": "pd6Ft4ikqTIf"
   },
   "source": [
    "### Renaming the columns\n",
    "We rename the columns to keep them consistent with the `datasets.Dataset`\n",
    "implementation"
   ]
  },
  {
   "cell_type": "code",
   "execution_count": 12,
   "metadata": {
    "id": "PPeXapxsqSTG",
    "scrolled": true
   },
   "outputs": [],
   "source": [
    "# df.rename(columns={\"sentiment\":\"labels\",\"body\":\"text\"}, inplace=True)\n",
    "# df.reset_index(drop=True, inplace=True)"
   ]
  },
  {
   "cell_type": "code",
   "execution_count": 13,
   "metadata": {
    "id": "hH8g-YkoB21K",
    "scrolled": true
   },
   "outputs": [],
   "source": [
    "# n_rows_before = df.shape[0]\n",
    "# df.drop_duplicates(subset=\"text\", inplace=True)\n",
    "# print(f\"Unique {df.shape[0]} rows out of {n_rows_before} rows\")"
   ]
  },
  {
   "cell_type": "markdown",
   "metadata": {
    "id": "agmfTMX0B21K"
   },
   "source": [
    "### Save dataframe"
   ]
  },
  {
   "cell_type": "code",
   "execution_count": 14,
   "metadata": {
    "id": "CmDNt28UB21L",
    "scrolled": true
   },
   "outputs": [],
   "source": [
    "# df.to_csv(os.path.join(PATH, \"preprocessed_df.csv\"))"
   ]
  },
  {
   "cell_type": "code",
   "execution_count": 15,
   "metadata": {
    "id": "yP1vLUcOB21L",
    "scrolled": true
   },
   "outputs": [],
   "source": [
    "df = pd.read_csv(os.path.join(PATH, \"preprocessed_df.csv\"), index_col=0)"
   ]
  },
  {
   "cell_type": "markdown",
   "metadata": {
    "id": "n0GAFTn3B21M"
   },
   "source": [
    "### Sampling the dataframe"
   ]
  },
  {
   "cell_type": "markdown",
   "metadata": {
    "id": "11iwpwZk9EcW"
   },
   "source": [
    "Finally we take a sample of the original dataset which we will then divided into training set, test set and evaluation set."
   ]
  },
  {
   "cell_type": "code",
   "execution_count": 16,
   "metadata": {
    "colab": {
     "base_uri": "https://localhost:8080/"
    },
    "id": "NyjucgKesZVW",
    "outputId": "6eab52dc-a676-47d8-ba42-91a14b722943",
    "scrolled": true
   },
   "outputs": [
    {
     "name": "stdout",
     "output_type": "stream",
     "text": [
      "Sample of 300000 rows out of 2533454 rows\n"
     ]
    }
   ],
   "source": [
    "n_sample = 300000\n",
    "\n",
    "df_sample = df.sample(n=n_sample, random_state=42)\n",
    "print(f\"Sample of {df_sample.shape[0]} rows out of {df.shape[0]} rows\")"
   ]
  },
  {
   "cell_type": "code",
   "execution_count": 17,
   "metadata": {
    "id": "nlaQYz_zB21M",
    "scrolled": true
   },
   "outputs": [],
   "source": [
    "df = df_sample.copy()"
   ]
  },
  {
   "cell_type": "markdown",
   "metadata": {
    "id": "ZfuqN09SB21M"
   },
   "source": [
    "The labels are converted from float to integers where 0 is a **negative** comment, 1 is a **positive** comment and 2 is a **neutral** one."
   ]
  },
  {
   "cell_type": "code",
   "execution_count": 18,
   "metadata": {
    "id": "LU4FutCzB21N",
    "scrolled": true
   },
   "outputs": [],
   "source": [
    "df.loc[df_sample['labels'] > 0, 'labels'] = 1 #POSITIVE\n",
    "df.loc[df_sample['labels'] == 0, 'labels'] = 2 #NEUTRAL\n",
    "df.loc[df_sample['labels'] < 0, 'labels'] = 0 #NEGATIVE"
   ]
  },
  {
   "cell_type": "markdown",
   "metadata": {
    "id": "EoGq5F4HB21N"
   },
   "source": [
    "We keep the dataset balanced, in this way we will have the same amount of negative, positive and neutral comments."
   ]
  },
  {
   "cell_type": "code",
   "execution_count": 19,
   "metadata": {
    "id": "b4r4n3pzB21N",
    "scrolled": true
   },
   "outputs": [],
   "source": [
    "df = (df.groupby('labels', as_index=False)\n",
    "        .apply(lambda x: x.sample(n=30000, random_state=69))\n",
    "        .reset_index(drop=True))"
   ]
  },
  {
   "cell_type": "code",
   "execution_count": 20,
   "metadata": {
    "id": "XH9RxMJ9B21O",
    "scrolled": true
   },
   "outputs": [],
   "source": [
    "df.reset_index(drop=True, inplace=True)"
   ]
  },
  {
   "cell_type": "code",
   "execution_count": 21,
   "metadata": {
    "colab": {
     "base_uri": "https://localhost:8080/"
    },
    "id": "8ZXCZR4VB21O",
    "outputId": "2f27e02e-46f8-4314-ceb4-c90509c1a062",
    "scrolled": true
   },
   "outputs": [
    {
     "data": {
      "text/plain": [
       "0.0    30000\n",
       "1.0    30000\n",
       "2.0    30000\n",
       "Name: labels, dtype: int64"
      ]
     },
     "execution_count": 21,
     "metadata": {},
     "output_type": "execute_result"
    }
   ],
   "source": [
    "df['labels'].value_counts()"
   ]
  },
  {
   "cell_type": "code",
   "execution_count": 22,
   "metadata": {
    "id": "sF9_aIhKL-qL"
   },
   "outputs": [],
   "source": [
    "df_dev, df_test = train_test_split(df, test_size=0.3, random_state=69)\n",
    "df_train, df_val = train_test_split(df_dev, test_size=0.2, random_state=69)"
   ]
  },
  {
   "cell_type": "code",
   "execution_count": 23,
   "metadata": {
    "id": "Nb-K622-Ja7U"
   },
   "outputs": [],
   "source": [
    "df_train.to_csv(os.path.join(PATH, \"df_train.csv\"), index=False)\n",
    "df_val.to_csv(os.path.join(PATH, \"df_val.csv\"), index=False)\n",
    "df_test.to_csv(os.path.join(PATH, \"df_test.csv\"), index=False)"
   ]
  },
  {
   "cell_type": "markdown",
   "metadata": {
    "id": "PUmf_mrBOSeP"
   },
   "source": [
    "### Prepare dataset"
   ]
  },
  {
   "cell_type": "markdown",
   "metadata": {
    "id": "t3ZtrmEFB21O"
   },
   "source": [
    "The dataframe is converted to the Dataset format accepted by the Huggingface model."
   ]
  },
  {
   "cell_type": "code",
   "execution_count": 24,
   "metadata": {
    "id": "21pqu67nUdgH",
    "scrolled": true
   },
   "outputs": [],
   "source": [
    "from datasets import Dataset, load_dataset, Value, ClassLabel, Features\n",
    "\n",
    "schema = Features({'text': Value(dtype='string', id=None),\n",
    " 'labels': ClassLabel(num_classes=3, id=None),\n",
    "}) #defining the schema we make sure that the Dataset is well built \n",
    "\n",
    "dataset_all = Dataset.from_pandas(df, schema)"
   ]
  },
  {
   "cell_type": "markdown",
   "metadata": {
    "id": "IuDW9B1KB21P"
   },
   "source": [
    "The dataset is partitioned into training set (70%) and evaluation set (30%)."
   ]
  },
  {
   "cell_type": "code",
   "execution_count": 25,
   "metadata": {
    "id": "ukXGJfxgB21P",
    "scrolled": true
   },
   "outputs": [],
   "source": [
    "dataset = dataset_all.train_test_split(test_size=0.3,seed=69)"
   ]
  },
  {
   "cell_type": "code",
   "execution_count": 26,
   "metadata": {
    "id": "CSI--_MEsbQ6"
   },
   "outputs": [],
   "source": [
    "dataset_train = dataset_all.train_test_split(test_size=0.2,seed=69)"
   ]
  },
  {
   "cell_type": "code",
   "execution_count": 27,
   "metadata": {
    "colab": {
     "base_uri": "https://localhost:8080/"
    },
    "id": "WNd2P2aaB21P",
    "outputId": "a36bc4a6-dbfd-4271-c9eb-2a14ad949712",
    "scrolled": true
   },
   "outputs": [
    {
     "data": {
      "text/plain": [
       "Dataset({\n",
       "    features: ['text', 'labels'],\n",
       "    num_rows: 72000\n",
       "})"
      ]
     },
     "execution_count": 27,
     "metadata": {},
     "output_type": "execute_result"
    }
   ],
   "source": [
    "dataset_train[\"train\"]"
   ]
  },
  {
   "cell_type": "markdown",
   "metadata": {
    "id": "uadm6Q7K7kbV"
   },
   "source": [
    "### Tokenize the dataset"
   ]
  },
  {
   "cell_type": "markdown",
   "metadata": {
    "id": "uxJI481gB21Q"
   },
   "source": [
    "We tokenize the dataset using the appropriate tokenizer provided by the *transformers* module."
   ]
  },
  {
   "cell_type": "code",
   "execution_count": 28,
   "metadata": {
    "colab": {
     "base_uri": "https://localhost:8080/",
     "height": 407,
     "referenced_widgets": [
      "84ab62c21647474fb5cc3d6c2372f7d9",
      "f30100470b18440bbca94852b5823295",
      "d3a6e709ef89454baeac90961e1f6d0f",
      "a8e68dd52f354b5daf95c3314fb92682",
      "3cc3407305ca48b9a41a7c4b345a40bb",
      "9ec5034e4cad4b8483be9984473b5729",
      "a74b6551817f45bbbdb50ee9b554242f",
      "41663766b96f43c282afecaab1004eb7",
      "134960e09272435789e15d8446a1ac89",
      "53746223590447cb9e60eb049d038abb",
      "20b7564678d247e49bef493ca78de5cb",
      "b6cea28f892e42248f66240a923e2fd9",
      "8ad6b5a11ea543339bef802a5698606c",
      "40eed408025a42c897e7bf4815997a8e",
      "5e66258543b44fb58eef2611cc6cdc98",
      "2cc907e64f0f45f2b0b95a158b61109e",
      "fa6c9c457eed44a2b7e40d5eb88c908f",
      "5a98e96e7a6d4df4a9354e7d4a1645eb",
      "d9c9178852c14f258afa41be2229e0ce",
      "1ff19e2d87844790a83fdef70033b00a",
      "f0053ff30ab9492c93eced0e3d2cbcf5",
      "341eb1bf11d54348949b7f456644009c",
      "37ef23e66238488a95232b56c27e7c78",
      "ac7ebaed96474810a50b836746a54f67",
      "e61f353a47e249f19fa1b54f4c848dd6",
      "97a369a7b9fa4cafb1f4b83f96b2a609",
      "1b879c3f5895471fb1bf677a8d30fca3",
      "bbfecb6e4d9f4e76a45d2d326374b336",
      "e31979a55d1841039285937de6624ac2",
      "f3071910b488485abcef61ddd22a05c5",
      "d9b7ac8126eb455faa66a5a8873b72f5",
      "2cda41ce0e8e41caafcc980e472642eb",
      "f24bd2d2bbf74f4a972b5e82fd074716",
      "69c645ebbeb04a0489354c6be9a26ba1",
      "fad96a3d7c7642fbb30ccc4a6d83f398",
      "19ffed1c3b734c5bac15c6fd27c5fd04",
      "975950f5c80344c9a6f05738e9527bde",
      "b14c0603c58a4e828e782757f0bda2dc",
      "5cc71f962fb64ef7bd6000aa18c48ed2",
      "a0a6138b9b9e4f6583e83fb8de8678ed",
      "15efdb83a5054e7f864c30ceeeb18e76",
      "a220c312efe640e6826254a402deb31c",
      "7eb7e291fcae41dc9b6198c18d04410d",
      "5d62ac1102604fe08107ef28e0958735",
      "45ee039a48f640cd8f09342756f2b76e",
      "7bba9350d5924f74acca66a03e24068f",
      "401f9d39f0ff47d0a72decc3abe0a3a6",
      "3e847e07eaaa4ff0b536a6cf0c9c176b",
      "372906eae2c84c168f9db4a0c50b7f68",
      "07cb42ad929f46198267480eb9e4837e",
      "c9d8523a488e4d0c888742c6d9b57ff5",
      "e59a7e2367134342a7b74038137940c8",
      "3c4c058f850e4f5da4c6b9fffe1c96b0",
      "11f574784caa4b4aa204fe20132c790b",
      "71cccef224d548a6994d666e43df85ea",
      "4594aeaf02c84de79094c94e3858bde4",
      "1998e47552714d5ab131b7788ac579e9",
      "04ffb2def7b942e282d4f6b1977acfd4",
      "a073d1b3d5de44f89bac89f1bd4ddafb",
      "8003ceec35a14d0b8fcfd8fe6d94098f",
      "ab6d3955ae4f4d469f2c3880d56888df",
      "4bff46612cbd44749043fa76922f1415",
      "1c3cbc53065b44ae8f07b9f956313dcf",
      "e3372bf1c8644e2cb1830a9a6c3729c1",
      "3a3a298c65fc4524b3fde3ff4c05f06e",
      "63dbc997ba9d4e3092484d5798cc13e0",
      "69b4a5c846b048e7aa134a6d716c08ca",
      "61177a57e55741f49d2c1bdb3b318e7c",
      "eef39141670948caa72973b08a000b84",
      "cabff1292ba6461f9557f1075b1b3853",
      "0703a0d945fb4162a419823ad12a70e3",
      "6dff47cc71d741a99ebb3c985d256093",
      "8c278d427a4a48ddaf0f6f595976fb1e",
      "91245321f04e4a1db990b7146c58b06d",
      "bcb4b15ab9ff4485a829c9be0fa836c2",
      "2d6d1a0b217d49f8b3024aec90224d46",
      "a86019d2250b4dc482de0ccf7c19dad3",
      "20a0c594f94d43aa91f6ecf60bae1c14",
      "747b2ec2cf19406280ebb562acb3170b",
      "f33b6aba4ee44c388e0e0448d1102287",
      "3798ff03b2e6471b9bb6bea1d010ea8f",
      "03f3634718884deea7bd5cdf53eb0ec0",
      "b96601d38af24183a9e0d8b1856afad6",
      "2b7668b6ecc54d12be5c05eca4955604",
      "3e01406b94574a9cbd8cee9635435a3a",
      "6ae494790bcf4194aa266dadfe96d5c8",
      "16a6e1b8ff7a46a5bce54079e3d7fb77",
      "ed9fd1495cfa4b9eb87a0ef01099f87a",
      "41d58f4202f148ec83f2721bc3cbb03c",
      "03db802f49ef4363accbe1c2e734e2f1",
      "b57307190c31436aa24020d49ead64e2",
      "f44ac8133fcc463d93d76b7c2e1cc4c4",
      "1f572fa07acb4c4dbff0e748d0efac66",
      "39569c0c8fd94e63bd234bb158cbb4c3",
      "4f2a756b9eea464292d29b1e5d140a7c",
      "90337933bb7749ecaa3a94967f20e0ab",
      "922e4e77be234cbdb12f0b47ad7551f0",
      "b8eecfaa3bc34fdb9110fde5864b89da",
      "38f9128f6bc341cea95eb6fdcf657cdc",
      "17969bde0fab4e44a76e4a396e059a69",
      "c30b8fe9cb4f459685ec434baf0796cf",
      "d862feaa70694ad1b10760f79b5c3892",
      "d17b936d29724137a18969b6ee79bc24",
      "ea02378d8184489882e59a880f0a56fe",
      "8d0c2f939f0f4fe08854923067e4432d",
      "5f1fa1d023ad4fb7a6c14c9e8e9bc2a9",
      "bb2b4127332a465684175f32efcd176e",
      "5aaa6bb220194387942505d7d7f4b186",
      "ffe192b8b3314efe9b171217a885b8ad",
      "3b6c5363b81b49b5950eefe50b59dcbc",
      "82e401fb98d54866aa294f65914a7d71",
      "04ba955913534ad5a1e4e847480e0d4d",
      "8621990c73fe49998072586290d5e66a",
      "37b391285b3442859a8ac1cb7757fbf9",
      "6be30a7eb06b498bbd3d44f5dfaf5e4a",
      "2eaa5934225e49d495f46e35843362d3",
      "a983874877984f96b0439358be2bf3e8",
      "dec96f849a624bc2b13f9c20966421b3",
      "5072e1ee1be14beea4f766db38a6e715",
      "d186e2356e054a3083e0734db63ab327",
      "c1b5fe38f6bf4270baffb2c30cce2898"
     ]
    },
    "id": "Bky-uTRRSCRZ",
    "outputId": "2d29261c-b928-4236-c334-65cbb55aac69",
    "scrolled": true
   },
   "outputs": [
    {
     "name": "stderr",
     "output_type": "stream",
     "text": [
      "100%|██████████████████████████████████████████████████████████████████████████████████| 72/72 [00:21<00:00,  3.39ba/s]\n",
      "100%|██████████████████████████████████████████████████████████████████████████████████| 18/18 [00:05<00:00,  3.35ba/s]\n",
      "100%|██████████████████████████████████████████████████████████████████████████████████| 27/27 [00:08<00:00,  3.32ba/s]\n"
     ]
    }
   ],
   "source": [
    "from transformers import DistilBertTokenizer\n",
    "\n",
    "tokenizer = DistilBertTokenizer.from_pretrained(\"distilbert-base-uncased\")\n",
    "\n",
    "def tokenize_function(examples):\n",
    "    return tokenizer(examples[\"text\"], padding=\"max_length\", truncation=True)\n",
    "\n",
    "\n",
    "tok_ds_train = dataset_train[\"train\"].map(tokenize_function, batched=True)\n",
    "tok_ds_val = dataset_train[\"test\"].map(tokenize_function, batched=True)\n",
    "tok_ds_test = dataset[\"test\"].map(tokenize_function, batched=True)\n",
    "\n",
    "tok_ds_train = tok_ds_train.remove_columns([\"text\"])\n",
    "tok_ds_test = tok_ds_test.remove_columns([\"text\"])\n",
    "tok_ds_val = tok_ds_val.remove_columns([\"text\"])"
   ]
  },
  {
   "cell_type": "markdown",
   "metadata": {
    "id": "_6E53Ng67z4s"
   },
   "source": [
    "## Fine-tune DistilBERT model"
   ]
  },
  {
   "cell_type": "code",
   "execution_count": 29,
   "metadata": {
    "id": "pVGJ-C_II9uU"
   },
   "outputs": [],
   "source": [
    "from torch.utils.data import DataLoader\n",
    "\n",
    "tok_ds_train.set_format(\"pt\")\n",
    "tok_ds_test.set_format(\"pt\")\n",
    "tok_ds_val.set_format(\"pt\")\n",
    "\n",
    "train_dataloader = DataLoader(tok_ds_train, shuffle=True, batch_size=10)\n",
    "test_dataloader = DataLoader(tok_ds_test, batch_size=10)\n",
    "val_dataloader = DataLoader(tok_ds_val, batch_size=10)\n"
   ]
  },
  {
   "cell_type": "code",
   "execution_count": 30,
   "metadata": {
    "id": "xHNDgErnRdSg"
   },
   "outputs": [],
   "source": [
    "# class Classifier(nn.Module):\n",
    "#     def __init__(self, num_units, activation_fun, hidden_layers):\n",
    "#         super(Classifier, self).__init__()\n",
    "        \n",
    "#         if(activation_fun == \"sigmoid\"):\n",
    "#             activation_fun = nn.Sigmoid()\n",
    "#         elif activation_fun == \"relu\":\n",
    "#             activation_fun = nn.ReLU()\n",
    "#         elif activation_fun == \"tanh\":\n",
    "#             activation_fun = nn.Tanh()\n",
    "            \n",
    "#         if hidden_layers == 2:\n",
    "#             self.linear_stack = nn.Sequential(\n",
    "#                 nn.Linear(768, num_units),\n",
    "#                 activation_fun,\n",
    "#                 nn.Linear(num_units, num_units),\n",
    "#             )\n",
    "#         elif hidden_layers == 1:\n",
    "#             self.linear_stack = nn.Sequential(\n",
    "#                 nn.Linear(768, num_units),\n",
    "#             )     \n",
    "\n",
    "#     def forward(self, x):\n",
    "#         X = self.linear_stack(x)\n",
    "#         return X\n",
    "    \n",
    "#     def predict(self, x):\n",
    "#         X = self.linear_stack(x)\n",
    "#         return X"
   ]
  },
  {
   "cell_type": "code",
   "execution_count": 31,
   "metadata": {
    "id": "qFt7-1GIRxpy"
   },
   "outputs": [],
   "source": [
    "# myclassifier = Classifier(500, 'relu', 2)"
   ]
  },
  {
   "cell_type": "code",
   "execution_count": 32,
   "metadata": {
    "colab": {
     "base_uri": "https://localhost:8080/",
     "height": 121,
     "referenced_widgets": [
      "f9e52a74fa764f9f9f3513c890cf87ee",
      "945f2d7383f24592aa346cb9de625567",
      "d9a2b1d92e534de381f9222bdc5a5100",
      "347f86e41cf1445d92afeb3699f984e8",
      "ca65cb9c7b4b4612965aea1b0fe25433",
      "65a7820841fd4e6e93270ec9548f9511",
      "7f66dea3d99f41e786ccd01fa4abf25a",
      "5d29c5e8cbe44a44927e90afa4cffadd",
      "80134e1d133347e4aafe3c24462efd26",
      "f960adfc410f49f7989d308750a8c8fe",
      "fcca736a70db41c4868e763e1dcd70eb"
     ]
    },
    "id": "rFVa7RT4QWDl",
    "outputId": "9490b6c0-96cd-4026-cf9f-8e7b6fd7d066"
   },
   "outputs": [
    {
     "name": "stderr",
     "output_type": "stream",
     "text": [
      "Some weights of the model checkpoint at distilbert-base-uncased were not used when initializing DistilBertForSequenceClassification: ['vocab_transform.bias', 'vocab_projector.weight', 'vocab_layer_norm.weight', 'vocab_transform.weight', 'vocab_projector.bias', 'vocab_layer_norm.bias']\n",
      "- This IS expected if you are initializing DistilBertForSequenceClassification from the checkpoint of a model trained on another task or with another architecture (e.g. initializing a BertForSequenceClassification model from a BertForPreTraining model).\n",
      "- This IS NOT expected if you are initializing DistilBertForSequenceClassification from the checkpoint of a model that you expect to be exactly identical (initializing a BertForSequenceClassification model from a BertForSequenceClassification model).\n",
      "Some weights of DistilBertForSequenceClassification were not initialized from the model checkpoint at distilbert-base-uncased and are newly initialized: ['pre_classifier.weight', 'pre_classifier.bias', 'classifier.weight', 'classifier.bias']\n",
      "You should probably TRAIN this model on a down-stream task to be able to use it for predictions and inference.\n"
     ]
    }
   ],
   "source": [
    "from transformers import DistilBertForSequenceClassification\n",
    "\n",
    "distilbert_model = DistilBertForSequenceClassification.from_pretrained(\n",
    "    \"distilbert-base-uncased\", num_labels=3)\n",
    "# distilbert_model.pre_classifier = myclassifier\n",
    "# distilbert_model.classifier = nn.Linear(500, 3)"
   ]
  },
  {
   "cell_type": "code",
   "execution_count": 33,
   "metadata": {
    "colab": {
     "base_uri": "https://localhost:8080/"
    },
    "id": "Q8UCJifMJrib",
    "outputId": "4aea9967-99cf-402f-85a9-633114e6fb02"
   },
   "outputs": [
    {
     "name": "stdout",
     "output_type": "stream",
     "text": [
      "0 -> DistilBertForSequenceClassification(\n",
      "  (distilbert): DistilBertModel(\n",
      "    (embeddings): Embeddings(\n",
      "      (word_embeddings): Embedding(30522, 768, padding_idx=0)\n",
      "      (position_embeddings): Embedding(512, 768)\n",
      "      (LayerNorm): LayerNorm((768,), eps=1e-12, elementwise_affine=True)\n",
      "      (dropout): Dropout(p=0.1, inplace=False)\n",
      "    )\n",
      "    (transformer): Transformer(\n",
      "      (layer): ModuleList(\n",
      "        (0): TransformerBlock(\n",
      "          (attention): MultiHeadSelfAttention(\n",
      "            (dropout): Dropout(p=0.1, inplace=False)\n",
      "            (q_lin): Linear(in_features=768, out_features=768, bias=True)\n",
      "            (k_lin): Linear(in_features=768, out_features=768, bias=True)\n",
      "            (v_lin): Linear(in_features=768, out_features=768, bias=True)\n",
      "            (out_lin): Linear(in_features=768, out_features=768, bias=True)\n",
      "          )\n",
      "          (sa_layer_norm): LayerNorm((768,), eps=1e-12, elementwise_affine=True)\n",
      "          (ffn): FFN(\n",
      "            (dropout): Dropout(p=0.1, inplace=False)\n",
      "            (lin1): Linear(in_features=768, out_features=3072, bias=True)\n",
      "            (lin2): Linear(in_features=3072, out_features=768, bias=True)\n",
      "            (activation): GELUActivation()\n",
      "          )\n",
      "          (output_layer_norm): LayerNorm((768,), eps=1e-12, elementwise_affine=True)\n",
      "        )\n",
      "        (1): TransformerBlock(\n",
      "          (attention): MultiHeadSelfAttention(\n",
      "            (dropout): Dropout(p=0.1, inplace=False)\n",
      "            (q_lin): Linear(in_features=768, out_features=768, bias=True)\n",
      "            (k_lin): Linear(in_features=768, out_features=768, bias=True)\n",
      "            (v_lin): Linear(in_features=768, out_features=768, bias=True)\n",
      "            (out_lin): Linear(in_features=768, out_features=768, bias=True)\n",
      "          )\n",
      "          (sa_layer_norm): LayerNorm((768,), eps=1e-12, elementwise_affine=True)\n",
      "          (ffn): FFN(\n",
      "            (dropout): Dropout(p=0.1, inplace=False)\n",
      "            (lin1): Linear(in_features=768, out_features=3072, bias=True)\n",
      "            (lin2): Linear(in_features=3072, out_features=768, bias=True)\n",
      "            (activation): GELUActivation()\n",
      "          )\n",
      "          (output_layer_norm): LayerNorm((768,), eps=1e-12, elementwise_affine=True)\n",
      "        )\n",
      "        (2): TransformerBlock(\n",
      "          (attention): MultiHeadSelfAttention(\n",
      "            (dropout): Dropout(p=0.1, inplace=False)\n",
      "            (q_lin): Linear(in_features=768, out_features=768, bias=True)\n",
      "            (k_lin): Linear(in_features=768, out_features=768, bias=True)\n",
      "            (v_lin): Linear(in_features=768, out_features=768, bias=True)\n",
      "            (out_lin): Linear(in_features=768, out_features=768, bias=True)\n",
      "          )\n",
      "          (sa_layer_norm): LayerNorm((768,), eps=1e-12, elementwise_affine=True)\n",
      "          (ffn): FFN(\n",
      "            (dropout): Dropout(p=0.1, inplace=False)\n",
      "            (lin1): Linear(in_features=768, out_features=3072, bias=True)\n",
      "            (lin2): Linear(in_features=3072, out_features=768, bias=True)\n",
      "            (activation): GELUActivation()\n",
      "          )\n",
      "          (output_layer_norm): LayerNorm((768,), eps=1e-12, elementwise_affine=True)\n",
      "        )\n",
      "        (3): TransformerBlock(\n",
      "          (attention): MultiHeadSelfAttention(\n",
      "            (dropout): Dropout(p=0.1, inplace=False)\n",
      "            (q_lin): Linear(in_features=768, out_features=768, bias=True)\n",
      "            (k_lin): Linear(in_features=768, out_features=768, bias=True)\n",
      "            (v_lin): Linear(in_features=768, out_features=768, bias=True)\n",
      "            (out_lin): Linear(in_features=768, out_features=768, bias=True)\n",
      "          )\n",
      "          (sa_layer_norm): LayerNorm((768,), eps=1e-12, elementwise_affine=True)\n",
      "          (ffn): FFN(\n",
      "            (dropout): Dropout(p=0.1, inplace=False)\n",
      "            (lin1): Linear(in_features=768, out_features=3072, bias=True)\n",
      "            (lin2): Linear(in_features=3072, out_features=768, bias=True)\n",
      "            (activation): GELUActivation()\n",
      "          )\n",
      "          (output_layer_norm): LayerNorm((768,), eps=1e-12, elementwise_affine=True)\n",
      "        )\n",
      "        (4): TransformerBlock(\n",
      "          (attention): MultiHeadSelfAttention(\n",
      "            (dropout): Dropout(p=0.1, inplace=False)\n",
      "            (q_lin): Linear(in_features=768, out_features=768, bias=True)\n",
      "            (k_lin): Linear(in_features=768, out_features=768, bias=True)\n",
      "            (v_lin): Linear(in_features=768, out_features=768, bias=True)\n",
      "            (out_lin): Linear(in_features=768, out_features=768, bias=True)\n",
      "          )\n",
      "          (sa_layer_norm): LayerNorm((768,), eps=1e-12, elementwise_affine=True)\n",
      "          (ffn): FFN(\n",
      "            (dropout): Dropout(p=0.1, inplace=False)\n",
      "            (lin1): Linear(in_features=768, out_features=3072, bias=True)\n",
      "            (lin2): Linear(in_features=3072, out_features=768, bias=True)\n",
      "            (activation): GELUActivation()\n",
      "          )\n",
      "          (output_layer_norm): LayerNorm((768,), eps=1e-12, elementwise_affine=True)\n",
      "        )\n",
      "        (5): TransformerBlock(\n",
      "          (attention): MultiHeadSelfAttention(\n",
      "            (dropout): Dropout(p=0.1, inplace=False)\n",
      "            (q_lin): Linear(in_features=768, out_features=768, bias=True)\n",
      "            (k_lin): Linear(in_features=768, out_features=768, bias=True)\n",
      "            (v_lin): Linear(in_features=768, out_features=768, bias=True)\n",
      "            (out_lin): Linear(in_features=768, out_features=768, bias=True)\n",
      "          )\n",
      "          (sa_layer_norm): LayerNorm((768,), eps=1e-12, elementwise_affine=True)\n",
      "          (ffn): FFN(\n",
      "            (dropout): Dropout(p=0.1, inplace=False)\n",
      "            (lin1): Linear(in_features=768, out_features=3072, bias=True)\n",
      "            (lin2): Linear(in_features=3072, out_features=768, bias=True)\n",
      "            (activation): GELUActivation()\n",
      "          )\n",
      "          (output_layer_norm): LayerNorm((768,), eps=1e-12, elementwise_affine=True)\n",
      "        )\n",
      "      )\n",
      "    )\n",
      "  )\n",
      "  (pre_classifier): Linear(in_features=768, out_features=768, bias=True)\n",
      "  (classifier): Linear(in_features=768, out_features=3, bias=True)\n",
      "  (dropout): Dropout(p=0.2, inplace=False)\n",
      ")\n",
      "1 -> DistilBertModel(\n",
      "  (embeddings): Embeddings(\n",
      "    (word_embeddings): Embedding(30522, 768, padding_idx=0)\n",
      "    (position_embeddings): Embedding(512, 768)\n",
      "    (LayerNorm): LayerNorm((768,), eps=1e-12, elementwise_affine=True)\n",
      "    (dropout): Dropout(p=0.1, inplace=False)\n",
      "  )\n",
      "  (transformer): Transformer(\n",
      "    (layer): ModuleList(\n",
      "      (0): TransformerBlock(\n",
      "        (attention): MultiHeadSelfAttention(\n",
      "          (dropout): Dropout(p=0.1, inplace=False)\n",
      "          (q_lin): Linear(in_features=768, out_features=768, bias=True)\n",
      "          (k_lin): Linear(in_features=768, out_features=768, bias=True)\n",
      "          (v_lin): Linear(in_features=768, out_features=768, bias=True)\n",
      "          (out_lin): Linear(in_features=768, out_features=768, bias=True)\n",
      "        )\n",
      "        (sa_layer_norm): LayerNorm((768,), eps=1e-12, elementwise_affine=True)\n",
      "        (ffn): FFN(\n",
      "          (dropout): Dropout(p=0.1, inplace=False)\n",
      "          (lin1): Linear(in_features=768, out_features=3072, bias=True)\n",
      "          (lin2): Linear(in_features=3072, out_features=768, bias=True)\n",
      "          (activation): GELUActivation()\n",
      "        )\n",
      "        (output_layer_norm): LayerNorm((768,), eps=1e-12, elementwise_affine=True)\n",
      "      )\n",
      "      (1): TransformerBlock(\n",
      "        (attention): MultiHeadSelfAttention(\n",
      "          (dropout): Dropout(p=0.1, inplace=False)\n",
      "          (q_lin): Linear(in_features=768, out_features=768, bias=True)\n",
      "          (k_lin): Linear(in_features=768, out_features=768, bias=True)\n",
      "          (v_lin): Linear(in_features=768, out_features=768, bias=True)\n",
      "          (out_lin): Linear(in_features=768, out_features=768, bias=True)\n",
      "        )\n",
      "        (sa_layer_norm): LayerNorm((768,), eps=1e-12, elementwise_affine=True)\n",
      "        (ffn): FFN(\n",
      "          (dropout): Dropout(p=0.1, inplace=False)\n",
      "          (lin1): Linear(in_features=768, out_features=3072, bias=True)\n",
      "          (lin2): Linear(in_features=3072, out_features=768, bias=True)\n",
      "          (activation): GELUActivation()\n",
      "        )\n",
      "        (output_layer_norm): LayerNorm((768,), eps=1e-12, elementwise_affine=True)\n",
      "      )\n",
      "      (2): TransformerBlock(\n",
      "        (attention): MultiHeadSelfAttention(\n",
      "          (dropout): Dropout(p=0.1, inplace=False)\n",
      "          (q_lin): Linear(in_features=768, out_features=768, bias=True)\n",
      "          (k_lin): Linear(in_features=768, out_features=768, bias=True)\n",
      "          (v_lin): Linear(in_features=768, out_features=768, bias=True)\n",
      "          (out_lin): Linear(in_features=768, out_features=768, bias=True)\n",
      "        )\n",
      "        (sa_layer_norm): LayerNorm((768,), eps=1e-12, elementwise_affine=True)\n",
      "        (ffn): FFN(\n",
      "          (dropout): Dropout(p=0.1, inplace=False)\n",
      "          (lin1): Linear(in_features=768, out_features=3072, bias=True)\n",
      "          (lin2): Linear(in_features=3072, out_features=768, bias=True)\n",
      "          (activation): GELUActivation()\n",
      "        )\n",
      "        (output_layer_norm): LayerNorm((768,), eps=1e-12, elementwise_affine=True)\n",
      "      )\n",
      "      (3): TransformerBlock(\n",
      "        (attention): MultiHeadSelfAttention(\n",
      "          (dropout): Dropout(p=0.1, inplace=False)\n",
      "          (q_lin): Linear(in_features=768, out_features=768, bias=True)\n",
      "          (k_lin): Linear(in_features=768, out_features=768, bias=True)\n",
      "          (v_lin): Linear(in_features=768, out_features=768, bias=True)\n",
      "          (out_lin): Linear(in_features=768, out_features=768, bias=True)\n",
      "        )\n",
      "        (sa_layer_norm): LayerNorm((768,), eps=1e-12, elementwise_affine=True)\n",
      "        (ffn): FFN(\n",
      "          (dropout): Dropout(p=0.1, inplace=False)\n",
      "          (lin1): Linear(in_features=768, out_features=3072, bias=True)\n",
      "          (lin2): Linear(in_features=3072, out_features=768, bias=True)\n",
      "          (activation): GELUActivation()\n",
      "        )\n",
      "        (output_layer_norm): LayerNorm((768,), eps=1e-12, elementwise_affine=True)\n",
      "      )\n",
      "      (4): TransformerBlock(\n",
      "        (attention): MultiHeadSelfAttention(\n",
      "          (dropout): Dropout(p=0.1, inplace=False)\n",
      "          (q_lin): Linear(in_features=768, out_features=768, bias=True)\n",
      "          (k_lin): Linear(in_features=768, out_features=768, bias=True)\n",
      "          (v_lin): Linear(in_features=768, out_features=768, bias=True)\n",
      "          (out_lin): Linear(in_features=768, out_features=768, bias=True)\n",
      "        )\n",
      "        (sa_layer_norm): LayerNorm((768,), eps=1e-12, elementwise_affine=True)\n",
      "        (ffn): FFN(\n",
      "          (dropout): Dropout(p=0.1, inplace=False)\n",
      "          (lin1): Linear(in_features=768, out_features=3072, bias=True)\n",
      "          (lin2): Linear(in_features=3072, out_features=768, bias=True)\n",
      "          (activation): GELUActivation()\n",
      "        )\n",
      "        (output_layer_norm): LayerNorm((768,), eps=1e-12, elementwise_affine=True)\n",
      "      )\n",
      "      (5): TransformerBlock(\n",
      "        (attention): MultiHeadSelfAttention(\n",
      "          (dropout): Dropout(p=0.1, inplace=False)\n",
      "          (q_lin): Linear(in_features=768, out_features=768, bias=True)\n",
      "          (k_lin): Linear(in_features=768, out_features=768, bias=True)\n",
      "          (v_lin): Linear(in_features=768, out_features=768, bias=True)\n",
      "          (out_lin): Linear(in_features=768, out_features=768, bias=True)\n",
      "        )\n",
      "        (sa_layer_norm): LayerNorm((768,), eps=1e-12, elementwise_affine=True)\n",
      "        (ffn): FFN(\n",
      "          (dropout): Dropout(p=0.1, inplace=False)\n",
      "          (lin1): Linear(in_features=768, out_features=3072, bias=True)\n",
      "          (lin2): Linear(in_features=3072, out_features=768, bias=True)\n",
      "          (activation): GELUActivation()\n",
      "        )\n",
      "        (output_layer_norm): LayerNorm((768,), eps=1e-12, elementwise_affine=True)\n",
      "      )\n",
      "    )\n",
      "  )\n",
      ")\n",
      "2 -> Embeddings(\n",
      "  (word_embeddings): Embedding(30522, 768, padding_idx=0)\n",
      "  (position_embeddings): Embedding(512, 768)\n",
      "  (LayerNorm): LayerNorm((768,), eps=1e-12, elementwise_affine=True)\n",
      "  (dropout): Dropout(p=0.1, inplace=False)\n",
      ")\n",
      "3 -> Embedding(30522, 768, padding_idx=0)\n",
      "4 -> Embedding(512, 768)\n",
      "5 -> LayerNorm((768,), eps=1e-12, elementwise_affine=True)\n",
      "6 -> Dropout(p=0.1, inplace=False)\n",
      "7 -> Transformer(\n",
      "  (layer): ModuleList(\n",
      "    (0): TransformerBlock(\n",
      "      (attention): MultiHeadSelfAttention(\n",
      "        (dropout): Dropout(p=0.1, inplace=False)\n",
      "        (q_lin): Linear(in_features=768, out_features=768, bias=True)\n",
      "        (k_lin): Linear(in_features=768, out_features=768, bias=True)\n",
      "        (v_lin): Linear(in_features=768, out_features=768, bias=True)\n",
      "        (out_lin): Linear(in_features=768, out_features=768, bias=True)\n",
      "      )\n",
      "      (sa_layer_norm): LayerNorm((768,), eps=1e-12, elementwise_affine=True)\n",
      "      (ffn): FFN(\n",
      "        (dropout): Dropout(p=0.1, inplace=False)\n",
      "        (lin1): Linear(in_features=768, out_features=3072, bias=True)\n",
      "        (lin2): Linear(in_features=3072, out_features=768, bias=True)\n",
      "        (activation): GELUActivation()\n",
      "      )\n",
      "      (output_layer_norm): LayerNorm((768,), eps=1e-12, elementwise_affine=True)\n",
      "    )\n",
      "    (1): TransformerBlock(\n",
      "      (attention): MultiHeadSelfAttention(\n",
      "        (dropout): Dropout(p=0.1, inplace=False)\n",
      "        (q_lin): Linear(in_features=768, out_features=768, bias=True)\n",
      "        (k_lin): Linear(in_features=768, out_features=768, bias=True)\n",
      "        (v_lin): Linear(in_features=768, out_features=768, bias=True)\n",
      "        (out_lin): Linear(in_features=768, out_features=768, bias=True)\n",
      "      )\n",
      "      (sa_layer_norm): LayerNorm((768,), eps=1e-12, elementwise_affine=True)\n",
      "      (ffn): FFN(\n",
      "        (dropout): Dropout(p=0.1, inplace=False)\n",
      "        (lin1): Linear(in_features=768, out_features=3072, bias=True)\n",
      "        (lin2): Linear(in_features=3072, out_features=768, bias=True)\n",
      "        (activation): GELUActivation()\n",
      "      )\n",
      "      (output_layer_norm): LayerNorm((768,), eps=1e-12, elementwise_affine=True)\n",
      "    )\n",
      "    (2): TransformerBlock(\n",
      "      (attention): MultiHeadSelfAttention(\n",
      "        (dropout): Dropout(p=0.1, inplace=False)\n",
      "        (q_lin): Linear(in_features=768, out_features=768, bias=True)\n",
      "        (k_lin): Linear(in_features=768, out_features=768, bias=True)\n",
      "        (v_lin): Linear(in_features=768, out_features=768, bias=True)\n",
      "        (out_lin): Linear(in_features=768, out_features=768, bias=True)\n",
      "      )\n",
      "      (sa_layer_norm): LayerNorm((768,), eps=1e-12, elementwise_affine=True)\n",
      "      (ffn): FFN(\n",
      "        (dropout): Dropout(p=0.1, inplace=False)\n",
      "        (lin1): Linear(in_features=768, out_features=3072, bias=True)\n",
      "        (lin2): Linear(in_features=3072, out_features=768, bias=True)\n",
      "        (activation): GELUActivation()\n",
      "      )\n",
      "      (output_layer_norm): LayerNorm((768,), eps=1e-12, elementwise_affine=True)\n",
      "    )\n",
      "    (3): TransformerBlock(\n",
      "      (attention): MultiHeadSelfAttention(\n",
      "        (dropout): Dropout(p=0.1, inplace=False)\n",
      "        (q_lin): Linear(in_features=768, out_features=768, bias=True)\n",
      "        (k_lin): Linear(in_features=768, out_features=768, bias=True)\n",
      "        (v_lin): Linear(in_features=768, out_features=768, bias=True)\n",
      "        (out_lin): Linear(in_features=768, out_features=768, bias=True)\n",
      "      )\n",
      "      (sa_layer_norm): LayerNorm((768,), eps=1e-12, elementwise_affine=True)\n",
      "      (ffn): FFN(\n",
      "        (dropout): Dropout(p=0.1, inplace=False)\n",
      "        (lin1): Linear(in_features=768, out_features=3072, bias=True)\n",
      "        (lin2): Linear(in_features=3072, out_features=768, bias=True)\n",
      "        (activation): GELUActivation()\n",
      "      )\n",
      "      (output_layer_norm): LayerNorm((768,), eps=1e-12, elementwise_affine=True)\n",
      "    )\n",
      "    (4): TransformerBlock(\n",
      "      (attention): MultiHeadSelfAttention(\n",
      "        (dropout): Dropout(p=0.1, inplace=False)\n",
      "        (q_lin): Linear(in_features=768, out_features=768, bias=True)\n",
      "        (k_lin): Linear(in_features=768, out_features=768, bias=True)\n",
      "        (v_lin): Linear(in_features=768, out_features=768, bias=True)\n",
      "        (out_lin): Linear(in_features=768, out_features=768, bias=True)\n",
      "      )\n",
      "      (sa_layer_norm): LayerNorm((768,), eps=1e-12, elementwise_affine=True)\n",
      "      (ffn): FFN(\n",
      "        (dropout): Dropout(p=0.1, inplace=False)\n",
      "        (lin1): Linear(in_features=768, out_features=3072, bias=True)\n",
      "        (lin2): Linear(in_features=3072, out_features=768, bias=True)\n",
      "        (activation): GELUActivation()\n",
      "      )\n",
      "      (output_layer_norm): LayerNorm((768,), eps=1e-12, elementwise_affine=True)\n",
      "    )\n",
      "    (5): TransformerBlock(\n",
      "      (attention): MultiHeadSelfAttention(\n",
      "        (dropout): Dropout(p=0.1, inplace=False)\n",
      "        (q_lin): Linear(in_features=768, out_features=768, bias=True)\n",
      "        (k_lin): Linear(in_features=768, out_features=768, bias=True)\n",
      "        (v_lin): Linear(in_features=768, out_features=768, bias=True)\n",
      "        (out_lin): Linear(in_features=768, out_features=768, bias=True)\n",
      "      )\n",
      "      (sa_layer_norm): LayerNorm((768,), eps=1e-12, elementwise_affine=True)\n",
      "      (ffn): FFN(\n",
      "        (dropout): Dropout(p=0.1, inplace=False)\n",
      "        (lin1): Linear(in_features=768, out_features=3072, bias=True)\n",
      "        (lin2): Linear(in_features=3072, out_features=768, bias=True)\n",
      "        (activation): GELUActivation()\n",
      "      )\n",
      "      (output_layer_norm): LayerNorm((768,), eps=1e-12, elementwise_affine=True)\n",
      "    )\n",
      "  )\n",
      ")\n",
      "8 -> ModuleList(\n",
      "  (0): TransformerBlock(\n",
      "    (attention): MultiHeadSelfAttention(\n",
      "      (dropout): Dropout(p=0.1, inplace=False)\n",
      "      (q_lin): Linear(in_features=768, out_features=768, bias=True)\n",
      "      (k_lin): Linear(in_features=768, out_features=768, bias=True)\n",
      "      (v_lin): Linear(in_features=768, out_features=768, bias=True)\n",
      "      (out_lin): Linear(in_features=768, out_features=768, bias=True)\n",
      "    )\n",
      "    (sa_layer_norm): LayerNorm((768,), eps=1e-12, elementwise_affine=True)\n",
      "    (ffn): FFN(\n",
      "      (dropout): Dropout(p=0.1, inplace=False)\n",
      "      (lin1): Linear(in_features=768, out_features=3072, bias=True)\n",
      "      (lin2): Linear(in_features=3072, out_features=768, bias=True)\n",
      "      (activation): GELUActivation()\n",
      "    )\n",
      "    (output_layer_norm): LayerNorm((768,), eps=1e-12, elementwise_affine=True)\n",
      "  )\n",
      "  (1): TransformerBlock(\n",
      "    (attention): MultiHeadSelfAttention(\n",
      "      (dropout): Dropout(p=0.1, inplace=False)\n",
      "      (q_lin): Linear(in_features=768, out_features=768, bias=True)\n",
      "      (k_lin): Linear(in_features=768, out_features=768, bias=True)\n",
      "      (v_lin): Linear(in_features=768, out_features=768, bias=True)\n",
      "      (out_lin): Linear(in_features=768, out_features=768, bias=True)\n",
      "    )\n",
      "    (sa_layer_norm): LayerNorm((768,), eps=1e-12, elementwise_affine=True)\n",
      "    (ffn): FFN(\n",
      "      (dropout): Dropout(p=0.1, inplace=False)\n",
      "      (lin1): Linear(in_features=768, out_features=3072, bias=True)\n",
      "      (lin2): Linear(in_features=3072, out_features=768, bias=True)\n",
      "      (activation): GELUActivation()\n",
      "    )\n",
      "    (output_layer_norm): LayerNorm((768,), eps=1e-12, elementwise_affine=True)\n",
      "  )\n",
      "  (2): TransformerBlock(\n",
      "    (attention): MultiHeadSelfAttention(\n",
      "      (dropout): Dropout(p=0.1, inplace=False)\n",
      "      (q_lin): Linear(in_features=768, out_features=768, bias=True)\n",
      "      (k_lin): Linear(in_features=768, out_features=768, bias=True)\n",
      "      (v_lin): Linear(in_features=768, out_features=768, bias=True)\n",
      "      (out_lin): Linear(in_features=768, out_features=768, bias=True)\n",
      "    )\n",
      "    (sa_layer_norm): LayerNorm((768,), eps=1e-12, elementwise_affine=True)\n",
      "    (ffn): FFN(\n",
      "      (dropout): Dropout(p=0.1, inplace=False)\n",
      "      (lin1): Linear(in_features=768, out_features=3072, bias=True)\n",
      "      (lin2): Linear(in_features=3072, out_features=768, bias=True)\n",
      "      (activation): GELUActivation()\n",
      "    )\n",
      "    (output_layer_norm): LayerNorm((768,), eps=1e-12, elementwise_affine=True)\n",
      "  )\n",
      "  (3): TransformerBlock(\n",
      "    (attention): MultiHeadSelfAttention(\n",
      "      (dropout): Dropout(p=0.1, inplace=False)\n",
      "      (q_lin): Linear(in_features=768, out_features=768, bias=True)\n",
      "      (k_lin): Linear(in_features=768, out_features=768, bias=True)\n",
      "      (v_lin): Linear(in_features=768, out_features=768, bias=True)\n",
      "      (out_lin): Linear(in_features=768, out_features=768, bias=True)\n",
      "    )\n",
      "    (sa_layer_norm): LayerNorm((768,), eps=1e-12, elementwise_affine=True)\n",
      "    (ffn): FFN(\n",
      "      (dropout): Dropout(p=0.1, inplace=False)\n",
      "      (lin1): Linear(in_features=768, out_features=3072, bias=True)\n",
      "      (lin2): Linear(in_features=3072, out_features=768, bias=True)\n",
      "      (activation): GELUActivation()\n",
      "    )\n",
      "    (output_layer_norm): LayerNorm((768,), eps=1e-12, elementwise_affine=True)\n",
      "  )\n",
      "  (4): TransformerBlock(\n",
      "    (attention): MultiHeadSelfAttention(\n",
      "      (dropout): Dropout(p=0.1, inplace=False)\n",
      "      (q_lin): Linear(in_features=768, out_features=768, bias=True)\n",
      "      (k_lin): Linear(in_features=768, out_features=768, bias=True)\n",
      "      (v_lin): Linear(in_features=768, out_features=768, bias=True)\n",
      "      (out_lin): Linear(in_features=768, out_features=768, bias=True)\n",
      "    )\n",
      "    (sa_layer_norm): LayerNorm((768,), eps=1e-12, elementwise_affine=True)\n",
      "    (ffn): FFN(\n",
      "      (dropout): Dropout(p=0.1, inplace=False)\n",
      "      (lin1): Linear(in_features=768, out_features=3072, bias=True)\n",
      "      (lin2): Linear(in_features=3072, out_features=768, bias=True)\n",
      "      (activation): GELUActivation()\n",
      "    )\n",
      "    (output_layer_norm): LayerNorm((768,), eps=1e-12, elementwise_affine=True)\n",
      "  )\n",
      "  (5): TransformerBlock(\n",
      "    (attention): MultiHeadSelfAttention(\n",
      "      (dropout): Dropout(p=0.1, inplace=False)\n",
      "      (q_lin): Linear(in_features=768, out_features=768, bias=True)\n",
      "      (k_lin): Linear(in_features=768, out_features=768, bias=True)\n",
      "      (v_lin): Linear(in_features=768, out_features=768, bias=True)\n",
      "      (out_lin): Linear(in_features=768, out_features=768, bias=True)\n",
      "    )\n",
      "    (sa_layer_norm): LayerNorm((768,), eps=1e-12, elementwise_affine=True)\n",
      "    (ffn): FFN(\n",
      "      (dropout): Dropout(p=0.1, inplace=False)\n",
      "      (lin1): Linear(in_features=768, out_features=3072, bias=True)\n",
      "      (lin2): Linear(in_features=3072, out_features=768, bias=True)\n",
      "      (activation): GELUActivation()\n",
      "    )\n",
      "    (output_layer_norm): LayerNorm((768,), eps=1e-12, elementwise_affine=True)\n",
      "  )\n",
      ")\n",
      "9 -> TransformerBlock(\n",
      "  (attention): MultiHeadSelfAttention(\n",
      "    (dropout): Dropout(p=0.1, inplace=False)\n",
      "    (q_lin): Linear(in_features=768, out_features=768, bias=True)\n",
      "    (k_lin): Linear(in_features=768, out_features=768, bias=True)\n",
      "    (v_lin): Linear(in_features=768, out_features=768, bias=True)\n",
      "    (out_lin): Linear(in_features=768, out_features=768, bias=True)\n",
      "  )\n",
      "  (sa_layer_norm): LayerNorm((768,), eps=1e-12, elementwise_affine=True)\n",
      "  (ffn): FFN(\n",
      "    (dropout): Dropout(p=0.1, inplace=False)\n",
      "    (lin1): Linear(in_features=768, out_features=3072, bias=True)\n",
      "    (lin2): Linear(in_features=3072, out_features=768, bias=True)\n",
      "    (activation): GELUActivation()\n",
      "  )\n",
      "  (output_layer_norm): LayerNorm((768,), eps=1e-12, elementwise_affine=True)\n",
      ")\n",
      "10 -> MultiHeadSelfAttention(\n",
      "  (dropout): Dropout(p=0.1, inplace=False)\n",
      "  (q_lin): Linear(in_features=768, out_features=768, bias=True)\n",
      "  (k_lin): Linear(in_features=768, out_features=768, bias=True)\n",
      "  (v_lin): Linear(in_features=768, out_features=768, bias=True)\n",
      "  (out_lin): Linear(in_features=768, out_features=768, bias=True)\n",
      ")\n",
      "11 -> Dropout(p=0.1, inplace=False)\n",
      "12 -> Linear(in_features=768, out_features=768, bias=True)\n",
      "13 -> Linear(in_features=768, out_features=768, bias=True)\n",
      "14 -> Linear(in_features=768, out_features=768, bias=True)\n",
      "15 -> Linear(in_features=768, out_features=768, bias=True)\n",
      "16 -> LayerNorm((768,), eps=1e-12, elementwise_affine=True)\n",
      "17 -> FFN(\n",
      "  (dropout): Dropout(p=0.1, inplace=False)\n",
      "  (lin1): Linear(in_features=768, out_features=3072, bias=True)\n",
      "  (lin2): Linear(in_features=3072, out_features=768, bias=True)\n",
      "  (activation): GELUActivation()\n",
      ")\n",
      "18 -> Dropout(p=0.1, inplace=False)\n",
      "19 -> Linear(in_features=768, out_features=3072, bias=True)\n",
      "20 -> Linear(in_features=3072, out_features=768, bias=True)\n",
      "21 -> GELUActivation()\n",
      "22 -> LayerNorm((768,), eps=1e-12, elementwise_affine=True)\n",
      "23 -> TransformerBlock(\n",
      "  (attention): MultiHeadSelfAttention(\n",
      "    (dropout): Dropout(p=0.1, inplace=False)\n",
      "    (q_lin): Linear(in_features=768, out_features=768, bias=True)\n",
      "    (k_lin): Linear(in_features=768, out_features=768, bias=True)\n",
      "    (v_lin): Linear(in_features=768, out_features=768, bias=True)\n",
      "    (out_lin): Linear(in_features=768, out_features=768, bias=True)\n",
      "  )\n",
      "  (sa_layer_norm): LayerNorm((768,), eps=1e-12, elementwise_affine=True)\n",
      "  (ffn): FFN(\n",
      "    (dropout): Dropout(p=0.1, inplace=False)\n",
      "    (lin1): Linear(in_features=768, out_features=3072, bias=True)\n",
      "    (lin2): Linear(in_features=3072, out_features=768, bias=True)\n",
      "    (activation): GELUActivation()\n",
      "  )\n",
      "  (output_layer_norm): LayerNorm((768,), eps=1e-12, elementwise_affine=True)\n",
      ")\n",
      "24 -> MultiHeadSelfAttention(\n",
      "  (dropout): Dropout(p=0.1, inplace=False)\n",
      "  (q_lin): Linear(in_features=768, out_features=768, bias=True)\n",
      "  (k_lin): Linear(in_features=768, out_features=768, bias=True)\n",
      "  (v_lin): Linear(in_features=768, out_features=768, bias=True)\n",
      "  (out_lin): Linear(in_features=768, out_features=768, bias=True)\n",
      ")\n",
      "25 -> Dropout(p=0.1, inplace=False)\n",
      "26 -> Linear(in_features=768, out_features=768, bias=True)\n",
      "27 -> Linear(in_features=768, out_features=768, bias=True)\n",
      "28 -> Linear(in_features=768, out_features=768, bias=True)\n",
      "29 -> Linear(in_features=768, out_features=768, bias=True)\n",
      "30 -> LayerNorm((768,), eps=1e-12, elementwise_affine=True)\n",
      "31 -> FFN(\n",
      "  (dropout): Dropout(p=0.1, inplace=False)\n",
      "  (lin1): Linear(in_features=768, out_features=3072, bias=True)\n",
      "  (lin2): Linear(in_features=3072, out_features=768, bias=True)\n",
      "  (activation): GELUActivation()\n",
      ")\n",
      "32 -> Dropout(p=0.1, inplace=False)\n",
      "33 -> Linear(in_features=768, out_features=3072, bias=True)\n",
      "34 -> Linear(in_features=3072, out_features=768, bias=True)\n",
      "35 -> LayerNorm((768,), eps=1e-12, elementwise_affine=True)\n",
      "36 -> TransformerBlock(\n",
      "  (attention): MultiHeadSelfAttention(\n",
      "    (dropout): Dropout(p=0.1, inplace=False)\n",
      "    (q_lin): Linear(in_features=768, out_features=768, bias=True)\n",
      "    (k_lin): Linear(in_features=768, out_features=768, bias=True)\n",
      "    (v_lin): Linear(in_features=768, out_features=768, bias=True)\n",
      "    (out_lin): Linear(in_features=768, out_features=768, bias=True)\n",
      "  )\n",
      "  (sa_layer_norm): LayerNorm((768,), eps=1e-12, elementwise_affine=True)\n",
      "  (ffn): FFN(\n",
      "    (dropout): Dropout(p=0.1, inplace=False)\n",
      "    (lin1): Linear(in_features=768, out_features=3072, bias=True)\n",
      "    (lin2): Linear(in_features=3072, out_features=768, bias=True)\n",
      "    (activation): GELUActivation()\n",
      "  )\n",
      "  (output_layer_norm): LayerNorm((768,), eps=1e-12, elementwise_affine=True)\n",
      ")\n",
      "37 -> MultiHeadSelfAttention(\n",
      "  (dropout): Dropout(p=0.1, inplace=False)\n",
      "  (q_lin): Linear(in_features=768, out_features=768, bias=True)\n",
      "  (k_lin): Linear(in_features=768, out_features=768, bias=True)\n",
      "  (v_lin): Linear(in_features=768, out_features=768, bias=True)\n",
      "  (out_lin): Linear(in_features=768, out_features=768, bias=True)\n",
      ")\n",
      "38 -> Dropout(p=0.1, inplace=False)\n",
      "39 -> Linear(in_features=768, out_features=768, bias=True)\n",
      "40 -> Linear(in_features=768, out_features=768, bias=True)\n",
      "41 -> Linear(in_features=768, out_features=768, bias=True)\n",
      "42 -> Linear(in_features=768, out_features=768, bias=True)\n",
      "43 -> LayerNorm((768,), eps=1e-12, elementwise_affine=True)\n",
      "44 -> FFN(\n",
      "  (dropout): Dropout(p=0.1, inplace=False)\n",
      "  (lin1): Linear(in_features=768, out_features=3072, bias=True)\n",
      "  (lin2): Linear(in_features=3072, out_features=768, bias=True)\n",
      "  (activation): GELUActivation()\n",
      ")\n",
      "45 -> Dropout(p=0.1, inplace=False)\n",
      "46 -> Linear(in_features=768, out_features=3072, bias=True)\n",
      "47 -> Linear(in_features=3072, out_features=768, bias=True)\n",
      "48 -> LayerNorm((768,), eps=1e-12, elementwise_affine=True)\n",
      "49 -> TransformerBlock(\n",
      "  (attention): MultiHeadSelfAttention(\n",
      "    (dropout): Dropout(p=0.1, inplace=False)\n",
      "    (q_lin): Linear(in_features=768, out_features=768, bias=True)\n",
      "    (k_lin): Linear(in_features=768, out_features=768, bias=True)\n",
      "    (v_lin): Linear(in_features=768, out_features=768, bias=True)\n",
      "    (out_lin): Linear(in_features=768, out_features=768, bias=True)\n",
      "  )\n",
      "  (sa_layer_norm): LayerNorm((768,), eps=1e-12, elementwise_affine=True)\n",
      "  (ffn): FFN(\n",
      "    (dropout): Dropout(p=0.1, inplace=False)\n",
      "    (lin1): Linear(in_features=768, out_features=3072, bias=True)\n",
      "    (lin2): Linear(in_features=3072, out_features=768, bias=True)\n",
      "    (activation): GELUActivation()\n",
      "  )\n",
      "  (output_layer_norm): LayerNorm((768,), eps=1e-12, elementwise_affine=True)\n",
      ")\n",
      "50 -> MultiHeadSelfAttention(\n",
      "  (dropout): Dropout(p=0.1, inplace=False)\n",
      "  (q_lin): Linear(in_features=768, out_features=768, bias=True)\n",
      "  (k_lin): Linear(in_features=768, out_features=768, bias=True)\n",
      "  (v_lin): Linear(in_features=768, out_features=768, bias=True)\n",
      "  (out_lin): Linear(in_features=768, out_features=768, bias=True)\n",
      ")\n",
      "51 -> Dropout(p=0.1, inplace=False)\n",
      "52 -> Linear(in_features=768, out_features=768, bias=True)\n",
      "53 -> Linear(in_features=768, out_features=768, bias=True)\n",
      "54 -> Linear(in_features=768, out_features=768, bias=True)\n",
      "55 -> Linear(in_features=768, out_features=768, bias=True)\n",
      "56 -> LayerNorm((768,), eps=1e-12, elementwise_affine=True)\n",
      "57 -> FFN(\n",
      "  (dropout): Dropout(p=0.1, inplace=False)\n",
      "  (lin1): Linear(in_features=768, out_features=3072, bias=True)\n",
      "  (lin2): Linear(in_features=3072, out_features=768, bias=True)\n",
      "  (activation): GELUActivation()\n",
      ")\n",
      "58 -> Dropout(p=0.1, inplace=False)\n",
      "59 -> Linear(in_features=768, out_features=3072, bias=True)\n",
      "60 -> Linear(in_features=3072, out_features=768, bias=True)\n",
      "61 -> LayerNorm((768,), eps=1e-12, elementwise_affine=True)\n",
      "62 -> TransformerBlock(\n",
      "  (attention): MultiHeadSelfAttention(\n",
      "    (dropout): Dropout(p=0.1, inplace=False)\n",
      "    (q_lin): Linear(in_features=768, out_features=768, bias=True)\n",
      "    (k_lin): Linear(in_features=768, out_features=768, bias=True)\n",
      "    (v_lin): Linear(in_features=768, out_features=768, bias=True)\n",
      "    (out_lin): Linear(in_features=768, out_features=768, bias=True)\n",
      "  )\n",
      "  (sa_layer_norm): LayerNorm((768,), eps=1e-12, elementwise_affine=True)\n",
      "  (ffn): FFN(\n",
      "    (dropout): Dropout(p=0.1, inplace=False)\n",
      "    (lin1): Linear(in_features=768, out_features=3072, bias=True)\n",
      "    (lin2): Linear(in_features=3072, out_features=768, bias=True)\n",
      "    (activation): GELUActivation()\n",
      "  )\n",
      "  (output_layer_norm): LayerNorm((768,), eps=1e-12, elementwise_affine=True)\n",
      ")\n",
      "63 -> MultiHeadSelfAttention(\n",
      "  (dropout): Dropout(p=0.1, inplace=False)\n",
      "  (q_lin): Linear(in_features=768, out_features=768, bias=True)\n",
      "  (k_lin): Linear(in_features=768, out_features=768, bias=True)\n",
      "  (v_lin): Linear(in_features=768, out_features=768, bias=True)\n",
      "  (out_lin): Linear(in_features=768, out_features=768, bias=True)\n",
      ")\n",
      "64 -> Dropout(p=0.1, inplace=False)\n",
      "65 -> Linear(in_features=768, out_features=768, bias=True)\n",
      "66 -> Linear(in_features=768, out_features=768, bias=True)\n",
      "67 -> Linear(in_features=768, out_features=768, bias=True)\n",
      "68 -> Linear(in_features=768, out_features=768, bias=True)\n",
      "69 -> LayerNorm((768,), eps=1e-12, elementwise_affine=True)\n",
      "70 -> FFN(\n",
      "  (dropout): Dropout(p=0.1, inplace=False)\n",
      "  (lin1): Linear(in_features=768, out_features=3072, bias=True)\n",
      "  (lin2): Linear(in_features=3072, out_features=768, bias=True)\n",
      "  (activation): GELUActivation()\n",
      ")\n",
      "71 -> Dropout(p=0.1, inplace=False)\n",
      "72 -> Linear(in_features=768, out_features=3072, bias=True)\n",
      "73 -> Linear(in_features=3072, out_features=768, bias=True)\n",
      "74 -> LayerNorm((768,), eps=1e-12, elementwise_affine=True)\n",
      "75 -> TransformerBlock(\n",
      "  (attention): MultiHeadSelfAttention(\n",
      "    (dropout): Dropout(p=0.1, inplace=False)\n",
      "    (q_lin): Linear(in_features=768, out_features=768, bias=True)\n",
      "    (k_lin): Linear(in_features=768, out_features=768, bias=True)\n",
      "    (v_lin): Linear(in_features=768, out_features=768, bias=True)\n",
      "    (out_lin): Linear(in_features=768, out_features=768, bias=True)\n",
      "  )\n",
      "  (sa_layer_norm): LayerNorm((768,), eps=1e-12, elementwise_affine=True)\n",
      "  (ffn): FFN(\n",
      "    (dropout): Dropout(p=0.1, inplace=False)\n",
      "    (lin1): Linear(in_features=768, out_features=3072, bias=True)\n",
      "    (lin2): Linear(in_features=3072, out_features=768, bias=True)\n",
      "    (activation): GELUActivation()\n",
      "  )\n",
      "  (output_layer_norm): LayerNorm((768,), eps=1e-12, elementwise_affine=True)\n",
      ")\n",
      "76 -> MultiHeadSelfAttention(\n",
      "  (dropout): Dropout(p=0.1, inplace=False)\n",
      "  (q_lin): Linear(in_features=768, out_features=768, bias=True)\n",
      "  (k_lin): Linear(in_features=768, out_features=768, bias=True)\n",
      "  (v_lin): Linear(in_features=768, out_features=768, bias=True)\n",
      "  (out_lin): Linear(in_features=768, out_features=768, bias=True)\n",
      ")\n",
      "77 -> Dropout(p=0.1, inplace=False)\n",
      "78 -> Linear(in_features=768, out_features=768, bias=True)\n",
      "79 -> Linear(in_features=768, out_features=768, bias=True)\n",
      "80 -> Linear(in_features=768, out_features=768, bias=True)\n",
      "81 -> Linear(in_features=768, out_features=768, bias=True)\n",
      "82 -> LayerNorm((768,), eps=1e-12, elementwise_affine=True)\n",
      "83 -> FFN(\n",
      "  (dropout): Dropout(p=0.1, inplace=False)\n",
      "  (lin1): Linear(in_features=768, out_features=3072, bias=True)\n",
      "  (lin2): Linear(in_features=3072, out_features=768, bias=True)\n",
      "  (activation): GELUActivation()\n",
      ")\n",
      "84 -> Dropout(p=0.1, inplace=False)\n",
      "85 -> Linear(in_features=768, out_features=3072, bias=True)\n",
      "86 -> Linear(in_features=3072, out_features=768, bias=True)\n",
      "87 -> LayerNorm((768,), eps=1e-12, elementwise_affine=True)\n",
      "88 -> Linear(in_features=768, out_features=768, bias=True)\n",
      "89 -> Linear(in_features=768, out_features=3, bias=True)\n",
      "90 -> Dropout(p=0.2, inplace=False)\n"
     ]
    }
   ],
   "source": [
    "for idx, m in enumerate(distilbert_model.modules()):\n",
    "  print(idx, '->', m)"
   ]
  },
  {
   "cell_type": "code",
   "execution_count": 34,
   "metadata": {
    "id": "CqiJNDu9B21S",
    "scrolled": true
   },
   "outputs": [],
   "source": [
    "from torch.optim import AdamW\n",
    "\n",
    "optimizer = AdamW(distilbert_model.parameters(), lr=3e-5)"
   ]
  },
  {
   "cell_type": "code",
   "execution_count": 35,
   "metadata": {
    "id": "1_mff3yiCay6"
   },
   "outputs": [],
   "source": [
    "# device = torch.device(\"cuda:0\" if torch.cuda.is_available() else \"cpu\")\n",
    "\n",
    "# classifier = Classifier(num_units=768, activation_fun = \"sigmoid\", hidden_layers = 1)\n",
    "# print(classifier)"
   ]
  },
  {
   "cell_type": "code",
   "execution_count": 36,
   "metadata": {
    "id": "L6XeSl1DB21T",
    "scrolled": true
   },
   "outputs": [],
   "source": [
    "from transformers import get_scheduler\n",
    "\n",
    "num_epochs = 3\n",
    "num_training_steps = num_epochs * len(train_dataloader)\n",
    "lr_scheduler = get_scheduler(\n",
    "    name=\"linear\", optimizer=optimizer, num_warmup_steps=0, num_training_steps=num_training_steps\n",
    ")"
   ]
  },
  {
   "cell_type": "code",
   "execution_count": 37,
   "metadata": {
    "colab": {
     "base_uri": "https://localhost:8080/"
    },
    "id": "RmCo6gMmB21T",
    "outputId": "3dfd5b6d-5e8d-4cd7-f22f-1df23f3e0574",
    "scrolled": true
   },
   "outputs": [
    {
     "data": {
      "text/plain": [
       "DistilBertForSequenceClassification(\n",
       "  (distilbert): DistilBertModel(\n",
       "    (embeddings): Embeddings(\n",
       "      (word_embeddings): Embedding(30522, 768, padding_idx=0)\n",
       "      (position_embeddings): Embedding(512, 768)\n",
       "      (LayerNorm): LayerNorm((768,), eps=1e-12, elementwise_affine=True)\n",
       "      (dropout): Dropout(p=0.1, inplace=False)\n",
       "    )\n",
       "    (transformer): Transformer(\n",
       "      (layer): ModuleList(\n",
       "        (0): TransformerBlock(\n",
       "          (attention): MultiHeadSelfAttention(\n",
       "            (dropout): Dropout(p=0.1, inplace=False)\n",
       "            (q_lin): Linear(in_features=768, out_features=768, bias=True)\n",
       "            (k_lin): Linear(in_features=768, out_features=768, bias=True)\n",
       "            (v_lin): Linear(in_features=768, out_features=768, bias=True)\n",
       "            (out_lin): Linear(in_features=768, out_features=768, bias=True)\n",
       "          )\n",
       "          (sa_layer_norm): LayerNorm((768,), eps=1e-12, elementwise_affine=True)\n",
       "          (ffn): FFN(\n",
       "            (dropout): Dropout(p=0.1, inplace=False)\n",
       "            (lin1): Linear(in_features=768, out_features=3072, bias=True)\n",
       "            (lin2): Linear(in_features=3072, out_features=768, bias=True)\n",
       "            (activation): GELUActivation()\n",
       "          )\n",
       "          (output_layer_norm): LayerNorm((768,), eps=1e-12, elementwise_affine=True)\n",
       "        )\n",
       "        (1): TransformerBlock(\n",
       "          (attention): MultiHeadSelfAttention(\n",
       "            (dropout): Dropout(p=0.1, inplace=False)\n",
       "            (q_lin): Linear(in_features=768, out_features=768, bias=True)\n",
       "            (k_lin): Linear(in_features=768, out_features=768, bias=True)\n",
       "            (v_lin): Linear(in_features=768, out_features=768, bias=True)\n",
       "            (out_lin): Linear(in_features=768, out_features=768, bias=True)\n",
       "          )\n",
       "          (sa_layer_norm): LayerNorm((768,), eps=1e-12, elementwise_affine=True)\n",
       "          (ffn): FFN(\n",
       "            (dropout): Dropout(p=0.1, inplace=False)\n",
       "            (lin1): Linear(in_features=768, out_features=3072, bias=True)\n",
       "            (lin2): Linear(in_features=3072, out_features=768, bias=True)\n",
       "            (activation): GELUActivation()\n",
       "          )\n",
       "          (output_layer_norm): LayerNorm((768,), eps=1e-12, elementwise_affine=True)\n",
       "        )\n",
       "        (2): TransformerBlock(\n",
       "          (attention): MultiHeadSelfAttention(\n",
       "            (dropout): Dropout(p=0.1, inplace=False)\n",
       "            (q_lin): Linear(in_features=768, out_features=768, bias=True)\n",
       "            (k_lin): Linear(in_features=768, out_features=768, bias=True)\n",
       "            (v_lin): Linear(in_features=768, out_features=768, bias=True)\n",
       "            (out_lin): Linear(in_features=768, out_features=768, bias=True)\n",
       "          )\n",
       "          (sa_layer_norm): LayerNorm((768,), eps=1e-12, elementwise_affine=True)\n",
       "          (ffn): FFN(\n",
       "            (dropout): Dropout(p=0.1, inplace=False)\n",
       "            (lin1): Linear(in_features=768, out_features=3072, bias=True)\n",
       "            (lin2): Linear(in_features=3072, out_features=768, bias=True)\n",
       "            (activation): GELUActivation()\n",
       "          )\n",
       "          (output_layer_norm): LayerNorm((768,), eps=1e-12, elementwise_affine=True)\n",
       "        )\n",
       "        (3): TransformerBlock(\n",
       "          (attention): MultiHeadSelfAttention(\n",
       "            (dropout): Dropout(p=0.1, inplace=False)\n",
       "            (q_lin): Linear(in_features=768, out_features=768, bias=True)\n",
       "            (k_lin): Linear(in_features=768, out_features=768, bias=True)\n",
       "            (v_lin): Linear(in_features=768, out_features=768, bias=True)\n",
       "            (out_lin): Linear(in_features=768, out_features=768, bias=True)\n",
       "          )\n",
       "          (sa_layer_norm): LayerNorm((768,), eps=1e-12, elementwise_affine=True)\n",
       "          (ffn): FFN(\n",
       "            (dropout): Dropout(p=0.1, inplace=False)\n",
       "            (lin1): Linear(in_features=768, out_features=3072, bias=True)\n",
       "            (lin2): Linear(in_features=3072, out_features=768, bias=True)\n",
       "            (activation): GELUActivation()\n",
       "          )\n",
       "          (output_layer_norm): LayerNorm((768,), eps=1e-12, elementwise_affine=True)\n",
       "        )\n",
       "        (4): TransformerBlock(\n",
       "          (attention): MultiHeadSelfAttention(\n",
       "            (dropout): Dropout(p=0.1, inplace=False)\n",
       "            (q_lin): Linear(in_features=768, out_features=768, bias=True)\n",
       "            (k_lin): Linear(in_features=768, out_features=768, bias=True)\n",
       "            (v_lin): Linear(in_features=768, out_features=768, bias=True)\n",
       "            (out_lin): Linear(in_features=768, out_features=768, bias=True)\n",
       "          )\n",
       "          (sa_layer_norm): LayerNorm((768,), eps=1e-12, elementwise_affine=True)\n",
       "          (ffn): FFN(\n",
       "            (dropout): Dropout(p=0.1, inplace=False)\n",
       "            (lin1): Linear(in_features=768, out_features=3072, bias=True)\n",
       "            (lin2): Linear(in_features=3072, out_features=768, bias=True)\n",
       "            (activation): GELUActivation()\n",
       "          )\n",
       "          (output_layer_norm): LayerNorm((768,), eps=1e-12, elementwise_affine=True)\n",
       "        )\n",
       "        (5): TransformerBlock(\n",
       "          (attention): MultiHeadSelfAttention(\n",
       "            (dropout): Dropout(p=0.1, inplace=False)\n",
       "            (q_lin): Linear(in_features=768, out_features=768, bias=True)\n",
       "            (k_lin): Linear(in_features=768, out_features=768, bias=True)\n",
       "            (v_lin): Linear(in_features=768, out_features=768, bias=True)\n",
       "            (out_lin): Linear(in_features=768, out_features=768, bias=True)\n",
       "          )\n",
       "          (sa_layer_norm): LayerNorm((768,), eps=1e-12, elementwise_affine=True)\n",
       "          (ffn): FFN(\n",
       "            (dropout): Dropout(p=0.1, inplace=False)\n",
       "            (lin1): Linear(in_features=768, out_features=3072, bias=True)\n",
       "            (lin2): Linear(in_features=3072, out_features=768, bias=True)\n",
       "            (activation): GELUActivation()\n",
       "          )\n",
       "          (output_layer_norm): LayerNorm((768,), eps=1e-12, elementwise_affine=True)\n",
       "        )\n",
       "      )\n",
       "    )\n",
       "  )\n",
       "  (pre_classifier): Linear(in_features=768, out_features=768, bias=True)\n",
       "  (classifier): Linear(in_features=768, out_features=3, bias=True)\n",
       "  (dropout): Dropout(p=0.2, inplace=False)\n",
       ")"
      ]
     },
     "execution_count": 37,
     "metadata": {},
     "output_type": "execute_result"
    }
   ],
   "source": [
    "device = torch.device(\"cuda\") if torch.cuda.is_available() else torch.device(\"cpu\")\n",
    "distilbert_model.to(device)"
   ]
  },
  {
   "cell_type": "code",
   "execution_count": 38,
   "metadata": {},
   "outputs": [
    {
     "name": "stdout",
     "output_type": "stream",
     "text": [
      "cuda\n"
     ]
    }
   ],
   "source": [
    "print(device)"
   ]
  },
  {
   "cell_type": "code",
   "execution_count": 39,
   "metadata": {},
   "outputs": [
    {
     "data": {
      "text/plain": [
       "Dataset({\n",
       "    features: ['labels', 'input_ids', 'attention_mask'],\n",
       "    num_rows: 72000\n",
       "})"
      ]
     },
     "execution_count": 39,
     "metadata": {},
     "output_type": "execute_result"
    }
   ],
   "source": [
    "tok_ds_train"
   ]
  },
  {
   "cell_type": "code",
   "execution_count": 40,
   "metadata": {
    "id": "j7c_Cf04B21T",
    "outputId": "4484840b-faf5-4074-aa25-87e6f303bc3c",
    "scrolled": true
   },
   "outputs": [
    {
     "name": "stderr",
     "output_type": "stream",
     "text": [
      "100%|██████████████████████████████████████████████████████████████████████████| 21600/21600 [1:15:56<00:00,  4.79it/s]"
     ]
    }
   ],
   "source": [
    "progress_bar = tqdm(range(num_training_steps))\n",
    "\n",
    "distilbert_model.train()\n",
    "for epoch in range(num_epochs):\n",
    "    for batch in train_dataloader:\n",
    "        batch = {k: v.to(device) for k, v in batch.items()}\n",
    "        outputs = distilbert_model(**batch)\n",
    "        loss = outputs.loss\n",
    "        loss.backward()\n",
    "\n",
    "        optimizer.step()\n",
    "        lr_scheduler.step()\n",
    "        optimizer.zero_grad()\n",
    "        progress_bar.update(1)"
   ]
  },
  {
   "cell_type": "code",
   "execution_count": 42,
   "metadata": {
    "id": "p_dwMuk6B21T",
    "scrolled": true
   },
   "outputs": [],
   "source": [
    "torch.save(distilbert_model.state_dict(), PATH+\"/distilbert_model.pth\")"
   ]
  },
  {
   "cell_type": "code",
   "execution_count": 44,
   "metadata": {
    "id": "QKbyppPQB21T",
    "outputId": "f85a4a79-2510-47a8-9c5d-b14575e4568e",
    "scrolled": true
   },
   "outputs": [
    {
     "data": {
      "text/plain": [
       "DistilBertForSequenceClassification(\n",
       "  (distilbert): DistilBertModel(\n",
       "    (embeddings): Embeddings(\n",
       "      (word_embeddings): Embedding(30522, 768, padding_idx=0)\n",
       "      (position_embeddings): Embedding(512, 768)\n",
       "      (LayerNorm): LayerNorm((768,), eps=1e-12, elementwise_affine=True)\n",
       "      (dropout): Dropout(p=0.1, inplace=False)\n",
       "    )\n",
       "    (transformer): Transformer(\n",
       "      (layer): ModuleList(\n",
       "        (0): TransformerBlock(\n",
       "          (attention): MultiHeadSelfAttention(\n",
       "            (dropout): Dropout(p=0.1, inplace=False)\n",
       "            (q_lin): Linear(in_features=768, out_features=768, bias=True)\n",
       "            (k_lin): Linear(in_features=768, out_features=768, bias=True)\n",
       "            (v_lin): Linear(in_features=768, out_features=768, bias=True)\n",
       "            (out_lin): Linear(in_features=768, out_features=768, bias=True)\n",
       "          )\n",
       "          (sa_layer_norm): LayerNorm((768,), eps=1e-12, elementwise_affine=True)\n",
       "          (ffn): FFN(\n",
       "            (dropout): Dropout(p=0.1, inplace=False)\n",
       "            (lin1): Linear(in_features=768, out_features=3072, bias=True)\n",
       "            (lin2): Linear(in_features=3072, out_features=768, bias=True)\n",
       "            (activation): GELUActivation()\n",
       "          )\n",
       "          (output_layer_norm): LayerNorm((768,), eps=1e-12, elementwise_affine=True)\n",
       "        )\n",
       "        (1): TransformerBlock(\n",
       "          (attention): MultiHeadSelfAttention(\n",
       "            (dropout): Dropout(p=0.1, inplace=False)\n",
       "            (q_lin): Linear(in_features=768, out_features=768, bias=True)\n",
       "            (k_lin): Linear(in_features=768, out_features=768, bias=True)\n",
       "            (v_lin): Linear(in_features=768, out_features=768, bias=True)\n",
       "            (out_lin): Linear(in_features=768, out_features=768, bias=True)\n",
       "          )\n",
       "          (sa_layer_norm): LayerNorm((768,), eps=1e-12, elementwise_affine=True)\n",
       "          (ffn): FFN(\n",
       "            (dropout): Dropout(p=0.1, inplace=False)\n",
       "            (lin1): Linear(in_features=768, out_features=3072, bias=True)\n",
       "            (lin2): Linear(in_features=3072, out_features=768, bias=True)\n",
       "            (activation): GELUActivation()\n",
       "          )\n",
       "          (output_layer_norm): LayerNorm((768,), eps=1e-12, elementwise_affine=True)\n",
       "        )\n",
       "        (2): TransformerBlock(\n",
       "          (attention): MultiHeadSelfAttention(\n",
       "            (dropout): Dropout(p=0.1, inplace=False)\n",
       "            (q_lin): Linear(in_features=768, out_features=768, bias=True)\n",
       "            (k_lin): Linear(in_features=768, out_features=768, bias=True)\n",
       "            (v_lin): Linear(in_features=768, out_features=768, bias=True)\n",
       "            (out_lin): Linear(in_features=768, out_features=768, bias=True)\n",
       "          )\n",
       "          (sa_layer_norm): LayerNorm((768,), eps=1e-12, elementwise_affine=True)\n",
       "          (ffn): FFN(\n",
       "            (dropout): Dropout(p=0.1, inplace=False)\n",
       "            (lin1): Linear(in_features=768, out_features=3072, bias=True)\n",
       "            (lin2): Linear(in_features=3072, out_features=768, bias=True)\n",
       "            (activation): GELUActivation()\n",
       "          )\n",
       "          (output_layer_norm): LayerNorm((768,), eps=1e-12, elementwise_affine=True)\n",
       "        )\n",
       "        (3): TransformerBlock(\n",
       "          (attention): MultiHeadSelfAttention(\n",
       "            (dropout): Dropout(p=0.1, inplace=False)\n",
       "            (q_lin): Linear(in_features=768, out_features=768, bias=True)\n",
       "            (k_lin): Linear(in_features=768, out_features=768, bias=True)\n",
       "            (v_lin): Linear(in_features=768, out_features=768, bias=True)\n",
       "            (out_lin): Linear(in_features=768, out_features=768, bias=True)\n",
       "          )\n",
       "          (sa_layer_norm): LayerNorm((768,), eps=1e-12, elementwise_affine=True)\n",
       "          (ffn): FFN(\n",
       "            (dropout): Dropout(p=0.1, inplace=False)\n",
       "            (lin1): Linear(in_features=768, out_features=3072, bias=True)\n",
       "            (lin2): Linear(in_features=3072, out_features=768, bias=True)\n",
       "            (activation): GELUActivation()\n",
       "          )\n",
       "          (output_layer_norm): LayerNorm((768,), eps=1e-12, elementwise_affine=True)\n",
       "        )\n",
       "        (4): TransformerBlock(\n",
       "          (attention): MultiHeadSelfAttention(\n",
       "            (dropout): Dropout(p=0.1, inplace=False)\n",
       "            (q_lin): Linear(in_features=768, out_features=768, bias=True)\n",
       "            (k_lin): Linear(in_features=768, out_features=768, bias=True)\n",
       "            (v_lin): Linear(in_features=768, out_features=768, bias=True)\n",
       "            (out_lin): Linear(in_features=768, out_features=768, bias=True)\n",
       "          )\n",
       "          (sa_layer_norm): LayerNorm((768,), eps=1e-12, elementwise_affine=True)\n",
       "          (ffn): FFN(\n",
       "            (dropout): Dropout(p=0.1, inplace=False)\n",
       "            (lin1): Linear(in_features=768, out_features=3072, bias=True)\n",
       "            (lin2): Linear(in_features=3072, out_features=768, bias=True)\n",
       "            (activation): GELUActivation()\n",
       "          )\n",
       "          (output_layer_norm): LayerNorm((768,), eps=1e-12, elementwise_affine=True)\n",
       "        )\n",
       "        (5): TransformerBlock(\n",
       "          (attention): MultiHeadSelfAttention(\n",
       "            (dropout): Dropout(p=0.1, inplace=False)\n",
       "            (q_lin): Linear(in_features=768, out_features=768, bias=True)\n",
       "            (k_lin): Linear(in_features=768, out_features=768, bias=True)\n",
       "            (v_lin): Linear(in_features=768, out_features=768, bias=True)\n",
       "            (out_lin): Linear(in_features=768, out_features=768, bias=True)\n",
       "          )\n",
       "          (sa_layer_norm): LayerNorm((768,), eps=1e-12, elementwise_affine=True)\n",
       "          (ffn): FFN(\n",
       "            (dropout): Dropout(p=0.1, inplace=False)\n",
       "            (lin1): Linear(in_features=768, out_features=3072, bias=True)\n",
       "            (lin2): Linear(in_features=3072, out_features=768, bias=True)\n",
       "            (activation): GELUActivation()\n",
       "          )\n",
       "          (output_layer_norm): LayerNorm((768,), eps=1e-12, elementwise_affine=True)\n",
       "        )\n",
       "      )\n",
       "    )\n",
       "  )\n",
       "  (pre_classifier): Linear(in_features=768, out_features=768, bias=True)\n",
       "  (classifier): Linear(in_features=768, out_features=3, bias=True)\n",
       "  (dropout): Dropout(p=0.2, inplace=False)\n",
       ")"
      ]
     },
     "execution_count": 44,
     "metadata": {},
     "output_type": "execute_result"
    }
   ],
   "source": [
    "distilbert_model.load_state_dict(torch.load(PATH+\"/distilbert_model.pth\"))\n",
    "distilbert_model.eval()"
   ]
  },
  {
   "cell_type": "code",
   "execution_count": 45,
   "metadata": {
    "id": "eptOBY6YB21U",
    "outputId": "b32907f6-cf21-4d22-cb2e-e0dfb17e8e03",
    "scrolled": true
   },
   "outputs": [
    {
     "data": {
      "text/plain": [
       "DistilBertForSequenceClassification(\n",
       "  (distilbert): DistilBertModel(\n",
       "    (embeddings): Embeddings(\n",
       "      (word_embeddings): Embedding(30522, 768, padding_idx=0)\n",
       "      (position_embeddings): Embedding(512, 768)\n",
       "      (LayerNorm): LayerNorm((768,), eps=1e-12, elementwise_affine=True)\n",
       "      (dropout): Dropout(p=0.1, inplace=False)\n",
       "    )\n",
       "    (transformer): Transformer(\n",
       "      (layer): ModuleList(\n",
       "        (0): TransformerBlock(\n",
       "          (attention): MultiHeadSelfAttention(\n",
       "            (dropout): Dropout(p=0.1, inplace=False)\n",
       "            (q_lin): Linear(in_features=768, out_features=768, bias=True)\n",
       "            (k_lin): Linear(in_features=768, out_features=768, bias=True)\n",
       "            (v_lin): Linear(in_features=768, out_features=768, bias=True)\n",
       "            (out_lin): Linear(in_features=768, out_features=768, bias=True)\n",
       "          )\n",
       "          (sa_layer_norm): LayerNorm((768,), eps=1e-12, elementwise_affine=True)\n",
       "          (ffn): FFN(\n",
       "            (dropout): Dropout(p=0.1, inplace=False)\n",
       "            (lin1): Linear(in_features=768, out_features=3072, bias=True)\n",
       "            (lin2): Linear(in_features=3072, out_features=768, bias=True)\n",
       "            (activation): GELUActivation()\n",
       "          )\n",
       "          (output_layer_norm): LayerNorm((768,), eps=1e-12, elementwise_affine=True)\n",
       "        )\n",
       "        (1): TransformerBlock(\n",
       "          (attention): MultiHeadSelfAttention(\n",
       "            (dropout): Dropout(p=0.1, inplace=False)\n",
       "            (q_lin): Linear(in_features=768, out_features=768, bias=True)\n",
       "            (k_lin): Linear(in_features=768, out_features=768, bias=True)\n",
       "            (v_lin): Linear(in_features=768, out_features=768, bias=True)\n",
       "            (out_lin): Linear(in_features=768, out_features=768, bias=True)\n",
       "          )\n",
       "          (sa_layer_norm): LayerNorm((768,), eps=1e-12, elementwise_affine=True)\n",
       "          (ffn): FFN(\n",
       "            (dropout): Dropout(p=0.1, inplace=False)\n",
       "            (lin1): Linear(in_features=768, out_features=3072, bias=True)\n",
       "            (lin2): Linear(in_features=3072, out_features=768, bias=True)\n",
       "            (activation): GELUActivation()\n",
       "          )\n",
       "          (output_layer_norm): LayerNorm((768,), eps=1e-12, elementwise_affine=True)\n",
       "        )\n",
       "        (2): TransformerBlock(\n",
       "          (attention): MultiHeadSelfAttention(\n",
       "            (dropout): Dropout(p=0.1, inplace=False)\n",
       "            (q_lin): Linear(in_features=768, out_features=768, bias=True)\n",
       "            (k_lin): Linear(in_features=768, out_features=768, bias=True)\n",
       "            (v_lin): Linear(in_features=768, out_features=768, bias=True)\n",
       "            (out_lin): Linear(in_features=768, out_features=768, bias=True)\n",
       "          )\n",
       "          (sa_layer_norm): LayerNorm((768,), eps=1e-12, elementwise_affine=True)\n",
       "          (ffn): FFN(\n",
       "            (dropout): Dropout(p=0.1, inplace=False)\n",
       "            (lin1): Linear(in_features=768, out_features=3072, bias=True)\n",
       "            (lin2): Linear(in_features=3072, out_features=768, bias=True)\n",
       "            (activation): GELUActivation()\n",
       "          )\n",
       "          (output_layer_norm): LayerNorm((768,), eps=1e-12, elementwise_affine=True)\n",
       "        )\n",
       "        (3): TransformerBlock(\n",
       "          (attention): MultiHeadSelfAttention(\n",
       "            (dropout): Dropout(p=0.1, inplace=False)\n",
       "            (q_lin): Linear(in_features=768, out_features=768, bias=True)\n",
       "            (k_lin): Linear(in_features=768, out_features=768, bias=True)\n",
       "            (v_lin): Linear(in_features=768, out_features=768, bias=True)\n",
       "            (out_lin): Linear(in_features=768, out_features=768, bias=True)\n",
       "          )\n",
       "          (sa_layer_norm): LayerNorm((768,), eps=1e-12, elementwise_affine=True)\n",
       "          (ffn): FFN(\n",
       "            (dropout): Dropout(p=0.1, inplace=False)\n",
       "            (lin1): Linear(in_features=768, out_features=3072, bias=True)\n",
       "            (lin2): Linear(in_features=3072, out_features=768, bias=True)\n",
       "            (activation): GELUActivation()\n",
       "          )\n",
       "          (output_layer_norm): LayerNorm((768,), eps=1e-12, elementwise_affine=True)\n",
       "        )\n",
       "        (4): TransformerBlock(\n",
       "          (attention): MultiHeadSelfAttention(\n",
       "            (dropout): Dropout(p=0.1, inplace=False)\n",
       "            (q_lin): Linear(in_features=768, out_features=768, bias=True)\n",
       "            (k_lin): Linear(in_features=768, out_features=768, bias=True)\n",
       "            (v_lin): Linear(in_features=768, out_features=768, bias=True)\n",
       "            (out_lin): Linear(in_features=768, out_features=768, bias=True)\n",
       "          )\n",
       "          (sa_layer_norm): LayerNorm((768,), eps=1e-12, elementwise_affine=True)\n",
       "          (ffn): FFN(\n",
       "            (dropout): Dropout(p=0.1, inplace=False)\n",
       "            (lin1): Linear(in_features=768, out_features=3072, bias=True)\n",
       "            (lin2): Linear(in_features=3072, out_features=768, bias=True)\n",
       "            (activation): GELUActivation()\n",
       "          )\n",
       "          (output_layer_norm): LayerNorm((768,), eps=1e-12, elementwise_affine=True)\n",
       "        )\n",
       "        (5): TransformerBlock(\n",
       "          (attention): MultiHeadSelfAttention(\n",
       "            (dropout): Dropout(p=0.1, inplace=False)\n",
       "            (q_lin): Linear(in_features=768, out_features=768, bias=True)\n",
       "            (k_lin): Linear(in_features=768, out_features=768, bias=True)\n",
       "            (v_lin): Linear(in_features=768, out_features=768, bias=True)\n",
       "            (out_lin): Linear(in_features=768, out_features=768, bias=True)\n",
       "          )\n",
       "          (sa_layer_norm): LayerNorm((768,), eps=1e-12, elementwise_affine=True)\n",
       "          (ffn): FFN(\n",
       "            (dropout): Dropout(p=0.1, inplace=False)\n",
       "            (lin1): Linear(in_features=768, out_features=3072, bias=True)\n",
       "            (lin2): Linear(in_features=3072, out_features=768, bias=True)\n",
       "            (activation): GELUActivation()\n",
       "          )\n",
       "          (output_layer_norm): LayerNorm((768,), eps=1e-12, elementwise_affine=True)\n",
       "        )\n",
       "      )\n",
       "    )\n",
       "  )\n",
       "  (pre_classifier): Linear(in_features=768, out_features=768, bias=True)\n",
       "  (classifier): Linear(in_features=768, out_features=3, bias=True)\n",
       "  (dropout): Dropout(p=0.2, inplace=False)\n",
       ")"
      ]
     },
     "execution_count": 45,
     "metadata": {},
     "output_type": "execute_result"
    }
   ],
   "source": [
    "device = torch.device(\"cuda\") if torch.cuda.is_available() else torch.device(\"cpu\")\n",
    "distilbert_model.to(device)"
   ]
  },
  {
   "cell_type": "markdown",
   "metadata": {
    "id": "8FIOouQvB21U"
   },
   "source": [
    "### Testing DistilBERT model"
   ]
  },
  {
   "cell_type": "code",
   "execution_count": 48,
   "metadata": {
    "id": "q0uNDRjOB21U",
    "outputId": "c7e16b38-4579-4257-8e5e-fb5ca40d1d26",
    "scrolled": true
   },
   "outputs": [
    {
     "name": "stderr",
     "output_type": "stream",
     "text": [
      "\n",
      "100%|██████████████████████████████████████████████████████████████████████████| 21600/21600 [1:17:59<00:00,  4.62it/s]\u001b[A\n",
      "\n",
      "  0%|                                                                                 | 1/1800 [00:00<10:20,  2.90it/s]\u001b[A\n",
      "  0%|▏                                                                                | 3/1800 [00:00<04:14,  7.07it/s]\u001b[A\n",
      "  0%|▏                                                                                | 5/1800 [00:00<03:09,  9.49it/s]\u001b[A\n",
      "  0%|▎                                                                                | 7/1800 [00:00<02:42, 11.04it/s]\u001b[A\n",
      "  0%|▍                                                                                | 9/1800 [00:00<02:28, 12.06it/s]\u001b[A\n",
      "  1%|▍                                                                               | 11/1800 [00:01<02:20, 12.74it/s]\u001b[A\n",
      "  1%|▌                                                                               | 13/1800 [00:01<02:15, 13.23it/s]\u001b[A\n",
      "  1%|▋                                                                               | 15/1800 [00:01<02:11, 13.53it/s]\u001b[A\n",
      "  1%|▊                                                                               | 17/1800 [00:01<02:09, 13.74it/s]\u001b[A\n",
      "  1%|▊                                                                               | 19/1800 [00:01<02:08, 13.88it/s]\u001b[A\n",
      "  1%|▉                                                                               | 21/1800 [00:01<02:07, 13.93it/s]\u001b[A\n",
      "  1%|█                                                                               | 23/1800 [00:01<02:06, 14.02it/s]\u001b[A\n",
      "  1%|█                                                                               | 25/1800 [00:02<02:05, 14.14it/s]\u001b[A\n",
      "  2%|█▏                                                                              | 27/1800 [00:02<02:05, 14.16it/s]\u001b[A\n",
      "  2%|█▎                                                                              | 29/1800 [00:02<02:07, 13.94it/s]\u001b[A\n",
      "  2%|█▍                                                                              | 31/1800 [00:02<02:06, 13.97it/s]\u001b[A\n",
      "  2%|█▍                                                                              | 33/1800 [00:02<02:05, 14.07it/s]\u001b[A\n",
      "  2%|█▌                                                                              | 35/1800 [00:02<02:05, 14.12it/s]\u001b[A\n",
      "  2%|█▋                                                                              | 37/1800 [00:02<02:04, 14.15it/s]\u001b[A\n",
      "  2%|█▋                                                                              | 39/1800 [00:03<02:04, 14.14it/s]\u001b[A\n",
      "  2%|█▊                                                                              | 41/1800 [00:03<02:03, 14.23it/s]\u001b[A\n",
      "  2%|█▉                                                                              | 43/1800 [00:03<02:03, 14.19it/s]\u001b[A\n",
      "  2%|██                                                                              | 45/1800 [00:03<02:03, 14.23it/s]\u001b[A\n",
      "  3%|██                                                                              | 47/1800 [00:03<02:02, 14.29it/s]\u001b[A\n",
      "  3%|██▏                                                                             | 49/1800 [00:03<02:03, 14.18it/s]\u001b[A\n",
      "  3%|██▎                                                                             | 51/1800 [00:03<02:02, 14.22it/s]\u001b[A\n",
      "  3%|██▎                                                                             | 53/1800 [00:04<02:02, 14.25it/s]\u001b[A\n",
      "  3%|██▍                                                                             | 55/1800 [00:04<02:01, 14.33it/s]\u001b[A\n",
      "  3%|██▌                                                                             | 57/1800 [00:04<02:01, 14.36it/s]\u001b[A\n",
      "  3%|██▌                                                                             | 59/1800 [00:04<02:01, 14.35it/s]\u001b[A\n",
      "  3%|██▋                                                                             | 61/1800 [00:04<02:00, 14.37it/s]\u001b[A\n",
      "  4%|██▊                                                                             | 63/1800 [00:04<02:01, 14.30it/s]\u001b[A\n",
      "  4%|██▉                                                                             | 65/1800 [00:04<02:01, 14.30it/s]\u001b[A\n",
      "  4%|██▉                                                                             | 67/1800 [00:04<02:02, 14.16it/s]\u001b[A\n",
      "  4%|███                                                                             | 69/1800 [00:05<02:04, 13.94it/s]\u001b[A\n",
      "  4%|███▏                                                                            | 71/1800 [00:05<02:02, 14.08it/s]\u001b[A\n",
      "  4%|███▏                                                                            | 73/1800 [00:05<02:01, 14.18it/s]\u001b[A\n",
      "  4%|███▎                                                                            | 75/1800 [00:05<02:02, 14.14it/s]\u001b[A\n",
      "  4%|███▍                                                                            | 77/1800 [00:05<02:01, 14.16it/s]\u001b[A\n",
      "  4%|███▌                                                                            | 79/1800 [00:05<02:01, 14.15it/s]\u001b[A\n",
      "  4%|███▌                                                                            | 81/1800 [00:05<02:02, 14.08it/s]\u001b[A\n",
      "  5%|███▋                                                                            | 83/1800 [00:06<02:01, 14.15it/s]\u001b[A\n",
      "  5%|███▊                                                                            | 85/1800 [00:06<02:00, 14.17it/s]\u001b[A\n",
      "  5%|███▊                                                                            | 87/1800 [00:06<02:00, 14.25it/s]\u001b[A\n",
      "  5%|███▉                                                                            | 89/1800 [00:06<02:01, 14.12it/s]\u001b[A\n",
      "  5%|████                                                                            | 91/1800 [00:06<02:01, 14.03it/s]\u001b[A\n",
      "  5%|████▏                                                                           | 93/1800 [00:06<02:02, 13.97it/s]\u001b[A\n",
      "  5%|████▏                                                                           | 95/1800 [00:06<02:02, 13.90it/s]\u001b[A\n",
      "  5%|████▎                                                                           | 97/1800 [00:07<02:02, 13.91it/s]\u001b[A\n",
      "  6%|████▍                                                                           | 99/1800 [00:07<02:02, 13.91it/s]\u001b[A\n",
      "  6%|████▍                                                                          | 101/1800 [00:07<02:02, 13.84it/s]\u001b[A\n",
      "  6%|████▌                                                                          | 103/1800 [00:07<02:01, 13.96it/s]\u001b[A\n",
      "  6%|████▌                                                                          | 105/1800 [00:07<02:01, 13.92it/s]\u001b[A\n",
      "  6%|████▋                                                                          | 107/1800 [00:07<02:01, 13.95it/s]\u001b[A\n",
      "  6%|████▊                                                                          | 109/1800 [00:07<02:00, 14.06it/s]\u001b[A\n",
      "  6%|████▊                                                                          | 111/1800 [00:08<02:01, 13.90it/s]\u001b[A\n",
      "  6%|████▉                                                                          | 113/1800 [00:08<02:00, 14.06it/s]\u001b[A\n",
      "  6%|█████                                                                          | 115/1800 [00:08<01:59, 14.09it/s]\u001b[A\n",
      "  6%|█████▏                                                                         | 117/1800 [00:08<01:59, 14.13it/s]\u001b[A\n",
      "  7%|█████▏                                                                         | 119/1800 [00:08<01:59, 14.04it/s]\u001b[A\n",
      "  7%|█████▎                                                                         | 121/1800 [00:08<01:59, 14.09it/s]\u001b[A\n",
      "  7%|█████▍                                                                         | 123/1800 [00:08<01:59, 14.07it/s]\u001b[A\n",
      "  7%|█████▍                                                                         | 125/1800 [00:09<01:59, 14.03it/s]\u001b[A\n",
      "  7%|█████▌                                                                         | 127/1800 [00:09<01:59, 14.03it/s]\u001b[A\n",
      "  7%|█████▋                                                                         | 129/1800 [00:09<01:59, 14.02it/s]\u001b[A\n"
     ]
    },
    {
     "name": "stderr",
     "output_type": "stream",
     "text": [
      "  7%|█████▋                                                                         | 131/1800 [00:09<01:58, 14.05it/s]\u001b[A\n",
      "  7%|█████▊                                                                         | 133/1800 [00:09<01:58, 14.08it/s]\u001b[A\n",
      "  8%|█████▉                                                                         | 135/1800 [00:09<01:58, 14.09it/s]\u001b[A\n",
      "  8%|██████                                                                         | 137/1800 [00:09<01:57, 14.10it/s]\u001b[A\n",
      "  8%|██████                                                                         | 139/1800 [00:10<01:58, 13.96it/s]\u001b[A\n",
      "  8%|██████▏                                                                        | 141/1800 [00:10<01:59, 13.83it/s]\u001b[A\n",
      "  8%|██████▎                                                                        | 143/1800 [00:10<01:59, 13.89it/s]\u001b[A\n",
      "  8%|██████▎                                                                        | 145/1800 [00:10<01:58, 13.99it/s]\u001b[A\n",
      "  8%|██████▍                                                                        | 147/1800 [00:10<01:58, 13.97it/s]\u001b[A\n",
      "  8%|██████▌                                                                        | 149/1800 [00:10<01:57, 14.01it/s]\u001b[A\n",
      "  8%|██████▋                                                                        | 151/1800 [00:10<01:57, 14.02it/s]\u001b[A\n",
      "  8%|██████▋                                                                        | 153/1800 [00:11<01:56, 14.08it/s]\u001b[A\n",
      "  9%|██████▊                                                                        | 155/1800 [00:11<01:58, 13.92it/s]\u001b[A\n",
      "  9%|██████▉                                                                        | 157/1800 [00:11<01:57, 14.01it/s]\u001b[A\n",
      "  9%|██████▉                                                                        | 159/1800 [00:11<01:58, 13.89it/s]\u001b[A\n",
      "  9%|███████                                                                        | 161/1800 [00:11<01:58, 13.79it/s]\u001b[A\n",
      "  9%|███████▏                                                                       | 163/1800 [00:11<02:02, 13.39it/s]\u001b[A\n",
      "  9%|███████▏                                                                       | 165/1800 [00:12<02:01, 13.49it/s]\u001b[A\n",
      "  9%|███████▎                                                                       | 167/1800 [00:12<01:59, 13.65it/s]\u001b[A\n",
      "  9%|███████▍                                                                       | 169/1800 [00:12<01:59, 13.70it/s]\u001b[A\n",
      " 10%|███████▌                                                                       | 171/1800 [00:12<01:57, 13.82it/s]\u001b[A\n",
      " 10%|███████▌                                                                       | 173/1800 [00:12<01:57, 13.88it/s]\u001b[A\n",
      " 10%|███████▋                                                                       | 175/1800 [00:12<01:55, 14.01it/s]\u001b[A\n",
      " 10%|███████▊                                                                       | 177/1800 [00:12<01:54, 14.14it/s]\u001b[A\n",
      " 10%|███████▊                                                                       | 179/1800 [00:12<01:54, 14.19it/s]\u001b[A\n",
      " 10%|███████▉                                                                       | 181/1800 [00:13<01:53, 14.26it/s]\u001b[A\n",
      " 10%|████████                                                                       | 183/1800 [00:13<01:52, 14.31it/s]\u001b[A\n",
      " 10%|████████                                                                       | 185/1800 [00:13<01:52, 14.32it/s]\u001b[A\n",
      " 10%|████████▏                                                                      | 187/1800 [00:13<01:52, 14.35it/s]\u001b[A\n",
      " 10%|████████▎                                                                      | 189/1800 [00:13<01:52, 14.31it/s]\u001b[A\n",
      " 11%|████████▍                                                                      | 191/1800 [00:13<01:52, 14.34it/s]\u001b[A\n",
      " 11%|████████▍                                                                      | 193/1800 [00:13<01:52, 14.33it/s]\u001b[A\n",
      " 11%|████████▌                                                                      | 195/1800 [00:14<01:51, 14.34it/s]\u001b[A\n",
      " 11%|████████▋                                                                      | 197/1800 [00:14<01:52, 14.31it/s]\u001b[A\n",
      " 11%|████████▋                                                                      | 199/1800 [00:14<01:52, 14.19it/s]\u001b[A\n",
      " 11%|████████▊                                                                      | 201/1800 [00:14<01:52, 14.23it/s]\u001b[A\n",
      " 11%|████████▉                                                                      | 203/1800 [00:14<01:51, 14.29it/s]\u001b[A\n",
      " 11%|████████▉                                                                      | 205/1800 [00:14<01:51, 14.33it/s]\u001b[A\n",
      " 12%|█████████                                                                      | 207/1800 [00:14<01:51, 14.32it/s]\u001b[A\n",
      " 12%|█████████▏                                                                     | 209/1800 [00:15<01:51, 14.32it/s]\u001b[A\n",
      " 12%|█████████▎                                                                     | 211/1800 [00:15<01:50, 14.34it/s]\u001b[A\n",
      " 12%|█████████▎                                                                     | 213/1800 [00:15<01:50, 14.36it/s]\u001b[A\n",
      " 12%|█████████▍                                                                     | 215/1800 [00:15<01:50, 14.36it/s]\u001b[A\n",
      " 12%|█████████▌                                                                     | 217/1800 [00:15<01:50, 14.36it/s]\u001b[A\n",
      " 12%|█████████▌                                                                     | 219/1800 [00:15<01:49, 14.41it/s]\u001b[A\n",
      " 12%|█████████▋                                                                     | 221/1800 [00:15<01:49, 14.40it/s]\u001b[A\n",
      " 12%|█████████▊                                                                     | 223/1800 [00:16<01:49, 14.36it/s]\u001b[A\n",
      " 12%|█████████▉                                                                     | 225/1800 [00:16<01:49, 14.38it/s]\u001b[A\n",
      " 13%|█████████▉                                                                     | 227/1800 [00:16<01:49, 14.39it/s]\u001b[A\n",
      " 13%|██████████                                                                     | 229/1800 [00:16<01:49, 14.39it/s]\u001b[A\n",
      " 13%|██████████▏                                                                    | 231/1800 [00:16<01:49, 14.38it/s]\u001b[A\n",
      " 13%|██████████▏                                                                    | 233/1800 [00:16<01:49, 14.35it/s]\u001b[A\n",
      " 13%|██████████▎                                                                    | 235/1800 [00:16<01:49, 14.34it/s]\u001b[A\n",
      " 13%|██████████▍                                                                    | 237/1800 [00:17<01:48, 14.37it/s]\u001b[A\n",
      " 13%|██████████▍                                                                    | 239/1800 [00:17<01:48, 14.38it/s]\u001b[A\n",
      " 13%|██████████▌                                                                    | 241/1800 [00:17<01:48, 14.37it/s]\u001b[A\n",
      " 14%|██████████▋                                                                    | 243/1800 [00:17<01:49, 14.26it/s]\u001b[A\n",
      " 14%|██████████▊                                                                    | 245/1800 [00:17<01:49, 14.22it/s]\u001b[A\n",
      " 14%|██████████▊                                                                    | 247/1800 [00:17<01:49, 14.14it/s]\u001b[A\n",
      " 14%|██████████▉                                                                    | 249/1800 [00:17<01:49, 14.17it/s]\u001b[A\n",
      " 14%|███████████                                                                    | 251/1800 [00:18<01:49, 14.15it/s]\u001b[A\n",
      " 14%|███████████                                                                    | 253/1800 [00:18<01:49, 14.11it/s]\u001b[A\n",
      " 14%|███████████▏                                                                   | 255/1800 [00:18<01:49, 14.14it/s]\u001b[A\n",
      " 14%|███████████▎                                                                   | 257/1800 [00:18<01:49, 14.13it/s]\u001b[A\n",
      " 14%|███████████▎                                                                   | 259/1800 [00:18<01:48, 14.22it/s]\u001b[A\n",
      " 14%|███████████▍                                                                   | 261/1800 [00:18<01:47, 14.26it/s]\u001b[A\n"
     ]
    },
    {
     "name": "stderr",
     "output_type": "stream",
     "text": [
      " 15%|███████████▌                                                                   | 263/1800 [00:18<01:47, 14.31it/s]\u001b[A\n",
      " 15%|███████████▋                                                                   | 265/1800 [00:19<01:47, 14.27it/s]\u001b[A\n",
      " 15%|███████████▋                                                                   | 267/1800 [00:19<01:47, 14.32it/s]\u001b[A\n",
      " 15%|███████████▊                                                                   | 269/1800 [00:19<01:46, 14.32it/s]\u001b[A\n",
      " 15%|███████████▉                                                                   | 271/1800 [00:19<01:46, 14.30it/s]\u001b[A\n",
      " 15%|███████████▉                                                                   | 273/1800 [00:19<01:46, 14.33it/s]\u001b[A\n",
      " 15%|████████████                                                                   | 275/1800 [00:19<01:46, 14.33it/s]\u001b[A\n",
      " 15%|████████████▏                                                                  | 277/1800 [00:19<01:46, 14.33it/s]\u001b[A\n",
      " 16%|████████████▏                                                                  | 279/1800 [00:19<01:46, 14.33it/s]\u001b[A\n",
      " 16%|████████████▎                                                                  | 281/1800 [00:20<01:46, 14.33it/s]\u001b[A\n",
      " 16%|████████████▍                                                                  | 283/1800 [00:20<01:45, 14.36it/s]\u001b[A\n",
      " 16%|████████████▌                                                                  | 285/1800 [00:20<01:45, 14.35it/s]\u001b[A\n",
      " 16%|████████████▌                                                                  | 287/1800 [00:20<01:45, 14.35it/s]\u001b[A\n",
      " 16%|████████████▋                                                                  | 289/1800 [00:20<01:45, 14.34it/s]\u001b[A\n",
      " 16%|████████████▊                                                                  | 291/1800 [00:20<01:45, 14.34it/s]\u001b[A\n",
      " 16%|████████████▊                                                                  | 293/1800 [00:20<01:45, 14.32it/s]\u001b[A\n",
      " 16%|████████████▉                                                                  | 295/1800 [00:21<01:45, 14.33it/s]\u001b[A\n",
      " 16%|█████████████                                                                  | 297/1800 [00:21<01:44, 14.36it/s]\u001b[A\n",
      " 17%|█████████████                                                                  | 299/1800 [00:21<01:44, 14.35it/s]\u001b[A\n",
      " 17%|█████████████▏                                                                 | 301/1800 [00:21<01:44, 14.34it/s]\u001b[A\n",
      " 17%|█████████████▎                                                                 | 303/1800 [00:21<01:44, 14.34it/s]\u001b[A\n",
      " 17%|█████████████▍                                                                 | 305/1800 [00:21<01:44, 14.33it/s]\u001b[A\n",
      " 17%|█████████████▍                                                                 | 307/1800 [00:21<01:44, 14.27it/s]\u001b[A\n",
      " 17%|█████████████▌                                                                 | 309/1800 [00:22<01:44, 14.29it/s]\u001b[A\n",
      " 17%|█████████████▋                                                                 | 311/1800 [00:22<01:44, 14.27it/s]\u001b[A\n",
      " 17%|█████████████▋                                                                 | 313/1800 [00:22<01:43, 14.30it/s]\u001b[A\n",
      " 18%|█████████████▊                                                                 | 315/1800 [00:22<01:43, 14.29it/s]\u001b[A\n",
      " 18%|█████████████▉                                                                 | 317/1800 [00:22<01:43, 14.26it/s]\u001b[A\n",
      " 18%|██████████████                                                                 | 319/1800 [00:22<01:43, 14.29it/s]\u001b[A\n",
      " 18%|██████████████                                                                 | 321/1800 [00:22<01:43, 14.27it/s]\u001b[A\n",
      " 18%|██████████████▏                                                                | 323/1800 [00:23<01:43, 14.26it/s]\u001b[A\n",
      " 18%|██████████████▎                                                                | 325/1800 [00:23<01:43, 14.28it/s]\u001b[A\n",
      " 18%|██████████████▎                                                                | 327/1800 [00:23<01:42, 14.31it/s]\u001b[A\n",
      " 18%|██████████████▍                                                                | 329/1800 [00:23<01:42, 14.31it/s]\u001b[A\n",
      " 18%|██████████████▌                                                                | 331/1800 [00:23<01:42, 14.29it/s]\u001b[A\n",
      " 18%|██████████████▌                                                                | 333/1800 [00:23<01:43, 14.15it/s]\u001b[A\n",
      " 19%|██████████████▋                                                                | 335/1800 [00:23<01:44, 14.03it/s]\u001b[A\n",
      " 19%|██████████████▊                                                                | 337/1800 [00:24<01:43, 14.12it/s]\u001b[A\n",
      " 19%|██████████████▉                                                                | 339/1800 [00:24<01:43, 14.18it/s]\u001b[A\n",
      " 19%|██████████████▉                                                                | 341/1800 [00:24<01:42, 14.21it/s]\u001b[A\n",
      " 19%|███████████████                                                                | 343/1800 [00:24<01:42, 14.22it/s]\u001b[A\n",
      " 19%|███████████████▏                                                               | 345/1800 [00:24<01:42, 14.24it/s]\u001b[A\n",
      " 19%|███████████████▏                                                               | 347/1800 [00:24<01:41, 14.28it/s]\u001b[A\n",
      " 19%|███████████████▎                                                               | 349/1800 [00:24<01:41, 14.28it/s]\u001b[A\n",
      " 20%|███████████████▍                                                               | 351/1800 [00:25<01:43, 14.01it/s]\u001b[A\n",
      " 20%|███████████████▍                                                               | 353/1800 [00:25<01:43, 13.99it/s]\u001b[A\n",
      " 20%|███████████████▌                                                               | 355/1800 [00:25<01:42, 14.12it/s]\u001b[A\n",
      " 20%|███████████████▋                                                               | 357/1800 [00:25<01:41, 14.18it/s]\u001b[A\n",
      " 20%|███████████████▊                                                               | 359/1800 [00:25<01:41, 14.22it/s]\u001b[A\n",
      " 20%|███████████████▊                                                               | 361/1800 [00:25<01:40, 14.25it/s]\u001b[A\n",
      " 20%|███████████████▉                                                               | 363/1800 [00:25<01:41, 14.21it/s]\u001b[A\n",
      " 20%|████████████████                                                               | 365/1800 [00:26<01:40, 14.22it/s]\u001b[A\n",
      " 20%|████████████████                                                               | 367/1800 [00:26<01:40, 14.22it/s]\u001b[A\n",
      " 20%|████████████████▏                                                              | 369/1800 [00:26<01:41, 14.13it/s]\u001b[A\n",
      " 21%|████████████████▎                                                              | 371/1800 [00:26<01:42, 13.95it/s]\u001b[A\n",
      " 21%|████████████████▎                                                              | 373/1800 [00:26<01:41, 14.06it/s]\u001b[A\n",
      " 21%|████████████████▍                                                              | 375/1800 [00:26<01:40, 14.14it/s]\u001b[A\n",
      " 21%|████████████████▌                                                              | 377/1800 [00:26<01:41, 13.99it/s]\u001b[A\n",
      " 21%|████████████████▋                                                              | 379/1800 [00:27<01:43, 13.77it/s]\u001b[A\n",
      " 21%|████████████████▋                                                              | 381/1800 [00:27<01:44, 13.62it/s]\u001b[A\n",
      " 21%|████████████████▊                                                              | 383/1800 [00:27<01:45, 13.49it/s]\u001b[A\n",
      " 21%|████████████████▉                                                              | 385/1800 [00:27<01:43, 13.64it/s]\u001b[A\n",
      " 22%|████████████████▉                                                              | 387/1800 [00:27<01:42, 13.84it/s]\u001b[A\n",
      " 22%|█████████████████                                                              | 389/1800 [00:27<01:41, 13.95it/s]\u001b[A\n",
      " 22%|█████████████████▏                                                             | 391/1800 [00:27<01:40, 14.06it/s]\u001b[A\n",
      " 22%|█████████████████▏                                                             | 393/1800 [00:28<01:39, 14.11it/s]\u001b[A\n"
     ]
    },
    {
     "name": "stderr",
     "output_type": "stream",
     "text": [
      " 22%|█████████████████▎                                                             | 395/1800 [00:28<01:39, 14.11it/s]\u001b[A\n",
      " 22%|█████████████████▍                                                             | 397/1800 [00:28<01:40, 13.91it/s]\u001b[A\n",
      " 22%|█████████████████▌                                                             | 399/1800 [00:28<01:40, 13.91it/s]\u001b[A\n",
      " 22%|█████████████████▌                                                             | 401/1800 [00:28<01:41, 13.77it/s]\u001b[A\n",
      " 22%|█████████████████▋                                                             | 403/1800 [00:28<01:40, 13.91it/s]\u001b[A\n",
      " 22%|█████████████████▊                                                             | 405/1800 [00:28<01:39, 14.00it/s]\u001b[A\n",
      " 23%|█████████████████▊                                                             | 407/1800 [00:29<01:39, 14.07it/s]\u001b[A\n",
      " 23%|█████████████████▉                                                             | 409/1800 [00:29<01:38, 14.14it/s]\u001b[A\n",
      " 23%|██████████████████                                                             | 411/1800 [00:29<01:37, 14.23it/s]\u001b[A\n",
      " 23%|██████████████████▏                                                            | 413/1800 [00:29<01:37, 14.23it/s]\u001b[A\n",
      " 23%|██████████████████▏                                                            | 415/1800 [00:29<01:36, 14.29it/s]\u001b[A\n",
      " 23%|██████████████████▎                                                            | 417/1800 [00:29<01:36, 14.30it/s]\u001b[A\n",
      " 23%|██████████████████▍                                                            | 419/1800 [00:29<01:36, 14.24it/s]\u001b[A\n",
      " 23%|██████████████████▍                                                            | 421/1800 [00:30<01:36, 14.24it/s]\u001b[A\n",
      " 24%|██████████████████▌                                                            | 423/1800 [00:30<01:36, 14.23it/s]\u001b[A\n",
      " 24%|██████████████████▋                                                            | 425/1800 [00:30<01:36, 14.29it/s]\u001b[A\n",
      " 24%|██████████████████▋                                                            | 427/1800 [00:30<01:36, 14.27it/s]\u001b[A\n",
      " 24%|██████████████████▊                                                            | 429/1800 [00:30<01:35, 14.29it/s]\u001b[A\n",
      " 24%|██████████████████▉                                                            | 431/1800 [00:30<01:35, 14.27it/s]\u001b[A\n",
      " 24%|███████████████████                                                            | 433/1800 [00:30<01:35, 14.28it/s]\u001b[A\n",
      " 24%|███████████████████                                                            | 435/1800 [00:30<01:35, 14.27it/s]\u001b[A\n",
      " 24%|███████████████████▏                                                           | 437/1800 [00:31<01:35, 14.28it/s]\u001b[A\n",
      " 24%|███████████████████▎                                                           | 439/1800 [00:31<01:35, 14.30it/s]\u001b[A\n",
      " 24%|███████████████████▎                                                           | 441/1800 [00:31<01:35, 14.30it/s]\u001b[A\n",
      " 25%|███████████████████▍                                                           | 443/1800 [00:31<01:34, 14.31it/s]\u001b[A\n",
      " 25%|███████████████████▌                                                           | 445/1800 [00:31<01:34, 14.28it/s]\u001b[A\n",
      " 25%|███████████████████▌                                                           | 447/1800 [00:31<01:34, 14.30it/s]\u001b[A\n",
      " 25%|███████████████████▋                                                           | 449/1800 [00:31<01:34, 14.27it/s]\u001b[A\n",
      " 25%|███████████████████▊                                                           | 451/1800 [00:32<01:34, 14.26it/s]\u001b[A\n",
      " 25%|███████████████████▉                                                           | 453/1800 [00:32<01:34, 14.31it/s]\u001b[A\n",
      " 25%|███████████████████▉                                                           | 455/1800 [00:32<01:33, 14.31it/s]\u001b[A\n",
      " 25%|████████████████████                                                           | 457/1800 [00:32<01:33, 14.32it/s]\u001b[A\n",
      " 26%|████████████████████▏                                                          | 459/1800 [00:32<01:33, 14.29it/s]\u001b[A\n",
      " 26%|████████████████████▏                                                          | 461/1800 [00:32<01:33, 14.30it/s]\u001b[A\n",
      " 26%|████████████████████▎                                                          | 463/1800 [00:32<01:33, 14.25it/s]\u001b[A\n",
      " 26%|████████████████████▍                                                          | 465/1800 [00:33<01:33, 14.24it/s]\u001b[A\n",
      " 26%|████████████████████▍                                                          | 467/1800 [00:33<01:33, 14.29it/s]\u001b[A\n",
      " 26%|████████████████████▌                                                          | 469/1800 [00:33<01:33, 14.27it/s]\u001b[A\n",
      " 26%|████████████████████▋                                                          | 471/1800 [00:33<01:33, 14.29it/s]\u001b[A\n",
      " 26%|████████████████████▊                                                          | 473/1800 [00:33<01:32, 14.30it/s]\u001b[A\n",
      " 26%|████████████████████▊                                                          | 475/1800 [00:33<01:32, 14.28it/s]\u001b[A\n",
      " 26%|████████████████████▉                                                          | 477/1800 [00:33<01:32, 14.26it/s]\u001b[A\n",
      " 27%|█████████████████████                                                          | 479/1800 [00:34<01:32, 14.25it/s]\u001b[A\n",
      " 27%|█████████████████████                                                          | 481/1800 [00:34<01:32, 14.27it/s]\u001b[A\n",
      " 27%|█████████████████████▏                                                         | 483/1800 [00:34<01:32, 14.29it/s]\u001b[A\n",
      " 27%|█████████████████████▎                                                         | 485/1800 [00:34<01:31, 14.30it/s]\u001b[A\n",
      " 27%|█████████████████████▎                                                         | 487/1800 [00:34<01:31, 14.28it/s]\u001b[A\n",
      " 27%|█████████████████████▍                                                         | 489/1800 [00:34<01:31, 14.29it/s]\u001b[A\n",
      " 27%|█████████████████████▌                                                         | 491/1800 [00:34<01:31, 14.27it/s]\u001b[A\n",
      " 27%|█████████████████████▋                                                         | 493/1800 [00:35<01:31, 14.25it/s]\u001b[A\n",
      " 28%|█████████████████████▋                                                         | 495/1800 [00:35<01:31, 14.28it/s]\u001b[A\n",
      " 28%|█████████████████████▊                                                         | 497/1800 [00:35<01:31, 14.29it/s]\u001b[A\n",
      " 28%|█████████████████████▉                                                         | 499/1800 [00:35<01:30, 14.30it/s]\u001b[A\n",
      " 28%|█████████████████████▉                                                         | 501/1800 [00:35<01:30, 14.28it/s]\u001b[A\n",
      " 28%|██████████████████████                                                         | 503/1800 [00:35<01:30, 14.26it/s]\u001b[A\n",
      " 28%|██████████████████████▏                                                        | 505/1800 [00:35<01:30, 14.28it/s]\u001b[A\n",
      " 28%|██████████████████████▎                                                        | 507/1800 [00:36<01:30, 14.26it/s]\u001b[A\n",
      " 28%|██████████████████████▎                                                        | 509/1800 [00:36<01:30, 14.28it/s]\u001b[A\n",
      " 28%|██████████████████████▍                                                        | 511/1800 [00:36<01:30, 14.29it/s]\u001b[A\n",
      " 28%|██████████████████████▌                                                        | 513/1800 [00:36<01:29, 14.30it/s]\u001b[A\n",
      " 29%|██████████████████████▌                                                        | 515/1800 [00:36<01:29, 14.31it/s]\u001b[A\n",
      " 29%|██████████████████████▋                                                        | 517/1800 [00:36<01:29, 14.31it/s]\u001b[A\n",
      " 29%|██████████████████████▊                                                        | 519/1800 [00:36<01:30, 14.23it/s]\u001b[A\n",
      " 29%|██████████████████████▊                                                        | 521/1800 [00:37<01:29, 14.23it/s]\u001b[A\n",
      " 29%|██████████████████████▉                                                        | 523/1800 [00:37<01:29, 14.25it/s]\u001b[A\n",
      " 29%|███████████████████████                                                        | 525/1800 [00:37<01:29, 14.24it/s]\u001b[A\n"
     ]
    },
    {
     "name": "stderr",
     "output_type": "stream",
     "text": [
      " 29%|███████████████████████▏                                                       | 527/1800 [00:37<01:29, 14.27it/s]\u001b[A\n",
      " 29%|███████████████████████▏                                                       | 529/1800 [00:37<01:29, 14.26it/s]\u001b[A\n",
      " 30%|███████████████████████▎                                                       | 531/1800 [00:37<01:29, 14.23it/s]\u001b[A\n",
      " 30%|███████████████████████▍                                                       | 533/1800 [00:37<01:29, 14.22it/s]\u001b[A\n",
      " 30%|███████████████████████▍                                                       | 535/1800 [00:38<01:29, 14.19it/s]\u001b[A\n",
      " 30%|███████████████████████▌                                                       | 537/1800 [00:38<01:28, 14.23it/s]\u001b[A\n",
      " 30%|███████████████████████▋                                                       | 539/1800 [00:38<01:28, 14.23it/s]\u001b[A\n",
      " 30%|███████████████████████▋                                                       | 541/1800 [00:38<01:28, 14.23it/s]\u001b[A\n",
      " 30%|███████████████████████▊                                                       | 543/1800 [00:38<01:28, 14.26it/s]\u001b[A\n",
      " 30%|███████████████████████▉                                                       | 545/1800 [00:38<01:28, 14.25it/s]\u001b[A\n",
      " 30%|████████████████████████                                                       | 547/1800 [00:38<01:28, 14.22it/s]\u001b[A\n",
      " 30%|████████████████████████                                                       | 549/1800 [00:38<01:27, 14.22it/s]\u001b[A\n",
      " 31%|████████████████████████▏                                                      | 551/1800 [00:39<01:27, 14.22it/s]\u001b[A\n",
      " 31%|████████████████████████▎                                                      | 553/1800 [00:39<01:27, 14.25it/s]\u001b[A\n",
      " 31%|████████████████████████▎                                                      | 555/1800 [00:39<01:27, 14.27it/s]\u001b[A\n",
      " 31%|████████████████████████▍                                                      | 557/1800 [00:39<01:27, 14.26it/s]\u001b[A\n",
      " 31%|████████████████████████▌                                                      | 559/1800 [00:39<01:26, 14.28it/s]\u001b[A\n",
      " 31%|████████████████████████▌                                                      | 561/1800 [00:39<01:26, 14.26it/s]\u001b[A\n",
      " 31%|████████████████████████▋                                                      | 563/1800 [00:39<01:26, 14.22it/s]\u001b[A\n",
      " 31%|████████████████████████▊                                                      | 565/1800 [00:40<01:26, 14.22it/s]\u001b[A\n",
      " 32%|████████████████████████▉                                                      | 567/1800 [00:40<01:26, 14.28it/s]\u001b[A\n",
      " 32%|████████████████████████▉                                                      | 569/1800 [00:40<01:26, 14.26it/s]\u001b[A\n",
      " 32%|█████████████████████████                                                      | 571/1800 [00:40<01:26, 14.25it/s]\u001b[A\n",
      " 32%|█████████████████████████▏                                                     | 573/1800 [00:40<01:26, 14.24it/s]\u001b[A\n",
      " 32%|█████████████████████████▏                                                     | 575/1800 [00:40<01:25, 14.27it/s]\u001b[A\n",
      " 32%|█████████████████████████▎                                                     | 577/1800 [00:40<01:26, 14.19it/s]\u001b[A\n",
      " 32%|█████████████████████████▍                                                     | 579/1800 [00:41<01:25, 14.20it/s]\u001b[A\n",
      " 32%|█████████████████████████▍                                                     | 581/1800 [00:41<01:25, 14.24it/s]\u001b[A\n",
      " 32%|█████████████████████████▌                                                     | 583/1800 [00:41<01:25, 14.26it/s]\u001b[A\n",
      " 32%|█████████████████████████▋                                                     | 585/1800 [00:41<01:25, 14.25it/s]\u001b[A\n",
      " 33%|█████████████████████████▊                                                     | 587/1800 [00:41<01:25, 14.27it/s]\u001b[A\n",
      " 33%|█████████████████████████▊                                                     | 589/1800 [00:41<01:24, 14.26it/s]\u001b[A\n",
      " 33%|█████████████████████████▉                                                     | 591/1800 [00:41<01:24, 14.25it/s]\u001b[A\n",
      " 33%|██████████████████████████                                                     | 593/1800 [00:42<01:24, 14.24it/s]\u001b[A\n",
      " 33%|██████████████████████████                                                     | 595/1800 [00:42<01:24, 14.26it/s]\u001b[A\n",
      " 33%|██████████████████████████▏                                                    | 597/1800 [00:42<01:24, 14.25it/s]\u001b[A\n",
      " 33%|██████████████████████████▎                                                    | 599/1800 [00:42<01:24, 14.27it/s]\u001b[A\n",
      " 33%|██████████████████████████▍                                                    | 601/1800 [00:42<01:25, 14.05it/s]\u001b[A\n",
      " 34%|██████████████████████████▍                                                    | 603/1800 [00:42<01:25, 14.01it/s]\u001b[A\n",
      " 34%|██████████████████████████▌                                                    | 605/1800 [00:42<01:26, 13.81it/s]\u001b[A\n",
      " 34%|██████████████████████████▋                                                    | 607/1800 [00:43<01:25, 13.93it/s]\u001b[A\n",
      " 34%|██████████████████████████▋                                                    | 609/1800 [00:43<01:25, 13.92it/s]\u001b[A\n",
      " 34%|██████████████████████████▊                                                    | 611/1800 [00:43<01:25, 13.87it/s]\u001b[A\n",
      " 34%|██████████████████████████▉                                                    | 613/1800 [00:43<01:24, 13.97it/s]\u001b[A\n",
      " 34%|██████████████████████████▉                                                    | 615/1800 [00:43<01:24, 14.05it/s]\u001b[A\n",
      " 34%|███████████████████████████                                                    | 617/1800 [00:43<01:23, 14.13it/s]\u001b[A\n",
      " 34%|███████████████████████████▏                                                   | 619/1800 [00:43<01:23, 14.16it/s]\u001b[A\n",
      " 34%|███████████████████████████▎                                                   | 621/1800 [00:44<01:23, 14.15it/s]\u001b[A\n",
      " 35%|███████████████████████████▎                                                   | 623/1800 [00:44<01:23, 14.18it/s]\u001b[A\n",
      " 35%|███████████████████████████▍                                                   | 625/1800 [00:44<01:22, 14.19it/s]\u001b[A\n",
      " 35%|███████████████████████████▌                                                   | 627/1800 [00:44<01:22, 14.20it/s]\u001b[A\n",
      " 35%|███████████████████████████▌                                                   | 629/1800 [00:44<01:22, 14.18it/s]\u001b[A\n",
      " 35%|███████████████████████████▋                                                   | 631/1800 [00:44<01:22, 14.19it/s]\u001b[A\n",
      " 35%|███████████████████████████▊                                                   | 633/1800 [00:44<01:22, 14.21it/s]\u001b[A\n",
      " 35%|███████████████████████████▊                                                   | 635/1800 [00:45<01:21, 14.21it/s]\u001b[A\n",
      " 35%|███████████████████████████▉                                                   | 637/1800 [00:45<01:23, 13.92it/s]\u001b[A\n",
      " 36%|████████████████████████████                                                   | 639/1800 [00:45<01:22, 14.01it/s]\u001b[A\n",
      " 36%|████████████████████████████▏                                                  | 641/1800 [00:45<01:22, 14.07it/s]\u001b[A\n",
      " 36%|████████████████████████████▏                                                  | 643/1800 [00:45<01:22, 14.00it/s]\u001b[A\n",
      " 36%|████████████████████████████▎                                                  | 645/1800 [00:45<01:23, 13.80it/s]\u001b[A\n",
      " 36%|████████████████████████████▍                                                  | 647/1800 [00:45<01:24, 13.64it/s]\u001b[A\n",
      " 36%|████████████████████████████▍                                                  | 649/1800 [00:46<01:25, 13.53it/s]\u001b[A\n",
      " 36%|████████████████████████████▌                                                  | 651/1800 [00:46<01:25, 13.46it/s]\u001b[A\n",
      " 36%|████████████████████████████▋                                                  | 653/1800 [00:46<01:25, 13.40it/s]\u001b[A\n",
      " 36%|████████████████████████████▋                                                  | 655/1800 [00:46<01:23, 13.67it/s]\u001b[A\n",
      " 36%|████████████████████████████▊                                                  | 657/1800 [00:46<01:22, 13.80it/s]\u001b[A\n"
     ]
    },
    {
     "name": "stderr",
     "output_type": "stream",
     "text": [
      " 37%|████████████████████████████▉                                                  | 659/1800 [00:46<01:21, 13.92it/s]\u001b[A\n",
      " 37%|█████████████████████████████                                                  | 661/1800 [00:46<01:21, 13.98it/s]\u001b[A\n",
      " 37%|█████████████████████████████                                                  | 663/1800 [00:47<01:20, 14.05it/s]\u001b[A\n",
      " 37%|█████████████████████████████▏                                                 | 665/1800 [00:47<01:20, 14.10it/s]\u001b[A\n",
      " 37%|█████████████████████████████▎                                                 | 667/1800 [00:47<01:19, 14.17it/s]\u001b[A\n",
      " 37%|█████████████████████████████▎                                                 | 669/1800 [00:47<01:19, 14.15it/s]\u001b[A\n",
      " 37%|█████████████████████████████▍                                                 | 671/1800 [00:47<01:19, 14.14it/s]\u001b[A\n",
      " 37%|█████████████████████████████▌                                                 | 673/1800 [00:47<01:21, 13.87it/s]\u001b[A\n",
      " 38%|█████████████████████████████▋                                                 | 675/1800 [00:47<01:20, 13.92it/s]\u001b[A\n",
      " 38%|█████████████████████████████▋                                                 | 677/1800 [00:48<01:20, 13.95it/s]\u001b[A\n",
      " 38%|█████████████████████████████▊                                                 | 679/1800 [00:48<01:21, 13.74it/s]\u001b[A\n",
      " 38%|█████████████████████████████▉                                                 | 681/1800 [00:48<01:21, 13.74it/s]\u001b[A\n",
      " 38%|█████████████████████████████▉                                                 | 683/1800 [00:48<01:21, 13.77it/s]\u001b[A\n",
      " 38%|██████████████████████████████                                                 | 685/1800 [00:48<01:20, 13.90it/s]\u001b[A\n",
      " 38%|██████████████████████████████▏                                                | 687/1800 [00:48<01:19, 13.96it/s]\u001b[A\n",
      " 38%|██████████████████████████████▏                                                | 689/1800 [00:48<01:21, 13.69it/s]\u001b[A\n",
      " 38%|██████████████████████████████▎                                                | 691/1800 [00:49<01:22, 13.51it/s]\u001b[A\n",
      " 38%|██████████████████████████████▍                                                | 693/1800 [00:49<01:21, 13.58it/s]\u001b[A\n",
      " 39%|██████████████████████████████▌                                                | 695/1800 [00:49<01:20, 13.77it/s]\u001b[A\n",
      " 39%|██████████████████████████████▌                                                | 697/1800 [00:49<01:19, 13.90it/s]\u001b[A\n",
      " 39%|██████████████████████████████▋                                                | 699/1800 [00:49<01:19, 13.82it/s]\u001b[A\n",
      " 39%|██████████████████████████████▊                                                | 701/1800 [00:49<01:19, 13.79it/s]\u001b[A\n",
      " 39%|██████████████████████████████▊                                                | 703/1800 [00:49<01:18, 13.89it/s]\u001b[A\n",
      " 39%|██████████████████████████████▉                                                | 705/1800 [00:50<01:18, 14.02it/s]\u001b[A\n",
      " 39%|███████████████████████████████                                                | 707/1800 [00:50<01:19, 13.82it/s]\u001b[A\n",
      " 39%|███████████████████████████████                                                | 709/1800 [00:50<01:19, 13.74it/s]\u001b[A\n",
      " 40%|███████████████████████████████▏                                               | 711/1800 [00:50<01:18, 13.88it/s]\u001b[A\n",
      " 40%|███████████████████████████████▎                                               | 713/1800 [00:50<01:17, 13.98it/s]\u001b[A\n",
      " 40%|███████████████████████████████▍                                               | 715/1800 [00:50<01:17, 14.08it/s]\u001b[A\n",
      " 40%|███████████████████████████████▍                                               | 717/1800 [00:50<01:16, 14.09it/s]\u001b[A\n",
      " 40%|███████████████████████████████▌                                               | 719/1800 [00:51<01:16, 14.16it/s]\u001b[A\n",
      " 40%|███████████████████████████████▋                                               | 721/1800 [00:51<01:16, 14.18it/s]\u001b[A\n",
      " 40%|███████████████████████████████▋                                               | 723/1800 [00:51<01:15, 14.19it/s]\u001b[A\n",
      " 40%|███████████████████████████████▊                                               | 725/1800 [00:51<01:15, 14.20it/s]\u001b[A\n",
      " 40%|███████████████████████████████▉                                               | 727/1800 [00:51<01:15, 14.21it/s]\u001b[A\n",
      " 40%|███████████████████████████████▉                                               | 729/1800 [00:51<01:15, 14.21it/s]\u001b[A\n",
      " 41%|████████████████████████████████                                               | 731/1800 [00:51<01:15, 14.19it/s]\u001b[A\n",
      " 41%|████████████████████████████████▏                                              | 733/1800 [00:52<01:15, 14.17it/s]\u001b[A\n",
      " 41%|████████████████████████████████▎                                              | 735/1800 [00:52<01:14, 14.21it/s]\u001b[A\n",
      " 41%|████████████████████████████████▎                                              | 737/1800 [00:52<01:14, 14.22it/s]\u001b[A\n",
      " 41%|████████████████████████████████▍                                              | 739/1800 [00:52<01:14, 14.25it/s]\u001b[A\n",
      " 41%|████████████████████████████████▌                                              | 741/1800 [00:52<01:14, 14.21it/s]\u001b[A\n",
      " 41%|████████████████████████████████▌                                              | 743/1800 [00:52<01:14, 14.21it/s]\u001b[A\n",
      " 41%|████████████████████████████████▋                                              | 745/1800 [00:52<01:14, 14.19it/s]\u001b[A\n",
      " 42%|████████████████████████████████▊                                              | 747/1800 [00:53<01:14, 14.23it/s]\u001b[A\n",
      " 42%|████████████████████████████████▊                                              | 749/1800 [00:53<01:13, 14.23it/s]\u001b[A\n",
      " 42%|████████████████████████████████▉                                              | 751/1800 [00:53<01:13, 14.26it/s]\u001b[A\n",
      " 42%|█████████████████████████████████                                              | 753/1800 [00:53<01:13, 14.24it/s]\u001b[A\n",
      " 42%|█████████████████████████████████▏                                             | 755/1800 [00:53<01:13, 14.15it/s]\u001b[A\n",
      " 42%|█████████████████████████████████▏                                             | 757/1800 [00:53<01:15, 13.91it/s]\u001b[A\n",
      " 42%|█████████████████████████████████▎                                             | 759/1800 [00:53<01:14, 13.97it/s]\u001b[A\n",
      " 42%|█████████████████████████████████▍                                             | 761/1800 [00:54<01:14, 14.01it/s]\u001b[A\n",
      " 42%|█████████████████████████████████▍                                             | 763/1800 [00:54<01:14, 13.87it/s]\u001b[A\n",
      " 42%|█████████████████████████████████▌                                             | 765/1800 [00:54<01:15, 13.66it/s]\u001b[A\n",
      " 43%|█████████████████████████████████▋                                             | 767/1800 [00:54<01:16, 13.52it/s]\u001b[A\n",
      " 43%|█████████████████████████████████▊                                             | 769/1800 [00:54<01:16, 13.45it/s]\u001b[A\n",
      " 43%|█████████████████████████████████▊                                             | 771/1800 [00:54<01:16, 13.37it/s]\u001b[A\n",
      " 43%|█████████████████████████████████▉                                             | 773/1800 [00:54<01:17, 13.32it/s]\u001b[A\n",
      " 43%|██████████████████████████████████                                             | 775/1800 [00:55<01:16, 13.41it/s]\u001b[A\n",
      " 43%|██████████████████████████████████                                             | 777/1800 [00:55<01:16, 13.40it/s]\u001b[A\n",
      " 43%|██████████████████████████████████▏                                            | 779/1800 [00:55<01:15, 13.55it/s]\u001b[A\n",
      " 43%|██████████████████████████████████▎                                            | 781/1800 [00:55<01:14, 13.75it/s]\u001b[A\n",
      " 44%|██████████████████████████████████▎                                            | 783/1800 [00:55<01:13, 13.74it/s]\u001b[A\n",
      " 44%|██████████████████████████████████▍                                            | 785/1800 [00:55<01:14, 13.60it/s]\u001b[A\n",
      " 44%|██████████████████████████████████▌                                            | 787/1800 [00:56<01:15, 13.48it/s]\u001b[A\n",
      " 44%|██████████████████████████████████▋                                            | 789/1800 [00:56<01:13, 13.72it/s]\u001b[A\n"
     ]
    },
    {
     "name": "stderr",
     "output_type": "stream",
     "text": [
      " 44%|██████████████████████████████████▋                                            | 791/1800 [00:56<01:13, 13.75it/s]\u001b[A\n",
      " 44%|██████████████████████████████████▊                                            | 793/1800 [00:56<01:13, 13.69it/s]\u001b[A\n",
      " 44%|██████████████████████████████████▉                                            | 795/1800 [00:56<01:12, 13.85it/s]\u001b[A\n",
      " 44%|██████████████████████████████████▉                                            | 797/1800 [00:56<01:11, 13.96it/s]\u001b[A\n",
      " 44%|███████████████████████████████████                                            | 799/1800 [00:56<01:12, 13.80it/s]\u001b[A\n",
      " 44%|███████████████████████████████████▏                                           | 801/1800 [00:57<01:13, 13.59it/s]\u001b[A\n",
      " 45%|███████████████████████████████████▏                                           | 803/1800 [00:57<01:13, 13.63it/s]\u001b[A\n",
      " 45%|███████████████████████████████████▎                                           | 805/1800 [00:57<01:11, 13.82it/s]\u001b[A\n",
      " 45%|███████████████████████████████████▍                                           | 807/1800 [00:57<01:11, 13.80it/s]\u001b[A\n",
      " 45%|███████████████████████████████████▌                                           | 809/1800 [00:57<01:12, 13.72it/s]\u001b[A\n",
      " 45%|███████████████████████████████████▌                                           | 811/1800 [00:57<01:11, 13.84it/s]\u001b[A\n",
      " 45%|███████████████████████████████████▋                                           | 813/1800 [00:57<01:10, 13.95it/s]\u001b[A\n",
      " 45%|███████████████████████████████████▊                                           | 815/1800 [00:58<01:11, 13.77it/s]\u001b[A\n",
      " 45%|███████████████████████████████████▊                                           | 817/1800 [00:58<01:12, 13.62it/s]\u001b[A\n",
      " 46%|███████████████████████████████████▉                                           | 819/1800 [00:58<01:12, 13.60it/s]\u001b[A\n",
      " 46%|████████████████████████████████████                                           | 821/1800 [00:58<01:12, 13.47it/s]\u001b[A\n",
      " 46%|████████████████████████████████████                                           | 823/1800 [00:58<01:11, 13.66it/s]\u001b[A\n",
      " 46%|████████████████████████████████████▏                                          | 825/1800 [00:58<01:10, 13.80it/s]\u001b[A\n",
      " 46%|████████████████████████████████████▎                                          | 827/1800 [00:58<01:10, 13.78it/s]\u001b[A\n",
      " 46%|████████████████████████████████████▍                                          | 829/1800 [00:59<01:11, 13.57it/s]\u001b[A\n",
      " 46%|████████████████████████████████████▍                                          | 831/1800 [00:59<01:11, 13.48it/s]\u001b[A\n",
      " 46%|████████████████████████████████████▌                                          | 833/1800 [00:59<01:12, 13.39it/s]\u001b[A\n",
      " 46%|████████████████████████████████████▋                                          | 835/1800 [00:59<01:12, 13.31it/s]\u001b[A\n",
      " 46%|████████████████████████████████████▋                                          | 837/1800 [00:59<01:11, 13.41it/s]\u001b[A\n",
      " 47%|████████████████████████████████████▊                                          | 839/1800 [00:59<01:10, 13.64it/s]\u001b[A\n",
      " 47%|████████████████████████████████████▉                                          | 841/1800 [00:59<01:11, 13.50it/s]\u001b[A\n",
      " 47%|████████████████████████████████████▉                                          | 843/1800 [01:00<01:10, 13.65it/s]\u001b[A\n",
      " 47%|█████████████████████████████████████                                          | 845/1800 [01:00<01:09, 13.82it/s]\u001b[A\n",
      " 47%|█████████████████████████████████████▏                                         | 847/1800 [01:00<01:09, 13.79it/s]\u001b[A\n",
      " 47%|█████████████████████████████████████▎                                         | 849/1800 [01:00<01:09, 13.61it/s]\u001b[A\n",
      " 47%|█████████████████████████████████████▎                                         | 851/1800 [01:00<01:09, 13.59it/s]\u001b[A\n",
      " 47%|█████████████████████████████████████▍                                         | 853/1800 [01:00<01:10, 13.50it/s]\u001b[A\n",
      " 48%|█████████████████████████████████████▌                                         | 855/1800 [01:00<01:09, 13.68it/s]\u001b[A\n",
      " 48%|█████████████████████████████████████▌                                         | 857/1800 [01:01<01:08, 13.81it/s]\u001b[A\n",
      " 48%|█████████████████████████████████████▋                                         | 859/1800 [01:01<01:08, 13.76it/s]\u001b[A\n",
      " 48%|█████████████████████████████████████▊                                         | 861/1800 [01:01<01:09, 13.58it/s]\u001b[A\n",
      " 48%|█████████████████████████████████████▉                                         | 863/1800 [01:01<01:09, 13.46it/s]\u001b[A\n",
      " 48%|█████████████████████████████████████▉                                         | 865/1800 [01:01<01:10, 13.35it/s]\u001b[A\n",
      " 48%|██████████████████████████████████████                                         | 867/1800 [01:01<01:10, 13.28it/s]\u001b[A\n",
      " 48%|██████████████████████████████████████▏                                        | 869/1800 [01:02<01:10, 13.28it/s]\u001b[A\n",
      " 48%|██████████████████████████████████████▏                                        | 871/1800 [01:02<01:09, 13.41it/s]\u001b[A\n",
      " 48%|██████████████████████████████████████▎                                        | 873/1800 [01:02<01:07, 13.65it/s]\u001b[A\n",
      " 49%|██████████████████████████████████████▍                                        | 875/1800 [01:02<01:07, 13.79it/s]\u001b[A\n",
      " 49%|██████████████████████████████████████▍                                        | 877/1800 [01:02<01:07, 13.60it/s]\u001b[A\n",
      " 49%|██████████████████████████████████████▌                                        | 879/1800 [01:02<01:08, 13.48it/s]\u001b[A\n",
      " 49%|██████████████████████████████████████▋                                        | 881/1800 [01:02<01:08, 13.39it/s]\u001b[A\n",
      " 49%|██████████████████████████████████████▊                                        | 883/1800 [01:03<01:08, 13.33it/s]\u001b[A\n",
      " 49%|██████████████████████████████████████▊                                        | 885/1800 [01:03<01:08, 13.32it/s]\u001b[A\n",
      " 49%|██████████████████████████████████████▉                                        | 887/1800 [01:03<01:08, 13.25it/s]\u001b[A\n",
      " 49%|███████████████████████████████████████                                        | 889/1800 [01:03<01:08, 13.39it/s]\u001b[A\n",
      " 50%|███████████████████████████████████████                                        | 891/1800 [01:03<01:06, 13.60it/s]\u001b[A\n",
      " 50%|███████████████████████████████████████▏                                       | 893/1800 [01:03<01:05, 13.78it/s]\u001b[A\n",
      " 50%|███████████████████████████████████████▎                                       | 895/1800 [01:03<01:05, 13.88it/s]\u001b[A\n",
      " 50%|███████████████████████████████████████▎                                       | 897/1800 [01:04<01:04, 13.98it/s]\u001b[A\n",
      " 50%|███████████████████████████████████████▍                                       | 899/1800 [01:04<01:04, 13.97it/s]\u001b[A\n",
      " 50%|███████████████████████████████████████▌                                       | 901/1800 [01:04<01:05, 13.78it/s]\u001b[A\n",
      " 50%|███████████████████████████████████████▋                                       | 903/1800 [01:04<01:04, 13.91it/s]\u001b[A\n",
      " 50%|███████████████████████████████████████▋                                       | 905/1800 [01:04<01:04, 13.97it/s]\u001b[A\n",
      " 50%|███████████████████████████████████████▊                                       | 907/1800 [01:04<01:04, 13.76it/s]\u001b[A\n",
      " 50%|███████████████████████████████████████▉                                       | 909/1800 [01:04<01:05, 13.56it/s]\u001b[A\n",
      " 51%|███████████████████████████████████████▉                                       | 911/1800 [01:05<01:05, 13.66it/s]\u001b[A\n",
      " 51%|████████████████████████████████████████                                       | 913/1800 [01:05<01:04, 13.71it/s]\u001b[A\n",
      " 51%|████████████████████████████████████████▏                                      | 915/1800 [01:05<01:04, 13.64it/s]\u001b[A\n",
      " 51%|████████████████████████████████████████▏                                      | 917/1800 [01:05<01:03, 13.81it/s]\u001b[A\n",
      " 51%|████████████████████████████████████████▎                                      | 919/1800 [01:05<01:03, 13.90it/s]\u001b[A\n",
      " 51%|████████████████████████████████████████▍                                      | 921/1800 [01:05<01:03, 13.77it/s]\u001b[A\n"
     ]
    },
    {
     "name": "stderr",
     "output_type": "stream",
     "text": [
      " 51%|████████████████████████████████████████▌                                      | 923/1800 [01:05<01:04, 13.53it/s]\u001b[A\n",
      " 51%|████████████████████████████████████████▌                                      | 925/1800 [01:06<01:05, 13.43it/s]\u001b[A\n",
      " 52%|████████████████████████████████████████▋                                      | 927/1800 [01:06<01:04, 13.52it/s]\u001b[A\n",
      " 52%|████████████████████████████████████████▊                                      | 929/1800 [01:06<01:04, 13.50it/s]\u001b[A\n",
      " 52%|████████████████████████████████████████▊                                      | 931/1800 [01:06<01:03, 13.71it/s]\u001b[A\n",
      " 52%|████████████████████████████████████████▉                                      | 933/1800 [01:06<01:02, 13.83it/s]\u001b[A\n",
      " 52%|█████████████████████████████████████████                                      | 935/1800 [01:06<01:03, 13.63it/s]\u001b[A\n",
      " 52%|█████████████████████████████████████████                                      | 937/1800 [01:07<01:02, 13.78it/s]\u001b[A\n",
      " 52%|█████████████████████████████████████████▏                                     | 939/1800 [01:07<01:01, 13.94it/s]\u001b[A\n",
      " 52%|█████████████████████████████████████████▎                                     | 941/1800 [01:07<01:02, 13.79it/s]\u001b[A\n",
      " 52%|█████████████████████████████████████████▍                                     | 943/1800 [01:07<01:02, 13.60it/s]\u001b[A\n",
      " 52%|█████████████████████████████████████████▍                                     | 945/1800 [01:07<01:03, 13.45it/s]\u001b[A\n",
      " 53%|█████████████████████████████████████████▌                                     | 947/1800 [01:07<01:03, 13.37it/s]\u001b[A\n",
      " 53%|█████████████████████████████████████████▋                                     | 949/1800 [01:07<01:04, 13.29it/s]\u001b[A\n",
      " 53%|█████████████████████████████████████████▋                                     | 951/1800 [01:08<01:03, 13.34it/s]\u001b[A\n",
      " 53%|█████████████████████████████████████████▊                                     | 953/1800 [01:08<01:03, 13.38it/s]\u001b[A\n",
      " 53%|█████████████████████████████████████████▉                                     | 955/1800 [01:08<01:02, 13.62it/s]\u001b[A\n",
      " 53%|██████████████████████████████████████████                                     | 957/1800 [01:08<01:01, 13.77it/s]\u001b[A\n",
      " 53%|██████████████████████████████████████████                                     | 959/1800 [01:08<01:01, 13.65it/s]\u001b[A\n",
      " 53%|██████████████████████████████████████████▏                                    | 961/1800 [01:08<01:02, 13.48it/s]\u001b[A\n",
      " 54%|██████████████████████████████████████████▎                                    | 963/1800 [01:08<01:01, 13.53it/s]\u001b[A\n",
      " 54%|██████████████████████████████████████████▎                                    | 965/1800 [01:09<01:01, 13.64it/s]\u001b[A\n",
      " 54%|██████████████████████████████████████████▍                                    | 967/1800 [01:09<01:01, 13.56it/s]\u001b[A\n",
      " 54%|██████████████████████████████████████████▌                                    | 969/1800 [01:09<01:00, 13.72it/s]\u001b[A\n",
      " 54%|██████████████████████████████████████████▌                                    | 971/1800 [01:09<00:59, 13.84it/s]\u001b[A\n",
      " 54%|██████████████████████████████████████████▋                                    | 973/1800 [01:09<01:00, 13.73it/s]\u001b[A\n",
      " 54%|██████████████████████████████████████████▊                                    | 975/1800 [01:09<01:00, 13.64it/s]\u001b[A\n",
      " 54%|██████████████████████████████████████████▉                                    | 977/1800 [01:09<00:59, 13.81it/s]\u001b[A\n",
      " 54%|██████████████████████████████████████████▉                                    | 979/1800 [01:10<00:59, 13.82it/s]\u001b[A\n",
      " 55%|███████████████████████████████████████████                                    | 981/1800 [01:10<01:00, 13.62it/s]\u001b[A\n",
      " 55%|███████████████████████████████████████████▏                                   | 983/1800 [01:10<00:59, 13.80it/s]\u001b[A\n",
      " 55%|███████████████████████████████████████████▏                                   | 985/1800 [01:10<00:58, 13.92it/s]\u001b[A\n",
      " 55%|███████████████████████████████████████████▎                                   | 987/1800 [01:10<00:58, 14.01it/s]\u001b[A\n",
      " 55%|███████████████████████████████████████████▍                                   | 989/1800 [01:10<00:57, 14.07it/s]\u001b[A\n",
      " 55%|███████████████████████████████████████████▍                                   | 991/1800 [01:10<00:57, 14.09it/s]\u001b[A\n",
      " 55%|███████████████████████████████████████████▌                                   | 993/1800 [01:11<00:57, 14.13it/s]\u001b[A\n",
      " 55%|███████████████████████████████████████████▋                                   | 995/1800 [01:11<00:57, 14.10it/s]\u001b[A\n",
      " 55%|███████████████████████████████████████████▊                                   | 997/1800 [01:11<00:56, 14.13it/s]\u001b[A\n",
      " 56%|███████████████████████████████████████████▊                                   | 999/1800 [01:11<00:56, 14.16it/s]\u001b[A\n",
      " 56%|███████████████████████████████████████████▍                                  | 1001/1800 [01:11<00:56, 14.15it/s]\u001b[A\n",
      " 56%|███████████████████████████████████████████▍                                  | 1003/1800 [01:11<00:56, 14.11it/s]\u001b[A\n",
      " 56%|███████████████████████████████████████████▌                                  | 1005/1800 [01:11<00:56, 14.06it/s]\u001b[A\n",
      " 56%|███████████████████████████████████████████▋                                  | 1007/1800 [01:12<00:56, 14.07it/s]\u001b[A\n",
      " 56%|███████████████████████████████████████████▋                                  | 1009/1800 [01:12<00:56, 14.12it/s]\u001b[A\n",
      " 56%|███████████████████████████████████████████▊                                  | 1011/1800 [01:12<00:55, 14.15it/s]\u001b[A\n",
      " 56%|███████████████████████████████████████████▉                                  | 1013/1800 [01:12<00:55, 14.17it/s]\u001b[A\n",
      " 56%|███████████████████████████████████████████▉                                  | 1015/1800 [01:12<00:55, 14.19it/s]\u001b[A\n",
      " 56%|████████████████████████████████████████████                                  | 1017/1800 [01:12<00:55, 14.20it/s]\u001b[A\n",
      " 57%|████████████████████████████████████████████▏                                 | 1019/1800 [01:12<00:55, 14.14it/s]\u001b[A\n",
      " 57%|████████████████████████████████████████████▏                                 | 1021/1800 [01:13<00:55, 14.14it/s]\u001b[A\n",
      " 57%|████████████████████████████████████████████▎                                 | 1023/1800 [01:13<00:54, 14.13it/s]\u001b[A\n",
      " 57%|████████████████████████████████████████████▍                                 | 1025/1800 [01:13<00:54, 14.16it/s]\u001b[A\n",
      " 57%|████████████████████████████████████████████▌                                 | 1027/1800 [01:13<00:54, 14.15it/s]\u001b[A\n",
      " 57%|████████████████████████████████████████████▌                                 | 1029/1800 [01:13<00:54, 14.17it/s]\u001b[A\n",
      " 57%|████████████████████████████████████████████▋                                 | 1031/1800 [01:13<00:54, 14.19it/s]\u001b[A\n",
      " 57%|████████████████████████████████████████████▊                                 | 1033/1800 [01:13<00:54, 14.17it/s]\u001b[A\n",
      " 57%|████████████████████████████████████████████▊                                 | 1035/1800 [01:14<00:54, 14.15it/s]\u001b[A\n",
      " 58%|████████████████████████████████████████████▉                                 | 1037/1800 [01:14<00:53, 14.17it/s]\u001b[A\n",
      " 58%|█████████████████████████████████████████████                                 | 1039/1800 [01:14<00:53, 14.19it/s]\u001b[A\n",
      " 58%|█████████████████████████████████████████████                                 | 1041/1800 [01:14<00:53, 14.17it/s]\u001b[A\n",
      " 58%|█████████████████████████████████████████████▏                                | 1043/1800 [01:14<00:53, 14.18it/s]\u001b[A\n",
      " 58%|█████████████████████████████████████████████▎                                | 1045/1800 [01:14<00:53, 14.17it/s]\u001b[A\n",
      " 58%|█████████████████████████████████████████████▎                                | 1047/1800 [01:14<00:53, 14.03it/s]\u001b[A\n",
      " 58%|█████████████████████████████████████████████▍                                | 1049/1800 [01:15<00:54, 13.89it/s]\u001b[A\n",
      " 58%|█████████████████████████████████████████████▌                                | 1051/1800 [01:15<00:53, 13.99it/s]\u001b[A\n",
      " 58%|█████████████████████████████████████████████▋                                | 1053/1800 [01:15<00:53, 14.05it/s]\u001b[A\n"
     ]
    },
    {
     "name": "stderr",
     "output_type": "stream",
     "text": [
      " 59%|█████████████████████████████████████████████▋                                | 1055/1800 [01:15<00:54, 13.78it/s]\u001b[A\n",
      " 59%|█████████████████████████████████████████████▊                                | 1057/1800 [01:15<00:54, 13.60it/s]\u001b[A\n",
      " 59%|█████████████████████████████████████████████▉                                | 1059/1800 [01:15<00:54, 13.50it/s]\u001b[A\n",
      " 59%|█████████████████████████████████████████████▉                                | 1061/1800 [01:15<00:54, 13.66it/s]\u001b[A\n",
      " 59%|██████████████████████████████████████████████                                | 1063/1800 [01:16<00:53, 13.79it/s]\u001b[A\n",
      " 59%|██████████████████████████████████████████████▏                               | 1065/1800 [01:16<00:53, 13.80it/s]\u001b[A\n",
      " 59%|██████████████████████████████████████████████▏                               | 1067/1800 [01:16<00:53, 13.73it/s]\u001b[A\n",
      " 59%|██████████████████████████████████████████████▎                               | 1069/1800 [01:16<00:52, 13.84it/s]\u001b[A\n",
      " 60%|██████████████████████████████████████████████▍                               | 1071/1800 [01:16<00:52, 13.93it/s]\u001b[A\n",
      " 60%|██████████████████████████████████████████████▍                               | 1073/1800 [01:16<00:53, 13.70it/s]\u001b[A\n",
      " 60%|██████████████████████████████████████████████▌                               | 1075/1800 [01:16<00:53, 13.51it/s]\u001b[A\n",
      " 60%|██████████████████████████████████████████████▋                               | 1077/1800 [01:17<00:53, 13.39it/s]\u001b[A\n",
      " 60%|██████████████████████████████████████████████▊                               | 1079/1800 [01:17<00:54, 13.33it/s]\u001b[A\n",
      " 60%|██████████████████████████████████████████████▊                               | 1081/1800 [01:17<00:54, 13.29it/s]\u001b[A\n",
      " 60%|██████████████████████████████████████████████▉                               | 1083/1800 [01:17<00:52, 13.53it/s]\u001b[A\n",
      " 60%|███████████████████████████████████████████████                               | 1085/1800 [01:17<00:52, 13.73it/s]\u001b[A\n",
      " 60%|███████████████████████████████████████████████                               | 1087/1800 [01:17<00:51, 13.87it/s]\u001b[A\n",
      " 60%|███████████████████████████████████████████████▏                              | 1089/1800 [01:17<00:51, 13.92it/s]\u001b[A\n",
      " 61%|███████████████████████████████████████████████▎                              | 1091/1800 [01:18<00:50, 13.98it/s]\u001b[A\n",
      " 61%|███████████████████████████████████████████████▎                              | 1093/1800 [01:18<00:50, 14.02it/s]\u001b[A\n",
      " 61%|███████████████████████████████████████████████▍                              | 1095/1800 [01:18<00:50, 14.08it/s]\u001b[A\n",
      " 61%|███████████████████████████████████████████████▌                              | 1097/1800 [01:18<00:49, 14.12it/s]\u001b[A\n",
      " 61%|███████████████████████████████████████████████▌                              | 1099/1800 [01:18<00:49, 14.15it/s]\u001b[A\n",
      " 61%|███████████████████████████████████████████████▋                              | 1101/1800 [01:18<00:49, 14.14it/s]\u001b[A\n",
      " 61%|███████████████████████████████████████████████▊                              | 1103/1800 [01:18<00:49, 14.11it/s]\u001b[A\n",
      " 61%|███████████████████████████████████████████████▉                              | 1105/1800 [01:19<00:49, 14.14it/s]\u001b[A\n",
      " 62%|███████████████████████████████████████████████▉                              | 1107/1800 [01:19<00:48, 14.17it/s]\u001b[A\n",
      " 62%|████████████████████████████████████████████████                              | 1109/1800 [01:19<00:48, 14.15it/s]\u001b[A\n",
      " 62%|████████████████████████████████████████████████▏                             | 1111/1800 [01:19<00:48, 14.14it/s]\u001b[A\n",
      " 62%|████████████████████████████████████████████████▏                             | 1113/1800 [01:19<00:48, 14.14it/s]\u001b[A\n",
      " 62%|████████████████████████████████████████████████▎                             | 1115/1800 [01:19<00:48, 14.16it/s]\u001b[A\n",
      " 62%|████████████████████████████████████████████████▍                             | 1117/1800 [01:19<00:48, 14.09it/s]\u001b[A\n",
      " 62%|████████████████████████████████████████████████▍                             | 1119/1800 [01:20<00:48, 13.95it/s]\u001b[A\n",
      " 62%|████████████████████████████████████████████████▌                             | 1121/1800 [01:20<00:48, 13.86it/s]\u001b[A\n",
      " 62%|████████████████████████████████████████████████▋                             | 1123/1800 [01:20<00:48, 13.96it/s]\u001b[A\n",
      " 62%|████████████████████████████████████████████████▊                             | 1125/1800 [01:20<00:48, 14.01it/s]\u001b[A\n",
      " 63%|████████████████████████████████████████████████▊                             | 1127/1800 [01:20<00:49, 13.73it/s]\u001b[A\n",
      " 63%|████████████████████████████████████████████████▉                             | 1129/1800 [01:20<00:49, 13.53it/s]\u001b[A\n",
      " 63%|█████████████████████████████████████████████████                             | 1131/1800 [01:20<00:49, 13.40it/s]\u001b[A\n",
      " 63%|█████████████████████████████████████████████████                             | 1133/1800 [01:21<00:49, 13.37it/s]\u001b[A\n",
      " 63%|█████████████████████████████████████████████████▏                            | 1135/1800 [01:21<00:48, 13.61it/s]\u001b[A\n",
      " 63%|█████████████████████████████████████████████████▎                            | 1137/1800 [01:21<00:48, 13.68it/s]\u001b[A\n",
      " 63%|█████████████████████████████████████████████████▎                            | 1139/1800 [01:21<00:48, 13.61it/s]\u001b[A\n",
      " 63%|█████████████████████████████████████████████████▍                            | 1141/1800 [01:21<00:47, 13.76it/s]\u001b[A\n",
      " 64%|█████████████████████████████████████████████████▌                            | 1143/1800 [01:21<00:47, 13.90it/s]\u001b[A\n",
      " 64%|█████████████████████████████████████████████████▌                            | 1145/1800 [01:21<00:47, 13.71it/s]\u001b[A\n",
      " 64%|█████████████████████████████████████████████████▋                            | 1147/1800 [01:22<00:48, 13.55it/s]\u001b[A\n",
      " 64%|█████████████████████████████████████████████████▊                            | 1149/1800 [01:22<00:47, 13.60it/s]\u001b[A\n",
      " 64%|█████████████████████████████████████████████████▉                            | 1151/1800 [01:22<00:47, 13.73it/s]\u001b[A\n",
      " 64%|█████████████████████████████████████████████████▉                            | 1153/1800 [01:22<00:46, 13.84it/s]\u001b[A\n",
      " 64%|██████████████████████████████████████████████████                            | 1155/1800 [01:22<00:46, 13.93it/s]\u001b[A\n",
      " 64%|██████████████████████████████████████████████████▏                           | 1157/1800 [01:22<00:45, 14.04it/s]\u001b[A\n",
      " 64%|██████████████████████████████████████████████████▏                           | 1159/1800 [01:23<00:45, 14.04it/s]\u001b[A\n",
      " 64%|██████████████████████████████████████████████████▎                           | 1161/1800 [01:23<00:45, 14.09it/s]\u001b[A\n",
      " 65%|██████████████████████████████████████████████████▍                           | 1163/1800 [01:23<00:45, 14.13it/s]\u001b[A\n",
      " 65%|██████████████████████████████████████████████████▍                           | 1165/1800 [01:23<00:44, 14.13it/s]\u001b[A\n",
      " 65%|██████████████████████████████████████████████████▌                           | 1167/1800 [01:23<00:44, 14.16it/s]\u001b[A\n",
      " 65%|██████████████████████████████████████████████████▋                           | 1169/1800 [01:23<00:44, 14.15it/s]\u001b[A\n",
      " 65%|██████████████████████████████████████████████████▋                           | 1171/1800 [01:23<00:44, 14.14it/s]\u001b[A\n",
      " 65%|██████████████████████████████████████████████████▊                           | 1173/1800 [01:23<00:44, 14.10it/s]\u001b[A\n",
      " 65%|██████████████████████████████████████████████████▉                           | 1175/1800 [01:24<00:44, 14.11it/s]\u001b[A\n",
      " 65%|███████████████████████████████████████████████████                           | 1177/1800 [01:24<00:44, 14.14it/s]\u001b[A\n",
      " 66%|███████████████████████████████████████████████████                           | 1179/1800 [01:24<00:43, 14.14it/s]\u001b[A\n",
      " 66%|███████████████████████████████████████████████████▏                          | 1181/1800 [01:24<00:43, 14.16it/s]\u001b[A\n",
      " 66%|███████████████████████████████████████████████████▎                          | 1183/1800 [01:24<00:43, 14.15it/s]\u001b[A\n",
      " 66%|███████████████████████████████████████████████████▎                          | 1185/1800 [01:24<00:43, 14.14it/s]\u001b[A\n"
     ]
    },
    {
     "name": "stderr",
     "output_type": "stream",
     "text": [
      " 66%|███████████████████████████████████████████████████▍                          | 1187/1800 [01:24<00:43, 14.11it/s]\u001b[A\n",
      " 66%|███████████████████████████████████████████████████▌                          | 1189/1800 [01:25<00:43, 14.14it/s]\u001b[A\n",
      " 66%|███████████████████████████████████████████████████▌                          | 1191/1800 [01:25<00:42, 14.16it/s]\u001b[A\n",
      " 66%|███████████████████████████████████████████████████▋                          | 1193/1800 [01:25<00:42, 14.15it/s]\u001b[A\n",
      " 66%|███████████████████████████████████████████████████▊                          | 1195/1800 [01:25<00:42, 14.17it/s]\u001b[A\n",
      " 66%|███████████████████████████████████████████████████▊                          | 1197/1800 [01:25<00:42, 14.19it/s]\u001b[A\n",
      " 67%|███████████████████████████████████████████████████▉                          | 1199/1800 [01:25<00:42, 14.17it/s]\u001b[A\n",
      " 67%|████████████████████████████████████████████████████                          | 1201/1800 [01:25<00:42, 14.09it/s]\u001b[A\n",
      " 67%|████████████████████████████████████████████████████▏                         | 1203/1800 [01:26<00:42, 14.13it/s]\u001b[A\n",
      " 67%|████████████████████████████████████████████████████▏                         | 1205/1800 [01:26<00:41, 14.19it/s]\u001b[A\n",
      " 67%|████████████████████████████████████████████████████▎                         | 1207/1800 [01:26<00:41, 14.17it/s]\u001b[A\n",
      " 67%|████████████████████████████████████████████████████▍                         | 1209/1800 [01:26<00:41, 14.19it/s]\u001b[A\n",
      " 67%|████████████████████████████████████████████████████▍                         | 1211/1800 [01:26<00:41, 14.17it/s]\u001b[A\n",
      " 67%|████████████████████████████████████████████████████▌                         | 1213/1800 [01:26<00:41, 14.15it/s]\u001b[A\n",
      " 68%|████████████████████████████████████████████████████▋                         | 1215/1800 [01:26<00:41, 14.14it/s]\u001b[A\n",
      " 68%|████████████████████████████████████████████████████▋                         | 1217/1800 [01:27<00:41, 14.13it/s]\u001b[A\n",
      " 68%|████████████████████████████████████████████████████▊                         | 1219/1800 [01:27<00:41, 14.16it/s]\u001b[A\n",
      " 68%|████████████████████████████████████████████████████▉                         | 1221/1800 [01:27<00:41, 14.12it/s]\u001b[A\n",
      " 68%|████████████████████████████████████████████████████▉                         | 1223/1800 [01:27<00:41, 13.83it/s]\u001b[A\n",
      " 68%|█████████████████████████████████████████████████████                         | 1225/1800 [01:27<00:41, 13.77it/s]\u001b[A\n",
      " 68%|█████████████████████████████████████████████████████▏                        | 1227/1800 [01:27<00:41, 13.85it/s]\u001b[A\n",
      " 68%|█████████████████████████████████████████████████████▎                        | 1229/1800 [01:27<00:41, 13.84it/s]\u001b[A\n",
      " 68%|█████████████████████████████████████████████████████▎                        | 1231/1800 [01:28<00:41, 13.87it/s]\u001b[A\n",
      " 68%|█████████████████████████████████████████████████████▍                        | 1233/1800 [01:28<00:41, 13.71it/s]\u001b[A\n",
      " 69%|█████████████████████████████████████████████████████▌                        | 1235/1800 [01:28<00:40, 13.83it/s]\u001b[A\n",
      " 69%|█████████████████████████████████████████████████████▌                        | 1237/1800 [01:28<00:41, 13.63it/s]\u001b[A\n",
      " 69%|█████████████████████████████████████████████████████▋                        | 1239/1800 [01:28<00:41, 13.66it/s]\u001b[A\n",
      " 69%|█████████████████████████████████████████████████████▊                        | 1241/1800 [01:28<00:41, 13.63it/s]\u001b[A\n",
      " 69%|█████████████████████████████████████████████████████▊                        | 1243/1800 [01:29<00:42, 13.26it/s]\u001b[A\n",
      " 69%|█████████████████████████████████████████████████████▉                        | 1245/1800 [01:29<00:41, 13.29it/s]\u001b[A\n",
      " 69%|██████████████████████████████████████████████████████                        | 1247/1800 [01:29<00:41, 13.37it/s]\u001b[A\n",
      " 69%|██████████████████████████████████████████████████████                        | 1249/1800 [01:29<00:40, 13.45it/s]\u001b[A\n",
      " 70%|██████████████████████████████████████████████████████▏                       | 1251/1800 [01:29<00:40, 13.51it/s]\u001b[A\n",
      " 70%|██████████████████████████████████████████████████████▎                       | 1253/1800 [01:29<00:40, 13.60it/s]\u001b[A\n",
      " 70%|██████████████████████████████████████████████████████▍                       | 1255/1800 [01:29<00:40, 13.61it/s]\u001b[A\n",
      " 70%|██████████████████████████████████████████████████████▍                       | 1257/1800 [01:30<00:39, 13.65it/s]\u001b[A\n",
      " 70%|██████████████████████████████████████████████████████▌                       | 1259/1800 [01:30<00:39, 13.62it/s]\u001b[A\n",
      " 70%|██████████████████████████████████████████████████████▋                       | 1261/1800 [01:30<00:39, 13.65it/s]\u001b[A\n",
      " 70%|██████████████████████████████████████████████████████▋                       | 1263/1800 [01:30<00:39, 13.68it/s]\u001b[A\n",
      " 70%|██████████████████████████████████████████████████████▊                       | 1265/1800 [01:30<00:38, 13.75it/s]\u001b[A\n",
      " 70%|██████████████████████████████████████████████████████▉                       | 1267/1800 [01:30<00:38, 13.75it/s]\u001b[A\n",
      " 70%|██████████████████████████████████████████████████████▉                       | 1269/1800 [01:30<00:38, 13.80it/s]\u001b[A\n",
      " 71%|███████████████████████████████████████████████████████                       | 1271/1800 [01:31<00:38, 13.89it/s]\u001b[A\n",
      " 71%|███████████████████████████████████████████████████████▏                      | 1273/1800 [01:31<00:37, 13.96it/s]\u001b[A\n",
      " 71%|███████████████████████████████████████████████████████▎                      | 1275/1800 [01:31<00:37, 13.95it/s]\u001b[A\n",
      " 71%|███████████████████████████████████████████████████████▎                      | 1277/1800 [01:31<00:37, 13.91it/s]\u001b[A\n",
      " 71%|███████████████████████████████████████████████████████▍                      | 1279/1800 [01:31<00:37, 13.92it/s]\u001b[A\n",
      " 71%|███████████████████████████████████████████████████████▌                      | 1281/1800 [01:31<00:37, 13.89it/s]\u001b[A\n",
      " 71%|███████████████████████████████████████████████████████▌                      | 1283/1800 [01:31<00:36, 13.99it/s]\u001b[A\n",
      " 71%|███████████████████████████████████████████████████████▋                      | 1285/1800 [01:32<00:36, 14.00it/s]\u001b[A\n",
      " 72%|███████████████████████████████████████████████████████▊                      | 1287/1800 [01:32<00:36, 14.01it/s]\u001b[A\n",
      " 72%|███████████████████████████████████████████████████████▊                      | 1289/1800 [01:32<00:36, 13.98it/s]\u001b[A\n",
      " 72%|███████████████████████████████████████████████████████▉                      | 1291/1800 [01:32<00:37, 13.71it/s]\u001b[A\n",
      " 72%|████████████████████████████████████████████████████████                      | 1293/1800 [01:32<00:36, 13.72it/s]\u001b[A\n",
      " 72%|████████████████████████████████████████████████████████                      | 1295/1800 [01:32<00:36, 13.84it/s]\u001b[A\n",
      " 72%|████████████████████████████████████████████████████████▏                     | 1297/1800 [01:32<00:36, 13.72it/s]\u001b[A\n",
      " 72%|████████████████████████████████████████████████████████▎                     | 1299/1800 [01:33<00:37, 13.29it/s]\u001b[A\n",
      " 72%|████████████████████████████████████████████████████████▍                     | 1301/1800 [01:33<00:37, 13.31it/s]\u001b[A\n",
      " 72%|████████████████████████████████████████████████████████▍                     | 1303/1800 [01:33<00:36, 13.46it/s]\u001b[A\n",
      " 72%|████████████████████████████████████████████████████████▌                     | 1305/1800 [01:33<00:36, 13.66it/s]\u001b[A\n",
      " 73%|████████████████████████████████████████████████████████▋                     | 1307/1800 [01:33<00:35, 13.71it/s]\u001b[A\n",
      " 73%|████████████████████████████████████████████████████████▋                     | 1309/1800 [01:33<00:35, 13.86it/s]\u001b[A\n",
      " 73%|████████████████████████████████████████████████████████▊                     | 1311/1800 [01:33<00:35, 13.88it/s]\u001b[A\n",
      " 73%|████████████████████████████████████████████████████████▉                     | 1313/1800 [01:34<00:34, 13.95it/s]\u001b[A\n",
      " 73%|████████████████████████████████████████████████████████▉                     | 1315/1800 [01:34<00:34, 13.97it/s]\u001b[A\n",
      " 73%|█████████████████████████████████████████████████████████                     | 1317/1800 [01:34<00:35, 13.67it/s]\u001b[A\n"
     ]
    },
    {
     "name": "stderr",
     "output_type": "stream",
     "text": [
      " 73%|█████████████████████████████████████████████████████████▏                    | 1319/1800 [01:34<00:35, 13.66it/s]\u001b[A\n",
      " 73%|█████████████████████████████████████████████████████████▏                    | 1321/1800 [01:34<00:35, 13.63it/s]\u001b[A\n",
      " 74%|█████████████████████████████████████████████████████████▎                    | 1323/1800 [01:34<00:34, 13.69it/s]\u001b[A\n",
      " 74%|█████████████████████████████████████████████████████████▍                    | 1325/1800 [01:34<00:34, 13.73it/s]\u001b[A\n",
      " 74%|█████████████████████████████████████████████████████████▌                    | 1327/1800 [01:35<00:34, 13.76it/s]\u001b[A\n",
      " 74%|█████████████████████████████████████████████████████████▌                    | 1329/1800 [01:35<00:34, 13.81it/s]\u001b[A\n",
      " 74%|█████████████████████████████████████████████████████████▋                    | 1331/1800 [01:35<00:33, 13.82it/s]\u001b[A\n",
      " 74%|█████████████████████████████████████████████████████████▊                    | 1333/1800 [01:35<00:33, 13.94it/s]\u001b[A\n",
      " 74%|█████████████████████████████████████████████████████████▊                    | 1335/1800 [01:35<00:33, 13.96it/s]\u001b[A\n",
      " 74%|█████████████████████████████████████████████████████████▉                    | 1337/1800 [01:35<00:32, 14.04it/s]\u001b[A\n",
      " 74%|██████████████████████████████████████████████████████████                    | 1339/1800 [01:35<00:33, 13.95it/s]\u001b[A\n",
      " 74%|██████████████████████████████████████████████████████████                    | 1341/1800 [01:36<00:33, 13.77it/s]\u001b[A\n",
      " 75%|██████████████████████████████████████████████████████████▏                   | 1343/1800 [01:36<00:33, 13.81it/s]\u001b[A\n",
      " 75%|██████████████████████████████████████████████████████████▎                   | 1345/1800 [01:36<00:32, 13.79it/s]\u001b[A\n",
      " 75%|██████████████████████████████████████████████████████████▎                   | 1347/1800 [01:36<00:32, 13.92it/s]\u001b[A\n",
      " 75%|██████████████████████████████████████████████████████████▍                   | 1349/1800 [01:36<00:32, 13.83it/s]\u001b[A\n",
      " 75%|██████████████████████████████████████████████████████████▌                   | 1351/1800 [01:36<00:32, 13.89it/s]\u001b[A\n",
      " 75%|██████████████████████████████████████████████████████████▋                   | 1353/1800 [01:36<00:32, 13.90it/s]\u001b[A\n",
      " 75%|██████████████████████████████████████████████████████████▋                   | 1355/1800 [01:37<00:32, 13.74it/s]\u001b[A\n",
      " 75%|██████████████████████████████████████████████████████████▊                   | 1357/1800 [01:37<00:32, 13.74it/s]\u001b[A\n",
      " 76%|██████████████████████████████████████████████████████████▉                   | 1359/1800 [01:37<00:32, 13.76it/s]\u001b[A\n",
      " 76%|██████████████████████████████████████████████████████████▉                   | 1361/1800 [01:37<00:32, 13.70it/s]\u001b[A\n",
      " 76%|███████████████████████████████████████████████████████████                   | 1363/1800 [01:37<00:32, 13.57it/s]\u001b[A\n",
      " 76%|███████████████████████████████████████████████████████████▏                  | 1365/1800 [01:37<00:31, 13.65it/s]\u001b[A\n",
      " 76%|███████████████████████████████████████████████████████████▏                  | 1367/1800 [01:38<00:31, 13.59it/s]\u001b[A\n",
      " 76%|███████████████████████████████████████████████████████████▎                  | 1369/1800 [01:38<00:31, 13.63it/s]\u001b[A\n",
      " 76%|███████████████████████████████████████████████████████████▍                  | 1371/1800 [01:38<00:31, 13.64it/s]\u001b[A\n",
      " 76%|███████████████████████████████████████████████████████████▍                  | 1373/1800 [01:38<00:31, 13.69it/s]\u001b[A\n",
      " 76%|███████████████████████████████████████████████████████████▌                  | 1375/1800 [01:38<00:30, 13.73it/s]\u001b[A\n",
      " 76%|███████████████████████████████████████████████████████████▋                  | 1377/1800 [01:38<00:30, 13.65it/s]\u001b[A\n",
      " 77%|███████████████████████████████████████████████████████████▊                  | 1379/1800 [01:38<00:31, 13.56it/s]\u001b[A\n",
      " 77%|███████████████████████████████████████████████████████████▊                  | 1381/1800 [01:39<00:30, 13.59it/s]\u001b[A\n",
      " 77%|███████████████████████████████████████████████████████████▉                  | 1383/1800 [01:39<00:30, 13.55it/s]\u001b[A\n",
      " 77%|████████████████████████████████████████████████████████████                  | 1385/1800 [01:39<00:30, 13.63it/s]\u001b[A\n",
      " 77%|████████████████████████████████████████████████████████████                  | 1387/1800 [01:39<00:30, 13.72it/s]\u001b[A\n",
      " 77%|████████████████████████████████████████████████████████████▏                 | 1389/1800 [01:39<00:30, 13.56it/s]\u001b[A\n",
      " 77%|████████████████████████████████████████████████████████████▎                 | 1391/1800 [01:39<00:30, 13.50it/s]\u001b[A\n",
      " 77%|████████████████████████████████████████████████████████████▎                 | 1393/1800 [01:39<00:30, 13.38it/s]\u001b[A\n",
      " 78%|████████████████████████████████████████████████████████████▍                 | 1395/1800 [01:40<00:30, 13.38it/s]\u001b[A\n",
      " 78%|████████████████████████████████████████████████████████████▌                 | 1397/1800 [01:40<00:30, 13.43it/s]\u001b[A\n",
      " 78%|████████████████████████████████████████████████████████████▌                 | 1399/1800 [01:40<00:29, 13.55it/s]\u001b[A\n",
      " 78%|████████████████████████████████████████████████████████████▋                 | 1401/1800 [01:40<00:29, 13.63it/s]\u001b[A\n",
      " 78%|████████████████████████████████████████████████████████████▊                 | 1403/1800 [01:40<00:29, 13.50it/s]\u001b[A\n",
      " 78%|████████████████████████████████████████████████████████████▉                 | 1405/1800 [01:40<00:29, 13.48it/s]\u001b[A\n",
      " 78%|████████████████████████████████████████████████████████████▉                 | 1407/1800 [01:40<00:28, 13.61it/s]\u001b[A\n",
      " 78%|█████████████████████████████████████████████████████████████                 | 1409/1800 [01:41<00:28, 13.73it/s]\u001b[A\n",
      " 78%|█████████████████████████████████████████████████████████████▏                | 1411/1800 [01:41<00:28, 13.85it/s]\u001b[A\n",
      " 78%|█████████████████████████████████████████████████████████████▏                | 1413/1800 [01:41<00:27, 13.87it/s]\u001b[A\n",
      " 79%|█████████████████████████████████████████████████████████████▎                | 1415/1800 [01:41<00:27, 13.89it/s]\u001b[A\n",
      " 79%|█████████████████████████████████████████████████████████████▍                | 1417/1800 [01:41<00:28, 13.51it/s]\u001b[A\n",
      " 79%|█████████████████████████████████████████████████████████████▍                | 1419/1800 [01:41<00:28, 13.41it/s]\u001b[A\n",
      " 79%|█████████████████████████████████████████████████████████████▌                | 1421/1800 [01:42<00:28, 13.40it/s]\u001b[A\n",
      " 79%|█████████████████████████████████████████████████████████████▋                | 1423/1800 [01:42<00:27, 13.49it/s]\u001b[A\n",
      " 79%|█████████████████████████████████████████████████████████████▊                | 1425/1800 [01:42<00:27, 13.51it/s]\u001b[A\n",
      " 79%|█████████████████████████████████████████████████████████████▊                | 1427/1800 [01:42<00:27, 13.33it/s]\u001b[A\n",
      " 79%|█████████████████████████████████████████████████████████████▉                | 1429/1800 [01:42<00:27, 13.56it/s]\u001b[A\n",
      " 80%|██████████████████████████████████████████████████████████████                | 1431/1800 [01:42<00:26, 13.69it/s]\u001b[A\n",
      " 80%|██████████████████████████████████████████████████████████████                | 1433/1800 [01:42<00:26, 13.71it/s]\u001b[A\n",
      " 80%|██████████████████████████████████████████████████████████████▏               | 1435/1800 [01:43<00:26, 13.77it/s]\u001b[A\n",
      " 80%|██████████████████████████████████████████████████████████████▎               | 1437/1800 [01:43<00:26, 13.90it/s]\u001b[A\n",
      " 80%|██████████████████████████████████████████████████████████████▎               | 1439/1800 [01:43<00:26, 13.84it/s]\u001b[A\n",
      " 80%|██████████████████████████████████████████████████████████████▍               | 1441/1800 [01:43<00:25, 13.92it/s]\u001b[A\n",
      " 80%|██████████████████████████████████████████████████████████████▌               | 1443/1800 [01:43<00:25, 13.95it/s]\u001b[A\n",
      " 80%|██████████████████████████████████████████████████████████████▌               | 1445/1800 [01:43<00:25, 13.97it/s]\u001b[A\n",
      " 80%|██████████████████████████████████████████████████████████████▋               | 1447/1800 [01:43<00:25, 13.99it/s]\u001b[A\n",
      " 80%|██████████████████████████████████████████████████████████████▊               | 1449/1800 [01:44<00:25, 14.00it/s]\u001b[A\n"
     ]
    },
    {
     "name": "stderr",
     "output_type": "stream",
     "text": [
      " 81%|██████████████████████████████████████████████████████████████▉               | 1451/1800 [01:44<00:25, 13.83it/s]\u001b[A\n",
      " 81%|██████████████████████████████████████████████████████████████▉               | 1453/1800 [01:44<00:24, 13.92it/s]\u001b[A\n",
      " 81%|███████████████████████████████████████████████████████████████               | 1455/1800 [01:44<00:24, 13.95it/s]\u001b[A\n",
      " 81%|███████████████████████████████████████████████████████████████▏              | 1457/1800 [01:44<00:24, 13.95it/s]\u001b[A\n",
      " 81%|███████████████████████████████████████████████████████████████▏              | 1459/1800 [01:44<00:24, 13.91it/s]\u001b[A\n",
      " 81%|███████████████████████████████████████████████████████████████▎              | 1461/1800 [01:44<00:24, 13.91it/s]\u001b[A\n",
      " 81%|███████████████████████████████████████████████████████████████▍              | 1463/1800 [01:45<00:24, 13.95it/s]\u001b[A\n",
      " 81%|███████████████████████████████████████████████████████████████▍              | 1465/1800 [01:45<00:23, 14.00it/s]\u001b[A\n",
      " 82%|███████████████████████████████████████████████████████████████▌              | 1467/1800 [01:45<00:23, 13.97it/s]\u001b[A\n",
      " 82%|███████████████████████████████████████████████████████████████▋              | 1469/1800 [01:45<00:23, 13.87it/s]\u001b[A\n",
      " 82%|███████████████████████████████████████████████████████████████▋              | 1471/1800 [01:45<00:23, 13.91it/s]\u001b[A\n",
      " 82%|███████████████████████████████████████████████████████████████▊              | 1473/1800 [01:45<00:23, 13.97it/s]\u001b[A\n",
      " 82%|███████████████████████████████████████████████████████████████▉              | 1475/1800 [01:45<00:23, 13.99it/s]\u001b[A\n",
      " 82%|████████████████████████████████████████████████████████████████              | 1477/1800 [01:46<00:23, 13.66it/s]\u001b[A\n",
      " 82%|████████████████████████████████████████████████████████████████              | 1479/1800 [01:46<00:23, 13.57it/s]\u001b[A\n",
      " 82%|████████████████████████████████████████████████████████████████▏             | 1481/1800 [01:46<00:23, 13.59it/s]\u001b[A\n",
      " 82%|████████████████████████████████████████████████████████████████▎             | 1483/1800 [01:46<00:23, 13.63it/s]\u001b[A\n",
      " 82%|████████████████████████████████████████████████████████████████▎             | 1485/1800 [01:46<00:23, 13.64it/s]\u001b[A\n",
      " 83%|████████████████████████████████████████████████████████████████▍             | 1487/1800 [01:46<00:22, 13.64it/s]\u001b[A\n",
      " 83%|████████████████████████████████████████████████████████████████▌             | 1489/1800 [01:46<00:22, 13.69it/s]\u001b[A\n",
      " 83%|████████████████████████████████████████████████████████████████▌             | 1491/1800 [01:47<00:22, 13.71it/s]\u001b[A\n",
      " 83%|████████████████████████████████████████████████████████████████▋             | 1493/1800 [01:47<00:22, 13.83it/s]\u001b[A\n",
      " 83%|████████████████████████████████████████████████████████████████▊             | 1495/1800 [01:47<00:21, 13.89it/s]\u001b[A\n",
      " 83%|████████████████████████████████████████████████████████████████▊             | 1497/1800 [01:47<00:21, 13.78it/s]\u001b[A\n",
      " 83%|████████████████████████████████████████████████████████████████▉             | 1499/1800 [01:47<00:21, 13.88it/s]\u001b[A\n",
      " 83%|█████████████████████████████████████████████████████████████████             | 1501/1800 [01:47<00:21, 13.95it/s]\u001b[A\n",
      " 84%|█████████████████████████████████████████████████████████████████▏            | 1503/1800 [01:47<00:21, 14.00it/s]\u001b[A\n",
      " 84%|█████████████████████████████████████████████████████████████████▏            | 1505/1800 [01:48<00:21, 14.01it/s]\u001b[A\n",
      " 84%|█████████████████████████████████████████████████████████████████▎            | 1507/1800 [01:48<00:20, 14.04it/s]\u001b[A\n",
      " 84%|█████████████████████████████████████████████████████████████████▍            | 1509/1800 [01:48<00:20, 14.12it/s]\u001b[A\n",
      " 84%|█████████████████████████████████████████████████████████████████▍            | 1511/1800 [01:48<00:20, 14.12it/s]\u001b[A\n",
      " 84%|█████████████████████████████████████████████████████████████████▌            | 1513/1800 [01:48<00:20, 14.15it/s]\u001b[A\n",
      " 84%|█████████████████████████████████████████████████████████████████▋            | 1515/1800 [01:48<00:20, 14.14it/s]\u001b[A\n",
      " 84%|█████████████████████████████████████████████████████████████████▋            | 1517/1800 [01:48<00:20, 14.08it/s]\u001b[A\n",
      " 84%|█████████████████████████████████████████████████████████████████▊            | 1519/1800 [01:49<00:19, 14.09it/s]\u001b[A\n",
      " 84%|█████████████████████████████████████████████████████████████████▉            | 1521/1800 [01:49<00:19, 14.13it/s]\u001b[A\n",
      " 85%|█████████████████████████████████████████████████████████████████▉            | 1523/1800 [01:49<00:19, 14.16it/s]\u001b[A\n",
      " 85%|██████████████████████████████████████████████████████████████████            | 1525/1800 [01:49<00:19, 14.18it/s]\u001b[A\n",
      " 85%|██████████████████████████████████████████████████████████████████▏           | 1527/1800 [01:49<00:19, 14.16it/s]\u001b[A\n",
      " 85%|██████████████████████████████████████████████████████████████████▎           | 1529/1800 [01:49<00:19, 14.09it/s]\u001b[A\n",
      " 85%|██████████████████████████████████████████████████████████████████▎           | 1531/1800 [01:49<00:19, 14.07it/s]\u001b[A\n",
      " 85%|██████████████████████████████████████████████████████████████████▍           | 1533/1800 [01:50<00:18, 14.09it/s]\u001b[A\n",
      " 85%|██████████████████████████████████████████████████████████████████▌           | 1535/1800 [01:50<00:18, 14.07it/s]\u001b[A\n",
      " 85%|██████████████████████████████████████████████████████████████████▌           | 1537/1800 [01:50<00:18, 14.11it/s]\u001b[A\n",
      " 86%|██████████████████████████████████████████████████████████████████▋           | 1539/1800 [01:50<00:18, 14.08it/s]\u001b[A\n",
      " 86%|██████████████████████████████████████████████████████████████████▊           | 1541/1800 [01:50<00:18, 14.12it/s]\u001b[A\n",
      " 86%|██████████████████████████████████████████████████████████████████▊           | 1543/1800 [01:50<00:18, 14.09it/s]\u001b[A\n",
      " 86%|██████████████████████████████████████████████████████████████████▉           | 1545/1800 [01:50<00:18, 14.10it/s]\u001b[A\n",
      " 86%|███████████████████████████████████████████████████████████████████           | 1547/1800 [01:51<00:17, 14.11it/s]\u001b[A\n",
      " 86%|███████████████████████████████████████████████████████████████████           | 1549/1800 [01:51<00:17, 14.08it/s]\u001b[A\n",
      " 86%|███████████████████████████████████████████████████████████████████▏          | 1551/1800 [01:51<00:17, 14.09it/s]\u001b[A\n",
      " 86%|███████████████████████████████████████████████████████████████████▎          | 1553/1800 [01:51<00:17, 14.10it/s]\u001b[A\n",
      " 86%|███████████████████████████████████████████████████████████████████▍          | 1555/1800 [01:51<00:17, 14.14it/s]\u001b[A\n",
      " 86%|███████████████████████████████████████████████████████████████████▍          | 1557/1800 [01:51<00:17, 14.13it/s]\u001b[A\n",
      " 87%|███████████████████████████████████████████████████████████████████▌          | 1559/1800 [01:51<00:17, 14.16it/s]\u001b[A\n",
      " 87%|███████████████████████████████████████████████████████████████████▋          | 1561/1800 [01:52<00:16, 14.06it/s]\u001b[A\n",
      " 87%|███████████████████████████████████████████████████████████████████▋          | 1563/1800 [01:52<00:17, 13.76it/s]\u001b[A\n",
      " 87%|███████████████████████████████████████████████████████████████████▊          | 1565/1800 [01:52<00:16, 13.90it/s]\u001b[A\n",
      " 87%|███████████████████████████████████████████████████████████████████▉          | 1567/1800 [01:52<00:16, 13.96it/s]\u001b[A\n",
      " 87%|███████████████████████████████████████████████████████████████████▉          | 1569/1800 [01:52<00:16, 13.98it/s]\u001b[A\n",
      " 87%|████████████████████████████████████████████████████████████████████          | 1571/1800 [01:52<00:16, 13.68it/s]\u001b[A\n",
      " 87%|████████████████████████████████████████████████████████████████████▏         | 1573/1800 [01:52<00:16, 13.78it/s]\u001b[A\n",
      " 88%|████████████████████████████████████████████████████████████████████▎         | 1575/1800 [01:53<00:16, 13.88it/s]\u001b[A\n",
      " 88%|████████████████████████████████████████████████████████████████████▎         | 1577/1800 [01:53<00:16, 13.75it/s]\u001b[A\n",
      " 88%|████████████████████████████████████████████████████████████████████▍         | 1579/1800 [01:53<00:16, 13.55it/s]\u001b[A\n",
      " 88%|████████████████████████████████████████████████████████████████████▌         | 1581/1800 [01:53<00:16, 13.44it/s]\u001b[A\n"
     ]
    },
    {
     "name": "stderr",
     "output_type": "stream",
     "text": [
      " 88%|████████████████████████████████████████████████████████████████████▌         | 1583/1800 [01:53<00:16, 13.56it/s]\u001b[A\n",
      " 88%|████████████████████████████████████████████████████████████████████▋         | 1585/1800 [01:53<00:15, 13.72it/s]\u001b[A\n",
      " 88%|████████████████████████████████████████████████████████████████████▊         | 1587/1800 [01:53<00:15, 13.67it/s]\u001b[A\n",
      " 88%|████████████████████████████████████████████████████████████████████▊         | 1589/1800 [01:54<00:15, 13.63it/s]\u001b[A\n",
      " 88%|████████████████████████████████████████████████████████████████████▉         | 1591/1800 [01:54<00:15, 13.55it/s]\u001b[A\n",
      " 88%|█████████████████████████████████████████████████████████████████████         | 1593/1800 [01:54<00:15, 13.63it/s]\u001b[A\n",
      " 89%|█████████████████████████████████████████████████████████████████████         | 1595/1800 [01:54<00:15, 13.44it/s]\u001b[A\n",
      " 89%|█████████████████████████████████████████████████████████████████████▏        | 1597/1800 [01:54<00:14, 13.59it/s]\u001b[A\n",
      " 89%|█████████████████████████████████████████████████████████████████████▎        | 1599/1800 [01:54<00:14, 13.44it/s]\u001b[A\n",
      " 89%|█████████████████████████████████████████████████████████████████████▍        | 1601/1800 [01:54<00:14, 13.61it/s]\u001b[A\n",
      " 89%|█████████████████████████████████████████████████████████████████████▍        | 1603/1800 [01:55<00:14, 13.76it/s]\u001b[A\n",
      " 89%|█████████████████████████████████████████████████████████████████████▌        | 1605/1800 [01:55<00:14, 13.87it/s]\u001b[A\n",
      " 89%|█████████████████████████████████████████████████████████████████████▋        | 1607/1800 [01:55<00:13, 13.94it/s]\u001b[A\n",
      " 89%|█████████████████████████████████████████████████████████████████████▋        | 1609/1800 [01:55<00:13, 14.05it/s]\u001b[A\n",
      " 90%|█████████████████████████████████████████████████████████████████████▊        | 1611/1800 [01:55<00:13, 14.04it/s]\u001b[A\n",
      " 90%|█████████████████████████████████████████████████████████████████████▉        | 1613/1800 [01:55<00:13, 14.07it/s]\u001b[A\n",
      " 90%|█████████████████████████████████████████████████████████████████████▉        | 1615/1800 [01:55<00:13, 14.08it/s]\u001b[A\n",
      " 90%|██████████████████████████████████████████████████████████████████████        | 1617/1800 [01:56<00:12, 14.10it/s]\u001b[A\n",
      " 90%|██████████████████████████████████████████████████████████████████████▏       | 1619/1800 [01:56<00:12, 14.10it/s]\u001b[A\n",
      " 90%|██████████████████████████████████████████████████████████████████████▏       | 1621/1800 [01:56<00:12, 14.11it/s]\u001b[A\n",
      " 90%|██████████████████████████████████████████████████████████████████████▎       | 1623/1800 [01:56<00:12, 14.14it/s]\u001b[A\n",
      " 90%|██████████████████████████████████████████████████████████████████████▍       | 1625/1800 [01:56<00:12, 14.17it/s]\u001b[A\n",
      " 90%|██████████████████████████████████████████████████████████████████████▌       | 1627/1800 [01:56<00:12, 14.12it/s]\u001b[A\n",
      " 90%|██████████████████████████████████████████████████████████████████████▌       | 1629/1800 [01:56<00:12, 14.12it/s]\u001b[A\n",
      " 91%|██████████████████████████████████████████████████████████████████████▋       | 1631/1800 [01:57<00:12, 14.06it/s]\u001b[A\n",
      " 91%|██████████████████████████████████████████████████████████████████████▊       | 1633/1800 [01:57<00:12, 13.79it/s]\u001b[A\n",
      " 91%|██████████████████████████████████████████████████████████████████████▊       | 1635/1800 [01:57<00:11, 13.92it/s]\u001b[A\n",
      " 91%|██████████████████████████████████████████████████████████████████████▉       | 1637/1800 [01:57<00:11, 13.66it/s]\u001b[A\n",
      " 91%|███████████████████████████████████████████████████████████████████████       | 1639/1800 [01:57<00:11, 13.77it/s]\u001b[A\n",
      " 91%|███████████████████████████████████████████████████████████████████████       | 1641/1800 [01:57<00:11, 13.87it/s]\u001b[A\n",
      " 91%|███████████████████████████████████████████████████████████████████████▏      | 1643/1800 [01:57<00:11, 13.86it/s]\u001b[A\n",
      " 91%|███████████████████████████████████████████████████████████████████████▎      | 1645/1800 [01:58<00:11, 13.71it/s]\u001b[A\n",
      " 92%|███████████████████████████████████████████████████████████████████████▎      | 1647/1800 [01:58<00:11, 13.83it/s]\u001b[A\n",
      " 92%|███████████████████████████████████████████████████████████████████████▍      | 1649/1800 [01:58<00:10, 13.92it/s]\u001b[A\n",
      " 92%|███████████████████████████████████████████████████████████████████████▌      | 1651/1800 [01:58<00:10, 14.01it/s]\u001b[A\n",
      " 92%|███████████████████████████████████████████████████████████████████████▋      | 1653/1800 [01:58<00:10, 14.01it/s]\u001b[A\n",
      " 92%|███████████████████████████████████████████████████████████████████████▋      | 1655/1800 [01:58<00:10, 14.07it/s]\u001b[A\n",
      " 92%|███████████████████████████████████████████████████████████████████████▊      | 1657/1800 [01:58<00:10, 14.06it/s]\u001b[A\n",
      " 92%|███████████████████████████████████████████████████████████████████████▉      | 1659/1800 [01:59<00:10, 14.08it/s]\u001b[A\n",
      " 92%|███████████████████████████████████████████████████████████████████████▉      | 1661/1800 [01:59<00:09, 14.09it/s]\u001b[A\n",
      " 92%|████████████████████████████████████████████████████████████████████████      | 1663/1800 [01:59<00:09, 14.10it/s]\u001b[A\n",
      " 92%|████████████████████████████████████████████████████████████████████████▏     | 1665/1800 [01:59<00:09, 14.14it/s]\u001b[A\n",
      " 93%|████████████████████████████████████████████████████████████████████████▏     | 1667/1800 [01:59<00:09, 14.13it/s]\u001b[A\n",
      " 93%|████████████████████████████████████████████████████████████████████████▎     | 1669/1800 [01:59<00:09, 14.13it/s]\u001b[A\n",
      " 93%|████████████████████████████████████████████████████████████████████████▍     | 1671/1800 [01:59<00:09, 14.13it/s]\u001b[A\n",
      " 93%|████████████████████████████████████████████████████████████████████████▍     | 1673/1800 [02:00<00:09, 14.10it/s]\u001b[A\n",
      " 93%|████████████████████████████████████████████████████████████████████████▌     | 1675/1800 [02:00<00:08, 14.13it/s]\u001b[A\n",
      " 93%|████████████████████████████████████████████████████████████████████████▋     | 1677/1800 [02:00<00:08, 14.13it/s]\u001b[A\n",
      " 93%|████████████████████████████████████████████████████████████████████████▊     | 1679/1800 [02:00<00:08, 14.16it/s]\u001b[A\n",
      " 93%|████████████████████████████████████████████████████████████████████████▊     | 1681/1800 [02:00<00:08, 14.15it/s]\u001b[A\n",
      " 94%|████████████████████████████████████████████████████████████████████████▉     | 1683/1800 [02:00<00:08, 14.08it/s]\u001b[A\n",
      " 94%|█████████████████████████████████████████████████████████████████████████     | 1685/1800 [02:00<00:08, 14.09it/s]\u001b[A\n",
      " 94%|█████████████████████████████████████████████████████████████████████████     | 1687/1800 [02:01<00:08, 14.07it/s]\u001b[A\n",
      " 94%|█████████████████████████████████████████████████████████████████████████▏    | 1689/1800 [02:01<00:07, 14.09it/s]\u001b[A\n",
      " 94%|█████████████████████████████████████████████████████████████████████████▎    | 1691/1800 [02:01<00:07, 14.13it/s]\u001b[A\n",
      " 94%|█████████████████████████████████████████████████████████████████████████▎    | 1693/1800 [02:01<00:07, 14.13it/s]\u001b[A\n",
      " 94%|█████████████████████████████████████████████████████████████████████████▍    | 1695/1800 [02:01<00:07, 14.12it/s]\u001b[A\n",
      " 94%|█████████████████████████████████████████████████████████████████████████▌    | 1697/1800 [02:01<00:07, 14.09it/s]\u001b[A\n",
      " 94%|█████████████████████████████████████████████████████████████████████████▌    | 1699/1800 [02:01<00:07, 14.13it/s]\u001b[A\n",
      " 94%|█████████████████████████████████████████████████████████████████████████▋    | 1701/1800 [02:02<00:07, 14.10it/s]\u001b[A\n",
      " 95%|█████████████████████████████████████████████████████████████████████████▊    | 1703/1800 [02:02<00:06, 14.11it/s]\u001b[A\n",
      " 95%|█████████████████████████████████████████████████████████████████████████▉    | 1705/1800 [02:02<00:06, 14.11it/s]\u001b[A\n",
      " 95%|█████████████████████████████████████████████████████████████████████████▉    | 1707/1800 [02:02<00:06, 14.11it/s]\u001b[A\n",
      " 95%|██████████████████████████████████████████████████████████████████████████    | 1709/1800 [02:02<00:06, 14.15it/s]\u001b[A\n",
      " 95%|██████████████████████████████████████████████████████████████████████████▏   | 1711/1800 [02:02<00:06, 14.14it/s]\u001b[A\n",
      " 95%|██████████████████████████████████████████████████████████████████████████▏   | 1713/1800 [02:02<00:06, 14.16it/s]\u001b[A\n"
     ]
    },
    {
     "name": "stderr",
     "output_type": "stream",
     "text": [
      " 95%|██████████████████████████████████████████████████████████████████████████▎   | 1715/1800 [02:03<00:06, 14.15it/s]\u001b[A\n",
      " 95%|██████████████████████████████████████████████████████████████████████████▍   | 1717/1800 [02:03<00:05, 14.14it/s]\u001b[A\n",
      " 96%|██████████████████████████████████████████████████████████████████████████▍   | 1719/1800 [02:03<00:05, 14.13it/s]\u001b[A\n",
      " 96%|██████████████████████████████████████████████████████████████████████████▌   | 1721/1800 [02:03<00:05, 14.10it/s]\u001b[A\n",
      " 96%|██████████████████████████████████████████████████████████████████████████▋   | 1723/1800 [02:03<00:05, 14.12it/s]\u001b[A\n",
      " 96%|██████████████████████████████████████████████████████████████████████████▊   | 1725/1800 [02:03<00:05, 14.12it/s]\u001b[A\n",
      " 96%|██████████████████████████████████████████████████████████████████████████▊   | 1727/1800 [02:03<00:05, 14.15it/s]\u001b[A\n",
      " 96%|██████████████████████████████████████████████████████████████████████████▉   | 1729/1800 [02:04<00:05, 14.11it/s]\u001b[A\n",
      " 96%|███████████████████████████████████████████████████████████████████████████   | 1731/1800 [02:04<00:04, 14.11it/s]\u001b[A\n",
      " 96%|███████████████████████████████████████████████████████████████████████████   | 1733/1800 [02:04<00:04, 14.12it/s]\u001b[A\n",
      " 96%|███████████████████████████████████████████████████████████████████████████▏  | 1735/1800 [02:04<00:04, 14.12it/s]\u001b[A\n",
      " 96%|███████████████████████████████████████████████████████████████████████████▎  | 1737/1800 [02:04<00:04, 14.15it/s]\u001b[A\n",
      " 97%|███████████████████████████████████████████████████████████████████████████▎  | 1739/1800 [02:04<00:04, 14.11it/s]\u001b[A\n",
      " 97%|███████████████████████████████████████████████████████████████████████████▍  | 1741/1800 [02:04<00:04, 14.11it/s]\u001b[A\n",
      " 97%|███████████████████████████████████████████████████████████████████████████▌  | 1743/1800 [02:05<00:04, 14.12it/s]\u001b[A\n",
      " 97%|███████████████████████████████████████████████████████████████████████████▌  | 1745/1800 [02:05<00:03, 14.09it/s]\u001b[A\n",
      " 97%|███████████████████████████████████████████████████████████████████████████▋  | 1747/1800 [02:05<00:03, 14.10it/s]\u001b[A\n",
      " 97%|███████████████████████████████████████████████████████████████████████████▊  | 1749/1800 [02:05<00:03, 14.14it/s]\u001b[A\n",
      " 97%|███████████████████████████████████████████████████████████████████████████▉  | 1751/1800 [02:05<00:03, 14.16it/s]\u001b[A\n",
      " 97%|███████████████████████████████████████████████████████████████████████████▉  | 1753/1800 [02:05<00:03, 14.12it/s]\u001b[A\n",
      " 98%|████████████████████████████████████████████████████████████████████████████  | 1755/1800 [02:05<00:03, 14.12it/s]\u001b[A\n",
      " 98%|████████████████████████████████████████████████████████████████████████████▏ | 1757/1800 [02:06<00:03, 14.09it/s]\u001b[A\n",
      " 98%|████████████████████████████████████████████████████████████████████████████▏ | 1759/1800 [02:06<00:02, 14.10it/s]\u001b[A\n",
      " 98%|████████████████████████████████████████████████████████████████████████████▎ | 1761/1800 [02:06<00:02, 14.11it/s]\u001b[A\n",
      " 98%|████████████████████████████████████████████████████████████████████████████▍ | 1763/1800 [02:06<00:02, 14.14it/s]\u001b[A\n",
      " 98%|████████████████████████████████████████████████████████████████████████████▍ | 1765/1800 [02:06<00:02, 14.14it/s]\u001b[A\n",
      " 98%|████████████████████████████████████████████████████████████████████████████▌ | 1767/1800 [02:06<00:02, 14.08it/s]\u001b[A\n",
      " 98%|████████████████████████████████████████████████████████████████████████████▋ | 1769/1800 [02:06<00:02, 14.09it/s]\u001b[A\n",
      " 98%|████████████████████████████████████████████████████████████████████████████▋ | 1771/1800 [02:07<00:02, 14.10it/s]\u001b[A\n",
      " 98%|████████████████████████████████████████████████████████████████████████████▊ | 1773/1800 [02:07<00:01, 14.08it/s]\u001b[A\n",
      " 99%|████████████████████████████████████████████████████████████████████████████▉ | 1775/1800 [02:07<00:01, 14.09it/s]\u001b[A\n",
      " 99%|█████████████████████████████████████████████████████████████████████████████ | 1777/1800 [02:07<00:01, 14.10it/s]\u001b[A\n",
      " 99%|█████████████████████████████████████████████████████████████████████████████ | 1779/1800 [02:07<00:01, 14.13it/s]\u001b[A\n",
      " 99%|█████████████████████████████████████████████████████████████████████████████▏| 1781/1800 [02:07<00:01, 14.10it/s]\u001b[A\n",
      " 99%|█████████████████████████████████████████████████████████████████████████████▎| 1783/1800 [02:07<00:01, 14.11it/s]\u001b[A\n",
      " 99%|█████████████████████████████████████████████████████████████████████████████▎| 1785/1800 [02:08<00:01, 14.12it/s]\u001b[A\n",
      " 99%|█████████████████████████████████████████████████████████████████████████████▍| 1787/1800 [02:08<00:00, 14.09it/s]\u001b[A\n",
      " 99%|█████████████████████████████████████████████████████████████████████████████▌| 1789/1800 [02:08<00:00, 14.10it/s]\u001b[A\n",
      "100%|█████████████████████████████████████████████████████████████████████████████▌| 1791/1800 [02:08<00:00, 14.11it/s]\u001b[A\n",
      "100%|█████████████████████████████████████████████████████████████████████████████▋| 1793/1800 [02:08<00:00, 14.11it/s]\u001b[A\n",
      "100%|█████████████████████████████████████████████████████████████████████████████▊| 1795/1800 [02:08<00:00, 14.11it/s]\u001b[A\n",
      "100%|█████████████████████████████████████████████████████████████████████████████▊| 1797/1800 [02:08<00:00, 14.09it/s]\u001b[A\n",
      "100%|█████████████████████████████████████████████████████████████████████████████▉| 1799/1800 [02:09<00:00, 14.04it/s]\u001b[A"
     ]
    }
   ],
   "source": [
    "from datasets import load_metric\n",
    "distilbert_model.eval()\n",
    "preds = []\n",
    "\n",
    "metric1 = load_metric('accuracy')\n",
    "metric2 = load_metric(\"precision\")\n",
    "metric3 = load_metric(\"recall\")\n",
    "\n",
    "progress_bar = tqdm(val_dataloader)\n",
    "distilbert_model.eval()\n",
    "for batch in val_dataloader:\n",
    "    batch = {k: v.to(device) for k, v in batch.items()}\n",
    "    with torch.no_grad():\n",
    "        outputs = distilbert_model(**batch)\n",
    "\n",
    "    logits = outputs.logits\n",
    "    predictions = torch.argmax(logits, dim=-1)\n",
    "    preds.append(predictions.cpu().detach().tolist())\n",
    "    metric1.add_batch(predictions=predictions, references=batch[\"labels\"])\n",
    "    metric2.add_batch(predictions=predictions, references=batch[\"labels\"])\n",
    "    metric3.add_batch(predictions=predictions, references=batch[\"labels\"])\n",
    "    progress_bar.update(1)\n",
    "    \n",
    "accuracy = metric1.compute()\n",
    "precision = metric2.compute(average='macro')\n",
    "recall = metric3.compute(average='macro')"
   ]
  },
  {
   "cell_type": "code",
   "execution_count": 49,
   "metadata": {
    "id": "jrUg6YR-B21V",
    "outputId": "b14f3c64-863a-4dd6-f33e-fb6412b946b7",
    "scrolled": true
   },
   "outputs": [
    {
     "name": "stdout",
     "output_type": "stream",
     "text": [
      "{'accuracy': 0.9492777777777778}\n",
      "{'precision': 0.9493852767688301}\n",
      "{'recall': 0.9493533597808287}\n"
     ]
    },
    {
     "name": "stderr",
     "output_type": "stream",
     "text": [
      "\n",
      "100%|██████████████████████████████████████████████████████████████████████████████| 1800/1800 [02:22<00:00, 14.04it/s]\u001b[A"
     ]
    }
   ],
   "source": [
    "print(accuracy)\n",
    "print(precision)\n",
    "print(recall)"
   ]
  },
  {
   "cell_type": "code",
   "execution_count": null,
   "metadata": {
    "id": "SrzBCh8cB21V",
    "scrolled": true
   },
   "outputs": [],
   "source": [
    "# distilbert_model.to('cpu')"
   ]
  },
  {
   "cell_type": "code",
   "execution_count": null,
   "metadata": {
    "id": "A_5R_xcwB21V",
    "scrolled": true
   },
   "outputs": [],
   "source": [
    "# tokenizer.decode(db_tokenized_ds_test[2]['input_ids'], skip_special_tokens=True)"
   ]
  },
  {
   "cell_type": "code",
   "execution_count": null,
   "metadata": {
    "id": "yfR4ZRJcXZar",
    "scrolled": true
   },
   "outputs": [],
   "source": [
    "# for i in range(100):\n",
    "#     text = tokenizer.decode(tokenized_ds_test[i]['input_ids'], skip_special_tokens=True)\n",
    "#     true_label = tokenized_ds_test[i]['labels']\n",
    "#     inputs = tokenizer(text, return_tensors=\"pt\")\n",
    "\n",
    "#     with torch.no_grad():\n",
    "#       outputs = distilbert_model(**inputs)\n",
    "#       prediction = torch.argmax(outputs.logits, dim=-1).item()\n",
    "#     if(prediction != true_label):\n",
    "#         print(f\"TEXT: {text} \\nTRUE LABEL:{true_label} - PREDICTION: {prediction}\\n\\n\")"
   ]
  },
  {
   "cell_type": "markdown",
   "metadata": {
    "id": "IHW4UgZKyG49"
   },
   "source": [
    "## Experiments\n"
   ]
  },
  {
   "cell_type": "markdown",
   "metadata": {
    "id": "FfDIhVaC9YaU"
   },
   "source": [
    "### Preprocessing dataset of November\n",
    "A second unlabeled dataset with comments from the \"r/cryptocurrency\" subreddit will be used to conduct experiments on the model.\n",
    "\n",
    "This dataset was built using the PushShift API (https://github.com/pushshift/api) for Reddit which is used to collect data of posts and comments from Reddit and `pmaw` (https://pypi.org/project/pmaw/0.0.2/) which is a wrapper for the PushShift API to make multiple requests.\n",
    "\n",
    "The timeframe selected for the comments in the dataset is the month of November 2021, we believe this timeframe to be significant because of multiple sudden crashes of the crypto market which happened throughout the month."
   ]
  },
  {
   "cell_type": "code",
   "execution_count": 73,
   "metadata": {
    "id": "9gx1oJt-1G-B",
    "scrolled": true
   },
   "outputs": [],
   "source": [
    "df_month = pd.read_csv(PATH+'./nov_cc.csv')"
   ]
  },
  {
   "cell_type": "code",
   "execution_count": 74,
   "metadata": {
    "colab": {
     "base_uri": "https://localhost:8080/"
    },
    "id": "csfy0eFGAYYX",
    "outputId": "3d34baa0-8b6a-4f6d-972f-a07a01b1afe0",
    "scrolled": true
   },
   "outputs": [
    {
     "name": "stdout",
     "output_type": "stream",
     "text": [
      "Number of deleted rows: 76449\n",
      "Number of deleted rows with automatic comments: 2143\n"
     ]
    }
   ],
   "source": [
    "remove_comments(df_month)"
   ]
  },
  {
   "cell_type": "code",
   "execution_count": 75,
   "metadata": {
    "id": "kjE94AvU0_S9",
    "scrolled": true
   },
   "outputs": [],
   "source": [
    "df_month['created_utc'] = pd.to_datetime(df_month['created_utc'],unit='s')"
   ]
  },
  {
   "cell_type": "code",
   "execution_count": 76,
   "metadata": {
    "id": "UCUgOOOjAf1S",
    "scrolled": true
   },
   "outputs": [],
   "source": [
    "df_month = df_month.dropna()\n",
    "df_month = df_month[df_month['body'].apply(lambda x: len(x) <= 512) ]\n",
    "df_month.rename(columns={\"body\":\"text\"}, inplace=True)\n",
    "df_month.reset_index(drop=True, inplace=True)"
   ]
  },
  {
   "cell_type": "markdown",
   "metadata": {
    "id": "qp3N56Li7k2Y"
   },
   "source": [
    "### Predict sentiment of each day\n",
    "The comments are split according to the day of the month, in this way we obtain the number of positive and negative comments for each day.\n"
   ]
  },
  {
   "cell_type": "code",
   "execution_count": 98,
   "metadata": {
    "id": "n6U5Z3Ji30B5",
    "scrolled": true
   },
   "outputs": [
    {
     "name": "stdout",
     "output_type": "stream",
     "text": [
      "1\n"
     ]
    },
    {
     "name": "stderr",
     "output_type": "stream",
     "text": [
      "\n",
      "  0%|                                                                                           | 0/15 [00:00<?, ?ba/s]\u001b[A\n",
      "  7%|█████▌                                                                             | 1/15 [00:00<00:04,  2.93ba/s]\u001b[A\n",
      " 13%|███████████                                                                        | 2/15 [00:00<00:04,  3.00ba/s]\u001b[A\n",
      " 20%|████████████████▌                                                                  | 3/15 [00:01<00:04,  2.95ba/s]\u001b[A\n",
      " 27%|██████████████████████▏                                                            | 4/15 [00:01<00:03,  2.95ba/s]\u001b[A\n",
      " 33%|███████████████████████████▋                                                       | 5/15 [00:01<00:03,  3.06ba/s]\u001b[A\n",
      " 40%|█████████████████████████████████▏                                                 | 6/15 [00:02<00:03,  3.00ba/s]\u001b[A\n",
      " 47%|██████████████████████████████████████▋                                            | 7/15 [00:02<00:02,  3.00ba/s]\u001b[A\n",
      " 53%|████████████████████████████████████████████▎                                      | 8/15 [00:02<00:02,  3.02ba/s]\u001b[A\n",
      " 60%|█████████████████████████████████████████████████▊                                 | 9/15 [00:02<00:01,  3.08ba/s]\u001b[A\n",
      " 67%|██████████████████████████████████████████████████████▋                           | 10/15 [00:03<00:01,  3.06ba/s]\u001b[A\n",
      " 73%|████████████████████████████████████████████████████████████▏                     | 11/15 [00:03<00:01,  3.09ba/s]\u001b[A\n",
      " 80%|█████████████████████████████████████████████████████████████████▌                | 12/15 [00:03<00:00,  3.07ba/s]\u001b[A\n",
      " 87%|███████████████████████████████████████████████████████████████████████           | 13/15 [00:04<00:00,  3.03ba/s]\u001b[A\n",
      "100%|██████████████████████████████████████████████████████████████████████████████████| 15/15 [00:04<00:00,  3.20ba/s]\u001b[A\n"
     ]
    },
    {
     "name": "stdout",
     "output_type": "stream",
     "text": [
      "2\n"
     ]
    },
    {
     "name": "stderr",
     "output_type": "stream",
     "text": [
      "\n",
      "  0%|                                                                                           | 0/15 [00:00<?, ?ba/s]\u001b[A\n",
      "  7%|█████▌                                                                             | 1/15 [00:00<00:04,  3.08ba/s]\u001b[A\n",
      " 13%|███████████                                                                        | 2/15 [00:00<00:04,  3.02ba/s]\u001b[A\n",
      " 20%|████████████████▌                                                                  | 3/15 [00:00<00:04,  2.99ba/s]\u001b[A\n",
      " 27%|██████████████████████▏                                                            | 4/15 [00:01<00:03,  3.04ba/s]\u001b[A\n",
      " 33%|███████████████████████████▋                                                       | 5/15 [00:01<00:03,  3.04ba/s]\u001b[A\n",
      " 40%|█████████████████████████████████▏                                                 | 6/15 [00:01<00:02,  3.07ba/s]\u001b[A\n",
      " 47%|██████████████████████████████████████▋                                            | 7/15 [00:02<00:02,  2.71ba/s]\u001b[A\n",
      " 53%|████████████████████████████████████████████▎                                      | 8/15 [00:02<00:02,  2.79ba/s]\u001b[A\n",
      " 60%|█████████████████████████████████████████████████▊                                 | 9/15 [00:03<00:02,  2.88ba/s]\u001b[A\n",
      " 67%|██████████████████████████████████████████████████████▋                           | 10/15 [00:03<00:01,  2.96ba/s]\u001b[A\n",
      " 73%|████████████████████████████████████████████████████████████▏                     | 11/15 [00:03<00:01,  3.01ba/s]\u001b[A\n",
      " 80%|█████████████████████████████████████████████████████████████████▌                | 12/15 [00:04<00:00,  3.08ba/s]\u001b[A\n",
      " 87%|███████████████████████████████████████████████████████████████████████           | 13/15 [00:04<00:00,  3.07ba/s]\u001b[A\n",
      " 93%|████████████████████████████████████████████████████████████████████████████▌     | 14/15 [00:04<00:00,  3.09ba/s]\u001b[A\n",
      "100%|██████████████████████████████████████████████████████████████████████████████████| 15/15 [00:04<00:00,  3.09ba/s]\u001b[A\n"
     ]
    },
    {
     "name": "stdout",
     "output_type": "stream",
     "text": [
      "3\n"
     ]
    },
    {
     "name": "stderr",
     "output_type": "stream",
     "text": [
      "\n",
      "  0%|                                                                                           | 0/15 [00:00<?, ?ba/s]\u001b[A\n",
      "  7%|█████▌                                                                             | 1/15 [00:00<00:04,  3.23ba/s]\u001b[A\n",
      " 13%|███████████                                                                        | 2/15 [00:00<00:04,  3.05ba/s]\u001b[A\n",
      " 20%|████████████████▌                                                                  | 3/15 [00:00<00:03,  3.03ba/s]\u001b[A\n",
      " 27%|██████████████████████▏                                                            | 4/15 [00:01<00:03,  3.02ba/s]\u001b[A\n",
      " 33%|███████████████████████████▋                                                       | 5/15 [00:01<00:03,  3.02ba/s]\u001b[A\n",
      " 40%|█████████████████████████████████▏                                                 | 6/15 [00:01<00:02,  3.06ba/s]\u001b[A\n",
      " 47%|██████████████████████████████████████▋                                            | 7/15 [00:02<00:02,  3.08ba/s]\u001b[A\n",
      " 53%|████████████████████████████████████████████▎                                      | 8/15 [00:02<00:02,  3.08ba/s]\u001b[A\n",
      " 60%|█████████████████████████████████████████████████▊                                 | 9/15 [00:02<00:01,  3.11ba/s]\u001b[A\n",
      " 67%|██████████████████████████████████████████████████████▋                           | 10/15 [00:03<00:01,  3.10ba/s]\u001b[A\n",
      " 73%|████████████████████████████████████████████████████████████▏                     | 11/15 [00:03<00:01,  3.11ba/s]\u001b[A\n",
      " 80%|█████████████████████████████████████████████████████████████████▌                | 12/15 [00:03<00:00,  3.17ba/s]\u001b[A\n",
      " 87%|███████████████████████████████████████████████████████████████████████           | 13/15 [00:04<00:00,  3.12ba/s]\u001b[A\n",
      " 93%|████████████████████████████████████████████████████████████████████████████▌     | 14/15 [00:04<00:00,  3.04ba/s]\u001b[A\n",
      "100%|██████████████████████████████████████████████████████████████████████████████████| 15/15 [00:04<00:00,  3.12ba/s]\u001b[A\n"
     ]
    },
    {
     "name": "stdout",
     "output_type": "stream",
     "text": [
      "4\n"
     ]
    },
    {
     "name": "stderr",
     "output_type": "stream",
     "text": [
      "\n",
      "  0%|                                                                                           | 0/15 [00:00<?, ?ba/s]\u001b[A\n",
      "  7%|█████▌                                                                             | 1/15 [00:00<00:05,  2.76ba/s]\u001b[A\n",
      " 13%|███████████                                                                        | 2/15 [00:00<00:04,  2.72ba/s]\u001b[A\n",
      " 20%|████████████████▌                                                                  | 3/15 [00:01<00:04,  2.72ba/s]\u001b[A\n",
      " 27%|██████████████████████▏                                                            | 4/15 [00:01<00:03,  2.79ba/s]\u001b[A\n",
      " 33%|███████████████████████████▋                                                       | 5/15 [00:01<00:03,  2.78ba/s]\u001b[A\n",
      " 40%|█████████████████████████████████▏                                                 | 6/15 [00:02<00:03,  2.79ba/s]\u001b[A\n",
      " 47%|██████████████████████████████████████▋                                            | 7/15 [00:02<00:02,  2.81ba/s]\u001b[A\n",
      " 53%|████████████████████████████████████████████▎                                      | 8/15 [00:02<00:02,  2.87ba/s]\u001b[A\n",
      " 60%|█████████████████████████████████████████████████▊                                 | 9/15 [00:03<00:02,  2.95ba/s]\u001b[A\n",
      " 67%|██████████████████████████████████████████████████████▋                           | 10/15 [00:03<00:01,  3.00ba/s]\u001b[A\n",
      " 73%|████████████████████████████████████████████████████████████▏                     | 11/15 [00:03<00:01,  2.98ba/s]\u001b[A\n",
      " 80%|█████████████████████████████████████████████████████████████████▌                | 12/15 [00:04<00:00,  3.02ba/s]\u001b[A\n",
      " 87%|███████████████████████████████████████████████████████████████████████           | 13/15 [00:04<00:00,  2.95ba/s]\u001b[A\n",
      "100%|██████████████████████████████████████████████████████████████████████████████████| 15/15 [00:04<00:00,  3.04ba/s]\u001b[A\n"
     ]
    },
    {
     "name": "stdout",
     "output_type": "stream",
     "text": [
      "5\n"
     ]
    },
    {
     "name": "stderr",
     "output_type": "stream",
     "text": [
      "\n",
      "  0%|                                                                                           | 0/15 [00:00<?, ?ba/s]\u001b[A\n",
      "  7%|█████▌                                                                             | 1/15 [00:00<00:04,  2.92ba/s]\u001b[A\n",
      " 13%|███████████                                                                        | 2/15 [00:00<00:04,  2.77ba/s]\u001b[A\n",
      " 20%|████████████████▌                                                                  | 3/15 [00:01<00:04,  2.70ba/s]\u001b[A\n",
      " 27%|██████████████████████▏                                                            | 4/15 [00:01<00:04,  2.55ba/s]\u001b[A\n",
      " 33%|███████████████████████████▋                                                       | 5/15 [00:01<00:03,  2.59ba/s]\u001b[A\n",
      " 40%|█████████████████████████████████▏                                                 | 6/15 [00:02<00:03,  2.53ba/s]\u001b[A\n",
      " 47%|██████████████████████████████████████▋                                            | 7/15 [00:02<00:03,  2.61ba/s]\u001b[A\n",
      " 53%|████████████████████████████████████████████▎                                      | 8/15 [00:03<00:02,  2.66ba/s]\u001b[A\n",
      " 60%|█████████████████████████████████████████████████▊                                 | 9/15 [00:03<00:02,  2.58ba/s]\u001b[A\n",
      " 67%|██████████████████████████████████████████████████████▋                           | 10/15 [00:03<00:01,  2.60ba/s]\u001b[A\n",
      " 73%|████████████████████████████████████████████████████████████▏                     | 11/15 [00:04<00:01,  2.65ba/s]\u001b[A\n",
      " 80%|█████████████████████████████████████████████████████████████████▌                | 12/15 [00:04<00:01,  2.73ba/s]\u001b[A\n",
      " 87%|███████████████████████████████████████████████████████████████████████           | 13/15 [00:04<00:00,  2.83ba/s]\u001b[A\n",
      " 93%|████████████████████████████████████████████████████████████████████████████▌     | 14/15 [00:05<00:00,  2.89ba/s]\u001b[A\n",
      "100%|██████████████████████████████████████████████████████████████████████████████████| 15/15 [00:05<00:00,  2.78ba/s]\u001b[A\n"
     ]
    },
    {
     "name": "stdout",
     "output_type": "stream",
     "text": [
      "6\n"
     ]
    },
    {
     "name": "stderr",
     "output_type": "stream",
     "text": [
      "\n",
      "  0%|                                                                                           | 0/19 [00:00<?, ?ba/s]\u001b[A\n",
      "  5%|████▎                                                                              | 1/19 [00:00<00:05,  3.32ba/s]\u001b[A\n",
      " 11%|████████▋                                                                          | 2/19 [00:00<00:05,  3.18ba/s]\u001b[A\n",
      " 16%|█████████████                                                                      | 3/19 [00:00<00:05,  3.03ba/s]\u001b[A\n",
      " 21%|█████████████████▍                                                                 | 4/19 [00:01<00:05,  2.99ba/s]\u001b[A\n",
      " 26%|█████████████████████▊                                                             | 5/19 [00:01<00:04,  2.96ba/s]\u001b[A\n",
      " 32%|██████████████████████████▏                                                        | 6/19 [00:01<00:04,  2.98ba/s]\u001b[A\n",
      " 37%|██████████████████████████████▌                                                    | 7/19 [00:02<00:04,  2.93ba/s]\u001b[A\n",
      " 42%|██████████████████████████████████▉                                                | 8/19 [00:02<00:03,  2.90ba/s]\u001b[A\n",
      " 47%|███████████████████████████████████████▎                                           | 9/19 [00:03<00:03,  2.89ba/s]\u001b[A\n",
      " 53%|███████████████████████████████████████████▏                                      | 10/19 [00:03<00:03,  2.91ba/s]\u001b[A\n",
      " 58%|███████████████████████████████████████████████▍                                  | 11/19 [00:03<00:02,  2.91ba/s]\u001b[A\n",
      " 63%|███████████████████████████████████████████████████▊                              | 12/19 [00:04<00:02,  2.93ba/s]\u001b[A\n",
      " 68%|████████████████████████████████████████████████████████                          | 13/19 [00:04<00:02,  2.92ba/s]\u001b[A\n",
      " 74%|████████████████████████████████████████████████████████████▍                     | 14/19 [00:04<00:01,  2.93ba/s]\u001b[A\n",
      " 79%|████████████████████████████████████████████████████████████████▋                 | 15/19 [00:05<00:01,  2.93ba/s]\u001b[A\n",
      " 84%|█████████████████████████████████████████████████████████████████████             | 16/19 [00:05<00:01,  2.89ba/s]\u001b[A\n",
      " 89%|█████████████████████████████████████████████████████████████████████████▎        | 17/19 [00:05<00:00,  2.89ba/s]\u001b[A\n",
      "100%|██████████████████████████████████████████████████████████████████████████████████| 19/19 [00:06<00:00,  3.06ba/s]\u001b[A\n"
     ]
    },
    {
     "name": "stdout",
     "output_type": "stream",
     "text": [
      "7\n"
     ]
    },
    {
     "name": "stderr",
     "output_type": "stream",
     "text": [
      "\n",
      "  0%|                                                                                           | 0/15 [00:00<?, ?ba/s]\u001b[A\n",
      "  7%|█████▌                                                                             | 1/15 [00:00<00:04,  3.01ba/s]\u001b[A\n",
      " 13%|███████████                                                                        | 2/15 [00:00<00:04,  2.87ba/s]\u001b[A\n",
      " 20%|████████████████▌                                                                  | 3/15 [00:01<00:04,  2.94ba/s]\u001b[A\n",
      " 27%|██████████████████████▏                                                            | 4/15 [00:01<00:03,  3.01ba/s]\u001b[A\n",
      " 33%|███████████████████████████▋                                                       | 5/15 [00:01<00:03,  3.03ba/s]\u001b[A\n",
      " 40%|█████████████████████████████████▏                                                 | 6/15 [00:01<00:02,  3.03ba/s]\u001b[A\n",
      " 47%|██████████████████████████████████████▋                                            | 7/15 [00:02<00:02,  3.00ba/s]\u001b[A\n",
      " 53%|████████████████████████████████████████████▎                                      | 8/15 [00:02<00:02,  3.00ba/s]\u001b[A\n",
      " 60%|█████████████████████████████████████████████████▊                                 | 9/15 [00:02<00:01,  3.02ba/s]\u001b[A\n",
      " 67%|██████████████████████████████████████████████████████▋                           | 10/15 [00:03<00:01,  3.01ba/s]\u001b[A\n",
      " 73%|████████████████████████████████████████████████████████████▏                     | 11/15 [00:03<00:01,  3.03ba/s]\u001b[A\n",
      " 80%|█████████████████████████████████████████████████████████████████▌                | 12/15 [00:03<00:00,  3.01ba/s]\u001b[A\n",
      " 87%|███████████████████████████████████████████████████████████████████████           | 13/15 [00:04<00:00,  3.02ba/s]\u001b[A\n",
      "100%|██████████████████████████████████████████████████████████████████████████████████| 15/15 [00:04<00:00,  3.14ba/s]\u001b[A\n"
     ]
    },
    {
     "name": "stdout",
     "output_type": "stream",
     "text": [
      "8\n"
     ]
    },
    {
     "name": "stderr",
     "output_type": "stream",
     "text": [
      "\n",
      "  0%|                                                                                           | 0/15 [00:00<?, ?ba/s]\u001b[A\n",
      "  7%|█████▌                                                                             | 1/15 [00:00<00:04,  3.28ba/s]\u001b[A\n",
      " 13%|███████████                                                                        | 2/15 [00:00<00:04,  3.11ba/s]\u001b[A\n",
      " 20%|████████████████▌                                                                  | 3/15 [00:00<00:03,  3.07ba/s]\u001b[A\n",
      " 27%|██████████████████████▏                                                            | 4/15 [00:01<00:03,  3.14ba/s]\u001b[A\n",
      " 33%|███████████████████████████▋                                                       | 5/15 [00:01<00:03,  3.13ba/s]\u001b[A\n",
      " 40%|█████████████████████████████████▏                                                 | 6/15 [00:02<00:03,  2.72ba/s]\u001b[A\n",
      " 47%|██████████████████████████████████████▋                                            | 7/15 [00:02<00:02,  2.84ba/s]\u001b[A\n",
      " 53%|████████████████████████████████████████████▎                                      | 8/15 [00:02<00:02,  2.91ba/s]\u001b[A\n",
      " 60%|█████████████████████████████████████████████████▊                                 | 9/15 [00:03<00:02,  2.97ba/s]\u001b[A\n",
      " 67%|██████████████████████████████████████████████████████▋                           | 10/15 [00:03<00:01,  3.01ba/s]\u001b[A\n",
      " 73%|████████████████████████████████████████████████████████████▏                     | 11/15 [00:03<00:01,  3.07ba/s]\u001b[A\n",
      " 80%|█████████████████████████████████████████████████████████████████▌                | 12/15 [00:03<00:00,  3.07ba/s]\u001b[A\n",
      " 87%|███████████████████████████████████████████████████████████████████████           | 13/15 [00:04<00:00,  3.08ba/s]\u001b[A\n",
      " 93%|████████████████████████████████████████████████████████████████████████████▌     | 14/15 [00:04<00:00,  3.10ba/s]\u001b[A\n",
      "100%|██████████████████████████████████████████████████████████████████████████████████| 15/15 [00:04<00:00,  3.12ba/s]\u001b[A\n"
     ]
    },
    {
     "name": "stdout",
     "output_type": "stream",
     "text": [
      "9\n"
     ]
    },
    {
     "name": "stderr",
     "output_type": "stream",
     "text": [
      "\n",
      "  0%|                                                                                           | 0/15 [00:00<?, ?ba/s]\u001b[A\n",
      "  7%|█████▌                                                                             | 1/15 [00:00<00:04,  3.07ba/s]\u001b[A\n",
      " 13%|███████████                                                                        | 2/15 [00:00<00:04,  3.04ba/s]\u001b[A\n",
      " 20%|████████████████▌                                                                  | 3/15 [00:00<00:03,  3.00ba/s]\u001b[A\n",
      " 27%|██████████████████████▏                                                            | 4/15 [00:01<00:03,  2.97ba/s]\u001b[A\n",
      " 33%|███████████████████████████▋                                                       | 5/15 [00:01<00:03,  2.98ba/s]\u001b[A\n",
      " 40%|█████████████████████████████████▏                                                 | 6/15 [00:02<00:03,  2.98ba/s]\u001b[A\n",
      " 47%|██████████████████████████████████████▋                                            | 7/15 [00:02<00:02,  2.93ba/s]\u001b[A\n",
      " 53%|████████████████████████████████████████████▎                                      | 8/15 [00:02<00:02,  2.92ba/s]\u001b[A\n",
      " 60%|█████████████████████████████████████████████████▊                                 | 9/15 [00:03<00:02,  2.97ba/s]\u001b[A\n",
      " 67%|██████████████████████████████████████████████████████▋                           | 10/15 [00:03<00:01,  3.05ba/s]\u001b[A\n",
      " 73%|████████████████████████████████████████████████████████████▏                     | 11/15 [00:03<00:01,  3.02ba/s]\u001b[A\n",
      " 80%|█████████████████████████████████████████████████████████████████▌                | 12/15 [00:04<00:00,  3.01ba/s]\u001b[A\n",
      " 87%|███████████████████████████████████████████████████████████████████████           | 13/15 [00:04<00:00,  3.01ba/s]\u001b[A\n",
      " 93%|████████████████████████████████████████████████████████████████████████████▌     | 14/15 [00:04<00:00,  3.04ba/s]\u001b[A\n",
      "100%|██████████████████████████████████████████████████████████████████████████████████| 15/15 [00:04<00:00,  3.03ba/s]\u001b[A\n"
     ]
    },
    {
     "name": "stdout",
     "output_type": "stream",
     "text": [
      "10\n"
     ]
    },
    {
     "name": "stderr",
     "output_type": "stream",
     "text": [
      "\n",
      "  0%|                                                                                           | 0/15 [00:00<?, ?ba/s]\u001b[A\n",
      "  7%|█████▌                                                                             | 1/15 [00:00<00:04,  3.00ba/s]\u001b[A\n",
      " 13%|███████████                                                                        | 2/15 [00:00<00:04,  2.89ba/s]\u001b[A\n",
      " 20%|████████████████▌                                                                  | 3/15 [00:01<00:04,  2.93ba/s]\u001b[A\n",
      " 27%|██████████████████████▏                                                            | 4/15 [00:01<00:03,  3.01ba/s]\u001b[A\n",
      " 33%|███████████████████████████▋                                                       | 5/15 [00:01<00:03,  3.06ba/s]\u001b[A\n",
      " 40%|█████████████████████████████████▏                                                 | 6/15 [00:02<00:03,  2.99ba/s]\u001b[A\n",
      " 47%|██████████████████████████████████████▋                                            | 7/15 [00:02<00:02,  2.98ba/s]\u001b[A\n",
      " 53%|████████████████████████████████████████████▎                                      | 8/15 [00:02<00:02,  3.00ba/s]\u001b[A\n",
      " 60%|█████████████████████████████████████████████████▊                                 | 9/15 [00:02<00:01,  3.04ba/s]\u001b[A\n",
      " 67%|██████████████████████████████████████████████████████▋                           | 10/15 [00:03<00:01,  2.94ba/s]\u001b[A\n",
      " 73%|████████████████████████████████████████████████████████████▏                     | 11/15 [00:03<00:01,  2.97ba/s]\u001b[A\n",
      " 80%|█████████████████████████████████████████████████████████████████▌                | 12/15 [00:04<00:00,  3.03ba/s]\u001b[A\n",
      " 87%|███████████████████████████████████████████████████████████████████████           | 13/15 [00:04<00:00,  2.97ba/s]\u001b[A\n",
      "100%|██████████████████████████████████████████████████████████████████████████████████| 15/15 [00:04<00:00,  3.14ba/s]\u001b[A\n"
     ]
    },
    {
     "name": "stdout",
     "output_type": "stream",
     "text": [
      "11\n"
     ]
    },
    {
     "name": "stderr",
     "output_type": "stream",
     "text": [
      "\n",
      "  0%|                                                                                           | 0/14 [00:00<?, ?ba/s]\u001b[A\n",
      "  7%|█████▉                                                                             | 1/14 [00:00<00:04,  2.86ba/s]\u001b[A\n",
      " 14%|███████████▊                                                                       | 2/14 [00:00<00:04,  2.80ba/s]\u001b[A\n",
      " 21%|█████████████████▊                                                                 | 3/14 [00:01<00:03,  2.82ba/s]\u001b[A\n",
      " 29%|███████████████████████▋                                                           | 4/14 [00:01<00:03,  2.85ba/s]\u001b[A\n",
      " 36%|█████████████████████████████▋                                                     | 5/14 [00:01<00:03,  2.81ba/s]\u001b[A\n",
      " 43%|███████████████████████████████████▌                                               | 6/14 [00:02<00:02,  2.81ba/s]\u001b[A\n",
      " 50%|█████████████████████████████████████████▌                                         | 7/14 [00:02<00:02,  2.84ba/s]\u001b[A\n",
      " 57%|███████████████████████████████████████████████▍                                   | 8/14 [00:02<00:02,  2.78ba/s]\u001b[A\n",
      " 64%|█████████████████████████████████████████████████████▎                             | 9/14 [00:03<00:01,  2.79ba/s]\u001b[A\n",
      " 71%|██████████████████████████████████████████████████████████▌                       | 10/14 [00:03<00:01,  2.78ba/s]\u001b[A\n",
      " 79%|████████████████████████████████████████████████████████████████▍                 | 11/14 [00:03<00:01,  2.75ba/s]\u001b[A\n",
      " 86%|██████████████████████████████████████████████████████████████████████▎           | 12/14 [00:04<00:00,  2.73ba/s]\u001b[A\n",
      " 93%|████████████████████████████████████████████████████████████████████████████▏     | 13/14 [00:04<00:00,  2.77ba/s]\u001b[A\n",
      "100%|██████████████████████████████████████████████████████████████████████████████████| 14/14 [00:04<00:00,  2.86ba/s]\u001b[A\n"
     ]
    },
    {
     "name": "stdout",
     "output_type": "stream",
     "text": [
      "12\n"
     ]
    },
    {
     "name": "stderr",
     "output_type": "stream",
     "text": [
      "\n",
      "  0%|                                                                                           | 0/15 [00:00<?, ?ba/s]\u001b[A\n",
      "  7%|█████▌                                                                             | 1/15 [00:00<00:04,  2.90ba/s]\u001b[A\n",
      " 13%|███████████                                                                        | 2/15 [00:00<00:04,  2.83ba/s]\u001b[A\n",
      " 20%|████████████████▌                                                                  | 3/15 [00:01<00:04,  2.86ba/s]\u001b[A\n",
      " 27%|██████████████████████▏                                                            | 4/15 [00:01<00:03,  2.89ba/s]\u001b[A\n",
      " 33%|███████████████████████████▋                                                       | 5/15 [00:01<00:03,  2.89ba/s]\u001b[A\n",
      " 40%|█████████████████████████████████▏                                                 | 6/15 [00:02<00:03,  2.86ba/s]\u001b[A\n",
      " 47%|██████████████████████████████████████▋                                            | 7/15 [00:02<00:02,  2.85ba/s]\u001b[A\n",
      " 53%|████████████████████████████████████████████▎                                      | 8/15 [00:02<00:02,  2.85ba/s]\u001b[A\n",
      " 60%|█████████████████████████████████████████████████▊                                 | 9/15 [00:03<00:02,  2.87ba/s]\u001b[A\n",
      " 67%|██████████████████████████████████████████████████████▋                           | 10/15 [00:03<00:01,  2.87ba/s]\u001b[A\n",
      " 73%|████████████████████████████████████████████████████████████▏                     | 11/15 [00:03<00:01,  2.85ba/s]\u001b[A\n",
      " 80%|█████████████████████████████████████████████████████████████████▌                | 12/15 [00:04<00:01,  2.87ba/s]\u001b[A\n",
      " 87%|███████████████████████████████████████████████████████████████████████           | 13/15 [00:04<00:00,  2.90ba/s]\u001b[A\n",
      " 93%|████████████████████████████████████████████████████████████████████████████▌     | 14/15 [00:04<00:00,  2.90ba/s]\u001b[A\n",
      "100%|██████████████████████████████████████████████████████████████████████████████████| 15/15 [00:05<00:00,  2.98ba/s]\u001b[A\n"
     ]
    },
    {
     "name": "stdout",
     "output_type": "stream",
     "text": [
      "13\n"
     ]
    },
    {
     "name": "stderr",
     "output_type": "stream",
     "text": [
      "\n",
      "  0%|                                                                                           | 0/15 [00:00<?, ?ba/s]\u001b[A\n",
      "  7%|█████▌                                                                             | 1/15 [00:00<00:04,  3.02ba/s]\u001b[A\n",
      " 13%|███████████                                                                        | 2/15 [00:00<00:04,  2.93ba/s]\u001b[A\n",
      " 20%|████████████████▌                                                                  | 3/15 [00:01<00:04,  2.80ba/s]\u001b[A\n",
      " 27%|██████████████████████▏                                                            | 4/15 [00:01<00:03,  2.86ba/s]\u001b[A\n",
      " 33%|███████████████████████████▋                                                       | 5/15 [00:01<00:03,  2.88ba/s]\u001b[A\n",
      " 40%|█████████████████████████████████▏                                                 | 6/15 [00:02<00:03,  2.93ba/s]\u001b[A\n",
      " 47%|██████████████████████████████████████▋                                            | 7/15 [00:02<00:02,  2.90ba/s]\u001b[A\n",
      " 53%|████████████████████████████████████████████▎                                      | 8/15 [00:02<00:02,  2.99ba/s]\u001b[A\n",
      " 60%|█████████████████████████████████████████████████▊                                 | 9/15 [00:03<00:01,  3.03ba/s]\u001b[A\n",
      " 67%|██████████████████████████████████████████████████████▋                           | 10/15 [00:03<00:01,  3.04ba/s]\u001b[A\n",
      " 73%|████████████████████████████████████████████████████████████▏                     | 11/15 [00:03<00:01,  3.03ba/s]\u001b[A\n",
      " 80%|█████████████████████████████████████████████████████████████████▌                | 12/15 [00:04<00:00,  3.04ba/s]\u001b[A\n",
      " 87%|███████████████████████████████████████████████████████████████████████           | 13/15 [00:04<00:00,  3.09ba/s]\u001b[A\n",
      " 93%|████████████████████████████████████████████████████████████████████████████▌     | 14/15 [00:04<00:00,  3.04ba/s]\u001b[A\n",
      "100%|██████████████████████████████████████████████████████████████████████████████████| 15/15 [00:04<00:00,  3.12ba/s]\u001b[A\n"
     ]
    },
    {
     "name": "stdout",
     "output_type": "stream",
     "text": [
      "14\n"
     ]
    },
    {
     "name": "stderr",
     "output_type": "stream",
     "text": [
      "\n",
      "  0%|                                                                                           | 0/15 [00:00<?, ?ba/s]\u001b[A\n",
      "  7%|█████▌                                                                             | 1/15 [00:00<00:04,  3.12ba/s]\u001b[A\n",
      " 13%|███████████                                                                        | 2/15 [00:00<00:04,  3.03ba/s]\u001b[A\n",
      " 20%|████████████████▌                                                                  | 3/15 [00:00<00:03,  3.03ba/s]\u001b[A\n",
      " 27%|██████████████████████▏                                                            | 4/15 [00:01<00:03,  3.03ba/s]\u001b[A\n",
      " 33%|███████████████████████████▋                                                       | 5/15 [00:01<00:03,  2.99ba/s]\u001b[A\n",
      " 40%|█████████████████████████████████▏                                                 | 6/15 [00:01<00:02,  3.02ba/s]\u001b[A\n",
      " 47%|██████████████████████████████████████▋                                            | 7/15 [00:02<00:02,  2.98ba/s]\u001b[A\n",
      " 53%|████████████████████████████████████████████▎                                      | 8/15 [00:02<00:02,  2.96ba/s]\u001b[A\n",
      " 60%|█████████████████████████████████████████████████▊                                 | 9/15 [00:03<00:02,  2.96ba/s]\u001b[A\n",
      " 67%|██████████████████████████████████████████████████████▋                           | 10/15 [00:03<00:01,  2.99ba/s]\u001b[A\n",
      " 73%|████████████████████████████████████████████████████████████▏                     | 11/15 [00:03<00:01,  3.00ba/s]\u001b[A\n",
      " 80%|█████████████████████████████████████████████████████████████████▌                | 12/15 [00:03<00:00,  3.00ba/s]\u001b[A\n",
      " 87%|███████████████████████████████████████████████████████████████████████           | 13/15 [00:04<00:00,  2.96ba/s]\u001b[A\n",
      " 93%|████████████████████████████████████████████████████████████████████████████▌     | 14/15 [00:04<00:00,  2.90ba/s]\u001b[A\n",
      "100%|██████████████████████████████████████████████████████████████████████████████████| 15/15 [00:04<00:00,  3.11ba/s]\u001b[A\n"
     ]
    },
    {
     "name": "stdout",
     "output_type": "stream",
     "text": [
      "15\n"
     ]
    },
    {
     "name": "stderr",
     "output_type": "stream",
     "text": [
      "\n",
      "  0%|                                                                                           | 0/15 [00:00<?, ?ba/s]\u001b[A\n",
      "  7%|█████▌                                                                             | 1/15 [00:00<00:04,  3.09ba/s]\u001b[A\n",
      " 13%|███████████                                                                        | 2/15 [00:00<00:04,  3.03ba/s]\u001b[A\n",
      " 20%|████████████████▌                                                                  | 3/15 [00:00<00:04,  3.00ba/s]\u001b[A\n",
      " 27%|██████████████████████▏                                                            | 4/15 [00:01<00:03,  3.03ba/s]\u001b[A\n",
      " 33%|███████████████████████████▋                                                       | 5/15 [00:01<00:03,  3.01ba/s]\u001b[A\n",
      " 40%|█████████████████████████████████▏                                                 | 6/15 [00:02<00:03,  2.96ba/s]\u001b[A\n",
      " 47%|██████████████████████████████████████▋                                            | 7/15 [00:02<00:02,  2.96ba/s]\u001b[A\n",
      " 53%|████████████████████████████████████████████▎                                      | 8/15 [00:02<00:02,  2.96ba/s]\u001b[A\n",
      " 60%|█████████████████████████████████████████████████▊                                 | 9/15 [00:03<00:02,  2.97ba/s]\u001b[A\n",
      " 67%|██████████████████████████████████████████████████████▋                           | 10/15 [00:03<00:01,  2.99ba/s]\u001b[A\n",
      " 73%|████████████████████████████████████████████████████████████▏                     | 11/15 [00:03<00:01,  2.57ba/s]\u001b[A\n",
      " 80%|█████████████████████████████████████████████████████████████████▌                | 12/15 [00:04<00:01,  2.72ba/s]\u001b[A\n",
      " 87%|███████████████████████████████████████████████████████████████████████           | 13/15 [00:04<00:00,  2.79ba/s]\u001b[A\n",
      " 93%|████████████████████████████████████████████████████████████████████████████▌     | 14/15 [00:04<00:00,  2.87ba/s]\u001b[A\n",
      "100%|██████████████████████████████████████████████████████████████████████████████████| 15/15 [00:05<00:00,  2.96ba/s]\u001b[A\n"
     ]
    },
    {
     "name": "stdout",
     "output_type": "stream",
     "text": [
      "16\n"
     ]
    },
    {
     "name": "stderr",
     "output_type": "stream",
     "text": [
      "\n",
      "  0%|                                                                                           | 0/14 [00:00<?, ?ba/s]\u001b[A\n",
      "  7%|█████▉                                                                             | 1/14 [00:00<00:04,  3.08ba/s]\u001b[A\n",
      " 14%|███████████▊                                                                       | 2/14 [00:00<00:03,  3.00ba/s]\u001b[A\n",
      " 21%|█████████████████▊                                                                 | 3/14 [00:01<00:03,  2.94ba/s]\u001b[A\n",
      " 29%|███████████████████████▋                                                           | 4/14 [00:01<00:03,  2.95ba/s]\u001b[A\n",
      " 36%|█████████████████████████████▋                                                     | 5/14 [00:01<00:03,  3.00ba/s]\u001b[A\n",
      " 43%|███████████████████████████████████▌                                               | 6/14 [00:02<00:02,  2.87ba/s]\u001b[A\n",
      " 50%|█████████████████████████████████████████▌                                         | 7/14 [00:02<00:02,  2.86ba/s]\u001b[A\n",
      " 57%|███████████████████████████████████████████████▍                                   | 8/14 [00:02<00:02,  2.94ba/s]\u001b[A\n",
      " 64%|█████████████████████████████████████████████████████▎                             | 9/14 [00:03<00:01,  2.90ba/s]\u001b[A\n",
      " 71%|██████████████████████████████████████████████████████████▌                       | 10/14 [00:03<00:01,  2.90ba/s]\u001b[A\n",
      " 79%|████████████████████████████████████████████████████████████████▍                 | 11/14 [00:03<00:01,  2.94ba/s]\u001b[A\n",
      " 86%|██████████████████████████████████████████████████████████████████████▎           | 12/14 [00:04<00:00,  2.73ba/s]\u001b[A\n",
      " 93%|████████████████████████████████████████████████████████████████████████████▏     | 13/14 [00:04<00:00,  2.75ba/s]\u001b[A\n",
      "100%|██████████████████████████████████████████████████████████████████████████████████| 14/14 [00:04<00:00,  2.91ba/s]\u001b[A\n"
     ]
    },
    {
     "name": "stdout",
     "output_type": "stream",
     "text": [
      "17\n"
     ]
    },
    {
     "name": "stderr",
     "output_type": "stream",
     "text": [
      "\n",
      "  0%|                                                                                           | 0/14 [00:00<?, ?ba/s]\u001b[A\n",
      "  7%|█████▉                                                                             | 1/14 [00:00<00:04,  3.14ba/s]\u001b[A\n",
      " 14%|███████████▊                                                                       | 2/14 [00:00<00:04,  2.97ba/s]\u001b[A\n",
      " 21%|█████████████████▊                                                                 | 3/14 [00:00<00:03,  3.00ba/s]\u001b[A\n",
      " 29%|███████████████████████▋                                                           | 4/14 [00:01<00:03,  2.88ba/s]\u001b[A\n",
      " 36%|█████████████████████████████▋                                                     | 5/14 [00:01<00:03,  2.83ba/s]\u001b[A\n",
      " 43%|███████████████████████████████████▌                                               | 6/14 [00:02<00:02,  2.84ba/s]\u001b[A\n",
      " 50%|█████████████████████████████████████████▌                                         | 7/14 [00:02<00:02,  2.77ba/s]\u001b[A\n",
      " 57%|███████████████████████████████████████████████▍                                   | 8/14 [00:02<00:02,  2.77ba/s]\u001b[A\n",
      " 64%|█████████████████████████████████████████████████████▎                             | 9/14 [00:03<00:01,  2.74ba/s]\u001b[A\n",
      " 71%|██████████████████████████████████████████████████████████▌                       | 10/14 [00:03<00:01,  2.74ba/s]\u001b[A\n",
      " 79%|████████████████████████████████████████████████████████████████▍                 | 11/14 [00:03<00:01,  2.76ba/s]\u001b[A\n",
      " 86%|██████████████████████████████████████████████████████████████████████▎           | 12/14 [00:04<00:00,  2.79ba/s]\u001b[A\n",
      " 93%|████████████████████████████████████████████████████████████████████████████▏     | 13/14 [00:04<00:00,  2.79ba/s]\u001b[A\n",
      "100%|██████████████████████████████████████████████████████████████████████████████████| 14/14 [00:04<00:00,  2.82ba/s]\u001b[A\n"
     ]
    },
    {
     "name": "stdout",
     "output_type": "stream",
     "text": [
      "18\n"
     ]
    },
    {
     "name": "stderr",
     "output_type": "stream",
     "text": [
      "\n",
      "  0%|                                                                                           | 0/14 [00:00<?, ?ba/s]\u001b[A\n",
      "  7%|█████▉                                                                             | 1/14 [00:00<00:04,  2.80ba/s]\u001b[A\n",
      " 14%|███████████▊                                                                       | 2/14 [00:00<00:04,  2.70ba/s]\u001b[A\n",
      " 21%|█████████████████▊                                                                 | 3/14 [00:01<00:04,  2.69ba/s]\u001b[A\n",
      " 29%|███████████████████████▋                                                           | 4/14 [00:01<00:03,  2.76ba/s]\u001b[A\n",
      " 36%|█████████████████████████████▋                                                     | 5/14 [00:01<00:03,  2.77ba/s]\u001b[A\n",
      " 43%|███████████████████████████████████▌                                               | 6/14 [00:02<00:02,  2.86ba/s]\u001b[A\n",
      " 50%|█████████████████████████████████████████▌                                         | 7/14 [00:02<00:02,  2.91ba/s]\u001b[A\n",
      " 57%|███████████████████████████████████████████████▍                                   | 8/14 [00:02<00:02,  2.85ba/s]\u001b[A\n",
      " 64%|█████████████████████████████████████████████████████▎                             | 9/14 [00:03<00:01,  2.71ba/s]\u001b[A\n",
      " 71%|██████████████████████████████████████████████████████████▌                       | 10/14 [00:03<00:01,  2.79ba/s]\u001b[A\n",
      " 79%|████████████████████████████████████████████████████████████████▍                 | 11/14 [00:03<00:01,  2.86ba/s]\u001b[A\n",
      " 86%|██████████████████████████████████████████████████████████████████████▎           | 12/14 [00:04<00:00,  2.88ba/s]\u001b[A\n",
      " 93%|████████████████████████████████████████████████████████████████████████████▏     | 13/14 [00:04<00:00,  2.90ba/s]\u001b[A\n",
      "100%|██████████████████████████████████████████████████████████████████████████████████| 14/14 [00:04<00:00,  2.88ba/s]\u001b[A\n"
     ]
    },
    {
     "name": "stdout",
     "output_type": "stream",
     "text": [
      "19\n"
     ]
    },
    {
     "name": "stderr",
     "output_type": "stream",
     "text": [
      "\n",
      "  0%|                                                                                           | 0/13 [00:00<?, ?ba/s]\u001b[A\n",
      "  8%|██████▍                                                                            | 1/13 [00:00<00:04,  2.99ba/s]\u001b[A\n",
      " 15%|████████████▊                                                                      | 2/13 [00:00<00:03,  3.03ba/s]\u001b[A\n",
      " 23%|███████████████████▏                                                               | 3/13 [00:00<00:03,  3.04ba/s]\u001b[A\n",
      " 31%|█████████████████████████▌                                                         | 4/13 [00:01<00:03,  2.97ba/s]\u001b[A\n",
      " 38%|███████████████████████████████▉                                                   | 5/13 [00:01<00:02,  2.90ba/s]\u001b[A\n",
      " 46%|██████████████████████████████████████▎                                            | 6/13 [00:02<00:02,  2.93ba/s]\u001b[A\n",
      " 54%|████████████████████████████████████████████▋                                      | 7/13 [00:02<00:02,  2.96ba/s]\u001b[A\n",
      " 62%|███████████████████████████████████████████████████                                | 8/13 [00:02<00:01,  2.97ba/s]\u001b[A\n",
      " 69%|█████████████████████████████████████████████████████████▍                         | 9/13 [00:03<00:01,  3.03ba/s]\u001b[A\n",
      " 77%|███████████████████████████████████████████████████████████████                   | 10/13 [00:03<00:01,  2.99ba/s]\u001b[A\n",
      " 85%|█████████████████████████████████████████████████████████████████████▍            | 11/13 [00:03<00:00,  3.02ba/s]\u001b[A\n",
      "100%|██████████████████████████████████████████████████████████████████████████████████| 13/13 [00:04<00:00,  3.17ba/s]\u001b[A\n"
     ]
    },
    {
     "name": "stdout",
     "output_type": "stream",
     "text": [
      "20\n"
     ]
    },
    {
     "name": "stderr",
     "output_type": "stream",
     "text": [
      "\n",
      "  0%|                                                                                            | 0/8 [00:00<?, ?ba/s]\u001b[A\n",
      " 12%|██████████▌                                                                         | 1/8 [00:00<00:02,  2.99ba/s]\u001b[A\n",
      " 25%|█████████████████████                                                               | 2/8 [00:00<00:01,  3.05ba/s]\u001b[A\n",
      " 38%|███████████████████████████████▌                                                    | 3/8 [00:00<00:01,  3.02ba/s]\u001b[A\n",
      " 50%|██████████████████████████████████████████                                          | 4/8 [00:01<00:01,  3.03ba/s]\u001b[A\n",
      " 62%|████████████████████████████████████████████████████▌                               | 5/8 [00:01<00:01,  2.93ba/s]\u001b[A\n",
      " 75%|███████████████████████████████████████████████████████████████                     | 6/8 [00:02<00:00,  2.92ba/s]\u001b[A\n",
      " 88%|█████████████████████████████████████████████████████████████████████████▌          | 7/8 [00:02<00:00,  2.91ba/s]\u001b[A\n",
      "100%|████████████████████████████████████████████████████████████████████████████████████| 8/8 [00:02<00:00,  3.09ba/s]\u001b[A\n"
     ]
    },
    {
     "name": "stdout",
     "output_type": "stream",
     "text": [
      "21\n"
     ]
    },
    {
     "name": "stderr",
     "output_type": "stream",
     "text": [
      "\n",
      "  0%|                                                                                           | 0/11 [00:00<?, ?ba/s]\u001b[A\n",
      "  9%|███████▌                                                                           | 1/11 [00:00<00:03,  2.90ba/s]\u001b[A\n",
      " 18%|███████████████                                                                    | 2/11 [00:00<00:03,  2.95ba/s]\u001b[A\n",
      " 27%|██████████████████████▋                                                            | 3/11 [00:01<00:02,  3.00ba/s]\u001b[A\n",
      " 36%|██████████████████████████████▏                                                    | 4/11 [00:01<00:02,  2.91ba/s]\u001b[A\n",
      " 45%|█████████████████████████████████████▋                                             | 5/11 [00:01<00:02,  2.97ba/s]\u001b[A\n",
      " 55%|█████████████████████████████████████████████▎                                     | 6/11 [00:02<00:01,  2.93ba/s]\u001b[A\n",
      " 64%|████████████████████████████████████████████████████▊                              | 7/11 [00:02<00:01,  2.85ba/s]\u001b[A\n",
      " 73%|████████████████████████████████████████████████████████████▎                      | 8/11 [00:02<00:01,  2.91ba/s]\u001b[A\n",
      " 82%|███████████████████████████████████████████████████████████████████▉               | 9/11 [00:03<00:00,  2.95ba/s]\u001b[A\n",
      " 91%|██████████████████████████████████████████████████████████████████████████▌       | 10/11 [00:03<00:00,  2.95ba/s]\u001b[A\n",
      "100%|██████████████████████████████████████████████████████████████████████████████████| 11/11 [00:03<00:00,  3.11ba/s]\u001b[A\n"
     ]
    },
    {
     "name": "stdout",
     "output_type": "stream",
     "text": [
      "22\n"
     ]
    },
    {
     "name": "stderr",
     "output_type": "stream",
     "text": [
      "\n",
      "  0%|                                                                                           | 0/14 [00:00<?, ?ba/s]\u001b[A\n",
      "  7%|█████▉                                                                             | 1/14 [00:00<00:04,  3.01ba/s]\u001b[A\n",
      " 14%|███████████▊                                                                       | 2/14 [00:00<00:04,  2.98ba/s]\u001b[A\n",
      " 21%|█████████████████▊                                                                 | 3/14 [00:01<00:03,  2.94ba/s]\u001b[A\n",
      " 29%|███████████████████████▋                                                           | 4/14 [00:01<00:03,  2.94ba/s]\u001b[A\n",
      " 36%|█████████████████████████████▋                                                     | 5/14 [00:01<00:03,  2.91ba/s]\u001b[A\n",
      " 43%|███████████████████████████████████▌                                               | 6/14 [00:02<00:02,  2.95ba/s]\u001b[A\n",
      " 50%|█████████████████████████████████████████▌                                         | 7/14 [00:02<00:02,  2.97ba/s]\u001b[A\n",
      " 57%|███████████████████████████████████████████████▍                                   | 8/14 [00:02<00:02,  2.96ba/s]\u001b[A\n",
      " 64%|█████████████████████████████████████████████████████▎                             | 9/14 [00:03<00:01,  2.95ba/s]\u001b[A\n",
      " 71%|██████████████████████████████████████████████████████████▌                       | 10/14 [00:03<00:01,  2.96ba/s]\u001b[A\n",
      " 79%|████████████████████████████████████████████████████████████████▍                 | 11/14 [00:03<00:01,  2.91ba/s]\u001b[A\n",
      " 86%|██████████████████████████████████████████████████████████████████████▎           | 12/14 [00:04<00:00,  2.95ba/s]\u001b[A\n",
      " 93%|████████████████████████████████████████████████████████████████████████████▏     | 13/14 [00:04<00:00,  2.98ba/s]\u001b[A\n",
      "100%|██████████████████████████████████████████████████████████████████████████████████| 14/14 [00:04<00:00,  3.07ba/s]\u001b[A\n"
     ]
    },
    {
     "name": "stdout",
     "output_type": "stream",
     "text": [
      "23\n"
     ]
    },
    {
     "name": "stderr",
     "output_type": "stream",
     "text": [
      "\n",
      "  0%|                                                                                           | 0/13 [00:00<?, ?ba/s]\u001b[A\n",
      "  8%|██████▍                                                                            | 1/13 [00:00<00:03,  3.14ba/s]\u001b[A\n",
      " 15%|████████████▊                                                                      | 2/13 [00:00<00:03,  3.14ba/s]\u001b[A\n",
      " 23%|███████████████████▏                                                               | 3/13 [00:00<00:03,  3.05ba/s]\u001b[A\n",
      " 31%|█████████████████████████▌                                                         | 4/13 [00:01<00:02,  3.02ba/s]\u001b[A\n",
      " 38%|███████████████████████████████▉                                                   | 5/13 [00:01<00:02,  3.00ba/s]\u001b[A\n",
      " 46%|██████████████████████████████████████▎                                            | 6/13 [00:02<00:02,  2.94ba/s]\u001b[A\n",
      " 54%|████████████████████████████████████████████▋                                      | 7/13 [00:02<00:02,  2.96ba/s]\u001b[A\n",
      " 62%|███████████████████████████████████████████████████                                | 8/13 [00:02<00:01,  2.98ba/s]\u001b[A\n",
      " 69%|█████████████████████████████████████████████████████████▍                         | 9/13 [00:03<00:01,  2.91ba/s]\u001b[A\n",
      " 77%|███████████████████████████████████████████████████████████████                   | 10/13 [00:03<00:01,  2.96ba/s]\u001b[A\n",
      " 85%|█████████████████████████████████████████████████████████████████████▍            | 11/13 [00:03<00:00,  3.00ba/s]\u001b[A\n",
      "100%|██████████████████████████████████████████████████████████████████████████████████| 13/13 [00:04<00:00,  3.17ba/s]\u001b[A\n"
     ]
    },
    {
     "name": "stdout",
     "output_type": "stream",
     "text": [
      "24\n"
     ]
    },
    {
     "name": "stderr",
     "output_type": "stream",
     "text": [
      "\n",
      "  0%|                                                                                           | 0/13 [00:00<?, ?ba/s]\u001b[A\n",
      "  8%|██████▍                                                                            | 1/13 [00:00<00:03,  3.05ba/s]\u001b[A\n",
      " 15%|████████████▊                                                                      | 2/13 [00:00<00:03,  2.96ba/s]\u001b[A\n",
      " 23%|███████████████████▏                                                               | 3/13 [00:01<00:03,  2.89ba/s]\u001b[A\n",
      " 31%|█████████████████████████▌                                                         | 4/13 [00:01<00:03,  2.44ba/s]\u001b[A\n",
      " 38%|███████████████████████████████▉                                                   | 5/13 [00:01<00:03,  2.59ba/s]\u001b[A\n",
      " 46%|██████████████████████████████████████▎                                            | 6/13 [00:02<00:02,  2.70ba/s]\u001b[A\n",
      " 54%|████████████████████████████████████████████▋                                      | 7/13 [00:02<00:02,  2.79ba/s]\u001b[A\n",
      " 62%|███████████████████████████████████████████████████                                | 8/13 [00:02<00:01,  2.71ba/s]\u001b[A\n",
      " 69%|█████████████████████████████████████████████████████████▍                         | 9/13 [00:03<00:01,  2.73ba/s]\u001b[A\n",
      " 77%|███████████████████████████████████████████████████████████████                   | 10/13 [00:03<00:01,  2.77ba/s]\u001b[A\n",
      " 85%|█████████████████████████████████████████████████████████████████████▍            | 11/13 [00:03<00:00,  2.84ba/s]\u001b[A\n",
      " 92%|███████████████████████████████████████████████████████████████████████████▋      | 12/13 [00:04<00:00,  2.85ba/s]\u001b[A\n",
      "100%|██████████████████████████████████████████████████████████████████████████████████| 13/13 [00:04<00:00,  2.84ba/s]\u001b[A\n"
     ]
    },
    {
     "name": "stdout",
     "output_type": "stream",
     "text": [
      "25\n"
     ]
    },
    {
     "name": "stderr",
     "output_type": "stream",
     "text": [
      "\n",
      "  0%|                                                                                           | 0/14 [00:00<?, ?ba/s]\u001b[A\n",
      "  7%|█████▉                                                                             | 1/14 [00:00<00:04,  3.12ba/s]\u001b[A\n",
      " 14%|███████████▊                                                                       | 2/14 [00:00<00:03,  3.05ba/s]\u001b[A\n",
      " 21%|█████████████████▊                                                                 | 3/14 [00:01<00:03,  2.88ba/s]\u001b[A\n",
      " 29%|███████████████████████▋                                                           | 4/14 [00:01<00:03,  2.98ba/s]\u001b[A\n",
      " 36%|█████████████████████████████▋                                                     | 5/14 [00:01<00:02,  3.00ba/s]\u001b[A\n",
      " 43%|███████████████████████████████████▌                                               | 6/14 [00:02<00:02,  3.00ba/s]\u001b[A\n",
      " 50%|█████████████████████████████████████████▌                                         | 7/14 [00:02<00:02,  3.02ba/s]\u001b[A\n",
      " 57%|███████████████████████████████████████████████▍                                   | 8/14 [00:02<00:02,  3.00ba/s]\u001b[A\n",
      " 64%|█████████████████████████████████████████████████████▎                             | 9/14 [00:03<00:01,  2.99ba/s]\u001b[A\n",
      " 71%|██████████████████████████████████████████████████████████▌                       | 10/14 [00:03<00:01,  3.03ba/s]\u001b[A\n",
      " 79%|████████████████████████████████████████████████████████████████▍                 | 11/14 [00:03<00:00,  3.02ba/s]\u001b[A\n",
      " 86%|██████████████████████████████████████████████████████████████████████▎           | 12/14 [00:03<00:00,  3.03ba/s]\u001b[A\n",
      " 93%|████████████████████████████████████████████████████████████████████████████▏     | 13/14 [00:04<00:00,  3.05ba/s]\u001b[A\n",
      "100%|██████████████████████████████████████████████████████████████████████████████████| 14/14 [00:04<00:00,  3.11ba/s]\u001b[A\n"
     ]
    },
    {
     "name": "stdout",
     "output_type": "stream",
     "text": [
      "26\n"
     ]
    },
    {
     "name": "stderr",
     "output_type": "stream",
     "text": [
      "\n",
      "  0%|                                                                                           | 0/13 [00:00<?, ?ba/s]\u001b[A\n",
      "  8%|██████▍                                                                            | 1/13 [00:00<00:03,  3.15ba/s]\u001b[A\n",
      " 15%|████████████▊                                                                      | 2/13 [00:00<00:03,  3.02ba/s]\u001b[A\n",
      " 23%|███████████████████▏                                                               | 3/13 [00:00<00:03,  3.05ba/s]\u001b[A\n",
      " 31%|█████████████████████████▌                                                         | 4/13 [00:01<00:02,  3.03ba/s]\u001b[A\n",
      " 38%|███████████████████████████████▉                                                   | 5/13 [00:01<00:02,  3.03ba/s]\u001b[A\n",
      " 46%|██████████████████████████████████████▎                                            | 6/13 [00:01<00:02,  3.04ba/s]\u001b[A\n",
      " 54%|████████████████████████████████████████████▋                                      | 7/13 [00:02<00:01,  3.06ba/s]\u001b[A\n",
      " 62%|███████████████████████████████████████████████████                                | 8/13 [00:02<00:01,  3.07ba/s]\u001b[A\n",
      " 69%|█████████████████████████████████████████████████████████▍                         | 9/13 [00:02<00:01,  3.09ba/s]\u001b[A\n",
      " 77%|███████████████████████████████████████████████████████████████                   | 10/13 [00:03<00:00,  3.08ba/s]\u001b[A\n",
      " 85%|█████████████████████████████████████████████████████████████████████▍            | 11/13 [00:03<00:00,  3.09ba/s]\u001b[A\n",
      " 92%|███████████████████████████████████████████████████████████████████████████▋      | 12/13 [00:03<00:00,  3.10ba/s]\u001b[A\n",
      "100%|██████████████████████████████████████████████████████████████████████████████████| 13/13 [00:04<00:00,  3.10ba/s]\u001b[A\n"
     ]
    },
    {
     "name": "stdout",
     "output_type": "stream",
     "text": [
      "27\n"
     ]
    },
    {
     "name": "stderr",
     "output_type": "stream",
     "text": [
      "\n",
      "  0%|                                                                                           | 0/14 [00:00<?, ?ba/s]\u001b[A\n",
      "  7%|█████▉                                                                             | 1/14 [00:00<00:04,  3.21ba/s]\u001b[A\n",
      " 14%|███████████▊                                                                       | 2/14 [00:00<00:03,  3.17ba/s]\u001b[A\n",
      " 21%|█████████████████▊                                                                 | 3/14 [00:00<00:03,  3.13ba/s]\u001b[A\n",
      " 29%|███████████████████████▋                                                           | 4/14 [00:01<00:03,  3.12ba/s]\u001b[A\n",
      " 36%|█████████████████████████████▋                                                     | 5/14 [00:01<00:02,  3.19ba/s]\u001b[A\n",
      " 43%|███████████████████████████████████▌                                               | 6/14 [00:01<00:02,  3.17ba/s]\u001b[A\n",
      " 50%|█████████████████████████████████████████▌                                         | 7/14 [00:02<00:02,  3.15ba/s]\u001b[A\n",
      " 57%|███████████████████████████████████████████████▍                                   | 8/14 [00:02<00:01,  3.20ba/s]\u001b[A\n",
      " 64%|█████████████████████████████████████████████████████▎                             | 9/14 [00:02<00:01,  3.16ba/s]\u001b[A\n",
      " 71%|██████████████████████████████████████████████████████████▌                       | 10/14 [00:03<00:01,  3.18ba/s]\u001b[A\n",
      " 79%|████████████████████████████████████████████████████████████████▍                 | 11/14 [00:03<00:00,  3.19ba/s]\u001b[A\n",
      " 86%|██████████████████████████████████████████████████████████████████████▎           | 12/14 [00:03<00:00,  3.17ba/s]\u001b[A\n",
      " 93%|████████████████████████████████████████████████████████████████████████████▏     | 13/14 [00:04<00:00,  3.08ba/s]\u001b[A\n",
      "100%|██████████████████████████████████████████████████████████████████████████████████| 14/14 [00:04<00:00,  3.21ba/s]\u001b[A\n"
     ]
    },
    {
     "name": "stdout",
     "output_type": "stream",
     "text": [
      "28\n"
     ]
    },
    {
     "name": "stderr",
     "output_type": "stream",
     "text": [
      "\n",
      "  0%|                                                                                           | 0/14 [00:00<?, ?ba/s]\u001b[A\n",
      "  7%|█████▉                                                                             | 1/14 [00:00<00:04,  2.94ba/s]\u001b[A\n",
      " 14%|███████████▊                                                                       | 2/14 [00:00<00:04,  2.83ba/s]\u001b[A\n",
      " 21%|█████████████████▊                                                                 | 3/14 [00:01<00:04,  2.74ba/s]\u001b[A\n",
      " 29%|███████████████████████▋                                                           | 4/14 [00:01<00:03,  2.70ba/s]\u001b[A\n",
      " 36%|█████████████████████████████▋                                                     | 5/14 [00:01<00:03,  2.69ba/s]\u001b[A\n",
      " 43%|███████████████████████████████████▌                                               | 6/14 [00:02<00:02,  2.72ba/s]\u001b[A\n",
      " 50%|█████████████████████████████████████████▌                                         | 7/14 [00:02<00:02,  2.74ba/s]\u001b[A\n",
      " 57%|███████████████████████████████████████████████▍                                   | 8/14 [00:02<00:02,  2.79ba/s]\u001b[A\n",
      " 64%|█████████████████████████████████████████████████████▎                             | 9/14 [00:03<00:01,  2.86ba/s]\u001b[A\n",
      " 71%|██████████████████████████████████████████████████████████▌                       | 10/14 [00:03<00:01,  2.90ba/s]\u001b[A\n",
      " 79%|████████████████████████████████████████████████████████████████▍                 | 11/14 [00:03<00:01,  2.95ba/s]\u001b[A\n",
      " 86%|██████████████████████████████████████████████████████████████████████▎           | 12/14 [00:04<00:00,  3.01ba/s]\u001b[A\n",
      " 93%|████████████████████████████████████████████████████████████████████████████▏     | 13/14 [00:04<00:00,  2.99ba/s]\u001b[A\n",
      "100%|██████████████████████████████████████████████████████████████████████████████████| 14/14 [00:04<00:00,  2.92ba/s]\u001b[A\n"
     ]
    },
    {
     "name": "stdout",
     "output_type": "stream",
     "text": [
      "29\n"
     ]
    },
    {
     "name": "stderr",
     "output_type": "stream",
     "text": [
      "\n",
      "  0%|                                                                                           | 0/12 [00:00<?, ?ba/s]\u001b[A\n",
      "  8%|██████▉                                                                            | 1/12 [00:00<00:03,  3.10ba/s]\u001b[A\n",
      " 17%|█████████████▊                                                                     | 2/12 [00:00<00:03,  2.99ba/s]\u001b[A\n",
      " 25%|████████████████████▊                                                              | 3/12 [00:01<00:03,  2.92ba/s]\u001b[A\n",
      " 33%|███████████████████████████▋                                                       | 4/12 [00:01<00:02,  2.97ba/s]\u001b[A\n",
      " 42%|██████████████████████████████████▌                                                | 5/12 [00:01<00:02,  2.95ba/s]\u001b[A\n",
      " 50%|█████████████████████████████████████████▌                                         | 6/12 [00:02<00:02,  2.96ba/s]\u001b[A\n",
      " 58%|████████████████████████████████████████████████▍                                  | 7/12 [00:02<00:01,  2.99ba/s]\u001b[A\n",
      " 67%|███████████████████████████████████████████████████████▎                           | 8/12 [00:02<00:01,  2.99ba/s]\u001b[A\n",
      " 75%|██████████████████████████████████████████████████████████████▎                    | 9/12 [00:03<00:01,  2.98ba/s]\u001b[A\n",
      " 83%|████████████████████████████████████████████████████████████████████▎             | 10/12 [00:03<00:00,  2.96ba/s]\u001b[A\n",
      " 92%|███████████████████████████████████████████████████████████████████████████▏      | 11/12 [00:03<00:00,  2.97ba/s]\u001b[A\n",
      "100%|██████████████████████████████████████████████████████████████████████████████████| 12/12 [00:03<00:00,  3.13ba/s]\u001b[A\n"
     ]
    }
   ],
   "source": [
    "import calendar\n",
    "\n",
    "df_days = []\n",
    "tok_ds_days = []\n",
    "\n",
    "month_selected = df_month['created_utc'].dt.month.unique()\n",
    "year_selected = df_month['created_utc'].dt.year.unique()\n",
    "\n",
    "num_days = calendar.monthrange(int(year_selected), int(month_selected))[1]\n",
    "\n",
    "for day_number in range(1, num_days):\n",
    "  print(day_number)\n",
    "  df_tmp = df_month[df_month['created_utc'].dt.day == day_number]\n",
    "  df_days.append(df_tmp) \n",
    "\n",
    "  ds_day = Dataset.from_pandas(df_tmp)\n",
    "  tok_ds_days.append(ds_day.map(tokenize_function, batched=True))"
   ]
  },
  {
   "cell_type": "code",
   "execution_count": 100,
   "metadata": {
    "id": "yxYu_FHnB21c",
    "scrolled": true
   },
   "outputs": [
    {
     "ename": "ValueError",
     "evalue": "Column name __index_level_0__ not in the dataset. Current columns in the dataset: ['input_ids', 'attention_mask']",
     "output_type": "error",
     "traceback": [
      "\u001b[1;31m---------------------------------------------------------------------------\u001b[0m",
      "\u001b[1;31mValueError\u001b[0m                                Traceback (most recent call last)",
      "Cell \u001b[1;32mIn [100], line 2\u001b[0m\n\u001b[0;32m      1\u001b[0m \u001b[38;5;28;01mfor\u001b[39;00m i \u001b[38;5;129;01min\u001b[39;00m \u001b[38;5;28mrange\u001b[39m(num_days\u001b[38;5;241m+\u001b[39m\u001b[38;5;241m1\u001b[39m):\n\u001b[1;32m----> 2\u001b[0m     tok_ds_days[i] \u001b[38;5;241m=\u001b[39m \u001b[43mtok_ds_days\u001b[49m\u001b[43m[\u001b[49m\u001b[43mi\u001b[49m\u001b[43m]\u001b[49m\u001b[38;5;241;43m.\u001b[39;49m\u001b[43mremove_columns\u001b[49m\u001b[43m(\u001b[49m\u001b[43m[\u001b[49m\u001b[38;5;124;43m\"\u001b[39;49m\u001b[38;5;124;43m__index_level_0__\u001b[39;49m\u001b[38;5;124;43m\"\u001b[39;49m\u001b[43m]\u001b[49m\u001b[43m)\u001b[49m\n\u001b[0;32m      3\u001b[0m     tok_ds_days[i] \u001b[38;5;241m=\u001b[39m tok_ds_days[i]\u001b[38;5;241m.\u001b[39mremove_columns([\u001b[38;5;124m\"\u001b[39m\u001b[38;5;124mtext\u001b[39m\u001b[38;5;124m\"\u001b[39m])\n\u001b[0;32m      4\u001b[0m     tok_ds_days[i] \u001b[38;5;241m=\u001b[39m tok_ds_days[i]\u001b[38;5;241m.\u001b[39mremove_columns([\u001b[38;5;124m\"\u001b[39m\u001b[38;5;124mcreated_utc\u001b[39m\u001b[38;5;124m\"\u001b[39m])\n",
      "File \u001b[1;32m~\\AppData\\Local\\Programs\\Python\\Python310\\lib\\site-packages\\datasets\\arrow_dataset.py:557\u001b[0m, in \u001b[0;36mtransmit_tasks.<locals>.wrapper\u001b[1;34m(*args, **kwargs)\u001b[0m\n\u001b[0;32m    555\u001b[0m     \u001b[38;5;28mself\u001b[39m: \u001b[38;5;124m\"\u001b[39m\u001b[38;5;124mDataset\u001b[39m\u001b[38;5;124m\"\u001b[39m \u001b[38;5;241m=\u001b[39m kwargs\u001b[38;5;241m.\u001b[39mpop(\u001b[38;5;124m\"\u001b[39m\u001b[38;5;124mself\u001b[39m\u001b[38;5;124m\"\u001b[39m)\n\u001b[0;32m    556\u001b[0m \u001b[38;5;66;03m# apply actual function\u001b[39;00m\n\u001b[1;32m--> 557\u001b[0m out: Union[\u001b[38;5;124m\"\u001b[39m\u001b[38;5;124mDataset\u001b[39m\u001b[38;5;124m\"\u001b[39m, \u001b[38;5;124m\"\u001b[39m\u001b[38;5;124mDatasetDict\u001b[39m\u001b[38;5;124m\"\u001b[39m] \u001b[38;5;241m=\u001b[39m func(\u001b[38;5;28mself\u001b[39m, \u001b[38;5;241m*\u001b[39margs, \u001b[38;5;241m*\u001b[39m\u001b[38;5;241m*\u001b[39mkwargs)\n\u001b[0;32m    558\u001b[0m datasets: List[\u001b[38;5;124m\"\u001b[39m\u001b[38;5;124mDataset\u001b[39m\u001b[38;5;124m\"\u001b[39m] \u001b[38;5;241m=\u001b[39m \u001b[38;5;28mlist\u001b[39m(out\u001b[38;5;241m.\u001b[39mvalues()) \u001b[38;5;28;01mif\u001b[39;00m \u001b[38;5;28misinstance\u001b[39m(out, \u001b[38;5;28mdict\u001b[39m) \u001b[38;5;28;01melse\u001b[39;00m [out]\n\u001b[0;32m    559\u001b[0m \u001b[38;5;28;01mfor\u001b[39;00m dataset \u001b[38;5;129;01min\u001b[39;00m datasets:\n\u001b[0;32m    560\u001b[0m     \u001b[38;5;66;03m# Remove task templates if a column mapping of the template is no longer valid\u001b[39;00m\n",
      "File \u001b[1;32m~\\AppData\\Local\\Programs\\Python\\Python310\\lib\\site-packages\\datasets\\arrow_dataset.py:524\u001b[0m, in \u001b[0;36mtransmit_format.<locals>.wrapper\u001b[1;34m(*args, **kwargs)\u001b[0m\n\u001b[0;32m    517\u001b[0m self_format \u001b[38;5;241m=\u001b[39m {\n\u001b[0;32m    518\u001b[0m     \u001b[38;5;124m\"\u001b[39m\u001b[38;5;124mtype\u001b[39m\u001b[38;5;124m\"\u001b[39m: \u001b[38;5;28mself\u001b[39m\u001b[38;5;241m.\u001b[39m_format_type,\n\u001b[0;32m    519\u001b[0m     \u001b[38;5;124m\"\u001b[39m\u001b[38;5;124mformat_kwargs\u001b[39m\u001b[38;5;124m\"\u001b[39m: \u001b[38;5;28mself\u001b[39m\u001b[38;5;241m.\u001b[39m_format_kwargs,\n\u001b[0;32m    520\u001b[0m     \u001b[38;5;124m\"\u001b[39m\u001b[38;5;124mcolumns\u001b[39m\u001b[38;5;124m\"\u001b[39m: \u001b[38;5;28mself\u001b[39m\u001b[38;5;241m.\u001b[39m_format_columns,\n\u001b[0;32m    521\u001b[0m     \u001b[38;5;124m\"\u001b[39m\u001b[38;5;124moutput_all_columns\u001b[39m\u001b[38;5;124m\"\u001b[39m: \u001b[38;5;28mself\u001b[39m\u001b[38;5;241m.\u001b[39m_output_all_columns,\n\u001b[0;32m    522\u001b[0m }\n\u001b[0;32m    523\u001b[0m \u001b[38;5;66;03m# apply actual function\u001b[39;00m\n\u001b[1;32m--> 524\u001b[0m out: Union[\u001b[38;5;124m\"\u001b[39m\u001b[38;5;124mDataset\u001b[39m\u001b[38;5;124m\"\u001b[39m, \u001b[38;5;124m\"\u001b[39m\u001b[38;5;124mDatasetDict\u001b[39m\u001b[38;5;124m\"\u001b[39m] \u001b[38;5;241m=\u001b[39m func(\u001b[38;5;28mself\u001b[39m, \u001b[38;5;241m*\u001b[39margs, \u001b[38;5;241m*\u001b[39m\u001b[38;5;241m*\u001b[39mkwargs)\n\u001b[0;32m    525\u001b[0m datasets: List[\u001b[38;5;124m\"\u001b[39m\u001b[38;5;124mDataset\u001b[39m\u001b[38;5;124m\"\u001b[39m] \u001b[38;5;241m=\u001b[39m \u001b[38;5;28mlist\u001b[39m(out\u001b[38;5;241m.\u001b[39mvalues()) \u001b[38;5;28;01mif\u001b[39;00m \u001b[38;5;28misinstance\u001b[39m(out, \u001b[38;5;28mdict\u001b[39m) \u001b[38;5;28;01melse\u001b[39;00m [out]\n\u001b[0;32m    526\u001b[0m \u001b[38;5;66;03m# re-apply format to the output\u001b[39;00m\n",
      "File \u001b[1;32m~\\AppData\\Local\\Programs\\Python\\Python310\\lib\\site-packages\\datasets\\fingerprint.py:480\u001b[0m, in \u001b[0;36mfingerprint_transform.<locals>._fingerprint.<locals>.wrapper\u001b[1;34m(*args, **kwargs)\u001b[0m\n\u001b[0;32m    476\u001b[0m             validate_fingerprint(kwargs[fingerprint_name])\n\u001b[0;32m    478\u001b[0m \u001b[38;5;66;03m# Call actual function\u001b[39;00m\n\u001b[1;32m--> 480\u001b[0m out \u001b[38;5;241m=\u001b[39m func(\u001b[38;5;28mself\u001b[39m, \u001b[38;5;241m*\u001b[39margs, \u001b[38;5;241m*\u001b[39m\u001b[38;5;241m*\u001b[39mkwargs)\n\u001b[0;32m    482\u001b[0m \u001b[38;5;66;03m# Update fingerprint of in-place transforms + update in-place history of transforms\u001b[39;00m\n\u001b[0;32m    484\u001b[0m \u001b[38;5;28;01mif\u001b[39;00m inplace:  \u001b[38;5;66;03m# update after calling func so that the fingerprint doesn't change if the function fails\u001b[39;00m\n",
      "File \u001b[1;32m~\\AppData\\Local\\Programs\\Python\\Python310\\lib\\site-packages\\datasets\\arrow_dataset.py:1635\u001b[0m, in \u001b[0;36mDataset.remove_columns\u001b[1;34m(self, column_names, new_fingerprint)\u001b[0m\n\u001b[0;32m   1633\u001b[0m \u001b[38;5;28;01mfor\u001b[39;00m column_name \u001b[38;5;129;01min\u001b[39;00m column_names:\n\u001b[0;32m   1634\u001b[0m     \u001b[38;5;28;01mif\u001b[39;00m column_name \u001b[38;5;129;01mnot\u001b[39;00m \u001b[38;5;129;01min\u001b[39;00m dataset\u001b[38;5;241m.\u001b[39m_data\u001b[38;5;241m.\u001b[39mcolumn_names:\n\u001b[1;32m-> 1635\u001b[0m         \u001b[38;5;28;01mraise\u001b[39;00m \u001b[38;5;167;01mValueError\u001b[39;00m(\n\u001b[0;32m   1636\u001b[0m             \u001b[38;5;124mf\u001b[39m\u001b[38;5;124m\"\u001b[39m\u001b[38;5;124mColumn name \u001b[39m\u001b[38;5;132;01m{\u001b[39;00mcolumn_name\u001b[38;5;132;01m}\u001b[39;00m\u001b[38;5;124m not in the dataset. \u001b[39m\u001b[38;5;124m\"\u001b[39m\n\u001b[0;32m   1637\u001b[0m             \u001b[38;5;124mf\u001b[39m\u001b[38;5;124m\"\u001b[39m\u001b[38;5;124mCurrent columns in the dataset: \u001b[39m\u001b[38;5;132;01m{\u001b[39;00mdataset\u001b[38;5;241m.\u001b[39m_data\u001b[38;5;241m.\u001b[39mcolumn_names\u001b[38;5;132;01m}\u001b[39;00m\u001b[38;5;124m\"\u001b[39m\n\u001b[0;32m   1638\u001b[0m         )\n\u001b[0;32m   1640\u001b[0m \u001b[38;5;28;01mfor\u001b[39;00m column_name \u001b[38;5;129;01min\u001b[39;00m column_names:\n\u001b[0;32m   1641\u001b[0m     \u001b[38;5;28;01mdel\u001b[39;00m dataset\u001b[38;5;241m.\u001b[39m_info\u001b[38;5;241m.\u001b[39mfeatures[column_name]\n",
      "\u001b[1;31mValueError\u001b[0m: Column name __index_level_0__ not in the dataset. Current columns in the dataset: ['input_ids', 'attention_mask']"
     ]
    }
   ],
   "source": [
    "for i in range(num_days+1):\n",
    "    tok_ds_days[i] = tok_ds_days[i].remove_columns([\"__index_level_0__\"])\n",
    "    tok_ds_days[i] = tok_ds_days[i].remove_columns([\"text\"])\n",
    "    tok_ds_days[i] = tok_ds_days[i].remove_columns([\"created_utc\"])"
   ]
  },
  {
   "cell_type": "code",
   "execution_count": null,
   "metadata": {
    "id": "5x77pSCICidl",
    "scrolled": false
   },
   "outputs": [],
   "source": [
    "preds_counts = []\n",
    "\n",
    "\n",
    "for i in range (30):\n",
    "  preds = []\n",
    "  tok_ds_days[i].set_format(\"torch\")\n",
    "  exp_dataloader = DataLoader(tok_ds_days[i], batch_size=12)\n",
    "  progress_bar = tqdm(exp_dataloader)\n",
    "  for batch in exp_dataloader:\n",
    "    batch = {k: v.to(device) for k, v in batch.items()}\n",
    "    with torch.no_grad():\n",
    "        outputs = distilbert_model(**batch)\n",
    "\n",
    "    logits = outputs.logits\n",
    "    predictions = torch.argmax(logits, dim=-1)\n",
    "    preds.append(predictions.cpu().detach().tolist())\n",
    "    progress_bar.update(1)\n",
    "  preds = [item for sublist in preds for item in sublist]  \n",
    "    \n",
    "  predictions_count = np.bincount(preds)\n",
    "  preds_counts.append(predictions_count)\n",
    "  df_days[i]['prediction'] = preds"
   ]
  },
  {
   "cell_type": "markdown",
   "metadata": {
    "id": "1sqKn-Xa7k3U"
   },
   "source": [
    "A ratio of the number of positive over negative comments is computed, we will use this ratio to analyze the sentiment for the days when sudden crashes happened."
   ]
  },
  {
   "cell_type": "code",
   "execution_count": 60,
   "metadata": {
    "id": "d3je7jvp7k3U",
    "scrolled": true
   },
   "outputs": [],
   "source": [
    "scores = []\n",
    "\n",
    "for i in range(30):\n",
    "  scores.append(preds_counts[i][1]/preds_counts[i][0])"
   ]
  },
  {
   "cell_type": "markdown",
   "metadata": {
    "id": "DUgHqNeH7k3W"
   },
   "source": [
    "### Correlation between sentiment and price\n",
    "The price of Bitcoin shows an high correlation with the sentiment on the crypto community, this is commonly believed to be a direct causation of price towards sentiment. "
   ]
  },
  {
   "cell_type": "code",
   "execution_count": 64,
   "metadata": {
    "id": "tX7C5aXlB21d"
   },
   "outputs": [],
   "source": [
    "import pandas as pd\n",
    "import pandas_datareader.data as pdr\n",
    "import datetime\n",
    "\n",
    "start = datetime.datetime(2021,11,1)\n",
    "end = datetime.datetime(2021,11,29)\n",
    "df = pdr.DataReader('BTC-USD','yahoo',start,end)"
   ]
  },
  {
   "cell_type": "markdown",
   "metadata": {
    "id": "RxUpSoMoB21e"
   },
   "source": [
    "We multiply the sentiment score for a constant factor to obtain a qualitative plot showing the correlation between price and sentiment."
   ]
  },
  {
   "cell_type": "code",
   "execution_count": 65,
   "metadata": {
    "id": "5-OVqhK-B21e"
   },
   "outputs": [],
   "source": [
    "new_scores = [elem*29000 for elem in scores]"
   ]
  },
  {
   "cell_type": "code",
   "execution_count": 68,
   "metadata": {
    "id": "1X91qrDPB21e",
    "outputId": "12493e6a-b4d8-4011-a52c-04cfe5ceb2d6",
    "scrolled": false
   },
   "outputs": [
    {
     "data": {
      "text/html": [
       "        <script type=\"text/javascript\">\n",
       "        window.PlotlyConfig = {MathJaxConfig: 'local'};\n",
       "        if (window.MathJax && window.MathJax.Hub && window.MathJax.Hub.Config) {window.MathJax.Hub.Config({SVG: {font: \"STIX-Web\"}});}\n",
       "        if (typeof require !== 'undefined') {\n",
       "        require.undef(\"plotly\");\n",
       "        requirejs.config({\n",
       "            paths: {\n",
       "                'plotly': ['https://cdn.plot.ly/plotly-2.14.0.min']\n",
       "            }\n",
       "        });\n",
       "        require(['plotly'], function(Plotly) {\n",
       "            window._Plotly = Plotly;\n",
       "        });\n",
       "        }\n",
       "        </script>\n",
       "        "
      ]
     },
     "metadata": {},
     "output_type": "display_data"
    },
    {
     "data": {
      "application/vnd.plotly.v1+json": {
       "config": {
        "linkText": "Export to plot.ly",
        "plotlyServerURL": "https://plot.ly",
        "showLink": false
       },
       "data": [
        {
         "close": [
          61004.40625,
          63226.40234375,
          62970.046875,
          61452.23046875,
          61125.67578125,
          61527.48046875,
          63326.98828125,
          67566.828125,
          66971.828125,
          64995.23046875,
          64949.9609375,
          64155.94140625,
          64469.52734375,
          65466.83984375,
          63557.87109375,
          60161.24609375,
          60368.01171875,
          56942.13671875,
          58119.578125,
          59697.1953125,
          58730.4765625,
          56289.2890625,
          57569.07421875,
          56280.42578125,
          57274.6796875,
          53569.765625,
          54815.078125,
          57248.45703125,
          57806.56640625,
          57005.42578125
         ],
         "high": [
          62419.00390625,
          64242.79296875,
          63516.9375,
          63123.2890625,
          62541.46875,
          61590.68359375,
          63326.98828125,
          67673.7421875,
          68530.3359375,
          68789.625,
          65579.015625,
          65460.81640625,
          64915.67578125,
          65495.1796875,
          66281.5703125,
          63721.1953125,
          60823.609375,
          60948.5,
          58351.11328125,
          59859.87890625,
          60004.42578125,
          59266.359375,
          57875.515625,
          57803.06640625,
          59367.96875,
          59183.48046875,
          55329.2578125,
          57393.84375,
          58872.87890625,
          59113.40234375
         ],
         "low": [
          59695.18359375,
          60673.0546875,
          61184.23828125,
          60799.6640625,
          60844.609375,
          60163.78125,
          61432.48828125,
          63344.06640625,
          66382.0625,
          63208.11328125,
          64180.48828125,
          62333.9140625,
          63303.734375,
          63647.80859375,
          63548.14453125,
          59016.3359375,
          58515.41015625,
          56550.79296875,
          55705.1796875,
          57469.7265625,
          58618.9296875,
          55679.83984375,
          55632.76171875,
          55964.22265625,
          57146.68359375,
          53569.765625,
          53668.35546875,
          53576.734375,
          56792.52734375,
          56057.28125
         ],
         "name": "candlesticks",
         "open": [
          61320.44921875,
          60963.25390625,
          63254.3359375,
          62941.8046875,
          61460.078125,
          61068.875,
          61554.921875,
          63344.06640625,
          67549.734375,
          66953.3359375,
          64978.890625,
          64863.98046875,
          64158.12109375,
          64455.37109375,
          65521.2890625,
          63721.1953125,
          60139.62109375,
          60360.13671875,
          56896.12890625,
          58115.08203125,
          59730.5078125,
          58706.84765625,
          56304.5546875,
          57565.8515625,
          57165.41796875,
          58960.28515625,
          53736.4296875,
          54813.0234375,
          57291.90625,
          57830.11328125
         ],
         "type": "candlestick",
         "x": [
          "2021-11-01T00:00:00",
          "2021-11-02T00:00:00",
          "2021-11-03T00:00:00",
          "2021-11-04T00:00:00",
          "2021-11-05T00:00:00",
          "2021-11-06T00:00:00",
          "2021-11-07T00:00:00",
          "2021-11-08T00:00:00",
          "2021-11-09T00:00:00",
          "2021-11-10T00:00:00",
          "2021-11-11T00:00:00",
          "2021-11-12T00:00:00",
          "2021-11-13T00:00:00",
          "2021-11-14T00:00:00",
          "2021-11-15T00:00:00",
          "2021-11-16T00:00:00",
          "2021-11-17T00:00:00",
          "2021-11-18T00:00:00",
          "2021-11-19T00:00:00",
          "2021-11-20T00:00:00",
          "2021-11-21T00:00:00",
          "2021-11-22T00:00:00",
          "2021-11-23T00:00:00",
          "2021-11-24T00:00:00",
          "2021-11-25T00:00:00",
          "2021-11-26T00:00:00",
          "2021-11-27T00:00:00",
          "2021-11-28T00:00:00",
          "2021-11-29T00:00:00",
          "2021-11-30T00:00:00"
         ]
        },
        {
         "line": {
          "color": "rgb(0, 0, 0)",
          "width": 2
         },
         "name": "sentiment score",
         "type": "scatter",
         "x": [
          "2021-11-01T00:00:00",
          "2021-11-02T00:00:00",
          "2021-11-03T00:00:00",
          "2021-11-04T00:00:00",
          "2021-11-05T00:00:00",
          "2021-11-06T00:00:00",
          "2021-11-07T00:00:00",
          "2021-11-08T00:00:00",
          "2021-11-09T00:00:00",
          "2021-11-10T00:00:00",
          "2021-11-11T00:00:00",
          "2021-11-12T00:00:00",
          "2021-11-13T00:00:00",
          "2021-11-14T00:00:00",
          "2021-11-15T00:00:00",
          "2021-11-16T00:00:00",
          "2021-11-17T00:00:00",
          "2021-11-18T00:00:00",
          "2021-11-19T00:00:00",
          "2021-11-20T00:00:00",
          "2021-11-21T00:00:00",
          "2021-11-22T00:00:00",
          "2021-11-23T00:00:00",
          "2021-11-24T00:00:00",
          "2021-11-25T00:00:00",
          "2021-11-26T00:00:00",
          "2021-11-27T00:00:00",
          "2021-11-28T00:00:00",
          "2021-11-29T00:00:00",
          "2021-11-30T00:00:00"
         ],
         "y": [
          56870.47913446677,
          69537.19874257772,
          66660.06046355392,
          62366.504065040644,
          57773.709483793515,
          60972.11755840241,
          66504.75854776172,
          68441.61728825375,
          71313.59123587812,
          65491.41254819489,
          60480.881399870384,
          65000.66137566137,
          69064.71004243281,
          68935.75418994413,
          71730.27259684361,
          60138.031828515755,
          66534.05994550408,
          58800.50188205771,
          54548.792927575654,
          64110.90573012939,
          61824.17582417582,
          62639.602603631385,
          58573.83657017222,
          58228.816466552315,
          63714.13464927741,
          54176.879761510434,
          58264.4376899696,
          55946.73595323157,
          59043.165467625906,
          62217.51886001676
         ]
        }
       ],
       "layout": {
        "template": {
         "data": {
          "bar": [
           {
            "error_x": {
             "color": "#2a3f5f"
            },
            "error_y": {
             "color": "#2a3f5f"
            },
            "marker": {
             "line": {
              "color": "#E5ECF6",
              "width": 0.5
             },
             "pattern": {
              "fillmode": "overlay",
              "size": 10,
              "solidity": 0.2
             }
            },
            "type": "bar"
           }
          ],
          "barpolar": [
           {
            "marker": {
             "line": {
              "color": "#E5ECF6",
              "width": 0.5
             },
             "pattern": {
              "fillmode": "overlay",
              "size": 10,
              "solidity": 0.2
             }
            },
            "type": "barpolar"
           }
          ],
          "carpet": [
           {
            "aaxis": {
             "endlinecolor": "#2a3f5f",
             "gridcolor": "white",
             "linecolor": "white",
             "minorgridcolor": "white",
             "startlinecolor": "#2a3f5f"
            },
            "baxis": {
             "endlinecolor": "#2a3f5f",
             "gridcolor": "white",
             "linecolor": "white",
             "minorgridcolor": "white",
             "startlinecolor": "#2a3f5f"
            },
            "type": "carpet"
           }
          ],
          "choropleth": [
           {
            "colorbar": {
             "outlinewidth": 0,
             "ticks": ""
            },
            "type": "choropleth"
           }
          ],
          "contour": [
           {
            "colorbar": {
             "outlinewidth": 0,
             "ticks": ""
            },
            "colorscale": [
             [
              0,
              "#0d0887"
             ],
             [
              0.1111111111111111,
              "#46039f"
             ],
             [
              0.2222222222222222,
              "#7201a8"
             ],
             [
              0.3333333333333333,
              "#9c179e"
             ],
             [
              0.4444444444444444,
              "#bd3786"
             ],
             [
              0.5555555555555556,
              "#d8576b"
             ],
             [
              0.6666666666666666,
              "#ed7953"
             ],
             [
              0.7777777777777778,
              "#fb9f3a"
             ],
             [
              0.8888888888888888,
              "#fdca26"
             ],
             [
              1,
              "#f0f921"
             ]
            ],
            "type": "contour"
           }
          ],
          "contourcarpet": [
           {
            "colorbar": {
             "outlinewidth": 0,
             "ticks": ""
            },
            "type": "contourcarpet"
           }
          ],
          "heatmap": [
           {
            "colorbar": {
             "outlinewidth": 0,
             "ticks": ""
            },
            "colorscale": [
             [
              0,
              "#0d0887"
             ],
             [
              0.1111111111111111,
              "#46039f"
             ],
             [
              0.2222222222222222,
              "#7201a8"
             ],
             [
              0.3333333333333333,
              "#9c179e"
             ],
             [
              0.4444444444444444,
              "#bd3786"
             ],
             [
              0.5555555555555556,
              "#d8576b"
             ],
             [
              0.6666666666666666,
              "#ed7953"
             ],
             [
              0.7777777777777778,
              "#fb9f3a"
             ],
             [
              0.8888888888888888,
              "#fdca26"
             ],
             [
              1,
              "#f0f921"
             ]
            ],
            "type": "heatmap"
           }
          ],
          "heatmapgl": [
           {
            "colorbar": {
             "outlinewidth": 0,
             "ticks": ""
            },
            "colorscale": [
             [
              0,
              "#0d0887"
             ],
             [
              0.1111111111111111,
              "#46039f"
             ],
             [
              0.2222222222222222,
              "#7201a8"
             ],
             [
              0.3333333333333333,
              "#9c179e"
             ],
             [
              0.4444444444444444,
              "#bd3786"
             ],
             [
              0.5555555555555556,
              "#d8576b"
             ],
             [
              0.6666666666666666,
              "#ed7953"
             ],
             [
              0.7777777777777778,
              "#fb9f3a"
             ],
             [
              0.8888888888888888,
              "#fdca26"
             ],
             [
              1,
              "#f0f921"
             ]
            ],
            "type": "heatmapgl"
           }
          ],
          "histogram": [
           {
            "marker": {
             "pattern": {
              "fillmode": "overlay",
              "size": 10,
              "solidity": 0.2
             }
            },
            "type": "histogram"
           }
          ],
          "histogram2d": [
           {
            "colorbar": {
             "outlinewidth": 0,
             "ticks": ""
            },
            "colorscale": [
             [
              0,
              "#0d0887"
             ],
             [
              0.1111111111111111,
              "#46039f"
             ],
             [
              0.2222222222222222,
              "#7201a8"
             ],
             [
              0.3333333333333333,
              "#9c179e"
             ],
             [
              0.4444444444444444,
              "#bd3786"
             ],
             [
              0.5555555555555556,
              "#d8576b"
             ],
             [
              0.6666666666666666,
              "#ed7953"
             ],
             [
              0.7777777777777778,
              "#fb9f3a"
             ],
             [
              0.8888888888888888,
              "#fdca26"
             ],
             [
              1,
              "#f0f921"
             ]
            ],
            "type": "histogram2d"
           }
          ],
          "histogram2dcontour": [
           {
            "colorbar": {
             "outlinewidth": 0,
             "ticks": ""
            },
            "colorscale": [
             [
              0,
              "#0d0887"
             ],
             [
              0.1111111111111111,
              "#46039f"
             ],
             [
              0.2222222222222222,
              "#7201a8"
             ],
             [
              0.3333333333333333,
              "#9c179e"
             ],
             [
              0.4444444444444444,
              "#bd3786"
             ],
             [
              0.5555555555555556,
              "#d8576b"
             ],
             [
              0.6666666666666666,
              "#ed7953"
             ],
             [
              0.7777777777777778,
              "#fb9f3a"
             ],
             [
              0.8888888888888888,
              "#fdca26"
             ],
             [
              1,
              "#f0f921"
             ]
            ],
            "type": "histogram2dcontour"
           }
          ],
          "mesh3d": [
           {
            "colorbar": {
             "outlinewidth": 0,
             "ticks": ""
            },
            "type": "mesh3d"
           }
          ],
          "parcoords": [
           {
            "line": {
             "colorbar": {
              "outlinewidth": 0,
              "ticks": ""
             }
            },
            "type": "parcoords"
           }
          ],
          "pie": [
           {
            "automargin": true,
            "type": "pie"
           }
          ],
          "scatter": [
           {
            "fillpattern": {
             "fillmode": "overlay",
             "size": 10,
             "solidity": 0.2
            },
            "type": "scatter"
           }
          ],
          "scatter3d": [
           {
            "line": {
             "colorbar": {
              "outlinewidth": 0,
              "ticks": ""
             }
            },
            "marker": {
             "colorbar": {
              "outlinewidth": 0,
              "ticks": ""
             }
            },
            "type": "scatter3d"
           }
          ],
          "scattercarpet": [
           {
            "marker": {
             "colorbar": {
              "outlinewidth": 0,
              "ticks": ""
             }
            },
            "type": "scattercarpet"
           }
          ],
          "scattergeo": [
           {
            "marker": {
             "colorbar": {
              "outlinewidth": 0,
              "ticks": ""
             }
            },
            "type": "scattergeo"
           }
          ],
          "scattergl": [
           {
            "marker": {
             "colorbar": {
              "outlinewidth": 0,
              "ticks": ""
             }
            },
            "type": "scattergl"
           }
          ],
          "scattermapbox": [
           {
            "marker": {
             "colorbar": {
              "outlinewidth": 0,
              "ticks": ""
             }
            },
            "type": "scattermapbox"
           }
          ],
          "scatterpolar": [
           {
            "marker": {
             "colorbar": {
              "outlinewidth": 0,
              "ticks": ""
             }
            },
            "type": "scatterpolar"
           }
          ],
          "scatterpolargl": [
           {
            "marker": {
             "colorbar": {
              "outlinewidth": 0,
              "ticks": ""
             }
            },
            "type": "scatterpolargl"
           }
          ],
          "scatterternary": [
           {
            "marker": {
             "colorbar": {
              "outlinewidth": 0,
              "ticks": ""
             }
            },
            "type": "scatterternary"
           }
          ],
          "surface": [
           {
            "colorbar": {
             "outlinewidth": 0,
             "ticks": ""
            },
            "colorscale": [
             [
              0,
              "#0d0887"
             ],
             [
              0.1111111111111111,
              "#46039f"
             ],
             [
              0.2222222222222222,
              "#7201a8"
             ],
             [
              0.3333333333333333,
              "#9c179e"
             ],
             [
              0.4444444444444444,
              "#bd3786"
             ],
             [
              0.5555555555555556,
              "#d8576b"
             ],
             [
              0.6666666666666666,
              "#ed7953"
             ],
             [
              0.7777777777777778,
              "#fb9f3a"
             ],
             [
              0.8888888888888888,
              "#fdca26"
             ],
             [
              1,
              "#f0f921"
             ]
            ],
            "type": "surface"
           }
          ],
          "table": [
           {
            "cells": {
             "fill": {
              "color": "#EBF0F8"
             },
             "line": {
              "color": "white"
             }
            },
            "header": {
             "fill": {
              "color": "#C8D4E3"
             },
             "line": {
              "color": "white"
             }
            },
            "type": "table"
           }
          ]
         },
         "layout": {
          "annotationdefaults": {
           "arrowcolor": "#2a3f5f",
           "arrowhead": 0,
           "arrowwidth": 1
          },
          "autotypenumbers": "strict",
          "coloraxis": {
           "colorbar": {
            "outlinewidth": 0,
            "ticks": ""
           }
          },
          "colorscale": {
           "diverging": [
            [
             0,
             "#8e0152"
            ],
            [
             0.1,
             "#c51b7d"
            ],
            [
             0.2,
             "#de77ae"
            ],
            [
             0.3,
             "#f1b6da"
            ],
            [
             0.4,
             "#fde0ef"
            ],
            [
             0.5,
             "#f7f7f7"
            ],
            [
             0.6,
             "#e6f5d0"
            ],
            [
             0.7,
             "#b8e186"
            ],
            [
             0.8,
             "#7fbc41"
            ],
            [
             0.9,
             "#4d9221"
            ],
            [
             1,
             "#276419"
            ]
           ],
           "sequential": [
            [
             0,
             "#0d0887"
            ],
            [
             0.1111111111111111,
             "#46039f"
            ],
            [
             0.2222222222222222,
             "#7201a8"
            ],
            [
             0.3333333333333333,
             "#9c179e"
            ],
            [
             0.4444444444444444,
             "#bd3786"
            ],
            [
             0.5555555555555556,
             "#d8576b"
            ],
            [
             0.6666666666666666,
             "#ed7953"
            ],
            [
             0.7777777777777778,
             "#fb9f3a"
            ],
            [
             0.8888888888888888,
             "#fdca26"
            ],
            [
             1,
             "#f0f921"
            ]
           ],
           "sequentialminus": [
            [
             0,
             "#0d0887"
            ],
            [
             0.1111111111111111,
             "#46039f"
            ],
            [
             0.2222222222222222,
             "#7201a8"
            ],
            [
             0.3333333333333333,
             "#9c179e"
            ],
            [
             0.4444444444444444,
             "#bd3786"
            ],
            [
             0.5555555555555556,
             "#d8576b"
            ],
            [
             0.6666666666666666,
             "#ed7953"
            ],
            [
             0.7777777777777778,
             "#fb9f3a"
            ],
            [
             0.8888888888888888,
             "#fdca26"
            ],
            [
             1,
             "#f0f921"
            ]
           ]
          },
          "colorway": [
           "#636efa",
           "#EF553B",
           "#00cc96",
           "#ab63fa",
           "#FFA15A",
           "#19d3f3",
           "#FF6692",
           "#B6E880",
           "#FF97FF",
           "#FECB52"
          ],
          "font": {
           "color": "#2a3f5f"
          },
          "geo": {
           "bgcolor": "white",
           "lakecolor": "white",
           "landcolor": "#E5ECF6",
           "showlakes": true,
           "showland": true,
           "subunitcolor": "white"
          },
          "hoverlabel": {
           "align": "left"
          },
          "hovermode": "closest",
          "mapbox": {
           "style": "light"
          },
          "paper_bgcolor": "white",
          "plot_bgcolor": "#E5ECF6",
          "polar": {
           "angularaxis": {
            "gridcolor": "white",
            "linecolor": "white",
            "ticks": ""
           },
           "bgcolor": "#E5ECF6",
           "radialaxis": {
            "gridcolor": "white",
            "linecolor": "white",
            "ticks": ""
           }
          },
          "scene": {
           "xaxis": {
            "backgroundcolor": "#E5ECF6",
            "gridcolor": "white",
            "gridwidth": 2,
            "linecolor": "white",
            "showbackground": true,
            "ticks": "",
            "zerolinecolor": "white"
           },
           "yaxis": {
            "backgroundcolor": "#E5ECF6",
            "gridcolor": "white",
            "gridwidth": 2,
            "linecolor": "white",
            "showbackground": true,
            "ticks": "",
            "zerolinecolor": "white"
           },
           "zaxis": {
            "backgroundcolor": "#E5ECF6",
            "gridcolor": "white",
            "gridwidth": 2,
            "linecolor": "white",
            "showbackground": true,
            "ticks": "",
            "zerolinecolor": "white"
           }
          },
          "shapedefaults": {
           "line": {
            "color": "#2a3f5f"
           }
          },
          "ternary": {
           "aaxis": {
            "gridcolor": "white",
            "linecolor": "white",
            "ticks": ""
           },
           "baxis": {
            "gridcolor": "white",
            "linecolor": "white",
            "ticks": ""
           },
           "bgcolor": "#E5ECF6",
           "caxis": {
            "gridcolor": "white",
            "linecolor": "white",
            "ticks": ""
           }
          },
          "title": {
           "x": 0.05
          },
          "xaxis": {
           "automargin": true,
           "gridcolor": "white",
           "linecolor": "white",
           "ticks": "",
           "title": {
            "standoff": 15
           },
           "zerolinecolor": "white",
           "zerolinewidth": 2
          },
          "yaxis": {
           "automargin": true,
           "gridcolor": "white",
           "linecolor": "white",
           "ticks": "",
           "title": {
            "standoff": 15
           },
           "zerolinecolor": "white",
           "zerolinewidth": 2
          }
         }
        },
        "title": {
         "text": "Bitcoin price (November 2021)"
        },
        "width": 1024,
        "xaxis": {
         "dtick": "day",
         "rangeslider": {
          "visible": false
         },
         "title": {
          "text": "Date"
         }
        },
        "yaxis": {
         "title": {
          "text": "Price (USD)"
         }
        }
       }
      },
      "text/html": [
       "<div>                            <div id=\"bcdce287-22f7-4a0e-ab3a-246dc2f9b81c\" class=\"plotly-graph-div\" style=\"height:525px; width:1024px;\"></div>            <script type=\"text/javascript\">                require([\"plotly\"], function(Plotly) {                    window.PLOTLYENV=window.PLOTLYENV || {};                                    if (document.getElementById(\"bcdce287-22f7-4a0e-ab3a-246dc2f9b81c\")) {                    Plotly.newPlot(                        \"bcdce287-22f7-4a0e-ab3a-246dc2f9b81c\",                        [{\"close\":[61004.40625,63226.40234375,62970.046875,61452.23046875,61125.67578125,61527.48046875,63326.98828125,67566.828125,66971.828125,64995.23046875,64949.9609375,64155.94140625,64469.52734375,65466.83984375,63557.87109375,60161.24609375,60368.01171875,56942.13671875,58119.578125,59697.1953125,58730.4765625,56289.2890625,57569.07421875,56280.42578125,57274.6796875,53569.765625,54815.078125,57248.45703125,57806.56640625,57005.42578125],\"high\":[62419.00390625,64242.79296875,63516.9375,63123.2890625,62541.46875,61590.68359375,63326.98828125,67673.7421875,68530.3359375,68789.625,65579.015625,65460.81640625,64915.67578125,65495.1796875,66281.5703125,63721.1953125,60823.609375,60948.5,58351.11328125,59859.87890625,60004.42578125,59266.359375,57875.515625,57803.06640625,59367.96875,59183.48046875,55329.2578125,57393.84375,58872.87890625,59113.40234375],\"low\":[59695.18359375,60673.0546875,61184.23828125,60799.6640625,60844.609375,60163.78125,61432.48828125,63344.06640625,66382.0625,63208.11328125,64180.48828125,62333.9140625,63303.734375,63647.80859375,63548.14453125,59016.3359375,58515.41015625,56550.79296875,55705.1796875,57469.7265625,58618.9296875,55679.83984375,55632.76171875,55964.22265625,57146.68359375,53569.765625,53668.35546875,53576.734375,56792.52734375,56057.28125],\"name\":\"candlesticks\",\"open\":[61320.44921875,60963.25390625,63254.3359375,62941.8046875,61460.078125,61068.875,61554.921875,63344.06640625,67549.734375,66953.3359375,64978.890625,64863.98046875,64158.12109375,64455.37109375,65521.2890625,63721.1953125,60139.62109375,60360.13671875,56896.12890625,58115.08203125,59730.5078125,58706.84765625,56304.5546875,57565.8515625,57165.41796875,58960.28515625,53736.4296875,54813.0234375,57291.90625,57830.11328125],\"x\":[\"2021-11-01T00:00:00\",\"2021-11-02T00:00:00\",\"2021-11-03T00:00:00\",\"2021-11-04T00:00:00\",\"2021-11-05T00:00:00\",\"2021-11-06T00:00:00\",\"2021-11-07T00:00:00\",\"2021-11-08T00:00:00\",\"2021-11-09T00:00:00\",\"2021-11-10T00:00:00\",\"2021-11-11T00:00:00\",\"2021-11-12T00:00:00\",\"2021-11-13T00:00:00\",\"2021-11-14T00:00:00\",\"2021-11-15T00:00:00\",\"2021-11-16T00:00:00\",\"2021-11-17T00:00:00\",\"2021-11-18T00:00:00\",\"2021-11-19T00:00:00\",\"2021-11-20T00:00:00\",\"2021-11-21T00:00:00\",\"2021-11-22T00:00:00\",\"2021-11-23T00:00:00\",\"2021-11-24T00:00:00\",\"2021-11-25T00:00:00\",\"2021-11-26T00:00:00\",\"2021-11-27T00:00:00\",\"2021-11-28T00:00:00\",\"2021-11-29T00:00:00\",\"2021-11-30T00:00:00\"],\"type\":\"candlestick\"},{\"line\":{\"color\":\"rgb(0, 0, 0)\",\"width\":2},\"name\":\"sentiment score\",\"x\":[\"2021-11-01T00:00:00\",\"2021-11-02T00:00:00\",\"2021-11-03T00:00:00\",\"2021-11-04T00:00:00\",\"2021-11-05T00:00:00\",\"2021-11-06T00:00:00\",\"2021-11-07T00:00:00\",\"2021-11-08T00:00:00\",\"2021-11-09T00:00:00\",\"2021-11-10T00:00:00\",\"2021-11-11T00:00:00\",\"2021-11-12T00:00:00\",\"2021-11-13T00:00:00\",\"2021-11-14T00:00:00\",\"2021-11-15T00:00:00\",\"2021-11-16T00:00:00\",\"2021-11-17T00:00:00\",\"2021-11-18T00:00:00\",\"2021-11-19T00:00:00\",\"2021-11-20T00:00:00\",\"2021-11-21T00:00:00\",\"2021-11-22T00:00:00\",\"2021-11-23T00:00:00\",\"2021-11-24T00:00:00\",\"2021-11-25T00:00:00\",\"2021-11-26T00:00:00\",\"2021-11-27T00:00:00\",\"2021-11-28T00:00:00\",\"2021-11-29T00:00:00\",\"2021-11-30T00:00:00\"],\"y\":[56870.47913446677,69537.19874257772,66660.06046355392,62366.504065040644,57773.709483793515,60972.11755840241,66504.75854776172,68441.61728825375,71313.59123587812,65491.41254819489,60480.881399870384,65000.66137566137,69064.71004243281,68935.75418994413,71730.27259684361,60138.031828515755,66534.05994550408,58800.50188205771,54548.792927575654,64110.90573012939,61824.17582417582,62639.602603631385,58573.83657017222,58228.816466552315,63714.13464927741,54176.879761510434,58264.4376899696,55946.73595323157,59043.165467625906,62217.51886001676],\"type\":\"scatter\"}],                        {\"template\":{\"data\":{\"barpolar\":[{\"marker\":{\"line\":{\"color\":\"#E5ECF6\",\"width\":0.5},\"pattern\":{\"fillmode\":\"overlay\",\"size\":10,\"solidity\":0.2}},\"type\":\"barpolar\"}],\"bar\":[{\"error_x\":{\"color\":\"#2a3f5f\"},\"error_y\":{\"color\":\"#2a3f5f\"},\"marker\":{\"line\":{\"color\":\"#E5ECF6\",\"width\":0.5},\"pattern\":{\"fillmode\":\"overlay\",\"size\":10,\"solidity\":0.2}},\"type\":\"bar\"}],\"carpet\":[{\"aaxis\":{\"endlinecolor\":\"#2a3f5f\",\"gridcolor\":\"white\",\"linecolor\":\"white\",\"minorgridcolor\":\"white\",\"startlinecolor\":\"#2a3f5f\"},\"baxis\":{\"endlinecolor\":\"#2a3f5f\",\"gridcolor\":\"white\",\"linecolor\":\"white\",\"minorgridcolor\":\"white\",\"startlinecolor\":\"#2a3f5f\"},\"type\":\"carpet\"}],\"choropleth\":[{\"colorbar\":{\"outlinewidth\":0,\"ticks\":\"\"},\"type\":\"choropleth\"}],\"contourcarpet\":[{\"colorbar\":{\"outlinewidth\":0,\"ticks\":\"\"},\"type\":\"contourcarpet\"}],\"contour\":[{\"colorbar\":{\"outlinewidth\":0,\"ticks\":\"\"},\"colorscale\":[[0.0,\"#0d0887\"],[0.1111111111111111,\"#46039f\"],[0.2222222222222222,\"#7201a8\"],[0.3333333333333333,\"#9c179e\"],[0.4444444444444444,\"#bd3786\"],[0.5555555555555556,\"#d8576b\"],[0.6666666666666666,\"#ed7953\"],[0.7777777777777778,\"#fb9f3a\"],[0.8888888888888888,\"#fdca26\"],[1.0,\"#f0f921\"]],\"type\":\"contour\"}],\"heatmapgl\":[{\"colorbar\":{\"outlinewidth\":0,\"ticks\":\"\"},\"colorscale\":[[0.0,\"#0d0887\"],[0.1111111111111111,\"#46039f\"],[0.2222222222222222,\"#7201a8\"],[0.3333333333333333,\"#9c179e\"],[0.4444444444444444,\"#bd3786\"],[0.5555555555555556,\"#d8576b\"],[0.6666666666666666,\"#ed7953\"],[0.7777777777777778,\"#fb9f3a\"],[0.8888888888888888,\"#fdca26\"],[1.0,\"#f0f921\"]],\"type\":\"heatmapgl\"}],\"heatmap\":[{\"colorbar\":{\"outlinewidth\":0,\"ticks\":\"\"},\"colorscale\":[[0.0,\"#0d0887\"],[0.1111111111111111,\"#46039f\"],[0.2222222222222222,\"#7201a8\"],[0.3333333333333333,\"#9c179e\"],[0.4444444444444444,\"#bd3786\"],[0.5555555555555556,\"#d8576b\"],[0.6666666666666666,\"#ed7953\"],[0.7777777777777778,\"#fb9f3a\"],[0.8888888888888888,\"#fdca26\"],[1.0,\"#f0f921\"]],\"type\":\"heatmap\"}],\"histogram2dcontour\":[{\"colorbar\":{\"outlinewidth\":0,\"ticks\":\"\"},\"colorscale\":[[0.0,\"#0d0887\"],[0.1111111111111111,\"#46039f\"],[0.2222222222222222,\"#7201a8\"],[0.3333333333333333,\"#9c179e\"],[0.4444444444444444,\"#bd3786\"],[0.5555555555555556,\"#d8576b\"],[0.6666666666666666,\"#ed7953\"],[0.7777777777777778,\"#fb9f3a\"],[0.8888888888888888,\"#fdca26\"],[1.0,\"#f0f921\"]],\"type\":\"histogram2dcontour\"}],\"histogram2d\":[{\"colorbar\":{\"outlinewidth\":0,\"ticks\":\"\"},\"colorscale\":[[0.0,\"#0d0887\"],[0.1111111111111111,\"#46039f\"],[0.2222222222222222,\"#7201a8\"],[0.3333333333333333,\"#9c179e\"],[0.4444444444444444,\"#bd3786\"],[0.5555555555555556,\"#d8576b\"],[0.6666666666666666,\"#ed7953\"],[0.7777777777777778,\"#fb9f3a\"],[0.8888888888888888,\"#fdca26\"],[1.0,\"#f0f921\"]],\"type\":\"histogram2d\"}],\"histogram\":[{\"marker\":{\"pattern\":{\"fillmode\":\"overlay\",\"size\":10,\"solidity\":0.2}},\"type\":\"histogram\"}],\"mesh3d\":[{\"colorbar\":{\"outlinewidth\":0,\"ticks\":\"\"},\"type\":\"mesh3d\"}],\"parcoords\":[{\"line\":{\"colorbar\":{\"outlinewidth\":0,\"ticks\":\"\"}},\"type\":\"parcoords\"}],\"pie\":[{\"automargin\":true,\"type\":\"pie\"}],\"scatter3d\":[{\"line\":{\"colorbar\":{\"outlinewidth\":0,\"ticks\":\"\"}},\"marker\":{\"colorbar\":{\"outlinewidth\":0,\"ticks\":\"\"}},\"type\":\"scatter3d\"}],\"scattercarpet\":[{\"marker\":{\"colorbar\":{\"outlinewidth\":0,\"ticks\":\"\"}},\"type\":\"scattercarpet\"}],\"scattergeo\":[{\"marker\":{\"colorbar\":{\"outlinewidth\":0,\"ticks\":\"\"}},\"type\":\"scattergeo\"}],\"scattergl\":[{\"marker\":{\"colorbar\":{\"outlinewidth\":0,\"ticks\":\"\"}},\"type\":\"scattergl\"}],\"scattermapbox\":[{\"marker\":{\"colorbar\":{\"outlinewidth\":0,\"ticks\":\"\"}},\"type\":\"scattermapbox\"}],\"scatterpolargl\":[{\"marker\":{\"colorbar\":{\"outlinewidth\":0,\"ticks\":\"\"}},\"type\":\"scatterpolargl\"}],\"scatterpolar\":[{\"marker\":{\"colorbar\":{\"outlinewidth\":0,\"ticks\":\"\"}},\"type\":\"scatterpolar\"}],\"scatter\":[{\"fillpattern\":{\"fillmode\":\"overlay\",\"size\":10,\"solidity\":0.2},\"type\":\"scatter\"}],\"scatterternary\":[{\"marker\":{\"colorbar\":{\"outlinewidth\":0,\"ticks\":\"\"}},\"type\":\"scatterternary\"}],\"surface\":[{\"colorbar\":{\"outlinewidth\":0,\"ticks\":\"\"},\"colorscale\":[[0.0,\"#0d0887\"],[0.1111111111111111,\"#46039f\"],[0.2222222222222222,\"#7201a8\"],[0.3333333333333333,\"#9c179e\"],[0.4444444444444444,\"#bd3786\"],[0.5555555555555556,\"#d8576b\"],[0.6666666666666666,\"#ed7953\"],[0.7777777777777778,\"#fb9f3a\"],[0.8888888888888888,\"#fdca26\"],[1.0,\"#f0f921\"]],\"type\":\"surface\"}],\"table\":[{\"cells\":{\"fill\":{\"color\":\"#EBF0F8\"},\"line\":{\"color\":\"white\"}},\"header\":{\"fill\":{\"color\":\"#C8D4E3\"},\"line\":{\"color\":\"white\"}},\"type\":\"table\"}]},\"layout\":{\"annotationdefaults\":{\"arrowcolor\":\"#2a3f5f\",\"arrowhead\":0,\"arrowwidth\":1},\"autotypenumbers\":\"strict\",\"coloraxis\":{\"colorbar\":{\"outlinewidth\":0,\"ticks\":\"\"}},\"colorscale\":{\"diverging\":[[0,\"#8e0152\"],[0.1,\"#c51b7d\"],[0.2,\"#de77ae\"],[0.3,\"#f1b6da\"],[0.4,\"#fde0ef\"],[0.5,\"#f7f7f7\"],[0.6,\"#e6f5d0\"],[0.7,\"#b8e186\"],[0.8,\"#7fbc41\"],[0.9,\"#4d9221\"],[1,\"#276419\"]],\"sequential\":[[0.0,\"#0d0887\"],[0.1111111111111111,\"#46039f\"],[0.2222222222222222,\"#7201a8\"],[0.3333333333333333,\"#9c179e\"],[0.4444444444444444,\"#bd3786\"],[0.5555555555555556,\"#d8576b\"],[0.6666666666666666,\"#ed7953\"],[0.7777777777777778,\"#fb9f3a\"],[0.8888888888888888,\"#fdca26\"],[1.0,\"#f0f921\"]],\"sequentialminus\":[[0.0,\"#0d0887\"],[0.1111111111111111,\"#46039f\"],[0.2222222222222222,\"#7201a8\"],[0.3333333333333333,\"#9c179e\"],[0.4444444444444444,\"#bd3786\"],[0.5555555555555556,\"#d8576b\"],[0.6666666666666666,\"#ed7953\"],[0.7777777777777778,\"#fb9f3a\"],[0.8888888888888888,\"#fdca26\"],[1.0,\"#f0f921\"]]},\"colorway\":[\"#636efa\",\"#EF553B\",\"#00cc96\",\"#ab63fa\",\"#FFA15A\",\"#19d3f3\",\"#FF6692\",\"#B6E880\",\"#FF97FF\",\"#FECB52\"],\"font\":{\"color\":\"#2a3f5f\"},\"geo\":{\"bgcolor\":\"white\",\"lakecolor\":\"white\",\"landcolor\":\"#E5ECF6\",\"showlakes\":true,\"showland\":true,\"subunitcolor\":\"white\"},\"hoverlabel\":{\"align\":\"left\"},\"hovermode\":\"closest\",\"mapbox\":{\"style\":\"light\"},\"paper_bgcolor\":\"white\",\"plot_bgcolor\":\"#E5ECF6\",\"polar\":{\"angularaxis\":{\"gridcolor\":\"white\",\"linecolor\":\"white\",\"ticks\":\"\"},\"bgcolor\":\"#E5ECF6\",\"radialaxis\":{\"gridcolor\":\"white\",\"linecolor\":\"white\",\"ticks\":\"\"}},\"scene\":{\"xaxis\":{\"backgroundcolor\":\"#E5ECF6\",\"gridcolor\":\"white\",\"gridwidth\":2,\"linecolor\":\"white\",\"showbackground\":true,\"ticks\":\"\",\"zerolinecolor\":\"white\"},\"yaxis\":{\"backgroundcolor\":\"#E5ECF6\",\"gridcolor\":\"white\",\"gridwidth\":2,\"linecolor\":\"white\",\"showbackground\":true,\"ticks\":\"\",\"zerolinecolor\":\"white\"},\"zaxis\":{\"backgroundcolor\":\"#E5ECF6\",\"gridcolor\":\"white\",\"gridwidth\":2,\"linecolor\":\"white\",\"showbackground\":true,\"ticks\":\"\",\"zerolinecolor\":\"white\"}},\"shapedefaults\":{\"line\":{\"color\":\"#2a3f5f\"}},\"ternary\":{\"aaxis\":{\"gridcolor\":\"white\",\"linecolor\":\"white\",\"ticks\":\"\"},\"baxis\":{\"gridcolor\":\"white\",\"linecolor\":\"white\",\"ticks\":\"\"},\"bgcolor\":\"#E5ECF6\",\"caxis\":{\"gridcolor\":\"white\",\"linecolor\":\"white\",\"ticks\":\"\"}},\"title\":{\"x\":0.05},\"xaxis\":{\"automargin\":true,\"gridcolor\":\"white\",\"linecolor\":\"white\",\"ticks\":\"\",\"title\":{\"standoff\":15},\"zerolinecolor\":\"white\",\"zerolinewidth\":2},\"yaxis\":{\"automargin\":true,\"gridcolor\":\"white\",\"linecolor\":\"white\",\"ticks\":\"\",\"title\":{\"standoff\":15},\"zerolinecolor\":\"white\",\"zerolinewidth\":2}}},\"title\":{\"text\":\"Bitcoin price (November 2021)\"},\"width\":1024,\"xaxis\":{\"dtick\":\"day\",\"rangeslider\":{\"visible\":false},\"title\":{\"text\":\"Date\"}},\"yaxis\":{\"title\":{\"text\":\"Price (USD)\"}}},                        {\"responsive\": true}                    ).then(function(){\n",
       "                            \n",
       "var gd = document.getElementById('bcdce287-22f7-4a0e-ab3a-246dc2f9b81c');\n",
       "var x = new MutationObserver(function (mutations, observer) {{\n",
       "        var display = window.getComputedStyle(gd).display;\n",
       "        if (!display || display === 'none') {{\n",
       "            console.log([gd, 'removed!']);\n",
       "            Plotly.purge(gd);\n",
       "            observer.disconnect();\n",
       "        }}\n",
       "}});\n",
       "\n",
       "// Listen for the removal of the full notebook cells\n",
       "var notebookContainer = gd.closest('#notebook-container');\n",
       "if (notebookContainer) {{\n",
       "    x.observe(notebookContainer, {childList: true});\n",
       "}}\n",
       "\n",
       "// Listen for the clearing of the current output cell\n",
       "var outputEl = gd.closest('.output');\n",
       "if (outputEl) {{\n",
       "    x.observe(outputEl, {childList: true});\n",
       "}}\n",
       "\n",
       "                        })                };                });            </script>        </div>"
      ]
     },
     "metadata": {},
     "output_type": "display_data"
    }
   ],
   "source": [
    "from matplotlib import pyplot as plt\n",
    "from matplotlib.pyplot import figure\n",
    "import plotly.offline as py\n",
    "import plotly.graph_objs as go\n",
    "\n",
    "py.init_notebook_mode(connected=True)\n",
    "\n",
    "data = [go.Candlestick(x=df.index,\n",
    "                       open=df.Open,\n",
    "                       high=df.High,\n",
    "                       low=df.Low,\n",
    "                       close=df.Close,\n",
    "                       name=\"candlesticks\"),\n",
    "       go.Scatter(x=df.index, y=new_scores,\n",
    "                  line=dict(\n",
    "                        color='rgb(0, 0, 0)',\n",
    "                        width=2\n",
    "                    ),\n",
    "                  name=\"sentiment score\"\n",
    "                  )]\n",
    "\n",
    "layout = go.Layout(title='Bitcoin price (November 2021)',\n",
    "                   xaxis={'title': \"Date\", 'rangeslider':{'visible':False},\n",
    "                          'dtick': \"day\"},\n",
    "                   yaxis={'title': \"Price (USD)\"},\n",
    "                   width=1024)\n",
    "\n",
    "fig = go.Figure(data=data,layout=layout)\n",
    "py.iplot(fig,filename='bitcoin_candlestick')"
   ]
  },
  {
   "cell_type": "markdown",
   "metadata": {
    "id": "zYZfinDpB21f"
   },
   "source": [
    "## Conclusions\n",
    "\n",
    "We used a labeled dataset of comments made by the crypto community to perform fine tuning on the DistilBERT and BERT pre-trained models provided by HuggingFace.\n",
    "We experimented with different configurations of the models and amount of data, in this way we obtained a final DistilBERT model which achieves an accuracy of 0.9511 on the test set.\n",
    "We observed that in the experiments the DistilBERT version took half of the time and it also had a similar performance with respect to the corresponding BERT model.\n",
    "Further, as expected with a greater amount of data the models performed better on the evaluation set.\n",
    "Finally we showed a practical example of how to analyze the movements of the crypto market in comparison to the sentiment showing that the approach is well-founded.\n",
    "\n",
    "A further work that could be done is an analysis on a much longer span and possibly on multiple sources of data, this could possibly show if a so called ``wisdom of the crowd\" could predict rises or falls of the market. \n",
    "More in general the model could help in finding some kind of insight that could be extrapolated from the sentiment of the community."
   ]
  }
 ],
 "metadata": {
  "accelerator": "GPU",
  "colab": {
   "collapsed_sections": [
    "PUmf_mrBOSeP",
    "uadm6Q7K7kbV",
    "X9PchnSjy3pR",
    "Wn9LorIJRQx6",
    "AdV6ejuSxA71",
    "MdrAPwAJ47Tf",
    "UkTpjVL7xfyc",
    "8lpHAbn7B21W",
    "IHW4UgZKyG49",
    "qp3N56Li7k2Y",
    "DUgHqNeH7k3W"
   ],
   "provenance": []
  },
  "gpuClass": "standard",
  "kernelspec": {
   "display_name": "Python 3 (ipykernel)",
   "language": "python",
   "name": "python3"
  },
  "language_info": {
   "codemirror_mode": {
    "name": "ipython",
    "version": 3
   },
   "file_extension": ".py",
   "mimetype": "text/x-python",
   "name": "python",
   "nbconvert_exporter": "python",
   "pygments_lexer": "ipython3",
   "version": "3.10.7"
  },
  "widgets": {
   "application/vnd.jupyter.widget-state+json": {
    "03db802f49ef4363accbe1c2e734e2f1": {
     "model_module": "@jupyter-widgets/controls",
     "model_module_version": "1.5.0",
     "model_name": "HTMLModel",
     "state": {
      "_dom_classes": [],
      "_model_module": "@jupyter-widgets/controls",
      "_model_module_version": "1.5.0",
      "_model_name": "HTMLModel",
      "_view_count": null,
      "_view_module": "@jupyter-widgets/controls",
      "_view_module_version": "1.5.0",
      "_view_name": "HTMLView",
      "description": "",
      "description_tooltip": null,
      "layout": "IPY_MODEL_39569c0c8fd94e63bd234bb158cbb4c3",
      "placeholder": "​",
      "style": "IPY_MODEL_4f2a756b9eea464292d29b1e5d140a7c",
      "value": "100%"
     }
    },
    "03f3634718884deea7bd5cdf53eb0ec0": {
     "model_module": "@jupyter-widgets/base",
     "model_module_version": "1.2.0",
     "model_name": "LayoutModel",
     "state": {
      "_model_module": "@jupyter-widgets/base",
      "_model_module_version": "1.2.0",
      "_model_name": "LayoutModel",
      "_view_count": null,
      "_view_module": "@jupyter-widgets/base",
      "_view_module_version": "1.2.0",
      "_view_name": "LayoutView",
      "align_content": null,
      "align_items": null,
      "align_self": null,
      "border": null,
      "bottom": null,
      "display": null,
      "flex": null,
      "flex_flow": null,
      "grid_area": null,
      "grid_auto_columns": null,
      "grid_auto_flow": null,
      "grid_auto_rows": null,
      "grid_column": null,
      "grid_gap": null,
      "grid_row": null,
      "grid_template_areas": null,
      "grid_template_columns": null,
      "grid_template_rows": null,
      "height": null,
      "justify_content": null,
      "justify_items": null,
      "left": null,
      "margin": null,
      "max_height": null,
      "max_width": null,
      "min_height": null,
      "min_width": null,
      "object_fit": null,
      "object_position": null,
      "order": null,
      "overflow": null,
      "overflow_x": null,
      "overflow_y": null,
      "padding": null,
      "right": null,
      "top": null,
      "visibility": null,
      "width": null
     }
    },
    "04ba955913534ad5a1e4e847480e0d4d": {
     "model_module": "@jupyter-widgets/controls",
     "model_module_version": "1.5.0",
     "model_name": "HTMLModel",
     "state": {
      "_dom_classes": [],
      "_model_module": "@jupyter-widgets/controls",
      "_model_module_version": "1.5.0",
      "_model_name": "HTMLModel",
      "_view_count": null,
      "_view_module": "@jupyter-widgets/controls",
      "_view_module_version": "1.5.0",
      "_view_name": "HTMLView",
      "description": "",
      "description_tooltip": null,
      "layout": "IPY_MODEL_2eaa5934225e49d495f46e35843362d3",
      "placeholder": "​",
      "style": "IPY_MODEL_a983874877984f96b0439358be2bf3e8",
      "value": "100%"
     }
    },
    "04ffb2def7b942e282d4f6b1977acfd4": {
     "model_module": "@jupyter-widgets/controls",
     "model_module_version": "1.5.0",
     "model_name": "FloatProgressModel",
     "state": {
      "_dom_classes": [],
      "_model_module": "@jupyter-widgets/controls",
      "_model_module_version": "1.5.0",
      "_model_name": "FloatProgressModel",
      "_view_count": null,
      "_view_module": "@jupyter-widgets/controls",
      "_view_module_version": "1.5.0",
      "_view_name": "ProgressView",
      "bar_style": "success",
      "description": "",
      "description_tooltip": null,
      "layout": "IPY_MODEL_1c3cbc53065b44ae8f07b9f956313dcf",
      "max": 483,
      "min": 0,
      "orientation": "horizontal",
      "style": "IPY_MODEL_e3372bf1c8644e2cb1830a9a6c3729c1",
      "value": 483
     }
    },
    "0703a0d945fb4162a419823ad12a70e3": {
     "model_module": "@jupyter-widgets/base",
     "model_module_version": "1.2.0",
     "model_name": "LayoutModel",
     "state": {
      "_model_module": "@jupyter-widgets/base",
      "_model_module_version": "1.2.0",
      "_model_name": "LayoutModel",
      "_view_count": null,
      "_view_module": "@jupyter-widgets/base",
      "_view_module_version": "1.2.0",
      "_view_name": "LayoutView",
      "align_content": null,
      "align_items": null,
      "align_self": null,
      "border": null,
      "bottom": null,
      "display": null,
      "flex": null,
      "flex_flow": null,
      "grid_area": null,
      "grid_auto_columns": null,
      "grid_auto_flow": null,
      "grid_auto_rows": null,
      "grid_column": null,
      "grid_gap": null,
      "grid_row": null,
      "grid_template_areas": null,
      "grid_template_columns": null,
      "grid_template_rows": null,
      "height": null,
      "justify_content": null,
      "justify_items": null,
      "left": null,
      "margin": null,
      "max_height": null,
      "max_width": null,
      "min_height": null,
      "min_width": null,
      "object_fit": null,
      "object_position": null,
      "order": null,
      "overflow": null,
      "overflow_x": null,
      "overflow_y": null,
      "padding": null,
      "right": null,
      "top": null,
      "visibility": null,
      "width": null
     }
    },
    "07cb42ad929f46198267480eb9e4837e": {
     "model_module": "@jupyter-widgets/base",
     "model_module_version": "1.2.0",
     "model_name": "LayoutModel",
     "state": {
      "_model_module": "@jupyter-widgets/base",
      "_model_module_version": "1.2.0",
      "_model_name": "LayoutModel",
      "_view_count": null,
      "_view_module": "@jupyter-widgets/base",
      "_view_module_version": "1.2.0",
      "_view_name": "LayoutView",
      "align_content": null,
      "align_items": null,
      "align_self": null,
      "border": null,
      "bottom": null,
      "display": null,
      "flex": null,
      "flex_flow": null,
      "grid_area": null,
      "grid_auto_columns": null,
      "grid_auto_flow": null,
      "grid_auto_rows": null,
      "grid_column": null,
      "grid_gap": null,
      "grid_row": null,
      "grid_template_areas": null,
      "grid_template_columns": null,
      "grid_template_rows": null,
      "height": null,
      "justify_content": null,
      "justify_items": null,
      "left": null,
      "margin": null,
      "max_height": null,
      "max_width": null,
      "min_height": null,
      "min_width": null,
      "object_fit": null,
      "object_position": null,
      "order": null,
      "overflow": null,
      "overflow_x": null,
      "overflow_y": null,
      "padding": null,
      "right": null,
      "top": null,
      "visibility": null,
      "width": null
     }
    },
    "11c7dd25e3154660bfa24dea13065524": {
     "model_module": "@jupyter-widgets/controls",
     "model_module_version": "1.5.0",
     "model_name": "HBoxModel",
     "state": {
      "_dom_classes": [],
      "_model_module": "@jupyter-widgets/controls",
      "_model_module_version": "1.5.0",
      "_model_name": "HBoxModel",
      "_view_count": null,
      "_view_module": "@jupyter-widgets/controls",
      "_view_module_version": "1.5.0",
      "_view_name": "HBoxView",
      "box_style": "",
      "children": [
       "IPY_MODEL_45fee3204ccf492e9fb52894b18bce3a",
       "IPY_MODEL_c5135f1eaddb492bad4134672e97d2dd",
       "IPY_MODEL_79a9da97de344358952e2a8bdf8d95ff"
      ],
      "layout": "IPY_MODEL_568902ef4e5f445e9994412fe053ebdc"
     }
    },
    "11f574784caa4b4aa204fe20132c790b": {
     "model_module": "@jupyter-widgets/base",
     "model_module_version": "1.2.0",
     "model_name": "LayoutModel",
     "state": {
      "_model_module": "@jupyter-widgets/base",
      "_model_module_version": "1.2.0",
      "_model_name": "LayoutModel",
      "_view_count": null,
      "_view_module": "@jupyter-widgets/base",
      "_view_module_version": "1.2.0",
      "_view_name": "LayoutView",
      "align_content": null,
      "align_items": null,
      "align_self": null,
      "border": null,
      "bottom": null,
      "display": null,
      "flex": null,
      "flex_flow": null,
      "grid_area": null,
      "grid_auto_columns": null,
      "grid_auto_flow": null,
      "grid_auto_rows": null,
      "grid_column": null,
      "grid_gap": null,
      "grid_row": null,
      "grid_template_areas": null,
      "grid_template_columns": null,
      "grid_template_rows": null,
      "height": null,
      "justify_content": null,
      "justify_items": null,
      "left": null,
      "margin": null,
      "max_height": null,
      "max_width": null,
      "min_height": null,
      "min_width": null,
      "object_fit": null,
      "object_position": null,
      "order": null,
      "overflow": null,
      "overflow_x": null,
      "overflow_y": null,
      "padding": null,
      "right": null,
      "top": null,
      "visibility": null,
      "width": null
     }
    },
    "134960e09272435789e15d8446a1ac89": {
     "model_module": "@jupyter-widgets/controls",
     "model_module_version": "1.5.0",
     "model_name": "ProgressStyleModel",
     "state": {
      "_model_module": "@jupyter-widgets/controls",
      "_model_module_version": "1.5.0",
      "_model_name": "ProgressStyleModel",
      "_view_count": null,
      "_view_module": "@jupyter-widgets/base",
      "_view_module_version": "1.2.0",
      "_view_name": "StyleView",
      "bar_color": null,
      "description_width": ""
     }
    },
    "1410243977bc452399f654bdd056d841": {
     "model_module": "@jupyter-widgets/controls",
     "model_module_version": "1.5.0",
     "model_name": "DescriptionStyleModel",
     "state": {
      "_model_module": "@jupyter-widgets/controls",
      "_model_module_version": "1.5.0",
      "_model_name": "DescriptionStyleModel",
      "_view_count": null,
      "_view_module": "@jupyter-widgets/base",
      "_view_module_version": "1.2.0",
      "_view_name": "StyleView",
      "description_width": ""
     }
    },
    "15efdb83a5054e7f864c30ceeeb18e76": {
     "model_module": "@jupyter-widgets/base",
     "model_module_version": "1.2.0",
     "model_name": "LayoutModel",
     "state": {
      "_model_module": "@jupyter-widgets/base",
      "_model_module_version": "1.2.0",
      "_model_name": "LayoutModel",
      "_view_count": null,
      "_view_module": "@jupyter-widgets/base",
      "_view_module_version": "1.2.0",
      "_view_name": "LayoutView",
      "align_content": null,
      "align_items": null,
      "align_self": null,
      "border": null,
      "bottom": null,
      "display": null,
      "flex": null,
      "flex_flow": null,
      "grid_area": null,
      "grid_auto_columns": null,
      "grid_auto_flow": null,
      "grid_auto_rows": null,
      "grid_column": null,
      "grid_gap": null,
      "grid_row": null,
      "grid_template_areas": null,
      "grid_template_columns": null,
      "grid_template_rows": null,
      "height": null,
      "justify_content": null,
      "justify_items": null,
      "left": null,
      "margin": null,
      "max_height": null,
      "max_width": null,
      "min_height": null,
      "min_width": null,
      "object_fit": null,
      "object_position": null,
      "order": null,
      "overflow": null,
      "overflow_x": null,
      "overflow_y": null,
      "padding": null,
      "right": null,
      "top": null,
      "visibility": null,
      "width": null
     }
    },
    "16a6e1b8ff7a46a5bce54079e3d7fb77": {
     "model_module": "@jupyter-widgets/base",
     "model_module_version": "1.2.0",
     "model_name": "LayoutModel",
     "state": {
      "_model_module": "@jupyter-widgets/base",
      "_model_module_version": "1.2.0",
      "_model_name": "LayoutModel",
      "_view_count": null,
      "_view_module": "@jupyter-widgets/base",
      "_view_module_version": "1.2.0",
      "_view_name": "LayoutView",
      "align_content": null,
      "align_items": null,
      "align_self": null,
      "border": null,
      "bottom": null,
      "display": null,
      "flex": null,
      "flex_flow": null,
      "grid_area": null,
      "grid_auto_columns": null,
      "grid_auto_flow": null,
      "grid_auto_rows": null,
      "grid_column": null,
      "grid_gap": null,
      "grid_row": null,
      "grid_template_areas": null,
      "grid_template_columns": null,
      "grid_template_rows": null,
      "height": null,
      "justify_content": null,
      "justify_items": null,
      "left": null,
      "margin": null,
      "max_height": null,
      "max_width": null,
      "min_height": null,
      "min_width": null,
      "object_fit": null,
      "object_position": null,
      "order": null,
      "overflow": null,
      "overflow_x": null,
      "overflow_y": null,
      "padding": null,
      "right": null,
      "top": null,
      "visibility": null,
      "width": null
     }
    },
    "17969bde0fab4e44a76e4a396e059a69": {
     "model_module": "@jupyter-widgets/controls",
     "model_module_version": "1.5.0",
     "model_name": "HBoxModel",
     "state": {
      "_dom_classes": [],
      "_model_module": "@jupyter-widgets/controls",
      "_model_module_version": "1.5.0",
      "_model_name": "HBoxModel",
      "_view_count": null,
      "_view_module": "@jupyter-widgets/controls",
      "_view_module_version": "1.5.0",
      "_view_name": "HBoxView",
      "box_style": "",
      "children": [
       "IPY_MODEL_c30b8fe9cb4f459685ec434baf0796cf",
       "IPY_MODEL_d862feaa70694ad1b10760f79b5c3892",
       "IPY_MODEL_d17b936d29724137a18969b6ee79bc24"
      ],
      "layout": "IPY_MODEL_ea02378d8184489882e59a880f0a56fe"
     }
    },
    "1998e47552714d5ab131b7788ac579e9": {
     "model_module": "@jupyter-widgets/controls",
     "model_module_version": "1.5.0",
     "model_name": "HTMLModel",
     "state": {
      "_dom_classes": [],
      "_model_module": "@jupyter-widgets/controls",
      "_model_module_version": "1.5.0",
      "_model_name": "HTMLModel",
      "_view_count": null,
      "_view_module": "@jupyter-widgets/controls",
      "_view_module_version": "1.5.0",
      "_view_name": "HTMLView",
      "description": "",
      "description_tooltip": null,
      "layout": "IPY_MODEL_ab6d3955ae4f4d469f2c3880d56888df",
      "placeholder": "​",
      "style": "IPY_MODEL_4bff46612cbd44749043fa76922f1415",
      "value": "Downloading: 100%"
     }
    },
    "19ffed1c3b734c5bac15c6fd27c5fd04": {
     "model_module": "@jupyter-widgets/controls",
     "model_module_version": "1.5.0",
     "model_name": "FloatProgressModel",
     "state": {
      "_dom_classes": [],
      "_model_module": "@jupyter-widgets/controls",
      "_model_module_version": "1.5.0",
      "_model_name": "FloatProgressModel",
      "_view_count": null,
      "_view_module": "@jupyter-widgets/controls",
      "_view_module_version": "1.5.0",
      "_view_name": "ProgressView",
      "bar_style": "success",
      "description": "",
      "description_tooltip": null,
      "layout": "IPY_MODEL_15efdb83a5054e7f864c30ceeeb18e76",
      "max": 466062,
      "min": 0,
      "orientation": "horizontal",
      "style": "IPY_MODEL_a220c312efe640e6826254a402deb31c",
      "value": 466062
     }
    },
    "1b879c3f5895471fb1bf677a8d30fca3": {
     "model_module": "@jupyter-widgets/base",
     "model_module_version": "1.2.0",
     "model_name": "LayoutModel",
     "state": {
      "_model_module": "@jupyter-widgets/base",
      "_model_module_version": "1.2.0",
      "_model_name": "LayoutModel",
      "_view_count": null,
      "_view_module": "@jupyter-widgets/base",
      "_view_module_version": "1.2.0",
      "_view_name": "LayoutView",
      "align_content": null,
      "align_items": null,
      "align_self": null,
      "border": null,
      "bottom": null,
      "display": null,
      "flex": null,
      "flex_flow": null,
      "grid_area": null,
      "grid_auto_columns": null,
      "grid_auto_flow": null,
      "grid_auto_rows": null,
      "grid_column": null,
      "grid_gap": null,
      "grid_row": null,
      "grid_template_areas": null,
      "grid_template_columns": null,
      "grid_template_rows": null,
      "height": null,
      "justify_content": null,
      "justify_items": null,
      "left": null,
      "margin": null,
      "max_height": null,
      "max_width": null,
      "min_height": null,
      "min_width": null,
      "object_fit": null,
      "object_position": null,
      "order": null,
      "overflow": null,
      "overflow_x": null,
      "overflow_y": null,
      "padding": null,
      "right": null,
      "top": null,
      "visibility": null,
      "width": null
     }
    },
    "1c3cbc53065b44ae8f07b9f956313dcf": {
     "model_module": "@jupyter-widgets/base",
     "model_module_version": "1.2.0",
     "model_name": "LayoutModel",
     "state": {
      "_model_module": "@jupyter-widgets/base",
      "_model_module_version": "1.2.0",
      "_model_name": "LayoutModel",
      "_view_count": null,
      "_view_module": "@jupyter-widgets/base",
      "_view_module_version": "1.2.0",
      "_view_name": "LayoutView",
      "align_content": null,
      "align_items": null,
      "align_self": null,
      "border": null,
      "bottom": null,
      "display": null,
      "flex": null,
      "flex_flow": null,
      "grid_area": null,
      "grid_auto_columns": null,
      "grid_auto_flow": null,
      "grid_auto_rows": null,
      "grid_column": null,
      "grid_gap": null,
      "grid_row": null,
      "grid_template_areas": null,
      "grid_template_columns": null,
      "grid_template_rows": null,
      "height": null,
      "justify_content": null,
      "justify_items": null,
      "left": null,
      "margin": null,
      "max_height": null,
      "max_width": null,
      "min_height": null,
      "min_width": null,
      "object_fit": null,
      "object_position": null,
      "order": null,
      "overflow": null,
      "overflow_x": null,
      "overflow_y": null,
      "padding": null,
      "right": null,
      "top": null,
      "visibility": null,
      "width": null
     }
    },
    "1f572fa07acb4c4dbff0e748d0efac66": {
     "model_module": "@jupyter-widgets/base",
     "model_module_version": "1.2.0",
     "model_name": "LayoutModel",
     "state": {
      "_model_module": "@jupyter-widgets/base",
      "_model_module_version": "1.2.0",
      "_model_name": "LayoutModel",
      "_view_count": null,
      "_view_module": "@jupyter-widgets/base",
      "_view_module_version": "1.2.0",
      "_view_name": "LayoutView",
      "align_content": null,
      "align_items": null,
      "align_self": null,
      "border": null,
      "bottom": null,
      "display": null,
      "flex": null,
      "flex_flow": null,
      "grid_area": null,
      "grid_auto_columns": null,
      "grid_auto_flow": null,
      "grid_auto_rows": null,
      "grid_column": null,
      "grid_gap": null,
      "grid_row": null,
      "grid_template_areas": null,
      "grid_template_columns": null,
      "grid_template_rows": null,
      "height": null,
      "justify_content": null,
      "justify_items": null,
      "left": null,
      "margin": null,
      "max_height": null,
      "max_width": null,
      "min_height": null,
      "min_width": null,
      "object_fit": null,
      "object_position": null,
      "order": null,
      "overflow": null,
      "overflow_x": null,
      "overflow_y": null,
      "padding": null,
      "right": null,
      "top": null,
      "visibility": null,
      "width": null
     }
    },
    "1ff19e2d87844790a83fdef70033b00a": {
     "model_module": "@jupyter-widgets/controls",
     "model_module_version": "1.5.0",
     "model_name": "ProgressStyleModel",
     "state": {
      "_model_module": "@jupyter-widgets/controls",
      "_model_module_version": "1.5.0",
      "_model_name": "ProgressStyleModel",
      "_view_count": null,
      "_view_module": "@jupyter-widgets/base",
      "_view_module_version": "1.2.0",
      "_view_name": "StyleView",
      "bar_color": null,
      "description_width": ""
     }
    },
    "20a0c594f94d43aa91f6ecf60bae1c14": {
     "model_module": "@jupyter-widgets/controls",
     "model_module_version": "1.5.0",
     "model_name": "HBoxModel",
     "state": {
      "_dom_classes": [],
      "_model_module": "@jupyter-widgets/controls",
      "_model_module_version": "1.5.0",
      "_model_name": "HBoxModel",
      "_view_count": null,
      "_view_module": "@jupyter-widgets/controls",
      "_view_module_version": "1.5.0",
      "_view_name": "HBoxView",
      "box_style": "",
      "children": [
       "IPY_MODEL_747b2ec2cf19406280ebb562acb3170b",
       "IPY_MODEL_f33b6aba4ee44c388e0e0448d1102287",
       "IPY_MODEL_3798ff03b2e6471b9bb6bea1d010ea8f"
      ],
      "layout": "IPY_MODEL_03f3634718884deea7bd5cdf53eb0ec0"
     }
    },
    "20b7564678d247e49bef493ca78de5cb": {
     "model_module": "@jupyter-widgets/controls",
     "model_module_version": "1.5.0",
     "model_name": "DescriptionStyleModel",
     "state": {
      "_model_module": "@jupyter-widgets/controls",
      "_model_module_version": "1.5.0",
      "_model_name": "DescriptionStyleModel",
      "_view_count": null,
      "_view_module": "@jupyter-widgets/base",
      "_view_module_version": "1.2.0",
      "_view_name": "StyleView",
      "description_width": ""
     }
    },
    "229ed0a8495742b398d4d6a6a1377f84": {
     "model_module": "@jupyter-widgets/controls",
     "model_module_version": "1.5.0",
     "model_name": "ProgressStyleModel",
     "state": {
      "_model_module": "@jupyter-widgets/controls",
      "_model_module_version": "1.5.0",
      "_model_name": "ProgressStyleModel",
      "_view_count": null,
      "_view_module": "@jupyter-widgets/base",
      "_view_module_version": "1.2.0",
      "_view_name": "StyleView",
      "bar_color": null,
      "description_width": ""
     }
    },
    "2b7668b6ecc54d12be5c05eca4955604": {
     "model_module": "@jupyter-widgets/controls",
     "model_module_version": "1.5.0",
     "model_name": "DescriptionStyleModel",
     "state": {
      "_model_module": "@jupyter-widgets/controls",
      "_model_module_version": "1.5.0",
      "_model_name": "DescriptionStyleModel",
      "_view_count": null,
      "_view_module": "@jupyter-widgets/base",
      "_view_module_version": "1.2.0",
      "_view_name": "StyleView",
      "description_width": ""
     }
    },
    "2cc907e64f0f45f2b0b95a158b61109e": {
     "model_module": "@jupyter-widgets/base",
     "model_module_version": "1.2.0",
     "model_name": "LayoutModel",
     "state": {
      "_model_module": "@jupyter-widgets/base",
      "_model_module_version": "1.2.0",
      "_model_name": "LayoutModel",
      "_view_count": null,
      "_view_module": "@jupyter-widgets/base",
      "_view_module_version": "1.2.0",
      "_view_name": "LayoutView",
      "align_content": null,
      "align_items": null,
      "align_self": null,
      "border": null,
      "bottom": null,
      "display": null,
      "flex": null,
      "flex_flow": null,
      "grid_area": null,
      "grid_auto_columns": null,
      "grid_auto_flow": null,
      "grid_auto_rows": null,
      "grid_column": null,
      "grid_gap": null,
      "grid_row": null,
      "grid_template_areas": null,
      "grid_template_columns": null,
      "grid_template_rows": null,
      "height": null,
      "justify_content": null,
      "justify_items": null,
      "left": null,
      "margin": null,
      "max_height": null,
      "max_width": null,
      "min_height": null,
      "min_width": null,
      "object_fit": null,
      "object_position": null,
      "order": null,
      "overflow": null,
      "overflow_x": null,
      "overflow_y": null,
      "padding": null,
      "right": null,
      "top": null,
      "visibility": null,
      "width": null
     }
    },
    "2cda41ce0e8e41caafcc980e472642eb": {
     "model_module": "@jupyter-widgets/base",
     "model_module_version": "1.2.0",
     "model_name": "LayoutModel",
     "state": {
      "_model_module": "@jupyter-widgets/base",
      "_model_module_version": "1.2.0",
      "_model_name": "LayoutModel",
      "_view_count": null,
      "_view_module": "@jupyter-widgets/base",
      "_view_module_version": "1.2.0",
      "_view_name": "LayoutView",
      "align_content": null,
      "align_items": null,
      "align_self": null,
      "border": null,
      "bottom": null,
      "display": null,
      "flex": null,
      "flex_flow": null,
      "grid_area": null,
      "grid_auto_columns": null,
      "grid_auto_flow": null,
      "grid_auto_rows": null,
      "grid_column": null,
      "grid_gap": null,
      "grid_row": null,
      "grid_template_areas": null,
      "grid_template_columns": null,
      "grid_template_rows": null,
      "height": null,
      "justify_content": null,
      "justify_items": null,
      "left": null,
      "margin": null,
      "max_height": null,
      "max_width": null,
      "min_height": null,
      "min_width": null,
      "object_fit": null,
      "object_position": null,
      "order": null,
      "overflow": null,
      "overflow_x": null,
      "overflow_y": null,
      "padding": null,
      "right": null,
      "top": null,
      "visibility": null,
      "width": null
     }
    },
    "2d6d1a0b217d49f8b3024aec90224d46": {
     "model_module": "@jupyter-widgets/base",
     "model_module_version": "1.2.0",
     "model_name": "LayoutModel",
     "state": {
      "_model_module": "@jupyter-widgets/base",
      "_model_module_version": "1.2.0",
      "_model_name": "LayoutModel",
      "_view_count": null,
      "_view_module": "@jupyter-widgets/base",
      "_view_module_version": "1.2.0",
      "_view_name": "LayoutView",
      "align_content": null,
      "align_items": null,
      "align_self": null,
      "border": null,
      "bottom": null,
      "display": null,
      "flex": null,
      "flex_flow": null,
      "grid_area": null,
      "grid_auto_columns": null,
      "grid_auto_flow": null,
      "grid_auto_rows": null,
      "grid_column": null,
      "grid_gap": null,
      "grid_row": null,
      "grid_template_areas": null,
      "grid_template_columns": null,
      "grid_template_rows": null,
      "height": null,
      "justify_content": null,
      "justify_items": null,
      "left": null,
      "margin": null,
      "max_height": null,
      "max_width": null,
      "min_height": null,
      "min_width": null,
      "object_fit": null,
      "object_position": null,
      "order": null,
      "overflow": null,
      "overflow_x": null,
      "overflow_y": null,
      "padding": null,
      "right": null,
      "top": null,
      "visibility": null,
      "width": null
     }
    },
    "2eaa5934225e49d495f46e35843362d3": {
     "model_module": "@jupyter-widgets/base",
     "model_module_version": "1.2.0",
     "model_name": "LayoutModel",
     "state": {
      "_model_module": "@jupyter-widgets/base",
      "_model_module_version": "1.2.0",
      "_model_name": "LayoutModel",
      "_view_count": null,
      "_view_module": "@jupyter-widgets/base",
      "_view_module_version": "1.2.0",
      "_view_name": "LayoutView",
      "align_content": null,
      "align_items": null,
      "align_self": null,
      "border": null,
      "bottom": null,
      "display": null,
      "flex": null,
      "flex_flow": null,
      "grid_area": null,
      "grid_auto_columns": null,
      "grid_auto_flow": null,
      "grid_auto_rows": null,
      "grid_column": null,
      "grid_gap": null,
      "grid_row": null,
      "grid_template_areas": null,
      "grid_template_columns": null,
      "grid_template_rows": null,
      "height": null,
      "justify_content": null,
      "justify_items": null,
      "left": null,
      "margin": null,
      "max_height": null,
      "max_width": null,
      "min_height": null,
      "min_width": null,
      "object_fit": null,
      "object_position": null,
      "order": null,
      "overflow": null,
      "overflow_x": null,
      "overflow_y": null,
      "padding": null,
      "right": null,
      "top": null,
      "visibility": null,
      "width": null
     }
    },
    "341eb1bf11d54348949b7f456644009c": {
     "model_module": "@jupyter-widgets/controls",
     "model_module_version": "1.5.0",
     "model_name": "DescriptionStyleModel",
     "state": {
      "_model_module": "@jupyter-widgets/controls",
      "_model_module_version": "1.5.0",
      "_model_name": "DescriptionStyleModel",
      "_view_count": null,
      "_view_module": "@jupyter-widgets/base",
      "_view_module_version": "1.2.0",
      "_view_name": "StyleView",
      "description_width": ""
     }
    },
    "347f86e41cf1445d92afeb3699f984e8": {
     "model_module": "@jupyter-widgets/controls",
     "model_module_version": "1.5.0",
     "model_name": "HTMLModel",
     "state": {
      "_dom_classes": [],
      "_model_module": "@jupyter-widgets/controls",
      "_model_module_version": "1.5.0",
      "_model_name": "HTMLModel",
      "_view_count": null,
      "_view_module": "@jupyter-widgets/controls",
      "_view_module_version": "1.5.0",
      "_view_name": "HTMLView",
      "description": "",
      "description_tooltip": null,
      "layout": "IPY_MODEL_f960adfc410f49f7989d308750a8c8fe",
      "placeholder": "​",
      "style": "IPY_MODEL_fcca736a70db41c4868e763e1dcd70eb",
      "value": " 256M/256M [00:07&lt;00:00, 35.2MB/s]"
     }
    },
    "372906eae2c84c168f9db4a0c50b7f68": {
     "model_module": "@jupyter-widgets/base",
     "model_module_version": "1.2.0",
     "model_name": "LayoutModel",
     "state": {
      "_model_module": "@jupyter-widgets/base",
      "_model_module_version": "1.2.0",
      "_model_name": "LayoutModel",
      "_view_count": null,
      "_view_module": "@jupyter-widgets/base",
      "_view_module_version": "1.2.0",
      "_view_name": "LayoutView",
      "align_content": null,
      "align_items": null,
      "align_self": null,
      "border": null,
      "bottom": null,
      "display": null,
      "flex": null,
      "flex_flow": null,
      "grid_area": null,
      "grid_auto_columns": null,
      "grid_auto_flow": null,
      "grid_auto_rows": null,
      "grid_column": null,
      "grid_gap": null,
      "grid_row": null,
      "grid_template_areas": null,
      "grid_template_columns": null,
      "grid_template_rows": null,
      "height": null,
      "justify_content": null,
      "justify_items": null,
      "left": null,
      "margin": null,
      "max_height": null,
      "max_width": null,
      "min_height": null,
      "min_width": null,
      "object_fit": null,
      "object_position": null,
      "order": null,
      "overflow": null,
      "overflow_x": null,
      "overflow_y": null,
      "padding": null,
      "right": null,
      "top": null,
      "visibility": null,
      "width": null
     }
    },
    "3798ff03b2e6471b9bb6bea1d010ea8f": {
     "model_module": "@jupyter-widgets/controls",
     "model_module_version": "1.5.0",
     "model_name": "HTMLModel",
     "state": {
      "_dom_classes": [],
      "_model_module": "@jupyter-widgets/controls",
      "_model_module_version": "1.5.0",
      "_model_name": "HTMLModel",
      "_view_count": null,
      "_view_module": "@jupyter-widgets/controls",
      "_view_module_version": "1.5.0",
      "_view_name": "HTMLView",
      "description": "",
      "description_tooltip": null,
      "layout": "IPY_MODEL_16a6e1b8ff7a46a5bce54079e3d7fb77",
      "placeholder": "​",
      "style": "IPY_MODEL_ed9fd1495cfa4b9eb87a0ef01099f87a",
      "value": " 455k/455k [00:00&lt;00:00, 7.40MB/s]"
     }
    },
    "37b391285b3442859a8ac1cb7757fbf9": {
     "model_module": "@jupyter-widgets/controls",
     "model_module_version": "1.5.0",
     "model_name": "HTMLModel",
     "state": {
      "_dom_classes": [],
      "_model_module": "@jupyter-widgets/controls",
      "_model_module_version": "1.5.0",
      "_model_name": "HTMLModel",
      "_view_count": null,
      "_view_module": "@jupyter-widgets/controls",
      "_view_module_version": "1.5.0",
      "_view_name": "HTMLView",
      "description": "",
      "description_tooltip": null,
      "layout": "IPY_MODEL_d186e2356e054a3083e0734db63ab327",
      "placeholder": "​",
      "style": "IPY_MODEL_c1b5fe38f6bf4270baffb2c30cce2898",
      "value": " 27/27 [00:07&lt;00:00,  3.84ba/s]"
     }
    },
    "37ef23e66238488a95232b56c27e7c78": {
     "model_module": "@jupyter-widgets/controls",
     "model_module_version": "1.5.0",
     "model_name": "HBoxModel",
     "state": {
      "_dom_classes": [],
      "_model_module": "@jupyter-widgets/controls",
      "_model_module_version": "1.5.0",
      "_model_name": "HBoxModel",
      "_view_count": null,
      "_view_module": "@jupyter-widgets/controls",
      "_view_module_version": "1.5.0",
      "_view_name": "HBoxView",
      "box_style": "",
      "children": [
       "IPY_MODEL_ac7ebaed96474810a50b836746a54f67",
       "IPY_MODEL_e61f353a47e249f19fa1b54f4c848dd6",
       "IPY_MODEL_97a369a7b9fa4cafb1f4b83f96b2a609"
      ],
      "layout": "IPY_MODEL_1b879c3f5895471fb1bf677a8d30fca3"
     }
    },
    "38f9128f6bc341cea95eb6fdcf657cdc": {
     "model_module": "@jupyter-widgets/controls",
     "model_module_version": "1.5.0",
     "model_name": "DescriptionStyleModel",
     "state": {
      "_model_module": "@jupyter-widgets/controls",
      "_model_module_version": "1.5.0",
      "_model_name": "DescriptionStyleModel",
      "_view_count": null,
      "_view_module": "@jupyter-widgets/base",
      "_view_module_version": "1.2.0",
      "_view_name": "StyleView",
      "description_width": ""
     }
    },
    "39569c0c8fd94e63bd234bb158cbb4c3": {
     "model_module": "@jupyter-widgets/base",
     "model_module_version": "1.2.0",
     "model_name": "LayoutModel",
     "state": {
      "_model_module": "@jupyter-widgets/base",
      "_model_module_version": "1.2.0",
      "_model_name": "LayoutModel",
      "_view_count": null,
      "_view_module": "@jupyter-widgets/base",
      "_view_module_version": "1.2.0",
      "_view_name": "LayoutView",
      "align_content": null,
      "align_items": null,
      "align_self": null,
      "border": null,
      "bottom": null,
      "display": null,
      "flex": null,
      "flex_flow": null,
      "grid_area": null,
      "grid_auto_columns": null,
      "grid_auto_flow": null,
      "grid_auto_rows": null,
      "grid_column": null,
      "grid_gap": null,
      "grid_row": null,
      "grid_template_areas": null,
      "grid_template_columns": null,
      "grid_template_rows": null,
      "height": null,
      "justify_content": null,
      "justify_items": null,
      "left": null,
      "margin": null,
      "max_height": null,
      "max_width": null,
      "min_height": null,
      "min_width": null,
      "object_fit": null,
      "object_position": null,
      "order": null,
      "overflow": null,
      "overflow_x": null,
      "overflow_y": null,
      "padding": null,
      "right": null,
      "top": null,
      "visibility": null,
      "width": null
     }
    },
    "3a3a298c65fc4524b3fde3ff4c05f06e": {
     "model_module": "@jupyter-widgets/base",
     "model_module_version": "1.2.0",
     "model_name": "LayoutModel",
     "state": {
      "_model_module": "@jupyter-widgets/base",
      "_model_module_version": "1.2.0",
      "_model_name": "LayoutModel",
      "_view_count": null,
      "_view_module": "@jupyter-widgets/base",
      "_view_module_version": "1.2.0",
      "_view_name": "LayoutView",
      "align_content": null,
      "align_items": null,
      "align_self": null,
      "border": null,
      "bottom": null,
      "display": null,
      "flex": null,
      "flex_flow": null,
      "grid_area": null,
      "grid_auto_columns": null,
      "grid_auto_flow": null,
      "grid_auto_rows": null,
      "grid_column": null,
      "grid_gap": null,
      "grid_row": null,
      "grid_template_areas": null,
      "grid_template_columns": null,
      "grid_template_rows": null,
      "height": null,
      "justify_content": null,
      "justify_items": null,
      "left": null,
      "margin": null,
      "max_height": null,
      "max_width": null,
      "min_height": null,
      "min_width": null,
      "object_fit": null,
      "object_position": null,
      "order": null,
      "overflow": null,
      "overflow_x": null,
      "overflow_y": null,
      "padding": null,
      "right": null,
      "top": null,
      "visibility": null,
      "width": null
     }
    },
    "3b6c5363b81b49b5950eefe50b59dcbc": {
     "model_module": "@jupyter-widgets/controls",
     "model_module_version": "1.5.0",
     "model_name": "DescriptionStyleModel",
     "state": {
      "_model_module": "@jupyter-widgets/controls",
      "_model_module_version": "1.5.0",
      "_model_name": "DescriptionStyleModel",
      "_view_count": null,
      "_view_module": "@jupyter-widgets/base",
      "_view_module_version": "1.2.0",
      "_view_name": "StyleView",
      "description_width": ""
     }
    },
    "3c4c058f850e4f5da4c6b9fffe1c96b0": {
     "model_module": "@jupyter-widgets/controls",
     "model_module_version": "1.5.0",
     "model_name": "ProgressStyleModel",
     "state": {
      "_model_module": "@jupyter-widgets/controls",
      "_model_module_version": "1.5.0",
      "_model_name": "ProgressStyleModel",
      "_view_count": null,
      "_view_module": "@jupyter-widgets/base",
      "_view_module_version": "1.2.0",
      "_view_name": "StyleView",
      "bar_color": null,
      "description_width": ""
     }
    },
    "3cc3407305ca48b9a41a7c4b345a40bb": {
     "model_module": "@jupyter-widgets/base",
     "model_module_version": "1.2.0",
     "model_name": "LayoutModel",
     "state": {
      "_model_module": "@jupyter-widgets/base",
      "_model_module_version": "1.2.0",
      "_model_name": "LayoutModel",
      "_view_count": null,
      "_view_module": "@jupyter-widgets/base",
      "_view_module_version": "1.2.0",
      "_view_name": "LayoutView",
      "align_content": null,
      "align_items": null,
      "align_self": null,
      "border": null,
      "bottom": null,
      "display": null,
      "flex": null,
      "flex_flow": null,
      "grid_area": null,
      "grid_auto_columns": null,
      "grid_auto_flow": null,
      "grid_auto_rows": null,
      "grid_column": null,
      "grid_gap": null,
      "grid_row": null,
      "grid_template_areas": null,
      "grid_template_columns": null,
      "grid_template_rows": null,
      "height": null,
      "justify_content": null,
      "justify_items": null,
      "left": null,
      "margin": null,
      "max_height": null,
      "max_width": null,
      "min_height": null,
      "min_width": null,
      "object_fit": null,
      "object_position": null,
      "order": null,
      "overflow": null,
      "overflow_x": null,
      "overflow_y": null,
      "padding": null,
      "right": null,
      "top": null,
      "visibility": null,
      "width": null
     }
    },
    "3e01406b94574a9cbd8cee9635435a3a": {
     "model_module": "@jupyter-widgets/base",
     "model_module_version": "1.2.0",
     "model_name": "LayoutModel",
     "state": {
      "_model_module": "@jupyter-widgets/base",
      "_model_module_version": "1.2.0",
      "_model_name": "LayoutModel",
      "_view_count": null,
      "_view_module": "@jupyter-widgets/base",
      "_view_module_version": "1.2.0",
      "_view_name": "LayoutView",
      "align_content": null,
      "align_items": null,
      "align_self": null,
      "border": null,
      "bottom": null,
      "display": null,
      "flex": null,
      "flex_flow": null,
      "grid_area": null,
      "grid_auto_columns": null,
      "grid_auto_flow": null,
      "grid_auto_rows": null,
      "grid_column": null,
      "grid_gap": null,
      "grid_row": null,
      "grid_template_areas": null,
      "grid_template_columns": null,
      "grid_template_rows": null,
      "height": null,
      "justify_content": null,
      "justify_items": null,
      "left": null,
      "margin": null,
      "max_height": null,
      "max_width": null,
      "min_height": null,
      "min_width": null,
      "object_fit": null,
      "object_position": null,
      "order": null,
      "overflow": null,
      "overflow_x": null,
      "overflow_y": null,
      "padding": null,
      "right": null,
      "top": null,
      "visibility": null,
      "width": null
     }
    },
    "3e847e07eaaa4ff0b536a6cf0c9c176b": {
     "model_module": "@jupyter-widgets/controls",
     "model_module_version": "1.5.0",
     "model_name": "HTMLModel",
     "state": {
      "_dom_classes": [],
      "_model_module": "@jupyter-widgets/controls",
      "_model_module_version": "1.5.0",
      "_model_name": "HTMLModel",
      "_view_count": null,
      "_view_module": "@jupyter-widgets/controls",
      "_view_module_version": "1.5.0",
      "_view_name": "HTMLView",
      "description": "",
      "description_tooltip": null,
      "layout": "IPY_MODEL_11f574784caa4b4aa204fe20132c790b",
      "placeholder": "​",
      "style": "IPY_MODEL_71cccef224d548a6994d666e43df85ea",
      "value": " 28.0/28.0 [00:00&lt;00:00, 631B/s]"
     }
    },
    "3ed632fa145a4fe28d279964ebfe9f89": {
     "model_module": "@jupyter-widgets/controls",
     "model_module_version": "1.5.0",
     "model_name": "HTMLModel",
     "state": {
      "_dom_classes": [],
      "_model_module": "@jupyter-widgets/controls",
      "_model_module_version": "1.5.0",
      "_model_name": "HTMLModel",
      "_view_count": null,
      "_view_module": "@jupyter-widgets/controls",
      "_view_module_version": "1.5.0",
      "_view_name": "HTMLView",
      "description": "",
      "description_tooltip": null,
      "layout": "IPY_MODEL_e0fc8f5fe01d42fc80a809e4e50d727f",
      "placeholder": "​",
      "style": "IPY_MODEL_d5c167e1a6de416c9daee98d54ab2045",
      "value": "Downloading: 100%"
     }
    },
    "401f9d39f0ff47d0a72decc3abe0a3a6": {
     "model_module": "@jupyter-widgets/controls",
     "model_module_version": "1.5.0",
     "model_name": "FloatProgressModel",
     "state": {
      "_dom_classes": [],
      "_model_module": "@jupyter-widgets/controls",
      "_model_module_version": "1.5.0",
      "_model_name": "FloatProgressModel",
      "_view_count": null,
      "_view_module": "@jupyter-widgets/controls",
      "_view_module_version": "1.5.0",
      "_view_name": "ProgressView",
      "bar_style": "success",
      "description": "",
      "description_tooltip": null,
      "layout": "IPY_MODEL_e59a7e2367134342a7b74038137940c8",
      "max": 28,
      "min": 0,
      "orientation": "horizontal",
      "style": "IPY_MODEL_3c4c058f850e4f5da4c6b9fffe1c96b0",
      "value": 28
     }
    },
    "40eed408025a42c897e7bf4815997a8e": {
     "model_module": "@jupyter-widgets/controls",
     "model_module_version": "1.5.0",
     "model_name": "FloatProgressModel",
     "state": {
      "_dom_classes": [],
      "_model_module": "@jupyter-widgets/controls",
      "_model_module_version": "1.5.0",
      "_model_name": "FloatProgressModel",
      "_view_count": null,
      "_view_module": "@jupyter-widgets/controls",
      "_view_module_version": "1.5.0",
      "_view_name": "ProgressView",
      "bar_style": "success",
      "description": "",
      "description_tooltip": null,
      "layout": "IPY_MODEL_d9c9178852c14f258afa41be2229e0ce",
      "max": 570,
      "min": 0,
      "orientation": "horizontal",
      "style": "IPY_MODEL_1ff19e2d87844790a83fdef70033b00a",
      "value": 570
     }
    },
    "41663766b96f43c282afecaab1004eb7": {
     "model_module": "@jupyter-widgets/base",
     "model_module_version": "1.2.0",
     "model_name": "LayoutModel",
     "state": {
      "_model_module": "@jupyter-widgets/base",
      "_model_module_version": "1.2.0",
      "_model_name": "LayoutModel",
      "_view_count": null,
      "_view_module": "@jupyter-widgets/base",
      "_view_module_version": "1.2.0",
      "_view_name": "LayoutView",
      "align_content": null,
      "align_items": null,
      "align_self": null,
      "border": null,
      "bottom": null,
      "display": null,
      "flex": null,
      "flex_flow": null,
      "grid_area": null,
      "grid_auto_columns": null,
      "grid_auto_flow": null,
      "grid_auto_rows": null,
      "grid_column": null,
      "grid_gap": null,
      "grid_row": null,
      "grid_template_areas": null,
      "grid_template_columns": null,
      "grid_template_rows": null,
      "height": null,
      "justify_content": null,
      "justify_items": null,
      "left": null,
      "margin": null,
      "max_height": null,
      "max_width": null,
      "min_height": null,
      "min_width": null,
      "object_fit": null,
      "object_position": null,
      "order": null,
      "overflow": null,
      "overflow_x": null,
      "overflow_y": null,
      "padding": null,
      "right": null,
      "top": null,
      "visibility": null,
      "width": null
     }
    },
    "41d58f4202f148ec83f2721bc3cbb03c": {
     "model_module": "@jupyter-widgets/controls",
     "model_module_version": "1.5.0",
     "model_name": "HBoxModel",
     "state": {
      "_dom_classes": [],
      "_model_module": "@jupyter-widgets/controls",
      "_model_module_version": "1.5.0",
      "_model_name": "HBoxModel",
      "_view_count": null,
      "_view_module": "@jupyter-widgets/controls",
      "_view_module_version": "1.5.0",
      "_view_name": "HBoxView",
      "box_style": "",
      "children": [
       "IPY_MODEL_03db802f49ef4363accbe1c2e734e2f1",
       "IPY_MODEL_b57307190c31436aa24020d49ead64e2",
       "IPY_MODEL_f44ac8133fcc463d93d76b7c2e1cc4c4"
      ],
      "layout": "IPY_MODEL_1f572fa07acb4c4dbff0e748d0efac66"
     }
    },
    "4594aeaf02c84de79094c94e3858bde4": {
     "model_module": "@jupyter-widgets/controls",
     "model_module_version": "1.5.0",
     "model_name": "HBoxModel",
     "state": {
      "_dom_classes": [],
      "_model_module": "@jupyter-widgets/controls",
      "_model_module_version": "1.5.0",
      "_model_name": "HBoxModel",
      "_view_count": null,
      "_view_module": "@jupyter-widgets/controls",
      "_view_module_version": "1.5.0",
      "_view_name": "HBoxView",
      "box_style": "",
      "children": [
       "IPY_MODEL_1998e47552714d5ab131b7788ac579e9",
       "IPY_MODEL_04ffb2def7b942e282d4f6b1977acfd4",
       "IPY_MODEL_a073d1b3d5de44f89bac89f1bd4ddafb"
      ],
      "layout": "IPY_MODEL_8003ceec35a14d0b8fcfd8fe6d94098f"
     }
    },
    "45ee039a48f640cd8f09342756f2b76e": {
     "model_module": "@jupyter-widgets/controls",
     "model_module_version": "1.5.0",
     "model_name": "HBoxModel",
     "state": {
      "_dom_classes": [],
      "_model_module": "@jupyter-widgets/controls",
      "_model_module_version": "1.5.0",
      "_model_name": "HBoxModel",
      "_view_count": null,
      "_view_module": "@jupyter-widgets/controls",
      "_view_module_version": "1.5.0",
      "_view_name": "HBoxView",
      "box_style": "",
      "children": [
       "IPY_MODEL_7bba9350d5924f74acca66a03e24068f",
       "IPY_MODEL_401f9d39f0ff47d0a72decc3abe0a3a6",
       "IPY_MODEL_3e847e07eaaa4ff0b536a6cf0c9c176b"
      ],
      "layout": "IPY_MODEL_372906eae2c84c168f9db4a0c50b7f68"
     }
    },
    "45fee3204ccf492e9fb52894b18bce3a": {
     "model_module": "@jupyter-widgets/controls",
     "model_module_version": "1.5.0",
     "model_name": "HTMLModel",
     "state": {
      "_dom_classes": [],
      "_model_module": "@jupyter-widgets/controls",
      "_model_module_version": "1.5.0",
      "_model_name": "HTMLModel",
      "_view_count": null,
      "_view_module": "@jupyter-widgets/controls",
      "_view_module_version": "1.5.0",
      "_view_name": "HTMLView",
      "description": "",
      "description_tooltip": null,
      "layout": "IPY_MODEL_7b9d964387a5421b8106e2e500b58728",
      "placeholder": "​",
      "style": "IPY_MODEL_1410243977bc452399f654bdd056d841",
      "value": "Downloading: 100%"
     }
    },
    "49b5030490f640098284397332486e45": {
     "model_module": "@jupyter-widgets/base",
     "model_module_version": "1.2.0",
     "model_name": "LayoutModel",
     "state": {
      "_model_module": "@jupyter-widgets/base",
      "_model_module_version": "1.2.0",
      "_model_name": "LayoutModel",
      "_view_count": null,
      "_view_module": "@jupyter-widgets/base",
      "_view_module_version": "1.2.0",
      "_view_name": "LayoutView",
      "align_content": null,
      "align_items": null,
      "align_self": null,
      "border": null,
      "bottom": null,
      "display": null,
      "flex": null,
      "flex_flow": null,
      "grid_area": null,
      "grid_auto_columns": null,
      "grid_auto_flow": null,
      "grid_auto_rows": null,
      "grid_column": null,
      "grid_gap": null,
      "grid_row": null,
      "grid_template_areas": null,
      "grid_template_columns": null,
      "grid_template_rows": null,
      "height": null,
      "justify_content": null,
      "justify_items": null,
      "left": null,
      "margin": null,
      "max_height": null,
      "max_width": null,
      "min_height": null,
      "min_width": null,
      "object_fit": null,
      "object_position": null,
      "order": null,
      "overflow": null,
      "overflow_x": null,
      "overflow_y": null,
      "padding": null,
      "right": null,
      "top": null,
      "visibility": null,
      "width": null
     }
    },
    "4bff46612cbd44749043fa76922f1415": {
     "model_module": "@jupyter-widgets/controls",
     "model_module_version": "1.5.0",
     "model_name": "DescriptionStyleModel",
     "state": {
      "_model_module": "@jupyter-widgets/controls",
      "_model_module_version": "1.5.0",
      "_model_name": "DescriptionStyleModel",
      "_view_count": null,
      "_view_module": "@jupyter-widgets/base",
      "_view_module_version": "1.2.0",
      "_view_name": "StyleView",
      "description_width": ""
     }
    },
    "4f2a756b9eea464292d29b1e5d140a7c": {
     "model_module": "@jupyter-widgets/controls",
     "model_module_version": "1.5.0",
     "model_name": "DescriptionStyleModel",
     "state": {
      "_model_module": "@jupyter-widgets/controls",
      "_model_module_version": "1.5.0",
      "_model_name": "DescriptionStyleModel",
      "_view_count": null,
      "_view_module": "@jupyter-widgets/base",
      "_view_module_version": "1.2.0",
      "_view_name": "StyleView",
      "description_width": ""
     }
    },
    "5072e1ee1be14beea4f766db38a6e715": {
     "model_module": "@jupyter-widgets/controls",
     "model_module_version": "1.5.0",
     "model_name": "ProgressStyleModel",
     "state": {
      "_model_module": "@jupyter-widgets/controls",
      "_model_module_version": "1.5.0",
      "_model_name": "ProgressStyleModel",
      "_view_count": null,
      "_view_module": "@jupyter-widgets/base",
      "_view_module_version": "1.2.0",
      "_view_name": "StyleView",
      "bar_color": null,
      "description_width": ""
     }
    },
    "53746223590447cb9e60eb049d038abb": {
     "model_module": "@jupyter-widgets/base",
     "model_module_version": "1.2.0",
     "model_name": "LayoutModel",
     "state": {
      "_model_module": "@jupyter-widgets/base",
      "_model_module_version": "1.2.0",
      "_model_name": "LayoutModel",
      "_view_count": null,
      "_view_module": "@jupyter-widgets/base",
      "_view_module_version": "1.2.0",
      "_view_name": "LayoutView",
      "align_content": null,
      "align_items": null,
      "align_self": null,
      "border": null,
      "bottom": null,
      "display": null,
      "flex": null,
      "flex_flow": null,
      "grid_area": null,
      "grid_auto_columns": null,
      "grid_auto_flow": null,
      "grid_auto_rows": null,
      "grid_column": null,
      "grid_gap": null,
      "grid_row": null,
      "grid_template_areas": null,
      "grid_template_columns": null,
      "grid_template_rows": null,
      "height": null,
      "justify_content": null,
      "justify_items": null,
      "left": null,
      "margin": null,
      "max_height": null,
      "max_width": null,
      "min_height": null,
      "min_width": null,
      "object_fit": null,
      "object_position": null,
      "order": null,
      "overflow": null,
      "overflow_x": null,
      "overflow_y": null,
      "padding": null,
      "right": null,
      "top": null,
      "visibility": null,
      "width": null
     }
    },
    "568902ef4e5f445e9994412fe053ebdc": {
     "model_module": "@jupyter-widgets/base",
     "model_module_version": "1.2.0",
     "model_name": "LayoutModel",
     "state": {
      "_model_module": "@jupyter-widgets/base",
      "_model_module_version": "1.2.0",
      "_model_name": "LayoutModel",
      "_view_count": null,
      "_view_module": "@jupyter-widgets/base",
      "_view_module_version": "1.2.0",
      "_view_name": "LayoutView",
      "align_content": null,
      "align_items": null,
      "align_self": null,
      "border": null,
      "bottom": null,
      "display": null,
      "flex": null,
      "flex_flow": null,
      "grid_area": null,
      "grid_auto_columns": null,
      "grid_auto_flow": null,
      "grid_auto_rows": null,
      "grid_column": null,
      "grid_gap": null,
      "grid_row": null,
      "grid_template_areas": null,
      "grid_template_columns": null,
      "grid_template_rows": null,
      "height": null,
      "justify_content": null,
      "justify_items": null,
      "left": null,
      "margin": null,
      "max_height": null,
      "max_width": null,
      "min_height": null,
      "min_width": null,
      "object_fit": null,
      "object_position": null,
      "order": null,
      "overflow": null,
      "overflow_x": null,
      "overflow_y": null,
      "padding": null,
      "right": null,
      "top": null,
      "visibility": null,
      "width": null
     }
    },
    "56fa976ee0fe4e76bd50a4c68e249038": {
     "model_module": "@jupyter-widgets/controls",
     "model_module_version": "1.5.0",
     "model_name": "HTMLModel",
     "state": {
      "_dom_classes": [],
      "_model_module": "@jupyter-widgets/controls",
      "_model_module_version": "1.5.0",
      "_model_name": "HTMLModel",
      "_view_count": null,
      "_view_module": "@jupyter-widgets/controls",
      "_view_module_version": "1.5.0",
      "_view_name": "HTMLView",
      "description": "",
      "description_tooltip": null,
      "layout": "IPY_MODEL_ec986bcd534c46ba8957f2ba8b33e052",
      "placeholder": "​",
      "style": "IPY_MODEL_67bcc59e5c5c40cc9d71ad284f1d030c",
      "value": " 420M/420M [00:20&lt;00:00, 17.6MB/s]"
     }
    },
    "5a98e96e7a6d4df4a9354e7d4a1645eb": {
     "model_module": "@jupyter-widgets/controls",
     "model_module_version": "1.5.0",
     "model_name": "DescriptionStyleModel",
     "state": {
      "_model_module": "@jupyter-widgets/controls",
      "_model_module_version": "1.5.0",
      "_model_name": "DescriptionStyleModel",
      "_view_count": null,
      "_view_module": "@jupyter-widgets/base",
      "_view_module_version": "1.2.0",
      "_view_name": "StyleView",
      "description_width": ""
     }
    },
    "5aaa6bb220194387942505d7d7f4b186": {
     "model_module": "@jupyter-widgets/controls",
     "model_module_version": "1.5.0",
     "model_name": "ProgressStyleModel",
     "state": {
      "_model_module": "@jupyter-widgets/controls",
      "_model_module_version": "1.5.0",
      "_model_name": "ProgressStyleModel",
      "_view_count": null,
      "_view_module": "@jupyter-widgets/base",
      "_view_module_version": "1.2.0",
      "_view_name": "StyleView",
      "bar_color": null,
      "description_width": ""
     }
    },
    "5cc71f962fb64ef7bd6000aa18c48ed2": {
     "model_module": "@jupyter-widgets/base",
     "model_module_version": "1.2.0",
     "model_name": "LayoutModel",
     "state": {
      "_model_module": "@jupyter-widgets/base",
      "_model_module_version": "1.2.0",
      "_model_name": "LayoutModel",
      "_view_count": null,
      "_view_module": "@jupyter-widgets/base",
      "_view_module_version": "1.2.0",
      "_view_name": "LayoutView",
      "align_content": null,
      "align_items": null,
      "align_self": null,
      "border": null,
      "bottom": null,
      "display": null,
      "flex": null,
      "flex_flow": null,
      "grid_area": null,
      "grid_auto_columns": null,
      "grid_auto_flow": null,
      "grid_auto_rows": null,
      "grid_column": null,
      "grid_gap": null,
      "grid_row": null,
      "grid_template_areas": null,
      "grid_template_columns": null,
      "grid_template_rows": null,
      "height": null,
      "justify_content": null,
      "justify_items": null,
      "left": null,
      "margin": null,
      "max_height": null,
      "max_width": null,
      "min_height": null,
      "min_width": null,
      "object_fit": null,
      "object_position": null,
      "order": null,
      "overflow": null,
      "overflow_x": null,
      "overflow_y": null,
      "padding": null,
      "right": null,
      "top": null,
      "visibility": null,
      "width": null
     }
    },
    "5d29c5e8cbe44a44927e90afa4cffadd": {
     "model_module": "@jupyter-widgets/base",
     "model_module_version": "1.2.0",
     "model_name": "LayoutModel",
     "state": {
      "_model_module": "@jupyter-widgets/base",
      "_model_module_version": "1.2.0",
      "_model_name": "LayoutModel",
      "_view_count": null,
      "_view_module": "@jupyter-widgets/base",
      "_view_module_version": "1.2.0",
      "_view_name": "LayoutView",
      "align_content": null,
      "align_items": null,
      "align_self": null,
      "border": null,
      "bottom": null,
      "display": null,
      "flex": null,
      "flex_flow": null,
      "grid_area": null,
      "grid_auto_columns": null,
      "grid_auto_flow": null,
      "grid_auto_rows": null,
      "grid_column": null,
      "grid_gap": null,
      "grid_row": null,
      "grid_template_areas": null,
      "grid_template_columns": null,
      "grid_template_rows": null,
      "height": null,
      "justify_content": null,
      "justify_items": null,
      "left": null,
      "margin": null,
      "max_height": null,
      "max_width": null,
      "min_height": null,
      "min_width": null,
      "object_fit": null,
      "object_position": null,
      "order": null,
      "overflow": null,
      "overflow_x": null,
      "overflow_y": null,
      "padding": null,
      "right": null,
      "top": null,
      "visibility": null,
      "width": null
     }
    },
    "5d62ac1102604fe08107ef28e0958735": {
     "model_module": "@jupyter-widgets/controls",
     "model_module_version": "1.5.0",
     "model_name": "DescriptionStyleModel",
     "state": {
      "_model_module": "@jupyter-widgets/controls",
      "_model_module_version": "1.5.0",
      "_model_name": "DescriptionStyleModel",
      "_view_count": null,
      "_view_module": "@jupyter-widgets/base",
      "_view_module_version": "1.2.0",
      "_view_name": "StyleView",
      "description_width": ""
     }
    },
    "5e66258543b44fb58eef2611cc6cdc98": {
     "model_module": "@jupyter-widgets/controls",
     "model_module_version": "1.5.0",
     "model_name": "HTMLModel",
     "state": {
      "_dom_classes": [],
      "_model_module": "@jupyter-widgets/controls",
      "_model_module_version": "1.5.0",
      "_model_name": "HTMLModel",
      "_view_count": null,
      "_view_module": "@jupyter-widgets/controls",
      "_view_module_version": "1.5.0",
      "_view_name": "HTMLView",
      "description": "",
      "description_tooltip": null,
      "layout": "IPY_MODEL_f0053ff30ab9492c93eced0e3d2cbcf5",
      "placeholder": "​",
      "style": "IPY_MODEL_341eb1bf11d54348949b7f456644009c",
      "value": " 570/570 [00:00&lt;00:00, 16.6kB/s]"
     }
    },
    "5f1fa1d023ad4fb7a6c14c9e8e9bc2a9": {
     "model_module": "@jupyter-widgets/controls",
     "model_module_version": "1.5.0",
     "model_name": "DescriptionStyleModel",
     "state": {
      "_model_module": "@jupyter-widgets/controls",
      "_model_module_version": "1.5.0",
      "_model_name": "DescriptionStyleModel",
      "_view_count": null,
      "_view_module": "@jupyter-widgets/base",
      "_view_module_version": "1.2.0",
      "_view_name": "StyleView",
      "description_width": ""
     }
    },
    "61177a57e55741f49d2c1bdb3b318e7c": {
     "model_module": "@jupyter-widgets/controls",
     "model_module_version": "1.5.0",
     "model_name": "HTMLModel",
     "state": {
      "_dom_classes": [],
      "_model_module": "@jupyter-widgets/controls",
      "_model_module_version": "1.5.0",
      "_model_name": "HTMLModel",
      "_view_count": null,
      "_view_module": "@jupyter-widgets/controls",
      "_view_module_version": "1.5.0",
      "_view_name": "HTMLView",
      "description": "",
      "description_tooltip": null,
      "layout": "IPY_MODEL_6dff47cc71d741a99ebb3c985d256093",
      "placeholder": "​",
      "style": "IPY_MODEL_8c278d427a4a48ddaf0f6f595976fb1e",
      "value": "Downloading: 100%"
     }
    },
    "63dbc997ba9d4e3092484d5798cc13e0": {
     "model_module": "@jupyter-widgets/controls",
     "model_module_version": "1.5.0",
     "model_name": "DescriptionStyleModel",
     "state": {
      "_model_module": "@jupyter-widgets/controls",
      "_model_module_version": "1.5.0",
      "_model_name": "DescriptionStyleModel",
      "_view_count": null,
      "_view_module": "@jupyter-widgets/base",
      "_view_module_version": "1.2.0",
      "_view_name": "StyleView",
      "description_width": ""
     }
    },
    "65a7820841fd4e6e93270ec9548f9511": {
     "model_module": "@jupyter-widgets/base",
     "model_module_version": "1.2.0",
     "model_name": "LayoutModel",
     "state": {
      "_model_module": "@jupyter-widgets/base",
      "_model_module_version": "1.2.0",
      "_model_name": "LayoutModel",
      "_view_count": null,
      "_view_module": "@jupyter-widgets/base",
      "_view_module_version": "1.2.0",
      "_view_name": "LayoutView",
      "align_content": null,
      "align_items": null,
      "align_self": null,
      "border": null,
      "bottom": null,
      "display": null,
      "flex": null,
      "flex_flow": null,
      "grid_area": null,
      "grid_auto_columns": null,
      "grid_auto_flow": null,
      "grid_auto_rows": null,
      "grid_column": null,
      "grid_gap": null,
      "grid_row": null,
      "grid_template_areas": null,
      "grid_template_columns": null,
      "grid_template_rows": null,
      "height": null,
      "justify_content": null,
      "justify_items": null,
      "left": null,
      "margin": null,
      "max_height": null,
      "max_width": null,
      "min_height": null,
      "min_width": null,
      "object_fit": null,
      "object_position": null,
      "order": null,
      "overflow": null,
      "overflow_x": null,
      "overflow_y": null,
      "padding": null,
      "right": null,
      "top": null,
      "visibility": null,
      "width": null
     }
    },
    "67bcc59e5c5c40cc9d71ad284f1d030c": {
     "model_module": "@jupyter-widgets/controls",
     "model_module_version": "1.5.0",
     "model_name": "DescriptionStyleModel",
     "state": {
      "_model_module": "@jupyter-widgets/controls",
      "_model_module_version": "1.5.0",
      "_model_name": "DescriptionStyleModel",
      "_view_count": null,
      "_view_module": "@jupyter-widgets/base",
      "_view_module_version": "1.2.0",
      "_view_name": "StyleView",
      "description_width": ""
     }
    },
    "69b4a5c846b048e7aa134a6d716c08ca": {
     "model_module": "@jupyter-widgets/controls",
     "model_module_version": "1.5.0",
     "model_name": "HBoxModel",
     "state": {
      "_dom_classes": [],
      "_model_module": "@jupyter-widgets/controls",
      "_model_module_version": "1.5.0",
      "_model_name": "HBoxModel",
      "_view_count": null,
      "_view_module": "@jupyter-widgets/controls",
      "_view_module_version": "1.5.0",
      "_view_name": "HBoxView",
      "box_style": "",
      "children": [
       "IPY_MODEL_61177a57e55741f49d2c1bdb3b318e7c",
       "IPY_MODEL_eef39141670948caa72973b08a000b84",
       "IPY_MODEL_cabff1292ba6461f9557f1075b1b3853"
      ],
      "layout": "IPY_MODEL_0703a0d945fb4162a419823ad12a70e3"
     }
    },
    "69c645ebbeb04a0489354c6be9a26ba1": {
     "model_module": "@jupyter-widgets/controls",
     "model_module_version": "1.5.0",
     "model_name": "HBoxModel",
     "state": {
      "_dom_classes": [],
      "_model_module": "@jupyter-widgets/controls",
      "_model_module_version": "1.5.0",
      "_model_name": "HBoxModel",
      "_view_count": null,
      "_view_module": "@jupyter-widgets/controls",
      "_view_module_version": "1.5.0",
      "_view_name": "HBoxView",
      "box_style": "",
      "children": [
       "IPY_MODEL_fad96a3d7c7642fbb30ccc4a6d83f398",
       "IPY_MODEL_19ffed1c3b734c5bac15c6fd27c5fd04",
       "IPY_MODEL_975950f5c80344c9a6f05738e9527bde"
      ],
      "layout": "IPY_MODEL_b14c0603c58a4e828e782757f0bda2dc"
     }
    },
    "6ae494790bcf4194aa266dadfe96d5c8": {
     "model_module": "@jupyter-widgets/controls",
     "model_module_version": "1.5.0",
     "model_name": "ProgressStyleModel",
     "state": {
      "_model_module": "@jupyter-widgets/controls",
      "_model_module_version": "1.5.0",
      "_model_name": "ProgressStyleModel",
      "_view_count": null,
      "_view_module": "@jupyter-widgets/base",
      "_view_module_version": "1.2.0",
      "_view_name": "StyleView",
      "bar_color": null,
      "description_width": ""
     }
    },
    "6be30a7eb06b498bbd3d44f5dfaf5e4a": {
     "model_module": "@jupyter-widgets/base",
     "model_module_version": "1.2.0",
     "model_name": "LayoutModel",
     "state": {
      "_model_module": "@jupyter-widgets/base",
      "_model_module_version": "1.2.0",
      "_model_name": "LayoutModel",
      "_view_count": null,
      "_view_module": "@jupyter-widgets/base",
      "_view_module_version": "1.2.0",
      "_view_name": "LayoutView",
      "align_content": null,
      "align_items": null,
      "align_self": null,
      "border": null,
      "bottom": null,
      "display": null,
      "flex": null,
      "flex_flow": null,
      "grid_area": null,
      "grid_auto_columns": null,
      "grid_auto_flow": null,
      "grid_auto_rows": null,
      "grid_column": null,
      "grid_gap": null,
      "grid_row": null,
      "grid_template_areas": null,
      "grid_template_columns": null,
      "grid_template_rows": null,
      "height": null,
      "justify_content": null,
      "justify_items": null,
      "left": null,
      "margin": null,
      "max_height": null,
      "max_width": null,
      "min_height": null,
      "min_width": null,
      "object_fit": null,
      "object_position": null,
      "order": null,
      "overflow": null,
      "overflow_x": null,
      "overflow_y": null,
      "padding": null,
      "right": null,
      "top": null,
      "visibility": null,
      "width": null
     }
    },
    "6dff47cc71d741a99ebb3c985d256093": {
     "model_module": "@jupyter-widgets/base",
     "model_module_version": "1.2.0",
     "model_name": "LayoutModel",
     "state": {
      "_model_module": "@jupyter-widgets/base",
      "_model_module_version": "1.2.0",
      "_model_name": "LayoutModel",
      "_view_count": null,
      "_view_module": "@jupyter-widgets/base",
      "_view_module_version": "1.2.0",
      "_view_name": "LayoutView",
      "align_content": null,
      "align_items": null,
      "align_self": null,
      "border": null,
      "bottom": null,
      "display": null,
      "flex": null,
      "flex_flow": null,
      "grid_area": null,
      "grid_auto_columns": null,
      "grid_auto_flow": null,
      "grid_auto_rows": null,
      "grid_column": null,
      "grid_gap": null,
      "grid_row": null,
      "grid_template_areas": null,
      "grid_template_columns": null,
      "grid_template_rows": null,
      "height": null,
      "justify_content": null,
      "justify_items": null,
      "left": null,
      "margin": null,
      "max_height": null,
      "max_width": null,
      "min_height": null,
      "min_width": null,
      "object_fit": null,
      "object_position": null,
      "order": null,
      "overflow": null,
      "overflow_x": null,
      "overflow_y": null,
      "padding": null,
      "right": null,
      "top": null,
      "visibility": null,
      "width": null
     }
    },
    "71cccef224d548a6994d666e43df85ea": {
     "model_module": "@jupyter-widgets/controls",
     "model_module_version": "1.5.0",
     "model_name": "DescriptionStyleModel",
     "state": {
      "_model_module": "@jupyter-widgets/controls",
      "_model_module_version": "1.5.0",
      "_model_name": "DescriptionStyleModel",
      "_view_count": null,
      "_view_module": "@jupyter-widgets/base",
      "_view_module_version": "1.2.0",
      "_view_name": "StyleView",
      "description_width": ""
     }
    },
    "747b2ec2cf19406280ebb562acb3170b": {
     "model_module": "@jupyter-widgets/controls",
     "model_module_version": "1.5.0",
     "model_name": "HTMLModel",
     "state": {
      "_dom_classes": [],
      "_model_module": "@jupyter-widgets/controls",
      "_model_module_version": "1.5.0",
      "_model_name": "HTMLModel",
      "_view_count": null,
      "_view_module": "@jupyter-widgets/controls",
      "_view_module_version": "1.5.0",
      "_view_name": "HTMLView",
      "description": "",
      "description_tooltip": null,
      "layout": "IPY_MODEL_b96601d38af24183a9e0d8b1856afad6",
      "placeholder": "​",
      "style": "IPY_MODEL_2b7668b6ecc54d12be5c05eca4955604",
      "value": "Downloading: 100%"
     }
    },
    "79a9da97de344358952e2a8bdf8d95ff": {
     "model_module": "@jupyter-widgets/controls",
     "model_module_version": "1.5.0",
     "model_name": "HTMLModel",
     "state": {
      "_dom_classes": [],
      "_model_module": "@jupyter-widgets/controls",
      "_model_module_version": "1.5.0",
      "_model_name": "HTMLModel",
      "_view_count": null,
      "_view_module": "@jupyter-widgets/controls",
      "_view_module_version": "1.5.0",
      "_view_name": "HTMLView",
      "description": "",
      "description_tooltip": null,
      "layout": "IPY_MODEL_a72bbd215c034f89bec2019e379faa42",
      "placeholder": "​",
      "style": "IPY_MODEL_7b266f6699c84405b64a5410e585f26f",
      "value": " 420M/420M [00:28&lt;00:00, 29.5MB/s]"
     }
    },
    "7b266f6699c84405b64a5410e585f26f": {
     "model_module": "@jupyter-widgets/controls",
     "model_module_version": "1.5.0",
     "model_name": "DescriptionStyleModel",
     "state": {
      "_model_module": "@jupyter-widgets/controls",
      "_model_module_version": "1.5.0",
      "_model_name": "DescriptionStyleModel",
      "_view_count": null,
      "_view_module": "@jupyter-widgets/base",
      "_view_module_version": "1.2.0",
      "_view_name": "StyleView",
      "description_width": ""
     }
    },
    "7b9d964387a5421b8106e2e500b58728": {
     "model_module": "@jupyter-widgets/base",
     "model_module_version": "1.2.0",
     "model_name": "LayoutModel",
     "state": {
      "_model_module": "@jupyter-widgets/base",
      "_model_module_version": "1.2.0",
      "_model_name": "LayoutModel",
      "_view_count": null,
      "_view_module": "@jupyter-widgets/base",
      "_view_module_version": "1.2.0",
      "_view_name": "LayoutView",
      "align_content": null,
      "align_items": null,
      "align_self": null,
      "border": null,
      "bottom": null,
      "display": null,
      "flex": null,
      "flex_flow": null,
      "grid_area": null,
      "grid_auto_columns": null,
      "grid_auto_flow": null,
      "grid_auto_rows": null,
      "grid_column": null,
      "grid_gap": null,
      "grid_row": null,
      "grid_template_areas": null,
      "grid_template_columns": null,
      "grid_template_rows": null,
      "height": null,
      "justify_content": null,
      "justify_items": null,
      "left": null,
      "margin": null,
      "max_height": null,
      "max_width": null,
      "min_height": null,
      "min_width": null,
      "object_fit": null,
      "object_position": null,
      "order": null,
      "overflow": null,
      "overflow_x": null,
      "overflow_y": null,
      "padding": null,
      "right": null,
      "top": null,
      "visibility": null,
      "width": null
     }
    },
    "7bba9350d5924f74acca66a03e24068f": {
     "model_module": "@jupyter-widgets/controls",
     "model_module_version": "1.5.0",
     "model_name": "HTMLModel",
     "state": {
      "_dom_classes": [],
      "_model_module": "@jupyter-widgets/controls",
      "_model_module_version": "1.5.0",
      "_model_name": "HTMLModel",
      "_view_count": null,
      "_view_module": "@jupyter-widgets/controls",
      "_view_module_version": "1.5.0",
      "_view_name": "HTMLView",
      "description": "",
      "description_tooltip": null,
      "layout": "IPY_MODEL_07cb42ad929f46198267480eb9e4837e",
      "placeholder": "​",
      "style": "IPY_MODEL_c9d8523a488e4d0c888742c6d9b57ff5",
      "value": "Downloading: 100%"
     }
    },
    "7eb7e291fcae41dc9b6198c18d04410d": {
     "model_module": "@jupyter-widgets/base",
     "model_module_version": "1.2.0",
     "model_name": "LayoutModel",
     "state": {
      "_model_module": "@jupyter-widgets/base",
      "_model_module_version": "1.2.0",
      "_model_name": "LayoutModel",
      "_view_count": null,
      "_view_module": "@jupyter-widgets/base",
      "_view_module_version": "1.2.0",
      "_view_name": "LayoutView",
      "align_content": null,
      "align_items": null,
      "align_self": null,
      "border": null,
      "bottom": null,
      "display": null,
      "flex": null,
      "flex_flow": null,
      "grid_area": null,
      "grid_auto_columns": null,
      "grid_auto_flow": null,
      "grid_auto_rows": null,
      "grid_column": null,
      "grid_gap": null,
      "grid_row": null,
      "grid_template_areas": null,
      "grid_template_columns": null,
      "grid_template_rows": null,
      "height": null,
      "justify_content": null,
      "justify_items": null,
      "left": null,
      "margin": null,
      "max_height": null,
      "max_width": null,
      "min_height": null,
      "min_width": null,
      "object_fit": null,
      "object_position": null,
      "order": null,
      "overflow": null,
      "overflow_x": null,
      "overflow_y": null,
      "padding": null,
      "right": null,
      "top": null,
      "visibility": null,
      "width": null
     }
    },
    "7f66dea3d99f41e786ccd01fa4abf25a": {
     "model_module": "@jupyter-widgets/controls",
     "model_module_version": "1.5.0",
     "model_name": "DescriptionStyleModel",
     "state": {
      "_model_module": "@jupyter-widgets/controls",
      "_model_module_version": "1.5.0",
      "_model_name": "DescriptionStyleModel",
      "_view_count": null,
      "_view_module": "@jupyter-widgets/base",
      "_view_module_version": "1.2.0",
      "_view_name": "StyleView",
      "description_width": ""
     }
    },
    "8003ceec35a14d0b8fcfd8fe6d94098f": {
     "model_module": "@jupyter-widgets/base",
     "model_module_version": "1.2.0",
     "model_name": "LayoutModel",
     "state": {
      "_model_module": "@jupyter-widgets/base",
      "_model_module_version": "1.2.0",
      "_model_name": "LayoutModel",
      "_view_count": null,
      "_view_module": "@jupyter-widgets/base",
      "_view_module_version": "1.2.0",
      "_view_name": "LayoutView",
      "align_content": null,
      "align_items": null,
      "align_self": null,
      "border": null,
      "bottom": null,
      "display": null,
      "flex": null,
      "flex_flow": null,
      "grid_area": null,
      "grid_auto_columns": null,
      "grid_auto_flow": null,
      "grid_auto_rows": null,
      "grid_column": null,
      "grid_gap": null,
      "grid_row": null,
      "grid_template_areas": null,
      "grid_template_columns": null,
      "grid_template_rows": null,
      "height": null,
      "justify_content": null,
      "justify_items": null,
      "left": null,
      "margin": null,
      "max_height": null,
      "max_width": null,
      "min_height": null,
      "min_width": null,
      "object_fit": null,
      "object_position": null,
      "order": null,
      "overflow": null,
      "overflow_x": null,
      "overflow_y": null,
      "padding": null,
      "right": null,
      "top": null,
      "visibility": null,
      "width": null
     }
    },
    "80134e1d133347e4aafe3c24462efd26": {
     "model_module": "@jupyter-widgets/controls",
     "model_module_version": "1.5.0",
     "model_name": "ProgressStyleModel",
     "state": {
      "_model_module": "@jupyter-widgets/controls",
      "_model_module_version": "1.5.0",
      "_model_name": "ProgressStyleModel",
      "_view_count": null,
      "_view_module": "@jupyter-widgets/base",
      "_view_module_version": "1.2.0",
      "_view_name": "StyleView",
      "bar_color": null,
      "description_width": ""
     }
    },
    "82e401fb98d54866aa294f65914a7d71": {
     "model_module": "@jupyter-widgets/controls",
     "model_module_version": "1.5.0",
     "model_name": "HBoxModel",
     "state": {
      "_dom_classes": [],
      "_model_module": "@jupyter-widgets/controls",
      "_model_module_version": "1.5.0",
      "_model_name": "HBoxModel",
      "_view_count": null,
      "_view_module": "@jupyter-widgets/controls",
      "_view_module_version": "1.5.0",
      "_view_name": "HBoxView",
      "box_style": "",
      "children": [
       "IPY_MODEL_04ba955913534ad5a1e4e847480e0d4d",
       "IPY_MODEL_8621990c73fe49998072586290d5e66a",
       "IPY_MODEL_37b391285b3442859a8ac1cb7757fbf9"
      ],
      "layout": "IPY_MODEL_6be30a7eb06b498bbd3d44f5dfaf5e4a"
     }
    },
    "84ab62c21647474fb5cc3d6c2372f7d9": {
     "model_module": "@jupyter-widgets/controls",
     "model_module_version": "1.5.0",
     "model_name": "HBoxModel",
     "state": {
      "_dom_classes": [],
      "_model_module": "@jupyter-widgets/controls",
      "_model_module_version": "1.5.0",
      "_model_name": "HBoxModel",
      "_view_count": null,
      "_view_module": "@jupyter-widgets/controls",
      "_view_module_version": "1.5.0",
      "_view_name": "HBoxView",
      "box_style": "",
      "children": [
       "IPY_MODEL_f30100470b18440bbca94852b5823295",
       "IPY_MODEL_d3a6e709ef89454baeac90961e1f6d0f",
       "IPY_MODEL_a8e68dd52f354b5daf95c3314fb92682"
      ],
      "layout": "IPY_MODEL_3cc3407305ca48b9a41a7c4b345a40bb"
     }
    },
    "8621990c73fe49998072586290d5e66a": {
     "model_module": "@jupyter-widgets/controls",
     "model_module_version": "1.5.0",
     "model_name": "FloatProgressModel",
     "state": {
      "_dom_classes": [],
      "_model_module": "@jupyter-widgets/controls",
      "_model_module_version": "1.5.0",
      "_model_name": "FloatProgressModel",
      "_view_count": null,
      "_view_module": "@jupyter-widgets/controls",
      "_view_module_version": "1.5.0",
      "_view_name": "ProgressView",
      "bar_style": "success",
      "description": "",
      "description_tooltip": null,
      "layout": "IPY_MODEL_dec96f849a624bc2b13f9c20966421b3",
      "max": 27,
      "min": 0,
      "orientation": "horizontal",
      "style": "IPY_MODEL_5072e1ee1be14beea4f766db38a6e715",
      "value": 27
     }
    },
    "8ad6b5a11ea543339bef802a5698606c": {
     "model_module": "@jupyter-widgets/controls",
     "model_module_version": "1.5.0",
     "model_name": "HTMLModel",
     "state": {
      "_dom_classes": [],
      "_model_module": "@jupyter-widgets/controls",
      "_model_module_version": "1.5.0",
      "_model_name": "HTMLModel",
      "_view_count": null,
      "_view_module": "@jupyter-widgets/controls",
      "_view_module_version": "1.5.0",
      "_view_name": "HTMLView",
      "description": "",
      "description_tooltip": null,
      "layout": "IPY_MODEL_fa6c9c457eed44a2b7e40d5eb88c908f",
      "placeholder": "​",
      "style": "IPY_MODEL_5a98e96e7a6d4df4a9354e7d4a1645eb",
      "value": "Downloading: 100%"
     }
    },
    "8c278d427a4a48ddaf0f6f595976fb1e": {
     "model_module": "@jupyter-widgets/controls",
     "model_module_version": "1.5.0",
     "model_name": "DescriptionStyleModel",
     "state": {
      "_model_module": "@jupyter-widgets/controls",
      "_model_module_version": "1.5.0",
      "_model_name": "DescriptionStyleModel",
      "_view_count": null,
      "_view_module": "@jupyter-widgets/base",
      "_view_module_version": "1.2.0",
      "_view_name": "StyleView",
      "description_width": ""
     }
    },
    "8d0c2f939f0f4fe08854923067e4432d": {
     "model_module": "@jupyter-widgets/base",
     "model_module_version": "1.2.0",
     "model_name": "LayoutModel",
     "state": {
      "_model_module": "@jupyter-widgets/base",
      "_model_module_version": "1.2.0",
      "_model_name": "LayoutModel",
      "_view_count": null,
      "_view_module": "@jupyter-widgets/base",
      "_view_module_version": "1.2.0",
      "_view_name": "LayoutView",
      "align_content": null,
      "align_items": null,
      "align_self": null,
      "border": null,
      "bottom": null,
      "display": null,
      "flex": null,
      "flex_flow": null,
      "grid_area": null,
      "grid_auto_columns": null,
      "grid_auto_flow": null,
      "grid_auto_rows": null,
      "grid_column": null,
      "grid_gap": null,
      "grid_row": null,
      "grid_template_areas": null,
      "grid_template_columns": null,
      "grid_template_rows": null,
      "height": null,
      "justify_content": null,
      "justify_items": null,
      "left": null,
      "margin": null,
      "max_height": null,
      "max_width": null,
      "min_height": null,
      "min_width": null,
      "object_fit": null,
      "object_position": null,
      "order": null,
      "overflow": null,
      "overflow_x": null,
      "overflow_y": null,
      "padding": null,
      "right": null,
      "top": null,
      "visibility": null,
      "width": null
     }
    },
    "90337933bb7749ecaa3a94967f20e0ab": {
     "model_module": "@jupyter-widgets/base",
     "model_module_version": "1.2.0",
     "model_name": "LayoutModel",
     "state": {
      "_model_module": "@jupyter-widgets/base",
      "_model_module_version": "1.2.0",
      "_model_name": "LayoutModel",
      "_view_count": null,
      "_view_module": "@jupyter-widgets/base",
      "_view_module_version": "1.2.0",
      "_view_name": "LayoutView",
      "align_content": null,
      "align_items": null,
      "align_self": null,
      "border": null,
      "bottom": null,
      "display": null,
      "flex": null,
      "flex_flow": null,
      "grid_area": null,
      "grid_auto_columns": null,
      "grid_auto_flow": null,
      "grid_auto_rows": null,
      "grid_column": null,
      "grid_gap": null,
      "grid_row": null,
      "grid_template_areas": null,
      "grid_template_columns": null,
      "grid_template_rows": null,
      "height": null,
      "justify_content": null,
      "justify_items": null,
      "left": null,
      "margin": null,
      "max_height": null,
      "max_width": null,
      "min_height": null,
      "min_width": null,
      "object_fit": null,
      "object_position": null,
      "order": null,
      "overflow": null,
      "overflow_x": null,
      "overflow_y": null,
      "padding": null,
      "right": null,
      "top": null,
      "visibility": null,
      "width": null
     }
    },
    "90facdbea4ad47b59b140db6e5f1d693": {
     "model_module": "@jupyter-widgets/controls",
     "model_module_version": "1.5.0",
     "model_name": "FloatProgressModel",
     "state": {
      "_dom_classes": [],
      "_model_module": "@jupyter-widgets/controls",
      "_model_module_version": "1.5.0",
      "_model_name": "FloatProgressModel",
      "_view_count": null,
      "_view_module": "@jupyter-widgets/controls",
      "_view_module_version": "1.5.0",
      "_view_name": "ProgressView",
      "bar_style": "success",
      "description": "",
      "description_tooltip": null,
      "layout": "IPY_MODEL_9153239128b24d0f9870a995874ff337",
      "max": 440473133,
      "min": 0,
      "orientation": "horizontal",
      "style": "IPY_MODEL_229ed0a8495742b398d4d6a6a1377f84",
      "value": 440473133
     }
    },
    "91245321f04e4a1db990b7146c58b06d": {
     "model_module": "@jupyter-widgets/base",
     "model_module_version": "1.2.0",
     "model_name": "LayoutModel",
     "state": {
      "_model_module": "@jupyter-widgets/base",
      "_model_module_version": "1.2.0",
      "_model_name": "LayoutModel",
      "_view_count": null,
      "_view_module": "@jupyter-widgets/base",
      "_view_module_version": "1.2.0",
      "_view_name": "LayoutView",
      "align_content": null,
      "align_items": null,
      "align_self": null,
      "border": null,
      "bottom": null,
      "display": null,
      "flex": null,
      "flex_flow": null,
      "grid_area": null,
      "grid_auto_columns": null,
      "grid_auto_flow": null,
      "grid_auto_rows": null,
      "grid_column": null,
      "grid_gap": null,
      "grid_row": null,
      "grid_template_areas": null,
      "grid_template_columns": null,
      "grid_template_rows": null,
      "height": null,
      "justify_content": null,
      "justify_items": null,
      "left": null,
      "margin": null,
      "max_height": null,
      "max_width": null,
      "min_height": null,
      "min_width": null,
      "object_fit": null,
      "object_position": null,
      "order": null,
      "overflow": null,
      "overflow_x": null,
      "overflow_y": null,
      "padding": null,
      "right": null,
      "top": null,
      "visibility": null,
      "width": null
     }
    },
    "9153239128b24d0f9870a995874ff337": {
     "model_module": "@jupyter-widgets/base",
     "model_module_version": "1.2.0",
     "model_name": "LayoutModel",
     "state": {
      "_model_module": "@jupyter-widgets/base",
      "_model_module_version": "1.2.0",
      "_model_name": "LayoutModel",
      "_view_count": null,
      "_view_module": "@jupyter-widgets/base",
      "_view_module_version": "1.2.0",
      "_view_name": "LayoutView",
      "align_content": null,
      "align_items": null,
      "align_self": null,
      "border": null,
      "bottom": null,
      "display": null,
      "flex": null,
      "flex_flow": null,
      "grid_area": null,
      "grid_auto_columns": null,
      "grid_auto_flow": null,
      "grid_auto_rows": null,
      "grid_column": null,
      "grid_gap": null,
      "grid_row": null,
      "grid_template_areas": null,
      "grid_template_columns": null,
      "grid_template_rows": null,
      "height": null,
      "justify_content": null,
      "justify_items": null,
      "left": null,
      "margin": null,
      "max_height": null,
      "max_width": null,
      "min_height": null,
      "min_width": null,
      "object_fit": null,
      "object_position": null,
      "order": null,
      "overflow": null,
      "overflow_x": null,
      "overflow_y": null,
      "padding": null,
      "right": null,
      "top": null,
      "visibility": null,
      "width": null
     }
    },
    "922e4e77be234cbdb12f0b47ad7551f0": {
     "model_module": "@jupyter-widgets/controls",
     "model_module_version": "1.5.0",
     "model_name": "ProgressStyleModel",
     "state": {
      "_model_module": "@jupyter-widgets/controls",
      "_model_module_version": "1.5.0",
      "_model_name": "ProgressStyleModel",
      "_view_count": null,
      "_view_module": "@jupyter-widgets/base",
      "_view_module_version": "1.2.0",
      "_view_name": "StyleView",
      "bar_color": null,
      "description_width": ""
     }
    },
    "945f2d7383f24592aa346cb9de625567": {
     "model_module": "@jupyter-widgets/controls",
     "model_module_version": "1.5.0",
     "model_name": "HTMLModel",
     "state": {
      "_dom_classes": [],
      "_model_module": "@jupyter-widgets/controls",
      "_model_module_version": "1.5.0",
      "_model_name": "HTMLModel",
      "_view_count": null,
      "_view_module": "@jupyter-widgets/controls",
      "_view_module_version": "1.5.0",
      "_view_name": "HTMLView",
      "description": "",
      "description_tooltip": null,
      "layout": "IPY_MODEL_65a7820841fd4e6e93270ec9548f9511",
      "placeholder": "​",
      "style": "IPY_MODEL_7f66dea3d99f41e786ccd01fa4abf25a",
      "value": "Downloading: 100%"
     }
    },
    "975950f5c80344c9a6f05738e9527bde": {
     "model_module": "@jupyter-widgets/controls",
     "model_module_version": "1.5.0",
     "model_name": "HTMLModel",
     "state": {
      "_dom_classes": [],
      "_model_module": "@jupyter-widgets/controls",
      "_model_module_version": "1.5.0",
      "_model_name": "HTMLModel",
      "_view_count": null,
      "_view_module": "@jupyter-widgets/controls",
      "_view_module_version": "1.5.0",
      "_view_name": "HTMLView",
      "description": "",
      "description_tooltip": null,
      "layout": "IPY_MODEL_7eb7e291fcae41dc9b6198c18d04410d",
      "placeholder": "​",
      "style": "IPY_MODEL_5d62ac1102604fe08107ef28e0958735",
      "value": " 455k/455k [00:00&lt;00:00, 7.63MB/s]"
     }
    },
    "97a369a7b9fa4cafb1f4b83f96b2a609": {
     "model_module": "@jupyter-widgets/controls",
     "model_module_version": "1.5.0",
     "model_name": "HTMLModel",
     "state": {
      "_dom_classes": [],
      "_model_module": "@jupyter-widgets/controls",
      "_model_module_version": "1.5.0",
      "_model_name": "HTMLModel",
      "_view_count": null,
      "_view_module": "@jupyter-widgets/controls",
      "_view_module_version": "1.5.0",
      "_view_name": "HTMLView",
      "description": "",
      "description_tooltip": null,
      "layout": "IPY_MODEL_2cda41ce0e8e41caafcc980e472642eb",
      "placeholder": "​",
      "style": "IPY_MODEL_f24bd2d2bbf74f4a972b5e82fd074716",
      "value": " 226k/226k [00:00&lt;00:00, 3.73MB/s]"
     }
    },
    "9ec5034e4cad4b8483be9984473b5729": {
     "model_module": "@jupyter-widgets/base",
     "model_module_version": "1.2.0",
     "model_name": "LayoutModel",
     "state": {
      "_model_module": "@jupyter-widgets/base",
      "_model_module_version": "1.2.0",
      "_model_name": "LayoutModel",
      "_view_count": null,
      "_view_module": "@jupyter-widgets/base",
      "_view_module_version": "1.2.0",
      "_view_name": "LayoutView",
      "align_content": null,
      "align_items": null,
      "align_self": null,
      "border": null,
      "bottom": null,
      "display": null,
      "flex": null,
      "flex_flow": null,
      "grid_area": null,
      "grid_auto_columns": null,
      "grid_auto_flow": null,
      "grid_auto_rows": null,
      "grid_column": null,
      "grid_gap": null,
      "grid_row": null,
      "grid_template_areas": null,
      "grid_template_columns": null,
      "grid_template_rows": null,
      "height": null,
      "justify_content": null,
      "justify_items": null,
      "left": null,
      "margin": null,
      "max_height": null,
      "max_width": null,
      "min_height": null,
      "min_width": null,
      "object_fit": null,
      "object_position": null,
      "order": null,
      "overflow": null,
      "overflow_x": null,
      "overflow_y": null,
      "padding": null,
      "right": null,
      "top": null,
      "visibility": null,
      "width": null
     }
    },
    "a073d1b3d5de44f89bac89f1bd4ddafb": {
     "model_module": "@jupyter-widgets/controls",
     "model_module_version": "1.5.0",
     "model_name": "HTMLModel",
     "state": {
      "_dom_classes": [],
      "_model_module": "@jupyter-widgets/controls",
      "_model_module_version": "1.5.0",
      "_model_name": "HTMLModel",
      "_view_count": null,
      "_view_module": "@jupyter-widgets/controls",
      "_view_module_version": "1.5.0",
      "_view_name": "HTMLView",
      "description": "",
      "description_tooltip": null,
      "layout": "IPY_MODEL_3a3a298c65fc4524b3fde3ff4c05f06e",
      "placeholder": "​",
      "style": "IPY_MODEL_63dbc997ba9d4e3092484d5798cc13e0",
      "value": " 483/483 [00:00&lt;00:00, 15.2kB/s]"
     }
    },
    "a0a6138b9b9e4f6583e83fb8de8678ed": {
     "model_module": "@jupyter-widgets/controls",
     "model_module_version": "1.5.0",
     "model_name": "DescriptionStyleModel",
     "state": {
      "_model_module": "@jupyter-widgets/controls",
      "_model_module_version": "1.5.0",
      "_model_name": "DescriptionStyleModel",
      "_view_count": null,
      "_view_module": "@jupyter-widgets/base",
      "_view_module_version": "1.2.0",
      "_view_name": "StyleView",
      "description_width": ""
     }
    },
    "a220c312efe640e6826254a402deb31c": {
     "model_module": "@jupyter-widgets/controls",
     "model_module_version": "1.5.0",
     "model_name": "ProgressStyleModel",
     "state": {
      "_model_module": "@jupyter-widgets/controls",
      "_model_module_version": "1.5.0",
      "_model_name": "ProgressStyleModel",
      "_view_count": null,
      "_view_module": "@jupyter-widgets/base",
      "_view_module_version": "1.2.0",
      "_view_name": "StyleView",
      "bar_color": null,
      "description_width": ""
     }
    },
    "a72bbd215c034f89bec2019e379faa42": {
     "model_module": "@jupyter-widgets/base",
     "model_module_version": "1.2.0",
     "model_name": "LayoutModel",
     "state": {
      "_model_module": "@jupyter-widgets/base",
      "_model_module_version": "1.2.0",
      "_model_name": "LayoutModel",
      "_view_count": null,
      "_view_module": "@jupyter-widgets/base",
      "_view_module_version": "1.2.0",
      "_view_name": "LayoutView",
      "align_content": null,
      "align_items": null,
      "align_self": null,
      "border": null,
      "bottom": null,
      "display": null,
      "flex": null,
      "flex_flow": null,
      "grid_area": null,
      "grid_auto_columns": null,
      "grid_auto_flow": null,
      "grid_auto_rows": null,
      "grid_column": null,
      "grid_gap": null,
      "grid_row": null,
      "grid_template_areas": null,
      "grid_template_columns": null,
      "grid_template_rows": null,
      "height": null,
      "justify_content": null,
      "justify_items": null,
      "left": null,
      "margin": null,
      "max_height": null,
      "max_width": null,
      "min_height": null,
      "min_width": null,
      "object_fit": null,
      "object_position": null,
      "order": null,
      "overflow": null,
      "overflow_x": null,
      "overflow_y": null,
      "padding": null,
      "right": null,
      "top": null,
      "visibility": null,
      "width": null
     }
    },
    "a74b6551817f45bbbdb50ee9b554242f": {
     "model_module": "@jupyter-widgets/controls",
     "model_module_version": "1.5.0",
     "model_name": "DescriptionStyleModel",
     "state": {
      "_model_module": "@jupyter-widgets/controls",
      "_model_module_version": "1.5.0",
      "_model_name": "DescriptionStyleModel",
      "_view_count": null,
      "_view_module": "@jupyter-widgets/base",
      "_view_module_version": "1.2.0",
      "_view_name": "StyleView",
      "description_width": ""
     }
    },
    "a86019d2250b4dc482de0ccf7c19dad3": {
     "model_module": "@jupyter-widgets/controls",
     "model_module_version": "1.5.0",
     "model_name": "DescriptionStyleModel",
     "state": {
      "_model_module": "@jupyter-widgets/controls",
      "_model_module_version": "1.5.0",
      "_model_name": "DescriptionStyleModel",
      "_view_count": null,
      "_view_module": "@jupyter-widgets/base",
      "_view_module_version": "1.2.0",
      "_view_name": "StyleView",
      "description_width": ""
     }
    },
    "a8e68dd52f354b5daf95c3314fb92682": {
     "model_module": "@jupyter-widgets/controls",
     "model_module_version": "1.5.0",
     "model_name": "HTMLModel",
     "state": {
      "_dom_classes": [],
      "_model_module": "@jupyter-widgets/controls",
      "_model_module_version": "1.5.0",
      "_model_name": "HTMLModel",
      "_view_count": null,
      "_view_module": "@jupyter-widgets/controls",
      "_view_module_version": "1.5.0",
      "_view_name": "HTMLView",
      "description": "",
      "description_tooltip": null,
      "layout": "IPY_MODEL_53746223590447cb9e60eb049d038abb",
      "placeholder": "​",
      "style": "IPY_MODEL_20b7564678d247e49bef493ca78de5cb",
      "value": " 28.0/28.0 [00:00&lt;00:00, 819B/s]"
     }
    },
    "a983874877984f96b0439358be2bf3e8": {
     "model_module": "@jupyter-widgets/controls",
     "model_module_version": "1.5.0",
     "model_name": "DescriptionStyleModel",
     "state": {
      "_model_module": "@jupyter-widgets/controls",
      "_model_module_version": "1.5.0",
      "_model_name": "DescriptionStyleModel",
      "_view_count": null,
      "_view_module": "@jupyter-widgets/base",
      "_view_module_version": "1.2.0",
      "_view_name": "StyleView",
      "description_width": ""
     }
    },
    "ab6d3955ae4f4d469f2c3880d56888df": {
     "model_module": "@jupyter-widgets/base",
     "model_module_version": "1.2.0",
     "model_name": "LayoutModel",
     "state": {
      "_model_module": "@jupyter-widgets/base",
      "_model_module_version": "1.2.0",
      "_model_name": "LayoutModel",
      "_view_count": null,
      "_view_module": "@jupyter-widgets/base",
      "_view_module_version": "1.2.0",
      "_view_name": "LayoutView",
      "align_content": null,
      "align_items": null,
      "align_self": null,
      "border": null,
      "bottom": null,
      "display": null,
      "flex": null,
      "flex_flow": null,
      "grid_area": null,
      "grid_auto_columns": null,
      "grid_auto_flow": null,
      "grid_auto_rows": null,
      "grid_column": null,
      "grid_gap": null,
      "grid_row": null,
      "grid_template_areas": null,
      "grid_template_columns": null,
      "grid_template_rows": null,
      "height": null,
      "justify_content": null,
      "justify_items": null,
      "left": null,
      "margin": null,
      "max_height": null,
      "max_width": null,
      "min_height": null,
      "min_width": null,
      "object_fit": null,
      "object_position": null,
      "order": null,
      "overflow": null,
      "overflow_x": null,
      "overflow_y": null,
      "padding": null,
      "right": null,
      "top": null,
      "visibility": null,
      "width": null
     }
    },
    "ac7ebaed96474810a50b836746a54f67": {
     "model_module": "@jupyter-widgets/controls",
     "model_module_version": "1.5.0",
     "model_name": "HTMLModel",
     "state": {
      "_dom_classes": [],
      "_model_module": "@jupyter-widgets/controls",
      "_model_module_version": "1.5.0",
      "_model_name": "HTMLModel",
      "_view_count": null,
      "_view_module": "@jupyter-widgets/controls",
      "_view_module_version": "1.5.0",
      "_view_name": "HTMLView",
      "description": "",
      "description_tooltip": null,
      "layout": "IPY_MODEL_bbfecb6e4d9f4e76a45d2d326374b336",
      "placeholder": "​",
      "style": "IPY_MODEL_e31979a55d1841039285937de6624ac2",
      "value": "Downloading: 100%"
     }
    },
    "b14c0603c58a4e828e782757f0bda2dc": {
     "model_module": "@jupyter-widgets/base",
     "model_module_version": "1.2.0",
     "model_name": "LayoutModel",
     "state": {
      "_model_module": "@jupyter-widgets/base",
      "_model_module_version": "1.2.0",
      "_model_name": "LayoutModel",
      "_view_count": null,
      "_view_module": "@jupyter-widgets/base",
      "_view_module_version": "1.2.0",
      "_view_name": "LayoutView",
      "align_content": null,
      "align_items": null,
      "align_self": null,
      "border": null,
      "bottom": null,
      "display": null,
      "flex": null,
      "flex_flow": null,
      "grid_area": null,
      "grid_auto_columns": null,
      "grid_auto_flow": null,
      "grid_auto_rows": null,
      "grid_column": null,
      "grid_gap": null,
      "grid_row": null,
      "grid_template_areas": null,
      "grid_template_columns": null,
      "grid_template_rows": null,
      "height": null,
      "justify_content": null,
      "justify_items": null,
      "left": null,
      "margin": null,
      "max_height": null,
      "max_width": null,
      "min_height": null,
      "min_width": null,
      "object_fit": null,
      "object_position": null,
      "order": null,
      "overflow": null,
      "overflow_x": null,
      "overflow_y": null,
      "padding": null,
      "right": null,
      "top": null,
      "visibility": null,
      "width": null
     }
    },
    "b57307190c31436aa24020d49ead64e2": {
     "model_module": "@jupyter-widgets/controls",
     "model_module_version": "1.5.0",
     "model_name": "FloatProgressModel",
     "state": {
      "_dom_classes": [],
      "_model_module": "@jupyter-widgets/controls",
      "_model_module_version": "1.5.0",
      "_model_name": "FloatProgressModel",
      "_view_count": null,
      "_view_module": "@jupyter-widgets/controls",
      "_view_module_version": "1.5.0",
      "_view_name": "ProgressView",
      "bar_style": "success",
      "description": "",
      "description_tooltip": null,
      "layout": "IPY_MODEL_90337933bb7749ecaa3a94967f20e0ab",
      "max": 72,
      "min": 0,
      "orientation": "horizontal",
      "style": "IPY_MODEL_922e4e77be234cbdb12f0b47ad7551f0",
      "value": 72
     }
    },
    "b6cea28f892e42248f66240a923e2fd9": {
     "model_module": "@jupyter-widgets/controls",
     "model_module_version": "1.5.0",
     "model_name": "HBoxModel",
     "state": {
      "_dom_classes": [],
      "_model_module": "@jupyter-widgets/controls",
      "_model_module_version": "1.5.0",
      "_model_name": "HBoxModel",
      "_view_count": null,
      "_view_module": "@jupyter-widgets/controls",
      "_view_module_version": "1.5.0",
      "_view_name": "HBoxView",
      "box_style": "",
      "children": [
       "IPY_MODEL_8ad6b5a11ea543339bef802a5698606c",
       "IPY_MODEL_40eed408025a42c897e7bf4815997a8e",
       "IPY_MODEL_5e66258543b44fb58eef2611cc6cdc98"
      ],
      "layout": "IPY_MODEL_2cc907e64f0f45f2b0b95a158b61109e"
     }
    },
    "b8eecfaa3bc34fdb9110fde5864b89da": {
     "model_module": "@jupyter-widgets/base",
     "model_module_version": "1.2.0",
     "model_name": "LayoutModel",
     "state": {
      "_model_module": "@jupyter-widgets/base",
      "_model_module_version": "1.2.0",
      "_model_name": "LayoutModel",
      "_view_count": null,
      "_view_module": "@jupyter-widgets/base",
      "_view_module_version": "1.2.0",
      "_view_name": "LayoutView",
      "align_content": null,
      "align_items": null,
      "align_self": null,
      "border": null,
      "bottom": null,
      "display": null,
      "flex": null,
      "flex_flow": null,
      "grid_area": null,
      "grid_auto_columns": null,
      "grid_auto_flow": null,
      "grid_auto_rows": null,
      "grid_column": null,
      "grid_gap": null,
      "grid_row": null,
      "grid_template_areas": null,
      "grid_template_columns": null,
      "grid_template_rows": null,
      "height": null,
      "justify_content": null,
      "justify_items": null,
      "left": null,
      "margin": null,
      "max_height": null,
      "max_width": null,
      "min_height": null,
      "min_width": null,
      "object_fit": null,
      "object_position": null,
      "order": null,
      "overflow": null,
      "overflow_x": null,
      "overflow_y": null,
      "padding": null,
      "right": null,
      "top": null,
      "visibility": null,
      "width": null
     }
    },
    "b96601d38af24183a9e0d8b1856afad6": {
     "model_module": "@jupyter-widgets/base",
     "model_module_version": "1.2.0",
     "model_name": "LayoutModel",
     "state": {
      "_model_module": "@jupyter-widgets/base",
      "_model_module_version": "1.2.0",
      "_model_name": "LayoutModel",
      "_view_count": null,
      "_view_module": "@jupyter-widgets/base",
      "_view_module_version": "1.2.0",
      "_view_name": "LayoutView",
      "align_content": null,
      "align_items": null,
      "align_self": null,
      "border": null,
      "bottom": null,
      "display": null,
      "flex": null,
      "flex_flow": null,
      "grid_area": null,
      "grid_auto_columns": null,
      "grid_auto_flow": null,
      "grid_auto_rows": null,
      "grid_column": null,
      "grid_gap": null,
      "grid_row": null,
      "grid_template_areas": null,
      "grid_template_columns": null,
      "grid_template_rows": null,
      "height": null,
      "justify_content": null,
      "justify_items": null,
      "left": null,
      "margin": null,
      "max_height": null,
      "max_width": null,
      "min_height": null,
      "min_width": null,
      "object_fit": null,
      "object_position": null,
      "order": null,
      "overflow": null,
      "overflow_x": null,
      "overflow_y": null,
      "padding": null,
      "right": null,
      "top": null,
      "visibility": null,
      "width": null
     }
    },
    "bb2b4127332a465684175f32efcd176e": {
     "model_module": "@jupyter-widgets/base",
     "model_module_version": "1.2.0",
     "model_name": "LayoutModel",
     "state": {
      "_model_module": "@jupyter-widgets/base",
      "_model_module_version": "1.2.0",
      "_model_name": "LayoutModel",
      "_view_count": null,
      "_view_module": "@jupyter-widgets/base",
      "_view_module_version": "1.2.0",
      "_view_name": "LayoutView",
      "align_content": null,
      "align_items": null,
      "align_self": null,
      "border": null,
      "bottom": null,
      "display": null,
      "flex": null,
      "flex_flow": null,
      "grid_area": null,
      "grid_auto_columns": null,
      "grid_auto_flow": null,
      "grid_auto_rows": null,
      "grid_column": null,
      "grid_gap": null,
      "grid_row": null,
      "grid_template_areas": null,
      "grid_template_columns": null,
      "grid_template_rows": null,
      "height": null,
      "justify_content": null,
      "justify_items": null,
      "left": null,
      "margin": null,
      "max_height": null,
      "max_width": null,
      "min_height": null,
      "min_width": null,
      "object_fit": null,
      "object_position": null,
      "order": null,
      "overflow": null,
      "overflow_x": null,
      "overflow_y": null,
      "padding": null,
      "right": null,
      "top": null,
      "visibility": null,
      "width": null
     }
    },
    "bbfecb6e4d9f4e76a45d2d326374b336": {
     "model_module": "@jupyter-widgets/base",
     "model_module_version": "1.2.0",
     "model_name": "LayoutModel",
     "state": {
      "_model_module": "@jupyter-widgets/base",
      "_model_module_version": "1.2.0",
      "_model_name": "LayoutModel",
      "_view_count": null,
      "_view_module": "@jupyter-widgets/base",
      "_view_module_version": "1.2.0",
      "_view_name": "LayoutView",
      "align_content": null,
      "align_items": null,
      "align_self": null,
      "border": null,
      "bottom": null,
      "display": null,
      "flex": null,
      "flex_flow": null,
      "grid_area": null,
      "grid_auto_columns": null,
      "grid_auto_flow": null,
      "grid_auto_rows": null,
      "grid_column": null,
      "grid_gap": null,
      "grid_row": null,
      "grid_template_areas": null,
      "grid_template_columns": null,
      "grid_template_rows": null,
      "height": null,
      "justify_content": null,
      "justify_items": null,
      "left": null,
      "margin": null,
      "max_height": null,
      "max_width": null,
      "min_height": null,
      "min_width": null,
      "object_fit": null,
      "object_position": null,
      "order": null,
      "overflow": null,
      "overflow_x": null,
      "overflow_y": null,
      "padding": null,
      "right": null,
      "top": null,
      "visibility": null,
      "width": null
     }
    },
    "bcb4b15ab9ff4485a829c9be0fa836c2": {
     "model_module": "@jupyter-widgets/controls",
     "model_module_version": "1.5.0",
     "model_name": "ProgressStyleModel",
     "state": {
      "_model_module": "@jupyter-widgets/controls",
      "_model_module_version": "1.5.0",
      "_model_name": "ProgressStyleModel",
      "_view_count": null,
      "_view_module": "@jupyter-widgets/base",
      "_view_module_version": "1.2.0",
      "_view_name": "StyleView",
      "bar_color": null,
      "description_width": ""
     }
    },
    "c1b5fe38f6bf4270baffb2c30cce2898": {
     "model_module": "@jupyter-widgets/controls",
     "model_module_version": "1.5.0",
     "model_name": "DescriptionStyleModel",
     "state": {
      "_model_module": "@jupyter-widgets/controls",
      "_model_module_version": "1.5.0",
      "_model_name": "DescriptionStyleModel",
      "_view_count": null,
      "_view_module": "@jupyter-widgets/base",
      "_view_module_version": "1.2.0",
      "_view_name": "StyleView",
      "description_width": ""
     }
    },
    "c30b8fe9cb4f459685ec434baf0796cf": {
     "model_module": "@jupyter-widgets/controls",
     "model_module_version": "1.5.0",
     "model_name": "HTMLModel",
     "state": {
      "_dom_classes": [],
      "_model_module": "@jupyter-widgets/controls",
      "_model_module_version": "1.5.0",
      "_model_name": "HTMLModel",
      "_view_count": null,
      "_view_module": "@jupyter-widgets/controls",
      "_view_module_version": "1.5.0",
      "_view_name": "HTMLView",
      "description": "",
      "description_tooltip": null,
      "layout": "IPY_MODEL_8d0c2f939f0f4fe08854923067e4432d",
      "placeholder": "​",
      "style": "IPY_MODEL_5f1fa1d023ad4fb7a6c14c9e8e9bc2a9",
      "value": "100%"
     }
    },
    "c5135f1eaddb492bad4134672e97d2dd": {
     "model_module": "@jupyter-widgets/controls",
     "model_module_version": "1.5.0",
     "model_name": "FloatProgressModel",
     "state": {
      "_dom_classes": [],
      "_model_module": "@jupyter-widgets/controls",
      "_model_module_version": "1.5.0",
      "_model_name": "FloatProgressModel",
      "_view_count": null,
      "_view_module": "@jupyter-widgets/controls",
      "_view_module_version": "1.5.0",
      "_view_name": "ProgressView",
      "bar_style": "success",
      "description": "",
      "description_tooltip": null,
      "layout": "IPY_MODEL_49b5030490f640098284397332486e45",
      "max": 440473133,
      "min": 0,
      "orientation": "horizontal",
      "style": "IPY_MODEL_c62260bf1fa04813874d393c92b67398",
      "value": 440473133
     }
    },
    "c62260bf1fa04813874d393c92b67398": {
     "model_module": "@jupyter-widgets/controls",
     "model_module_version": "1.5.0",
     "model_name": "ProgressStyleModel",
     "state": {
      "_model_module": "@jupyter-widgets/controls",
      "_model_module_version": "1.5.0",
      "_model_name": "ProgressStyleModel",
      "_view_count": null,
      "_view_module": "@jupyter-widgets/base",
      "_view_module_version": "1.2.0",
      "_view_name": "StyleView",
      "bar_color": null,
      "description_width": ""
     }
    },
    "c9d8523a488e4d0c888742c6d9b57ff5": {
     "model_module": "@jupyter-widgets/controls",
     "model_module_version": "1.5.0",
     "model_name": "DescriptionStyleModel",
     "state": {
      "_model_module": "@jupyter-widgets/controls",
      "_model_module_version": "1.5.0",
      "_model_name": "DescriptionStyleModel",
      "_view_count": null,
      "_view_module": "@jupyter-widgets/base",
      "_view_module_version": "1.2.0",
      "_view_name": "StyleView",
      "description_width": ""
     }
    },
    "ca65cb9c7b4b4612965aea1b0fe25433": {
     "model_module": "@jupyter-widgets/base",
     "model_module_version": "1.2.0",
     "model_name": "LayoutModel",
     "state": {
      "_model_module": "@jupyter-widgets/base",
      "_model_module_version": "1.2.0",
      "_model_name": "LayoutModel",
      "_view_count": null,
      "_view_module": "@jupyter-widgets/base",
      "_view_module_version": "1.2.0",
      "_view_name": "LayoutView",
      "align_content": null,
      "align_items": null,
      "align_self": null,
      "border": null,
      "bottom": null,
      "display": null,
      "flex": null,
      "flex_flow": null,
      "grid_area": null,
      "grid_auto_columns": null,
      "grid_auto_flow": null,
      "grid_auto_rows": null,
      "grid_column": null,
      "grid_gap": null,
      "grid_row": null,
      "grid_template_areas": null,
      "grid_template_columns": null,
      "grid_template_rows": null,
      "height": null,
      "justify_content": null,
      "justify_items": null,
      "left": null,
      "margin": null,
      "max_height": null,
      "max_width": null,
      "min_height": null,
      "min_width": null,
      "object_fit": null,
      "object_position": null,
      "order": null,
      "overflow": null,
      "overflow_x": null,
      "overflow_y": null,
      "padding": null,
      "right": null,
      "top": null,
      "visibility": null,
      "width": null
     }
    },
    "cabff1292ba6461f9557f1075b1b3853": {
     "model_module": "@jupyter-widgets/controls",
     "model_module_version": "1.5.0",
     "model_name": "HTMLModel",
     "state": {
      "_dom_classes": [],
      "_model_module": "@jupyter-widgets/controls",
      "_model_module_version": "1.5.0",
      "_model_name": "HTMLModel",
      "_view_count": null,
      "_view_module": "@jupyter-widgets/controls",
      "_view_module_version": "1.5.0",
      "_view_name": "HTMLView",
      "description": "",
      "description_tooltip": null,
      "layout": "IPY_MODEL_2d6d1a0b217d49f8b3024aec90224d46",
      "placeholder": "​",
      "style": "IPY_MODEL_a86019d2250b4dc482de0ccf7c19dad3",
      "value": " 226k/226k [00:00&lt;00:00, 4.84MB/s]"
     }
    },
    "cd4037b38e414255b15cf5bddc2dacd3": {
     "model_module": "@jupyter-widgets/base",
     "model_module_version": "1.2.0",
     "model_name": "LayoutModel",
     "state": {
      "_model_module": "@jupyter-widgets/base",
      "_model_module_version": "1.2.0",
      "_model_name": "LayoutModel",
      "_view_count": null,
      "_view_module": "@jupyter-widgets/base",
      "_view_module_version": "1.2.0",
      "_view_name": "LayoutView",
      "align_content": null,
      "align_items": null,
      "align_self": null,
      "border": null,
      "bottom": null,
      "display": null,
      "flex": null,
      "flex_flow": null,
      "grid_area": null,
      "grid_auto_columns": null,
      "grid_auto_flow": null,
      "grid_auto_rows": null,
      "grid_column": null,
      "grid_gap": null,
      "grid_row": null,
      "grid_template_areas": null,
      "grid_template_columns": null,
      "grid_template_rows": null,
      "height": null,
      "justify_content": null,
      "justify_items": null,
      "left": null,
      "margin": null,
      "max_height": null,
      "max_width": null,
      "min_height": null,
      "min_width": null,
      "object_fit": null,
      "object_position": null,
      "order": null,
      "overflow": null,
      "overflow_x": null,
      "overflow_y": null,
      "padding": null,
      "right": null,
      "top": null,
      "visibility": null,
      "width": null
     }
    },
    "d17b936d29724137a18969b6ee79bc24": {
     "model_module": "@jupyter-widgets/controls",
     "model_module_version": "1.5.0",
     "model_name": "HTMLModel",
     "state": {
      "_dom_classes": [],
      "_model_module": "@jupyter-widgets/controls",
      "_model_module_version": "1.5.0",
      "_model_name": "HTMLModel",
      "_view_count": null,
      "_view_module": "@jupyter-widgets/controls",
      "_view_module_version": "1.5.0",
      "_view_name": "HTMLView",
      "description": "",
      "description_tooltip": null,
      "layout": "IPY_MODEL_ffe192b8b3314efe9b171217a885b8ad",
      "placeholder": "​",
      "style": "IPY_MODEL_3b6c5363b81b49b5950eefe50b59dcbc",
      "value": " 18/18 [00:06&lt;00:00,  3.64ba/s]"
     }
    },
    "d186e2356e054a3083e0734db63ab327": {
     "model_module": "@jupyter-widgets/base",
     "model_module_version": "1.2.0",
     "model_name": "LayoutModel",
     "state": {
      "_model_module": "@jupyter-widgets/base",
      "_model_module_version": "1.2.0",
      "_model_name": "LayoutModel",
      "_view_count": null,
      "_view_module": "@jupyter-widgets/base",
      "_view_module_version": "1.2.0",
      "_view_name": "LayoutView",
      "align_content": null,
      "align_items": null,
      "align_self": null,
      "border": null,
      "bottom": null,
      "display": null,
      "flex": null,
      "flex_flow": null,
      "grid_area": null,
      "grid_auto_columns": null,
      "grid_auto_flow": null,
      "grid_auto_rows": null,
      "grid_column": null,
      "grid_gap": null,
      "grid_row": null,
      "grid_template_areas": null,
      "grid_template_columns": null,
      "grid_template_rows": null,
      "height": null,
      "justify_content": null,
      "justify_items": null,
      "left": null,
      "margin": null,
      "max_height": null,
      "max_width": null,
      "min_height": null,
      "min_width": null,
      "object_fit": null,
      "object_position": null,
      "order": null,
      "overflow": null,
      "overflow_x": null,
      "overflow_y": null,
      "padding": null,
      "right": null,
      "top": null,
      "visibility": null,
      "width": null
     }
    },
    "d3a6e709ef89454baeac90961e1f6d0f": {
     "model_module": "@jupyter-widgets/controls",
     "model_module_version": "1.5.0",
     "model_name": "FloatProgressModel",
     "state": {
      "_dom_classes": [],
      "_model_module": "@jupyter-widgets/controls",
      "_model_module_version": "1.5.0",
      "_model_name": "FloatProgressModel",
      "_view_count": null,
      "_view_module": "@jupyter-widgets/controls",
      "_view_module_version": "1.5.0",
      "_view_name": "ProgressView",
      "bar_style": "success",
      "description": "",
      "description_tooltip": null,
      "layout": "IPY_MODEL_41663766b96f43c282afecaab1004eb7",
      "max": 28,
      "min": 0,
      "orientation": "horizontal",
      "style": "IPY_MODEL_134960e09272435789e15d8446a1ac89",
      "value": 28
     }
    },
    "d5c167e1a6de416c9daee98d54ab2045": {
     "model_module": "@jupyter-widgets/controls",
     "model_module_version": "1.5.0",
     "model_name": "DescriptionStyleModel",
     "state": {
      "_model_module": "@jupyter-widgets/controls",
      "_model_module_version": "1.5.0",
      "_model_name": "DescriptionStyleModel",
      "_view_count": null,
      "_view_module": "@jupyter-widgets/base",
      "_view_module_version": "1.2.0",
      "_view_name": "StyleView",
      "description_width": ""
     }
    },
    "d862feaa70694ad1b10760f79b5c3892": {
     "model_module": "@jupyter-widgets/controls",
     "model_module_version": "1.5.0",
     "model_name": "FloatProgressModel",
     "state": {
      "_dom_classes": [],
      "_model_module": "@jupyter-widgets/controls",
      "_model_module_version": "1.5.0",
      "_model_name": "FloatProgressModel",
      "_view_count": null,
      "_view_module": "@jupyter-widgets/controls",
      "_view_module_version": "1.5.0",
      "_view_name": "ProgressView",
      "bar_style": "success",
      "description": "",
      "description_tooltip": null,
      "layout": "IPY_MODEL_bb2b4127332a465684175f32efcd176e",
      "max": 18,
      "min": 0,
      "orientation": "horizontal",
      "style": "IPY_MODEL_5aaa6bb220194387942505d7d7f4b186",
      "value": 18
     }
    },
    "d9a2b1d92e534de381f9222bdc5a5100": {
     "model_module": "@jupyter-widgets/controls",
     "model_module_version": "1.5.0",
     "model_name": "FloatProgressModel",
     "state": {
      "_dom_classes": [],
      "_model_module": "@jupyter-widgets/controls",
      "_model_module_version": "1.5.0",
      "_model_name": "FloatProgressModel",
      "_view_count": null,
      "_view_module": "@jupyter-widgets/controls",
      "_view_module_version": "1.5.0",
      "_view_name": "ProgressView",
      "bar_style": "success",
      "description": "",
      "description_tooltip": null,
      "layout": "IPY_MODEL_5d29c5e8cbe44a44927e90afa4cffadd",
      "max": 267967963,
      "min": 0,
      "orientation": "horizontal",
      "style": "IPY_MODEL_80134e1d133347e4aafe3c24462efd26",
      "value": 267967963
     }
    },
    "d9b7ac8126eb455faa66a5a8873b72f5": {
     "model_module": "@jupyter-widgets/controls",
     "model_module_version": "1.5.0",
     "model_name": "ProgressStyleModel",
     "state": {
      "_model_module": "@jupyter-widgets/controls",
      "_model_module_version": "1.5.0",
      "_model_name": "ProgressStyleModel",
      "_view_count": null,
      "_view_module": "@jupyter-widgets/base",
      "_view_module_version": "1.2.0",
      "_view_name": "StyleView",
      "bar_color": null,
      "description_width": ""
     }
    },
    "d9c9178852c14f258afa41be2229e0ce": {
     "model_module": "@jupyter-widgets/base",
     "model_module_version": "1.2.0",
     "model_name": "LayoutModel",
     "state": {
      "_model_module": "@jupyter-widgets/base",
      "_model_module_version": "1.2.0",
      "_model_name": "LayoutModel",
      "_view_count": null,
      "_view_module": "@jupyter-widgets/base",
      "_view_module_version": "1.2.0",
      "_view_name": "LayoutView",
      "align_content": null,
      "align_items": null,
      "align_self": null,
      "border": null,
      "bottom": null,
      "display": null,
      "flex": null,
      "flex_flow": null,
      "grid_area": null,
      "grid_auto_columns": null,
      "grid_auto_flow": null,
      "grid_auto_rows": null,
      "grid_column": null,
      "grid_gap": null,
      "grid_row": null,
      "grid_template_areas": null,
      "grid_template_columns": null,
      "grid_template_rows": null,
      "height": null,
      "justify_content": null,
      "justify_items": null,
      "left": null,
      "margin": null,
      "max_height": null,
      "max_width": null,
      "min_height": null,
      "min_width": null,
      "object_fit": null,
      "object_position": null,
      "order": null,
      "overflow": null,
      "overflow_x": null,
      "overflow_y": null,
      "padding": null,
      "right": null,
      "top": null,
      "visibility": null,
      "width": null
     }
    },
    "dec96f849a624bc2b13f9c20966421b3": {
     "model_module": "@jupyter-widgets/base",
     "model_module_version": "1.2.0",
     "model_name": "LayoutModel",
     "state": {
      "_model_module": "@jupyter-widgets/base",
      "_model_module_version": "1.2.0",
      "_model_name": "LayoutModel",
      "_view_count": null,
      "_view_module": "@jupyter-widgets/base",
      "_view_module_version": "1.2.0",
      "_view_name": "LayoutView",
      "align_content": null,
      "align_items": null,
      "align_self": null,
      "border": null,
      "bottom": null,
      "display": null,
      "flex": null,
      "flex_flow": null,
      "grid_area": null,
      "grid_auto_columns": null,
      "grid_auto_flow": null,
      "grid_auto_rows": null,
      "grid_column": null,
      "grid_gap": null,
      "grid_row": null,
      "grid_template_areas": null,
      "grid_template_columns": null,
      "grid_template_rows": null,
      "height": null,
      "justify_content": null,
      "justify_items": null,
      "left": null,
      "margin": null,
      "max_height": null,
      "max_width": null,
      "min_height": null,
      "min_width": null,
      "object_fit": null,
      "object_position": null,
      "order": null,
      "overflow": null,
      "overflow_x": null,
      "overflow_y": null,
      "padding": null,
      "right": null,
      "top": null,
      "visibility": null,
      "width": null
     }
    },
    "e0fc8f5fe01d42fc80a809e4e50d727f": {
     "model_module": "@jupyter-widgets/base",
     "model_module_version": "1.2.0",
     "model_name": "LayoutModel",
     "state": {
      "_model_module": "@jupyter-widgets/base",
      "_model_module_version": "1.2.0",
      "_model_name": "LayoutModel",
      "_view_count": null,
      "_view_module": "@jupyter-widgets/base",
      "_view_module_version": "1.2.0",
      "_view_name": "LayoutView",
      "align_content": null,
      "align_items": null,
      "align_self": null,
      "border": null,
      "bottom": null,
      "display": null,
      "flex": null,
      "flex_flow": null,
      "grid_area": null,
      "grid_auto_columns": null,
      "grid_auto_flow": null,
      "grid_auto_rows": null,
      "grid_column": null,
      "grid_gap": null,
      "grid_row": null,
      "grid_template_areas": null,
      "grid_template_columns": null,
      "grid_template_rows": null,
      "height": null,
      "justify_content": null,
      "justify_items": null,
      "left": null,
      "margin": null,
      "max_height": null,
      "max_width": null,
      "min_height": null,
      "min_width": null,
      "object_fit": null,
      "object_position": null,
      "order": null,
      "overflow": null,
      "overflow_x": null,
      "overflow_y": null,
      "padding": null,
      "right": null,
      "top": null,
      "visibility": null,
      "width": null
     }
    },
    "e31979a55d1841039285937de6624ac2": {
     "model_module": "@jupyter-widgets/controls",
     "model_module_version": "1.5.0",
     "model_name": "DescriptionStyleModel",
     "state": {
      "_model_module": "@jupyter-widgets/controls",
      "_model_module_version": "1.5.0",
      "_model_name": "DescriptionStyleModel",
      "_view_count": null,
      "_view_module": "@jupyter-widgets/base",
      "_view_module_version": "1.2.0",
      "_view_name": "StyleView",
      "description_width": ""
     }
    },
    "e3372bf1c8644e2cb1830a9a6c3729c1": {
     "model_module": "@jupyter-widgets/controls",
     "model_module_version": "1.5.0",
     "model_name": "ProgressStyleModel",
     "state": {
      "_model_module": "@jupyter-widgets/controls",
      "_model_module_version": "1.5.0",
      "_model_name": "ProgressStyleModel",
      "_view_count": null,
      "_view_module": "@jupyter-widgets/base",
      "_view_module_version": "1.2.0",
      "_view_name": "StyleView",
      "bar_color": null,
      "description_width": ""
     }
    },
    "e59a7e2367134342a7b74038137940c8": {
     "model_module": "@jupyter-widgets/base",
     "model_module_version": "1.2.0",
     "model_name": "LayoutModel",
     "state": {
      "_model_module": "@jupyter-widgets/base",
      "_model_module_version": "1.2.0",
      "_model_name": "LayoutModel",
      "_view_count": null,
      "_view_module": "@jupyter-widgets/base",
      "_view_module_version": "1.2.0",
      "_view_name": "LayoutView",
      "align_content": null,
      "align_items": null,
      "align_self": null,
      "border": null,
      "bottom": null,
      "display": null,
      "flex": null,
      "flex_flow": null,
      "grid_area": null,
      "grid_auto_columns": null,
      "grid_auto_flow": null,
      "grid_auto_rows": null,
      "grid_column": null,
      "grid_gap": null,
      "grid_row": null,
      "grid_template_areas": null,
      "grid_template_columns": null,
      "grid_template_rows": null,
      "height": null,
      "justify_content": null,
      "justify_items": null,
      "left": null,
      "margin": null,
      "max_height": null,
      "max_width": null,
      "min_height": null,
      "min_width": null,
      "object_fit": null,
      "object_position": null,
      "order": null,
      "overflow": null,
      "overflow_x": null,
      "overflow_y": null,
      "padding": null,
      "right": null,
      "top": null,
      "visibility": null,
      "width": null
     }
    },
    "e61f353a47e249f19fa1b54f4c848dd6": {
     "model_module": "@jupyter-widgets/controls",
     "model_module_version": "1.5.0",
     "model_name": "FloatProgressModel",
     "state": {
      "_dom_classes": [],
      "_model_module": "@jupyter-widgets/controls",
      "_model_module_version": "1.5.0",
      "_model_name": "FloatProgressModel",
      "_view_count": null,
      "_view_module": "@jupyter-widgets/controls",
      "_view_module_version": "1.5.0",
      "_view_name": "ProgressView",
      "bar_style": "success",
      "description": "",
      "description_tooltip": null,
      "layout": "IPY_MODEL_f3071910b488485abcef61ddd22a05c5",
      "max": 231508,
      "min": 0,
      "orientation": "horizontal",
      "style": "IPY_MODEL_d9b7ac8126eb455faa66a5a8873b72f5",
      "value": 231508
     }
    },
    "e6cc611dc013409f816af8f1bbd4d82d": {
     "model_module": "@jupyter-widgets/controls",
     "model_module_version": "1.5.0",
     "model_name": "HBoxModel",
     "state": {
      "_dom_classes": [],
      "_model_module": "@jupyter-widgets/controls",
      "_model_module_version": "1.5.0",
      "_model_name": "HBoxModel",
      "_view_count": null,
      "_view_module": "@jupyter-widgets/controls",
      "_view_module_version": "1.5.0",
      "_view_name": "HBoxView",
      "box_style": "",
      "children": [
       "IPY_MODEL_3ed632fa145a4fe28d279964ebfe9f89",
       "IPY_MODEL_90facdbea4ad47b59b140db6e5f1d693",
       "IPY_MODEL_56fa976ee0fe4e76bd50a4c68e249038"
      ],
      "layout": "IPY_MODEL_cd4037b38e414255b15cf5bddc2dacd3"
     }
    },
    "ea02378d8184489882e59a880f0a56fe": {
     "model_module": "@jupyter-widgets/base",
     "model_module_version": "1.2.0",
     "model_name": "LayoutModel",
     "state": {
      "_model_module": "@jupyter-widgets/base",
      "_model_module_version": "1.2.0",
      "_model_name": "LayoutModel",
      "_view_count": null,
      "_view_module": "@jupyter-widgets/base",
      "_view_module_version": "1.2.0",
      "_view_name": "LayoutView",
      "align_content": null,
      "align_items": null,
      "align_self": null,
      "border": null,
      "bottom": null,
      "display": null,
      "flex": null,
      "flex_flow": null,
      "grid_area": null,
      "grid_auto_columns": null,
      "grid_auto_flow": null,
      "grid_auto_rows": null,
      "grid_column": null,
      "grid_gap": null,
      "grid_row": null,
      "grid_template_areas": null,
      "grid_template_columns": null,
      "grid_template_rows": null,
      "height": null,
      "justify_content": null,
      "justify_items": null,
      "left": null,
      "margin": null,
      "max_height": null,
      "max_width": null,
      "min_height": null,
      "min_width": null,
      "object_fit": null,
      "object_position": null,
      "order": null,
      "overflow": null,
      "overflow_x": null,
      "overflow_y": null,
      "padding": null,
      "right": null,
      "top": null,
      "visibility": null,
      "width": null
     }
    },
    "ec986bcd534c46ba8957f2ba8b33e052": {
     "model_module": "@jupyter-widgets/base",
     "model_module_version": "1.2.0",
     "model_name": "LayoutModel",
     "state": {
      "_model_module": "@jupyter-widgets/base",
      "_model_module_version": "1.2.0",
      "_model_name": "LayoutModel",
      "_view_count": null,
      "_view_module": "@jupyter-widgets/base",
      "_view_module_version": "1.2.0",
      "_view_name": "LayoutView",
      "align_content": null,
      "align_items": null,
      "align_self": null,
      "border": null,
      "bottom": null,
      "display": null,
      "flex": null,
      "flex_flow": null,
      "grid_area": null,
      "grid_auto_columns": null,
      "grid_auto_flow": null,
      "grid_auto_rows": null,
      "grid_column": null,
      "grid_gap": null,
      "grid_row": null,
      "grid_template_areas": null,
      "grid_template_columns": null,
      "grid_template_rows": null,
      "height": null,
      "justify_content": null,
      "justify_items": null,
      "left": null,
      "margin": null,
      "max_height": null,
      "max_width": null,
      "min_height": null,
      "min_width": null,
      "object_fit": null,
      "object_position": null,
      "order": null,
      "overflow": null,
      "overflow_x": null,
      "overflow_y": null,
      "padding": null,
      "right": null,
      "top": null,
      "visibility": null,
      "width": null
     }
    },
    "ed9fd1495cfa4b9eb87a0ef01099f87a": {
     "model_module": "@jupyter-widgets/controls",
     "model_module_version": "1.5.0",
     "model_name": "DescriptionStyleModel",
     "state": {
      "_model_module": "@jupyter-widgets/controls",
      "_model_module_version": "1.5.0",
      "_model_name": "DescriptionStyleModel",
      "_view_count": null,
      "_view_module": "@jupyter-widgets/base",
      "_view_module_version": "1.2.0",
      "_view_name": "StyleView",
      "description_width": ""
     }
    },
    "eef39141670948caa72973b08a000b84": {
     "model_module": "@jupyter-widgets/controls",
     "model_module_version": "1.5.0",
     "model_name": "FloatProgressModel",
     "state": {
      "_dom_classes": [],
      "_model_module": "@jupyter-widgets/controls",
      "_model_module_version": "1.5.0",
      "_model_name": "FloatProgressModel",
      "_view_count": null,
      "_view_module": "@jupyter-widgets/controls",
      "_view_module_version": "1.5.0",
      "_view_name": "ProgressView",
      "bar_style": "success",
      "description": "",
      "description_tooltip": null,
      "layout": "IPY_MODEL_91245321f04e4a1db990b7146c58b06d",
      "max": 231508,
      "min": 0,
      "orientation": "horizontal",
      "style": "IPY_MODEL_bcb4b15ab9ff4485a829c9be0fa836c2",
      "value": 231508
     }
    },
    "f0053ff30ab9492c93eced0e3d2cbcf5": {
     "model_module": "@jupyter-widgets/base",
     "model_module_version": "1.2.0",
     "model_name": "LayoutModel",
     "state": {
      "_model_module": "@jupyter-widgets/base",
      "_model_module_version": "1.2.0",
      "_model_name": "LayoutModel",
      "_view_count": null,
      "_view_module": "@jupyter-widgets/base",
      "_view_module_version": "1.2.0",
      "_view_name": "LayoutView",
      "align_content": null,
      "align_items": null,
      "align_self": null,
      "border": null,
      "bottom": null,
      "display": null,
      "flex": null,
      "flex_flow": null,
      "grid_area": null,
      "grid_auto_columns": null,
      "grid_auto_flow": null,
      "grid_auto_rows": null,
      "grid_column": null,
      "grid_gap": null,
      "grid_row": null,
      "grid_template_areas": null,
      "grid_template_columns": null,
      "grid_template_rows": null,
      "height": null,
      "justify_content": null,
      "justify_items": null,
      "left": null,
      "margin": null,
      "max_height": null,
      "max_width": null,
      "min_height": null,
      "min_width": null,
      "object_fit": null,
      "object_position": null,
      "order": null,
      "overflow": null,
      "overflow_x": null,
      "overflow_y": null,
      "padding": null,
      "right": null,
      "top": null,
      "visibility": null,
      "width": null
     }
    },
    "f24bd2d2bbf74f4a972b5e82fd074716": {
     "model_module": "@jupyter-widgets/controls",
     "model_module_version": "1.5.0",
     "model_name": "DescriptionStyleModel",
     "state": {
      "_model_module": "@jupyter-widgets/controls",
      "_model_module_version": "1.5.0",
      "_model_name": "DescriptionStyleModel",
      "_view_count": null,
      "_view_module": "@jupyter-widgets/base",
      "_view_module_version": "1.2.0",
      "_view_name": "StyleView",
      "description_width": ""
     }
    },
    "f30100470b18440bbca94852b5823295": {
     "model_module": "@jupyter-widgets/controls",
     "model_module_version": "1.5.0",
     "model_name": "HTMLModel",
     "state": {
      "_dom_classes": [],
      "_model_module": "@jupyter-widgets/controls",
      "_model_module_version": "1.5.0",
      "_model_name": "HTMLModel",
      "_view_count": null,
      "_view_module": "@jupyter-widgets/controls",
      "_view_module_version": "1.5.0",
      "_view_name": "HTMLView",
      "description": "",
      "description_tooltip": null,
      "layout": "IPY_MODEL_9ec5034e4cad4b8483be9984473b5729",
      "placeholder": "​",
      "style": "IPY_MODEL_a74b6551817f45bbbdb50ee9b554242f",
      "value": "Downloading: 100%"
     }
    },
    "f3071910b488485abcef61ddd22a05c5": {
     "model_module": "@jupyter-widgets/base",
     "model_module_version": "1.2.0",
     "model_name": "LayoutModel",
     "state": {
      "_model_module": "@jupyter-widgets/base",
      "_model_module_version": "1.2.0",
      "_model_name": "LayoutModel",
      "_view_count": null,
      "_view_module": "@jupyter-widgets/base",
      "_view_module_version": "1.2.0",
      "_view_name": "LayoutView",
      "align_content": null,
      "align_items": null,
      "align_self": null,
      "border": null,
      "bottom": null,
      "display": null,
      "flex": null,
      "flex_flow": null,
      "grid_area": null,
      "grid_auto_columns": null,
      "grid_auto_flow": null,
      "grid_auto_rows": null,
      "grid_column": null,
      "grid_gap": null,
      "grid_row": null,
      "grid_template_areas": null,
      "grid_template_columns": null,
      "grid_template_rows": null,
      "height": null,
      "justify_content": null,
      "justify_items": null,
      "left": null,
      "margin": null,
      "max_height": null,
      "max_width": null,
      "min_height": null,
      "min_width": null,
      "object_fit": null,
      "object_position": null,
      "order": null,
      "overflow": null,
      "overflow_x": null,
      "overflow_y": null,
      "padding": null,
      "right": null,
      "top": null,
      "visibility": null,
      "width": null
     }
    },
    "f33b6aba4ee44c388e0e0448d1102287": {
     "model_module": "@jupyter-widgets/controls",
     "model_module_version": "1.5.0",
     "model_name": "FloatProgressModel",
     "state": {
      "_dom_classes": [],
      "_model_module": "@jupyter-widgets/controls",
      "_model_module_version": "1.5.0",
      "_model_name": "FloatProgressModel",
      "_view_count": null,
      "_view_module": "@jupyter-widgets/controls",
      "_view_module_version": "1.5.0",
      "_view_name": "ProgressView",
      "bar_style": "success",
      "description": "",
      "description_tooltip": null,
      "layout": "IPY_MODEL_3e01406b94574a9cbd8cee9635435a3a",
      "max": 466062,
      "min": 0,
      "orientation": "horizontal",
      "style": "IPY_MODEL_6ae494790bcf4194aa266dadfe96d5c8",
      "value": 466062
     }
    },
    "f44ac8133fcc463d93d76b7c2e1cc4c4": {
     "model_module": "@jupyter-widgets/controls",
     "model_module_version": "1.5.0",
     "model_name": "HTMLModel",
     "state": {
      "_dom_classes": [],
      "_model_module": "@jupyter-widgets/controls",
      "_model_module_version": "1.5.0",
      "_model_name": "HTMLModel",
      "_view_count": null,
      "_view_module": "@jupyter-widgets/controls",
      "_view_module_version": "1.5.0",
      "_view_name": "HTMLView",
      "description": "",
      "description_tooltip": null,
      "layout": "IPY_MODEL_b8eecfaa3bc34fdb9110fde5864b89da",
      "placeholder": "​",
      "style": "IPY_MODEL_38f9128f6bc341cea95eb6fdcf657cdc",
      "value": " 72/72 [00:34&lt;00:00,  2.13ba/s]"
     }
    },
    "f960adfc410f49f7989d308750a8c8fe": {
     "model_module": "@jupyter-widgets/base",
     "model_module_version": "1.2.0",
     "model_name": "LayoutModel",
     "state": {
      "_model_module": "@jupyter-widgets/base",
      "_model_module_version": "1.2.0",
      "_model_name": "LayoutModel",
      "_view_count": null,
      "_view_module": "@jupyter-widgets/base",
      "_view_module_version": "1.2.0",
      "_view_name": "LayoutView",
      "align_content": null,
      "align_items": null,
      "align_self": null,
      "border": null,
      "bottom": null,
      "display": null,
      "flex": null,
      "flex_flow": null,
      "grid_area": null,
      "grid_auto_columns": null,
      "grid_auto_flow": null,
      "grid_auto_rows": null,
      "grid_column": null,
      "grid_gap": null,
      "grid_row": null,
      "grid_template_areas": null,
      "grid_template_columns": null,
      "grid_template_rows": null,
      "height": null,
      "justify_content": null,
      "justify_items": null,
      "left": null,
      "margin": null,
      "max_height": null,
      "max_width": null,
      "min_height": null,
      "min_width": null,
      "object_fit": null,
      "object_position": null,
      "order": null,
      "overflow": null,
      "overflow_x": null,
      "overflow_y": null,
      "padding": null,
      "right": null,
      "top": null,
      "visibility": null,
      "width": null
     }
    },
    "f9e52a74fa764f9f9f3513c890cf87ee": {
     "model_module": "@jupyter-widgets/controls",
     "model_module_version": "1.5.0",
     "model_name": "HBoxModel",
     "state": {
      "_dom_classes": [],
      "_model_module": "@jupyter-widgets/controls",
      "_model_module_version": "1.5.0",
      "_model_name": "HBoxModel",
      "_view_count": null,
      "_view_module": "@jupyter-widgets/controls",
      "_view_module_version": "1.5.0",
      "_view_name": "HBoxView",
      "box_style": "",
      "children": [
       "IPY_MODEL_945f2d7383f24592aa346cb9de625567",
       "IPY_MODEL_d9a2b1d92e534de381f9222bdc5a5100",
       "IPY_MODEL_347f86e41cf1445d92afeb3699f984e8"
      ],
      "layout": "IPY_MODEL_ca65cb9c7b4b4612965aea1b0fe25433"
     }
    },
    "fa6c9c457eed44a2b7e40d5eb88c908f": {
     "model_module": "@jupyter-widgets/base",
     "model_module_version": "1.2.0",
     "model_name": "LayoutModel",
     "state": {
      "_model_module": "@jupyter-widgets/base",
      "_model_module_version": "1.2.0",
      "_model_name": "LayoutModel",
      "_view_count": null,
      "_view_module": "@jupyter-widgets/base",
      "_view_module_version": "1.2.0",
      "_view_name": "LayoutView",
      "align_content": null,
      "align_items": null,
      "align_self": null,
      "border": null,
      "bottom": null,
      "display": null,
      "flex": null,
      "flex_flow": null,
      "grid_area": null,
      "grid_auto_columns": null,
      "grid_auto_flow": null,
      "grid_auto_rows": null,
      "grid_column": null,
      "grid_gap": null,
      "grid_row": null,
      "grid_template_areas": null,
      "grid_template_columns": null,
      "grid_template_rows": null,
      "height": null,
      "justify_content": null,
      "justify_items": null,
      "left": null,
      "margin": null,
      "max_height": null,
      "max_width": null,
      "min_height": null,
      "min_width": null,
      "object_fit": null,
      "object_position": null,
      "order": null,
      "overflow": null,
      "overflow_x": null,
      "overflow_y": null,
      "padding": null,
      "right": null,
      "top": null,
      "visibility": null,
      "width": null
     }
    },
    "fad96a3d7c7642fbb30ccc4a6d83f398": {
     "model_module": "@jupyter-widgets/controls",
     "model_module_version": "1.5.0",
     "model_name": "HTMLModel",
     "state": {
      "_dom_classes": [],
      "_model_module": "@jupyter-widgets/controls",
      "_model_module_version": "1.5.0",
      "_model_name": "HTMLModel",
      "_view_count": null,
      "_view_module": "@jupyter-widgets/controls",
      "_view_module_version": "1.5.0",
      "_view_name": "HTMLView",
      "description": "",
      "description_tooltip": null,
      "layout": "IPY_MODEL_5cc71f962fb64ef7bd6000aa18c48ed2",
      "placeholder": "​",
      "style": "IPY_MODEL_a0a6138b9b9e4f6583e83fb8de8678ed",
      "value": "Downloading: 100%"
     }
    },
    "fcca736a70db41c4868e763e1dcd70eb": {
     "model_module": "@jupyter-widgets/controls",
     "model_module_version": "1.5.0",
     "model_name": "DescriptionStyleModel",
     "state": {
      "_model_module": "@jupyter-widgets/controls",
      "_model_module_version": "1.5.0",
      "_model_name": "DescriptionStyleModel",
      "_view_count": null,
      "_view_module": "@jupyter-widgets/base",
      "_view_module_version": "1.2.0",
      "_view_name": "StyleView",
      "description_width": ""
     }
    },
    "ffe192b8b3314efe9b171217a885b8ad": {
     "model_module": "@jupyter-widgets/base",
     "model_module_version": "1.2.0",
     "model_name": "LayoutModel",
     "state": {
      "_model_module": "@jupyter-widgets/base",
      "_model_module_version": "1.2.0",
      "_model_name": "LayoutModel",
      "_view_count": null,
      "_view_module": "@jupyter-widgets/base",
      "_view_module_version": "1.2.0",
      "_view_name": "LayoutView",
      "align_content": null,
      "align_items": null,
      "align_self": null,
      "border": null,
      "bottom": null,
      "display": null,
      "flex": null,
      "flex_flow": null,
      "grid_area": null,
      "grid_auto_columns": null,
      "grid_auto_flow": null,
      "grid_auto_rows": null,
      "grid_column": null,
      "grid_gap": null,
      "grid_row": null,
      "grid_template_areas": null,
      "grid_template_columns": null,
      "grid_template_rows": null,
      "height": null,
      "justify_content": null,
      "justify_items": null,
      "left": null,
      "margin": null,
      "max_height": null,
      "max_width": null,
      "min_height": null,
      "min_width": null,
      "object_fit": null,
      "object_position": null,
      "order": null,
      "overflow": null,
      "overflow_x": null,
      "overflow_y": null,
      "padding": null,
      "right": null,
      "top": null,
      "visibility": null,
      "width": null
     }
    }
   }
  }
 },
 "nbformat": 4,
 "nbformat_minor": 1
}
